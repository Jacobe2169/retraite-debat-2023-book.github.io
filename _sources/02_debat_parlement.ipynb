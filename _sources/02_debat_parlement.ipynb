{
 "cells": [
  {
   "cell_type": "markdown",
   "metadata": {},
   "source": [
    "(file-types:notebooks)=\n",
    "# La réforme des retraites à l'Assemblée Nationale\n",
    "\n",
    "## Introduction\n",
    "Si le gouvernement a utilisé l'article 49.3, la loi a toute fois était débattu en première lecture à l'assemblée nationale du 6 février au 17 février. Depuis 2017, il est possible d'avoir accès sur le site de l'assemblée national au retranscription des séances publiques de l'Assemblée Nationale. A ce jour, il n'existe pas de solutions pour télécharger ces transcriptions dans un (ou plusieurs) fichiers de données (csv, xlsx, etc...). Une des possibilités est d'utiliser le *web-scrapping* qui consiste à extraire des informations directement du code HTML d'une page web. Ici, ces pages webs correspondront aux transcriptions de chaque séances. Le script Python pour scrapper le site de l'assemblée nationale est disponible [ici](https://github.com/Jacobe2169/debat_parlement_text_analysis/blob/master/1_get_transcript_seance_assemblee.py).\n",
    "\n",
    "\n",
    "## Chargement des données\n",
    "\n",
    "Pour commencer, nous chargeons plusieurs modules/librairies permettant de charger les données et produire les différentes visualisations."
   ]
  },
  {
   "cell_type": "code",
   "execution_count": 1,
   "metadata": {},
   "outputs": [
    {
     "data": {
      "application/javascript": "(function(root) {\n  function now() {\n    return new Date();\n  }\n\n  const force = true;\n\n  if (typeof root._bokeh_onload_callbacks === \"undefined\" || force === true) {\n    root._bokeh_onload_callbacks = [];\n    root._bokeh_is_loading = undefined;\n  }\n\nconst JS_MIME_TYPE = 'application/javascript';\n  const HTML_MIME_TYPE = 'text/html';\n  const EXEC_MIME_TYPE = 'application/vnd.bokehjs_exec.v0+json';\n  const CLASS_NAME = 'output_bokeh rendered_html';\n\n  /**\n   * Render data to the DOM node\n   */\n  function render(props, node) {\n    const script = document.createElement(\"script\");\n    node.appendChild(script);\n  }\n\n  /**\n   * Handle when an output is cleared or removed\n   */\n  function handleClearOutput(event, handle) {\n    const cell = handle.cell;\n\n    const id = cell.output_area._bokeh_element_id;\n    const server_id = cell.output_area._bokeh_server_id;\n    // Clean up Bokeh references\n    if (id != null && id in Bokeh.index) {\n      Bokeh.index[id].model.document.clear();\n      delete Bokeh.index[id];\n    }\n\n    if (server_id !== undefined) {\n      // Clean up Bokeh references\n      const cmd_clean = \"from bokeh.io.state import curstate; print(curstate().uuid_to_server['\" + server_id + \"'].get_sessions()[0].document.roots[0]._id)\";\n      cell.notebook.kernel.execute(cmd_clean, {\n        iopub: {\n          output: function(msg) {\n            const id = msg.content.text.trim();\n            if (id in Bokeh.index) {\n              Bokeh.index[id].model.document.clear();\n              delete Bokeh.index[id];\n            }\n          }\n        }\n      });\n      // Destroy server and session\n      const cmd_destroy = \"import bokeh.io.notebook as ion; ion.destroy_server('\" + server_id + \"')\";\n      cell.notebook.kernel.execute(cmd_destroy);\n    }\n  }\n\n  /**\n   * Handle when a new output is added\n   */\n  function handleAddOutput(event, handle) {\n    const output_area = handle.output_area;\n    const output = handle.output;\n\n    // limit handleAddOutput to display_data with EXEC_MIME_TYPE content only\n    if ((output.output_type != \"display_data\") || (!Object.prototype.hasOwnProperty.call(output.data, EXEC_MIME_TYPE))) {\n      return\n    }\n\n    const toinsert = output_area.element.find(\".\" + CLASS_NAME.split(' ')[0]);\n\n    if (output.metadata[EXEC_MIME_TYPE][\"id\"] !== undefined) {\n      toinsert[toinsert.length - 1].firstChild.textContent = output.data[JS_MIME_TYPE];\n      // store reference to embed id on output_area\n      output_area._bokeh_element_id = output.metadata[EXEC_MIME_TYPE][\"id\"];\n    }\n    if (output.metadata[EXEC_MIME_TYPE][\"server_id\"] !== undefined) {\n      const bk_div = document.createElement(\"div\");\n      bk_div.innerHTML = output.data[HTML_MIME_TYPE];\n      const script_attrs = bk_div.children[0].attributes;\n      for (let i = 0; i < script_attrs.length; i++) {\n        toinsert[toinsert.length - 1].firstChild.setAttribute(script_attrs[i].name, script_attrs[i].value);\n        toinsert[toinsert.length - 1].firstChild.textContent = bk_div.children[0].textContent\n      }\n      // store reference to server id on output_area\n      output_area._bokeh_server_id = output.metadata[EXEC_MIME_TYPE][\"server_id\"];\n    }\n  }\n\n  function register_renderer(events, OutputArea) {\n\n    function append_mime(data, metadata, element) {\n      // create a DOM node to render to\n      const toinsert = this.create_output_subarea(\n        metadata,\n        CLASS_NAME,\n        EXEC_MIME_TYPE\n      );\n      this.keyboard_manager.register_events(toinsert);\n      // Render to node\n      const props = {data: data, metadata: metadata[EXEC_MIME_TYPE]};\n      render(props, toinsert[toinsert.length - 1]);\n      element.append(toinsert);\n      return toinsert\n    }\n\n    /* Handle when an output is cleared or removed */\n    events.on('clear_output.CodeCell', handleClearOutput);\n    events.on('delete.Cell', handleClearOutput);\n\n    /* Handle when a new output is added */\n    events.on('output_added.OutputArea', handleAddOutput);\n\n    /**\n     * Register the mime type and append_mime function with output_area\n     */\n    OutputArea.prototype.register_mime_type(EXEC_MIME_TYPE, append_mime, {\n      /* Is output safe? */\n      safe: true,\n      /* Index of renderer in `output_area.display_order` */\n      index: 0\n    });\n  }\n\n  // register the mime type if in Jupyter Notebook environment and previously unregistered\n  if (root.Jupyter !== undefined) {\n    const events = require('base/js/events');\n    const OutputArea = require('notebook/js/outputarea').OutputArea;\n\n    if (OutputArea.prototype.mime_types().indexOf(EXEC_MIME_TYPE) == -1) {\n      register_renderer(events, OutputArea);\n    }\n  }\n  if (typeof (root._bokeh_timeout) === \"undefined\" || force === true) {\n    root._bokeh_timeout = Date.now() + 5000;\n    root._bokeh_failed_load = false;\n  }\n\n  const NB_LOAD_WARNING = {'data': {'text/html':\n     \"<div style='background-color: #fdd'>\\n\"+\n     \"<p>\\n\"+\n     \"BokehJS does not appear to have successfully loaded. If loading BokehJS from CDN, this \\n\"+\n     \"may be due to a slow or bad network connection. Possible fixes:\\n\"+\n     \"</p>\\n\"+\n     \"<ul>\\n\"+\n     \"<li>re-rerun `output_notebook()` to attempt to load from CDN again, or</li>\\n\"+\n     \"<li>use INLINE resources instead, as so:</li>\\n\"+\n     \"</ul>\\n\"+\n     \"<code>\\n\"+\n     \"from bokeh.resources import INLINE\\n\"+\n     \"output_notebook(resources=INLINE)\\n\"+\n     \"</code>\\n\"+\n     \"</div>\"}};\n\n  function display_loaded() {\n    const el = document.getElementById(null);\n    if (el != null) {\n      el.textContent = \"BokehJS is loading...\";\n    }\n    if (root.Bokeh !== undefined) {\n      if (el != null) {\n        el.textContent = \"BokehJS \" + root.Bokeh.version + \" successfully loaded.\";\n      }\n    } else if (Date.now() < root._bokeh_timeout) {\n      setTimeout(display_loaded, 100)\n    }\n  }\n\n  function run_callbacks() {\n    try {\n      root._bokeh_onload_callbacks.forEach(function(callback) {\n        if (callback != null)\n          callback();\n      });\n    } finally {\n      delete root._bokeh_onload_callbacks\n    }\n    console.debug(\"Bokeh: all callbacks have finished\");\n  }\n\n  function load_libs(css_urls, js_urls, callback) {\n    if (css_urls == null) css_urls = [];\n    if (js_urls == null) js_urls = [];\n\n    root._bokeh_onload_callbacks.push(callback);\n    if (root._bokeh_is_loading > 0) {\n      console.debug(\"Bokeh: BokehJS is being loaded, scheduling callback at\", now());\n      return null;\n    }\n    if (js_urls == null || js_urls.length === 0) {\n      run_callbacks();\n      return null;\n    }\n    console.debug(\"Bokeh: BokehJS not loaded, scheduling load and callback at\", now());\n    root._bokeh_is_loading = css_urls.length + js_urls.length;\n\n    function on_load() {\n      root._bokeh_is_loading--;\n      if (root._bokeh_is_loading === 0) {\n        console.debug(\"Bokeh: all BokehJS libraries/stylesheets loaded\");\n        run_callbacks()\n      }\n    }\n\n    function on_error(url) {\n      console.error(\"failed to load \" + url);\n    }\n\n    for (let i = 0; i < css_urls.length; i++) {\n      const url = css_urls[i];\n      const element = document.createElement(\"link\");\n      element.onload = on_load;\n      element.onerror = on_error.bind(null, url);\n      element.rel = \"stylesheet\";\n      element.type = \"text/css\";\n      element.href = url;\n      console.debug(\"Bokeh: injecting link tag for BokehJS stylesheet: \", url);\n      document.body.appendChild(element);\n    }\n\n    for (let i = 0; i < js_urls.length; i++) {\n      const url = js_urls[i];\n      const element = document.createElement('script');\n      element.onload = on_load;\n      element.onerror = on_error.bind(null, url);\n      element.async = false;\n      element.src = url;\n      console.debug(\"Bokeh: injecting script tag for BokehJS library: \", url);\n      document.head.appendChild(element);\n    }\n  };\n\n  function inject_raw_css(css) {\n    const element = document.createElement(\"style\");\n    element.appendChild(document.createTextNode(css));\n    document.body.appendChild(element);\n  }\n\n  const js_urls = [\"https://cdn.bokeh.org/bokeh/release/bokeh-3.1.1.min.js\", \"https://cdn.bokeh.org/bokeh/release/bokeh-gl-3.1.1.min.js\", \"https://cdn.bokeh.org/bokeh/release/bokeh-widgets-3.1.1.min.js\", \"https://cdn.bokeh.org/bokeh/release/bokeh-tables-3.1.1.min.js\", \"https://cdn.bokeh.org/bokeh/release/bokeh-mathjax-3.1.1.min.js\"];\n  const css_urls = [];\n\n  const inline_js = [    function(Bokeh) {\n      Bokeh.set_log_level(\"info\");\n    },\nfunction(Bokeh) {\n    }\n  ];\n\n  function run_inline_js() {\n    if (root.Bokeh !== undefined || force === true) {\n          for (let i = 0; i < inline_js.length; i++) {\n      inline_js[i].call(root, root.Bokeh);\n    }\n} else if (Date.now() < root._bokeh_timeout) {\n      setTimeout(run_inline_js, 100);\n    } else if (!root._bokeh_failed_load) {\n      console.log(\"Bokeh: BokehJS failed to load within specified timeout.\");\n      root._bokeh_failed_load = true;\n    } else if (force !== true) {\n      const cell = $(document.getElementById(null)).parents('.cell').data().cell;\n      cell.output_area.append_execute_result(NB_LOAD_WARNING)\n    }\n  }\n\n  if (root._bokeh_is_loading === 0) {\n    console.debug(\"Bokeh: BokehJS loaded, going straight to plotting\");\n    run_inline_js();\n  } else {\n    load_libs(css_urls, js_urls, function() {\n      console.debug(\"Bokeh: BokehJS plotting callback run at\", now());\n      run_inline_js();\n    });\n  }\n}(window));",
      "application/vnd.bokehjs_load.v0+json": ""
     },
     "metadata": {},
     "output_type": "display_data"
    }
   ],
   "source": [
    "import pandas as pd\n",
    "import plotly.express as px\n",
    "from lib.figures import *\n",
    "from lib.constant import *\n",
    "from lib.utils import *\n",
    "from bokeh.io import output_notebook\n",
    "output_notebook(hide_banner=True)"
   ]
  },
  {
   "cell_type": "markdown",
   "metadata": {},
   "source": [
    "Une fois le chargement des modules effectués, nous chargons les données dans la *dataframe* (ou table de données) `parlement_df`."
   ]
  },
  {
   "cell_type": "code",
   "execution_count": 2,
   "metadata": {},
   "outputs": [
    {
     "data": {
      "text/html": [
       "<div>\n",
       "<style scoped>\n",
       "    .dataframe tbody tr th:only-of-type {\n",
       "        vertical-align: middle;\n",
       "    }\n",
       "\n",
       "    .dataframe tbody tr th {\n",
       "        vertical-align: top;\n",
       "    }\n",
       "\n",
       "    .dataframe thead th {\n",
       "        text-align: right;\n",
       "    }\n",
       "</style>\n",
       "<table border=\"1\" class=\"dataframe\">\n",
       "  <thead>\n",
       "    <tr style=\"text-align: right;\">\n",
       "      <th></th>\n",
       "      <th>seance_number</th>\n",
       "      <th>full_text</th>\n",
       "      <th>section</th>\n",
       "      <th>subsection</th>\n",
       "      <th>date</th>\n",
       "      <th>username</th>\n",
       "      <th>groupe_sigle</th>\n",
       "      <th>len_intervention</th>\n",
       "      <th>lemmatization</th>\n",
       "      <th>keywords_detected</th>\n",
       "      <th>is_keywords</th>\n",
       "      <th>is_keywords_label</th>\n",
       "    </tr>\n",
       "  </thead>\n",
       "  <tbody>\n",
       "    <tr>\n",
       "      <th>0</th>\n",
       "      <td>1</td>\n",
       "      <td>La parole est à M. le ministre du travail, du ...</td>\n",
       "      <td>Projet de loi de financement rectificative de...</td>\n",
       "      <td>Présentation</td>\n",
       "      <td>2023-02-06</td>\n",
       "      <td>GOV</td>\n",
       "      <td>GOV</td>\n",
       "      <td>185</td>\n",
       "      <td>le parole être à m. le ministre de travail , d...</td>\n",
       "      <td>[travail, plein emploi, commission de affaire ...</td>\n",
       "      <td>True</td>\n",
       "      <td>Oui</td>\n",
       "    </tr>\n",
       "    <tr>\n",
       "      <th>1</th>\n",
       "      <td>1</td>\n",
       "      <td>Avec tout le respect que je vous porte, madame...</td>\n",
       "      <td>Projet de loi de financement rectificative de...</td>\n",
       "      <td>Présentation</td>\n",
       "      <td>2023-02-06</td>\n",
       "      <td>valerie-rabault</td>\n",
       "      <td>SER</td>\n",
       "      <td>277</td>\n",
       "      <td>avec tout le respect que je vous porte , monsi...</td>\n",
       "      <td>[article 122, motion référendaire, vote, ratio...</td>\n",
       "      <td>True</td>\n",
       "      <td>Oui</td>\n",
       "    </tr>\n",
       "    <tr>\n",
       "      <th>2</th>\n",
       "      <td>1</td>\n",
       "      <td>Le pays tout entier a dit, sur tous les tons, ...</td>\n",
       "      <td>Projet de loi de financement rectificative de...</td>\n",
       "      <td>Présentation</td>\n",
       "      <td>2023-02-06</td>\n",
       "      <td>raquel-garrido</td>\n",
       "      <td>LFI</td>\n",
       "      <td>375</td>\n",
       "      <td>le pays tout entier avoir dire , sur tout le t...</td>\n",
       "      <td>[article 122, motion référendaire, pays, retra...</td>\n",
       "      <td>True</td>\n",
       "      <td>Oui</td>\n",
       "    </tr>\n",
       "    <tr>\n",
       "      <th>3</th>\n",
       "      <td>1</td>\n",
       "      <td>Contrairement à tout usage, et devant le silen...</td>\n",
       "      <td>Projet de loi de financement rectificative de...</td>\n",
       "      <td>Présentation</td>\n",
       "      <td>2023-02-06</td>\n",
       "      <td>sebastien-jumel</td>\n",
       "      <td>GDR</td>\n",
       "      <td>248</td>\n",
       "      <td>contrairement à tout usage , et devant le sile...</td>\n",
       "      <td>[article 122, motion référendaire, effet, réfo...</td>\n",
       "      <td>True</td>\n",
       "      <td>Oui</td>\n",
       "    </tr>\n",
       "    <tr>\n",
       "      <th>4</th>\n",
       "      <td>1</td>\n",
       "      <td>Le débat qui nous occupe, et qui pourrait abou...</td>\n",
       "      <td>Projet de loi de financement rectificative de...</td>\n",
       "      <td>Présentation</td>\n",
       "      <td>2023-02-06</td>\n",
       "      <td>benjamin-lucas</td>\n",
       "      <td>ECO</td>\n",
       "      <td>339</td>\n",
       "      <td>le débat qui nous occupe , et qui pouvoir abou...</td>\n",
       "      <td>[motion référendaire, pays, démocratie, vie en...</td>\n",
       "      <td>True</td>\n",
       "      <td>Oui</td>\n",
       "    </tr>\n",
       "  </tbody>\n",
       "</table>\n",
       "</div>"
      ],
      "text/plain": [
       "   seance_number                                          full_text  \\\n",
       "0              1  La parole est à M. le ministre du travail, du ...   \n",
       "1              1  Avec tout le respect que je vous porte, madame...   \n",
       "2              1  Le pays tout entier a dit, sur tous les tons, ...   \n",
       "3              1  Contrairement à tout usage, et devant le silen...   \n",
       "4              1  Le débat qui nous occupe, et qui pourrait abou...   \n",
       "\n",
       "                                             section    subsection  \\\n",
       "0   Projet de loi de financement rectificative de...  Présentation   \n",
       "1   Projet de loi de financement rectificative de...  Présentation   \n",
       "2   Projet de loi de financement rectificative de...  Présentation   \n",
       "3   Projet de loi de financement rectificative de...  Présentation   \n",
       "4   Projet de loi de financement rectificative de...  Présentation   \n",
       "\n",
       "         date         username groupe_sigle  len_intervention  \\\n",
       "0  2023-02-06              GOV          GOV               185   \n",
       "1  2023-02-06  valerie-rabault          SER               277   \n",
       "2  2023-02-06   raquel-garrido          LFI               375   \n",
       "3  2023-02-06  sebastien-jumel          GDR               248   \n",
       "4  2023-02-06   benjamin-lucas          ECO               339   \n",
       "\n",
       "                                       lemmatization  \\\n",
       "0  le parole être à m. le ministre de travail , d...   \n",
       "1  avec tout le respect que je vous porte , monsi...   \n",
       "2  le pays tout entier avoir dire , sur tout le t...   \n",
       "3  contrairement à tout usage , et devant le sile...   \n",
       "4  le débat qui nous occupe , et qui pouvoir abou...   \n",
       "\n",
       "                                   keywords_detected  is_keywords  \\\n",
       "0  [travail, plein emploi, commission de affaire ...         True   \n",
       "1  [article 122, motion référendaire, vote, ratio...         True   \n",
       "2  [article 122, motion référendaire, pays, retra...         True   \n",
       "3  [article 122, motion référendaire, effet, réfo...         True   \n",
       "4  [motion référendaire, pays, démocratie, vie en...         True   \n",
       "\n",
       "  is_keywords_label  \n",
       "0               Oui  \n",
       "1               Oui  \n",
       "2               Oui  \n",
       "3               Oui  \n",
       "4               Oui  "
      ]
     },
     "execution_count": 2,
     "metadata": {},
     "output_type": "execute_result"
    }
   ],
   "source": [
    "\n",
    "\n",
    "parlement_df = pd.read_parquet('data/parlement_retraite_data.parquet')\n",
    "parlement_df[\"is_keywords_label\"] = parlement_df.is_keywords.apply(lambda x: \"Oui\" if x else \"Non\")\n",
    "parlement_df.head()"
   ]
  },
  {
   "cell_type": "code",
   "execution_count": 3,
   "metadata": {},
   "outputs": [
    {
     "data": {
      "application/vnd.plotly.v1+json": {
       "config": {
        "plotlyServerURL": "https://plot.ly"
       },
       "data": [
        {
         "alignmentgroup": "True",
         "hovertemplate": "groupe_sigle=%{x}<br>len_intervention=%{y}<extra></extra>",
         "legendgroup": "ECO",
         "marker": {
          "color": "#009432",
          "pattern": {
           "shape": ""
          }
         },
         "name": "ECO",
         "offsetgroup": "ECO",
         "orientation": "v",
         "showlegend": true,
         "textposition": "auto",
         "type": "bar",
         "x": [
          "ECO"
         ],
         "xaxis": "x",
         "y": [
          215.06315789473683
         ],
         "yaxis": "y"
        },
        {
         "alignmentgroup": "True",
         "hovertemplate": "groupe_sigle=%{x}<br>len_intervention=%{y}<extra></extra>",
         "legendgroup": "GDR",
         "marker": {
          "color": "#EA2027",
          "pattern": {
           "shape": ""
          }
         },
         "name": "GDR",
         "offsetgroup": "GDR",
         "orientation": "v",
         "showlegend": true,
         "textposition": "auto",
         "type": "bar",
         "x": [
          "GDR"
         ],
         "xaxis": "x",
         "y": [
          237.40350877192984
         ],
         "yaxis": "y"
        },
        {
         "alignmentgroup": "True",
         "hovertemplate": "groupe_sigle=%{x}<br>len_intervention=%{y}<extra></extra>",
         "legendgroup": "GOV",
         "marker": {
          "color": "#6F1E51",
          "pattern": {
           "shape": ""
          }
         },
         "name": "GOV",
         "offsetgroup": "GOV",
         "orientation": "v",
         "showlegend": true,
         "textposition": "auto",
         "type": "bar",
         "x": [
          "GOV"
         ],
         "xaxis": "x",
         "y": [
          145.67157894736843
         ],
         "yaxis": "y"
        },
        {
         "alignmentgroup": "True",
         "hovertemplate": "groupe_sigle=%{x}<br>len_intervention=%{y}<extra></extra>",
         "legendgroup": "HOR",
         "marker": {
          "color": "#1B1464",
          "pattern": {
           "shape": ""
          }
         },
         "name": "HOR",
         "offsetgroup": "HOR",
         "orientation": "v",
         "showlegend": true,
         "textposition": "auto",
         "type": "bar",
         "x": [
          "HOR"
         ],
         "xaxis": "x",
         "y": [
          182.125
         ],
         "yaxis": "y"
        },
        {
         "alignmentgroup": "True",
         "hovertemplate": "groupe_sigle=%{x}<br>len_intervention=%{y}<extra></extra>",
         "legendgroup": "LFI",
         "marker": {
          "color": "#c0392b",
          "pattern": {
           "shape": ""
          }
         },
         "name": "LFI",
         "offsetgroup": "LFI",
         "orientation": "v",
         "showlegend": true,
         "textposition": "auto",
         "type": "bar",
         "x": [
          "LFI"
         ],
         "xaxis": "x",
         "y": [
          269.75233644859816
         ],
         "yaxis": "y"
        },
        {
         "alignmentgroup": "True",
         "hovertemplate": "groupe_sigle=%{x}<br>len_intervention=%{y}<extra></extra>",
         "legendgroup": "LIOT",
         "marker": {
          "color": "#2ecc71",
          "pattern": {
           "shape": ""
          }
         },
         "name": "LIOT",
         "offsetgroup": "LIOT",
         "orientation": "v",
         "showlegend": true,
         "textposition": "auto",
         "type": "bar",
         "x": [
          "LIOT"
         ],
         "xaxis": "x",
         "y": [
          199.27272727272728
         ],
         "yaxis": "y"
        },
        {
         "alignmentgroup": "True",
         "hovertemplate": "groupe_sigle=%{x}<br>len_intervention=%{y}<extra></extra>",
         "legendgroup": "LR",
         "marker": {
          "color": "#2980b9",
          "pattern": {
           "shape": ""
          }
         },
         "name": "LR",
         "offsetgroup": "LR",
         "orientation": "v",
         "showlegend": true,
         "textposition": "auto",
         "type": "bar",
         "x": [
          "LR"
         ],
         "xaxis": "x",
         "y": [
          196.23809523809524
         ],
         "yaxis": "y"
        },
        {
         "alignmentgroup": "True",
         "hovertemplate": "groupe_sigle=%{x}<br>len_intervention=%{y}<extra></extra>",
         "legendgroup": "MODEM",
         "marker": {
          "color": "#e67e22",
          "pattern": {
           "shape": ""
          }
         },
         "name": "MODEM",
         "offsetgroup": "MODEM",
         "orientation": "v",
         "showlegend": true,
         "textposition": "auto",
         "type": "bar",
         "x": [
          "MODEM"
         ],
         "xaxis": "x",
         "y": [
          208.96
         ],
         "yaxis": "y"
        },
        {
         "alignmentgroup": "True",
         "hovertemplate": "groupe_sigle=%{x}<br>len_intervention=%{y}<extra></extra>",
         "legendgroup": "NI",
         "marker": {
          "color": "#95a5a6",
          "pattern": {
           "shape": ""
          }
         },
         "name": "NI",
         "offsetgroup": "NI",
         "orientation": "v",
         "showlegend": true,
         "textposition": "auto",
         "type": "bar",
         "x": [
          "NI"
         ],
         "xaxis": "x",
         "y": [
          328.3333333333333
         ],
         "yaxis": "y"
        },
        {
         "alignmentgroup": "True",
         "hovertemplate": "groupe_sigle=%{x}<br>len_intervention=%{y}<extra></extra>",
         "legendgroup": "REN",
         "marker": {
          "color": "#3498db",
          "pattern": {
           "shape": ""
          }
         },
         "name": "REN",
         "offsetgroup": "REN",
         "orientation": "v",
         "showlegend": true,
         "textposition": "auto",
         "type": "bar",
         "x": [
          "REN"
         ],
         "xaxis": "x",
         "y": [
          166.23722627737226
         ],
         "yaxis": "y"
        },
        {
         "alignmentgroup": "True",
         "hovertemplate": "groupe_sigle=%{x}<br>len_intervention=%{y}<extra></extra>",
         "legendgroup": "RN",
         "marker": {
          "color": "#2c3e50",
          "pattern": {
           "shape": ""
          }
         },
         "name": "RN",
         "offsetgroup": "RN",
         "orientation": "v",
         "showlegend": true,
         "textposition": "auto",
         "type": "bar",
         "x": [
          "RN"
         ],
         "xaxis": "x",
         "y": [
          236.4950495049505
         ],
         "yaxis": "y"
        },
        {
         "alignmentgroup": "True",
         "hovertemplate": "groupe_sigle=%{x}<br>len_intervention=%{y}<extra></extra>",
         "legendgroup": "RRDP",
         "marker": {
          "color": "#FFC312",
          "pattern": {
           "shape": ""
          }
         },
         "name": "RRDP",
         "offsetgroup": "RRDP",
         "orientation": "v",
         "showlegend": true,
         "textposition": "auto",
         "type": "bar",
         "x": [
          "RRDP"
         ],
         "xaxis": "x",
         "y": [
          87
         ],
         "yaxis": "y"
        },
        {
         "alignmentgroup": "True",
         "hovertemplate": "groupe_sigle=%{x}<br>len_intervention=%{y}<extra></extra>",
         "legendgroup": "SER",
         "marker": {
          "color": "#e74c3c",
          "pattern": {
           "shape": ""
          }
         },
         "name": "SER",
         "offsetgroup": "SER",
         "orientation": "v",
         "showlegend": true,
         "textposition": "auto",
         "type": "bar",
         "x": [
          "SER"
         ],
         "xaxis": "x",
         "y": [
          221.83870967741936
         ],
         "yaxis": "y"
        },
        {
         "alignmentgroup": "True",
         "hovertemplate": "groupe_sigle=%{x}<br>len_intervention=%{y}<extra></extra>",
         "legendgroup": "SOC",
         "marker": {
          "color": "#ED4C67",
          "pattern": {
           "shape": ""
          }
         },
         "name": "SOC",
         "offsetgroup": "SOC",
         "orientation": "v",
         "showlegend": true,
         "textposition": "auto",
         "type": "bar",
         "x": [
          "SOC"
         ],
         "xaxis": "x",
         "y": [
          221.56
         ],
         "yaxis": "y"
        },
        {
         "alignmentgroup": "True",
         "hovertemplate": "groupe_sigle=%{x}<br>len_intervention=%{y}<extra></extra>",
         "legendgroup": "UDI",
         "marker": {
          "color": "#9b59b6",
          "pattern": {
           "shape": ""
          }
         },
         "name": "UDI",
         "offsetgroup": "UDI",
         "orientation": "v",
         "showlegend": true,
         "textposition": "auto",
         "type": "bar",
         "x": [
          "UDI"
         ],
         "xaxis": "x",
         "y": [
          237.66037735849056
         ],
         "yaxis": "y"
        }
       ],
       "layout": {
        "barmode": "relative",
        "legend": {
         "title": {
          "text": "groupe_sigle"
         },
         "tracegroupgap": 0
        },
        "margin": {
         "t": 60
        },
        "showlegend": false,
        "template": {
         "data": {
          "bar": [
           {
            "error_x": {
             "color": "#2a3f5f"
            },
            "error_y": {
             "color": "#2a3f5f"
            },
            "marker": {
             "line": {
              "color": "#E5ECF6",
              "width": 0.5
             },
             "pattern": {
              "fillmode": "overlay",
              "size": 10,
              "solidity": 0.2
             }
            },
            "type": "bar"
           }
          ],
          "barpolar": [
           {
            "marker": {
             "line": {
              "color": "#E5ECF6",
              "width": 0.5
             },
             "pattern": {
              "fillmode": "overlay",
              "size": 10,
              "solidity": 0.2
             }
            },
            "type": "barpolar"
           }
          ],
          "carpet": [
           {
            "aaxis": {
             "endlinecolor": "#2a3f5f",
             "gridcolor": "white",
             "linecolor": "white",
             "minorgridcolor": "white",
             "startlinecolor": "#2a3f5f"
            },
            "baxis": {
             "endlinecolor": "#2a3f5f",
             "gridcolor": "white",
             "linecolor": "white",
             "minorgridcolor": "white",
             "startlinecolor": "#2a3f5f"
            },
            "type": "carpet"
           }
          ],
          "choropleth": [
           {
            "colorbar": {
             "outlinewidth": 0,
             "ticks": ""
            },
            "type": "choropleth"
           }
          ],
          "contour": [
           {
            "colorbar": {
             "outlinewidth": 0,
             "ticks": ""
            },
            "colorscale": [
             [
              0,
              "#0d0887"
             ],
             [
              0.1111111111111111,
              "#46039f"
             ],
             [
              0.2222222222222222,
              "#7201a8"
             ],
             [
              0.3333333333333333,
              "#9c179e"
             ],
             [
              0.4444444444444444,
              "#bd3786"
             ],
             [
              0.5555555555555556,
              "#d8576b"
             ],
             [
              0.6666666666666666,
              "#ed7953"
             ],
             [
              0.7777777777777778,
              "#fb9f3a"
             ],
             [
              0.8888888888888888,
              "#fdca26"
             ],
             [
              1,
              "#f0f921"
             ]
            ],
            "type": "contour"
           }
          ],
          "contourcarpet": [
           {
            "colorbar": {
             "outlinewidth": 0,
             "ticks": ""
            },
            "type": "contourcarpet"
           }
          ],
          "heatmap": [
           {
            "colorbar": {
             "outlinewidth": 0,
             "ticks": ""
            },
            "colorscale": [
             [
              0,
              "#0d0887"
             ],
             [
              0.1111111111111111,
              "#46039f"
             ],
             [
              0.2222222222222222,
              "#7201a8"
             ],
             [
              0.3333333333333333,
              "#9c179e"
             ],
             [
              0.4444444444444444,
              "#bd3786"
             ],
             [
              0.5555555555555556,
              "#d8576b"
             ],
             [
              0.6666666666666666,
              "#ed7953"
             ],
             [
              0.7777777777777778,
              "#fb9f3a"
             ],
             [
              0.8888888888888888,
              "#fdca26"
             ],
             [
              1,
              "#f0f921"
             ]
            ],
            "type": "heatmap"
           }
          ],
          "heatmapgl": [
           {
            "colorbar": {
             "outlinewidth": 0,
             "ticks": ""
            },
            "colorscale": [
             [
              0,
              "#0d0887"
             ],
             [
              0.1111111111111111,
              "#46039f"
             ],
             [
              0.2222222222222222,
              "#7201a8"
             ],
             [
              0.3333333333333333,
              "#9c179e"
             ],
             [
              0.4444444444444444,
              "#bd3786"
             ],
             [
              0.5555555555555556,
              "#d8576b"
             ],
             [
              0.6666666666666666,
              "#ed7953"
             ],
             [
              0.7777777777777778,
              "#fb9f3a"
             ],
             [
              0.8888888888888888,
              "#fdca26"
             ],
             [
              1,
              "#f0f921"
             ]
            ],
            "type": "heatmapgl"
           }
          ],
          "histogram": [
           {
            "marker": {
             "pattern": {
              "fillmode": "overlay",
              "size": 10,
              "solidity": 0.2
             }
            },
            "type": "histogram"
           }
          ],
          "histogram2d": [
           {
            "colorbar": {
             "outlinewidth": 0,
             "ticks": ""
            },
            "colorscale": [
             [
              0,
              "#0d0887"
             ],
             [
              0.1111111111111111,
              "#46039f"
             ],
             [
              0.2222222222222222,
              "#7201a8"
             ],
             [
              0.3333333333333333,
              "#9c179e"
             ],
             [
              0.4444444444444444,
              "#bd3786"
             ],
             [
              0.5555555555555556,
              "#d8576b"
             ],
             [
              0.6666666666666666,
              "#ed7953"
             ],
             [
              0.7777777777777778,
              "#fb9f3a"
             ],
             [
              0.8888888888888888,
              "#fdca26"
             ],
             [
              1,
              "#f0f921"
             ]
            ],
            "type": "histogram2d"
           }
          ],
          "histogram2dcontour": [
           {
            "colorbar": {
             "outlinewidth": 0,
             "ticks": ""
            },
            "colorscale": [
             [
              0,
              "#0d0887"
             ],
             [
              0.1111111111111111,
              "#46039f"
             ],
             [
              0.2222222222222222,
              "#7201a8"
             ],
             [
              0.3333333333333333,
              "#9c179e"
             ],
             [
              0.4444444444444444,
              "#bd3786"
             ],
             [
              0.5555555555555556,
              "#d8576b"
             ],
             [
              0.6666666666666666,
              "#ed7953"
             ],
             [
              0.7777777777777778,
              "#fb9f3a"
             ],
             [
              0.8888888888888888,
              "#fdca26"
             ],
             [
              1,
              "#f0f921"
             ]
            ],
            "type": "histogram2dcontour"
           }
          ],
          "mesh3d": [
           {
            "colorbar": {
             "outlinewidth": 0,
             "ticks": ""
            },
            "type": "mesh3d"
           }
          ],
          "parcoords": [
           {
            "line": {
             "colorbar": {
              "outlinewidth": 0,
              "ticks": ""
             }
            },
            "type": "parcoords"
           }
          ],
          "pie": [
           {
            "automargin": true,
            "type": "pie"
           }
          ],
          "scatter": [
           {
            "fillpattern": {
             "fillmode": "overlay",
             "size": 10,
             "solidity": 0.2
            },
            "type": "scatter"
           }
          ],
          "scatter3d": [
           {
            "line": {
             "colorbar": {
              "outlinewidth": 0,
              "ticks": ""
             }
            },
            "marker": {
             "colorbar": {
              "outlinewidth": 0,
              "ticks": ""
             }
            },
            "type": "scatter3d"
           }
          ],
          "scattercarpet": [
           {
            "marker": {
             "colorbar": {
              "outlinewidth": 0,
              "ticks": ""
             }
            },
            "type": "scattercarpet"
           }
          ],
          "scattergeo": [
           {
            "marker": {
             "colorbar": {
              "outlinewidth": 0,
              "ticks": ""
             }
            },
            "type": "scattergeo"
           }
          ],
          "scattergl": [
           {
            "marker": {
             "colorbar": {
              "outlinewidth": 0,
              "ticks": ""
             }
            },
            "type": "scattergl"
           }
          ],
          "scattermapbox": [
           {
            "marker": {
             "colorbar": {
              "outlinewidth": 0,
              "ticks": ""
             }
            },
            "type": "scattermapbox"
           }
          ],
          "scatterpolar": [
           {
            "marker": {
             "colorbar": {
              "outlinewidth": 0,
              "ticks": ""
             }
            },
            "type": "scatterpolar"
           }
          ],
          "scatterpolargl": [
           {
            "marker": {
             "colorbar": {
              "outlinewidth": 0,
              "ticks": ""
             }
            },
            "type": "scatterpolargl"
           }
          ],
          "scatterternary": [
           {
            "marker": {
             "colorbar": {
              "outlinewidth": 0,
              "ticks": ""
             }
            },
            "type": "scatterternary"
           }
          ],
          "surface": [
           {
            "colorbar": {
             "outlinewidth": 0,
             "ticks": ""
            },
            "colorscale": [
             [
              0,
              "#0d0887"
             ],
             [
              0.1111111111111111,
              "#46039f"
             ],
             [
              0.2222222222222222,
              "#7201a8"
             ],
             [
              0.3333333333333333,
              "#9c179e"
             ],
             [
              0.4444444444444444,
              "#bd3786"
             ],
             [
              0.5555555555555556,
              "#d8576b"
             ],
             [
              0.6666666666666666,
              "#ed7953"
             ],
             [
              0.7777777777777778,
              "#fb9f3a"
             ],
             [
              0.8888888888888888,
              "#fdca26"
             ],
             [
              1,
              "#f0f921"
             ]
            ],
            "type": "surface"
           }
          ],
          "table": [
           {
            "cells": {
             "fill": {
              "color": "#EBF0F8"
             },
             "line": {
              "color": "white"
             }
            },
            "header": {
             "fill": {
              "color": "#C8D4E3"
             },
             "line": {
              "color": "white"
             }
            },
            "type": "table"
           }
          ]
         },
         "layout": {
          "annotationdefaults": {
           "arrowcolor": "#2a3f5f",
           "arrowhead": 0,
           "arrowwidth": 1
          },
          "autotypenumbers": "strict",
          "coloraxis": {
           "colorbar": {
            "outlinewidth": 0,
            "ticks": ""
           }
          },
          "colorscale": {
           "diverging": [
            [
             0,
             "#8e0152"
            ],
            [
             0.1,
             "#c51b7d"
            ],
            [
             0.2,
             "#de77ae"
            ],
            [
             0.3,
             "#f1b6da"
            ],
            [
             0.4,
             "#fde0ef"
            ],
            [
             0.5,
             "#f7f7f7"
            ],
            [
             0.6,
             "#e6f5d0"
            ],
            [
             0.7,
             "#b8e186"
            ],
            [
             0.8,
             "#7fbc41"
            ],
            [
             0.9,
             "#4d9221"
            ],
            [
             1,
             "#276419"
            ]
           ],
           "sequential": [
            [
             0,
             "#0d0887"
            ],
            [
             0.1111111111111111,
             "#46039f"
            ],
            [
             0.2222222222222222,
             "#7201a8"
            ],
            [
             0.3333333333333333,
             "#9c179e"
            ],
            [
             0.4444444444444444,
             "#bd3786"
            ],
            [
             0.5555555555555556,
             "#d8576b"
            ],
            [
             0.6666666666666666,
             "#ed7953"
            ],
            [
             0.7777777777777778,
             "#fb9f3a"
            ],
            [
             0.8888888888888888,
             "#fdca26"
            ],
            [
             1,
             "#f0f921"
            ]
           ],
           "sequentialminus": [
            [
             0,
             "#0d0887"
            ],
            [
             0.1111111111111111,
             "#46039f"
            ],
            [
             0.2222222222222222,
             "#7201a8"
            ],
            [
             0.3333333333333333,
             "#9c179e"
            ],
            [
             0.4444444444444444,
             "#bd3786"
            ],
            [
             0.5555555555555556,
             "#d8576b"
            ],
            [
             0.6666666666666666,
             "#ed7953"
            ],
            [
             0.7777777777777778,
             "#fb9f3a"
            ],
            [
             0.8888888888888888,
             "#fdca26"
            ],
            [
             1,
             "#f0f921"
            ]
           ]
          },
          "colorway": [
           "#636efa",
           "#EF553B",
           "#00cc96",
           "#ab63fa",
           "#FFA15A",
           "#19d3f3",
           "#FF6692",
           "#B6E880",
           "#FF97FF",
           "#FECB52"
          ],
          "font": {
           "color": "#2a3f5f"
          },
          "geo": {
           "bgcolor": "white",
           "lakecolor": "white",
           "landcolor": "#E5ECF6",
           "showlakes": true,
           "showland": true,
           "subunitcolor": "white"
          },
          "hoverlabel": {
           "align": "left"
          },
          "hovermode": "closest",
          "mapbox": {
           "style": "light"
          },
          "paper_bgcolor": "white",
          "plot_bgcolor": "#E5ECF6",
          "polar": {
           "angularaxis": {
            "gridcolor": "white",
            "linecolor": "white",
            "ticks": ""
           },
           "bgcolor": "#E5ECF6",
           "radialaxis": {
            "gridcolor": "white",
            "linecolor": "white",
            "ticks": ""
           }
          },
          "scene": {
           "xaxis": {
            "backgroundcolor": "#E5ECF6",
            "gridcolor": "white",
            "gridwidth": 2,
            "linecolor": "white",
            "showbackground": true,
            "ticks": "",
            "zerolinecolor": "white"
           },
           "yaxis": {
            "backgroundcolor": "#E5ECF6",
            "gridcolor": "white",
            "gridwidth": 2,
            "linecolor": "white",
            "showbackground": true,
            "ticks": "",
            "zerolinecolor": "white"
           },
           "zaxis": {
            "backgroundcolor": "#E5ECF6",
            "gridcolor": "white",
            "gridwidth": 2,
            "linecolor": "white",
            "showbackground": true,
            "ticks": "",
            "zerolinecolor": "white"
           }
          },
          "shapedefaults": {
           "line": {
            "color": "#2a3f5f"
           }
          },
          "ternary": {
           "aaxis": {
            "gridcolor": "white",
            "linecolor": "white",
            "ticks": ""
           },
           "baxis": {
            "gridcolor": "white",
            "linecolor": "white",
            "ticks": ""
           },
           "bgcolor": "#E5ECF6",
           "caxis": {
            "gridcolor": "white",
            "linecolor": "white",
            "ticks": ""
           }
          },
          "title": {
           "x": 0.05
          },
          "xaxis": {
           "automargin": true,
           "gridcolor": "white",
           "linecolor": "white",
           "ticks": "",
           "title": {
            "standoff": 15
           },
           "zerolinecolor": "white",
           "zerolinewidth": 2
          },
          "yaxis": {
           "automargin": true,
           "gridcolor": "white",
           "linecolor": "white",
           "ticks": "",
           "title": {
            "standoff": 15
           },
           "zerolinecolor": "white",
           "zerolinewidth": 2
          }
         }
        },
        "title": {
         "text": "Nombre moyen de mots dans les interventions<br>par groupe parlementaire"
        },
        "xaxis": {
         "anchor": "y",
         "categoryarray": [
          "ECO",
          "GDR",
          "GOV",
          "HOR",
          "LFI",
          "LIOT",
          "LR",
          "MODEM",
          "NI",
          "REN",
          "RN",
          "RRDP",
          "SER",
          "SOC",
          "UDI"
         ],
         "categoryorder": "array",
         "domain": [
          0,
          1
         ],
         "title": {
          "text": "Groupe Parlementaire"
         }
        },
        "yaxis": {
         "anchor": "x",
         "domain": [
          0,
          1
         ],
         "title": {
          "text": "Average number of words per intervention"
         }
        }
       }
      }
     },
     "metadata": {},
     "output_type": "display_data"
    }
   ],
   "source": [
    "average_number_of_words_per_intervention(parlement_df)"
   ]
  },
  {
   "cell_type": "code",
   "execution_count": 4,
   "metadata": {},
   "outputs": [
    {
     "data": {
      "application/vnd.plotly.v1+json": {
       "config": {
        "plotlyServerURL": "https://plot.ly"
       },
       "data": [
        {
         "alignmentgroup": "True",
         "bingroup": "x",
         "hovertemplate": "Groupe Parlementaire=%{x}<br>count=%{y}<extra></extra>",
         "legendgroup": "GOV",
         "marker": {
          "color": "#6F1E51",
          "pattern": {
           "shape": ""
          }
         },
         "name": "GOV",
         "offsetgroup": "GOV",
         "orientation": "v",
         "showlegend": true,
         "type": "histogram",
         "x": [
          "GOV",
          "GOV",
          "GOV",
          "GOV",
          "GOV",
          "GOV",
          "GOV",
          "GOV",
          "GOV",
          "GOV",
          "GOV",
          "GOV",
          "GOV",
          "GOV",
          "GOV",
          "GOV",
          "GOV",
          "GOV",
          "GOV",
          "GOV",
          "GOV",
          "GOV",
          "GOV",
          "GOV",
          "GOV",
          "GOV",
          "GOV",
          "GOV",
          "GOV",
          "GOV",
          "GOV",
          "GOV",
          "GOV",
          "GOV",
          "GOV",
          "GOV",
          "GOV",
          "GOV",
          "GOV",
          "GOV",
          "GOV",
          "GOV",
          "GOV",
          "GOV",
          "GOV",
          "GOV",
          "GOV",
          "GOV",
          "GOV",
          "GOV",
          "GOV",
          "GOV",
          "GOV",
          "GOV",
          "GOV",
          "GOV",
          "GOV",
          "GOV",
          "GOV",
          "GOV",
          "GOV",
          "GOV",
          "GOV",
          "GOV",
          "GOV",
          "GOV",
          "GOV",
          "GOV",
          "GOV",
          "GOV",
          "GOV",
          "GOV",
          "GOV",
          "GOV",
          "GOV",
          "GOV",
          "GOV",
          "GOV",
          "GOV",
          "GOV",
          "GOV",
          "GOV",
          "GOV",
          "GOV",
          "GOV",
          "GOV",
          "GOV",
          "GOV",
          "GOV",
          "GOV",
          "GOV",
          "GOV",
          "GOV",
          "GOV",
          "GOV",
          "GOV",
          "GOV",
          "GOV",
          "GOV",
          "GOV",
          "GOV",
          "GOV",
          "GOV",
          "GOV",
          "GOV",
          "GOV",
          "GOV",
          "GOV",
          "GOV",
          "GOV",
          "GOV",
          "GOV",
          "GOV",
          "GOV",
          "GOV",
          "GOV",
          "GOV",
          "GOV",
          "GOV",
          "GOV",
          "GOV",
          "GOV",
          "GOV",
          "GOV",
          "GOV",
          "GOV",
          "GOV",
          "GOV",
          "GOV",
          "GOV",
          "GOV",
          "GOV",
          "GOV",
          "GOV",
          "GOV",
          "GOV",
          "GOV",
          "GOV",
          "GOV",
          "GOV",
          "GOV",
          "GOV",
          "GOV",
          "GOV",
          "GOV",
          "GOV",
          "GOV",
          "GOV",
          "GOV",
          "GOV",
          "GOV",
          "GOV",
          "GOV",
          "GOV",
          "GOV",
          "GOV",
          "GOV",
          "GOV",
          "GOV",
          "GOV",
          "GOV",
          "GOV",
          "GOV",
          "GOV",
          "GOV",
          "GOV",
          "GOV",
          "GOV",
          "GOV",
          "GOV",
          "GOV",
          "GOV",
          "GOV",
          "GOV",
          "GOV",
          "GOV",
          "GOV",
          "GOV",
          "GOV",
          "GOV",
          "GOV",
          "GOV",
          "GOV",
          "GOV",
          "GOV",
          "GOV",
          "GOV",
          "GOV",
          "GOV",
          "GOV",
          "GOV",
          "GOV",
          "GOV",
          "GOV",
          "GOV",
          "GOV",
          "GOV",
          "GOV",
          "GOV",
          "GOV",
          "GOV",
          "GOV",
          "GOV",
          "GOV",
          "GOV",
          "GOV",
          "GOV",
          "GOV",
          "GOV",
          "GOV",
          "GOV",
          "GOV",
          "GOV",
          "GOV",
          "GOV",
          "GOV",
          "GOV",
          "GOV",
          "GOV",
          "GOV",
          "GOV",
          "GOV",
          "GOV",
          "GOV",
          "GOV",
          "GOV",
          "GOV",
          "GOV",
          "GOV",
          "GOV",
          "GOV",
          "GOV",
          "GOV",
          "GOV",
          "GOV",
          "GOV",
          "GOV",
          "GOV",
          "GOV",
          "GOV",
          "GOV",
          "GOV",
          "GOV",
          "GOV",
          "GOV",
          "GOV",
          "GOV",
          "GOV",
          "GOV",
          "GOV",
          "GOV",
          "GOV",
          "GOV",
          "GOV",
          "GOV",
          "GOV",
          "GOV",
          "GOV",
          "GOV",
          "GOV",
          "GOV",
          "GOV",
          "GOV",
          "GOV",
          "GOV",
          "GOV",
          "GOV",
          "GOV",
          "GOV",
          "GOV",
          "GOV",
          "GOV",
          "GOV",
          "GOV",
          "GOV",
          "GOV",
          "GOV",
          "GOV",
          "GOV",
          "GOV",
          "GOV",
          "GOV",
          "GOV",
          "GOV",
          "GOV",
          "GOV",
          "GOV",
          "GOV",
          "GOV",
          "GOV",
          "GOV",
          "GOV",
          "GOV",
          "GOV",
          "GOV",
          "GOV",
          "GOV",
          "GOV",
          "GOV",
          "GOV",
          "GOV",
          "GOV",
          "GOV",
          "GOV",
          "GOV",
          "GOV",
          "GOV",
          "GOV",
          "GOV",
          "GOV",
          "GOV",
          "GOV",
          "GOV",
          "GOV",
          "GOV",
          "GOV",
          "GOV",
          "GOV",
          "GOV",
          "GOV",
          "GOV",
          "GOV",
          "GOV",
          "GOV",
          "GOV",
          "GOV",
          "GOV",
          "GOV",
          "GOV",
          "GOV",
          "GOV",
          "GOV",
          "GOV",
          "GOV",
          "GOV",
          "GOV",
          "GOV",
          "GOV",
          "GOV",
          "GOV",
          "GOV",
          "GOV",
          "GOV",
          "GOV",
          "GOV",
          "GOV",
          "GOV",
          "GOV",
          "GOV",
          "GOV",
          "GOV",
          "GOV",
          "GOV",
          "GOV",
          "GOV",
          "GOV",
          "GOV",
          "GOV",
          "GOV",
          "GOV",
          "GOV",
          "GOV",
          "GOV",
          "GOV",
          "GOV",
          "GOV",
          "GOV",
          "GOV",
          "GOV",
          "GOV",
          "GOV",
          "GOV",
          "GOV",
          "GOV",
          "GOV",
          "GOV",
          "GOV",
          "GOV",
          "GOV",
          "GOV",
          "GOV",
          "GOV",
          "GOV",
          "GOV",
          "GOV",
          "GOV",
          "GOV",
          "GOV",
          "GOV",
          "GOV",
          "GOV",
          "GOV",
          "GOV",
          "GOV",
          "GOV",
          "GOV",
          "GOV",
          "GOV",
          "GOV",
          "GOV",
          "GOV",
          "GOV",
          "GOV",
          "GOV",
          "GOV",
          "GOV",
          "GOV",
          "GOV",
          "GOV",
          "GOV",
          "GOV",
          "GOV",
          "GOV",
          "GOV",
          "GOV",
          "GOV",
          "GOV",
          "GOV",
          "GOV",
          "GOV",
          "GOV",
          "GOV",
          "GOV",
          "GOV",
          "GOV",
          "GOV",
          "GOV",
          "GOV",
          "GOV",
          "GOV",
          "GOV",
          "GOV",
          "GOV",
          "GOV",
          "GOV",
          "GOV",
          "GOV",
          "GOV",
          "GOV",
          "GOV",
          "GOV",
          "GOV",
          "GOV",
          "GOV",
          "GOV",
          "GOV",
          "GOV",
          "GOV",
          "GOV",
          "GOV",
          "GOV",
          "GOV",
          "GOV",
          "GOV",
          "GOV",
          "GOV",
          "GOV",
          "GOV",
          "GOV",
          "GOV",
          "GOV",
          "GOV",
          "GOV",
          "GOV",
          "GOV",
          "GOV",
          "GOV",
          "GOV",
          "GOV",
          "GOV",
          "GOV",
          "GOV",
          "GOV",
          "GOV",
          "GOV"
         ],
         "xaxis": "x",
         "yaxis": "y"
        },
        {
         "alignmentgroup": "True",
         "bingroup": "x",
         "hovertemplate": "Groupe Parlementaire=%{x}<br>count=%{y}<extra></extra>",
         "legendgroup": "SER",
         "marker": {
          "color": "#e74c3c",
          "pattern": {
           "shape": ""
          }
         },
         "name": "SER",
         "offsetgroup": "SER",
         "orientation": "v",
         "showlegend": true,
         "type": "histogram",
         "x": [
          "SER",
          "SER",
          "SER",
          "SER",
          "SER",
          "SER",
          "SER",
          "SER",
          "SER",
          "SER",
          "SER",
          "SER",
          "SER",
          "SER",
          "SER",
          "SER",
          "SER",
          "SER",
          "SER",
          "SER",
          "SER",
          "SER",
          "SER",
          "SER",
          "SER",
          "SER",
          "SER",
          "SER",
          "SER",
          "SER",
          "SER"
         ],
         "xaxis": "x",
         "yaxis": "y"
        },
        {
         "alignmentgroup": "True",
         "bingroup": "x",
         "hovertemplate": "Groupe Parlementaire=%{x}<br>count=%{y}<extra></extra>",
         "legendgroup": "LFI",
         "marker": {
          "color": "#c0392b",
          "pattern": {
           "shape": ""
          }
         },
         "name": "LFI",
         "offsetgroup": "LFI",
         "orientation": "v",
         "showlegend": true,
         "type": "histogram",
         "x": [
          "LFI",
          "LFI",
          "LFI",
          "LFI",
          "LFI",
          "LFI",
          "LFI",
          "LFI",
          "LFI",
          "LFI",
          "LFI",
          "LFI",
          "LFI",
          "LFI",
          "LFI",
          "LFI",
          "LFI",
          "LFI",
          "LFI",
          "LFI",
          "LFI",
          "LFI",
          "LFI",
          "LFI",
          "LFI",
          "LFI",
          "LFI",
          "LFI",
          "LFI",
          "LFI",
          "LFI",
          "LFI",
          "LFI",
          "LFI",
          "LFI",
          "LFI",
          "LFI",
          "LFI",
          "LFI",
          "LFI",
          "LFI",
          "LFI",
          "LFI",
          "LFI",
          "LFI",
          "LFI",
          "LFI",
          "LFI",
          "LFI",
          "LFI",
          "LFI",
          "LFI",
          "LFI",
          "LFI",
          "LFI",
          "LFI",
          "LFI",
          "LFI",
          "LFI",
          "LFI",
          "LFI",
          "LFI",
          "LFI",
          "LFI",
          "LFI",
          "LFI",
          "LFI",
          "LFI",
          "LFI",
          "LFI",
          "LFI",
          "LFI",
          "LFI",
          "LFI",
          "LFI",
          "LFI",
          "LFI",
          "LFI",
          "LFI",
          "LFI",
          "LFI",
          "LFI",
          "LFI",
          "LFI",
          "LFI",
          "LFI",
          "LFI",
          "LFI",
          "LFI",
          "LFI",
          "LFI",
          "LFI",
          "LFI",
          "LFI",
          "LFI",
          "LFI",
          "LFI",
          "LFI",
          "LFI",
          "LFI",
          "LFI",
          "LFI",
          "LFI",
          "LFI",
          "LFI",
          "LFI",
          "LFI",
          "LFI",
          "LFI",
          "LFI",
          "LFI",
          "LFI",
          "LFI",
          "LFI",
          "LFI",
          "LFI",
          "LFI",
          "LFI",
          "LFI",
          "LFI",
          "LFI",
          "LFI",
          "LFI",
          "LFI",
          "LFI",
          "LFI",
          "LFI",
          "LFI",
          "LFI",
          "LFI",
          "LFI",
          "LFI",
          "LFI",
          "LFI",
          "LFI",
          "LFI",
          "LFI",
          "LFI",
          "LFI",
          "LFI",
          "LFI",
          "LFI",
          "LFI",
          "LFI",
          "LFI",
          "LFI",
          "LFI",
          "LFI",
          "LFI",
          "LFI",
          "LFI",
          "LFI",
          "LFI",
          "LFI",
          "LFI",
          "LFI",
          "LFI",
          "LFI",
          "LFI",
          "LFI",
          "LFI",
          "LFI",
          "LFI",
          "LFI",
          "LFI",
          "LFI",
          "LFI",
          "LFI",
          "LFI",
          "LFI",
          "LFI",
          "LFI",
          "LFI",
          "LFI",
          "LFI",
          "LFI",
          "LFI",
          "LFI",
          "LFI",
          "LFI",
          "LFI",
          "LFI",
          "LFI",
          "LFI",
          "LFI",
          "LFI",
          "LFI",
          "LFI",
          "LFI",
          "LFI",
          "LFI",
          "LFI",
          "LFI",
          "LFI",
          "LFI",
          "LFI",
          "LFI",
          "LFI",
          "LFI",
          "LFI",
          "LFI",
          "LFI",
          "LFI",
          "LFI",
          "LFI",
          "LFI",
          "LFI",
          "LFI",
          "LFI",
          "LFI",
          "LFI",
          "LFI",
          "LFI",
          "LFI",
          "LFI",
          "LFI",
          "LFI",
          "LFI",
          "LFI",
          "LFI",
          "LFI",
          "LFI",
          "LFI",
          "LFI",
          "LFI",
          "LFI",
          "LFI",
          "LFI",
          "LFI",
          "LFI",
          "LFI",
          "LFI",
          "LFI",
          "LFI",
          "LFI",
          "LFI",
          "LFI",
          "LFI",
          "LFI",
          "LFI",
          "LFI",
          "LFI",
          "LFI",
          "LFI",
          "LFI",
          "LFI",
          "LFI",
          "LFI",
          "LFI",
          "LFI",
          "LFI",
          "LFI",
          "LFI",
          "LFI",
          "LFI",
          "LFI",
          "LFI",
          "LFI",
          "LFI",
          "LFI",
          "LFI",
          "LFI",
          "LFI",
          "LFI",
          "LFI",
          "LFI",
          "LFI",
          "LFI",
          "LFI",
          "LFI",
          "LFI",
          "LFI",
          "LFI",
          "LFI",
          "LFI",
          "LFI",
          "LFI",
          "LFI",
          "LFI",
          "LFI",
          "LFI",
          "LFI",
          "LFI",
          "LFI",
          "LFI",
          "LFI",
          "LFI",
          "LFI",
          "LFI",
          "LFI",
          "LFI",
          "LFI",
          "LFI",
          "LFI",
          "LFI",
          "LFI",
          "LFI",
          "LFI",
          "LFI",
          "LFI",
          "LFI",
          "LFI",
          "LFI",
          "LFI",
          "LFI",
          "LFI",
          "LFI",
          "LFI",
          "LFI",
          "LFI",
          "LFI",
          "LFI",
          "LFI",
          "LFI",
          "LFI",
          "LFI",
          "LFI",
          "LFI",
          "LFI",
          "LFI",
          "LFI",
          "LFI",
          "LFI",
          "LFI",
          "LFI",
          "LFI",
          "LFI",
          "LFI",
          "LFI",
          "LFI",
          "LFI",
          "LFI",
          "LFI",
          "LFI",
          "LFI",
          "LFI",
          "LFI",
          "LFI",
          "LFI",
          "LFI",
          "LFI",
          "LFI",
          "LFI",
          "LFI",
          "LFI",
          "LFI",
          "LFI",
          "LFI",
          "LFI",
          "LFI",
          "LFI",
          "LFI",
          "LFI",
          "LFI",
          "LFI",
          "LFI",
          "LFI",
          "LFI",
          "LFI",
          "LFI",
          "LFI",
          "LFI",
          "LFI",
          "LFI",
          "LFI",
          "LFI",
          "LFI",
          "LFI",
          "LFI",
          "LFI",
          "LFI",
          "LFI",
          "LFI",
          "LFI",
          "LFI",
          "LFI",
          "LFI",
          "LFI",
          "LFI",
          "LFI",
          "LFI",
          "LFI",
          "LFI",
          "LFI",
          "LFI",
          "LFI",
          "LFI",
          "LFI",
          "LFI",
          "LFI",
          "LFI",
          "LFI",
          "LFI",
          "LFI",
          "LFI",
          "LFI",
          "LFI",
          "LFI",
          "LFI",
          "LFI",
          "LFI",
          "LFI",
          "LFI",
          "LFI",
          "LFI",
          "LFI",
          "LFI",
          "LFI",
          "LFI",
          "LFI",
          "LFI",
          "LFI",
          "LFI",
          "LFI",
          "LFI",
          "LFI",
          "LFI",
          "LFI",
          "LFI",
          "LFI",
          "LFI",
          "LFI",
          "LFI",
          "LFI",
          "LFI",
          "LFI",
          "LFI",
          "LFI"
         ],
         "xaxis": "x",
         "yaxis": "y"
        },
        {
         "alignmentgroup": "True",
         "bingroup": "x",
         "hovertemplate": "Groupe Parlementaire=%{x}<br>count=%{y}<extra></extra>",
         "legendgroup": "GDR",
         "marker": {
          "color": "#EA2027",
          "pattern": {
           "shape": ""
          }
         },
         "name": "GDR",
         "offsetgroup": "GDR",
         "orientation": "v",
         "showlegend": true,
         "type": "histogram",
         "x": [
          "GDR",
          "GDR",
          "GDR",
          "GDR",
          "GDR",
          "GDR",
          "GDR",
          "GDR",
          "GDR",
          "GDR",
          "GDR",
          "GDR",
          "GDR",
          "GDR",
          "GDR",
          "GDR",
          "GDR",
          "GDR",
          "GDR",
          "GDR",
          "GDR",
          "GDR",
          "GDR",
          "GDR",
          "GDR",
          "GDR",
          "GDR",
          "GDR",
          "GDR",
          "GDR",
          "GDR",
          "GDR",
          "GDR",
          "GDR",
          "GDR",
          "GDR",
          "GDR",
          "GDR",
          "GDR",
          "GDR",
          "GDR",
          "GDR",
          "GDR",
          "GDR",
          "GDR",
          "GDR",
          "GDR",
          "GDR",
          "GDR",
          "GDR",
          "GDR",
          "GDR",
          "GDR",
          "GDR",
          "GDR",
          "GDR",
          "GDR",
          "GDR",
          "GDR",
          "GDR",
          "GDR",
          "GDR",
          "GDR",
          "GDR",
          "GDR",
          "GDR",
          "GDR",
          "GDR",
          "GDR",
          "GDR",
          "GDR",
          "GDR",
          "GDR",
          "GDR",
          "GDR",
          "GDR",
          "GDR",
          "GDR",
          "GDR",
          "GDR",
          "GDR",
          "GDR",
          "GDR",
          "GDR",
          "GDR",
          "GDR",
          "GDR",
          "GDR",
          "GDR",
          "GDR",
          "GDR",
          "GDR",
          "GDR",
          "GDR",
          "GDR",
          "GDR",
          "GDR",
          "GDR",
          "GDR",
          "GDR",
          "GDR",
          "GDR",
          "GDR",
          "GDR",
          "GDR",
          "GDR",
          "GDR",
          "GDR",
          "GDR",
          "GDR",
          "GDR",
          "GDR",
          "GDR",
          "GDR"
         ],
         "xaxis": "x",
         "yaxis": "y"
        },
        {
         "alignmentgroup": "True",
         "bingroup": "x",
         "hovertemplate": "Groupe Parlementaire=%{x}<br>count=%{y}<extra></extra>",
         "legendgroup": "ECO",
         "marker": {
          "color": "#009432",
          "pattern": {
           "shape": ""
          }
         },
         "name": "ECO",
         "offsetgroup": "ECO",
         "orientation": "v",
         "showlegend": true,
         "type": "histogram",
         "x": [
          "ECO",
          "ECO",
          "ECO",
          "ECO",
          "ECO",
          "ECO",
          "ECO",
          "ECO",
          "ECO",
          "ECO",
          "ECO",
          "ECO",
          "ECO",
          "ECO",
          "ECO",
          "ECO",
          "ECO",
          "ECO",
          "ECO",
          "ECO",
          "ECO",
          "ECO",
          "ECO",
          "ECO",
          "ECO",
          "ECO",
          "ECO",
          "ECO",
          "ECO",
          "ECO",
          "ECO",
          "ECO",
          "ECO",
          "ECO",
          "ECO",
          "ECO",
          "ECO",
          "ECO",
          "ECO",
          "ECO",
          "ECO",
          "ECO",
          "ECO",
          "ECO",
          "ECO",
          "ECO",
          "ECO",
          "ECO",
          "ECO",
          "ECO",
          "ECO",
          "ECO",
          "ECO",
          "ECO",
          "ECO",
          "ECO",
          "ECO",
          "ECO",
          "ECO",
          "ECO",
          "ECO",
          "ECO",
          "ECO",
          "ECO",
          "ECO",
          "ECO",
          "ECO",
          "ECO",
          "ECO",
          "ECO",
          "ECO",
          "ECO",
          "ECO",
          "ECO",
          "ECO",
          "ECO",
          "ECO",
          "ECO",
          "ECO",
          "ECO",
          "ECO",
          "ECO",
          "ECO",
          "ECO",
          "ECO",
          "ECO",
          "ECO",
          "ECO",
          "ECO",
          "ECO",
          "ECO",
          "ECO",
          "ECO",
          "ECO",
          "ECO"
         ],
         "xaxis": "x",
         "yaxis": "y"
        },
        {
         "alignmentgroup": "True",
         "bingroup": "x",
         "hovertemplate": "Groupe Parlementaire=%{x}<br>count=%{y}<extra></extra>",
         "legendgroup": "NI",
         "marker": {
          "color": "#95a5a6",
          "pattern": {
           "shape": ""
          }
         },
         "name": "NI",
         "offsetgroup": "NI",
         "orientation": "v",
         "showlegend": true,
         "type": "histogram",
         "x": [
          "NI",
          "NI",
          "NI",
          "NI",
          "NI",
          "NI",
          "NI",
          "NI",
          "NI",
          "NI",
          "NI",
          "NI",
          "NI",
          "NI",
          "NI",
          "NI",
          "NI",
          "NI",
          "NI",
          "NI",
          "NI",
          "NI",
          "NI",
          "NI",
          "NI",
          "NI",
          "NI",
          "NI",
          "NI",
          "NI",
          "NI",
          "NI",
          "NI",
          "NI",
          "NI",
          "NI"
         ],
         "xaxis": "x",
         "yaxis": "y"
        },
        {
         "alignmentgroup": "True",
         "bingroup": "x",
         "hovertemplate": "Groupe Parlementaire=%{x}<br>count=%{y}<extra></extra>",
         "legendgroup": "UDI",
         "marker": {
          "color": "#9b59b6",
          "pattern": {
           "shape": ""
          }
         },
         "name": "UDI",
         "offsetgroup": "UDI",
         "orientation": "v",
         "showlegend": true,
         "type": "histogram",
         "x": [
          "UDI",
          "UDI",
          "UDI",
          "UDI",
          "UDI",
          "UDI",
          "UDI",
          "UDI",
          "UDI",
          "UDI",
          "UDI",
          "UDI",
          "UDI",
          "UDI",
          "UDI",
          "UDI",
          "UDI",
          "UDI",
          "UDI",
          "UDI",
          "UDI",
          "UDI",
          "UDI",
          "UDI",
          "UDI",
          "UDI",
          "UDI",
          "UDI",
          "UDI",
          "UDI",
          "UDI",
          "UDI",
          "UDI",
          "UDI",
          "UDI",
          "UDI",
          "UDI",
          "UDI",
          "UDI",
          "UDI",
          "UDI",
          "UDI",
          "UDI",
          "UDI",
          "UDI",
          "UDI",
          "UDI",
          "UDI",
          "UDI",
          "UDI",
          "UDI",
          "UDI",
          "UDI"
         ],
         "xaxis": "x",
         "yaxis": "y"
        },
        {
         "alignmentgroup": "True",
         "bingroup": "x",
         "hovertemplate": "Groupe Parlementaire=%{x}<br>count=%{y}<extra></extra>",
         "legendgroup": "REN",
         "marker": {
          "color": "#3498db",
          "pattern": {
           "shape": ""
          }
         },
         "name": "REN",
         "offsetgroup": "REN",
         "orientation": "v",
         "showlegend": true,
         "type": "histogram",
         "x": [
          "REN",
          "REN",
          "REN",
          "REN",
          "REN",
          "REN",
          "REN",
          "REN",
          "REN",
          "REN",
          "REN",
          "REN",
          "REN",
          "REN",
          "REN",
          "REN",
          "REN",
          "REN",
          "REN",
          "REN",
          "REN",
          "REN",
          "REN",
          "REN",
          "REN",
          "REN",
          "REN",
          "REN",
          "REN",
          "REN",
          "REN",
          "REN",
          "REN",
          "REN",
          "REN",
          "REN",
          "REN",
          "REN",
          "REN",
          "REN",
          "REN",
          "REN",
          "REN",
          "REN",
          "REN",
          "REN",
          "REN",
          "REN",
          "REN",
          "REN",
          "REN",
          "REN",
          "REN",
          "REN",
          "REN",
          "REN",
          "REN",
          "REN",
          "REN",
          "REN",
          "REN",
          "REN",
          "REN",
          "REN",
          "REN",
          "REN",
          "REN",
          "REN",
          "REN",
          "REN",
          "REN",
          "REN",
          "REN",
          "REN",
          "REN",
          "REN",
          "REN",
          "REN",
          "REN",
          "REN",
          "REN",
          "REN",
          "REN",
          "REN",
          "REN",
          "REN",
          "REN",
          "REN",
          "REN",
          "REN",
          "REN",
          "REN",
          "REN",
          "REN",
          "REN",
          "REN",
          "REN",
          "REN",
          "REN",
          "REN",
          "REN",
          "REN",
          "REN",
          "REN",
          "REN",
          "REN",
          "REN",
          "REN",
          "REN",
          "REN",
          "REN",
          "REN",
          "REN",
          "REN",
          "REN",
          "REN",
          "REN",
          "REN",
          "REN",
          "REN",
          "REN",
          "REN",
          "REN",
          "REN",
          "REN",
          "REN",
          "REN",
          "REN",
          "REN",
          "REN",
          "REN",
          "REN",
          "REN",
          "REN",
          "REN",
          "REN",
          "REN",
          "REN",
          "REN",
          "REN",
          "REN",
          "REN",
          "REN",
          "REN",
          "REN",
          "REN",
          "REN",
          "REN",
          "REN",
          "REN",
          "REN",
          "REN",
          "REN",
          "REN",
          "REN",
          "REN",
          "REN",
          "REN",
          "REN",
          "REN",
          "REN",
          "REN",
          "REN",
          "REN",
          "REN",
          "REN",
          "REN",
          "REN",
          "REN",
          "REN",
          "REN",
          "REN",
          "REN",
          "REN",
          "REN",
          "REN",
          "REN",
          "REN",
          "REN",
          "REN",
          "REN",
          "REN",
          "REN",
          "REN",
          "REN",
          "REN",
          "REN",
          "REN",
          "REN",
          "REN",
          "REN",
          "REN",
          "REN",
          "REN",
          "REN",
          "REN",
          "REN",
          "REN",
          "REN",
          "REN",
          "REN",
          "REN",
          "REN",
          "REN",
          "REN",
          "REN",
          "REN",
          "REN",
          "REN",
          "REN",
          "REN",
          "REN",
          "REN",
          "REN",
          "REN",
          "REN",
          "REN",
          "REN",
          "REN",
          "REN",
          "REN",
          "REN",
          "REN",
          "REN",
          "REN",
          "REN",
          "REN",
          "REN",
          "REN",
          "REN",
          "REN",
          "REN",
          "REN",
          "REN",
          "REN",
          "REN",
          "REN",
          "REN",
          "REN",
          "REN",
          "REN",
          "REN",
          "REN",
          "REN",
          "REN",
          "REN",
          "REN",
          "REN",
          "REN",
          "REN",
          "REN",
          "REN",
          "REN",
          "REN",
          "REN",
          "REN",
          "REN",
          "REN",
          "REN",
          "REN",
          "REN",
          "REN",
          "REN",
          "REN",
          "REN",
          "REN",
          "REN",
          "REN",
          "REN",
          "REN",
          "REN",
          "REN",
          "REN",
          "REN"
         ],
         "xaxis": "x",
         "yaxis": "y"
        },
        {
         "alignmentgroup": "True",
         "bingroup": "x",
         "hovertemplate": "Groupe Parlementaire=%{x}<br>count=%{y}<extra></extra>",
         "legendgroup": "MODEM",
         "marker": {
          "color": "#e67e22",
          "pattern": {
           "shape": ""
          }
         },
         "name": "MODEM",
         "offsetgroup": "MODEM",
         "orientation": "v",
         "showlegend": true,
         "type": "histogram",
         "x": [
          "MODEM",
          "MODEM",
          "MODEM",
          "MODEM",
          "MODEM",
          "MODEM",
          "MODEM",
          "MODEM",
          "MODEM",
          "MODEM",
          "MODEM",
          "MODEM",
          "MODEM",
          "MODEM",
          "MODEM",
          "MODEM",
          "MODEM",
          "MODEM",
          "MODEM",
          "MODEM",
          "MODEM",
          "MODEM",
          "MODEM",
          "MODEM",
          "MODEM",
          "MODEM",
          "MODEM",
          "MODEM",
          "MODEM",
          "MODEM",
          "MODEM",
          "MODEM",
          "MODEM",
          "MODEM",
          "MODEM",
          "MODEM",
          "MODEM",
          "MODEM",
          "MODEM",
          "MODEM",
          "MODEM",
          "MODEM",
          "MODEM",
          "MODEM",
          "MODEM",
          "MODEM",
          "MODEM",
          "MODEM",
          "MODEM",
          "MODEM",
          "MODEM",
          "MODEM",
          "MODEM",
          "MODEM",
          "MODEM",
          "MODEM",
          "MODEM",
          "MODEM",
          "MODEM",
          "MODEM",
          "MODEM",
          "MODEM",
          "MODEM",
          "MODEM",
          "MODEM",
          "MODEM",
          "MODEM",
          "MODEM",
          "MODEM",
          "MODEM",
          "MODEM",
          "MODEM",
          "MODEM",
          "MODEM",
          "MODEM"
         ],
         "xaxis": "x",
         "yaxis": "y"
        },
        {
         "alignmentgroup": "True",
         "bingroup": "x",
         "hovertemplate": "Groupe Parlementaire=%{x}<br>count=%{y}<extra></extra>",
         "legendgroup": "LIOT",
         "marker": {
          "color": "#2ecc71",
          "pattern": {
           "shape": ""
          }
         },
         "name": "LIOT",
         "offsetgroup": "LIOT",
         "orientation": "v",
         "showlegend": true,
         "type": "histogram",
         "x": [
          "LIOT",
          "LIOT",
          "LIOT",
          "LIOT",
          "LIOT",
          "LIOT",
          "LIOT",
          "LIOT",
          "LIOT",
          "LIOT",
          "LIOT",
          "LIOT",
          "LIOT",
          "LIOT",
          "LIOT",
          "LIOT",
          "LIOT",
          "LIOT",
          "LIOT",
          "LIOT",
          "LIOT",
          "LIOT"
         ],
         "xaxis": "x",
         "yaxis": "y"
        },
        {
         "alignmentgroup": "True",
         "bingroup": "x",
         "hovertemplate": "Groupe Parlementaire=%{x}<br>count=%{y}<extra></extra>",
         "legendgroup": "RN",
         "marker": {
          "color": "#2c3e50",
          "pattern": {
           "shape": ""
          }
         },
         "name": "RN",
         "offsetgroup": "RN",
         "orientation": "v",
         "showlegend": true,
         "type": "histogram",
         "x": [
          "RN",
          "RN",
          "RN",
          "RN",
          "RN",
          "RN",
          "RN",
          "RN",
          "RN",
          "RN",
          "RN",
          "RN",
          "RN",
          "RN",
          "RN",
          "RN",
          "RN",
          "RN",
          "RN",
          "RN",
          "RN",
          "RN",
          "RN",
          "RN",
          "RN",
          "RN",
          "RN",
          "RN",
          "RN",
          "RN",
          "RN",
          "RN",
          "RN",
          "RN",
          "RN",
          "RN",
          "RN",
          "RN",
          "RN",
          "RN",
          "RN",
          "RN",
          "RN",
          "RN",
          "RN",
          "RN",
          "RN",
          "RN",
          "RN",
          "RN",
          "RN",
          "RN",
          "RN",
          "RN",
          "RN",
          "RN",
          "RN",
          "RN",
          "RN",
          "RN",
          "RN",
          "RN",
          "RN",
          "RN",
          "RN",
          "RN",
          "RN",
          "RN",
          "RN",
          "RN",
          "RN",
          "RN",
          "RN",
          "RN",
          "RN",
          "RN",
          "RN",
          "RN",
          "RN",
          "RN",
          "RN",
          "RN",
          "RN",
          "RN",
          "RN",
          "RN",
          "RN",
          "RN",
          "RN",
          "RN",
          "RN",
          "RN",
          "RN",
          "RN",
          "RN",
          "RN",
          "RN",
          "RN",
          "RN",
          "RN",
          "RN"
         ],
         "xaxis": "x",
         "yaxis": "y"
        },
        {
         "alignmentgroup": "True",
         "bingroup": "x",
         "hovertemplate": "Groupe Parlementaire=%{x}<br>count=%{y}<extra></extra>",
         "legendgroup": "LR",
         "marker": {
          "color": "#2980b9",
          "pattern": {
           "shape": ""
          }
         },
         "name": "LR",
         "offsetgroup": "LR",
         "orientation": "v",
         "showlegend": true,
         "type": "histogram",
         "x": [
          "LR",
          "LR",
          "LR",
          "LR",
          "LR",
          "LR",
          "LR",
          "LR",
          "LR",
          "LR",
          "LR",
          "LR",
          "LR",
          "LR",
          "LR",
          "LR",
          "LR",
          "LR",
          "LR",
          "LR",
          "LR",
          "LR",
          "LR",
          "LR",
          "LR",
          "LR",
          "LR",
          "LR",
          "LR",
          "LR",
          "LR",
          "LR",
          "LR",
          "LR",
          "LR",
          "LR",
          "LR",
          "LR",
          "LR",
          "LR",
          "LR",
          "LR",
          "LR",
          "LR",
          "LR",
          "LR",
          "LR",
          "LR",
          "LR",
          "LR",
          "LR",
          "LR",
          "LR",
          "LR",
          "LR",
          "LR",
          "LR",
          "LR",
          "LR",
          "LR",
          "LR",
          "LR",
          "LR",
          "LR",
          "LR",
          "LR",
          "LR",
          "LR",
          "LR",
          "LR",
          "LR",
          "LR",
          "LR",
          "LR",
          "LR",
          "LR",
          "LR",
          "LR",
          "LR",
          "LR",
          "LR",
          "LR",
          "LR",
          "LR",
          "LR",
          "LR",
          "LR",
          "LR",
          "LR",
          "LR",
          "LR",
          "LR",
          "LR",
          "LR",
          "LR",
          "LR",
          "LR",
          "LR",
          "LR",
          "LR",
          "LR",
          "LR",
          "LR",
          "LR",
          "LR",
          "LR",
          "LR",
          "LR",
          "LR",
          "LR",
          "LR",
          "LR",
          "LR",
          "LR",
          "LR",
          "LR",
          "LR",
          "LR",
          "LR",
          "LR",
          "LR",
          "LR",
          "LR",
          "LR",
          "LR",
          "LR",
          "LR",
          "LR",
          "LR",
          "LR",
          "LR",
          "LR",
          "LR",
          "LR",
          "LR",
          "LR",
          "LR",
          "LR",
          "LR",
          "LR",
          "LR",
          "LR",
          "LR",
          "LR",
          "LR",
          "LR",
          "LR",
          "LR",
          "LR",
          "LR",
          "LR",
          "LR",
          "LR",
          "LR",
          "LR",
          "LR",
          "LR",
          "LR",
          "LR",
          "LR",
          "LR",
          "LR",
          "LR",
          "LR",
          "LR",
          "LR",
          "LR",
          "LR",
          "LR",
          "LR",
          "LR",
          "LR",
          "LR",
          "LR",
          "LR",
          "LR",
          "LR",
          "LR",
          "LR",
          "LR",
          "LR",
          "LR",
          "LR",
          "LR",
          "LR",
          "LR",
          "LR",
          "LR",
          "LR"
         ],
         "xaxis": "x",
         "yaxis": "y"
        },
        {
         "alignmentgroup": "True",
         "bingroup": "x",
         "hovertemplate": "Groupe Parlementaire=%{x}<br>count=%{y}<extra></extra>",
         "legendgroup": "SOC",
         "marker": {
          "color": "#ED4C67",
          "pattern": {
           "shape": ""
          }
         },
         "name": "SOC",
         "offsetgroup": "SOC",
         "orientation": "v",
         "showlegend": true,
         "type": "histogram",
         "x": [
          "SOC",
          "SOC",
          "SOC",
          "SOC",
          "SOC",
          "SOC",
          "SOC",
          "SOC",
          "SOC",
          "SOC",
          "SOC",
          "SOC",
          "SOC",
          "SOC",
          "SOC",
          "SOC",
          "SOC",
          "SOC",
          "SOC",
          "SOC",
          "SOC",
          "SOC",
          "SOC",
          "SOC",
          "SOC",
          "SOC",
          "SOC",
          "SOC",
          "SOC",
          "SOC",
          "SOC",
          "SOC",
          "SOC",
          "SOC",
          "SOC",
          "SOC",
          "SOC",
          "SOC",
          "SOC",
          "SOC",
          "SOC",
          "SOC",
          "SOC",
          "SOC",
          "SOC",
          "SOC",
          "SOC",
          "SOC",
          "SOC",
          "SOC",
          "SOC",
          "SOC",
          "SOC",
          "SOC",
          "SOC",
          "SOC",
          "SOC",
          "SOC",
          "SOC",
          "SOC",
          "SOC",
          "SOC",
          "SOC",
          "SOC",
          "SOC",
          "SOC",
          "SOC",
          "SOC",
          "SOC",
          "SOC",
          "SOC",
          "SOC",
          "SOC",
          "SOC",
          "SOC",
          "SOC",
          "SOC",
          "SOC",
          "SOC",
          "SOC",
          "SOC",
          "SOC",
          "SOC",
          "SOC",
          "SOC",
          "SOC",
          "SOC",
          "SOC",
          "SOC",
          "SOC",
          "SOC",
          "SOC",
          "SOC",
          "SOC",
          "SOC",
          "SOC",
          "SOC",
          "SOC",
          "SOC",
          "SOC"
         ],
         "xaxis": "x",
         "yaxis": "y"
        },
        {
         "alignmentgroup": "True",
         "bingroup": "x",
         "hovertemplate": "Groupe Parlementaire=%{x}<br>count=%{y}<extra></extra>",
         "legendgroup": "HOR",
         "marker": {
          "color": "#1B1464",
          "pattern": {
           "shape": ""
          }
         },
         "name": "HOR",
         "offsetgroup": "HOR",
         "orientation": "v",
         "showlegend": true,
         "type": "histogram",
         "x": [
          "HOR",
          "HOR",
          "HOR",
          "HOR",
          "HOR",
          "HOR",
          "HOR",
          "HOR"
         ],
         "xaxis": "x",
         "yaxis": "y"
        },
        {
         "alignmentgroup": "True",
         "bingroup": "x",
         "hovertemplate": "Groupe Parlementaire=%{x}<br>count=%{y}<extra></extra>",
         "legendgroup": "RRDP",
         "marker": {
          "color": "#FFC312",
          "pattern": {
           "shape": ""
          }
         },
         "name": "RRDP",
         "offsetgroup": "RRDP",
         "orientation": "v",
         "showlegend": true,
         "type": "histogram",
         "x": [
          "RRDP"
         ],
         "xaxis": "x",
         "yaxis": "y"
        }
       ],
       "layout": {
        "barmode": "relative",
        "legend": {
         "title": {
          "text": "Groupe Parlementaire"
         },
         "tracegroupgap": 0
        },
        "margin": {
         "t": 60
        },
        "showlegend": false,
        "template": {
         "data": {
          "bar": [
           {
            "error_x": {
             "color": "#2a3f5f"
            },
            "error_y": {
             "color": "#2a3f5f"
            },
            "marker": {
             "line": {
              "color": "#E5ECF6",
              "width": 0.5
             },
             "pattern": {
              "fillmode": "overlay",
              "size": 10,
              "solidity": 0.2
             }
            },
            "type": "bar"
           }
          ],
          "barpolar": [
           {
            "marker": {
             "line": {
              "color": "#E5ECF6",
              "width": 0.5
             },
             "pattern": {
              "fillmode": "overlay",
              "size": 10,
              "solidity": 0.2
             }
            },
            "type": "barpolar"
           }
          ],
          "carpet": [
           {
            "aaxis": {
             "endlinecolor": "#2a3f5f",
             "gridcolor": "white",
             "linecolor": "white",
             "minorgridcolor": "white",
             "startlinecolor": "#2a3f5f"
            },
            "baxis": {
             "endlinecolor": "#2a3f5f",
             "gridcolor": "white",
             "linecolor": "white",
             "minorgridcolor": "white",
             "startlinecolor": "#2a3f5f"
            },
            "type": "carpet"
           }
          ],
          "choropleth": [
           {
            "colorbar": {
             "outlinewidth": 0,
             "ticks": ""
            },
            "type": "choropleth"
           }
          ],
          "contour": [
           {
            "colorbar": {
             "outlinewidth": 0,
             "ticks": ""
            },
            "colorscale": [
             [
              0,
              "#0d0887"
             ],
             [
              0.1111111111111111,
              "#46039f"
             ],
             [
              0.2222222222222222,
              "#7201a8"
             ],
             [
              0.3333333333333333,
              "#9c179e"
             ],
             [
              0.4444444444444444,
              "#bd3786"
             ],
             [
              0.5555555555555556,
              "#d8576b"
             ],
             [
              0.6666666666666666,
              "#ed7953"
             ],
             [
              0.7777777777777778,
              "#fb9f3a"
             ],
             [
              0.8888888888888888,
              "#fdca26"
             ],
             [
              1,
              "#f0f921"
             ]
            ],
            "type": "contour"
           }
          ],
          "contourcarpet": [
           {
            "colorbar": {
             "outlinewidth": 0,
             "ticks": ""
            },
            "type": "contourcarpet"
           }
          ],
          "heatmap": [
           {
            "colorbar": {
             "outlinewidth": 0,
             "ticks": ""
            },
            "colorscale": [
             [
              0,
              "#0d0887"
             ],
             [
              0.1111111111111111,
              "#46039f"
             ],
             [
              0.2222222222222222,
              "#7201a8"
             ],
             [
              0.3333333333333333,
              "#9c179e"
             ],
             [
              0.4444444444444444,
              "#bd3786"
             ],
             [
              0.5555555555555556,
              "#d8576b"
             ],
             [
              0.6666666666666666,
              "#ed7953"
             ],
             [
              0.7777777777777778,
              "#fb9f3a"
             ],
             [
              0.8888888888888888,
              "#fdca26"
             ],
             [
              1,
              "#f0f921"
             ]
            ],
            "type": "heatmap"
           }
          ],
          "heatmapgl": [
           {
            "colorbar": {
             "outlinewidth": 0,
             "ticks": ""
            },
            "colorscale": [
             [
              0,
              "#0d0887"
             ],
             [
              0.1111111111111111,
              "#46039f"
             ],
             [
              0.2222222222222222,
              "#7201a8"
             ],
             [
              0.3333333333333333,
              "#9c179e"
             ],
             [
              0.4444444444444444,
              "#bd3786"
             ],
             [
              0.5555555555555556,
              "#d8576b"
             ],
             [
              0.6666666666666666,
              "#ed7953"
             ],
             [
              0.7777777777777778,
              "#fb9f3a"
             ],
             [
              0.8888888888888888,
              "#fdca26"
             ],
             [
              1,
              "#f0f921"
             ]
            ],
            "type": "heatmapgl"
           }
          ],
          "histogram": [
           {
            "marker": {
             "pattern": {
              "fillmode": "overlay",
              "size": 10,
              "solidity": 0.2
             }
            },
            "type": "histogram"
           }
          ],
          "histogram2d": [
           {
            "colorbar": {
             "outlinewidth": 0,
             "ticks": ""
            },
            "colorscale": [
             [
              0,
              "#0d0887"
             ],
             [
              0.1111111111111111,
              "#46039f"
             ],
             [
              0.2222222222222222,
              "#7201a8"
             ],
             [
              0.3333333333333333,
              "#9c179e"
             ],
             [
              0.4444444444444444,
              "#bd3786"
             ],
             [
              0.5555555555555556,
              "#d8576b"
             ],
             [
              0.6666666666666666,
              "#ed7953"
             ],
             [
              0.7777777777777778,
              "#fb9f3a"
             ],
             [
              0.8888888888888888,
              "#fdca26"
             ],
             [
              1,
              "#f0f921"
             ]
            ],
            "type": "histogram2d"
           }
          ],
          "histogram2dcontour": [
           {
            "colorbar": {
             "outlinewidth": 0,
             "ticks": ""
            },
            "colorscale": [
             [
              0,
              "#0d0887"
             ],
             [
              0.1111111111111111,
              "#46039f"
             ],
             [
              0.2222222222222222,
              "#7201a8"
             ],
             [
              0.3333333333333333,
              "#9c179e"
             ],
             [
              0.4444444444444444,
              "#bd3786"
             ],
             [
              0.5555555555555556,
              "#d8576b"
             ],
             [
              0.6666666666666666,
              "#ed7953"
             ],
             [
              0.7777777777777778,
              "#fb9f3a"
             ],
             [
              0.8888888888888888,
              "#fdca26"
             ],
             [
              1,
              "#f0f921"
             ]
            ],
            "type": "histogram2dcontour"
           }
          ],
          "mesh3d": [
           {
            "colorbar": {
             "outlinewidth": 0,
             "ticks": ""
            },
            "type": "mesh3d"
           }
          ],
          "parcoords": [
           {
            "line": {
             "colorbar": {
              "outlinewidth": 0,
              "ticks": ""
             }
            },
            "type": "parcoords"
           }
          ],
          "pie": [
           {
            "automargin": true,
            "type": "pie"
           }
          ],
          "scatter": [
           {
            "fillpattern": {
             "fillmode": "overlay",
             "size": 10,
             "solidity": 0.2
            },
            "type": "scatter"
           }
          ],
          "scatter3d": [
           {
            "line": {
             "colorbar": {
              "outlinewidth": 0,
              "ticks": ""
             }
            },
            "marker": {
             "colorbar": {
              "outlinewidth": 0,
              "ticks": ""
             }
            },
            "type": "scatter3d"
           }
          ],
          "scattercarpet": [
           {
            "marker": {
             "colorbar": {
              "outlinewidth": 0,
              "ticks": ""
             }
            },
            "type": "scattercarpet"
           }
          ],
          "scattergeo": [
           {
            "marker": {
             "colorbar": {
              "outlinewidth": 0,
              "ticks": ""
             }
            },
            "type": "scattergeo"
           }
          ],
          "scattergl": [
           {
            "marker": {
             "colorbar": {
              "outlinewidth": 0,
              "ticks": ""
             }
            },
            "type": "scattergl"
           }
          ],
          "scattermapbox": [
           {
            "marker": {
             "colorbar": {
              "outlinewidth": 0,
              "ticks": ""
             }
            },
            "type": "scattermapbox"
           }
          ],
          "scatterpolar": [
           {
            "marker": {
             "colorbar": {
              "outlinewidth": 0,
              "ticks": ""
             }
            },
            "type": "scatterpolar"
           }
          ],
          "scatterpolargl": [
           {
            "marker": {
             "colorbar": {
              "outlinewidth": 0,
              "ticks": ""
             }
            },
            "type": "scatterpolargl"
           }
          ],
          "scatterternary": [
           {
            "marker": {
             "colorbar": {
              "outlinewidth": 0,
              "ticks": ""
             }
            },
            "type": "scatterternary"
           }
          ],
          "surface": [
           {
            "colorbar": {
             "outlinewidth": 0,
             "ticks": ""
            },
            "colorscale": [
             [
              0,
              "#0d0887"
             ],
             [
              0.1111111111111111,
              "#46039f"
             ],
             [
              0.2222222222222222,
              "#7201a8"
             ],
             [
              0.3333333333333333,
              "#9c179e"
             ],
             [
              0.4444444444444444,
              "#bd3786"
             ],
             [
              0.5555555555555556,
              "#d8576b"
             ],
             [
              0.6666666666666666,
              "#ed7953"
             ],
             [
              0.7777777777777778,
              "#fb9f3a"
             ],
             [
              0.8888888888888888,
              "#fdca26"
             ],
             [
              1,
              "#f0f921"
             ]
            ],
            "type": "surface"
           }
          ],
          "table": [
           {
            "cells": {
             "fill": {
              "color": "#EBF0F8"
             },
             "line": {
              "color": "white"
             }
            },
            "header": {
             "fill": {
              "color": "#C8D4E3"
             },
             "line": {
              "color": "white"
             }
            },
            "type": "table"
           }
          ]
         },
         "layout": {
          "annotationdefaults": {
           "arrowcolor": "#2a3f5f",
           "arrowhead": 0,
           "arrowwidth": 1
          },
          "autotypenumbers": "strict",
          "coloraxis": {
           "colorbar": {
            "outlinewidth": 0,
            "ticks": ""
           }
          },
          "colorscale": {
           "diverging": [
            [
             0,
             "#8e0152"
            ],
            [
             0.1,
             "#c51b7d"
            ],
            [
             0.2,
             "#de77ae"
            ],
            [
             0.3,
             "#f1b6da"
            ],
            [
             0.4,
             "#fde0ef"
            ],
            [
             0.5,
             "#f7f7f7"
            ],
            [
             0.6,
             "#e6f5d0"
            ],
            [
             0.7,
             "#b8e186"
            ],
            [
             0.8,
             "#7fbc41"
            ],
            [
             0.9,
             "#4d9221"
            ],
            [
             1,
             "#276419"
            ]
           ],
           "sequential": [
            [
             0,
             "#0d0887"
            ],
            [
             0.1111111111111111,
             "#46039f"
            ],
            [
             0.2222222222222222,
             "#7201a8"
            ],
            [
             0.3333333333333333,
             "#9c179e"
            ],
            [
             0.4444444444444444,
             "#bd3786"
            ],
            [
             0.5555555555555556,
             "#d8576b"
            ],
            [
             0.6666666666666666,
             "#ed7953"
            ],
            [
             0.7777777777777778,
             "#fb9f3a"
            ],
            [
             0.8888888888888888,
             "#fdca26"
            ],
            [
             1,
             "#f0f921"
            ]
           ],
           "sequentialminus": [
            [
             0,
             "#0d0887"
            ],
            [
             0.1111111111111111,
             "#46039f"
            ],
            [
             0.2222222222222222,
             "#7201a8"
            ],
            [
             0.3333333333333333,
             "#9c179e"
            ],
            [
             0.4444444444444444,
             "#bd3786"
            ],
            [
             0.5555555555555556,
             "#d8576b"
            ],
            [
             0.6666666666666666,
             "#ed7953"
            ],
            [
             0.7777777777777778,
             "#fb9f3a"
            ],
            [
             0.8888888888888888,
             "#fdca26"
            ],
            [
             1,
             "#f0f921"
            ]
           ]
          },
          "colorway": [
           "#636efa",
           "#EF553B",
           "#00cc96",
           "#ab63fa",
           "#FFA15A",
           "#19d3f3",
           "#FF6692",
           "#B6E880",
           "#FF97FF",
           "#FECB52"
          ],
          "font": {
           "color": "#2a3f5f"
          },
          "geo": {
           "bgcolor": "white",
           "lakecolor": "white",
           "landcolor": "#E5ECF6",
           "showlakes": true,
           "showland": true,
           "subunitcolor": "white"
          },
          "hoverlabel": {
           "align": "left"
          },
          "hovermode": "closest",
          "mapbox": {
           "style": "light"
          },
          "paper_bgcolor": "white",
          "plot_bgcolor": "#E5ECF6",
          "polar": {
           "angularaxis": {
            "gridcolor": "white",
            "linecolor": "white",
            "ticks": ""
           },
           "bgcolor": "#E5ECF6",
           "radialaxis": {
            "gridcolor": "white",
            "linecolor": "white",
            "ticks": ""
           }
          },
          "scene": {
           "xaxis": {
            "backgroundcolor": "#E5ECF6",
            "gridcolor": "white",
            "gridwidth": 2,
            "linecolor": "white",
            "showbackground": true,
            "ticks": "",
            "zerolinecolor": "white"
           },
           "yaxis": {
            "backgroundcolor": "#E5ECF6",
            "gridcolor": "white",
            "gridwidth": 2,
            "linecolor": "white",
            "showbackground": true,
            "ticks": "",
            "zerolinecolor": "white"
           },
           "zaxis": {
            "backgroundcolor": "#E5ECF6",
            "gridcolor": "white",
            "gridwidth": 2,
            "linecolor": "white",
            "showbackground": true,
            "ticks": "",
            "zerolinecolor": "white"
           }
          },
          "shapedefaults": {
           "line": {
            "color": "#2a3f5f"
           }
          },
          "ternary": {
           "aaxis": {
            "gridcolor": "white",
            "linecolor": "white",
            "ticks": ""
           },
           "baxis": {
            "gridcolor": "white",
            "linecolor": "white",
            "ticks": ""
           },
           "bgcolor": "#E5ECF6",
           "caxis": {
            "gridcolor": "white",
            "linecolor": "white",
            "ticks": ""
           }
          },
          "title": {
           "x": 0.05
          },
          "xaxis": {
           "automargin": true,
           "gridcolor": "white",
           "linecolor": "white",
           "ticks": "",
           "title": {
            "standoff": 15
           },
           "zerolinecolor": "white",
           "zerolinewidth": 2
          },
          "yaxis": {
           "automargin": true,
           "gridcolor": "white",
           "linecolor": "white",
           "ticks": "",
           "title": {
            "standoff": 15
           },
           "zerolinecolor": "white",
           "zerolinewidth": 2
          }
         }
        },
        "title": {
         "text": "Nombre d'interventions par groupe parlementaire"
        },
        "xaxis": {
         "anchor": "y",
         "categoryarray": [
          "GOV",
          "SER",
          "LFI",
          "GDR",
          "ECO",
          "NI",
          "UDI",
          "REN",
          "MODEM",
          "LIOT",
          "RN",
          "LR",
          "SOC",
          "HOR",
          "RRDP"
         ],
         "categoryorder": "array",
         "domain": [
          0,
          1
         ],
         "title": {
          "text": "Groupe Parlementaire"
         }
        },
        "yaxis": {
         "anchor": "x",
         "domain": [
          0,
          1
         ],
         "title": {
          "text": "# interventions"
         }
        }
       }
      }
     },
     "metadata": {},
     "output_type": "display_data"
    }
   ],
   "source": [
    "intervention_frequency_per_group(parlement_df)"
   ]
  },
  {
   "cell_type": "markdown",
   "metadata": {},
   "source": [
    "## Analyse des mots-clés\n",
    "\n",
    "### Quels mots-clés ?\n",
    "Les mots clés sont identifiés parmi différentes extractions automatiques. La première est en utilisant l'outil Biotex[^biotex-article] qui extrait des mots-clés à l'aide de motifs syntaxiques identifiées dans des corpus. La seconde correspond à une extraction de n-grammes, ou séquences de mots, qui se répètent souvent.\n",
    "\n",
    "\n",
    "[^biotex-article]: Juan Antonio Lossio-Ventura, Clement Jonquet, Mathieu Roche, Maguelonne Teisseire. BIOTEX: A system for Biomedical Terminology Extraction, Ranking, and Validation. ISWC: International Semantic Web Conference, Oct 2014, Riva del Garda, Italy. pp.157-160. [Version Python](https://github.com/Jacobe2169/Biotex4Py)\n",
    "\n",
    "L'ensemble des mots-clés sont listés dans la table ci-dessous."
   ]
  },
  {
   "cell_type": "code",
   "execution_count": 5,
   "metadata": {},
   "outputs": [
    {
     "data": {
      "application/vnd.plotly.v1+json": {
       "config": {
        "plotlyServerURL": "https://plot.ly"
       },
       "data": [
        {
         "cells": {
          "align": "left",
          "values": [
           [
            "travail",
            "plein emploi",
            "commission des affaires sociales",
            "rapporteure générale",
            "article 122",
            "motions référendaires",
            "vote",
            "pays",
            "retraite",
            "loi",
            "démocratie",
            "représentation nationale",
            "vie en bonne santé",
            "santé",
            "tension",
            "opposition",
            "mépris",
            "république",
            "réforme des retraites",
            "système de retraite",
            "président de la république",
            "modèle social",
            "justice",
            "inégalités",
            "entreprise",
            "partenaires sociaux",
            "solutions alternatives",
            "départ à la retraite",
            "carrière",
            "comptes publics",
            "conseil d'orientation des retraites",
            "déficit",
            "déséquilibre",
            "pensions de retraite",
            "dette",
            "système par répartition",
            "solidarité",
            "taux plein",
            "petites pensions",
            "compétitivité",
            "recettes",
            "égalité",
            "régimes spéciaux",
            "paresse",
            "obstruction",
            "âge légal de départ",
            "production",
            "croissance",
            "émancipation",
            "taux de chômage",
            "chômage",
            "taux d'emploi",
            "équité",
            "organisations syndicales",
            "majorité présidentielle",
            "concertation avec les partenaires sociaux",
            "carrières longues",
            "trimestres",
            "femmes",
            "victimes",
            "accidents",
            "accidents du travail",
            "retraite à taux plein",
            "assurance vieillesse",
            "pénibilité",
            "prévention",
            "reconversion",
            "rémunération",
            "usure professionnelle",
            "sécurité sociale",
            "postures pénibles",
            "charges lourdes",
            "retraite minimale",
            "carrière complète",
            "smic",
            "revalorisation des petites pensions",
            "revalorisation",
            "courage",
            "soutenabilité",
            "caisses de retraite",
            "contrat social",
            "clause du grand-père",
            "emploi des seniors",
            "entreprises",
            "ruptures conventionnelles",
            "étudiants",
            "apprentis",
            "natalité",
            "vie personnelle",
            "vie professionnelle",
            "familles",
            "service public",
            "classe moyenne",
            "taux d'emploi des femmes",
            "emploi des femmes",
            "pensions de réversion",
            "maternité",
            "éducation",
            "efficacité",
            "rue",
            "aménagement",
            "temps de travail",
            "négociation",
            "révolution",
            "réduction",
            "congés",
            "congés payés",
            "pensions des retraités",
            "financements",
            "souveraineté",
            "patrimoine",
            "accès à l'emploi",
            "idéologie",
            "nivellement",
            "intérêt général",
            "pension de retraite",
            "solidarité nationale",
            "transparence",
            "état",
            "pays européens",
            "députés de la majorité",
            "premières victimes",
            "hommes",
            "famille",
            "impôt",
            "salariés",
            "système de retraite par répartition",
            "finances publiques",
            "bonheur",
            "obsession",
            "taxer",
            "coût du travail",
            "mensonge",
            "privilèges",
            "réalités",
            "compte pénibilité",
            "régime spécial",
            "système de retraites",
            "travail pénible",
            "prévention de la pénibilité",
            "conditions de travail",
            "mesures sociales",
            "vie des français",
            "solidarité intergénérationnelle",
            "espérance de vie",
            "pérennité",
            "salaires",
            "budget de la sécurité sociale",
            "effets",
            "enjeux",
            "minima",
            "inflation",
            "taux d'emploi des seniors",
            "contrôle budgétaire",
            "niveau de vie",
            "pib",
            "bénéfices",
            "dividendes",
            "allongement de la durée",
            "allocation de solidarité",
            "carrière longue",
            "terrain",
            "femme",
            "étude d'impact",
            "impact",
            "équilibre financier",
            "nécessité",
            "reconversion professionnelle",
            "jeunesse",
            "obstruction parlementaire",
            "pénibilité au travail",
            "congés parentaux",
            "retrait",
            "manifestants",
            "syndicats",
            "dépenses publiques",
            "politique économique",
            "régime par répartition",
            "régime de retraite par répartition",
            "exonérations de cotisations",
            "égalité salariale",
            "augmentation des salaires",
            "rues",
            "article 47",
            "grève",
            "macronie",
            "homme",
            "opposants",
            "sondages",
            "unanimité",
            "population",
            "gains de productivité",
            "impôt de solidarité sur la fortune",
            "impôt sur les sociétés",
            "lutte contre la fraude",
            "fraude",
            "fraude fiscale",
            "fortune des milliardaires",
            "éléments de langage",
            "critères de pénibilité",
            "services publics",
            "burn-out",
            "élèves en situation de handicap",
            "égalité professionnelle",
            "point d'indice",
            "péril",
            "temps libre",
            "cohésion",
            "progrès social",
            "covid-19",
            "économie réelle",
            "report de l'âge légal",
            "injustices",
            "classes populaires",
            "revenus du capital",
            "système de protection sociale",
            "diversité",
            "monde du travail",
            "témoignages",
            "départ en retraite",
            "métier pénible",
            "démagogie",
            "politique familiale",
            "précisions",
            "index seniors",
            "transition écologique",
            "chômage des seniors",
            "sources de financement",
            "partage des richesses",
            "augmentation de la csg",
            "csg",
            "stratégie d'obstruction",
            "débat démocratique",
            "dialogue social",
            "inégalité",
            "précarité",
            "majorité absolue",
            "majorité de français",
            "aide à domicile",
            "réindustrialisation",
            "débat parlementaire",
            "pouvoirs publics",
            "débat public",
            "conseil des finances publiques",
            "capitalisation",
            "destruction",
            "déni de démocratie",
            "contribution",
            "contribution sociale",
            "cac40",
            "meilleures années",
            "honnêteté",
            "pacte social",
            "extinction des régimes spéciaux",
            "plafond",
            "réforme de justice",
            "justice sociale",
            "pénibilité du travail",
            "taxes",
            "ratio",
            "fin de carrière",
            "casse sociale",
            "dette publique",
            "droit à la paresse",
            "développement économiques",
            "difficultés de recrutement",
            "économie française",
            "mères de famille",
            "maintien des régimes spéciaux",
            "subvention",
            "économie nationale",
            "industrie",
            "fonds de réserve",
            "superprofits",
            "guerre",
            "faites pitié",
            "carrière hachée",
            "fonds de pension",
            "patrons",
            "préoccupation",
            "cotisations sociales",
            "cour des comptes",
            "classes moyennes",
            "durée du travail",
            "retraite progressive",
            "limitation",
            "politique sociale",
            "recul de l'âge légal",
            "santé des salariés",
            "financement de notre système",
            "fake news",
            "paradis fiscal",
            "grandes fortunes",
            "inefficacité",
            "renouvellement des générations",
            "taux de fécondité",
            "enfant par femme",
            "crédibilité",
            "variable d'ajustement",
            "préretraite",
            "cumul emploi",
            "assurance chômage",
            "fraudeurs",
            "rsa",
            "loi de programmation",
            "ultrariches",
            "prélèvements obligatoires",
            "humilité",
            "fraudes",
            "régime des retraites",
            "retraites chapeaux",
            "petites entreprises",
            "moyennes entreprises",
            "rapporteur général",
            "dépense publique",
            "financement des retraites",
            "taux d'intérêt",
            "employeur",
            "contribuables",
            "travail supplémentaire",
            "économistes",
            "conjonctures économiques",
            "allocataires",
            "minima sociaux",
            "arrêts maladie",
            "financement du système de retraite",
            "conquêtes sociales",
            "bourgeoisie",
            "injustice sociale",
            "enfumage",
            "républicaine",
            "censure",
            "revenus financiers",
            "assurance maladie",
            "médecine de ville",
            "allégements",
            "réduction des cotisations",
            "sondage",
            "suppression des régimes spéciaux",
            "caisses de l'état",
            "fraude sociale",
            "droits des femmes",
            "travaux publics",
            "pyramide des âges",
            "crédit d'impôt",
            "déséquilibre démographique",
            "régime universel",
            "métiers en tension",
            "montant des cotisations",
            "régimes pionniers",
            "budget de l'état",
            "vieillesse",
            "puissance publique",
            "retraite complémentaire",
            "privé",
            "public",
            "retraite des députés",
            "fin des régimes spéciaux",
            "conventions collectives",
            "entreprises du cac40",
            "fermeture des régimes spéciaux",
            "patronat",
            "pénibilité des métiers",
            "gouvernements",
            "droits sociaux",
            "caisse de retraite",
            "demandeurs d'emploi",
            "marchés financiers",
            "accident du travail",
            "droit du travail",
            "suppression du régime spécial",
            "cynisme",
            "dogmatisme",
            "problème de financement",
            "monopole",
            "baisses d'impôts",
            "salariés du secteur privé",
            "secteur public",
            "branche professionnelle",
            "déficit du régime",
            "régime d'assurance vieillesse",
            "articles 7",
            "évasion fiscale",
            "mouvement social",
            "chapardeurs",
            "niche parlementaire",
            "retraite par capitalisation",
            "déficit du système de retraite",
            "augmentation des cotisations",
            "code de la sécurité sociale",
            "soins",
            "indemnité",
            "santé au travail",
            "carrière professionnelle",
            "caisse nationale d'assurance vieillesse",
            "bonne tenue",
            "blocage du pays",
            "taxation",
            "milliardaires français",
            "prime",
            "employabilité des seniors",
            "indicateurs",
            "index de l'égalité professionnelle",
            "licenciement",
            "prestations sociales",
            "licenciements",
            "sas de précarité",
            "index senior",
            "salariés seniors",
            "travailleurs seniors",
            "compte personnel de formation",
            "recettes fiscales",
            "régime fiscal",
            "marché de l'emploi",
            "maintien dans l'emploi",
            "intersyndicale",
            "branches professionnelles",
            "discriminations",
            "article 10",
            "Article 49 . 3",
            "minimum de pension",
            "retraite minimum",
            "article 8",
            "sinistralité",
            "malus",
            "embauche des seniors",
            "exonération de cotisations",
            "allocations familiales",
            "quotient familial",
            "fiscalité",
            "gain",
            "taux de csg",
            "contribution exceptionnelle",
            "impôt sur la fortune",
            "fortune immobilière",
            "ruissellement",
            "capitalisme",
            "fraude aux prestations sociales",
            "hausse de la csg",
            "remboursement de la dette",
            "remboursement de la dette sociale",
            "baisse des impôts",
            "taxation des dividendes",
            "répartition des richesses",
            "retraités agricoles",
            "csg progressive",
            "taux de la csg",
            "retraite des femmes",
            "impôts de production",
            "baisse des cotisations",
            "patrimoines",
            "apprentissage",
            "professionnel",
            "écarts de salaire",
            1200,
            "inégalités de salaire",
            "retraite",
            "régime",
            "réforme",
            "travail",
            "social",
            "entreprise",
            "senior",
            "français",
            "pouvoir",
            "salarié",
            "régime spécial",
            "femme",
            "âge",
            "France",
            "gouvernement",
            "majorité",
            "système de retraite",
            "financement",
            "pénibilité",
            "retraité",
            "emploi de senior",
            "sécurité social",
            "financer",
            "réforme de retraite",
            "1 200 euro",
            "64 an",
            "départ à le retraite",
            "60 an",
            "index senior",
            "article 2",
            "âge légal",
            "injuste",
            "seniors",
            "âge de départ",
            "taux de emploi",
            "index seniors",
            "scrutin public",
            "régime général",
            "assurance",
            "csg",
            "rapporteure général",
            "exonération",
            "richesse",
            "régime de retraite",
            "retraite par répartition",
            "article 100",
            "âge légal de départ",
            "service public",
            "article 7",
            "revalorisation",
            "république",
            "retraite à 60 an",
            "loi de financement",
            "dette",
            "retrait",
            "COR",
            "mensonge",
            "55 an",
            "50 an",
            "système par répartition",
            "pension de retraite",
            "pouvoir de achat",
            "report de le âge",
            "justice social",
            "précarité",
            "finance public",
            "suppression de régime",
            "exonération de cotisation",
            "caisse de retraite",
            "assurance vieilless",
            "suppression de régime spécial",
            "syndicat",
            "prévision",
            "pénalité",
            "représentation national",
            "accident de travail",
            "partenaire social",
            "fonction public",
            "avis de le commission",
            "capitalisation",
            "pib",
            "pauvreté",
            "commission de affaire social",
            "maladie professionnel",
            "commission de affaire",
            "espérance",
            "modèle social",
            "patrimoine",
            "article 70",
            "fraude",
            "fiscalité",
            "fonds de pension",
            "retraite à 64",
            "droit à le retraite",
            "retraite à 64 an",
            "financement de retraite",
            "égalité salarial",
            "reconversion",
            "personne âgé",
            "salarié âgé",
            "loi de programmation",
            "dialogue social",
            "organisation syndical",
            "étude de impact",
            "rupture conventionnel",
            "supprimer le régime spécial",
            "chômeur",
            "sondage",
            "coût de travail",
            "taux de cotisation",
            "âge de le retraite",
            "grève",
            "égalité professionnel",
            "financer le retraite",
            "revenu de capital",
            "mission",
            "conseil constitutionnel",
            "retraite minimal",
            "universalité",
            "durée de cotisation",
            "macronie",
            "départ en retraite",
            "indemnité",
            "financement rectificative",
            "article 47",
            "impôt sur le vie",
            "régime spécial de retraite",
            "régime par répartition",
            "carrière haché",
            "recul de le âge",
            "solidarité national",
            "travailleuse",
            "loi de financement rectificative",
            "programmation de finance public",
            "exonération de cotisation social",
            "cotisation patronal",
            "marché de travail",
            "progrès social",
            "améliorer le taux",
            "cac40",
            "politique public",
            "petit retraite",
            "taux plein",
            "mandat",
            "index de le égalité",
            "pacte",
            "secteur priver",
            "RSA",
            "loi de finance",
            "souffrance",
            "critère de pénibilité",
            "superprofit",
            "baisse de impôt",
            "décote",
            "rente",
            "commission de finance",
            "pme",
            "grand fortune",
            "usure professionnel",
            "niche",
            "pédagogie",
            "économiste",
            "rétablir le isf",
            "article 8",
            "Cese",
            "source de financement",
            "intérêt général",
            "retraite en bon santé",
            "dépense public",
            "plan de épargne",
            "démographie",
            "masse salarial",
            "pérennité",
            "assurance maladie",
            "stabilité",
            "ultrariche",
            "patronat",
            "augmenter le cotisation",
            "impôt de solidarité",
            "contre le fraude",
            "sauver le système",
            "branche professionnel",
            "covid",
            "faire un effort",
            "impôt de production",
            "déficit de système",
            "augmenter le impôt",
            "branche vieilless",
            "caisse de le état",
            "financement de système",
            "épargne retraite",
            "dépense de retraite",
            "mesure de justice",
            "conquête social",
            "débat parlementaire",
            "embauche de senior",
            "rapport de COR",
            "employabilité",
            "aide public",
            "solidaire",
            "assurance chômag",
            "abaisser le seuil",
            "demander un effort",
            "droit de femme",
            "crédible",
            "recette fiscal",
            "augmentation de salaire",
            "favoriser le emploi",
            "droit à le paresse",
            "concertation interprofessionnel",
            "employabilité de senior",
            "allocation familial",
            "plan de épargne retraite",
            "budget de le état",
            "prélèvement obligatoire",
            "écart de rémunération",
            "1 200 euro brut",
            "retraite à taux plein",
            "12 milliard de euro",
            "accord de branche",
            "ouverture à le concurrence",
            "retraite par point",
            "labeur",
            "apaiser",
            "régression social",
            "revalorisation de petit pension",
            "pandémie",
            "génération futur",
            "régime fiscal",
            "prestation social",
            "lutte contre le fraude",
            "contribution social",
            "Ambroise Croizat",
            "extinction de régime spécial"
           ]
          ]
         },
         "header": {
          "align": "left",
          "values": [
           "term"
          ]
         },
         "type": "table"
        }
       ],
       "layout": {
        "margin": {
         "b": 0,
         "l": 0,
         "r": 0,
         "t": 0
        },
        "template": {
         "data": {
          "bar": [
           {
            "error_x": {
             "color": "#2a3f5f"
            },
            "error_y": {
             "color": "#2a3f5f"
            },
            "marker": {
             "line": {
              "color": "#E5ECF6",
              "width": 0.5
             },
             "pattern": {
              "fillmode": "overlay",
              "size": 10,
              "solidity": 0.2
             }
            },
            "type": "bar"
           }
          ],
          "barpolar": [
           {
            "marker": {
             "line": {
              "color": "#E5ECF6",
              "width": 0.5
             },
             "pattern": {
              "fillmode": "overlay",
              "size": 10,
              "solidity": 0.2
             }
            },
            "type": "barpolar"
           }
          ],
          "carpet": [
           {
            "aaxis": {
             "endlinecolor": "#2a3f5f",
             "gridcolor": "white",
             "linecolor": "white",
             "minorgridcolor": "white",
             "startlinecolor": "#2a3f5f"
            },
            "baxis": {
             "endlinecolor": "#2a3f5f",
             "gridcolor": "white",
             "linecolor": "white",
             "minorgridcolor": "white",
             "startlinecolor": "#2a3f5f"
            },
            "type": "carpet"
           }
          ],
          "choropleth": [
           {
            "colorbar": {
             "outlinewidth": 0,
             "ticks": ""
            },
            "type": "choropleth"
           }
          ],
          "contour": [
           {
            "colorbar": {
             "outlinewidth": 0,
             "ticks": ""
            },
            "colorscale": [
             [
              0,
              "#0d0887"
             ],
             [
              0.1111111111111111,
              "#46039f"
             ],
             [
              0.2222222222222222,
              "#7201a8"
             ],
             [
              0.3333333333333333,
              "#9c179e"
             ],
             [
              0.4444444444444444,
              "#bd3786"
             ],
             [
              0.5555555555555556,
              "#d8576b"
             ],
             [
              0.6666666666666666,
              "#ed7953"
             ],
             [
              0.7777777777777778,
              "#fb9f3a"
             ],
             [
              0.8888888888888888,
              "#fdca26"
             ],
             [
              1,
              "#f0f921"
             ]
            ],
            "type": "contour"
           }
          ],
          "contourcarpet": [
           {
            "colorbar": {
             "outlinewidth": 0,
             "ticks": ""
            },
            "type": "contourcarpet"
           }
          ],
          "heatmap": [
           {
            "colorbar": {
             "outlinewidth": 0,
             "ticks": ""
            },
            "colorscale": [
             [
              0,
              "#0d0887"
             ],
             [
              0.1111111111111111,
              "#46039f"
             ],
             [
              0.2222222222222222,
              "#7201a8"
             ],
             [
              0.3333333333333333,
              "#9c179e"
             ],
             [
              0.4444444444444444,
              "#bd3786"
             ],
             [
              0.5555555555555556,
              "#d8576b"
             ],
             [
              0.6666666666666666,
              "#ed7953"
             ],
             [
              0.7777777777777778,
              "#fb9f3a"
             ],
             [
              0.8888888888888888,
              "#fdca26"
             ],
             [
              1,
              "#f0f921"
             ]
            ],
            "type": "heatmap"
           }
          ],
          "heatmapgl": [
           {
            "colorbar": {
             "outlinewidth": 0,
             "ticks": ""
            },
            "colorscale": [
             [
              0,
              "#0d0887"
             ],
             [
              0.1111111111111111,
              "#46039f"
             ],
             [
              0.2222222222222222,
              "#7201a8"
             ],
             [
              0.3333333333333333,
              "#9c179e"
             ],
             [
              0.4444444444444444,
              "#bd3786"
             ],
             [
              0.5555555555555556,
              "#d8576b"
             ],
             [
              0.6666666666666666,
              "#ed7953"
             ],
             [
              0.7777777777777778,
              "#fb9f3a"
             ],
             [
              0.8888888888888888,
              "#fdca26"
             ],
             [
              1,
              "#f0f921"
             ]
            ],
            "type": "heatmapgl"
           }
          ],
          "histogram": [
           {
            "marker": {
             "pattern": {
              "fillmode": "overlay",
              "size": 10,
              "solidity": 0.2
             }
            },
            "type": "histogram"
           }
          ],
          "histogram2d": [
           {
            "colorbar": {
             "outlinewidth": 0,
             "ticks": ""
            },
            "colorscale": [
             [
              0,
              "#0d0887"
             ],
             [
              0.1111111111111111,
              "#46039f"
             ],
             [
              0.2222222222222222,
              "#7201a8"
             ],
             [
              0.3333333333333333,
              "#9c179e"
             ],
             [
              0.4444444444444444,
              "#bd3786"
             ],
             [
              0.5555555555555556,
              "#d8576b"
             ],
             [
              0.6666666666666666,
              "#ed7953"
             ],
             [
              0.7777777777777778,
              "#fb9f3a"
             ],
             [
              0.8888888888888888,
              "#fdca26"
             ],
             [
              1,
              "#f0f921"
             ]
            ],
            "type": "histogram2d"
           }
          ],
          "histogram2dcontour": [
           {
            "colorbar": {
             "outlinewidth": 0,
             "ticks": ""
            },
            "colorscale": [
             [
              0,
              "#0d0887"
             ],
             [
              0.1111111111111111,
              "#46039f"
             ],
             [
              0.2222222222222222,
              "#7201a8"
             ],
             [
              0.3333333333333333,
              "#9c179e"
             ],
             [
              0.4444444444444444,
              "#bd3786"
             ],
             [
              0.5555555555555556,
              "#d8576b"
             ],
             [
              0.6666666666666666,
              "#ed7953"
             ],
             [
              0.7777777777777778,
              "#fb9f3a"
             ],
             [
              0.8888888888888888,
              "#fdca26"
             ],
             [
              1,
              "#f0f921"
             ]
            ],
            "type": "histogram2dcontour"
           }
          ],
          "mesh3d": [
           {
            "colorbar": {
             "outlinewidth": 0,
             "ticks": ""
            },
            "type": "mesh3d"
           }
          ],
          "parcoords": [
           {
            "line": {
             "colorbar": {
              "outlinewidth": 0,
              "ticks": ""
             }
            },
            "type": "parcoords"
           }
          ],
          "pie": [
           {
            "automargin": true,
            "type": "pie"
           }
          ],
          "scatter": [
           {
            "fillpattern": {
             "fillmode": "overlay",
             "size": 10,
             "solidity": 0.2
            },
            "type": "scatter"
           }
          ],
          "scatter3d": [
           {
            "line": {
             "colorbar": {
              "outlinewidth": 0,
              "ticks": ""
             }
            },
            "marker": {
             "colorbar": {
              "outlinewidth": 0,
              "ticks": ""
             }
            },
            "type": "scatter3d"
           }
          ],
          "scattercarpet": [
           {
            "marker": {
             "colorbar": {
              "outlinewidth": 0,
              "ticks": ""
             }
            },
            "type": "scattercarpet"
           }
          ],
          "scattergeo": [
           {
            "marker": {
             "colorbar": {
              "outlinewidth": 0,
              "ticks": ""
             }
            },
            "type": "scattergeo"
           }
          ],
          "scattergl": [
           {
            "marker": {
             "colorbar": {
              "outlinewidth": 0,
              "ticks": ""
             }
            },
            "type": "scattergl"
           }
          ],
          "scattermapbox": [
           {
            "marker": {
             "colorbar": {
              "outlinewidth": 0,
              "ticks": ""
             }
            },
            "type": "scattermapbox"
           }
          ],
          "scatterpolar": [
           {
            "marker": {
             "colorbar": {
              "outlinewidth": 0,
              "ticks": ""
             }
            },
            "type": "scatterpolar"
           }
          ],
          "scatterpolargl": [
           {
            "marker": {
             "colorbar": {
              "outlinewidth": 0,
              "ticks": ""
             }
            },
            "type": "scatterpolargl"
           }
          ],
          "scatterternary": [
           {
            "marker": {
             "colorbar": {
              "outlinewidth": 0,
              "ticks": ""
             }
            },
            "type": "scatterternary"
           }
          ],
          "surface": [
           {
            "colorbar": {
             "outlinewidth": 0,
             "ticks": ""
            },
            "colorscale": [
             [
              0,
              "#0d0887"
             ],
             [
              0.1111111111111111,
              "#46039f"
             ],
             [
              0.2222222222222222,
              "#7201a8"
             ],
             [
              0.3333333333333333,
              "#9c179e"
             ],
             [
              0.4444444444444444,
              "#bd3786"
             ],
             [
              0.5555555555555556,
              "#d8576b"
             ],
             [
              0.6666666666666666,
              "#ed7953"
             ],
             [
              0.7777777777777778,
              "#fb9f3a"
             ],
             [
              0.8888888888888888,
              "#fdca26"
             ],
             [
              1,
              "#f0f921"
             ]
            ],
            "type": "surface"
           }
          ],
          "table": [
           {
            "cells": {
             "fill": {
              "color": "#EBF0F8"
             },
             "line": {
              "color": "white"
             }
            },
            "header": {
             "fill": {
              "color": "#C8D4E3"
             },
             "line": {
              "color": "white"
             }
            },
            "type": "table"
           }
          ]
         },
         "layout": {
          "annotationdefaults": {
           "arrowcolor": "#2a3f5f",
           "arrowhead": 0,
           "arrowwidth": 1
          },
          "autotypenumbers": "strict",
          "coloraxis": {
           "colorbar": {
            "outlinewidth": 0,
            "ticks": ""
           }
          },
          "colorscale": {
           "diverging": [
            [
             0,
             "#8e0152"
            ],
            [
             0.1,
             "#c51b7d"
            ],
            [
             0.2,
             "#de77ae"
            ],
            [
             0.3,
             "#f1b6da"
            ],
            [
             0.4,
             "#fde0ef"
            ],
            [
             0.5,
             "#f7f7f7"
            ],
            [
             0.6,
             "#e6f5d0"
            ],
            [
             0.7,
             "#b8e186"
            ],
            [
             0.8,
             "#7fbc41"
            ],
            [
             0.9,
             "#4d9221"
            ],
            [
             1,
             "#276419"
            ]
           ],
           "sequential": [
            [
             0,
             "#0d0887"
            ],
            [
             0.1111111111111111,
             "#46039f"
            ],
            [
             0.2222222222222222,
             "#7201a8"
            ],
            [
             0.3333333333333333,
             "#9c179e"
            ],
            [
             0.4444444444444444,
             "#bd3786"
            ],
            [
             0.5555555555555556,
             "#d8576b"
            ],
            [
             0.6666666666666666,
             "#ed7953"
            ],
            [
             0.7777777777777778,
             "#fb9f3a"
            ],
            [
             0.8888888888888888,
             "#fdca26"
            ],
            [
             1,
             "#f0f921"
            ]
           ],
           "sequentialminus": [
            [
             0,
             "#0d0887"
            ],
            [
             0.1111111111111111,
             "#46039f"
            ],
            [
             0.2222222222222222,
             "#7201a8"
            ],
            [
             0.3333333333333333,
             "#9c179e"
            ],
            [
             0.4444444444444444,
             "#bd3786"
            ],
            [
             0.5555555555555556,
             "#d8576b"
            ],
            [
             0.6666666666666666,
             "#ed7953"
            ],
            [
             0.7777777777777778,
             "#fb9f3a"
            ],
            [
             0.8888888888888888,
             "#fdca26"
            ],
            [
             1,
             "#f0f921"
            ]
           ]
          },
          "colorway": [
           "#636efa",
           "#EF553B",
           "#00cc96",
           "#ab63fa",
           "#FFA15A",
           "#19d3f3",
           "#FF6692",
           "#B6E880",
           "#FF97FF",
           "#FECB52"
          ],
          "font": {
           "color": "#2a3f5f"
          },
          "geo": {
           "bgcolor": "white",
           "lakecolor": "white",
           "landcolor": "#E5ECF6",
           "showlakes": true,
           "showland": true,
           "subunitcolor": "white"
          },
          "hoverlabel": {
           "align": "left"
          },
          "hovermode": "closest",
          "mapbox": {
           "style": "light"
          },
          "paper_bgcolor": "white",
          "plot_bgcolor": "#E5ECF6",
          "polar": {
           "angularaxis": {
            "gridcolor": "white",
            "linecolor": "white",
            "ticks": ""
           },
           "bgcolor": "#E5ECF6",
           "radialaxis": {
            "gridcolor": "white",
            "linecolor": "white",
            "ticks": ""
           }
          },
          "scene": {
           "xaxis": {
            "backgroundcolor": "#E5ECF6",
            "gridcolor": "white",
            "gridwidth": 2,
            "linecolor": "white",
            "showbackground": true,
            "ticks": "",
            "zerolinecolor": "white"
           },
           "yaxis": {
            "backgroundcolor": "#E5ECF6",
            "gridcolor": "white",
            "gridwidth": 2,
            "linecolor": "white",
            "showbackground": true,
            "ticks": "",
            "zerolinecolor": "white"
           },
           "zaxis": {
            "backgroundcolor": "#E5ECF6",
            "gridcolor": "white",
            "gridwidth": 2,
            "linecolor": "white",
            "showbackground": true,
            "ticks": "",
            "zerolinecolor": "white"
           }
          },
          "shapedefaults": {
           "line": {
            "color": "#2a3f5f"
           }
          },
          "ternary": {
           "aaxis": {
            "gridcolor": "white",
            "linecolor": "white",
            "ticks": ""
           },
           "baxis": {
            "gridcolor": "white",
            "linecolor": "white",
            "ticks": ""
           },
           "bgcolor": "#E5ECF6",
           "caxis": {
            "gridcolor": "white",
            "linecolor": "white",
            "ticks": ""
           }
          },
          "title": {
           "x": 0.05
          },
          "xaxis": {
           "automargin": true,
           "gridcolor": "white",
           "linecolor": "white",
           "ticks": "",
           "title": {
            "standoff": 15
           },
           "zerolinecolor": "white",
           "zerolinewidth": 2
          },
          "yaxis": {
           "automargin": true,
           "gridcolor": "white",
           "linecolor": "white",
           "ticks": "",
           "title": {
            "standoff": 15
           },
           "zerolinecolor": "white",
           "zerolinewidth": 2
          }
         }
        }
       }
      }
     },
     "metadata": {},
     "output_type": "display_data"
    }
   ],
   "source": [
    "keyword_df = pd.read_excel(\"data/keywords_selected.ods\",index_col=0)[[\"term\"]]\n",
    "datatable_from_pandas(keyword_df)"
   ]
  },
  {
   "cell_type": "markdown",
   "metadata": {},
   "source": [
    "### Proportion des interventions contenant des mots-clés "
   ]
  },
  {
   "cell_type": "code",
   "execution_count": 6,
   "metadata": {},
   "outputs": [
    {
     "data": {
      "application/vnd.plotly.v1+json": {
       "config": {
        "plotlyServerURL": "https://plot.ly"
       },
       "data": [
        {
         "alignmentgroup": "True",
         "bingroup": "x",
         "hovertemplate": "Groupe Politique=%{x}<br>Présence de mots-clés=Oui<br>count=%{y}<extra></extra>",
         "legendgroup": "GOV, Oui",
         "marker": {
          "color": "#6F1E51",
          "pattern": {
           "shape": ""
          }
         },
         "name": "GOV, Oui",
         "offsetgroup": "GOV, Oui",
         "orientation": "v",
         "showlegend": true,
         "type": "histogram",
         "x": [
          "GOV",
          "GOV",
          "GOV",
          "GOV",
          "GOV",
          "GOV",
          "GOV",
          "GOV",
          "GOV",
          "GOV",
          "GOV",
          "GOV",
          "GOV",
          "GOV",
          "GOV",
          "GOV",
          "GOV",
          "GOV",
          "GOV",
          "GOV",
          "GOV",
          "GOV",
          "GOV",
          "GOV",
          "GOV",
          "GOV",
          "GOV",
          "GOV",
          "GOV",
          "GOV",
          "GOV",
          "GOV",
          "GOV",
          "GOV",
          "GOV",
          "GOV",
          "GOV",
          "GOV",
          "GOV",
          "GOV",
          "GOV",
          "GOV",
          "GOV",
          "GOV",
          "GOV",
          "GOV",
          "GOV",
          "GOV",
          "GOV",
          "GOV",
          "GOV",
          "GOV",
          "GOV",
          "GOV",
          "GOV",
          "GOV",
          "GOV",
          "GOV",
          "GOV",
          "GOV",
          "GOV",
          "GOV",
          "GOV",
          "GOV",
          "GOV",
          "GOV",
          "GOV",
          "GOV",
          "GOV",
          "GOV",
          "GOV",
          "GOV",
          "GOV",
          "GOV",
          "GOV",
          "GOV",
          "GOV",
          "GOV",
          "GOV",
          "GOV",
          "GOV",
          "GOV",
          "GOV",
          "GOV",
          "GOV",
          "GOV",
          "GOV",
          "GOV",
          "GOV",
          "GOV",
          "GOV",
          "GOV",
          "GOV",
          "GOV",
          "GOV",
          "GOV",
          "GOV",
          "GOV",
          "GOV",
          "GOV",
          "GOV",
          "GOV",
          "GOV",
          "GOV",
          "GOV",
          "GOV",
          "GOV",
          "GOV",
          "GOV",
          "GOV",
          "GOV",
          "GOV",
          "GOV",
          "GOV",
          "GOV",
          "GOV",
          "GOV",
          "GOV",
          "GOV",
          "GOV",
          "GOV",
          "GOV",
          "GOV",
          "GOV",
          "GOV",
          "GOV",
          "GOV",
          "GOV",
          "GOV",
          "GOV",
          "GOV",
          "GOV",
          "GOV",
          "GOV",
          "GOV",
          "GOV",
          "GOV",
          "GOV",
          "GOV",
          "GOV",
          "GOV",
          "GOV",
          "GOV",
          "GOV",
          "GOV",
          "GOV",
          "GOV",
          "GOV",
          "GOV",
          "GOV",
          "GOV",
          "GOV",
          "GOV",
          "GOV",
          "GOV",
          "GOV",
          "GOV",
          "GOV",
          "GOV",
          "GOV",
          "GOV",
          "GOV",
          "GOV",
          "GOV",
          "GOV",
          "GOV",
          "GOV",
          "GOV",
          "GOV",
          "GOV",
          "GOV",
          "GOV",
          "GOV",
          "GOV",
          "GOV",
          "GOV",
          "GOV",
          "GOV",
          "GOV",
          "GOV",
          "GOV",
          "GOV",
          "GOV",
          "GOV",
          "GOV",
          "GOV",
          "GOV",
          "GOV",
          "GOV",
          "GOV",
          "GOV",
          "GOV",
          "GOV",
          "GOV",
          "GOV",
          "GOV",
          "GOV",
          "GOV",
          "GOV",
          "GOV",
          "GOV",
          "GOV",
          "GOV",
          "GOV",
          "GOV",
          "GOV",
          "GOV",
          "GOV",
          "GOV",
          "GOV",
          "GOV",
          "GOV",
          "GOV",
          "GOV",
          "GOV",
          "GOV",
          "GOV",
          "GOV",
          "GOV",
          "GOV",
          "GOV",
          "GOV",
          "GOV",
          "GOV",
          "GOV",
          "GOV",
          "GOV",
          "GOV",
          "GOV",
          "GOV",
          "GOV",
          "GOV",
          "GOV",
          "GOV",
          "GOV",
          "GOV",
          "GOV",
          "GOV",
          "GOV",
          "GOV",
          "GOV",
          "GOV",
          "GOV",
          "GOV",
          "GOV",
          "GOV",
          "GOV",
          "GOV",
          "GOV",
          "GOV",
          "GOV",
          "GOV",
          "GOV",
          "GOV",
          "GOV",
          "GOV",
          "GOV",
          "GOV",
          "GOV",
          "GOV",
          "GOV",
          "GOV",
          "GOV",
          "GOV",
          "GOV",
          "GOV",
          "GOV",
          "GOV",
          "GOV",
          "GOV",
          "GOV",
          "GOV",
          "GOV",
          "GOV",
          "GOV",
          "GOV",
          "GOV",
          "GOV",
          "GOV",
          "GOV",
          "GOV",
          "GOV",
          "GOV",
          "GOV",
          "GOV",
          "GOV",
          "GOV",
          "GOV",
          "GOV",
          "GOV",
          "GOV",
          "GOV",
          "GOV",
          "GOV",
          "GOV",
          "GOV",
          "GOV",
          "GOV",
          "GOV",
          "GOV",
          "GOV",
          "GOV",
          "GOV",
          "GOV",
          "GOV",
          "GOV",
          "GOV",
          "GOV",
          "GOV",
          "GOV",
          "GOV",
          "GOV",
          "GOV",
          "GOV",
          "GOV",
          "GOV",
          "GOV",
          "GOV",
          "GOV",
          "GOV",
          "GOV",
          "GOV",
          "GOV",
          "GOV",
          "GOV",
          "GOV",
          "GOV",
          "GOV",
          "GOV",
          "GOV",
          "GOV",
          "GOV",
          "GOV",
          "GOV",
          "GOV",
          "GOV",
          "GOV",
          "GOV",
          "GOV",
          "GOV",
          "GOV",
          "GOV",
          "GOV",
          "GOV",
          "GOV",
          "GOV",
          "GOV",
          "GOV"
         ],
         "xaxis": "x",
         "yaxis": "y"
        },
        {
         "alignmentgroup": "True",
         "bingroup": "x",
         "hovertemplate": "Groupe Politique=%{x}<br>Présence de mots-clés=Non<br>count=%{y}<extra></extra>",
         "legendgroup": "GOV, Non",
         "marker": {
          "color": "#6F1E51",
          "pattern": {
           "shape": "/"
          }
         },
         "name": "GOV, Non",
         "offsetgroup": "GOV, Non",
         "orientation": "v",
         "showlegend": true,
         "type": "histogram",
         "x": [
          "GOV",
          "GOV",
          "GOV",
          "GOV",
          "GOV",
          "GOV",
          "GOV",
          "GOV",
          "GOV",
          "GOV",
          "GOV",
          "GOV",
          "GOV",
          "GOV",
          "GOV",
          "GOV",
          "GOV",
          "GOV",
          "GOV",
          "GOV",
          "GOV",
          "GOV",
          "GOV",
          "GOV",
          "GOV",
          "GOV",
          "GOV",
          "GOV",
          "GOV",
          "GOV",
          "GOV",
          "GOV",
          "GOV",
          "GOV",
          "GOV",
          "GOV",
          "GOV",
          "GOV",
          "GOV",
          "GOV",
          "GOV",
          "GOV",
          "GOV",
          "GOV",
          "GOV",
          "GOV",
          "GOV",
          "GOV",
          "GOV",
          "GOV",
          "GOV",
          "GOV",
          "GOV",
          "GOV",
          "GOV",
          "GOV",
          "GOV",
          "GOV",
          "GOV",
          "GOV",
          "GOV",
          "GOV",
          "GOV",
          "GOV",
          "GOV",
          "GOV",
          "GOV",
          "GOV",
          "GOV",
          "GOV",
          "GOV",
          "GOV",
          "GOV",
          "GOV",
          "GOV",
          "GOV",
          "GOV",
          "GOV",
          "GOV",
          "GOV",
          "GOV",
          "GOV",
          "GOV",
          "GOV",
          "GOV",
          "GOV",
          "GOV",
          "GOV",
          "GOV",
          "GOV",
          "GOV",
          "GOV",
          "GOV",
          "GOV",
          "GOV",
          "GOV",
          "GOV",
          "GOV",
          "GOV",
          "GOV",
          "GOV",
          "GOV",
          "GOV",
          "GOV",
          "GOV",
          "GOV",
          "GOV",
          "GOV",
          "GOV",
          "GOV",
          "GOV",
          "GOV",
          "GOV",
          "GOV",
          "GOV",
          "GOV",
          "GOV",
          "GOV",
          "GOV",
          "GOV",
          "GOV",
          "GOV",
          "GOV",
          "GOV",
          "GOV",
          "GOV",
          "GOV"
         ],
         "xaxis": "x",
         "yaxis": "y"
        },
        {
         "alignmentgroup": "True",
         "bingroup": "x",
         "hovertemplate": "Groupe Politique=%{x}<br>Présence de mots-clés=Oui<br>count=%{y}<extra></extra>",
         "legendgroup": "SER, Oui",
         "marker": {
          "color": "#e74c3c",
          "pattern": {
           "shape": ""
          }
         },
         "name": "SER, Oui",
         "offsetgroup": "SER, Oui",
         "orientation": "v",
         "showlegend": true,
         "type": "histogram",
         "x": [
          "SER",
          "SER",
          "SER",
          "SER",
          "SER",
          "SER",
          "SER",
          "SER",
          "SER",
          "SER",
          "SER",
          "SER",
          "SER",
          "SER",
          "SER",
          "SER",
          "SER",
          "SER",
          "SER",
          "SER",
          "SER",
          "SER",
          "SER",
          "SER",
          "SER",
          "SER",
          "SER",
          "SER",
          "SER",
          "SER",
          "SER"
         ],
         "xaxis": "x",
         "yaxis": "y"
        },
        {
         "alignmentgroup": "True",
         "bingroup": "x",
         "hovertemplate": "Groupe Politique=%{x}<br>Présence de mots-clés=Oui<br>count=%{y}<extra></extra>",
         "legendgroup": "LFI, Oui",
         "marker": {
          "color": "#c0392b",
          "pattern": {
           "shape": ""
          }
         },
         "name": "LFI, Oui",
         "offsetgroup": "LFI, Oui",
         "orientation": "v",
         "showlegend": true,
         "type": "histogram",
         "x": [
          "LFI",
          "LFI",
          "LFI",
          "LFI",
          "LFI",
          "LFI",
          "LFI",
          "LFI",
          "LFI",
          "LFI",
          "LFI",
          "LFI",
          "LFI",
          "LFI",
          "LFI",
          "LFI",
          "LFI",
          "LFI",
          "LFI",
          "LFI",
          "LFI",
          "LFI",
          "LFI",
          "LFI",
          "LFI",
          "LFI",
          "LFI",
          "LFI",
          "LFI",
          "LFI",
          "LFI",
          "LFI",
          "LFI",
          "LFI",
          "LFI",
          "LFI",
          "LFI",
          "LFI",
          "LFI",
          "LFI",
          "LFI",
          "LFI",
          "LFI",
          "LFI",
          "LFI",
          "LFI",
          "LFI",
          "LFI",
          "LFI",
          "LFI",
          "LFI",
          "LFI",
          "LFI",
          "LFI",
          "LFI",
          "LFI",
          "LFI",
          "LFI",
          "LFI",
          "LFI",
          "LFI",
          "LFI",
          "LFI",
          "LFI",
          "LFI",
          "LFI",
          "LFI",
          "LFI",
          "LFI",
          "LFI",
          "LFI",
          "LFI",
          "LFI",
          "LFI",
          "LFI",
          "LFI",
          "LFI",
          "LFI",
          "LFI",
          "LFI",
          "LFI",
          "LFI",
          "LFI",
          "LFI",
          "LFI",
          "LFI",
          "LFI",
          "LFI",
          "LFI",
          "LFI",
          "LFI",
          "LFI",
          "LFI",
          "LFI",
          "LFI",
          "LFI",
          "LFI",
          "LFI",
          "LFI",
          "LFI",
          "LFI",
          "LFI",
          "LFI",
          "LFI",
          "LFI",
          "LFI",
          "LFI",
          "LFI",
          "LFI",
          "LFI",
          "LFI",
          "LFI",
          "LFI",
          "LFI",
          "LFI",
          "LFI",
          "LFI",
          "LFI",
          "LFI",
          "LFI",
          "LFI",
          "LFI",
          "LFI",
          "LFI",
          "LFI",
          "LFI",
          "LFI",
          "LFI",
          "LFI",
          "LFI",
          "LFI",
          "LFI",
          "LFI",
          "LFI",
          "LFI",
          "LFI",
          "LFI",
          "LFI",
          "LFI",
          "LFI",
          "LFI",
          "LFI",
          "LFI",
          "LFI",
          "LFI",
          "LFI",
          "LFI",
          "LFI",
          "LFI",
          "LFI",
          "LFI",
          "LFI",
          "LFI",
          "LFI",
          "LFI",
          "LFI",
          "LFI",
          "LFI",
          "LFI",
          "LFI",
          "LFI",
          "LFI",
          "LFI",
          "LFI",
          "LFI",
          "LFI",
          "LFI",
          "LFI",
          "LFI",
          "LFI",
          "LFI",
          "LFI",
          "LFI",
          "LFI",
          "LFI",
          "LFI",
          "LFI",
          "LFI",
          "LFI",
          "LFI",
          "LFI",
          "LFI",
          "LFI",
          "LFI",
          "LFI",
          "LFI",
          "LFI",
          "LFI",
          "LFI",
          "LFI",
          "LFI",
          "LFI",
          "LFI",
          "LFI",
          "LFI",
          "LFI",
          "LFI",
          "LFI",
          "LFI",
          "LFI",
          "LFI",
          "LFI",
          "LFI",
          "LFI",
          "LFI",
          "LFI",
          "LFI",
          "LFI",
          "LFI",
          "LFI",
          "LFI",
          "LFI",
          "LFI",
          "LFI",
          "LFI",
          "LFI",
          "LFI",
          "LFI",
          "LFI",
          "LFI",
          "LFI",
          "LFI",
          "LFI",
          "LFI",
          "LFI",
          "LFI",
          "LFI",
          "LFI",
          "LFI",
          "LFI",
          "LFI",
          "LFI",
          "LFI",
          "LFI",
          "LFI",
          "LFI",
          "LFI",
          "LFI",
          "LFI",
          "LFI",
          "LFI",
          "LFI",
          "LFI",
          "LFI",
          "LFI",
          "LFI",
          "LFI",
          "LFI",
          "LFI",
          "LFI",
          "LFI",
          "LFI",
          "LFI",
          "LFI",
          "LFI",
          "LFI",
          "LFI",
          "LFI",
          "LFI",
          "LFI",
          "LFI",
          "LFI",
          "LFI",
          "LFI",
          "LFI",
          "LFI",
          "LFI",
          "LFI",
          "LFI",
          "LFI",
          "LFI",
          "LFI",
          "LFI",
          "LFI",
          "LFI",
          "LFI",
          "LFI",
          "LFI",
          "LFI",
          "LFI",
          "LFI",
          "LFI",
          "LFI",
          "LFI",
          "LFI",
          "LFI",
          "LFI",
          "LFI",
          "LFI",
          "LFI",
          "LFI",
          "LFI",
          "LFI",
          "LFI",
          "LFI",
          "LFI",
          "LFI",
          "LFI",
          "LFI",
          "LFI",
          "LFI",
          "LFI",
          "LFI",
          "LFI",
          "LFI",
          "LFI",
          "LFI",
          "LFI",
          "LFI",
          "LFI",
          "LFI",
          "LFI",
          "LFI",
          "LFI",
          "LFI",
          "LFI",
          "LFI",
          "LFI",
          "LFI",
          "LFI",
          "LFI",
          "LFI",
          "LFI",
          "LFI",
          "LFI",
          "LFI",
          "LFI",
          "LFI",
          "LFI",
          "LFI",
          "LFI",
          "LFI",
          "LFI",
          "LFI",
          "LFI",
          "LFI",
          "LFI",
          "LFI",
          "LFI",
          "LFI",
          "LFI",
          "LFI",
          "LFI",
          "LFI",
          "LFI",
          "LFI",
          "LFI",
          "LFI",
          "LFI",
          "LFI",
          "LFI",
          "LFI",
          "LFI",
          "LFI",
          "LFI",
          "LFI",
          "LFI",
          "LFI",
          "LFI",
          "LFI",
          "LFI",
          "LFI",
          "LFI",
          "LFI",
          "LFI",
          "LFI",
          "LFI",
          "LFI",
          "LFI",
          "LFI",
          "LFI",
          "LFI",
          "LFI",
          "LFI",
          "LFI",
          "LFI",
          "LFI",
          "LFI",
          "LFI",
          "LFI",
          "LFI",
          "LFI",
          "LFI",
          "LFI",
          "LFI",
          "LFI",
          "LFI",
          "LFI",
          "LFI",
          "LFI",
          "LFI",
          "LFI",
          "LFI",
          "LFI",
          "LFI",
          "LFI",
          "LFI",
          "LFI",
          "LFI",
          "LFI",
          "LFI",
          "LFI",
          "LFI",
          "LFI",
          "LFI",
          "LFI",
          "LFI",
          "LFI",
          "LFI",
          "LFI",
          "LFI",
          "LFI",
          "LFI",
          "LFI",
          "LFI",
          "LFI",
          "LFI",
          "LFI",
          "LFI",
          "LFI",
          "LFI",
          "LFI",
          "LFI",
          "LFI",
          "LFI"
         ],
         "xaxis": "x",
         "yaxis": "y"
        },
        {
         "alignmentgroup": "True",
         "bingroup": "x",
         "hovertemplate": "Groupe Politique=%{x}<br>Présence de mots-clés=Non<br>count=%{y}<extra></extra>",
         "legendgroup": "LFI, Non",
         "marker": {
          "color": "#c0392b",
          "pattern": {
           "shape": "/"
          }
         },
         "name": "LFI, Non",
         "offsetgroup": "LFI, Non",
         "orientation": "v",
         "showlegend": true,
         "type": "histogram",
         "x": [
          "LFI",
          "LFI",
          "LFI"
         ],
         "xaxis": "x",
         "yaxis": "y"
        },
        {
         "alignmentgroup": "True",
         "bingroup": "x",
         "hovertemplate": "Groupe Politique=%{x}<br>Présence de mots-clés=Oui<br>count=%{y}<extra></extra>",
         "legendgroup": "GDR, Oui",
         "marker": {
          "color": "#EA2027",
          "pattern": {
           "shape": ""
          }
         },
         "name": "GDR, Oui",
         "offsetgroup": "GDR, Oui",
         "orientation": "v",
         "showlegend": true,
         "type": "histogram",
         "x": [
          "GDR",
          "GDR",
          "GDR",
          "GDR",
          "GDR",
          "GDR",
          "GDR",
          "GDR",
          "GDR",
          "GDR",
          "GDR",
          "GDR",
          "GDR",
          "GDR",
          "GDR",
          "GDR",
          "GDR",
          "GDR",
          "GDR",
          "GDR",
          "GDR",
          "GDR",
          "GDR",
          "GDR",
          "GDR",
          "GDR",
          "GDR",
          "GDR",
          "GDR",
          "GDR",
          "GDR",
          "GDR",
          "GDR",
          "GDR",
          "GDR",
          "GDR",
          "GDR",
          "GDR",
          "GDR",
          "GDR",
          "GDR",
          "GDR",
          "GDR",
          "GDR",
          "GDR",
          "GDR",
          "GDR",
          "GDR",
          "GDR",
          "GDR",
          "GDR",
          "GDR",
          "GDR",
          "GDR",
          "GDR",
          "GDR",
          "GDR",
          "GDR",
          "GDR",
          "GDR",
          "GDR",
          "GDR",
          "GDR",
          "GDR",
          "GDR",
          "GDR",
          "GDR",
          "GDR",
          "GDR",
          "GDR",
          "GDR",
          "GDR",
          "GDR",
          "GDR",
          "GDR",
          "GDR",
          "GDR",
          "GDR",
          "GDR",
          "GDR",
          "GDR",
          "GDR",
          "GDR",
          "GDR",
          "GDR",
          "GDR",
          "GDR",
          "GDR",
          "GDR",
          "GDR",
          "GDR",
          "GDR",
          "GDR",
          "GDR",
          "GDR",
          "GDR",
          "GDR",
          "GDR",
          "GDR",
          "GDR",
          "GDR",
          "GDR",
          "GDR",
          "GDR",
          "GDR",
          "GDR",
          "GDR",
          "GDR",
          "GDR",
          "GDR",
          "GDR",
          "GDR",
          "GDR"
         ],
         "xaxis": "x",
         "yaxis": "y"
        },
        {
         "alignmentgroup": "True",
         "bingroup": "x",
         "hovertemplate": "Groupe Politique=%{x}<br>Présence de mots-clés=Non<br>count=%{y}<extra></extra>",
         "legendgroup": "GDR, Non",
         "marker": {
          "color": "#EA2027",
          "pattern": {
           "shape": "/"
          }
         },
         "name": "GDR, Non",
         "offsetgroup": "GDR, Non",
         "orientation": "v",
         "showlegend": true,
         "type": "histogram",
         "x": [
          "GDR"
         ],
         "xaxis": "x",
         "yaxis": "y"
        },
        {
         "alignmentgroup": "True",
         "bingroup": "x",
         "hovertemplate": "Groupe Politique=%{x}<br>Présence de mots-clés=Oui<br>count=%{y}<extra></extra>",
         "legendgroup": "ECO, Oui",
         "marker": {
          "color": "#009432",
          "pattern": {
           "shape": ""
          }
         },
         "name": "ECO, Oui",
         "offsetgroup": "ECO, Oui",
         "orientation": "v",
         "showlegend": true,
         "type": "histogram",
         "x": [
          "ECO",
          "ECO",
          "ECO",
          "ECO",
          "ECO",
          "ECO",
          "ECO",
          "ECO",
          "ECO",
          "ECO",
          "ECO",
          "ECO",
          "ECO",
          "ECO",
          "ECO",
          "ECO",
          "ECO",
          "ECO",
          "ECO",
          "ECO",
          "ECO",
          "ECO",
          "ECO",
          "ECO",
          "ECO",
          "ECO",
          "ECO",
          "ECO",
          "ECO",
          "ECO",
          "ECO",
          "ECO",
          "ECO",
          "ECO",
          "ECO",
          "ECO",
          "ECO",
          "ECO",
          "ECO",
          "ECO",
          "ECO",
          "ECO",
          "ECO",
          "ECO",
          "ECO",
          "ECO",
          "ECO",
          "ECO",
          "ECO",
          "ECO",
          "ECO",
          "ECO",
          "ECO",
          "ECO",
          "ECO",
          "ECO",
          "ECO",
          "ECO",
          "ECO",
          "ECO",
          "ECO",
          "ECO",
          "ECO",
          "ECO",
          "ECO",
          "ECO",
          "ECO",
          "ECO",
          "ECO",
          "ECO",
          "ECO",
          "ECO",
          "ECO",
          "ECO",
          "ECO",
          "ECO",
          "ECO",
          "ECO",
          "ECO",
          "ECO",
          "ECO",
          "ECO",
          "ECO",
          "ECO",
          "ECO",
          "ECO",
          "ECO",
          "ECO",
          "ECO",
          "ECO",
          "ECO",
          "ECO",
          "ECO"
         ],
         "xaxis": "x",
         "yaxis": "y"
        },
        {
         "alignmentgroup": "True",
         "bingroup": "x",
         "hovertemplate": "Groupe Politique=%{x}<br>Présence de mots-clés=Non<br>count=%{y}<extra></extra>",
         "legendgroup": "ECO, Non",
         "marker": {
          "color": "#009432",
          "pattern": {
           "shape": "/"
          }
         },
         "name": "ECO, Non",
         "offsetgroup": "ECO, Non",
         "orientation": "v",
         "showlegend": true,
         "type": "histogram",
         "x": [
          "ECO",
          "ECO"
         ],
         "xaxis": "x",
         "yaxis": "y"
        },
        {
         "alignmentgroup": "True",
         "bingroup": "x",
         "hovertemplate": "Groupe Politique=%{x}<br>Présence de mots-clés=Oui<br>count=%{y}<extra></extra>",
         "legendgroup": "NI, Oui",
         "marker": {
          "color": "#95a5a6",
          "pattern": {
           "shape": ""
          }
         },
         "name": "NI, Oui",
         "offsetgroup": "NI, Oui",
         "orientation": "v",
         "showlegend": true,
         "type": "histogram",
         "x": [
          "NI",
          "NI",
          "NI",
          "NI",
          "NI",
          "NI",
          "NI",
          "NI",
          "NI",
          "NI",
          "NI",
          "NI",
          "NI",
          "NI",
          "NI",
          "NI",
          "NI",
          "NI",
          "NI",
          "NI",
          "NI",
          "NI",
          "NI",
          "NI",
          "NI",
          "NI",
          "NI",
          "NI",
          "NI",
          "NI",
          "NI",
          "NI",
          "NI",
          "NI",
          "NI",
          "NI"
         ],
         "xaxis": "x",
         "yaxis": "y"
        },
        {
         "alignmentgroup": "True",
         "bingroup": "x",
         "hovertemplate": "Groupe Politique=%{x}<br>Présence de mots-clés=Oui<br>count=%{y}<extra></extra>",
         "legendgroup": "UDI, Oui",
         "marker": {
          "color": "#9b59b6",
          "pattern": {
           "shape": ""
          }
         },
         "name": "UDI, Oui",
         "offsetgroup": "UDI, Oui",
         "orientation": "v",
         "showlegend": true,
         "type": "histogram",
         "x": [
          "UDI",
          "UDI",
          "UDI",
          "UDI",
          "UDI",
          "UDI",
          "UDI",
          "UDI",
          "UDI",
          "UDI",
          "UDI",
          "UDI",
          "UDI",
          "UDI",
          "UDI",
          "UDI",
          "UDI",
          "UDI",
          "UDI",
          "UDI",
          "UDI",
          "UDI",
          "UDI",
          "UDI",
          "UDI",
          "UDI",
          "UDI",
          "UDI",
          "UDI",
          "UDI",
          "UDI",
          "UDI",
          "UDI",
          "UDI",
          "UDI",
          "UDI",
          "UDI",
          "UDI",
          "UDI",
          "UDI",
          "UDI",
          "UDI",
          "UDI",
          "UDI",
          "UDI",
          "UDI",
          "UDI",
          "UDI",
          "UDI",
          "UDI",
          "UDI",
          "UDI"
         ],
         "xaxis": "x",
         "yaxis": "y"
        },
        {
         "alignmentgroup": "True",
         "bingroup": "x",
         "hovertemplate": "Groupe Politique=%{x}<br>Présence de mots-clés=Non<br>count=%{y}<extra></extra>",
         "legendgroup": "UDI, Non",
         "marker": {
          "color": "#9b59b6",
          "pattern": {
           "shape": "/"
          }
         },
         "name": "UDI, Non",
         "offsetgroup": "UDI, Non",
         "orientation": "v",
         "showlegend": true,
         "type": "histogram",
         "x": [
          "UDI"
         ],
         "xaxis": "x",
         "yaxis": "y"
        },
        {
         "alignmentgroup": "True",
         "bingroup": "x",
         "hovertemplate": "Groupe Politique=%{x}<br>Présence de mots-clés=Oui<br>count=%{y}<extra></extra>",
         "legendgroup": "REN, Oui",
         "marker": {
          "color": "#3498db",
          "pattern": {
           "shape": ""
          }
         },
         "name": "REN, Oui",
         "offsetgroup": "REN, Oui",
         "orientation": "v",
         "showlegend": true,
         "type": "histogram",
         "x": [
          "REN",
          "REN",
          "REN",
          "REN",
          "REN",
          "REN",
          "REN",
          "REN",
          "REN",
          "REN",
          "REN",
          "REN",
          "REN",
          "REN",
          "REN",
          "REN",
          "REN",
          "REN",
          "REN",
          "REN",
          "REN",
          "REN",
          "REN",
          "REN",
          "REN",
          "REN",
          "REN",
          "REN",
          "REN",
          "REN",
          "REN",
          "REN",
          "REN",
          "REN",
          "REN",
          "REN",
          "REN",
          "REN",
          "REN",
          "REN",
          "REN",
          "REN",
          "REN",
          "REN",
          "REN",
          "REN",
          "REN",
          "REN",
          "REN",
          "REN",
          "REN",
          "REN",
          "REN",
          "REN",
          "REN",
          "REN",
          "REN",
          "REN",
          "REN",
          "REN",
          "REN",
          "REN",
          "REN",
          "REN",
          "REN",
          "REN",
          "REN",
          "REN",
          "REN",
          "REN",
          "REN",
          "REN",
          "REN",
          "REN",
          "REN",
          "REN",
          "REN",
          "REN",
          "REN",
          "REN",
          "REN",
          "REN",
          "REN",
          "REN",
          "REN",
          "REN",
          "REN",
          "REN",
          "REN",
          "REN",
          "REN",
          "REN",
          "REN",
          "REN",
          "REN",
          "REN",
          "REN",
          "REN",
          "REN",
          "REN",
          "REN",
          "REN",
          "REN",
          "REN",
          "REN",
          "REN",
          "REN",
          "REN",
          "REN",
          "REN",
          "REN",
          "REN",
          "REN",
          "REN",
          "REN",
          "REN",
          "REN",
          "REN",
          "REN",
          "REN",
          "REN",
          "REN",
          "REN",
          "REN",
          "REN",
          "REN",
          "REN",
          "REN",
          "REN",
          "REN",
          "REN",
          "REN",
          "REN",
          "REN",
          "REN",
          "REN",
          "REN",
          "REN",
          "REN",
          "REN",
          "REN",
          "REN",
          "REN",
          "REN",
          "REN",
          "REN",
          "REN",
          "REN",
          "REN",
          "REN",
          "REN",
          "REN",
          "REN",
          "REN",
          "REN",
          "REN",
          "REN",
          "REN",
          "REN",
          "REN",
          "REN",
          "REN",
          "REN",
          "REN",
          "REN",
          "REN",
          "REN",
          "REN",
          "REN",
          "REN",
          "REN",
          "REN",
          "REN",
          "REN",
          "REN",
          "REN",
          "REN",
          "REN",
          "REN",
          "REN",
          "REN",
          "REN",
          "REN",
          "REN",
          "REN",
          "REN",
          "REN",
          "REN",
          "REN",
          "REN",
          "REN",
          "REN",
          "REN",
          "REN",
          "REN",
          "REN",
          "REN",
          "REN",
          "REN",
          "REN",
          "REN",
          "REN",
          "REN",
          "REN",
          "REN",
          "REN",
          "REN",
          "REN",
          "REN",
          "REN",
          "REN",
          "REN",
          "REN",
          "REN",
          "REN",
          "REN",
          "REN",
          "REN",
          "REN",
          "REN",
          "REN",
          "REN",
          "REN",
          "REN",
          "REN",
          "REN",
          "REN",
          "REN",
          "REN",
          "REN",
          "REN",
          "REN",
          "REN",
          "REN",
          "REN",
          "REN",
          "REN",
          "REN",
          "REN",
          "REN",
          "REN",
          "REN",
          "REN",
          "REN",
          "REN",
          "REN",
          "REN",
          "REN",
          "REN",
          "REN",
          "REN",
          "REN",
          "REN",
          "REN",
          "REN",
          "REN",
          "REN",
          "REN",
          "REN",
          "REN",
          "REN",
          "REN",
          "REN",
          "REN",
          "REN",
          "REN",
          "REN",
          "REN",
          "REN",
          "REN",
          "REN"
         ],
         "xaxis": "x",
         "yaxis": "y"
        },
        {
         "alignmentgroup": "True",
         "bingroup": "x",
         "hovertemplate": "Groupe Politique=%{x}<br>Présence de mots-clés=Non<br>count=%{y}<extra></extra>",
         "legendgroup": "REN, Non",
         "marker": {
          "color": "#3498db",
          "pattern": {
           "shape": "/"
          }
         },
         "name": "REN, Non",
         "offsetgroup": "REN, Non",
         "orientation": "v",
         "showlegend": true,
         "type": "histogram",
         "x": [
          "REN",
          "REN",
          "REN"
         ],
         "xaxis": "x",
         "yaxis": "y"
        },
        {
         "alignmentgroup": "True",
         "bingroup": "x",
         "hovertemplate": "Groupe Politique=%{x}<br>Présence de mots-clés=Oui<br>count=%{y}<extra></extra>",
         "legendgroup": "MODEM, Oui",
         "marker": {
          "color": "#e67e22",
          "pattern": {
           "shape": ""
          }
         },
         "name": "MODEM, Oui",
         "offsetgroup": "MODEM, Oui",
         "orientation": "v",
         "showlegend": true,
         "type": "histogram",
         "x": [
          "MODEM",
          "MODEM",
          "MODEM",
          "MODEM",
          "MODEM",
          "MODEM",
          "MODEM",
          "MODEM",
          "MODEM",
          "MODEM",
          "MODEM",
          "MODEM",
          "MODEM",
          "MODEM",
          "MODEM",
          "MODEM",
          "MODEM",
          "MODEM",
          "MODEM",
          "MODEM",
          "MODEM",
          "MODEM",
          "MODEM",
          "MODEM",
          "MODEM",
          "MODEM",
          "MODEM",
          "MODEM",
          "MODEM",
          "MODEM",
          "MODEM",
          "MODEM",
          "MODEM",
          "MODEM",
          "MODEM",
          "MODEM",
          "MODEM",
          "MODEM",
          "MODEM",
          "MODEM",
          "MODEM",
          "MODEM",
          "MODEM",
          "MODEM",
          "MODEM",
          "MODEM",
          "MODEM",
          "MODEM",
          "MODEM",
          "MODEM",
          "MODEM",
          "MODEM",
          "MODEM",
          "MODEM",
          "MODEM",
          "MODEM",
          "MODEM",
          "MODEM",
          "MODEM",
          "MODEM",
          "MODEM",
          "MODEM",
          "MODEM",
          "MODEM",
          "MODEM",
          "MODEM",
          "MODEM",
          "MODEM",
          "MODEM",
          "MODEM",
          "MODEM",
          "MODEM",
          "MODEM",
          "MODEM"
         ],
         "xaxis": "x",
         "yaxis": "y"
        },
        {
         "alignmentgroup": "True",
         "bingroup": "x",
         "hovertemplate": "Groupe Politique=%{x}<br>Présence de mots-clés=Non<br>count=%{y}<extra></extra>",
         "legendgroup": "MODEM, Non",
         "marker": {
          "color": "#e67e22",
          "pattern": {
           "shape": "/"
          }
         },
         "name": "MODEM, Non",
         "offsetgroup": "MODEM, Non",
         "orientation": "v",
         "showlegend": true,
         "type": "histogram",
         "x": [
          "MODEM"
         ],
         "xaxis": "x",
         "yaxis": "y"
        },
        {
         "alignmentgroup": "True",
         "bingroup": "x",
         "hovertemplate": "Groupe Politique=%{x}<br>Présence de mots-clés=Oui<br>count=%{y}<extra></extra>",
         "legendgroup": "LIOT, Oui",
         "marker": {
          "color": "#2ecc71",
          "pattern": {
           "shape": ""
          }
         },
         "name": "LIOT, Oui",
         "offsetgroup": "LIOT, Oui",
         "orientation": "v",
         "showlegend": true,
         "type": "histogram",
         "x": [
          "LIOT",
          "LIOT",
          "LIOT",
          "LIOT",
          "LIOT",
          "LIOT",
          "LIOT",
          "LIOT",
          "LIOT",
          "LIOT",
          "LIOT",
          "LIOT",
          "LIOT",
          "LIOT",
          "LIOT",
          "LIOT",
          "LIOT",
          "LIOT",
          "LIOT",
          "LIOT",
          "LIOT",
          "LIOT"
         ],
         "xaxis": "x",
         "yaxis": "y"
        },
        {
         "alignmentgroup": "True",
         "bingroup": "x",
         "hovertemplate": "Groupe Politique=%{x}<br>Présence de mots-clés=Oui<br>count=%{y}<extra></extra>",
         "legendgroup": "RN, Oui",
         "marker": {
          "color": "#2c3e50",
          "pattern": {
           "shape": ""
          }
         },
         "name": "RN, Oui",
         "offsetgroup": "RN, Oui",
         "orientation": "v",
         "showlegend": true,
         "type": "histogram",
         "x": [
          "RN",
          "RN",
          "RN",
          "RN",
          "RN",
          "RN",
          "RN",
          "RN",
          "RN",
          "RN",
          "RN",
          "RN",
          "RN",
          "RN",
          "RN",
          "RN",
          "RN",
          "RN",
          "RN",
          "RN",
          "RN",
          "RN",
          "RN",
          "RN",
          "RN",
          "RN",
          "RN",
          "RN",
          "RN",
          "RN",
          "RN",
          "RN",
          "RN",
          "RN",
          "RN",
          "RN",
          "RN",
          "RN",
          "RN",
          "RN",
          "RN",
          "RN",
          "RN",
          "RN",
          "RN",
          "RN",
          "RN",
          "RN",
          "RN",
          "RN",
          "RN",
          "RN",
          "RN",
          "RN",
          "RN",
          "RN",
          "RN",
          "RN",
          "RN",
          "RN",
          "RN",
          "RN",
          "RN",
          "RN",
          "RN",
          "RN",
          "RN",
          "RN",
          "RN",
          "RN",
          "RN",
          "RN",
          "RN",
          "RN",
          "RN",
          "RN",
          "RN",
          "RN",
          "RN",
          "RN",
          "RN",
          "RN",
          "RN",
          "RN",
          "RN",
          "RN",
          "RN",
          "RN",
          "RN",
          "RN",
          "RN",
          "RN",
          "RN",
          "RN",
          "RN",
          "RN",
          "RN",
          "RN",
          "RN",
          "RN"
         ],
         "xaxis": "x",
         "yaxis": "y"
        },
        {
         "alignmentgroup": "True",
         "bingroup": "x",
         "hovertemplate": "Groupe Politique=%{x}<br>Présence de mots-clés=Non<br>count=%{y}<extra></extra>",
         "legendgroup": "RN, Non",
         "marker": {
          "color": "#2c3e50",
          "pattern": {
           "shape": "/"
          }
         },
         "name": "RN, Non",
         "offsetgroup": "RN, Non",
         "orientation": "v",
         "showlegend": true,
         "type": "histogram",
         "x": [
          "RN"
         ],
         "xaxis": "x",
         "yaxis": "y"
        },
        {
         "alignmentgroup": "True",
         "bingroup": "x",
         "hovertemplate": "Groupe Politique=%{x}<br>Présence de mots-clés=Oui<br>count=%{y}<extra></extra>",
         "legendgroup": "LR, Oui",
         "marker": {
          "color": "#2980b9",
          "pattern": {
           "shape": ""
          }
         },
         "name": "LR, Oui",
         "offsetgroup": "LR, Oui",
         "orientation": "v",
         "showlegend": true,
         "type": "histogram",
         "x": [
          "LR",
          "LR",
          "LR",
          "LR",
          "LR",
          "LR",
          "LR",
          "LR",
          "LR",
          "LR",
          "LR",
          "LR",
          "LR",
          "LR",
          "LR",
          "LR",
          "LR",
          "LR",
          "LR",
          "LR",
          "LR",
          "LR",
          "LR",
          "LR",
          "LR",
          "LR",
          "LR",
          "LR",
          "LR",
          "LR",
          "LR",
          "LR",
          "LR",
          "LR",
          "LR",
          "LR",
          "LR",
          "LR",
          "LR",
          "LR",
          "LR",
          "LR",
          "LR",
          "LR",
          "LR",
          "LR",
          "LR",
          "LR",
          "LR",
          "LR",
          "LR",
          "LR",
          "LR",
          "LR",
          "LR",
          "LR",
          "LR",
          "LR",
          "LR",
          "LR",
          "LR",
          "LR",
          "LR",
          "LR",
          "LR",
          "LR",
          "LR",
          "LR",
          "LR",
          "LR",
          "LR",
          "LR",
          "LR",
          "LR",
          "LR",
          "LR",
          "LR",
          "LR",
          "LR",
          "LR",
          "LR",
          "LR",
          "LR",
          "LR",
          "LR",
          "LR",
          "LR",
          "LR",
          "LR",
          "LR",
          "LR",
          "LR",
          "LR",
          "LR",
          "LR",
          "LR",
          "LR",
          "LR",
          "LR",
          "LR",
          "LR",
          "LR",
          "LR",
          "LR",
          "LR",
          "LR",
          "LR",
          "LR",
          "LR",
          "LR",
          "LR",
          "LR",
          "LR",
          "LR",
          "LR",
          "LR",
          "LR",
          "LR",
          "LR",
          "LR",
          "LR",
          "LR",
          "LR",
          "LR",
          "LR",
          "LR",
          "LR",
          "LR",
          "LR",
          "LR",
          "LR",
          "LR",
          "LR",
          "LR",
          "LR",
          "LR",
          "LR",
          "LR",
          "LR",
          "LR",
          "LR",
          "LR",
          "LR",
          "LR",
          "LR",
          "LR",
          "LR",
          "LR",
          "LR",
          "LR",
          "LR",
          "LR",
          "LR",
          "LR",
          "LR",
          "LR",
          "LR",
          "LR",
          "LR",
          "LR",
          "LR",
          "LR",
          "LR",
          "LR",
          "LR",
          "LR",
          "LR",
          "LR",
          "LR",
          "LR",
          "LR",
          "LR",
          "LR",
          "LR",
          "LR",
          "LR",
          "LR",
          "LR",
          "LR",
          "LR",
          "LR",
          "LR",
          "LR",
          "LR",
          "LR",
          "LR",
          "LR",
          "LR"
         ],
         "xaxis": "x",
         "yaxis": "y"
        },
        {
         "alignmentgroup": "True",
         "bingroup": "x",
         "hovertemplate": "Groupe Politique=%{x}<br>Présence de mots-clés=Non<br>count=%{y}<extra></extra>",
         "legendgroup": "LR, Non",
         "marker": {
          "color": "#2980b9",
          "pattern": {
           "shape": "/"
          }
         },
         "name": "LR, Non",
         "offsetgroup": "LR, Non",
         "orientation": "v",
         "showlegend": true,
         "type": "histogram",
         "x": [
          "LR"
         ],
         "xaxis": "x",
         "yaxis": "y"
        },
        {
         "alignmentgroup": "True",
         "bingroup": "x",
         "hovertemplate": "Groupe Politique=%{x}<br>Présence de mots-clés=Oui<br>count=%{y}<extra></extra>",
         "legendgroup": "SOC, Oui",
         "marker": {
          "color": "#ED4C67",
          "pattern": {
           "shape": ""
          }
         },
         "name": "SOC, Oui",
         "offsetgroup": "SOC, Oui",
         "orientation": "v",
         "showlegend": true,
         "type": "histogram",
         "x": [
          "SOC",
          "SOC",
          "SOC",
          "SOC",
          "SOC",
          "SOC",
          "SOC",
          "SOC",
          "SOC",
          "SOC",
          "SOC",
          "SOC",
          "SOC",
          "SOC",
          "SOC",
          "SOC",
          "SOC",
          "SOC",
          "SOC",
          "SOC",
          "SOC",
          "SOC",
          "SOC",
          "SOC",
          "SOC",
          "SOC",
          "SOC",
          "SOC",
          "SOC",
          "SOC",
          "SOC",
          "SOC",
          "SOC",
          "SOC",
          "SOC",
          "SOC",
          "SOC",
          "SOC",
          "SOC",
          "SOC",
          "SOC",
          "SOC",
          "SOC",
          "SOC",
          "SOC",
          "SOC",
          "SOC",
          "SOC",
          "SOC",
          "SOC",
          "SOC",
          "SOC",
          "SOC",
          "SOC",
          "SOC",
          "SOC",
          "SOC",
          "SOC",
          "SOC",
          "SOC",
          "SOC",
          "SOC",
          "SOC",
          "SOC",
          "SOC",
          "SOC",
          "SOC",
          "SOC",
          "SOC",
          "SOC",
          "SOC",
          "SOC",
          "SOC",
          "SOC",
          "SOC",
          "SOC",
          "SOC",
          "SOC",
          "SOC",
          "SOC",
          "SOC",
          "SOC",
          "SOC",
          "SOC",
          "SOC",
          "SOC",
          "SOC",
          "SOC",
          "SOC",
          "SOC",
          "SOC",
          "SOC",
          "SOC",
          "SOC",
          "SOC",
          "SOC",
          "SOC"
         ],
         "xaxis": "x",
         "yaxis": "y"
        },
        {
         "alignmentgroup": "True",
         "bingroup": "x",
         "hovertemplate": "Groupe Politique=%{x}<br>Présence de mots-clés=Non<br>count=%{y}<extra></extra>",
         "legendgroup": "SOC, Non",
         "marker": {
          "color": "#ED4C67",
          "pattern": {
           "shape": "/"
          }
         },
         "name": "SOC, Non",
         "offsetgroup": "SOC, Non",
         "orientation": "v",
         "showlegend": true,
         "type": "histogram",
         "x": [
          "SOC",
          "SOC",
          "SOC"
         ],
         "xaxis": "x",
         "yaxis": "y"
        },
        {
         "alignmentgroup": "True",
         "bingroup": "x",
         "hovertemplate": "Groupe Politique=%{x}<br>Présence de mots-clés=Oui<br>count=%{y}<extra></extra>",
         "legendgroup": "HOR, Oui",
         "marker": {
          "color": "#1B1464",
          "pattern": {
           "shape": ""
          }
         },
         "name": "HOR, Oui",
         "offsetgroup": "HOR, Oui",
         "orientation": "v",
         "showlegend": true,
         "type": "histogram",
         "x": [
          "HOR",
          "HOR",
          "HOR",
          "HOR",
          "HOR",
          "HOR",
          "HOR",
          "HOR"
         ],
         "xaxis": "x",
         "yaxis": "y"
        },
        {
         "alignmentgroup": "True",
         "bingroup": "x",
         "hovertemplate": "Groupe Politique=%{x}<br>Présence de mots-clés=Oui<br>count=%{y}<extra></extra>",
         "legendgroup": "RRDP, Oui",
         "marker": {
          "color": "#FFC312",
          "pattern": {
           "shape": ""
          }
         },
         "name": "RRDP, Oui",
         "offsetgroup": "RRDP, Oui",
         "orientation": "v",
         "showlegend": true,
         "type": "histogram",
         "x": [
          "RRDP"
         ],
         "xaxis": "x",
         "yaxis": "y"
        }
       ],
       "layout": {
        "barmode": "relative",
        "legend": {
         "title": {
          "text": "Groupe Politique, Présence de mots-clés"
         },
         "tracegroupgap": 0
        },
        "margin": {
         "t": 60
        },
        "template": {
         "data": {
          "bar": [
           {
            "error_x": {
             "color": "#2a3f5f"
            },
            "error_y": {
             "color": "#2a3f5f"
            },
            "marker": {
             "line": {
              "color": "#E5ECF6",
              "width": 0.5
             },
             "pattern": {
              "fillmode": "overlay",
              "size": 10,
              "solidity": 0.2
             }
            },
            "type": "bar"
           }
          ],
          "barpolar": [
           {
            "marker": {
             "line": {
              "color": "#E5ECF6",
              "width": 0.5
             },
             "pattern": {
              "fillmode": "overlay",
              "size": 10,
              "solidity": 0.2
             }
            },
            "type": "barpolar"
           }
          ],
          "carpet": [
           {
            "aaxis": {
             "endlinecolor": "#2a3f5f",
             "gridcolor": "white",
             "linecolor": "white",
             "minorgridcolor": "white",
             "startlinecolor": "#2a3f5f"
            },
            "baxis": {
             "endlinecolor": "#2a3f5f",
             "gridcolor": "white",
             "linecolor": "white",
             "minorgridcolor": "white",
             "startlinecolor": "#2a3f5f"
            },
            "type": "carpet"
           }
          ],
          "choropleth": [
           {
            "colorbar": {
             "outlinewidth": 0,
             "ticks": ""
            },
            "type": "choropleth"
           }
          ],
          "contour": [
           {
            "colorbar": {
             "outlinewidth": 0,
             "ticks": ""
            },
            "colorscale": [
             [
              0,
              "#0d0887"
             ],
             [
              0.1111111111111111,
              "#46039f"
             ],
             [
              0.2222222222222222,
              "#7201a8"
             ],
             [
              0.3333333333333333,
              "#9c179e"
             ],
             [
              0.4444444444444444,
              "#bd3786"
             ],
             [
              0.5555555555555556,
              "#d8576b"
             ],
             [
              0.6666666666666666,
              "#ed7953"
             ],
             [
              0.7777777777777778,
              "#fb9f3a"
             ],
             [
              0.8888888888888888,
              "#fdca26"
             ],
             [
              1,
              "#f0f921"
             ]
            ],
            "type": "contour"
           }
          ],
          "contourcarpet": [
           {
            "colorbar": {
             "outlinewidth": 0,
             "ticks": ""
            },
            "type": "contourcarpet"
           }
          ],
          "heatmap": [
           {
            "colorbar": {
             "outlinewidth": 0,
             "ticks": ""
            },
            "colorscale": [
             [
              0,
              "#0d0887"
             ],
             [
              0.1111111111111111,
              "#46039f"
             ],
             [
              0.2222222222222222,
              "#7201a8"
             ],
             [
              0.3333333333333333,
              "#9c179e"
             ],
             [
              0.4444444444444444,
              "#bd3786"
             ],
             [
              0.5555555555555556,
              "#d8576b"
             ],
             [
              0.6666666666666666,
              "#ed7953"
             ],
             [
              0.7777777777777778,
              "#fb9f3a"
             ],
             [
              0.8888888888888888,
              "#fdca26"
             ],
             [
              1,
              "#f0f921"
             ]
            ],
            "type": "heatmap"
           }
          ],
          "heatmapgl": [
           {
            "colorbar": {
             "outlinewidth": 0,
             "ticks": ""
            },
            "colorscale": [
             [
              0,
              "#0d0887"
             ],
             [
              0.1111111111111111,
              "#46039f"
             ],
             [
              0.2222222222222222,
              "#7201a8"
             ],
             [
              0.3333333333333333,
              "#9c179e"
             ],
             [
              0.4444444444444444,
              "#bd3786"
             ],
             [
              0.5555555555555556,
              "#d8576b"
             ],
             [
              0.6666666666666666,
              "#ed7953"
             ],
             [
              0.7777777777777778,
              "#fb9f3a"
             ],
             [
              0.8888888888888888,
              "#fdca26"
             ],
             [
              1,
              "#f0f921"
             ]
            ],
            "type": "heatmapgl"
           }
          ],
          "histogram": [
           {
            "marker": {
             "pattern": {
              "fillmode": "overlay",
              "size": 10,
              "solidity": 0.2
             }
            },
            "type": "histogram"
           }
          ],
          "histogram2d": [
           {
            "colorbar": {
             "outlinewidth": 0,
             "ticks": ""
            },
            "colorscale": [
             [
              0,
              "#0d0887"
             ],
             [
              0.1111111111111111,
              "#46039f"
             ],
             [
              0.2222222222222222,
              "#7201a8"
             ],
             [
              0.3333333333333333,
              "#9c179e"
             ],
             [
              0.4444444444444444,
              "#bd3786"
             ],
             [
              0.5555555555555556,
              "#d8576b"
             ],
             [
              0.6666666666666666,
              "#ed7953"
             ],
             [
              0.7777777777777778,
              "#fb9f3a"
             ],
             [
              0.8888888888888888,
              "#fdca26"
             ],
             [
              1,
              "#f0f921"
             ]
            ],
            "type": "histogram2d"
           }
          ],
          "histogram2dcontour": [
           {
            "colorbar": {
             "outlinewidth": 0,
             "ticks": ""
            },
            "colorscale": [
             [
              0,
              "#0d0887"
             ],
             [
              0.1111111111111111,
              "#46039f"
             ],
             [
              0.2222222222222222,
              "#7201a8"
             ],
             [
              0.3333333333333333,
              "#9c179e"
             ],
             [
              0.4444444444444444,
              "#bd3786"
             ],
             [
              0.5555555555555556,
              "#d8576b"
             ],
             [
              0.6666666666666666,
              "#ed7953"
             ],
             [
              0.7777777777777778,
              "#fb9f3a"
             ],
             [
              0.8888888888888888,
              "#fdca26"
             ],
             [
              1,
              "#f0f921"
             ]
            ],
            "type": "histogram2dcontour"
           }
          ],
          "mesh3d": [
           {
            "colorbar": {
             "outlinewidth": 0,
             "ticks": ""
            },
            "type": "mesh3d"
           }
          ],
          "parcoords": [
           {
            "line": {
             "colorbar": {
              "outlinewidth": 0,
              "ticks": ""
             }
            },
            "type": "parcoords"
           }
          ],
          "pie": [
           {
            "automargin": true,
            "type": "pie"
           }
          ],
          "scatter": [
           {
            "fillpattern": {
             "fillmode": "overlay",
             "size": 10,
             "solidity": 0.2
            },
            "type": "scatter"
           }
          ],
          "scatter3d": [
           {
            "line": {
             "colorbar": {
              "outlinewidth": 0,
              "ticks": ""
             }
            },
            "marker": {
             "colorbar": {
              "outlinewidth": 0,
              "ticks": ""
             }
            },
            "type": "scatter3d"
           }
          ],
          "scattercarpet": [
           {
            "marker": {
             "colorbar": {
              "outlinewidth": 0,
              "ticks": ""
             }
            },
            "type": "scattercarpet"
           }
          ],
          "scattergeo": [
           {
            "marker": {
             "colorbar": {
              "outlinewidth": 0,
              "ticks": ""
             }
            },
            "type": "scattergeo"
           }
          ],
          "scattergl": [
           {
            "marker": {
             "colorbar": {
              "outlinewidth": 0,
              "ticks": ""
             }
            },
            "type": "scattergl"
           }
          ],
          "scattermapbox": [
           {
            "marker": {
             "colorbar": {
              "outlinewidth": 0,
              "ticks": ""
             }
            },
            "type": "scattermapbox"
           }
          ],
          "scatterpolar": [
           {
            "marker": {
             "colorbar": {
              "outlinewidth": 0,
              "ticks": ""
             }
            },
            "type": "scatterpolar"
           }
          ],
          "scatterpolargl": [
           {
            "marker": {
             "colorbar": {
              "outlinewidth": 0,
              "ticks": ""
             }
            },
            "type": "scatterpolargl"
           }
          ],
          "scatterternary": [
           {
            "marker": {
             "colorbar": {
              "outlinewidth": 0,
              "ticks": ""
             }
            },
            "type": "scatterternary"
           }
          ],
          "surface": [
           {
            "colorbar": {
             "outlinewidth": 0,
             "ticks": ""
            },
            "colorscale": [
             [
              0,
              "#0d0887"
             ],
             [
              0.1111111111111111,
              "#46039f"
             ],
             [
              0.2222222222222222,
              "#7201a8"
             ],
             [
              0.3333333333333333,
              "#9c179e"
             ],
             [
              0.4444444444444444,
              "#bd3786"
             ],
             [
              0.5555555555555556,
              "#d8576b"
             ],
             [
              0.6666666666666666,
              "#ed7953"
             ],
             [
              0.7777777777777778,
              "#fb9f3a"
             ],
             [
              0.8888888888888888,
              "#fdca26"
             ],
             [
              1,
              "#f0f921"
             ]
            ],
            "type": "surface"
           }
          ],
          "table": [
           {
            "cells": {
             "fill": {
              "color": "#EBF0F8"
             },
             "line": {
              "color": "white"
             }
            },
            "header": {
             "fill": {
              "color": "#C8D4E3"
             },
             "line": {
              "color": "white"
             }
            },
            "type": "table"
           }
          ]
         },
         "layout": {
          "annotationdefaults": {
           "arrowcolor": "#2a3f5f",
           "arrowhead": 0,
           "arrowwidth": 1
          },
          "autotypenumbers": "strict",
          "coloraxis": {
           "colorbar": {
            "outlinewidth": 0,
            "ticks": ""
           }
          },
          "colorscale": {
           "diverging": [
            [
             0,
             "#8e0152"
            ],
            [
             0.1,
             "#c51b7d"
            ],
            [
             0.2,
             "#de77ae"
            ],
            [
             0.3,
             "#f1b6da"
            ],
            [
             0.4,
             "#fde0ef"
            ],
            [
             0.5,
             "#f7f7f7"
            ],
            [
             0.6,
             "#e6f5d0"
            ],
            [
             0.7,
             "#b8e186"
            ],
            [
             0.8,
             "#7fbc41"
            ],
            [
             0.9,
             "#4d9221"
            ],
            [
             1,
             "#276419"
            ]
           ],
           "sequential": [
            [
             0,
             "#0d0887"
            ],
            [
             0.1111111111111111,
             "#46039f"
            ],
            [
             0.2222222222222222,
             "#7201a8"
            ],
            [
             0.3333333333333333,
             "#9c179e"
            ],
            [
             0.4444444444444444,
             "#bd3786"
            ],
            [
             0.5555555555555556,
             "#d8576b"
            ],
            [
             0.6666666666666666,
             "#ed7953"
            ],
            [
             0.7777777777777778,
             "#fb9f3a"
            ],
            [
             0.8888888888888888,
             "#fdca26"
            ],
            [
             1,
             "#f0f921"
            ]
           ],
           "sequentialminus": [
            [
             0,
             "#0d0887"
            ],
            [
             0.1111111111111111,
             "#46039f"
            ],
            [
             0.2222222222222222,
             "#7201a8"
            ],
            [
             0.3333333333333333,
             "#9c179e"
            ],
            [
             0.4444444444444444,
             "#bd3786"
            ],
            [
             0.5555555555555556,
             "#d8576b"
            ],
            [
             0.6666666666666666,
             "#ed7953"
            ],
            [
             0.7777777777777778,
             "#fb9f3a"
            ],
            [
             0.8888888888888888,
             "#fdca26"
            ],
            [
             1,
             "#f0f921"
            ]
           ]
          },
          "colorway": [
           "#636efa",
           "#EF553B",
           "#00cc96",
           "#ab63fa",
           "#FFA15A",
           "#19d3f3",
           "#FF6692",
           "#B6E880",
           "#FF97FF",
           "#FECB52"
          ],
          "font": {
           "color": "#2a3f5f"
          },
          "geo": {
           "bgcolor": "white",
           "lakecolor": "white",
           "landcolor": "#E5ECF6",
           "showlakes": true,
           "showland": true,
           "subunitcolor": "white"
          },
          "hoverlabel": {
           "align": "left"
          },
          "hovermode": "closest",
          "mapbox": {
           "style": "light"
          },
          "paper_bgcolor": "white",
          "plot_bgcolor": "#E5ECF6",
          "polar": {
           "angularaxis": {
            "gridcolor": "white",
            "linecolor": "white",
            "ticks": ""
           },
           "bgcolor": "#E5ECF6",
           "radialaxis": {
            "gridcolor": "white",
            "linecolor": "white",
            "ticks": ""
           }
          },
          "scene": {
           "xaxis": {
            "backgroundcolor": "#E5ECF6",
            "gridcolor": "white",
            "gridwidth": 2,
            "linecolor": "white",
            "showbackground": true,
            "ticks": "",
            "zerolinecolor": "white"
           },
           "yaxis": {
            "backgroundcolor": "#E5ECF6",
            "gridcolor": "white",
            "gridwidth": 2,
            "linecolor": "white",
            "showbackground": true,
            "ticks": "",
            "zerolinecolor": "white"
           },
           "zaxis": {
            "backgroundcolor": "#E5ECF6",
            "gridcolor": "white",
            "gridwidth": 2,
            "linecolor": "white",
            "showbackground": true,
            "ticks": "",
            "zerolinecolor": "white"
           }
          },
          "shapedefaults": {
           "line": {
            "color": "#2a3f5f"
           }
          },
          "ternary": {
           "aaxis": {
            "gridcolor": "white",
            "linecolor": "white",
            "ticks": ""
           },
           "baxis": {
            "gridcolor": "white",
            "linecolor": "white",
            "ticks": ""
           },
           "bgcolor": "#E5ECF6",
           "caxis": {
            "gridcolor": "white",
            "linecolor": "white",
            "ticks": ""
           }
          },
          "title": {
           "x": 0.05
          },
          "xaxis": {
           "automargin": true,
           "gridcolor": "white",
           "linecolor": "white",
           "ticks": "",
           "title": {
            "standoff": 15
           },
           "zerolinecolor": "white",
           "zerolinewidth": 2
          },
          "yaxis": {
           "automargin": true,
           "gridcolor": "white",
           "linecolor": "white",
           "ticks": "",
           "title": {
            "standoff": 15
           },
           "zerolinecolor": "white",
           "zerolinewidth": 2
          }
         }
        },
        "xaxis": {
         "anchor": "y",
         "categoryarray": [
          "GOV",
          "SER",
          "LFI",
          "GDR",
          "ECO",
          "NI",
          "UDI",
          "REN",
          "MODEM",
          "LIOT",
          "RN",
          "LR",
          "SOC",
          "HOR",
          "RRDP"
         ],
         "categoryorder": "array",
         "domain": [
          0,
          1
         ],
         "title": {
          "text": "Groupe Politique"
         }
        },
        "yaxis": {
         "anchor": "x",
         "domain": [
          0,
          1
         ],
         "title": {
          "text": "# Interventions"
         }
        }
       }
      }
     },
     "metadata": {},
     "output_type": "display_data"
    }
   ],
   "source": [
    "fig_parl = px.histogram(parlement_df,\n",
    "                        x=\"groupe_sigle\",\n",
    "                        pattern_shape=\"is_keywords_label\",\n",
    "                        labels={\"count\":\"\",\"groupe_sigle\":\"Groupe Politique\",\"is_keywords_label\":\"Présence de mots-clés\"},\n",
    "                        color_discrete_map=gp_politique_color, color=\"groupe_sigle\")\n",
    "fig_parl.update_layout(yaxis_title=\"# Interventions\")"
   ]
  },
  {
   "cell_type": "markdown",
   "metadata": {},
   "source": [
    "### Distribution des mots-clés par groupe parlementaire"
   ]
  },
  {
   "cell_type": "code",
   "execution_count": 7,
   "metadata": {},
   "outputs": [
    {
     "data": {
      "text/html": [
       "\n",
       "  <div id=\"cd3c553a-01be-47c7-b5e6-c386e34e636e\" data-root-id=\"p1784\" style=\"display: contents;\"></div>\n"
      ]
     },
     "metadata": {},
     "output_type": "display_data"
    },
    {
     "data": {
      "application/javascript": "(function(root) {\n  function embed_document(root) {\n  const docs_json = {\"cd23067e-7664-46e3-b1a2-0e8c347dc94e\":{\"version\":\"3.1.1\",\"title\":\"Bokeh Application\",\"defs\":[],\"roots\":[{\"type\":\"object\",\"name\":\"Tabs\",\"id\":\"p1784\",\"attributes\":{\"sizing_mode\":\"stretch_width\",\"tabs\":[{\"type\":\"object\",\"name\":\"TabPanel\",\"id\":\"p1261\",\"attributes\":{\"title\":\"1 mot\",\"child\":{\"type\":\"object\",\"name\":\"Figure\",\"id\":\"p1001\",\"attributes\":{\"sizing_mode\":\"stretch_width\",\"x_range\":{\"type\":\"object\",\"name\":\"DataRange1d\",\"id\":\"p1003\",\"attributes\":{\"start\":0,\"end\":100}},\"y_range\":{\"type\":\"object\",\"name\":\"FactorRange\",\"id\":\"p1013\",\"attributes\":{\"factors\":[\"loi\",\"prime\",\"pouvoir\",\"public\",\"social\",\"majorit\\u00e9\",\"retrait\",\"travail\",\"retraite\",\"mission\",\"France\",\"ratio\",\"entreprise\",\"r\\u00e9gime\",\"gouvernement\",\"senior\",\"\\u00e2ge\",\"vote\",\"fran\\u00e7ais\",\"r\\u00e9forme\",\"financer\",\"\\u00e9tat\",\"femme\",\"priver\",\"d\\u00e9ficit\",\"famille\"]}},\"x_scale\":{\"type\":\"object\",\"name\":\"LinearScale\",\"id\":\"p1015\"},\"y_scale\":{\"type\":\"object\",\"name\":\"CategoricalScale\",\"id\":\"p1017\"},\"title\":{\"type\":\"object\",\"name\":\"Title\",\"id\":\"p1004\",\"attributes\":{\"text\":\"Distribution des occurrences de top mots-cl\\u00e9s\"}},\"renderers\":[{\"type\":\"object\",\"name\":\"GlyphRenderer\",\"id\":\"p1074\",\"attributes\":{\"name\":\"GOV\",\"data_source\":{\"type\":\"object\",\"name\":\"ColumnDataSource\",\"id\":\"p1065\",\"attributes\":{\"selected\":{\"type\":\"object\",\"name\":\"Selection\",\"id\":\"p1066\",\"attributes\":{\"indices\":[],\"line_indices\":[]}},\"selection_policy\":{\"type\":\"object\",\"name\":\"UnionRenderers\",\"id\":\"p1067\"},\"data\":{\"type\":\"map\",\"entries\":[[\"term\",[\"loi\",\"prime\",\"pouvoir\",\"public\",\"social\",\"majorit\\u00e9\",\"retrait\",\"travail\",\"retraite\",\"mission\",\"France\",\"ratio\",\"entreprise\",\"r\\u00e9gime\",\"gouvernement\",\"senior\",\"\\u00e2ge\",\"vote\",\"fran\\u00e7ais\",\"r\\u00e9forme\",\"financer\",\"\\u00e9tat\",\"femme\",\"priver\",\"d\\u00e9ficit\",\"famille\"]],[\"GOV\",[11.2182296231376,30.670103092783506,14.411027568922306,26.865671641791046,16.863406408094438,32.63888888888889,8.956796628029505,8.278580814717477,7.045454545454545,28.000000000000004,16.257668711656443,12.928759894459102,9.45054945054945,10.023866348448687,13.84083044982699,8.87728459530026,9.580838323353294,12.946428571428573,6.018518518518518,4.421768707482993,11.585365853658537,9.239130434782608,5.217391304347826,13.253012048192772,4.301075268817205,14.285714285714285]],[\"SER\",[1.6652059596844873,1.2886597938144329,1.5037593984962405,1.9900497512437811,1.854974704890388,1.7361111111111112,1.8967334035827188,1.8396846254927726,2.0454545454545454,2.5,1.5337423312883436,2.9023746701846966,1.098901098901099,2.6252983293556085,1.0380622837370241,1.0443864229765014,3.293413173652695,3.125,2.7777777777777777,1.870748299319728,1.2195121951219512,2.717391304347826,2.1739130434782608,2.4096385542168677,1.6129032258064515,0]],[\"LFI\",[25.591586327782643,23.45360824742268,23.182957393483708,23.383084577114428,24.283305227655987,20.48611111111111,31.08535300316122,34.55978975032852,32.27272727272727,11.0,28.22085889570552,25.593667546174142,23.956043956043956,25.53699284009546,26.643598615916954,18.5378590078329,25.748502994011975,23.214285714285715,36.80555555555556,36.394557823129254,35.97560975609756,27.173913043478258,30.869565217391305,32.53012048192771,34.946236559139784,24.489795918367346]],[\"GDR\",[7.011393514460999,4.123711340206185,4.887218045112782,7.213930348258707,8.094435075885329,10.069444444444445,6.111696522655427,8.409986859395532,6.0227272727272725,6.5,6.748466257668712,6.860158311345646,4.835164835164836,9.307875894988067,7.612456747404845,4.699738903394255,4.491017964071856,5.357142857142857,4.62962962962963,8.16326530612245,1.8292682926829267,5.434782608695652,6.956521739130435,9.63855421686747,7.526881720430108,6.122448979591836]],[\"ECO\",[4.732690622261174,3.608247422680412,5.137844611528822,3.482587064676617,5.396290050590219,4.513888888888888,4.847207586933614,5.387647831800263,5.0,4.0,3.374233128834356,5.804749340369393,7.472527472527473,3.1026252983293556,4.498269896193772,5.483028720626632,4.491017964071856,2.232142857142857,7.87037037037037,6.462585034013606,3.6585365853658534,4.3478260869565215,9.565217391304348,4.819277108433735,5.376344086021505,2.0408163265306123]],[\"NI\",[2.4539877300613497,2.5773195876288657,2.0050125313283207,2.736318407960199,1.5177065767284992,1.7361111111111112,2.73972602739726,2.102496714848883,2.840909090909091,2.0,2.7607361963190185,2.638522427440633,2.6373626373626373,2.6252983293556085,3.1141868512110724,2.610966057441253,3.293413173652695,1.7857142857142856,3.009259259259259,3.061224489795918,2.4390243902439024,4.891304347826087,2.1739130434782608,4.819277108433735,5.913978494623656,2.0408163265306123]],[\"UDI\",[3.2427695004382118,1.5463917525773196,3.8847117794486214,4.228855721393035,3.372681281618887,2.083333333333333,3.0558482613277134,2.4967148488830486,3.295454545454545,4.5,3.374233128834356,3.430079155672823,3.7362637362637363,4.05727923627685,2.422145328719723,4.699738903394255,4.491017964071856,4.910714285714286,2.314814814814815,2.380952380952381,2.4390243902439024,5.434782608695652,3.4782608695652173,4.819277108433735,2.6881720430107525,0]],[\"REN\",[15.337423312883436,10.56701030927835,12.155388471177945,6.218905472636816,11.129848229342327,8.680555555555555,12.961011591148578,10.38107752956636,12.15909090909091,14.499999999999998,13.190184049079754,12.401055408970976,18.24175824175824,13.842482100238662,6.920415224913495,18.27676240208877,11.676646706586826,12.5,10.416666666666668,6.802721088435375,14.634146341463413,9.239130434782608,10.434782608695652,7.228915662650602,17.20430107526882,2.0408163265306123]],[\"MODEM\",[4.1191936897458366,3.0927835051546393,5.137844611528822,3.233830845771144,4.5531197301854975,1.7361111111111112,4.004214963119073,3.8107752956636007,4.318181818181818,4.0,2.7607361963190185,5.013192612137203,3.9560439560439558,5.011933174224343,2.0761245674740483,3.3942558746736298,2.694610778443114,4.017857142857143,2.7777777777777777,3.741496598639456,5.487804878048781,4.891304347826087,2.1739130434782608,3.614457831325301,3.763440860215054,6.122448979591836]],[\"LIOT\",[1.5775635407537247,0.25773195876288657,0.8771929824561403,0.9950248756218906,1.854974704890388,1.0416666666666665,1.2644889357218125,1.445466491458607,1.3636363636363635,0,0.3067484662576687,1.0554089709762533,1.5384615384615385,0.47732696897374705,1.384083044982699,3.1331592689295036,2.3952095808383236,1.7857142857142856,0.23148148148148145,1.3605442176870748,1.2195121951219512,1.0869565217391304,1.3043478260869565,3.614457831325301,2.1505376344086025,2.0408163265306123]],[\"RN\",[5.083260297984225,4.123711340206185,7.268170426065162,4.72636815920398,5.733558178752108,6.597222222222222,6.42781875658588,6.83311432325887,6.8181818181818175,5.5,8.588957055214724,3.95778364116095,6.153846153846154,5.250596658711217,11.072664359861593,5.7441253263707575,8.08383233532934,12.946428571428573,10.87962962962963,9.523809523809524,3.6585365853658534,8.152173913043478,6.086956521739131,6.024096385542169,3.225806451612903,6.122448979591836]],[\"LR\",[11.130587204206837,6.958762886597938,12.280701754385964,8.706467661691542,8.768971332209107,4.513888888888888,9.905163329820864,9.461235216819974,10.0,11.0,7.975460122699387,11.609498680738787,12.527472527472527,10.501193317422434,9.688581314878892,16.187989556135772,12.874251497005988,9.821428571428571,6.25,7.8231292517006805,9.146341463414634,9.239130434782608,12.608695652173912,3.614457831325301,4.838709677419355,28.57142857142857]],[\"SOC\",[6.397896581945661,7.216494845360824,6.7669172932330826,6.218905472636816,6.408094435075886,4.166666666666666,6.533192834562697,4.862023653088042,6.59090909090909,5.5,4.294478527607362,5.804749340369393,4.175824175824175,7.637231503579953,9.688581314878892,6.527415143603134,6.58682634730539,4.464285714285714,5.787037037037037,7.653061224489796,5.487804878048781,7.608695652173914,6.086956521739131,2.4096385542168677,6.451612903225806,2.0408163265306123]],[\"HOR\",[0.43821209465381245,0.5154639175257731,0.5012531328320802,0,0.16863406408094433,0,0.21074815595363539,0.1314060446780552,0.22727272727272727,1.0,0.6134969325153374,0,0.21978021978021978,0,0,0.5221932114882507,0.29940119760479045,0.8928571428571428,0.23148148148148145,0.3401360544217687,1.2195121951219512,0,0.8695652173913043,0,0,4.081632653061225]],[\"RRDP\",[0,0,0,0,0,0,0,0,0,0,0,0,0,0,0,0.26109660574412535,0,0,0,0,0,0.5434782608695652,0,1.2048192771084338,0,0]]]}}},\"view\":{\"type\":\"object\",\"name\":\"CDSView\",\"id\":\"p1075\",\"attributes\":{\"filter\":{\"type\":\"object\",\"name\":\"AllIndices\",\"id\":\"p1076\"}}},\"glyph\":{\"type\":\"object\",\"name\":\"HBar\",\"id\":\"p1071\",\"attributes\":{\"y\":{\"type\":\"field\",\"field\":\"term\"},\"left\":{\"type\":\"expr\",\"expr\":{\"type\":\"object\",\"name\":\"Stack\",\"id\":\"p1035\",\"attributes\":{\"fields\":[]}}},\"right\":{\"type\":\"expr\",\"expr\":{\"type\":\"object\",\"name\":\"Stack\",\"id\":\"p1036\",\"attributes\":{\"fields\":[\"GOV\"]}}},\"line_color\":{\"type\":\"value\",\"value\":\"#444\"},\"line_width\":{\"type\":\"value\",\"value\":0.9},\"fill_color\":{\"type\":\"value\",\"value\":\"#6F1E51\"},\"hatch_color\":{\"type\":\"value\",\"value\":\"#6F1E51\"}}},\"nonselection_glyph\":{\"type\":\"object\",\"name\":\"HBar\",\"id\":\"p1072\",\"attributes\":{\"y\":{\"type\":\"field\",\"field\":\"term\"},\"left\":{\"type\":\"expr\",\"expr\":{\"id\":\"p1035\"}},\"right\":{\"type\":\"expr\",\"expr\":{\"id\":\"p1036\"}},\"line_color\":{\"type\":\"value\",\"value\":\"#444\"},\"line_alpha\":{\"type\":\"value\",\"value\":0.1},\"line_width\":{\"type\":\"value\",\"value\":0.9},\"fill_color\":{\"type\":\"value\",\"value\":\"#6F1E51\"},\"fill_alpha\":{\"type\":\"value\",\"value\":0.1},\"hatch_color\":{\"type\":\"value\",\"value\":\"#6F1E51\"},\"hatch_alpha\":{\"type\":\"value\",\"value\":0.1}}},\"muted_glyph\":{\"type\":\"object\",\"name\":\"HBar\",\"id\":\"p1073\",\"attributes\":{\"y\":{\"type\":\"field\",\"field\":\"term\"},\"left\":{\"type\":\"expr\",\"expr\":{\"id\":\"p1035\"}},\"right\":{\"type\":\"expr\",\"expr\":{\"id\":\"p1036\"}},\"line_color\":{\"type\":\"value\",\"value\":\"#444\"},\"line_alpha\":{\"type\":\"value\",\"value\":0.2},\"line_width\":{\"type\":\"value\",\"value\":0.9},\"fill_color\":{\"type\":\"value\",\"value\":\"#6F1E51\"},\"fill_alpha\":{\"type\":\"value\",\"value\":0.2},\"hatch_color\":{\"type\":\"value\",\"value\":\"#6F1E51\"},\"hatch_alpha\":{\"type\":\"value\",\"value\":0.2}}}}},{\"type\":\"object\",\"name\":\"GlyphRenderer\",\"id\":\"p1086\",\"attributes\":{\"name\":\"SER\",\"data_source\":{\"type\":\"object\",\"name\":\"ColumnDataSource\",\"id\":\"p1077\",\"attributes\":{\"selected\":{\"type\":\"object\",\"name\":\"Selection\",\"id\":\"p1078\",\"attributes\":{\"indices\":[],\"line_indices\":[]}},\"selection_policy\":{\"type\":\"object\",\"name\":\"UnionRenderers\",\"id\":\"p1079\"},\"data\":{\"type\":\"map\",\"entries\":[[\"term\",[\"loi\",\"prime\",\"pouvoir\",\"public\",\"social\",\"majorit\\u00e9\",\"retrait\",\"travail\",\"retraite\",\"mission\",\"France\",\"ratio\",\"entreprise\",\"r\\u00e9gime\",\"gouvernement\",\"senior\",\"\\u00e2ge\",\"vote\",\"fran\\u00e7ais\",\"r\\u00e9forme\",\"financer\",\"\\u00e9tat\",\"femme\",\"priver\",\"d\\u00e9ficit\",\"famille\"]],[\"GOV\",[11.2182296231376,30.670103092783506,14.411027568922306,26.865671641791046,16.863406408094438,32.63888888888889,8.956796628029505,8.278580814717477,7.045454545454545,28.000000000000004,16.257668711656443,12.928759894459102,9.45054945054945,10.023866348448687,13.84083044982699,8.87728459530026,9.580838323353294,12.946428571428573,6.018518518518518,4.421768707482993,11.585365853658537,9.239130434782608,5.217391304347826,13.253012048192772,4.301075268817205,14.285714285714285]],[\"SER\",[1.6652059596844873,1.2886597938144329,1.5037593984962405,1.9900497512437811,1.854974704890388,1.7361111111111112,1.8967334035827188,1.8396846254927726,2.0454545454545454,2.5,1.5337423312883436,2.9023746701846966,1.098901098901099,2.6252983293556085,1.0380622837370241,1.0443864229765014,3.293413173652695,3.125,2.7777777777777777,1.870748299319728,1.2195121951219512,2.717391304347826,2.1739130434782608,2.4096385542168677,1.6129032258064515,0]],[\"LFI\",[25.591586327782643,23.45360824742268,23.182957393483708,23.383084577114428,24.283305227655987,20.48611111111111,31.08535300316122,34.55978975032852,32.27272727272727,11.0,28.22085889570552,25.593667546174142,23.956043956043956,25.53699284009546,26.643598615916954,18.5378590078329,25.748502994011975,23.214285714285715,36.80555555555556,36.394557823129254,35.97560975609756,27.173913043478258,30.869565217391305,32.53012048192771,34.946236559139784,24.489795918367346]],[\"GDR\",[7.011393514460999,4.123711340206185,4.887218045112782,7.213930348258707,8.094435075885329,10.069444444444445,6.111696522655427,8.409986859395532,6.0227272727272725,6.5,6.748466257668712,6.860158311345646,4.835164835164836,9.307875894988067,7.612456747404845,4.699738903394255,4.491017964071856,5.357142857142857,4.62962962962963,8.16326530612245,1.8292682926829267,5.434782608695652,6.956521739130435,9.63855421686747,7.526881720430108,6.122448979591836]],[\"ECO\",[4.732690622261174,3.608247422680412,5.137844611528822,3.482587064676617,5.396290050590219,4.513888888888888,4.847207586933614,5.387647831800263,5.0,4.0,3.374233128834356,5.804749340369393,7.472527472527473,3.1026252983293556,4.498269896193772,5.483028720626632,4.491017964071856,2.232142857142857,7.87037037037037,6.462585034013606,3.6585365853658534,4.3478260869565215,9.565217391304348,4.819277108433735,5.376344086021505,2.0408163265306123]],[\"NI\",[2.4539877300613497,2.5773195876288657,2.0050125313283207,2.736318407960199,1.5177065767284992,1.7361111111111112,2.73972602739726,2.102496714848883,2.840909090909091,2.0,2.7607361963190185,2.638522427440633,2.6373626373626373,2.6252983293556085,3.1141868512110724,2.610966057441253,3.293413173652695,1.7857142857142856,3.009259259259259,3.061224489795918,2.4390243902439024,4.891304347826087,2.1739130434782608,4.819277108433735,5.913978494623656,2.0408163265306123]],[\"UDI\",[3.2427695004382118,1.5463917525773196,3.8847117794486214,4.228855721393035,3.372681281618887,2.083333333333333,3.0558482613277134,2.4967148488830486,3.295454545454545,4.5,3.374233128834356,3.430079155672823,3.7362637362637363,4.05727923627685,2.422145328719723,4.699738903394255,4.491017964071856,4.910714285714286,2.314814814814815,2.380952380952381,2.4390243902439024,5.434782608695652,3.4782608695652173,4.819277108433735,2.6881720430107525,0]],[\"REN\",[15.337423312883436,10.56701030927835,12.155388471177945,6.218905472636816,11.129848229342327,8.680555555555555,12.961011591148578,10.38107752956636,12.15909090909091,14.499999999999998,13.190184049079754,12.401055408970976,18.24175824175824,13.842482100238662,6.920415224913495,18.27676240208877,11.676646706586826,12.5,10.416666666666668,6.802721088435375,14.634146341463413,9.239130434782608,10.434782608695652,7.228915662650602,17.20430107526882,2.0408163265306123]],[\"MODEM\",[4.1191936897458366,3.0927835051546393,5.137844611528822,3.233830845771144,4.5531197301854975,1.7361111111111112,4.004214963119073,3.8107752956636007,4.318181818181818,4.0,2.7607361963190185,5.013192612137203,3.9560439560439558,5.011933174224343,2.0761245674740483,3.3942558746736298,2.694610778443114,4.017857142857143,2.7777777777777777,3.741496598639456,5.487804878048781,4.891304347826087,2.1739130434782608,3.614457831325301,3.763440860215054,6.122448979591836]],[\"LIOT\",[1.5775635407537247,0.25773195876288657,0.8771929824561403,0.9950248756218906,1.854974704890388,1.0416666666666665,1.2644889357218125,1.445466491458607,1.3636363636363635,0,0.3067484662576687,1.0554089709762533,1.5384615384615385,0.47732696897374705,1.384083044982699,3.1331592689295036,2.3952095808383236,1.7857142857142856,0.23148148148148145,1.3605442176870748,1.2195121951219512,1.0869565217391304,1.3043478260869565,3.614457831325301,2.1505376344086025,2.0408163265306123]],[\"RN\",[5.083260297984225,4.123711340206185,7.268170426065162,4.72636815920398,5.733558178752108,6.597222222222222,6.42781875658588,6.83311432325887,6.8181818181818175,5.5,8.588957055214724,3.95778364116095,6.153846153846154,5.250596658711217,11.072664359861593,5.7441253263707575,8.08383233532934,12.946428571428573,10.87962962962963,9.523809523809524,3.6585365853658534,8.152173913043478,6.086956521739131,6.024096385542169,3.225806451612903,6.122448979591836]],[\"LR\",[11.130587204206837,6.958762886597938,12.280701754385964,8.706467661691542,8.768971332209107,4.513888888888888,9.905163329820864,9.461235216819974,10.0,11.0,7.975460122699387,11.609498680738787,12.527472527472527,10.501193317422434,9.688581314878892,16.187989556135772,12.874251497005988,9.821428571428571,6.25,7.8231292517006805,9.146341463414634,9.239130434782608,12.608695652173912,3.614457831325301,4.838709677419355,28.57142857142857]],[\"SOC\",[6.397896581945661,7.216494845360824,6.7669172932330826,6.218905472636816,6.408094435075886,4.166666666666666,6.533192834562697,4.862023653088042,6.59090909090909,5.5,4.294478527607362,5.804749340369393,4.175824175824175,7.637231503579953,9.688581314878892,6.527415143603134,6.58682634730539,4.464285714285714,5.787037037037037,7.653061224489796,5.487804878048781,7.608695652173914,6.086956521739131,2.4096385542168677,6.451612903225806,2.0408163265306123]],[\"HOR\",[0.43821209465381245,0.5154639175257731,0.5012531328320802,0,0.16863406408094433,0,0.21074815595363539,0.1314060446780552,0.22727272727272727,1.0,0.6134969325153374,0,0.21978021978021978,0,0,0.5221932114882507,0.29940119760479045,0.8928571428571428,0.23148148148148145,0.3401360544217687,1.2195121951219512,0,0.8695652173913043,0,0,4.081632653061225]],[\"RRDP\",[0,0,0,0,0,0,0,0,0,0,0,0,0,0,0,0.26109660574412535,0,0,0,0,0,0.5434782608695652,0,1.2048192771084338,0,0]]]}}},\"view\":{\"type\":\"object\",\"name\":\"CDSView\",\"id\":\"p1087\",\"attributes\":{\"filter\":{\"type\":\"object\",\"name\":\"AllIndices\",\"id\":\"p1088\"}}},\"glyph\":{\"type\":\"object\",\"name\":\"HBar\",\"id\":\"p1083\",\"attributes\":{\"y\":{\"type\":\"field\",\"field\":\"term\"},\"left\":{\"type\":\"expr\",\"expr\":{\"type\":\"object\",\"name\":\"Stack\",\"id\":\"p1037\",\"attributes\":{\"fields\":[\"GOV\"]}}},\"right\":{\"type\":\"expr\",\"expr\":{\"type\":\"object\",\"name\":\"Stack\",\"id\":\"p1038\",\"attributes\":{\"fields\":[\"GOV\",\"SER\"]}}},\"line_color\":{\"type\":\"value\",\"value\":\"#444\"},\"line_width\":{\"type\":\"value\",\"value\":0.9},\"fill_color\":{\"type\":\"value\",\"value\":\"#e74c3c\"},\"hatch_color\":{\"type\":\"value\",\"value\":\"#e74c3c\"}}},\"nonselection_glyph\":{\"type\":\"object\",\"name\":\"HBar\",\"id\":\"p1084\",\"attributes\":{\"y\":{\"type\":\"field\",\"field\":\"term\"},\"left\":{\"type\":\"expr\",\"expr\":{\"id\":\"p1037\"}},\"right\":{\"type\":\"expr\",\"expr\":{\"id\":\"p1038\"}},\"line_color\":{\"type\":\"value\",\"value\":\"#444\"},\"line_alpha\":{\"type\":\"value\",\"value\":0.1},\"line_width\":{\"type\":\"value\",\"value\":0.9},\"fill_color\":{\"type\":\"value\",\"value\":\"#e74c3c\"},\"fill_alpha\":{\"type\":\"value\",\"value\":0.1},\"hatch_color\":{\"type\":\"value\",\"value\":\"#e74c3c\"},\"hatch_alpha\":{\"type\":\"value\",\"value\":0.1}}},\"muted_glyph\":{\"type\":\"object\",\"name\":\"HBar\",\"id\":\"p1085\",\"attributes\":{\"y\":{\"type\":\"field\",\"field\":\"term\"},\"left\":{\"type\":\"expr\",\"expr\":{\"id\":\"p1037\"}},\"right\":{\"type\":\"expr\",\"expr\":{\"id\":\"p1038\"}},\"line_color\":{\"type\":\"value\",\"value\":\"#444\"},\"line_alpha\":{\"type\":\"value\",\"value\":0.2},\"line_width\":{\"type\":\"value\",\"value\":0.9},\"fill_color\":{\"type\":\"value\",\"value\":\"#e74c3c\"},\"fill_alpha\":{\"type\":\"value\",\"value\":0.2},\"hatch_color\":{\"type\":\"value\",\"value\":\"#e74c3c\"},\"hatch_alpha\":{\"type\":\"value\",\"value\":0.2}}}}},{\"type\":\"object\",\"name\":\"GlyphRenderer\",\"id\":\"p1098\",\"attributes\":{\"name\":\"LFI\",\"data_source\":{\"type\":\"object\",\"name\":\"ColumnDataSource\",\"id\":\"p1089\",\"attributes\":{\"selected\":{\"type\":\"object\",\"name\":\"Selection\",\"id\":\"p1090\",\"attributes\":{\"indices\":[],\"line_indices\":[]}},\"selection_policy\":{\"type\":\"object\",\"name\":\"UnionRenderers\",\"id\":\"p1091\"},\"data\":{\"type\":\"map\",\"entries\":[[\"term\",[\"loi\",\"prime\",\"pouvoir\",\"public\",\"social\",\"majorit\\u00e9\",\"retrait\",\"travail\",\"retraite\",\"mission\",\"France\",\"ratio\",\"entreprise\",\"r\\u00e9gime\",\"gouvernement\",\"senior\",\"\\u00e2ge\",\"vote\",\"fran\\u00e7ais\",\"r\\u00e9forme\",\"financer\",\"\\u00e9tat\",\"femme\",\"priver\",\"d\\u00e9ficit\",\"famille\"]],[\"GOV\",[11.2182296231376,30.670103092783506,14.411027568922306,26.865671641791046,16.863406408094438,32.63888888888889,8.956796628029505,8.278580814717477,7.045454545454545,28.000000000000004,16.257668711656443,12.928759894459102,9.45054945054945,10.023866348448687,13.84083044982699,8.87728459530026,9.580838323353294,12.946428571428573,6.018518518518518,4.421768707482993,11.585365853658537,9.239130434782608,5.217391304347826,13.253012048192772,4.301075268817205,14.285714285714285]],[\"SER\",[1.6652059596844873,1.2886597938144329,1.5037593984962405,1.9900497512437811,1.854974704890388,1.7361111111111112,1.8967334035827188,1.8396846254927726,2.0454545454545454,2.5,1.5337423312883436,2.9023746701846966,1.098901098901099,2.6252983293556085,1.0380622837370241,1.0443864229765014,3.293413173652695,3.125,2.7777777777777777,1.870748299319728,1.2195121951219512,2.717391304347826,2.1739130434782608,2.4096385542168677,1.6129032258064515,0]],[\"LFI\",[25.591586327782643,23.45360824742268,23.182957393483708,23.383084577114428,24.283305227655987,20.48611111111111,31.08535300316122,34.55978975032852,32.27272727272727,11.0,28.22085889570552,25.593667546174142,23.956043956043956,25.53699284009546,26.643598615916954,18.5378590078329,25.748502994011975,23.214285714285715,36.80555555555556,36.394557823129254,35.97560975609756,27.173913043478258,30.869565217391305,32.53012048192771,34.946236559139784,24.489795918367346]],[\"GDR\",[7.011393514460999,4.123711340206185,4.887218045112782,7.213930348258707,8.094435075885329,10.069444444444445,6.111696522655427,8.409986859395532,6.0227272727272725,6.5,6.748466257668712,6.860158311345646,4.835164835164836,9.307875894988067,7.612456747404845,4.699738903394255,4.491017964071856,5.357142857142857,4.62962962962963,8.16326530612245,1.8292682926829267,5.434782608695652,6.956521739130435,9.63855421686747,7.526881720430108,6.122448979591836]],[\"ECO\",[4.732690622261174,3.608247422680412,5.137844611528822,3.482587064676617,5.396290050590219,4.513888888888888,4.847207586933614,5.387647831800263,5.0,4.0,3.374233128834356,5.804749340369393,7.472527472527473,3.1026252983293556,4.498269896193772,5.483028720626632,4.491017964071856,2.232142857142857,7.87037037037037,6.462585034013606,3.6585365853658534,4.3478260869565215,9.565217391304348,4.819277108433735,5.376344086021505,2.0408163265306123]],[\"NI\",[2.4539877300613497,2.5773195876288657,2.0050125313283207,2.736318407960199,1.5177065767284992,1.7361111111111112,2.73972602739726,2.102496714848883,2.840909090909091,2.0,2.7607361963190185,2.638522427440633,2.6373626373626373,2.6252983293556085,3.1141868512110724,2.610966057441253,3.293413173652695,1.7857142857142856,3.009259259259259,3.061224489795918,2.4390243902439024,4.891304347826087,2.1739130434782608,4.819277108433735,5.913978494623656,2.0408163265306123]],[\"UDI\",[3.2427695004382118,1.5463917525773196,3.8847117794486214,4.228855721393035,3.372681281618887,2.083333333333333,3.0558482613277134,2.4967148488830486,3.295454545454545,4.5,3.374233128834356,3.430079155672823,3.7362637362637363,4.05727923627685,2.422145328719723,4.699738903394255,4.491017964071856,4.910714285714286,2.314814814814815,2.380952380952381,2.4390243902439024,5.434782608695652,3.4782608695652173,4.819277108433735,2.6881720430107525,0]],[\"REN\",[15.337423312883436,10.56701030927835,12.155388471177945,6.218905472636816,11.129848229342327,8.680555555555555,12.961011591148578,10.38107752956636,12.15909090909091,14.499999999999998,13.190184049079754,12.401055408970976,18.24175824175824,13.842482100238662,6.920415224913495,18.27676240208877,11.676646706586826,12.5,10.416666666666668,6.802721088435375,14.634146341463413,9.239130434782608,10.434782608695652,7.228915662650602,17.20430107526882,2.0408163265306123]],[\"MODEM\",[4.1191936897458366,3.0927835051546393,5.137844611528822,3.233830845771144,4.5531197301854975,1.7361111111111112,4.004214963119073,3.8107752956636007,4.318181818181818,4.0,2.7607361963190185,5.013192612137203,3.9560439560439558,5.011933174224343,2.0761245674740483,3.3942558746736298,2.694610778443114,4.017857142857143,2.7777777777777777,3.741496598639456,5.487804878048781,4.891304347826087,2.1739130434782608,3.614457831325301,3.763440860215054,6.122448979591836]],[\"LIOT\",[1.5775635407537247,0.25773195876288657,0.8771929824561403,0.9950248756218906,1.854974704890388,1.0416666666666665,1.2644889357218125,1.445466491458607,1.3636363636363635,0,0.3067484662576687,1.0554089709762533,1.5384615384615385,0.47732696897374705,1.384083044982699,3.1331592689295036,2.3952095808383236,1.7857142857142856,0.23148148148148145,1.3605442176870748,1.2195121951219512,1.0869565217391304,1.3043478260869565,3.614457831325301,2.1505376344086025,2.0408163265306123]],[\"RN\",[5.083260297984225,4.123711340206185,7.268170426065162,4.72636815920398,5.733558178752108,6.597222222222222,6.42781875658588,6.83311432325887,6.8181818181818175,5.5,8.588957055214724,3.95778364116095,6.153846153846154,5.250596658711217,11.072664359861593,5.7441253263707575,8.08383233532934,12.946428571428573,10.87962962962963,9.523809523809524,3.6585365853658534,8.152173913043478,6.086956521739131,6.024096385542169,3.225806451612903,6.122448979591836]],[\"LR\",[11.130587204206837,6.958762886597938,12.280701754385964,8.706467661691542,8.768971332209107,4.513888888888888,9.905163329820864,9.461235216819974,10.0,11.0,7.975460122699387,11.609498680738787,12.527472527472527,10.501193317422434,9.688581314878892,16.187989556135772,12.874251497005988,9.821428571428571,6.25,7.8231292517006805,9.146341463414634,9.239130434782608,12.608695652173912,3.614457831325301,4.838709677419355,28.57142857142857]],[\"SOC\",[6.397896581945661,7.216494845360824,6.7669172932330826,6.218905472636816,6.408094435075886,4.166666666666666,6.533192834562697,4.862023653088042,6.59090909090909,5.5,4.294478527607362,5.804749340369393,4.175824175824175,7.637231503579953,9.688581314878892,6.527415143603134,6.58682634730539,4.464285714285714,5.787037037037037,7.653061224489796,5.487804878048781,7.608695652173914,6.086956521739131,2.4096385542168677,6.451612903225806,2.0408163265306123]],[\"HOR\",[0.43821209465381245,0.5154639175257731,0.5012531328320802,0,0.16863406408094433,0,0.21074815595363539,0.1314060446780552,0.22727272727272727,1.0,0.6134969325153374,0,0.21978021978021978,0,0,0.5221932114882507,0.29940119760479045,0.8928571428571428,0.23148148148148145,0.3401360544217687,1.2195121951219512,0,0.8695652173913043,0,0,4.081632653061225]],[\"RRDP\",[0,0,0,0,0,0,0,0,0,0,0,0,0,0,0,0.26109660574412535,0,0,0,0,0,0.5434782608695652,0,1.2048192771084338,0,0]]]}}},\"view\":{\"type\":\"object\",\"name\":\"CDSView\",\"id\":\"p1099\",\"attributes\":{\"filter\":{\"type\":\"object\",\"name\":\"AllIndices\",\"id\":\"p1100\"}}},\"glyph\":{\"type\":\"object\",\"name\":\"HBar\",\"id\":\"p1095\",\"attributes\":{\"y\":{\"type\":\"field\",\"field\":\"term\"},\"left\":{\"type\":\"expr\",\"expr\":{\"type\":\"object\",\"name\":\"Stack\",\"id\":\"p1039\",\"attributes\":{\"fields\":[\"GOV\",\"SER\"]}}},\"right\":{\"type\":\"expr\",\"expr\":{\"type\":\"object\",\"name\":\"Stack\",\"id\":\"p1040\",\"attributes\":{\"fields\":[\"GOV\",\"SER\",\"LFI\"]}}},\"line_color\":{\"type\":\"value\",\"value\":\"#444\"},\"line_width\":{\"type\":\"value\",\"value\":0.9},\"fill_color\":{\"type\":\"value\",\"value\":\"#c0392b\"},\"hatch_color\":{\"type\":\"value\",\"value\":\"#c0392b\"}}},\"nonselection_glyph\":{\"type\":\"object\",\"name\":\"HBar\",\"id\":\"p1096\",\"attributes\":{\"y\":{\"type\":\"field\",\"field\":\"term\"},\"left\":{\"type\":\"expr\",\"expr\":{\"id\":\"p1039\"}},\"right\":{\"type\":\"expr\",\"expr\":{\"id\":\"p1040\"}},\"line_color\":{\"type\":\"value\",\"value\":\"#444\"},\"line_alpha\":{\"type\":\"value\",\"value\":0.1},\"line_width\":{\"type\":\"value\",\"value\":0.9},\"fill_color\":{\"type\":\"value\",\"value\":\"#c0392b\"},\"fill_alpha\":{\"type\":\"value\",\"value\":0.1},\"hatch_color\":{\"type\":\"value\",\"value\":\"#c0392b\"},\"hatch_alpha\":{\"type\":\"value\",\"value\":0.1}}},\"muted_glyph\":{\"type\":\"object\",\"name\":\"HBar\",\"id\":\"p1097\",\"attributes\":{\"y\":{\"type\":\"field\",\"field\":\"term\"},\"left\":{\"type\":\"expr\",\"expr\":{\"id\":\"p1039\"}},\"right\":{\"type\":\"expr\",\"expr\":{\"id\":\"p1040\"}},\"line_color\":{\"type\":\"value\",\"value\":\"#444\"},\"line_alpha\":{\"type\":\"value\",\"value\":0.2},\"line_width\":{\"type\":\"value\",\"value\":0.9},\"fill_color\":{\"type\":\"value\",\"value\":\"#c0392b\"},\"fill_alpha\":{\"type\":\"value\",\"value\":0.2},\"hatch_color\":{\"type\":\"value\",\"value\":\"#c0392b\"},\"hatch_alpha\":{\"type\":\"value\",\"value\":0.2}}}}},{\"type\":\"object\",\"name\":\"GlyphRenderer\",\"id\":\"p1110\",\"attributes\":{\"name\":\"GDR\",\"data_source\":{\"type\":\"object\",\"name\":\"ColumnDataSource\",\"id\":\"p1101\",\"attributes\":{\"selected\":{\"type\":\"object\",\"name\":\"Selection\",\"id\":\"p1102\",\"attributes\":{\"indices\":[],\"line_indices\":[]}},\"selection_policy\":{\"type\":\"object\",\"name\":\"UnionRenderers\",\"id\":\"p1103\"},\"data\":{\"type\":\"map\",\"entries\":[[\"term\",[\"loi\",\"prime\",\"pouvoir\",\"public\",\"social\",\"majorit\\u00e9\",\"retrait\",\"travail\",\"retraite\",\"mission\",\"France\",\"ratio\",\"entreprise\",\"r\\u00e9gime\",\"gouvernement\",\"senior\",\"\\u00e2ge\",\"vote\",\"fran\\u00e7ais\",\"r\\u00e9forme\",\"financer\",\"\\u00e9tat\",\"femme\",\"priver\",\"d\\u00e9ficit\",\"famille\"]],[\"GOV\",[11.2182296231376,30.670103092783506,14.411027568922306,26.865671641791046,16.863406408094438,32.63888888888889,8.956796628029505,8.278580814717477,7.045454545454545,28.000000000000004,16.257668711656443,12.928759894459102,9.45054945054945,10.023866348448687,13.84083044982699,8.87728459530026,9.580838323353294,12.946428571428573,6.018518518518518,4.421768707482993,11.585365853658537,9.239130434782608,5.217391304347826,13.253012048192772,4.301075268817205,14.285714285714285]],[\"SER\",[1.6652059596844873,1.2886597938144329,1.5037593984962405,1.9900497512437811,1.854974704890388,1.7361111111111112,1.8967334035827188,1.8396846254927726,2.0454545454545454,2.5,1.5337423312883436,2.9023746701846966,1.098901098901099,2.6252983293556085,1.0380622837370241,1.0443864229765014,3.293413173652695,3.125,2.7777777777777777,1.870748299319728,1.2195121951219512,2.717391304347826,2.1739130434782608,2.4096385542168677,1.6129032258064515,0]],[\"LFI\",[25.591586327782643,23.45360824742268,23.182957393483708,23.383084577114428,24.283305227655987,20.48611111111111,31.08535300316122,34.55978975032852,32.27272727272727,11.0,28.22085889570552,25.593667546174142,23.956043956043956,25.53699284009546,26.643598615916954,18.5378590078329,25.748502994011975,23.214285714285715,36.80555555555556,36.394557823129254,35.97560975609756,27.173913043478258,30.869565217391305,32.53012048192771,34.946236559139784,24.489795918367346]],[\"GDR\",[7.011393514460999,4.123711340206185,4.887218045112782,7.213930348258707,8.094435075885329,10.069444444444445,6.111696522655427,8.409986859395532,6.0227272727272725,6.5,6.748466257668712,6.860158311345646,4.835164835164836,9.307875894988067,7.612456747404845,4.699738903394255,4.491017964071856,5.357142857142857,4.62962962962963,8.16326530612245,1.8292682926829267,5.434782608695652,6.956521739130435,9.63855421686747,7.526881720430108,6.122448979591836]],[\"ECO\",[4.732690622261174,3.608247422680412,5.137844611528822,3.482587064676617,5.396290050590219,4.513888888888888,4.847207586933614,5.387647831800263,5.0,4.0,3.374233128834356,5.804749340369393,7.472527472527473,3.1026252983293556,4.498269896193772,5.483028720626632,4.491017964071856,2.232142857142857,7.87037037037037,6.462585034013606,3.6585365853658534,4.3478260869565215,9.565217391304348,4.819277108433735,5.376344086021505,2.0408163265306123]],[\"NI\",[2.4539877300613497,2.5773195876288657,2.0050125313283207,2.736318407960199,1.5177065767284992,1.7361111111111112,2.73972602739726,2.102496714848883,2.840909090909091,2.0,2.7607361963190185,2.638522427440633,2.6373626373626373,2.6252983293556085,3.1141868512110724,2.610966057441253,3.293413173652695,1.7857142857142856,3.009259259259259,3.061224489795918,2.4390243902439024,4.891304347826087,2.1739130434782608,4.819277108433735,5.913978494623656,2.0408163265306123]],[\"UDI\",[3.2427695004382118,1.5463917525773196,3.8847117794486214,4.228855721393035,3.372681281618887,2.083333333333333,3.0558482613277134,2.4967148488830486,3.295454545454545,4.5,3.374233128834356,3.430079155672823,3.7362637362637363,4.05727923627685,2.422145328719723,4.699738903394255,4.491017964071856,4.910714285714286,2.314814814814815,2.380952380952381,2.4390243902439024,5.434782608695652,3.4782608695652173,4.819277108433735,2.6881720430107525,0]],[\"REN\",[15.337423312883436,10.56701030927835,12.155388471177945,6.218905472636816,11.129848229342327,8.680555555555555,12.961011591148578,10.38107752956636,12.15909090909091,14.499999999999998,13.190184049079754,12.401055408970976,18.24175824175824,13.842482100238662,6.920415224913495,18.27676240208877,11.676646706586826,12.5,10.416666666666668,6.802721088435375,14.634146341463413,9.239130434782608,10.434782608695652,7.228915662650602,17.20430107526882,2.0408163265306123]],[\"MODEM\",[4.1191936897458366,3.0927835051546393,5.137844611528822,3.233830845771144,4.5531197301854975,1.7361111111111112,4.004214963119073,3.8107752956636007,4.318181818181818,4.0,2.7607361963190185,5.013192612137203,3.9560439560439558,5.011933174224343,2.0761245674740483,3.3942558746736298,2.694610778443114,4.017857142857143,2.7777777777777777,3.741496598639456,5.487804878048781,4.891304347826087,2.1739130434782608,3.614457831325301,3.763440860215054,6.122448979591836]],[\"LIOT\",[1.5775635407537247,0.25773195876288657,0.8771929824561403,0.9950248756218906,1.854974704890388,1.0416666666666665,1.2644889357218125,1.445466491458607,1.3636363636363635,0,0.3067484662576687,1.0554089709762533,1.5384615384615385,0.47732696897374705,1.384083044982699,3.1331592689295036,2.3952095808383236,1.7857142857142856,0.23148148148148145,1.3605442176870748,1.2195121951219512,1.0869565217391304,1.3043478260869565,3.614457831325301,2.1505376344086025,2.0408163265306123]],[\"RN\",[5.083260297984225,4.123711340206185,7.268170426065162,4.72636815920398,5.733558178752108,6.597222222222222,6.42781875658588,6.83311432325887,6.8181818181818175,5.5,8.588957055214724,3.95778364116095,6.153846153846154,5.250596658711217,11.072664359861593,5.7441253263707575,8.08383233532934,12.946428571428573,10.87962962962963,9.523809523809524,3.6585365853658534,8.152173913043478,6.086956521739131,6.024096385542169,3.225806451612903,6.122448979591836]],[\"LR\",[11.130587204206837,6.958762886597938,12.280701754385964,8.706467661691542,8.768971332209107,4.513888888888888,9.905163329820864,9.461235216819974,10.0,11.0,7.975460122699387,11.609498680738787,12.527472527472527,10.501193317422434,9.688581314878892,16.187989556135772,12.874251497005988,9.821428571428571,6.25,7.8231292517006805,9.146341463414634,9.239130434782608,12.608695652173912,3.614457831325301,4.838709677419355,28.57142857142857]],[\"SOC\",[6.397896581945661,7.216494845360824,6.7669172932330826,6.218905472636816,6.408094435075886,4.166666666666666,6.533192834562697,4.862023653088042,6.59090909090909,5.5,4.294478527607362,5.804749340369393,4.175824175824175,7.637231503579953,9.688581314878892,6.527415143603134,6.58682634730539,4.464285714285714,5.787037037037037,7.653061224489796,5.487804878048781,7.608695652173914,6.086956521739131,2.4096385542168677,6.451612903225806,2.0408163265306123]],[\"HOR\",[0.43821209465381245,0.5154639175257731,0.5012531328320802,0,0.16863406408094433,0,0.21074815595363539,0.1314060446780552,0.22727272727272727,1.0,0.6134969325153374,0,0.21978021978021978,0,0,0.5221932114882507,0.29940119760479045,0.8928571428571428,0.23148148148148145,0.3401360544217687,1.2195121951219512,0,0.8695652173913043,0,0,4.081632653061225]],[\"RRDP\",[0,0,0,0,0,0,0,0,0,0,0,0,0,0,0,0.26109660574412535,0,0,0,0,0,0.5434782608695652,0,1.2048192771084338,0,0]]]}}},\"view\":{\"type\":\"object\",\"name\":\"CDSView\",\"id\":\"p1111\",\"attributes\":{\"filter\":{\"type\":\"object\",\"name\":\"AllIndices\",\"id\":\"p1112\"}}},\"glyph\":{\"type\":\"object\",\"name\":\"HBar\",\"id\":\"p1107\",\"attributes\":{\"y\":{\"type\":\"field\",\"field\":\"term\"},\"left\":{\"type\":\"expr\",\"expr\":{\"type\":\"object\",\"name\":\"Stack\",\"id\":\"p1041\",\"attributes\":{\"fields\":[\"GOV\",\"SER\",\"LFI\"]}}},\"right\":{\"type\":\"expr\",\"expr\":{\"type\":\"object\",\"name\":\"Stack\",\"id\":\"p1042\",\"attributes\":{\"fields\":[\"GOV\",\"SER\",\"LFI\",\"GDR\"]}}},\"line_color\":{\"type\":\"value\",\"value\":\"#444\"},\"line_width\":{\"type\":\"value\",\"value\":0.9},\"fill_color\":{\"type\":\"value\",\"value\":\"#EA2027\"},\"hatch_color\":{\"type\":\"value\",\"value\":\"#EA2027\"}}},\"nonselection_glyph\":{\"type\":\"object\",\"name\":\"HBar\",\"id\":\"p1108\",\"attributes\":{\"y\":{\"type\":\"field\",\"field\":\"term\"},\"left\":{\"type\":\"expr\",\"expr\":{\"id\":\"p1041\"}},\"right\":{\"type\":\"expr\",\"expr\":{\"id\":\"p1042\"}},\"line_color\":{\"type\":\"value\",\"value\":\"#444\"},\"line_alpha\":{\"type\":\"value\",\"value\":0.1},\"line_width\":{\"type\":\"value\",\"value\":0.9},\"fill_color\":{\"type\":\"value\",\"value\":\"#EA2027\"},\"fill_alpha\":{\"type\":\"value\",\"value\":0.1},\"hatch_color\":{\"type\":\"value\",\"value\":\"#EA2027\"},\"hatch_alpha\":{\"type\":\"value\",\"value\":0.1}}},\"muted_glyph\":{\"type\":\"object\",\"name\":\"HBar\",\"id\":\"p1109\",\"attributes\":{\"y\":{\"type\":\"field\",\"field\":\"term\"},\"left\":{\"type\":\"expr\",\"expr\":{\"id\":\"p1041\"}},\"right\":{\"type\":\"expr\",\"expr\":{\"id\":\"p1042\"}},\"line_color\":{\"type\":\"value\",\"value\":\"#444\"},\"line_alpha\":{\"type\":\"value\",\"value\":0.2},\"line_width\":{\"type\":\"value\",\"value\":0.9},\"fill_color\":{\"type\":\"value\",\"value\":\"#EA2027\"},\"fill_alpha\":{\"type\":\"value\",\"value\":0.2},\"hatch_color\":{\"type\":\"value\",\"value\":\"#EA2027\"},\"hatch_alpha\":{\"type\":\"value\",\"value\":0.2}}}}},{\"type\":\"object\",\"name\":\"GlyphRenderer\",\"id\":\"p1122\",\"attributes\":{\"name\":\"ECO\",\"data_source\":{\"type\":\"object\",\"name\":\"ColumnDataSource\",\"id\":\"p1113\",\"attributes\":{\"selected\":{\"type\":\"object\",\"name\":\"Selection\",\"id\":\"p1114\",\"attributes\":{\"indices\":[],\"line_indices\":[]}},\"selection_policy\":{\"type\":\"object\",\"name\":\"UnionRenderers\",\"id\":\"p1115\"},\"data\":{\"type\":\"map\",\"entries\":[[\"term\",[\"loi\",\"prime\",\"pouvoir\",\"public\",\"social\",\"majorit\\u00e9\",\"retrait\",\"travail\",\"retraite\",\"mission\",\"France\",\"ratio\",\"entreprise\",\"r\\u00e9gime\",\"gouvernement\",\"senior\",\"\\u00e2ge\",\"vote\",\"fran\\u00e7ais\",\"r\\u00e9forme\",\"financer\",\"\\u00e9tat\",\"femme\",\"priver\",\"d\\u00e9ficit\",\"famille\"]],[\"GOV\",[11.2182296231376,30.670103092783506,14.411027568922306,26.865671641791046,16.863406408094438,32.63888888888889,8.956796628029505,8.278580814717477,7.045454545454545,28.000000000000004,16.257668711656443,12.928759894459102,9.45054945054945,10.023866348448687,13.84083044982699,8.87728459530026,9.580838323353294,12.946428571428573,6.018518518518518,4.421768707482993,11.585365853658537,9.239130434782608,5.217391304347826,13.253012048192772,4.301075268817205,14.285714285714285]],[\"SER\",[1.6652059596844873,1.2886597938144329,1.5037593984962405,1.9900497512437811,1.854974704890388,1.7361111111111112,1.8967334035827188,1.8396846254927726,2.0454545454545454,2.5,1.5337423312883436,2.9023746701846966,1.098901098901099,2.6252983293556085,1.0380622837370241,1.0443864229765014,3.293413173652695,3.125,2.7777777777777777,1.870748299319728,1.2195121951219512,2.717391304347826,2.1739130434782608,2.4096385542168677,1.6129032258064515,0]],[\"LFI\",[25.591586327782643,23.45360824742268,23.182957393483708,23.383084577114428,24.283305227655987,20.48611111111111,31.08535300316122,34.55978975032852,32.27272727272727,11.0,28.22085889570552,25.593667546174142,23.956043956043956,25.53699284009546,26.643598615916954,18.5378590078329,25.748502994011975,23.214285714285715,36.80555555555556,36.394557823129254,35.97560975609756,27.173913043478258,30.869565217391305,32.53012048192771,34.946236559139784,24.489795918367346]],[\"GDR\",[7.011393514460999,4.123711340206185,4.887218045112782,7.213930348258707,8.094435075885329,10.069444444444445,6.111696522655427,8.409986859395532,6.0227272727272725,6.5,6.748466257668712,6.860158311345646,4.835164835164836,9.307875894988067,7.612456747404845,4.699738903394255,4.491017964071856,5.357142857142857,4.62962962962963,8.16326530612245,1.8292682926829267,5.434782608695652,6.956521739130435,9.63855421686747,7.526881720430108,6.122448979591836]],[\"ECO\",[4.732690622261174,3.608247422680412,5.137844611528822,3.482587064676617,5.396290050590219,4.513888888888888,4.847207586933614,5.387647831800263,5.0,4.0,3.374233128834356,5.804749340369393,7.472527472527473,3.1026252983293556,4.498269896193772,5.483028720626632,4.491017964071856,2.232142857142857,7.87037037037037,6.462585034013606,3.6585365853658534,4.3478260869565215,9.565217391304348,4.819277108433735,5.376344086021505,2.0408163265306123]],[\"NI\",[2.4539877300613497,2.5773195876288657,2.0050125313283207,2.736318407960199,1.5177065767284992,1.7361111111111112,2.73972602739726,2.102496714848883,2.840909090909091,2.0,2.7607361963190185,2.638522427440633,2.6373626373626373,2.6252983293556085,3.1141868512110724,2.610966057441253,3.293413173652695,1.7857142857142856,3.009259259259259,3.061224489795918,2.4390243902439024,4.891304347826087,2.1739130434782608,4.819277108433735,5.913978494623656,2.0408163265306123]],[\"UDI\",[3.2427695004382118,1.5463917525773196,3.8847117794486214,4.228855721393035,3.372681281618887,2.083333333333333,3.0558482613277134,2.4967148488830486,3.295454545454545,4.5,3.374233128834356,3.430079155672823,3.7362637362637363,4.05727923627685,2.422145328719723,4.699738903394255,4.491017964071856,4.910714285714286,2.314814814814815,2.380952380952381,2.4390243902439024,5.434782608695652,3.4782608695652173,4.819277108433735,2.6881720430107525,0]],[\"REN\",[15.337423312883436,10.56701030927835,12.155388471177945,6.218905472636816,11.129848229342327,8.680555555555555,12.961011591148578,10.38107752956636,12.15909090909091,14.499999999999998,13.190184049079754,12.401055408970976,18.24175824175824,13.842482100238662,6.920415224913495,18.27676240208877,11.676646706586826,12.5,10.416666666666668,6.802721088435375,14.634146341463413,9.239130434782608,10.434782608695652,7.228915662650602,17.20430107526882,2.0408163265306123]],[\"MODEM\",[4.1191936897458366,3.0927835051546393,5.137844611528822,3.233830845771144,4.5531197301854975,1.7361111111111112,4.004214963119073,3.8107752956636007,4.318181818181818,4.0,2.7607361963190185,5.013192612137203,3.9560439560439558,5.011933174224343,2.0761245674740483,3.3942558746736298,2.694610778443114,4.017857142857143,2.7777777777777777,3.741496598639456,5.487804878048781,4.891304347826087,2.1739130434782608,3.614457831325301,3.763440860215054,6.122448979591836]],[\"LIOT\",[1.5775635407537247,0.25773195876288657,0.8771929824561403,0.9950248756218906,1.854974704890388,1.0416666666666665,1.2644889357218125,1.445466491458607,1.3636363636363635,0,0.3067484662576687,1.0554089709762533,1.5384615384615385,0.47732696897374705,1.384083044982699,3.1331592689295036,2.3952095808383236,1.7857142857142856,0.23148148148148145,1.3605442176870748,1.2195121951219512,1.0869565217391304,1.3043478260869565,3.614457831325301,2.1505376344086025,2.0408163265306123]],[\"RN\",[5.083260297984225,4.123711340206185,7.268170426065162,4.72636815920398,5.733558178752108,6.597222222222222,6.42781875658588,6.83311432325887,6.8181818181818175,5.5,8.588957055214724,3.95778364116095,6.153846153846154,5.250596658711217,11.072664359861593,5.7441253263707575,8.08383233532934,12.946428571428573,10.87962962962963,9.523809523809524,3.6585365853658534,8.152173913043478,6.086956521739131,6.024096385542169,3.225806451612903,6.122448979591836]],[\"LR\",[11.130587204206837,6.958762886597938,12.280701754385964,8.706467661691542,8.768971332209107,4.513888888888888,9.905163329820864,9.461235216819974,10.0,11.0,7.975460122699387,11.609498680738787,12.527472527472527,10.501193317422434,9.688581314878892,16.187989556135772,12.874251497005988,9.821428571428571,6.25,7.8231292517006805,9.146341463414634,9.239130434782608,12.608695652173912,3.614457831325301,4.838709677419355,28.57142857142857]],[\"SOC\",[6.397896581945661,7.216494845360824,6.7669172932330826,6.218905472636816,6.408094435075886,4.166666666666666,6.533192834562697,4.862023653088042,6.59090909090909,5.5,4.294478527607362,5.804749340369393,4.175824175824175,7.637231503579953,9.688581314878892,6.527415143603134,6.58682634730539,4.464285714285714,5.787037037037037,7.653061224489796,5.487804878048781,7.608695652173914,6.086956521739131,2.4096385542168677,6.451612903225806,2.0408163265306123]],[\"HOR\",[0.43821209465381245,0.5154639175257731,0.5012531328320802,0,0.16863406408094433,0,0.21074815595363539,0.1314060446780552,0.22727272727272727,1.0,0.6134969325153374,0,0.21978021978021978,0,0,0.5221932114882507,0.29940119760479045,0.8928571428571428,0.23148148148148145,0.3401360544217687,1.2195121951219512,0,0.8695652173913043,0,0,4.081632653061225]],[\"RRDP\",[0,0,0,0,0,0,0,0,0,0,0,0,0,0,0,0.26109660574412535,0,0,0,0,0,0.5434782608695652,0,1.2048192771084338,0,0]]]}}},\"view\":{\"type\":\"object\",\"name\":\"CDSView\",\"id\":\"p1123\",\"attributes\":{\"filter\":{\"type\":\"object\",\"name\":\"AllIndices\",\"id\":\"p1124\"}}},\"glyph\":{\"type\":\"object\",\"name\":\"HBar\",\"id\":\"p1119\",\"attributes\":{\"y\":{\"type\":\"field\",\"field\":\"term\"},\"left\":{\"type\":\"expr\",\"expr\":{\"type\":\"object\",\"name\":\"Stack\",\"id\":\"p1043\",\"attributes\":{\"fields\":[\"GOV\",\"SER\",\"LFI\",\"GDR\"]}}},\"right\":{\"type\":\"expr\",\"expr\":{\"type\":\"object\",\"name\":\"Stack\",\"id\":\"p1044\",\"attributes\":{\"fields\":[\"GOV\",\"SER\",\"LFI\",\"GDR\",\"ECO\"]}}},\"line_color\":{\"type\":\"value\",\"value\":\"#444\"},\"line_width\":{\"type\":\"value\",\"value\":0.9},\"fill_color\":{\"type\":\"value\",\"value\":\"#009432\"},\"hatch_color\":{\"type\":\"value\",\"value\":\"#009432\"}}},\"nonselection_glyph\":{\"type\":\"object\",\"name\":\"HBar\",\"id\":\"p1120\",\"attributes\":{\"y\":{\"type\":\"field\",\"field\":\"term\"},\"left\":{\"type\":\"expr\",\"expr\":{\"id\":\"p1043\"}},\"right\":{\"type\":\"expr\",\"expr\":{\"id\":\"p1044\"}},\"line_color\":{\"type\":\"value\",\"value\":\"#444\"},\"line_alpha\":{\"type\":\"value\",\"value\":0.1},\"line_width\":{\"type\":\"value\",\"value\":0.9},\"fill_color\":{\"type\":\"value\",\"value\":\"#009432\"},\"fill_alpha\":{\"type\":\"value\",\"value\":0.1},\"hatch_color\":{\"type\":\"value\",\"value\":\"#009432\"},\"hatch_alpha\":{\"type\":\"value\",\"value\":0.1}}},\"muted_glyph\":{\"type\":\"object\",\"name\":\"HBar\",\"id\":\"p1121\",\"attributes\":{\"y\":{\"type\":\"field\",\"field\":\"term\"},\"left\":{\"type\":\"expr\",\"expr\":{\"id\":\"p1043\"}},\"right\":{\"type\":\"expr\",\"expr\":{\"id\":\"p1044\"}},\"line_color\":{\"type\":\"value\",\"value\":\"#444\"},\"line_alpha\":{\"type\":\"value\",\"value\":0.2},\"line_width\":{\"type\":\"value\",\"value\":0.9},\"fill_color\":{\"type\":\"value\",\"value\":\"#009432\"},\"fill_alpha\":{\"type\":\"value\",\"value\":0.2},\"hatch_color\":{\"type\":\"value\",\"value\":\"#009432\"},\"hatch_alpha\":{\"type\":\"value\",\"value\":0.2}}}}},{\"type\":\"object\",\"name\":\"GlyphRenderer\",\"id\":\"p1134\",\"attributes\":{\"name\":\"NI\",\"data_source\":{\"type\":\"object\",\"name\":\"ColumnDataSource\",\"id\":\"p1125\",\"attributes\":{\"selected\":{\"type\":\"object\",\"name\":\"Selection\",\"id\":\"p1126\",\"attributes\":{\"indices\":[],\"line_indices\":[]}},\"selection_policy\":{\"type\":\"object\",\"name\":\"UnionRenderers\",\"id\":\"p1127\"},\"data\":{\"type\":\"map\",\"entries\":[[\"term\",[\"loi\",\"prime\",\"pouvoir\",\"public\",\"social\",\"majorit\\u00e9\",\"retrait\",\"travail\",\"retraite\",\"mission\",\"France\",\"ratio\",\"entreprise\",\"r\\u00e9gime\",\"gouvernement\",\"senior\",\"\\u00e2ge\",\"vote\",\"fran\\u00e7ais\",\"r\\u00e9forme\",\"financer\",\"\\u00e9tat\",\"femme\",\"priver\",\"d\\u00e9ficit\",\"famille\"]],[\"GOV\",[11.2182296231376,30.670103092783506,14.411027568922306,26.865671641791046,16.863406408094438,32.63888888888889,8.956796628029505,8.278580814717477,7.045454545454545,28.000000000000004,16.257668711656443,12.928759894459102,9.45054945054945,10.023866348448687,13.84083044982699,8.87728459530026,9.580838323353294,12.946428571428573,6.018518518518518,4.421768707482993,11.585365853658537,9.239130434782608,5.217391304347826,13.253012048192772,4.301075268817205,14.285714285714285]],[\"SER\",[1.6652059596844873,1.2886597938144329,1.5037593984962405,1.9900497512437811,1.854974704890388,1.7361111111111112,1.8967334035827188,1.8396846254927726,2.0454545454545454,2.5,1.5337423312883436,2.9023746701846966,1.098901098901099,2.6252983293556085,1.0380622837370241,1.0443864229765014,3.293413173652695,3.125,2.7777777777777777,1.870748299319728,1.2195121951219512,2.717391304347826,2.1739130434782608,2.4096385542168677,1.6129032258064515,0]],[\"LFI\",[25.591586327782643,23.45360824742268,23.182957393483708,23.383084577114428,24.283305227655987,20.48611111111111,31.08535300316122,34.55978975032852,32.27272727272727,11.0,28.22085889570552,25.593667546174142,23.956043956043956,25.53699284009546,26.643598615916954,18.5378590078329,25.748502994011975,23.214285714285715,36.80555555555556,36.394557823129254,35.97560975609756,27.173913043478258,30.869565217391305,32.53012048192771,34.946236559139784,24.489795918367346]],[\"GDR\",[7.011393514460999,4.123711340206185,4.887218045112782,7.213930348258707,8.094435075885329,10.069444444444445,6.111696522655427,8.409986859395532,6.0227272727272725,6.5,6.748466257668712,6.860158311345646,4.835164835164836,9.307875894988067,7.612456747404845,4.699738903394255,4.491017964071856,5.357142857142857,4.62962962962963,8.16326530612245,1.8292682926829267,5.434782608695652,6.956521739130435,9.63855421686747,7.526881720430108,6.122448979591836]],[\"ECO\",[4.732690622261174,3.608247422680412,5.137844611528822,3.482587064676617,5.396290050590219,4.513888888888888,4.847207586933614,5.387647831800263,5.0,4.0,3.374233128834356,5.804749340369393,7.472527472527473,3.1026252983293556,4.498269896193772,5.483028720626632,4.491017964071856,2.232142857142857,7.87037037037037,6.462585034013606,3.6585365853658534,4.3478260869565215,9.565217391304348,4.819277108433735,5.376344086021505,2.0408163265306123]],[\"NI\",[2.4539877300613497,2.5773195876288657,2.0050125313283207,2.736318407960199,1.5177065767284992,1.7361111111111112,2.73972602739726,2.102496714848883,2.840909090909091,2.0,2.7607361963190185,2.638522427440633,2.6373626373626373,2.6252983293556085,3.1141868512110724,2.610966057441253,3.293413173652695,1.7857142857142856,3.009259259259259,3.061224489795918,2.4390243902439024,4.891304347826087,2.1739130434782608,4.819277108433735,5.913978494623656,2.0408163265306123]],[\"UDI\",[3.2427695004382118,1.5463917525773196,3.8847117794486214,4.228855721393035,3.372681281618887,2.083333333333333,3.0558482613277134,2.4967148488830486,3.295454545454545,4.5,3.374233128834356,3.430079155672823,3.7362637362637363,4.05727923627685,2.422145328719723,4.699738903394255,4.491017964071856,4.910714285714286,2.314814814814815,2.380952380952381,2.4390243902439024,5.434782608695652,3.4782608695652173,4.819277108433735,2.6881720430107525,0]],[\"REN\",[15.337423312883436,10.56701030927835,12.155388471177945,6.218905472636816,11.129848229342327,8.680555555555555,12.961011591148578,10.38107752956636,12.15909090909091,14.499999999999998,13.190184049079754,12.401055408970976,18.24175824175824,13.842482100238662,6.920415224913495,18.27676240208877,11.676646706586826,12.5,10.416666666666668,6.802721088435375,14.634146341463413,9.239130434782608,10.434782608695652,7.228915662650602,17.20430107526882,2.0408163265306123]],[\"MODEM\",[4.1191936897458366,3.0927835051546393,5.137844611528822,3.233830845771144,4.5531197301854975,1.7361111111111112,4.004214963119073,3.8107752956636007,4.318181818181818,4.0,2.7607361963190185,5.013192612137203,3.9560439560439558,5.011933174224343,2.0761245674740483,3.3942558746736298,2.694610778443114,4.017857142857143,2.7777777777777777,3.741496598639456,5.487804878048781,4.891304347826087,2.1739130434782608,3.614457831325301,3.763440860215054,6.122448979591836]],[\"LIOT\",[1.5775635407537247,0.25773195876288657,0.8771929824561403,0.9950248756218906,1.854974704890388,1.0416666666666665,1.2644889357218125,1.445466491458607,1.3636363636363635,0,0.3067484662576687,1.0554089709762533,1.5384615384615385,0.47732696897374705,1.384083044982699,3.1331592689295036,2.3952095808383236,1.7857142857142856,0.23148148148148145,1.3605442176870748,1.2195121951219512,1.0869565217391304,1.3043478260869565,3.614457831325301,2.1505376344086025,2.0408163265306123]],[\"RN\",[5.083260297984225,4.123711340206185,7.268170426065162,4.72636815920398,5.733558178752108,6.597222222222222,6.42781875658588,6.83311432325887,6.8181818181818175,5.5,8.588957055214724,3.95778364116095,6.153846153846154,5.250596658711217,11.072664359861593,5.7441253263707575,8.08383233532934,12.946428571428573,10.87962962962963,9.523809523809524,3.6585365853658534,8.152173913043478,6.086956521739131,6.024096385542169,3.225806451612903,6.122448979591836]],[\"LR\",[11.130587204206837,6.958762886597938,12.280701754385964,8.706467661691542,8.768971332209107,4.513888888888888,9.905163329820864,9.461235216819974,10.0,11.0,7.975460122699387,11.609498680738787,12.527472527472527,10.501193317422434,9.688581314878892,16.187989556135772,12.874251497005988,9.821428571428571,6.25,7.8231292517006805,9.146341463414634,9.239130434782608,12.608695652173912,3.614457831325301,4.838709677419355,28.57142857142857]],[\"SOC\",[6.397896581945661,7.216494845360824,6.7669172932330826,6.218905472636816,6.408094435075886,4.166666666666666,6.533192834562697,4.862023653088042,6.59090909090909,5.5,4.294478527607362,5.804749340369393,4.175824175824175,7.637231503579953,9.688581314878892,6.527415143603134,6.58682634730539,4.464285714285714,5.787037037037037,7.653061224489796,5.487804878048781,7.608695652173914,6.086956521739131,2.4096385542168677,6.451612903225806,2.0408163265306123]],[\"HOR\",[0.43821209465381245,0.5154639175257731,0.5012531328320802,0,0.16863406408094433,0,0.21074815595363539,0.1314060446780552,0.22727272727272727,1.0,0.6134969325153374,0,0.21978021978021978,0,0,0.5221932114882507,0.29940119760479045,0.8928571428571428,0.23148148148148145,0.3401360544217687,1.2195121951219512,0,0.8695652173913043,0,0,4.081632653061225]],[\"RRDP\",[0,0,0,0,0,0,0,0,0,0,0,0,0,0,0,0.26109660574412535,0,0,0,0,0,0.5434782608695652,0,1.2048192771084338,0,0]]]}}},\"view\":{\"type\":\"object\",\"name\":\"CDSView\",\"id\":\"p1135\",\"attributes\":{\"filter\":{\"type\":\"object\",\"name\":\"AllIndices\",\"id\":\"p1136\"}}},\"glyph\":{\"type\":\"object\",\"name\":\"HBar\",\"id\":\"p1131\",\"attributes\":{\"y\":{\"type\":\"field\",\"field\":\"term\"},\"left\":{\"type\":\"expr\",\"expr\":{\"type\":\"object\",\"name\":\"Stack\",\"id\":\"p1045\",\"attributes\":{\"fields\":[\"GOV\",\"SER\",\"LFI\",\"GDR\",\"ECO\"]}}},\"right\":{\"type\":\"expr\",\"expr\":{\"type\":\"object\",\"name\":\"Stack\",\"id\":\"p1046\",\"attributes\":{\"fields\":[\"GOV\",\"SER\",\"LFI\",\"GDR\",\"ECO\",\"NI\"]}}},\"line_color\":{\"type\":\"value\",\"value\":\"#444\"},\"line_width\":{\"type\":\"value\",\"value\":0.9},\"fill_color\":{\"type\":\"value\",\"value\":\"#95a5a6\"},\"hatch_color\":{\"type\":\"value\",\"value\":\"#95a5a6\"}}},\"nonselection_glyph\":{\"type\":\"object\",\"name\":\"HBar\",\"id\":\"p1132\",\"attributes\":{\"y\":{\"type\":\"field\",\"field\":\"term\"},\"left\":{\"type\":\"expr\",\"expr\":{\"id\":\"p1045\"}},\"right\":{\"type\":\"expr\",\"expr\":{\"id\":\"p1046\"}},\"line_color\":{\"type\":\"value\",\"value\":\"#444\"},\"line_alpha\":{\"type\":\"value\",\"value\":0.1},\"line_width\":{\"type\":\"value\",\"value\":0.9},\"fill_color\":{\"type\":\"value\",\"value\":\"#95a5a6\"},\"fill_alpha\":{\"type\":\"value\",\"value\":0.1},\"hatch_color\":{\"type\":\"value\",\"value\":\"#95a5a6\"},\"hatch_alpha\":{\"type\":\"value\",\"value\":0.1}}},\"muted_glyph\":{\"type\":\"object\",\"name\":\"HBar\",\"id\":\"p1133\",\"attributes\":{\"y\":{\"type\":\"field\",\"field\":\"term\"},\"left\":{\"type\":\"expr\",\"expr\":{\"id\":\"p1045\"}},\"right\":{\"type\":\"expr\",\"expr\":{\"id\":\"p1046\"}},\"line_color\":{\"type\":\"value\",\"value\":\"#444\"},\"line_alpha\":{\"type\":\"value\",\"value\":0.2},\"line_width\":{\"type\":\"value\",\"value\":0.9},\"fill_color\":{\"type\":\"value\",\"value\":\"#95a5a6\"},\"fill_alpha\":{\"type\":\"value\",\"value\":0.2},\"hatch_color\":{\"type\":\"value\",\"value\":\"#95a5a6\"},\"hatch_alpha\":{\"type\":\"value\",\"value\":0.2}}}}},{\"type\":\"object\",\"name\":\"GlyphRenderer\",\"id\":\"p1146\",\"attributes\":{\"name\":\"UDI\",\"data_source\":{\"type\":\"object\",\"name\":\"ColumnDataSource\",\"id\":\"p1137\",\"attributes\":{\"selected\":{\"type\":\"object\",\"name\":\"Selection\",\"id\":\"p1138\",\"attributes\":{\"indices\":[],\"line_indices\":[]}},\"selection_policy\":{\"type\":\"object\",\"name\":\"UnionRenderers\",\"id\":\"p1139\"},\"data\":{\"type\":\"map\",\"entries\":[[\"term\",[\"loi\",\"prime\",\"pouvoir\",\"public\",\"social\",\"majorit\\u00e9\",\"retrait\",\"travail\",\"retraite\",\"mission\",\"France\",\"ratio\",\"entreprise\",\"r\\u00e9gime\",\"gouvernement\",\"senior\",\"\\u00e2ge\",\"vote\",\"fran\\u00e7ais\",\"r\\u00e9forme\",\"financer\",\"\\u00e9tat\",\"femme\",\"priver\",\"d\\u00e9ficit\",\"famille\"]],[\"GOV\",[11.2182296231376,30.670103092783506,14.411027568922306,26.865671641791046,16.863406408094438,32.63888888888889,8.956796628029505,8.278580814717477,7.045454545454545,28.000000000000004,16.257668711656443,12.928759894459102,9.45054945054945,10.023866348448687,13.84083044982699,8.87728459530026,9.580838323353294,12.946428571428573,6.018518518518518,4.421768707482993,11.585365853658537,9.239130434782608,5.217391304347826,13.253012048192772,4.301075268817205,14.285714285714285]],[\"SER\",[1.6652059596844873,1.2886597938144329,1.5037593984962405,1.9900497512437811,1.854974704890388,1.7361111111111112,1.8967334035827188,1.8396846254927726,2.0454545454545454,2.5,1.5337423312883436,2.9023746701846966,1.098901098901099,2.6252983293556085,1.0380622837370241,1.0443864229765014,3.293413173652695,3.125,2.7777777777777777,1.870748299319728,1.2195121951219512,2.717391304347826,2.1739130434782608,2.4096385542168677,1.6129032258064515,0]],[\"LFI\",[25.591586327782643,23.45360824742268,23.182957393483708,23.383084577114428,24.283305227655987,20.48611111111111,31.08535300316122,34.55978975032852,32.27272727272727,11.0,28.22085889570552,25.593667546174142,23.956043956043956,25.53699284009546,26.643598615916954,18.5378590078329,25.748502994011975,23.214285714285715,36.80555555555556,36.394557823129254,35.97560975609756,27.173913043478258,30.869565217391305,32.53012048192771,34.946236559139784,24.489795918367346]],[\"GDR\",[7.011393514460999,4.123711340206185,4.887218045112782,7.213930348258707,8.094435075885329,10.069444444444445,6.111696522655427,8.409986859395532,6.0227272727272725,6.5,6.748466257668712,6.860158311345646,4.835164835164836,9.307875894988067,7.612456747404845,4.699738903394255,4.491017964071856,5.357142857142857,4.62962962962963,8.16326530612245,1.8292682926829267,5.434782608695652,6.956521739130435,9.63855421686747,7.526881720430108,6.122448979591836]],[\"ECO\",[4.732690622261174,3.608247422680412,5.137844611528822,3.482587064676617,5.396290050590219,4.513888888888888,4.847207586933614,5.387647831800263,5.0,4.0,3.374233128834356,5.804749340369393,7.472527472527473,3.1026252983293556,4.498269896193772,5.483028720626632,4.491017964071856,2.232142857142857,7.87037037037037,6.462585034013606,3.6585365853658534,4.3478260869565215,9.565217391304348,4.819277108433735,5.376344086021505,2.0408163265306123]],[\"NI\",[2.4539877300613497,2.5773195876288657,2.0050125313283207,2.736318407960199,1.5177065767284992,1.7361111111111112,2.73972602739726,2.102496714848883,2.840909090909091,2.0,2.7607361963190185,2.638522427440633,2.6373626373626373,2.6252983293556085,3.1141868512110724,2.610966057441253,3.293413173652695,1.7857142857142856,3.009259259259259,3.061224489795918,2.4390243902439024,4.891304347826087,2.1739130434782608,4.819277108433735,5.913978494623656,2.0408163265306123]],[\"UDI\",[3.2427695004382118,1.5463917525773196,3.8847117794486214,4.228855721393035,3.372681281618887,2.083333333333333,3.0558482613277134,2.4967148488830486,3.295454545454545,4.5,3.374233128834356,3.430079155672823,3.7362637362637363,4.05727923627685,2.422145328719723,4.699738903394255,4.491017964071856,4.910714285714286,2.314814814814815,2.380952380952381,2.4390243902439024,5.434782608695652,3.4782608695652173,4.819277108433735,2.6881720430107525,0]],[\"REN\",[15.337423312883436,10.56701030927835,12.155388471177945,6.218905472636816,11.129848229342327,8.680555555555555,12.961011591148578,10.38107752956636,12.15909090909091,14.499999999999998,13.190184049079754,12.401055408970976,18.24175824175824,13.842482100238662,6.920415224913495,18.27676240208877,11.676646706586826,12.5,10.416666666666668,6.802721088435375,14.634146341463413,9.239130434782608,10.434782608695652,7.228915662650602,17.20430107526882,2.0408163265306123]],[\"MODEM\",[4.1191936897458366,3.0927835051546393,5.137844611528822,3.233830845771144,4.5531197301854975,1.7361111111111112,4.004214963119073,3.8107752956636007,4.318181818181818,4.0,2.7607361963190185,5.013192612137203,3.9560439560439558,5.011933174224343,2.0761245674740483,3.3942558746736298,2.694610778443114,4.017857142857143,2.7777777777777777,3.741496598639456,5.487804878048781,4.891304347826087,2.1739130434782608,3.614457831325301,3.763440860215054,6.122448979591836]],[\"LIOT\",[1.5775635407537247,0.25773195876288657,0.8771929824561403,0.9950248756218906,1.854974704890388,1.0416666666666665,1.2644889357218125,1.445466491458607,1.3636363636363635,0,0.3067484662576687,1.0554089709762533,1.5384615384615385,0.47732696897374705,1.384083044982699,3.1331592689295036,2.3952095808383236,1.7857142857142856,0.23148148148148145,1.3605442176870748,1.2195121951219512,1.0869565217391304,1.3043478260869565,3.614457831325301,2.1505376344086025,2.0408163265306123]],[\"RN\",[5.083260297984225,4.123711340206185,7.268170426065162,4.72636815920398,5.733558178752108,6.597222222222222,6.42781875658588,6.83311432325887,6.8181818181818175,5.5,8.588957055214724,3.95778364116095,6.153846153846154,5.250596658711217,11.072664359861593,5.7441253263707575,8.08383233532934,12.946428571428573,10.87962962962963,9.523809523809524,3.6585365853658534,8.152173913043478,6.086956521739131,6.024096385542169,3.225806451612903,6.122448979591836]],[\"LR\",[11.130587204206837,6.958762886597938,12.280701754385964,8.706467661691542,8.768971332209107,4.513888888888888,9.905163329820864,9.461235216819974,10.0,11.0,7.975460122699387,11.609498680738787,12.527472527472527,10.501193317422434,9.688581314878892,16.187989556135772,12.874251497005988,9.821428571428571,6.25,7.8231292517006805,9.146341463414634,9.239130434782608,12.608695652173912,3.614457831325301,4.838709677419355,28.57142857142857]],[\"SOC\",[6.397896581945661,7.216494845360824,6.7669172932330826,6.218905472636816,6.408094435075886,4.166666666666666,6.533192834562697,4.862023653088042,6.59090909090909,5.5,4.294478527607362,5.804749340369393,4.175824175824175,7.637231503579953,9.688581314878892,6.527415143603134,6.58682634730539,4.464285714285714,5.787037037037037,7.653061224489796,5.487804878048781,7.608695652173914,6.086956521739131,2.4096385542168677,6.451612903225806,2.0408163265306123]],[\"HOR\",[0.43821209465381245,0.5154639175257731,0.5012531328320802,0,0.16863406408094433,0,0.21074815595363539,0.1314060446780552,0.22727272727272727,1.0,0.6134969325153374,0,0.21978021978021978,0,0,0.5221932114882507,0.29940119760479045,0.8928571428571428,0.23148148148148145,0.3401360544217687,1.2195121951219512,0,0.8695652173913043,0,0,4.081632653061225]],[\"RRDP\",[0,0,0,0,0,0,0,0,0,0,0,0,0,0,0,0.26109660574412535,0,0,0,0,0,0.5434782608695652,0,1.2048192771084338,0,0]]]}}},\"view\":{\"type\":\"object\",\"name\":\"CDSView\",\"id\":\"p1147\",\"attributes\":{\"filter\":{\"type\":\"object\",\"name\":\"AllIndices\",\"id\":\"p1148\"}}},\"glyph\":{\"type\":\"object\",\"name\":\"HBar\",\"id\":\"p1143\",\"attributes\":{\"y\":{\"type\":\"field\",\"field\":\"term\"},\"left\":{\"type\":\"expr\",\"expr\":{\"type\":\"object\",\"name\":\"Stack\",\"id\":\"p1047\",\"attributes\":{\"fields\":[\"GOV\",\"SER\",\"LFI\",\"GDR\",\"ECO\",\"NI\"]}}},\"right\":{\"type\":\"expr\",\"expr\":{\"type\":\"object\",\"name\":\"Stack\",\"id\":\"p1048\",\"attributes\":{\"fields\":[\"GOV\",\"SER\",\"LFI\",\"GDR\",\"ECO\",\"NI\",\"UDI\"]}}},\"line_color\":{\"type\":\"value\",\"value\":\"#444\"},\"line_width\":{\"type\":\"value\",\"value\":0.9},\"fill_color\":{\"type\":\"value\",\"value\":\"#9b59b6\"},\"hatch_color\":{\"type\":\"value\",\"value\":\"#9b59b6\"}}},\"nonselection_glyph\":{\"type\":\"object\",\"name\":\"HBar\",\"id\":\"p1144\",\"attributes\":{\"y\":{\"type\":\"field\",\"field\":\"term\"},\"left\":{\"type\":\"expr\",\"expr\":{\"id\":\"p1047\"}},\"right\":{\"type\":\"expr\",\"expr\":{\"id\":\"p1048\"}},\"line_color\":{\"type\":\"value\",\"value\":\"#444\"},\"line_alpha\":{\"type\":\"value\",\"value\":0.1},\"line_width\":{\"type\":\"value\",\"value\":0.9},\"fill_color\":{\"type\":\"value\",\"value\":\"#9b59b6\"},\"fill_alpha\":{\"type\":\"value\",\"value\":0.1},\"hatch_color\":{\"type\":\"value\",\"value\":\"#9b59b6\"},\"hatch_alpha\":{\"type\":\"value\",\"value\":0.1}}},\"muted_glyph\":{\"type\":\"object\",\"name\":\"HBar\",\"id\":\"p1145\",\"attributes\":{\"y\":{\"type\":\"field\",\"field\":\"term\"},\"left\":{\"type\":\"expr\",\"expr\":{\"id\":\"p1047\"}},\"right\":{\"type\":\"expr\",\"expr\":{\"id\":\"p1048\"}},\"line_color\":{\"type\":\"value\",\"value\":\"#444\"},\"line_alpha\":{\"type\":\"value\",\"value\":0.2},\"line_width\":{\"type\":\"value\",\"value\":0.9},\"fill_color\":{\"type\":\"value\",\"value\":\"#9b59b6\"},\"fill_alpha\":{\"type\":\"value\",\"value\":0.2},\"hatch_color\":{\"type\":\"value\",\"value\":\"#9b59b6\"},\"hatch_alpha\":{\"type\":\"value\",\"value\":0.2}}}}},{\"type\":\"object\",\"name\":\"GlyphRenderer\",\"id\":\"p1158\",\"attributes\":{\"name\":\"REN\",\"data_source\":{\"type\":\"object\",\"name\":\"ColumnDataSource\",\"id\":\"p1149\",\"attributes\":{\"selected\":{\"type\":\"object\",\"name\":\"Selection\",\"id\":\"p1150\",\"attributes\":{\"indices\":[],\"line_indices\":[]}},\"selection_policy\":{\"type\":\"object\",\"name\":\"UnionRenderers\",\"id\":\"p1151\"},\"data\":{\"type\":\"map\",\"entries\":[[\"term\",[\"loi\",\"prime\",\"pouvoir\",\"public\",\"social\",\"majorit\\u00e9\",\"retrait\",\"travail\",\"retraite\",\"mission\",\"France\",\"ratio\",\"entreprise\",\"r\\u00e9gime\",\"gouvernement\",\"senior\",\"\\u00e2ge\",\"vote\",\"fran\\u00e7ais\",\"r\\u00e9forme\",\"financer\",\"\\u00e9tat\",\"femme\",\"priver\",\"d\\u00e9ficit\",\"famille\"]],[\"GOV\",[11.2182296231376,30.670103092783506,14.411027568922306,26.865671641791046,16.863406408094438,32.63888888888889,8.956796628029505,8.278580814717477,7.045454545454545,28.000000000000004,16.257668711656443,12.928759894459102,9.45054945054945,10.023866348448687,13.84083044982699,8.87728459530026,9.580838323353294,12.946428571428573,6.018518518518518,4.421768707482993,11.585365853658537,9.239130434782608,5.217391304347826,13.253012048192772,4.301075268817205,14.285714285714285]],[\"SER\",[1.6652059596844873,1.2886597938144329,1.5037593984962405,1.9900497512437811,1.854974704890388,1.7361111111111112,1.8967334035827188,1.8396846254927726,2.0454545454545454,2.5,1.5337423312883436,2.9023746701846966,1.098901098901099,2.6252983293556085,1.0380622837370241,1.0443864229765014,3.293413173652695,3.125,2.7777777777777777,1.870748299319728,1.2195121951219512,2.717391304347826,2.1739130434782608,2.4096385542168677,1.6129032258064515,0]],[\"LFI\",[25.591586327782643,23.45360824742268,23.182957393483708,23.383084577114428,24.283305227655987,20.48611111111111,31.08535300316122,34.55978975032852,32.27272727272727,11.0,28.22085889570552,25.593667546174142,23.956043956043956,25.53699284009546,26.643598615916954,18.5378590078329,25.748502994011975,23.214285714285715,36.80555555555556,36.394557823129254,35.97560975609756,27.173913043478258,30.869565217391305,32.53012048192771,34.946236559139784,24.489795918367346]],[\"GDR\",[7.011393514460999,4.123711340206185,4.887218045112782,7.213930348258707,8.094435075885329,10.069444444444445,6.111696522655427,8.409986859395532,6.0227272727272725,6.5,6.748466257668712,6.860158311345646,4.835164835164836,9.307875894988067,7.612456747404845,4.699738903394255,4.491017964071856,5.357142857142857,4.62962962962963,8.16326530612245,1.8292682926829267,5.434782608695652,6.956521739130435,9.63855421686747,7.526881720430108,6.122448979591836]],[\"ECO\",[4.732690622261174,3.608247422680412,5.137844611528822,3.482587064676617,5.396290050590219,4.513888888888888,4.847207586933614,5.387647831800263,5.0,4.0,3.374233128834356,5.804749340369393,7.472527472527473,3.1026252983293556,4.498269896193772,5.483028720626632,4.491017964071856,2.232142857142857,7.87037037037037,6.462585034013606,3.6585365853658534,4.3478260869565215,9.565217391304348,4.819277108433735,5.376344086021505,2.0408163265306123]],[\"NI\",[2.4539877300613497,2.5773195876288657,2.0050125313283207,2.736318407960199,1.5177065767284992,1.7361111111111112,2.73972602739726,2.102496714848883,2.840909090909091,2.0,2.7607361963190185,2.638522427440633,2.6373626373626373,2.6252983293556085,3.1141868512110724,2.610966057441253,3.293413173652695,1.7857142857142856,3.009259259259259,3.061224489795918,2.4390243902439024,4.891304347826087,2.1739130434782608,4.819277108433735,5.913978494623656,2.0408163265306123]],[\"UDI\",[3.2427695004382118,1.5463917525773196,3.8847117794486214,4.228855721393035,3.372681281618887,2.083333333333333,3.0558482613277134,2.4967148488830486,3.295454545454545,4.5,3.374233128834356,3.430079155672823,3.7362637362637363,4.05727923627685,2.422145328719723,4.699738903394255,4.491017964071856,4.910714285714286,2.314814814814815,2.380952380952381,2.4390243902439024,5.434782608695652,3.4782608695652173,4.819277108433735,2.6881720430107525,0]],[\"REN\",[15.337423312883436,10.56701030927835,12.155388471177945,6.218905472636816,11.129848229342327,8.680555555555555,12.961011591148578,10.38107752956636,12.15909090909091,14.499999999999998,13.190184049079754,12.401055408970976,18.24175824175824,13.842482100238662,6.920415224913495,18.27676240208877,11.676646706586826,12.5,10.416666666666668,6.802721088435375,14.634146341463413,9.239130434782608,10.434782608695652,7.228915662650602,17.20430107526882,2.0408163265306123]],[\"MODEM\",[4.1191936897458366,3.0927835051546393,5.137844611528822,3.233830845771144,4.5531197301854975,1.7361111111111112,4.004214963119073,3.8107752956636007,4.318181818181818,4.0,2.7607361963190185,5.013192612137203,3.9560439560439558,5.011933174224343,2.0761245674740483,3.3942558746736298,2.694610778443114,4.017857142857143,2.7777777777777777,3.741496598639456,5.487804878048781,4.891304347826087,2.1739130434782608,3.614457831325301,3.763440860215054,6.122448979591836]],[\"LIOT\",[1.5775635407537247,0.25773195876288657,0.8771929824561403,0.9950248756218906,1.854974704890388,1.0416666666666665,1.2644889357218125,1.445466491458607,1.3636363636363635,0,0.3067484662576687,1.0554089709762533,1.5384615384615385,0.47732696897374705,1.384083044982699,3.1331592689295036,2.3952095808383236,1.7857142857142856,0.23148148148148145,1.3605442176870748,1.2195121951219512,1.0869565217391304,1.3043478260869565,3.614457831325301,2.1505376344086025,2.0408163265306123]],[\"RN\",[5.083260297984225,4.123711340206185,7.268170426065162,4.72636815920398,5.733558178752108,6.597222222222222,6.42781875658588,6.83311432325887,6.8181818181818175,5.5,8.588957055214724,3.95778364116095,6.153846153846154,5.250596658711217,11.072664359861593,5.7441253263707575,8.08383233532934,12.946428571428573,10.87962962962963,9.523809523809524,3.6585365853658534,8.152173913043478,6.086956521739131,6.024096385542169,3.225806451612903,6.122448979591836]],[\"LR\",[11.130587204206837,6.958762886597938,12.280701754385964,8.706467661691542,8.768971332209107,4.513888888888888,9.905163329820864,9.461235216819974,10.0,11.0,7.975460122699387,11.609498680738787,12.527472527472527,10.501193317422434,9.688581314878892,16.187989556135772,12.874251497005988,9.821428571428571,6.25,7.8231292517006805,9.146341463414634,9.239130434782608,12.608695652173912,3.614457831325301,4.838709677419355,28.57142857142857]],[\"SOC\",[6.397896581945661,7.216494845360824,6.7669172932330826,6.218905472636816,6.408094435075886,4.166666666666666,6.533192834562697,4.862023653088042,6.59090909090909,5.5,4.294478527607362,5.804749340369393,4.175824175824175,7.637231503579953,9.688581314878892,6.527415143603134,6.58682634730539,4.464285714285714,5.787037037037037,7.653061224489796,5.487804878048781,7.608695652173914,6.086956521739131,2.4096385542168677,6.451612903225806,2.0408163265306123]],[\"HOR\",[0.43821209465381245,0.5154639175257731,0.5012531328320802,0,0.16863406408094433,0,0.21074815595363539,0.1314060446780552,0.22727272727272727,1.0,0.6134969325153374,0,0.21978021978021978,0,0,0.5221932114882507,0.29940119760479045,0.8928571428571428,0.23148148148148145,0.3401360544217687,1.2195121951219512,0,0.8695652173913043,0,0,4.081632653061225]],[\"RRDP\",[0,0,0,0,0,0,0,0,0,0,0,0,0,0,0,0.26109660574412535,0,0,0,0,0,0.5434782608695652,0,1.2048192771084338,0,0]]]}}},\"view\":{\"type\":\"object\",\"name\":\"CDSView\",\"id\":\"p1159\",\"attributes\":{\"filter\":{\"type\":\"object\",\"name\":\"AllIndices\",\"id\":\"p1160\"}}},\"glyph\":{\"type\":\"object\",\"name\":\"HBar\",\"id\":\"p1155\",\"attributes\":{\"y\":{\"type\":\"field\",\"field\":\"term\"},\"left\":{\"type\":\"expr\",\"expr\":{\"type\":\"object\",\"name\":\"Stack\",\"id\":\"p1049\",\"attributes\":{\"fields\":[\"GOV\",\"SER\",\"LFI\",\"GDR\",\"ECO\",\"NI\",\"UDI\"]}}},\"right\":{\"type\":\"expr\",\"expr\":{\"type\":\"object\",\"name\":\"Stack\",\"id\":\"p1050\",\"attributes\":{\"fields\":[\"GOV\",\"SER\",\"LFI\",\"GDR\",\"ECO\",\"NI\",\"UDI\",\"REN\"]}}},\"line_color\":{\"type\":\"value\",\"value\":\"#444\"},\"line_width\":{\"type\":\"value\",\"value\":0.9},\"fill_color\":{\"type\":\"value\",\"value\":\"#3498db\"},\"hatch_color\":{\"type\":\"value\",\"value\":\"#3498db\"}}},\"nonselection_glyph\":{\"type\":\"object\",\"name\":\"HBar\",\"id\":\"p1156\",\"attributes\":{\"y\":{\"type\":\"field\",\"field\":\"term\"},\"left\":{\"type\":\"expr\",\"expr\":{\"id\":\"p1049\"}},\"right\":{\"type\":\"expr\",\"expr\":{\"id\":\"p1050\"}},\"line_color\":{\"type\":\"value\",\"value\":\"#444\"},\"line_alpha\":{\"type\":\"value\",\"value\":0.1},\"line_width\":{\"type\":\"value\",\"value\":0.9},\"fill_color\":{\"type\":\"value\",\"value\":\"#3498db\"},\"fill_alpha\":{\"type\":\"value\",\"value\":0.1},\"hatch_color\":{\"type\":\"value\",\"value\":\"#3498db\"},\"hatch_alpha\":{\"type\":\"value\",\"value\":0.1}}},\"muted_glyph\":{\"type\":\"object\",\"name\":\"HBar\",\"id\":\"p1157\",\"attributes\":{\"y\":{\"type\":\"field\",\"field\":\"term\"},\"left\":{\"type\":\"expr\",\"expr\":{\"id\":\"p1049\"}},\"right\":{\"type\":\"expr\",\"expr\":{\"id\":\"p1050\"}},\"line_color\":{\"type\":\"value\",\"value\":\"#444\"},\"line_alpha\":{\"type\":\"value\",\"value\":0.2},\"line_width\":{\"type\":\"value\",\"value\":0.9},\"fill_color\":{\"type\":\"value\",\"value\":\"#3498db\"},\"fill_alpha\":{\"type\":\"value\",\"value\":0.2},\"hatch_color\":{\"type\":\"value\",\"value\":\"#3498db\"},\"hatch_alpha\":{\"type\":\"value\",\"value\":0.2}}}}},{\"type\":\"object\",\"name\":\"GlyphRenderer\",\"id\":\"p1170\",\"attributes\":{\"name\":\"MODEM\",\"data_source\":{\"type\":\"object\",\"name\":\"ColumnDataSource\",\"id\":\"p1161\",\"attributes\":{\"selected\":{\"type\":\"object\",\"name\":\"Selection\",\"id\":\"p1162\",\"attributes\":{\"indices\":[],\"line_indices\":[]}},\"selection_policy\":{\"type\":\"object\",\"name\":\"UnionRenderers\",\"id\":\"p1163\"},\"data\":{\"type\":\"map\",\"entries\":[[\"term\",[\"loi\",\"prime\",\"pouvoir\",\"public\",\"social\",\"majorit\\u00e9\",\"retrait\",\"travail\",\"retraite\",\"mission\",\"France\",\"ratio\",\"entreprise\",\"r\\u00e9gime\",\"gouvernement\",\"senior\",\"\\u00e2ge\",\"vote\",\"fran\\u00e7ais\",\"r\\u00e9forme\",\"financer\",\"\\u00e9tat\",\"femme\",\"priver\",\"d\\u00e9ficit\",\"famille\"]],[\"GOV\",[11.2182296231376,30.670103092783506,14.411027568922306,26.865671641791046,16.863406408094438,32.63888888888889,8.956796628029505,8.278580814717477,7.045454545454545,28.000000000000004,16.257668711656443,12.928759894459102,9.45054945054945,10.023866348448687,13.84083044982699,8.87728459530026,9.580838323353294,12.946428571428573,6.018518518518518,4.421768707482993,11.585365853658537,9.239130434782608,5.217391304347826,13.253012048192772,4.301075268817205,14.285714285714285]],[\"SER\",[1.6652059596844873,1.2886597938144329,1.5037593984962405,1.9900497512437811,1.854974704890388,1.7361111111111112,1.8967334035827188,1.8396846254927726,2.0454545454545454,2.5,1.5337423312883436,2.9023746701846966,1.098901098901099,2.6252983293556085,1.0380622837370241,1.0443864229765014,3.293413173652695,3.125,2.7777777777777777,1.870748299319728,1.2195121951219512,2.717391304347826,2.1739130434782608,2.4096385542168677,1.6129032258064515,0]],[\"LFI\",[25.591586327782643,23.45360824742268,23.182957393483708,23.383084577114428,24.283305227655987,20.48611111111111,31.08535300316122,34.55978975032852,32.27272727272727,11.0,28.22085889570552,25.593667546174142,23.956043956043956,25.53699284009546,26.643598615916954,18.5378590078329,25.748502994011975,23.214285714285715,36.80555555555556,36.394557823129254,35.97560975609756,27.173913043478258,30.869565217391305,32.53012048192771,34.946236559139784,24.489795918367346]],[\"GDR\",[7.011393514460999,4.123711340206185,4.887218045112782,7.213930348258707,8.094435075885329,10.069444444444445,6.111696522655427,8.409986859395532,6.0227272727272725,6.5,6.748466257668712,6.860158311345646,4.835164835164836,9.307875894988067,7.612456747404845,4.699738903394255,4.491017964071856,5.357142857142857,4.62962962962963,8.16326530612245,1.8292682926829267,5.434782608695652,6.956521739130435,9.63855421686747,7.526881720430108,6.122448979591836]],[\"ECO\",[4.732690622261174,3.608247422680412,5.137844611528822,3.482587064676617,5.396290050590219,4.513888888888888,4.847207586933614,5.387647831800263,5.0,4.0,3.374233128834356,5.804749340369393,7.472527472527473,3.1026252983293556,4.498269896193772,5.483028720626632,4.491017964071856,2.232142857142857,7.87037037037037,6.462585034013606,3.6585365853658534,4.3478260869565215,9.565217391304348,4.819277108433735,5.376344086021505,2.0408163265306123]],[\"NI\",[2.4539877300613497,2.5773195876288657,2.0050125313283207,2.736318407960199,1.5177065767284992,1.7361111111111112,2.73972602739726,2.102496714848883,2.840909090909091,2.0,2.7607361963190185,2.638522427440633,2.6373626373626373,2.6252983293556085,3.1141868512110724,2.610966057441253,3.293413173652695,1.7857142857142856,3.009259259259259,3.061224489795918,2.4390243902439024,4.891304347826087,2.1739130434782608,4.819277108433735,5.913978494623656,2.0408163265306123]],[\"UDI\",[3.2427695004382118,1.5463917525773196,3.8847117794486214,4.228855721393035,3.372681281618887,2.083333333333333,3.0558482613277134,2.4967148488830486,3.295454545454545,4.5,3.374233128834356,3.430079155672823,3.7362637362637363,4.05727923627685,2.422145328719723,4.699738903394255,4.491017964071856,4.910714285714286,2.314814814814815,2.380952380952381,2.4390243902439024,5.434782608695652,3.4782608695652173,4.819277108433735,2.6881720430107525,0]],[\"REN\",[15.337423312883436,10.56701030927835,12.155388471177945,6.218905472636816,11.129848229342327,8.680555555555555,12.961011591148578,10.38107752956636,12.15909090909091,14.499999999999998,13.190184049079754,12.401055408970976,18.24175824175824,13.842482100238662,6.920415224913495,18.27676240208877,11.676646706586826,12.5,10.416666666666668,6.802721088435375,14.634146341463413,9.239130434782608,10.434782608695652,7.228915662650602,17.20430107526882,2.0408163265306123]],[\"MODEM\",[4.1191936897458366,3.0927835051546393,5.137844611528822,3.233830845771144,4.5531197301854975,1.7361111111111112,4.004214963119073,3.8107752956636007,4.318181818181818,4.0,2.7607361963190185,5.013192612137203,3.9560439560439558,5.011933174224343,2.0761245674740483,3.3942558746736298,2.694610778443114,4.017857142857143,2.7777777777777777,3.741496598639456,5.487804878048781,4.891304347826087,2.1739130434782608,3.614457831325301,3.763440860215054,6.122448979591836]],[\"LIOT\",[1.5775635407537247,0.25773195876288657,0.8771929824561403,0.9950248756218906,1.854974704890388,1.0416666666666665,1.2644889357218125,1.445466491458607,1.3636363636363635,0,0.3067484662576687,1.0554089709762533,1.5384615384615385,0.47732696897374705,1.384083044982699,3.1331592689295036,2.3952095808383236,1.7857142857142856,0.23148148148148145,1.3605442176870748,1.2195121951219512,1.0869565217391304,1.3043478260869565,3.614457831325301,2.1505376344086025,2.0408163265306123]],[\"RN\",[5.083260297984225,4.123711340206185,7.268170426065162,4.72636815920398,5.733558178752108,6.597222222222222,6.42781875658588,6.83311432325887,6.8181818181818175,5.5,8.588957055214724,3.95778364116095,6.153846153846154,5.250596658711217,11.072664359861593,5.7441253263707575,8.08383233532934,12.946428571428573,10.87962962962963,9.523809523809524,3.6585365853658534,8.152173913043478,6.086956521739131,6.024096385542169,3.225806451612903,6.122448979591836]],[\"LR\",[11.130587204206837,6.958762886597938,12.280701754385964,8.706467661691542,8.768971332209107,4.513888888888888,9.905163329820864,9.461235216819974,10.0,11.0,7.975460122699387,11.609498680738787,12.527472527472527,10.501193317422434,9.688581314878892,16.187989556135772,12.874251497005988,9.821428571428571,6.25,7.8231292517006805,9.146341463414634,9.239130434782608,12.608695652173912,3.614457831325301,4.838709677419355,28.57142857142857]],[\"SOC\",[6.397896581945661,7.216494845360824,6.7669172932330826,6.218905472636816,6.408094435075886,4.166666666666666,6.533192834562697,4.862023653088042,6.59090909090909,5.5,4.294478527607362,5.804749340369393,4.175824175824175,7.637231503579953,9.688581314878892,6.527415143603134,6.58682634730539,4.464285714285714,5.787037037037037,7.653061224489796,5.487804878048781,7.608695652173914,6.086956521739131,2.4096385542168677,6.451612903225806,2.0408163265306123]],[\"HOR\",[0.43821209465381245,0.5154639175257731,0.5012531328320802,0,0.16863406408094433,0,0.21074815595363539,0.1314060446780552,0.22727272727272727,1.0,0.6134969325153374,0,0.21978021978021978,0,0,0.5221932114882507,0.29940119760479045,0.8928571428571428,0.23148148148148145,0.3401360544217687,1.2195121951219512,0,0.8695652173913043,0,0,4.081632653061225]],[\"RRDP\",[0,0,0,0,0,0,0,0,0,0,0,0,0,0,0,0.26109660574412535,0,0,0,0,0,0.5434782608695652,0,1.2048192771084338,0,0]]]}}},\"view\":{\"type\":\"object\",\"name\":\"CDSView\",\"id\":\"p1171\",\"attributes\":{\"filter\":{\"type\":\"object\",\"name\":\"AllIndices\",\"id\":\"p1172\"}}},\"glyph\":{\"type\":\"object\",\"name\":\"HBar\",\"id\":\"p1167\",\"attributes\":{\"y\":{\"type\":\"field\",\"field\":\"term\"},\"left\":{\"type\":\"expr\",\"expr\":{\"type\":\"object\",\"name\":\"Stack\",\"id\":\"p1051\",\"attributes\":{\"fields\":[\"GOV\",\"SER\",\"LFI\",\"GDR\",\"ECO\",\"NI\",\"UDI\",\"REN\"]}}},\"right\":{\"type\":\"expr\",\"expr\":{\"type\":\"object\",\"name\":\"Stack\",\"id\":\"p1052\",\"attributes\":{\"fields\":[\"GOV\",\"SER\",\"LFI\",\"GDR\",\"ECO\",\"NI\",\"UDI\",\"REN\",\"MODEM\"]}}},\"line_color\":{\"type\":\"value\",\"value\":\"#444\"},\"line_width\":{\"type\":\"value\",\"value\":0.9},\"fill_color\":{\"type\":\"value\",\"value\":\"#e67e22\"},\"hatch_color\":{\"type\":\"value\",\"value\":\"#e67e22\"}}},\"nonselection_glyph\":{\"type\":\"object\",\"name\":\"HBar\",\"id\":\"p1168\",\"attributes\":{\"y\":{\"type\":\"field\",\"field\":\"term\"},\"left\":{\"type\":\"expr\",\"expr\":{\"id\":\"p1051\"}},\"right\":{\"type\":\"expr\",\"expr\":{\"id\":\"p1052\"}},\"line_color\":{\"type\":\"value\",\"value\":\"#444\"},\"line_alpha\":{\"type\":\"value\",\"value\":0.1},\"line_width\":{\"type\":\"value\",\"value\":0.9},\"fill_color\":{\"type\":\"value\",\"value\":\"#e67e22\"},\"fill_alpha\":{\"type\":\"value\",\"value\":0.1},\"hatch_color\":{\"type\":\"value\",\"value\":\"#e67e22\"},\"hatch_alpha\":{\"type\":\"value\",\"value\":0.1}}},\"muted_glyph\":{\"type\":\"object\",\"name\":\"HBar\",\"id\":\"p1169\",\"attributes\":{\"y\":{\"type\":\"field\",\"field\":\"term\"},\"left\":{\"type\":\"expr\",\"expr\":{\"id\":\"p1051\"}},\"right\":{\"type\":\"expr\",\"expr\":{\"id\":\"p1052\"}},\"line_color\":{\"type\":\"value\",\"value\":\"#444\"},\"line_alpha\":{\"type\":\"value\",\"value\":0.2},\"line_width\":{\"type\":\"value\",\"value\":0.9},\"fill_color\":{\"type\":\"value\",\"value\":\"#e67e22\"},\"fill_alpha\":{\"type\":\"value\",\"value\":0.2},\"hatch_color\":{\"type\":\"value\",\"value\":\"#e67e22\"},\"hatch_alpha\":{\"type\":\"value\",\"value\":0.2}}}}},{\"type\":\"object\",\"name\":\"GlyphRenderer\",\"id\":\"p1182\",\"attributes\":{\"name\":\"LIOT\",\"data_source\":{\"type\":\"object\",\"name\":\"ColumnDataSource\",\"id\":\"p1173\",\"attributes\":{\"selected\":{\"type\":\"object\",\"name\":\"Selection\",\"id\":\"p1174\",\"attributes\":{\"indices\":[],\"line_indices\":[]}},\"selection_policy\":{\"type\":\"object\",\"name\":\"UnionRenderers\",\"id\":\"p1175\"},\"data\":{\"type\":\"map\",\"entries\":[[\"term\",[\"loi\",\"prime\",\"pouvoir\",\"public\",\"social\",\"majorit\\u00e9\",\"retrait\",\"travail\",\"retraite\",\"mission\",\"France\",\"ratio\",\"entreprise\",\"r\\u00e9gime\",\"gouvernement\",\"senior\",\"\\u00e2ge\",\"vote\",\"fran\\u00e7ais\",\"r\\u00e9forme\",\"financer\",\"\\u00e9tat\",\"femme\",\"priver\",\"d\\u00e9ficit\",\"famille\"]],[\"GOV\",[11.2182296231376,30.670103092783506,14.411027568922306,26.865671641791046,16.863406408094438,32.63888888888889,8.956796628029505,8.278580814717477,7.045454545454545,28.000000000000004,16.257668711656443,12.928759894459102,9.45054945054945,10.023866348448687,13.84083044982699,8.87728459530026,9.580838323353294,12.946428571428573,6.018518518518518,4.421768707482993,11.585365853658537,9.239130434782608,5.217391304347826,13.253012048192772,4.301075268817205,14.285714285714285]],[\"SER\",[1.6652059596844873,1.2886597938144329,1.5037593984962405,1.9900497512437811,1.854974704890388,1.7361111111111112,1.8967334035827188,1.8396846254927726,2.0454545454545454,2.5,1.5337423312883436,2.9023746701846966,1.098901098901099,2.6252983293556085,1.0380622837370241,1.0443864229765014,3.293413173652695,3.125,2.7777777777777777,1.870748299319728,1.2195121951219512,2.717391304347826,2.1739130434782608,2.4096385542168677,1.6129032258064515,0]],[\"LFI\",[25.591586327782643,23.45360824742268,23.182957393483708,23.383084577114428,24.283305227655987,20.48611111111111,31.08535300316122,34.55978975032852,32.27272727272727,11.0,28.22085889570552,25.593667546174142,23.956043956043956,25.53699284009546,26.643598615916954,18.5378590078329,25.748502994011975,23.214285714285715,36.80555555555556,36.394557823129254,35.97560975609756,27.173913043478258,30.869565217391305,32.53012048192771,34.946236559139784,24.489795918367346]],[\"GDR\",[7.011393514460999,4.123711340206185,4.887218045112782,7.213930348258707,8.094435075885329,10.069444444444445,6.111696522655427,8.409986859395532,6.0227272727272725,6.5,6.748466257668712,6.860158311345646,4.835164835164836,9.307875894988067,7.612456747404845,4.699738903394255,4.491017964071856,5.357142857142857,4.62962962962963,8.16326530612245,1.8292682926829267,5.434782608695652,6.956521739130435,9.63855421686747,7.526881720430108,6.122448979591836]],[\"ECO\",[4.732690622261174,3.608247422680412,5.137844611528822,3.482587064676617,5.396290050590219,4.513888888888888,4.847207586933614,5.387647831800263,5.0,4.0,3.374233128834356,5.804749340369393,7.472527472527473,3.1026252983293556,4.498269896193772,5.483028720626632,4.491017964071856,2.232142857142857,7.87037037037037,6.462585034013606,3.6585365853658534,4.3478260869565215,9.565217391304348,4.819277108433735,5.376344086021505,2.0408163265306123]],[\"NI\",[2.4539877300613497,2.5773195876288657,2.0050125313283207,2.736318407960199,1.5177065767284992,1.7361111111111112,2.73972602739726,2.102496714848883,2.840909090909091,2.0,2.7607361963190185,2.638522427440633,2.6373626373626373,2.6252983293556085,3.1141868512110724,2.610966057441253,3.293413173652695,1.7857142857142856,3.009259259259259,3.061224489795918,2.4390243902439024,4.891304347826087,2.1739130434782608,4.819277108433735,5.913978494623656,2.0408163265306123]],[\"UDI\",[3.2427695004382118,1.5463917525773196,3.8847117794486214,4.228855721393035,3.372681281618887,2.083333333333333,3.0558482613277134,2.4967148488830486,3.295454545454545,4.5,3.374233128834356,3.430079155672823,3.7362637362637363,4.05727923627685,2.422145328719723,4.699738903394255,4.491017964071856,4.910714285714286,2.314814814814815,2.380952380952381,2.4390243902439024,5.434782608695652,3.4782608695652173,4.819277108433735,2.6881720430107525,0]],[\"REN\",[15.337423312883436,10.56701030927835,12.155388471177945,6.218905472636816,11.129848229342327,8.680555555555555,12.961011591148578,10.38107752956636,12.15909090909091,14.499999999999998,13.190184049079754,12.401055408970976,18.24175824175824,13.842482100238662,6.920415224913495,18.27676240208877,11.676646706586826,12.5,10.416666666666668,6.802721088435375,14.634146341463413,9.239130434782608,10.434782608695652,7.228915662650602,17.20430107526882,2.0408163265306123]],[\"MODEM\",[4.1191936897458366,3.0927835051546393,5.137844611528822,3.233830845771144,4.5531197301854975,1.7361111111111112,4.004214963119073,3.8107752956636007,4.318181818181818,4.0,2.7607361963190185,5.013192612137203,3.9560439560439558,5.011933174224343,2.0761245674740483,3.3942558746736298,2.694610778443114,4.017857142857143,2.7777777777777777,3.741496598639456,5.487804878048781,4.891304347826087,2.1739130434782608,3.614457831325301,3.763440860215054,6.122448979591836]],[\"LIOT\",[1.5775635407537247,0.25773195876288657,0.8771929824561403,0.9950248756218906,1.854974704890388,1.0416666666666665,1.2644889357218125,1.445466491458607,1.3636363636363635,0,0.3067484662576687,1.0554089709762533,1.5384615384615385,0.47732696897374705,1.384083044982699,3.1331592689295036,2.3952095808383236,1.7857142857142856,0.23148148148148145,1.3605442176870748,1.2195121951219512,1.0869565217391304,1.3043478260869565,3.614457831325301,2.1505376344086025,2.0408163265306123]],[\"RN\",[5.083260297984225,4.123711340206185,7.268170426065162,4.72636815920398,5.733558178752108,6.597222222222222,6.42781875658588,6.83311432325887,6.8181818181818175,5.5,8.588957055214724,3.95778364116095,6.153846153846154,5.250596658711217,11.072664359861593,5.7441253263707575,8.08383233532934,12.946428571428573,10.87962962962963,9.523809523809524,3.6585365853658534,8.152173913043478,6.086956521739131,6.024096385542169,3.225806451612903,6.122448979591836]],[\"LR\",[11.130587204206837,6.958762886597938,12.280701754385964,8.706467661691542,8.768971332209107,4.513888888888888,9.905163329820864,9.461235216819974,10.0,11.0,7.975460122699387,11.609498680738787,12.527472527472527,10.501193317422434,9.688581314878892,16.187989556135772,12.874251497005988,9.821428571428571,6.25,7.8231292517006805,9.146341463414634,9.239130434782608,12.608695652173912,3.614457831325301,4.838709677419355,28.57142857142857]],[\"SOC\",[6.397896581945661,7.216494845360824,6.7669172932330826,6.218905472636816,6.408094435075886,4.166666666666666,6.533192834562697,4.862023653088042,6.59090909090909,5.5,4.294478527607362,5.804749340369393,4.175824175824175,7.637231503579953,9.688581314878892,6.527415143603134,6.58682634730539,4.464285714285714,5.787037037037037,7.653061224489796,5.487804878048781,7.608695652173914,6.086956521739131,2.4096385542168677,6.451612903225806,2.0408163265306123]],[\"HOR\",[0.43821209465381245,0.5154639175257731,0.5012531328320802,0,0.16863406408094433,0,0.21074815595363539,0.1314060446780552,0.22727272727272727,1.0,0.6134969325153374,0,0.21978021978021978,0,0,0.5221932114882507,0.29940119760479045,0.8928571428571428,0.23148148148148145,0.3401360544217687,1.2195121951219512,0,0.8695652173913043,0,0,4.081632653061225]],[\"RRDP\",[0,0,0,0,0,0,0,0,0,0,0,0,0,0,0,0.26109660574412535,0,0,0,0,0,0.5434782608695652,0,1.2048192771084338,0,0]]]}}},\"view\":{\"type\":\"object\",\"name\":\"CDSView\",\"id\":\"p1183\",\"attributes\":{\"filter\":{\"type\":\"object\",\"name\":\"AllIndices\",\"id\":\"p1184\"}}},\"glyph\":{\"type\":\"object\",\"name\":\"HBar\",\"id\":\"p1179\",\"attributes\":{\"y\":{\"type\":\"field\",\"field\":\"term\"},\"left\":{\"type\":\"expr\",\"expr\":{\"type\":\"object\",\"name\":\"Stack\",\"id\":\"p1053\",\"attributes\":{\"fields\":[\"GOV\",\"SER\",\"LFI\",\"GDR\",\"ECO\",\"NI\",\"UDI\",\"REN\",\"MODEM\"]}}},\"right\":{\"type\":\"expr\",\"expr\":{\"type\":\"object\",\"name\":\"Stack\",\"id\":\"p1054\",\"attributes\":{\"fields\":[\"GOV\",\"SER\",\"LFI\",\"GDR\",\"ECO\",\"NI\",\"UDI\",\"REN\",\"MODEM\",\"LIOT\"]}}},\"line_color\":{\"type\":\"value\",\"value\":\"#444\"},\"line_width\":{\"type\":\"value\",\"value\":0.9},\"fill_color\":{\"type\":\"value\",\"value\":\"#2ecc71\"},\"hatch_color\":{\"type\":\"value\",\"value\":\"#2ecc71\"}}},\"nonselection_glyph\":{\"type\":\"object\",\"name\":\"HBar\",\"id\":\"p1180\",\"attributes\":{\"y\":{\"type\":\"field\",\"field\":\"term\"},\"left\":{\"type\":\"expr\",\"expr\":{\"id\":\"p1053\"}},\"right\":{\"type\":\"expr\",\"expr\":{\"id\":\"p1054\"}},\"line_color\":{\"type\":\"value\",\"value\":\"#444\"},\"line_alpha\":{\"type\":\"value\",\"value\":0.1},\"line_width\":{\"type\":\"value\",\"value\":0.9},\"fill_color\":{\"type\":\"value\",\"value\":\"#2ecc71\"},\"fill_alpha\":{\"type\":\"value\",\"value\":0.1},\"hatch_color\":{\"type\":\"value\",\"value\":\"#2ecc71\"},\"hatch_alpha\":{\"type\":\"value\",\"value\":0.1}}},\"muted_glyph\":{\"type\":\"object\",\"name\":\"HBar\",\"id\":\"p1181\",\"attributes\":{\"y\":{\"type\":\"field\",\"field\":\"term\"},\"left\":{\"type\":\"expr\",\"expr\":{\"id\":\"p1053\"}},\"right\":{\"type\":\"expr\",\"expr\":{\"id\":\"p1054\"}},\"line_color\":{\"type\":\"value\",\"value\":\"#444\"},\"line_alpha\":{\"type\":\"value\",\"value\":0.2},\"line_width\":{\"type\":\"value\",\"value\":0.9},\"fill_color\":{\"type\":\"value\",\"value\":\"#2ecc71\"},\"fill_alpha\":{\"type\":\"value\",\"value\":0.2},\"hatch_color\":{\"type\":\"value\",\"value\":\"#2ecc71\"},\"hatch_alpha\":{\"type\":\"value\",\"value\":0.2}}}}},{\"type\":\"object\",\"name\":\"GlyphRenderer\",\"id\":\"p1194\",\"attributes\":{\"name\":\"RN\",\"data_source\":{\"type\":\"object\",\"name\":\"ColumnDataSource\",\"id\":\"p1185\",\"attributes\":{\"selected\":{\"type\":\"object\",\"name\":\"Selection\",\"id\":\"p1186\",\"attributes\":{\"indices\":[],\"line_indices\":[]}},\"selection_policy\":{\"type\":\"object\",\"name\":\"UnionRenderers\",\"id\":\"p1187\"},\"data\":{\"type\":\"map\",\"entries\":[[\"term\",[\"loi\",\"prime\",\"pouvoir\",\"public\",\"social\",\"majorit\\u00e9\",\"retrait\",\"travail\",\"retraite\",\"mission\",\"France\",\"ratio\",\"entreprise\",\"r\\u00e9gime\",\"gouvernement\",\"senior\",\"\\u00e2ge\",\"vote\",\"fran\\u00e7ais\",\"r\\u00e9forme\",\"financer\",\"\\u00e9tat\",\"femme\",\"priver\",\"d\\u00e9ficit\",\"famille\"]],[\"GOV\",[11.2182296231376,30.670103092783506,14.411027568922306,26.865671641791046,16.863406408094438,32.63888888888889,8.956796628029505,8.278580814717477,7.045454545454545,28.000000000000004,16.257668711656443,12.928759894459102,9.45054945054945,10.023866348448687,13.84083044982699,8.87728459530026,9.580838323353294,12.946428571428573,6.018518518518518,4.421768707482993,11.585365853658537,9.239130434782608,5.217391304347826,13.253012048192772,4.301075268817205,14.285714285714285]],[\"SER\",[1.6652059596844873,1.2886597938144329,1.5037593984962405,1.9900497512437811,1.854974704890388,1.7361111111111112,1.8967334035827188,1.8396846254927726,2.0454545454545454,2.5,1.5337423312883436,2.9023746701846966,1.098901098901099,2.6252983293556085,1.0380622837370241,1.0443864229765014,3.293413173652695,3.125,2.7777777777777777,1.870748299319728,1.2195121951219512,2.717391304347826,2.1739130434782608,2.4096385542168677,1.6129032258064515,0]],[\"LFI\",[25.591586327782643,23.45360824742268,23.182957393483708,23.383084577114428,24.283305227655987,20.48611111111111,31.08535300316122,34.55978975032852,32.27272727272727,11.0,28.22085889570552,25.593667546174142,23.956043956043956,25.53699284009546,26.643598615916954,18.5378590078329,25.748502994011975,23.214285714285715,36.80555555555556,36.394557823129254,35.97560975609756,27.173913043478258,30.869565217391305,32.53012048192771,34.946236559139784,24.489795918367346]],[\"GDR\",[7.011393514460999,4.123711340206185,4.887218045112782,7.213930348258707,8.094435075885329,10.069444444444445,6.111696522655427,8.409986859395532,6.0227272727272725,6.5,6.748466257668712,6.860158311345646,4.835164835164836,9.307875894988067,7.612456747404845,4.699738903394255,4.491017964071856,5.357142857142857,4.62962962962963,8.16326530612245,1.8292682926829267,5.434782608695652,6.956521739130435,9.63855421686747,7.526881720430108,6.122448979591836]],[\"ECO\",[4.732690622261174,3.608247422680412,5.137844611528822,3.482587064676617,5.396290050590219,4.513888888888888,4.847207586933614,5.387647831800263,5.0,4.0,3.374233128834356,5.804749340369393,7.472527472527473,3.1026252983293556,4.498269896193772,5.483028720626632,4.491017964071856,2.232142857142857,7.87037037037037,6.462585034013606,3.6585365853658534,4.3478260869565215,9.565217391304348,4.819277108433735,5.376344086021505,2.0408163265306123]],[\"NI\",[2.4539877300613497,2.5773195876288657,2.0050125313283207,2.736318407960199,1.5177065767284992,1.7361111111111112,2.73972602739726,2.102496714848883,2.840909090909091,2.0,2.7607361963190185,2.638522427440633,2.6373626373626373,2.6252983293556085,3.1141868512110724,2.610966057441253,3.293413173652695,1.7857142857142856,3.009259259259259,3.061224489795918,2.4390243902439024,4.891304347826087,2.1739130434782608,4.819277108433735,5.913978494623656,2.0408163265306123]],[\"UDI\",[3.2427695004382118,1.5463917525773196,3.8847117794486214,4.228855721393035,3.372681281618887,2.083333333333333,3.0558482613277134,2.4967148488830486,3.295454545454545,4.5,3.374233128834356,3.430079155672823,3.7362637362637363,4.05727923627685,2.422145328719723,4.699738903394255,4.491017964071856,4.910714285714286,2.314814814814815,2.380952380952381,2.4390243902439024,5.434782608695652,3.4782608695652173,4.819277108433735,2.6881720430107525,0]],[\"REN\",[15.337423312883436,10.56701030927835,12.155388471177945,6.218905472636816,11.129848229342327,8.680555555555555,12.961011591148578,10.38107752956636,12.15909090909091,14.499999999999998,13.190184049079754,12.401055408970976,18.24175824175824,13.842482100238662,6.920415224913495,18.27676240208877,11.676646706586826,12.5,10.416666666666668,6.802721088435375,14.634146341463413,9.239130434782608,10.434782608695652,7.228915662650602,17.20430107526882,2.0408163265306123]],[\"MODEM\",[4.1191936897458366,3.0927835051546393,5.137844611528822,3.233830845771144,4.5531197301854975,1.7361111111111112,4.004214963119073,3.8107752956636007,4.318181818181818,4.0,2.7607361963190185,5.013192612137203,3.9560439560439558,5.011933174224343,2.0761245674740483,3.3942558746736298,2.694610778443114,4.017857142857143,2.7777777777777777,3.741496598639456,5.487804878048781,4.891304347826087,2.1739130434782608,3.614457831325301,3.763440860215054,6.122448979591836]],[\"LIOT\",[1.5775635407537247,0.25773195876288657,0.8771929824561403,0.9950248756218906,1.854974704890388,1.0416666666666665,1.2644889357218125,1.445466491458607,1.3636363636363635,0,0.3067484662576687,1.0554089709762533,1.5384615384615385,0.47732696897374705,1.384083044982699,3.1331592689295036,2.3952095808383236,1.7857142857142856,0.23148148148148145,1.3605442176870748,1.2195121951219512,1.0869565217391304,1.3043478260869565,3.614457831325301,2.1505376344086025,2.0408163265306123]],[\"RN\",[5.083260297984225,4.123711340206185,7.268170426065162,4.72636815920398,5.733558178752108,6.597222222222222,6.42781875658588,6.83311432325887,6.8181818181818175,5.5,8.588957055214724,3.95778364116095,6.153846153846154,5.250596658711217,11.072664359861593,5.7441253263707575,8.08383233532934,12.946428571428573,10.87962962962963,9.523809523809524,3.6585365853658534,8.152173913043478,6.086956521739131,6.024096385542169,3.225806451612903,6.122448979591836]],[\"LR\",[11.130587204206837,6.958762886597938,12.280701754385964,8.706467661691542,8.768971332209107,4.513888888888888,9.905163329820864,9.461235216819974,10.0,11.0,7.975460122699387,11.609498680738787,12.527472527472527,10.501193317422434,9.688581314878892,16.187989556135772,12.874251497005988,9.821428571428571,6.25,7.8231292517006805,9.146341463414634,9.239130434782608,12.608695652173912,3.614457831325301,4.838709677419355,28.57142857142857]],[\"SOC\",[6.397896581945661,7.216494845360824,6.7669172932330826,6.218905472636816,6.408094435075886,4.166666666666666,6.533192834562697,4.862023653088042,6.59090909090909,5.5,4.294478527607362,5.804749340369393,4.175824175824175,7.637231503579953,9.688581314878892,6.527415143603134,6.58682634730539,4.464285714285714,5.787037037037037,7.653061224489796,5.487804878048781,7.608695652173914,6.086956521739131,2.4096385542168677,6.451612903225806,2.0408163265306123]],[\"HOR\",[0.43821209465381245,0.5154639175257731,0.5012531328320802,0,0.16863406408094433,0,0.21074815595363539,0.1314060446780552,0.22727272727272727,1.0,0.6134969325153374,0,0.21978021978021978,0,0,0.5221932114882507,0.29940119760479045,0.8928571428571428,0.23148148148148145,0.3401360544217687,1.2195121951219512,0,0.8695652173913043,0,0,4.081632653061225]],[\"RRDP\",[0,0,0,0,0,0,0,0,0,0,0,0,0,0,0,0.26109660574412535,0,0,0,0,0,0.5434782608695652,0,1.2048192771084338,0,0]]]}}},\"view\":{\"type\":\"object\",\"name\":\"CDSView\",\"id\":\"p1195\",\"attributes\":{\"filter\":{\"type\":\"object\",\"name\":\"AllIndices\",\"id\":\"p1196\"}}},\"glyph\":{\"type\":\"object\",\"name\":\"HBar\",\"id\":\"p1191\",\"attributes\":{\"y\":{\"type\":\"field\",\"field\":\"term\"},\"left\":{\"type\":\"expr\",\"expr\":{\"type\":\"object\",\"name\":\"Stack\",\"id\":\"p1055\",\"attributes\":{\"fields\":[\"GOV\",\"SER\",\"LFI\",\"GDR\",\"ECO\",\"NI\",\"UDI\",\"REN\",\"MODEM\",\"LIOT\"]}}},\"right\":{\"type\":\"expr\",\"expr\":{\"type\":\"object\",\"name\":\"Stack\",\"id\":\"p1056\",\"attributes\":{\"fields\":[\"GOV\",\"SER\",\"LFI\",\"GDR\",\"ECO\",\"NI\",\"UDI\",\"REN\",\"MODEM\",\"LIOT\",\"RN\"]}}},\"line_color\":{\"type\":\"value\",\"value\":\"#444\"},\"line_width\":{\"type\":\"value\",\"value\":0.9},\"fill_color\":{\"type\":\"value\",\"value\":\"#2c3e50\"},\"hatch_color\":{\"type\":\"value\",\"value\":\"#2c3e50\"}}},\"nonselection_glyph\":{\"type\":\"object\",\"name\":\"HBar\",\"id\":\"p1192\",\"attributes\":{\"y\":{\"type\":\"field\",\"field\":\"term\"},\"left\":{\"type\":\"expr\",\"expr\":{\"id\":\"p1055\"}},\"right\":{\"type\":\"expr\",\"expr\":{\"id\":\"p1056\"}},\"line_color\":{\"type\":\"value\",\"value\":\"#444\"},\"line_alpha\":{\"type\":\"value\",\"value\":0.1},\"line_width\":{\"type\":\"value\",\"value\":0.9},\"fill_color\":{\"type\":\"value\",\"value\":\"#2c3e50\"},\"fill_alpha\":{\"type\":\"value\",\"value\":0.1},\"hatch_color\":{\"type\":\"value\",\"value\":\"#2c3e50\"},\"hatch_alpha\":{\"type\":\"value\",\"value\":0.1}}},\"muted_glyph\":{\"type\":\"object\",\"name\":\"HBar\",\"id\":\"p1193\",\"attributes\":{\"y\":{\"type\":\"field\",\"field\":\"term\"},\"left\":{\"type\":\"expr\",\"expr\":{\"id\":\"p1055\"}},\"right\":{\"type\":\"expr\",\"expr\":{\"id\":\"p1056\"}},\"line_color\":{\"type\":\"value\",\"value\":\"#444\"},\"line_alpha\":{\"type\":\"value\",\"value\":0.2},\"line_width\":{\"type\":\"value\",\"value\":0.9},\"fill_color\":{\"type\":\"value\",\"value\":\"#2c3e50\"},\"fill_alpha\":{\"type\":\"value\",\"value\":0.2},\"hatch_color\":{\"type\":\"value\",\"value\":\"#2c3e50\"},\"hatch_alpha\":{\"type\":\"value\",\"value\":0.2}}}}},{\"type\":\"object\",\"name\":\"GlyphRenderer\",\"id\":\"p1206\",\"attributes\":{\"name\":\"LR\",\"data_source\":{\"type\":\"object\",\"name\":\"ColumnDataSource\",\"id\":\"p1197\",\"attributes\":{\"selected\":{\"type\":\"object\",\"name\":\"Selection\",\"id\":\"p1198\",\"attributes\":{\"indices\":[],\"line_indices\":[]}},\"selection_policy\":{\"type\":\"object\",\"name\":\"UnionRenderers\",\"id\":\"p1199\"},\"data\":{\"type\":\"map\",\"entries\":[[\"term\",[\"loi\",\"prime\",\"pouvoir\",\"public\",\"social\",\"majorit\\u00e9\",\"retrait\",\"travail\",\"retraite\",\"mission\",\"France\",\"ratio\",\"entreprise\",\"r\\u00e9gime\",\"gouvernement\",\"senior\",\"\\u00e2ge\",\"vote\",\"fran\\u00e7ais\",\"r\\u00e9forme\",\"financer\",\"\\u00e9tat\",\"femme\",\"priver\",\"d\\u00e9ficit\",\"famille\"]],[\"GOV\",[11.2182296231376,30.670103092783506,14.411027568922306,26.865671641791046,16.863406408094438,32.63888888888889,8.956796628029505,8.278580814717477,7.045454545454545,28.000000000000004,16.257668711656443,12.928759894459102,9.45054945054945,10.023866348448687,13.84083044982699,8.87728459530026,9.580838323353294,12.946428571428573,6.018518518518518,4.421768707482993,11.585365853658537,9.239130434782608,5.217391304347826,13.253012048192772,4.301075268817205,14.285714285714285]],[\"SER\",[1.6652059596844873,1.2886597938144329,1.5037593984962405,1.9900497512437811,1.854974704890388,1.7361111111111112,1.8967334035827188,1.8396846254927726,2.0454545454545454,2.5,1.5337423312883436,2.9023746701846966,1.098901098901099,2.6252983293556085,1.0380622837370241,1.0443864229765014,3.293413173652695,3.125,2.7777777777777777,1.870748299319728,1.2195121951219512,2.717391304347826,2.1739130434782608,2.4096385542168677,1.6129032258064515,0]],[\"LFI\",[25.591586327782643,23.45360824742268,23.182957393483708,23.383084577114428,24.283305227655987,20.48611111111111,31.08535300316122,34.55978975032852,32.27272727272727,11.0,28.22085889570552,25.593667546174142,23.956043956043956,25.53699284009546,26.643598615916954,18.5378590078329,25.748502994011975,23.214285714285715,36.80555555555556,36.394557823129254,35.97560975609756,27.173913043478258,30.869565217391305,32.53012048192771,34.946236559139784,24.489795918367346]],[\"GDR\",[7.011393514460999,4.123711340206185,4.887218045112782,7.213930348258707,8.094435075885329,10.069444444444445,6.111696522655427,8.409986859395532,6.0227272727272725,6.5,6.748466257668712,6.860158311345646,4.835164835164836,9.307875894988067,7.612456747404845,4.699738903394255,4.491017964071856,5.357142857142857,4.62962962962963,8.16326530612245,1.8292682926829267,5.434782608695652,6.956521739130435,9.63855421686747,7.526881720430108,6.122448979591836]],[\"ECO\",[4.732690622261174,3.608247422680412,5.137844611528822,3.482587064676617,5.396290050590219,4.513888888888888,4.847207586933614,5.387647831800263,5.0,4.0,3.374233128834356,5.804749340369393,7.472527472527473,3.1026252983293556,4.498269896193772,5.483028720626632,4.491017964071856,2.232142857142857,7.87037037037037,6.462585034013606,3.6585365853658534,4.3478260869565215,9.565217391304348,4.819277108433735,5.376344086021505,2.0408163265306123]],[\"NI\",[2.4539877300613497,2.5773195876288657,2.0050125313283207,2.736318407960199,1.5177065767284992,1.7361111111111112,2.73972602739726,2.102496714848883,2.840909090909091,2.0,2.7607361963190185,2.638522427440633,2.6373626373626373,2.6252983293556085,3.1141868512110724,2.610966057441253,3.293413173652695,1.7857142857142856,3.009259259259259,3.061224489795918,2.4390243902439024,4.891304347826087,2.1739130434782608,4.819277108433735,5.913978494623656,2.0408163265306123]],[\"UDI\",[3.2427695004382118,1.5463917525773196,3.8847117794486214,4.228855721393035,3.372681281618887,2.083333333333333,3.0558482613277134,2.4967148488830486,3.295454545454545,4.5,3.374233128834356,3.430079155672823,3.7362637362637363,4.05727923627685,2.422145328719723,4.699738903394255,4.491017964071856,4.910714285714286,2.314814814814815,2.380952380952381,2.4390243902439024,5.434782608695652,3.4782608695652173,4.819277108433735,2.6881720430107525,0]],[\"REN\",[15.337423312883436,10.56701030927835,12.155388471177945,6.218905472636816,11.129848229342327,8.680555555555555,12.961011591148578,10.38107752956636,12.15909090909091,14.499999999999998,13.190184049079754,12.401055408970976,18.24175824175824,13.842482100238662,6.920415224913495,18.27676240208877,11.676646706586826,12.5,10.416666666666668,6.802721088435375,14.634146341463413,9.239130434782608,10.434782608695652,7.228915662650602,17.20430107526882,2.0408163265306123]],[\"MODEM\",[4.1191936897458366,3.0927835051546393,5.137844611528822,3.233830845771144,4.5531197301854975,1.7361111111111112,4.004214963119073,3.8107752956636007,4.318181818181818,4.0,2.7607361963190185,5.013192612137203,3.9560439560439558,5.011933174224343,2.0761245674740483,3.3942558746736298,2.694610778443114,4.017857142857143,2.7777777777777777,3.741496598639456,5.487804878048781,4.891304347826087,2.1739130434782608,3.614457831325301,3.763440860215054,6.122448979591836]],[\"LIOT\",[1.5775635407537247,0.25773195876288657,0.8771929824561403,0.9950248756218906,1.854974704890388,1.0416666666666665,1.2644889357218125,1.445466491458607,1.3636363636363635,0,0.3067484662576687,1.0554089709762533,1.5384615384615385,0.47732696897374705,1.384083044982699,3.1331592689295036,2.3952095808383236,1.7857142857142856,0.23148148148148145,1.3605442176870748,1.2195121951219512,1.0869565217391304,1.3043478260869565,3.614457831325301,2.1505376344086025,2.0408163265306123]],[\"RN\",[5.083260297984225,4.123711340206185,7.268170426065162,4.72636815920398,5.733558178752108,6.597222222222222,6.42781875658588,6.83311432325887,6.8181818181818175,5.5,8.588957055214724,3.95778364116095,6.153846153846154,5.250596658711217,11.072664359861593,5.7441253263707575,8.08383233532934,12.946428571428573,10.87962962962963,9.523809523809524,3.6585365853658534,8.152173913043478,6.086956521739131,6.024096385542169,3.225806451612903,6.122448979591836]],[\"LR\",[11.130587204206837,6.958762886597938,12.280701754385964,8.706467661691542,8.768971332209107,4.513888888888888,9.905163329820864,9.461235216819974,10.0,11.0,7.975460122699387,11.609498680738787,12.527472527472527,10.501193317422434,9.688581314878892,16.187989556135772,12.874251497005988,9.821428571428571,6.25,7.8231292517006805,9.146341463414634,9.239130434782608,12.608695652173912,3.614457831325301,4.838709677419355,28.57142857142857]],[\"SOC\",[6.397896581945661,7.216494845360824,6.7669172932330826,6.218905472636816,6.408094435075886,4.166666666666666,6.533192834562697,4.862023653088042,6.59090909090909,5.5,4.294478527607362,5.804749340369393,4.175824175824175,7.637231503579953,9.688581314878892,6.527415143603134,6.58682634730539,4.464285714285714,5.787037037037037,7.653061224489796,5.487804878048781,7.608695652173914,6.086956521739131,2.4096385542168677,6.451612903225806,2.0408163265306123]],[\"HOR\",[0.43821209465381245,0.5154639175257731,0.5012531328320802,0,0.16863406408094433,0,0.21074815595363539,0.1314060446780552,0.22727272727272727,1.0,0.6134969325153374,0,0.21978021978021978,0,0,0.5221932114882507,0.29940119760479045,0.8928571428571428,0.23148148148148145,0.3401360544217687,1.2195121951219512,0,0.8695652173913043,0,0,4.081632653061225]],[\"RRDP\",[0,0,0,0,0,0,0,0,0,0,0,0,0,0,0,0.26109660574412535,0,0,0,0,0,0.5434782608695652,0,1.2048192771084338,0,0]]]}}},\"view\":{\"type\":\"object\",\"name\":\"CDSView\",\"id\":\"p1207\",\"attributes\":{\"filter\":{\"type\":\"object\",\"name\":\"AllIndices\",\"id\":\"p1208\"}}},\"glyph\":{\"type\":\"object\",\"name\":\"HBar\",\"id\":\"p1203\",\"attributes\":{\"y\":{\"type\":\"field\",\"field\":\"term\"},\"left\":{\"type\":\"expr\",\"expr\":{\"type\":\"object\",\"name\":\"Stack\",\"id\":\"p1057\",\"attributes\":{\"fields\":[\"GOV\",\"SER\",\"LFI\",\"GDR\",\"ECO\",\"NI\",\"UDI\",\"REN\",\"MODEM\",\"LIOT\",\"RN\"]}}},\"right\":{\"type\":\"expr\",\"expr\":{\"type\":\"object\",\"name\":\"Stack\",\"id\":\"p1058\",\"attributes\":{\"fields\":[\"GOV\",\"SER\",\"LFI\",\"GDR\",\"ECO\",\"NI\",\"UDI\",\"REN\",\"MODEM\",\"LIOT\",\"RN\",\"LR\"]}}},\"line_color\":{\"type\":\"value\",\"value\":\"#444\"},\"line_width\":{\"type\":\"value\",\"value\":0.9},\"fill_color\":{\"type\":\"value\",\"value\":\"#2980b9\"},\"hatch_color\":{\"type\":\"value\",\"value\":\"#2980b9\"}}},\"nonselection_glyph\":{\"type\":\"object\",\"name\":\"HBar\",\"id\":\"p1204\",\"attributes\":{\"y\":{\"type\":\"field\",\"field\":\"term\"},\"left\":{\"type\":\"expr\",\"expr\":{\"id\":\"p1057\"}},\"right\":{\"type\":\"expr\",\"expr\":{\"id\":\"p1058\"}},\"line_color\":{\"type\":\"value\",\"value\":\"#444\"},\"line_alpha\":{\"type\":\"value\",\"value\":0.1},\"line_width\":{\"type\":\"value\",\"value\":0.9},\"fill_color\":{\"type\":\"value\",\"value\":\"#2980b9\"},\"fill_alpha\":{\"type\":\"value\",\"value\":0.1},\"hatch_color\":{\"type\":\"value\",\"value\":\"#2980b9\"},\"hatch_alpha\":{\"type\":\"value\",\"value\":0.1}}},\"muted_glyph\":{\"type\":\"object\",\"name\":\"HBar\",\"id\":\"p1205\",\"attributes\":{\"y\":{\"type\":\"field\",\"field\":\"term\"},\"left\":{\"type\":\"expr\",\"expr\":{\"id\":\"p1057\"}},\"right\":{\"type\":\"expr\",\"expr\":{\"id\":\"p1058\"}},\"line_color\":{\"type\":\"value\",\"value\":\"#444\"},\"line_alpha\":{\"type\":\"value\",\"value\":0.2},\"line_width\":{\"type\":\"value\",\"value\":0.9},\"fill_color\":{\"type\":\"value\",\"value\":\"#2980b9\"},\"fill_alpha\":{\"type\":\"value\",\"value\":0.2},\"hatch_color\":{\"type\":\"value\",\"value\":\"#2980b9\"},\"hatch_alpha\":{\"type\":\"value\",\"value\":0.2}}}}},{\"type\":\"object\",\"name\":\"GlyphRenderer\",\"id\":\"p1218\",\"attributes\":{\"name\":\"SOC\",\"data_source\":{\"type\":\"object\",\"name\":\"ColumnDataSource\",\"id\":\"p1209\",\"attributes\":{\"selected\":{\"type\":\"object\",\"name\":\"Selection\",\"id\":\"p1210\",\"attributes\":{\"indices\":[],\"line_indices\":[]}},\"selection_policy\":{\"type\":\"object\",\"name\":\"UnionRenderers\",\"id\":\"p1211\"},\"data\":{\"type\":\"map\",\"entries\":[[\"term\",[\"loi\",\"prime\",\"pouvoir\",\"public\",\"social\",\"majorit\\u00e9\",\"retrait\",\"travail\",\"retraite\",\"mission\",\"France\",\"ratio\",\"entreprise\",\"r\\u00e9gime\",\"gouvernement\",\"senior\",\"\\u00e2ge\",\"vote\",\"fran\\u00e7ais\",\"r\\u00e9forme\",\"financer\",\"\\u00e9tat\",\"femme\",\"priver\",\"d\\u00e9ficit\",\"famille\"]],[\"GOV\",[11.2182296231376,30.670103092783506,14.411027568922306,26.865671641791046,16.863406408094438,32.63888888888889,8.956796628029505,8.278580814717477,7.045454545454545,28.000000000000004,16.257668711656443,12.928759894459102,9.45054945054945,10.023866348448687,13.84083044982699,8.87728459530026,9.580838323353294,12.946428571428573,6.018518518518518,4.421768707482993,11.585365853658537,9.239130434782608,5.217391304347826,13.253012048192772,4.301075268817205,14.285714285714285]],[\"SER\",[1.6652059596844873,1.2886597938144329,1.5037593984962405,1.9900497512437811,1.854974704890388,1.7361111111111112,1.8967334035827188,1.8396846254927726,2.0454545454545454,2.5,1.5337423312883436,2.9023746701846966,1.098901098901099,2.6252983293556085,1.0380622837370241,1.0443864229765014,3.293413173652695,3.125,2.7777777777777777,1.870748299319728,1.2195121951219512,2.717391304347826,2.1739130434782608,2.4096385542168677,1.6129032258064515,0]],[\"LFI\",[25.591586327782643,23.45360824742268,23.182957393483708,23.383084577114428,24.283305227655987,20.48611111111111,31.08535300316122,34.55978975032852,32.27272727272727,11.0,28.22085889570552,25.593667546174142,23.956043956043956,25.53699284009546,26.643598615916954,18.5378590078329,25.748502994011975,23.214285714285715,36.80555555555556,36.394557823129254,35.97560975609756,27.173913043478258,30.869565217391305,32.53012048192771,34.946236559139784,24.489795918367346]],[\"GDR\",[7.011393514460999,4.123711340206185,4.887218045112782,7.213930348258707,8.094435075885329,10.069444444444445,6.111696522655427,8.409986859395532,6.0227272727272725,6.5,6.748466257668712,6.860158311345646,4.835164835164836,9.307875894988067,7.612456747404845,4.699738903394255,4.491017964071856,5.357142857142857,4.62962962962963,8.16326530612245,1.8292682926829267,5.434782608695652,6.956521739130435,9.63855421686747,7.526881720430108,6.122448979591836]],[\"ECO\",[4.732690622261174,3.608247422680412,5.137844611528822,3.482587064676617,5.396290050590219,4.513888888888888,4.847207586933614,5.387647831800263,5.0,4.0,3.374233128834356,5.804749340369393,7.472527472527473,3.1026252983293556,4.498269896193772,5.483028720626632,4.491017964071856,2.232142857142857,7.87037037037037,6.462585034013606,3.6585365853658534,4.3478260869565215,9.565217391304348,4.819277108433735,5.376344086021505,2.0408163265306123]],[\"NI\",[2.4539877300613497,2.5773195876288657,2.0050125313283207,2.736318407960199,1.5177065767284992,1.7361111111111112,2.73972602739726,2.102496714848883,2.840909090909091,2.0,2.7607361963190185,2.638522427440633,2.6373626373626373,2.6252983293556085,3.1141868512110724,2.610966057441253,3.293413173652695,1.7857142857142856,3.009259259259259,3.061224489795918,2.4390243902439024,4.891304347826087,2.1739130434782608,4.819277108433735,5.913978494623656,2.0408163265306123]],[\"UDI\",[3.2427695004382118,1.5463917525773196,3.8847117794486214,4.228855721393035,3.372681281618887,2.083333333333333,3.0558482613277134,2.4967148488830486,3.295454545454545,4.5,3.374233128834356,3.430079155672823,3.7362637362637363,4.05727923627685,2.422145328719723,4.699738903394255,4.491017964071856,4.910714285714286,2.314814814814815,2.380952380952381,2.4390243902439024,5.434782608695652,3.4782608695652173,4.819277108433735,2.6881720430107525,0]],[\"REN\",[15.337423312883436,10.56701030927835,12.155388471177945,6.218905472636816,11.129848229342327,8.680555555555555,12.961011591148578,10.38107752956636,12.15909090909091,14.499999999999998,13.190184049079754,12.401055408970976,18.24175824175824,13.842482100238662,6.920415224913495,18.27676240208877,11.676646706586826,12.5,10.416666666666668,6.802721088435375,14.634146341463413,9.239130434782608,10.434782608695652,7.228915662650602,17.20430107526882,2.0408163265306123]],[\"MODEM\",[4.1191936897458366,3.0927835051546393,5.137844611528822,3.233830845771144,4.5531197301854975,1.7361111111111112,4.004214963119073,3.8107752956636007,4.318181818181818,4.0,2.7607361963190185,5.013192612137203,3.9560439560439558,5.011933174224343,2.0761245674740483,3.3942558746736298,2.694610778443114,4.017857142857143,2.7777777777777777,3.741496598639456,5.487804878048781,4.891304347826087,2.1739130434782608,3.614457831325301,3.763440860215054,6.122448979591836]],[\"LIOT\",[1.5775635407537247,0.25773195876288657,0.8771929824561403,0.9950248756218906,1.854974704890388,1.0416666666666665,1.2644889357218125,1.445466491458607,1.3636363636363635,0,0.3067484662576687,1.0554089709762533,1.5384615384615385,0.47732696897374705,1.384083044982699,3.1331592689295036,2.3952095808383236,1.7857142857142856,0.23148148148148145,1.3605442176870748,1.2195121951219512,1.0869565217391304,1.3043478260869565,3.614457831325301,2.1505376344086025,2.0408163265306123]],[\"RN\",[5.083260297984225,4.123711340206185,7.268170426065162,4.72636815920398,5.733558178752108,6.597222222222222,6.42781875658588,6.83311432325887,6.8181818181818175,5.5,8.588957055214724,3.95778364116095,6.153846153846154,5.250596658711217,11.072664359861593,5.7441253263707575,8.08383233532934,12.946428571428573,10.87962962962963,9.523809523809524,3.6585365853658534,8.152173913043478,6.086956521739131,6.024096385542169,3.225806451612903,6.122448979591836]],[\"LR\",[11.130587204206837,6.958762886597938,12.280701754385964,8.706467661691542,8.768971332209107,4.513888888888888,9.905163329820864,9.461235216819974,10.0,11.0,7.975460122699387,11.609498680738787,12.527472527472527,10.501193317422434,9.688581314878892,16.187989556135772,12.874251497005988,9.821428571428571,6.25,7.8231292517006805,9.146341463414634,9.239130434782608,12.608695652173912,3.614457831325301,4.838709677419355,28.57142857142857]],[\"SOC\",[6.397896581945661,7.216494845360824,6.7669172932330826,6.218905472636816,6.408094435075886,4.166666666666666,6.533192834562697,4.862023653088042,6.59090909090909,5.5,4.294478527607362,5.804749340369393,4.175824175824175,7.637231503579953,9.688581314878892,6.527415143603134,6.58682634730539,4.464285714285714,5.787037037037037,7.653061224489796,5.487804878048781,7.608695652173914,6.086956521739131,2.4096385542168677,6.451612903225806,2.0408163265306123]],[\"HOR\",[0.43821209465381245,0.5154639175257731,0.5012531328320802,0,0.16863406408094433,0,0.21074815595363539,0.1314060446780552,0.22727272727272727,1.0,0.6134969325153374,0,0.21978021978021978,0,0,0.5221932114882507,0.29940119760479045,0.8928571428571428,0.23148148148148145,0.3401360544217687,1.2195121951219512,0,0.8695652173913043,0,0,4.081632653061225]],[\"RRDP\",[0,0,0,0,0,0,0,0,0,0,0,0,0,0,0,0.26109660574412535,0,0,0,0,0,0.5434782608695652,0,1.2048192771084338,0,0]]]}}},\"view\":{\"type\":\"object\",\"name\":\"CDSView\",\"id\":\"p1219\",\"attributes\":{\"filter\":{\"type\":\"object\",\"name\":\"AllIndices\",\"id\":\"p1220\"}}},\"glyph\":{\"type\":\"object\",\"name\":\"HBar\",\"id\":\"p1215\",\"attributes\":{\"y\":{\"type\":\"field\",\"field\":\"term\"},\"left\":{\"type\":\"expr\",\"expr\":{\"type\":\"object\",\"name\":\"Stack\",\"id\":\"p1059\",\"attributes\":{\"fields\":[\"GOV\",\"SER\",\"LFI\",\"GDR\",\"ECO\",\"NI\",\"UDI\",\"REN\",\"MODEM\",\"LIOT\",\"RN\",\"LR\"]}}},\"right\":{\"type\":\"expr\",\"expr\":{\"type\":\"object\",\"name\":\"Stack\",\"id\":\"p1060\",\"attributes\":{\"fields\":[\"GOV\",\"SER\",\"LFI\",\"GDR\",\"ECO\",\"NI\",\"UDI\",\"REN\",\"MODEM\",\"LIOT\",\"RN\",\"LR\",\"SOC\"]}}},\"line_color\":{\"type\":\"value\",\"value\":\"#444\"},\"line_width\":{\"type\":\"value\",\"value\":0.9},\"fill_color\":{\"type\":\"value\",\"value\":\"#ED4C67\"},\"hatch_color\":{\"type\":\"value\",\"value\":\"#ED4C67\"}}},\"nonselection_glyph\":{\"type\":\"object\",\"name\":\"HBar\",\"id\":\"p1216\",\"attributes\":{\"y\":{\"type\":\"field\",\"field\":\"term\"},\"left\":{\"type\":\"expr\",\"expr\":{\"id\":\"p1059\"}},\"right\":{\"type\":\"expr\",\"expr\":{\"id\":\"p1060\"}},\"line_color\":{\"type\":\"value\",\"value\":\"#444\"},\"line_alpha\":{\"type\":\"value\",\"value\":0.1},\"line_width\":{\"type\":\"value\",\"value\":0.9},\"fill_color\":{\"type\":\"value\",\"value\":\"#ED4C67\"},\"fill_alpha\":{\"type\":\"value\",\"value\":0.1},\"hatch_color\":{\"type\":\"value\",\"value\":\"#ED4C67\"},\"hatch_alpha\":{\"type\":\"value\",\"value\":0.1}}},\"muted_glyph\":{\"type\":\"object\",\"name\":\"HBar\",\"id\":\"p1217\",\"attributes\":{\"y\":{\"type\":\"field\",\"field\":\"term\"},\"left\":{\"type\":\"expr\",\"expr\":{\"id\":\"p1059\"}},\"right\":{\"type\":\"expr\",\"expr\":{\"id\":\"p1060\"}},\"line_color\":{\"type\":\"value\",\"value\":\"#444\"},\"line_alpha\":{\"type\":\"value\",\"value\":0.2},\"line_width\":{\"type\":\"value\",\"value\":0.9},\"fill_color\":{\"type\":\"value\",\"value\":\"#ED4C67\"},\"fill_alpha\":{\"type\":\"value\",\"value\":0.2},\"hatch_color\":{\"type\":\"value\",\"value\":\"#ED4C67\"},\"hatch_alpha\":{\"type\":\"value\",\"value\":0.2}}}}},{\"type\":\"object\",\"name\":\"GlyphRenderer\",\"id\":\"p1230\",\"attributes\":{\"name\":\"HOR\",\"data_source\":{\"type\":\"object\",\"name\":\"ColumnDataSource\",\"id\":\"p1221\",\"attributes\":{\"selected\":{\"type\":\"object\",\"name\":\"Selection\",\"id\":\"p1222\",\"attributes\":{\"indices\":[],\"line_indices\":[]}},\"selection_policy\":{\"type\":\"object\",\"name\":\"UnionRenderers\",\"id\":\"p1223\"},\"data\":{\"type\":\"map\",\"entries\":[[\"term\",[\"loi\",\"prime\",\"pouvoir\",\"public\",\"social\",\"majorit\\u00e9\",\"retrait\",\"travail\",\"retraite\",\"mission\",\"France\",\"ratio\",\"entreprise\",\"r\\u00e9gime\",\"gouvernement\",\"senior\",\"\\u00e2ge\",\"vote\",\"fran\\u00e7ais\",\"r\\u00e9forme\",\"financer\",\"\\u00e9tat\",\"femme\",\"priver\",\"d\\u00e9ficit\",\"famille\"]],[\"GOV\",[11.2182296231376,30.670103092783506,14.411027568922306,26.865671641791046,16.863406408094438,32.63888888888889,8.956796628029505,8.278580814717477,7.045454545454545,28.000000000000004,16.257668711656443,12.928759894459102,9.45054945054945,10.023866348448687,13.84083044982699,8.87728459530026,9.580838323353294,12.946428571428573,6.018518518518518,4.421768707482993,11.585365853658537,9.239130434782608,5.217391304347826,13.253012048192772,4.301075268817205,14.285714285714285]],[\"SER\",[1.6652059596844873,1.2886597938144329,1.5037593984962405,1.9900497512437811,1.854974704890388,1.7361111111111112,1.8967334035827188,1.8396846254927726,2.0454545454545454,2.5,1.5337423312883436,2.9023746701846966,1.098901098901099,2.6252983293556085,1.0380622837370241,1.0443864229765014,3.293413173652695,3.125,2.7777777777777777,1.870748299319728,1.2195121951219512,2.717391304347826,2.1739130434782608,2.4096385542168677,1.6129032258064515,0]],[\"LFI\",[25.591586327782643,23.45360824742268,23.182957393483708,23.383084577114428,24.283305227655987,20.48611111111111,31.08535300316122,34.55978975032852,32.27272727272727,11.0,28.22085889570552,25.593667546174142,23.956043956043956,25.53699284009546,26.643598615916954,18.5378590078329,25.748502994011975,23.214285714285715,36.80555555555556,36.394557823129254,35.97560975609756,27.173913043478258,30.869565217391305,32.53012048192771,34.946236559139784,24.489795918367346]],[\"GDR\",[7.011393514460999,4.123711340206185,4.887218045112782,7.213930348258707,8.094435075885329,10.069444444444445,6.111696522655427,8.409986859395532,6.0227272727272725,6.5,6.748466257668712,6.860158311345646,4.835164835164836,9.307875894988067,7.612456747404845,4.699738903394255,4.491017964071856,5.357142857142857,4.62962962962963,8.16326530612245,1.8292682926829267,5.434782608695652,6.956521739130435,9.63855421686747,7.526881720430108,6.122448979591836]],[\"ECO\",[4.732690622261174,3.608247422680412,5.137844611528822,3.482587064676617,5.396290050590219,4.513888888888888,4.847207586933614,5.387647831800263,5.0,4.0,3.374233128834356,5.804749340369393,7.472527472527473,3.1026252983293556,4.498269896193772,5.483028720626632,4.491017964071856,2.232142857142857,7.87037037037037,6.462585034013606,3.6585365853658534,4.3478260869565215,9.565217391304348,4.819277108433735,5.376344086021505,2.0408163265306123]],[\"NI\",[2.4539877300613497,2.5773195876288657,2.0050125313283207,2.736318407960199,1.5177065767284992,1.7361111111111112,2.73972602739726,2.102496714848883,2.840909090909091,2.0,2.7607361963190185,2.638522427440633,2.6373626373626373,2.6252983293556085,3.1141868512110724,2.610966057441253,3.293413173652695,1.7857142857142856,3.009259259259259,3.061224489795918,2.4390243902439024,4.891304347826087,2.1739130434782608,4.819277108433735,5.913978494623656,2.0408163265306123]],[\"UDI\",[3.2427695004382118,1.5463917525773196,3.8847117794486214,4.228855721393035,3.372681281618887,2.083333333333333,3.0558482613277134,2.4967148488830486,3.295454545454545,4.5,3.374233128834356,3.430079155672823,3.7362637362637363,4.05727923627685,2.422145328719723,4.699738903394255,4.491017964071856,4.910714285714286,2.314814814814815,2.380952380952381,2.4390243902439024,5.434782608695652,3.4782608695652173,4.819277108433735,2.6881720430107525,0]],[\"REN\",[15.337423312883436,10.56701030927835,12.155388471177945,6.218905472636816,11.129848229342327,8.680555555555555,12.961011591148578,10.38107752956636,12.15909090909091,14.499999999999998,13.190184049079754,12.401055408970976,18.24175824175824,13.842482100238662,6.920415224913495,18.27676240208877,11.676646706586826,12.5,10.416666666666668,6.802721088435375,14.634146341463413,9.239130434782608,10.434782608695652,7.228915662650602,17.20430107526882,2.0408163265306123]],[\"MODEM\",[4.1191936897458366,3.0927835051546393,5.137844611528822,3.233830845771144,4.5531197301854975,1.7361111111111112,4.004214963119073,3.8107752956636007,4.318181818181818,4.0,2.7607361963190185,5.013192612137203,3.9560439560439558,5.011933174224343,2.0761245674740483,3.3942558746736298,2.694610778443114,4.017857142857143,2.7777777777777777,3.741496598639456,5.487804878048781,4.891304347826087,2.1739130434782608,3.614457831325301,3.763440860215054,6.122448979591836]],[\"LIOT\",[1.5775635407537247,0.25773195876288657,0.8771929824561403,0.9950248756218906,1.854974704890388,1.0416666666666665,1.2644889357218125,1.445466491458607,1.3636363636363635,0,0.3067484662576687,1.0554089709762533,1.5384615384615385,0.47732696897374705,1.384083044982699,3.1331592689295036,2.3952095808383236,1.7857142857142856,0.23148148148148145,1.3605442176870748,1.2195121951219512,1.0869565217391304,1.3043478260869565,3.614457831325301,2.1505376344086025,2.0408163265306123]],[\"RN\",[5.083260297984225,4.123711340206185,7.268170426065162,4.72636815920398,5.733558178752108,6.597222222222222,6.42781875658588,6.83311432325887,6.8181818181818175,5.5,8.588957055214724,3.95778364116095,6.153846153846154,5.250596658711217,11.072664359861593,5.7441253263707575,8.08383233532934,12.946428571428573,10.87962962962963,9.523809523809524,3.6585365853658534,8.152173913043478,6.086956521739131,6.024096385542169,3.225806451612903,6.122448979591836]],[\"LR\",[11.130587204206837,6.958762886597938,12.280701754385964,8.706467661691542,8.768971332209107,4.513888888888888,9.905163329820864,9.461235216819974,10.0,11.0,7.975460122699387,11.609498680738787,12.527472527472527,10.501193317422434,9.688581314878892,16.187989556135772,12.874251497005988,9.821428571428571,6.25,7.8231292517006805,9.146341463414634,9.239130434782608,12.608695652173912,3.614457831325301,4.838709677419355,28.57142857142857]],[\"SOC\",[6.397896581945661,7.216494845360824,6.7669172932330826,6.218905472636816,6.408094435075886,4.166666666666666,6.533192834562697,4.862023653088042,6.59090909090909,5.5,4.294478527607362,5.804749340369393,4.175824175824175,7.637231503579953,9.688581314878892,6.527415143603134,6.58682634730539,4.464285714285714,5.787037037037037,7.653061224489796,5.487804878048781,7.608695652173914,6.086956521739131,2.4096385542168677,6.451612903225806,2.0408163265306123]],[\"HOR\",[0.43821209465381245,0.5154639175257731,0.5012531328320802,0,0.16863406408094433,0,0.21074815595363539,0.1314060446780552,0.22727272727272727,1.0,0.6134969325153374,0,0.21978021978021978,0,0,0.5221932114882507,0.29940119760479045,0.8928571428571428,0.23148148148148145,0.3401360544217687,1.2195121951219512,0,0.8695652173913043,0,0,4.081632653061225]],[\"RRDP\",[0,0,0,0,0,0,0,0,0,0,0,0,0,0,0,0.26109660574412535,0,0,0,0,0,0.5434782608695652,0,1.2048192771084338,0,0]]]}}},\"view\":{\"type\":\"object\",\"name\":\"CDSView\",\"id\":\"p1231\",\"attributes\":{\"filter\":{\"type\":\"object\",\"name\":\"AllIndices\",\"id\":\"p1232\"}}},\"glyph\":{\"type\":\"object\",\"name\":\"HBar\",\"id\":\"p1227\",\"attributes\":{\"y\":{\"type\":\"field\",\"field\":\"term\"},\"left\":{\"type\":\"expr\",\"expr\":{\"type\":\"object\",\"name\":\"Stack\",\"id\":\"p1061\",\"attributes\":{\"fields\":[\"GOV\",\"SER\",\"LFI\",\"GDR\",\"ECO\",\"NI\",\"UDI\",\"REN\",\"MODEM\",\"LIOT\",\"RN\",\"LR\",\"SOC\"]}}},\"right\":{\"type\":\"expr\",\"expr\":{\"type\":\"object\",\"name\":\"Stack\",\"id\":\"p1062\",\"attributes\":{\"fields\":[\"GOV\",\"SER\",\"LFI\",\"GDR\",\"ECO\",\"NI\",\"UDI\",\"REN\",\"MODEM\",\"LIOT\",\"RN\",\"LR\",\"SOC\",\"HOR\"]}}},\"line_color\":{\"type\":\"value\",\"value\":\"#444\"},\"line_width\":{\"type\":\"value\",\"value\":0.9},\"fill_color\":{\"type\":\"value\",\"value\":\"#1B1464\"},\"hatch_color\":{\"type\":\"value\",\"value\":\"#1B1464\"}}},\"nonselection_glyph\":{\"type\":\"object\",\"name\":\"HBar\",\"id\":\"p1228\",\"attributes\":{\"y\":{\"type\":\"field\",\"field\":\"term\"},\"left\":{\"type\":\"expr\",\"expr\":{\"id\":\"p1061\"}},\"right\":{\"type\":\"expr\",\"expr\":{\"id\":\"p1062\"}},\"line_color\":{\"type\":\"value\",\"value\":\"#444\"},\"line_alpha\":{\"type\":\"value\",\"value\":0.1},\"line_width\":{\"type\":\"value\",\"value\":0.9},\"fill_color\":{\"type\":\"value\",\"value\":\"#1B1464\"},\"fill_alpha\":{\"type\":\"value\",\"value\":0.1},\"hatch_color\":{\"type\":\"value\",\"value\":\"#1B1464\"},\"hatch_alpha\":{\"type\":\"value\",\"value\":0.1}}},\"muted_glyph\":{\"type\":\"object\",\"name\":\"HBar\",\"id\":\"p1229\",\"attributes\":{\"y\":{\"type\":\"field\",\"field\":\"term\"},\"left\":{\"type\":\"expr\",\"expr\":{\"id\":\"p1061\"}},\"right\":{\"type\":\"expr\",\"expr\":{\"id\":\"p1062\"}},\"line_color\":{\"type\":\"value\",\"value\":\"#444\"},\"line_alpha\":{\"type\":\"value\",\"value\":0.2},\"line_width\":{\"type\":\"value\",\"value\":0.9},\"fill_color\":{\"type\":\"value\",\"value\":\"#1B1464\"},\"fill_alpha\":{\"type\":\"value\",\"value\":0.2},\"hatch_color\":{\"type\":\"value\",\"value\":\"#1B1464\"},\"hatch_alpha\":{\"type\":\"value\",\"value\":0.2}}}}},{\"type\":\"object\",\"name\":\"GlyphRenderer\",\"id\":\"p1242\",\"attributes\":{\"name\":\"RRDP\",\"data_source\":{\"type\":\"object\",\"name\":\"ColumnDataSource\",\"id\":\"p1233\",\"attributes\":{\"selected\":{\"type\":\"object\",\"name\":\"Selection\",\"id\":\"p1234\",\"attributes\":{\"indices\":[],\"line_indices\":[]}},\"selection_policy\":{\"type\":\"object\",\"name\":\"UnionRenderers\",\"id\":\"p1235\"},\"data\":{\"type\":\"map\",\"entries\":[[\"term\",[\"loi\",\"prime\",\"pouvoir\",\"public\",\"social\",\"majorit\\u00e9\",\"retrait\",\"travail\",\"retraite\",\"mission\",\"France\",\"ratio\",\"entreprise\",\"r\\u00e9gime\",\"gouvernement\",\"senior\",\"\\u00e2ge\",\"vote\",\"fran\\u00e7ais\",\"r\\u00e9forme\",\"financer\",\"\\u00e9tat\",\"femme\",\"priver\",\"d\\u00e9ficit\",\"famille\"]],[\"GOV\",[11.2182296231376,30.670103092783506,14.411027568922306,26.865671641791046,16.863406408094438,32.63888888888889,8.956796628029505,8.278580814717477,7.045454545454545,28.000000000000004,16.257668711656443,12.928759894459102,9.45054945054945,10.023866348448687,13.84083044982699,8.87728459530026,9.580838323353294,12.946428571428573,6.018518518518518,4.421768707482993,11.585365853658537,9.239130434782608,5.217391304347826,13.253012048192772,4.301075268817205,14.285714285714285]],[\"SER\",[1.6652059596844873,1.2886597938144329,1.5037593984962405,1.9900497512437811,1.854974704890388,1.7361111111111112,1.8967334035827188,1.8396846254927726,2.0454545454545454,2.5,1.5337423312883436,2.9023746701846966,1.098901098901099,2.6252983293556085,1.0380622837370241,1.0443864229765014,3.293413173652695,3.125,2.7777777777777777,1.870748299319728,1.2195121951219512,2.717391304347826,2.1739130434782608,2.4096385542168677,1.6129032258064515,0]],[\"LFI\",[25.591586327782643,23.45360824742268,23.182957393483708,23.383084577114428,24.283305227655987,20.48611111111111,31.08535300316122,34.55978975032852,32.27272727272727,11.0,28.22085889570552,25.593667546174142,23.956043956043956,25.53699284009546,26.643598615916954,18.5378590078329,25.748502994011975,23.214285714285715,36.80555555555556,36.394557823129254,35.97560975609756,27.173913043478258,30.869565217391305,32.53012048192771,34.946236559139784,24.489795918367346]],[\"GDR\",[7.011393514460999,4.123711340206185,4.887218045112782,7.213930348258707,8.094435075885329,10.069444444444445,6.111696522655427,8.409986859395532,6.0227272727272725,6.5,6.748466257668712,6.860158311345646,4.835164835164836,9.307875894988067,7.612456747404845,4.699738903394255,4.491017964071856,5.357142857142857,4.62962962962963,8.16326530612245,1.8292682926829267,5.434782608695652,6.956521739130435,9.63855421686747,7.526881720430108,6.122448979591836]],[\"ECO\",[4.732690622261174,3.608247422680412,5.137844611528822,3.482587064676617,5.396290050590219,4.513888888888888,4.847207586933614,5.387647831800263,5.0,4.0,3.374233128834356,5.804749340369393,7.472527472527473,3.1026252983293556,4.498269896193772,5.483028720626632,4.491017964071856,2.232142857142857,7.87037037037037,6.462585034013606,3.6585365853658534,4.3478260869565215,9.565217391304348,4.819277108433735,5.376344086021505,2.0408163265306123]],[\"NI\",[2.4539877300613497,2.5773195876288657,2.0050125313283207,2.736318407960199,1.5177065767284992,1.7361111111111112,2.73972602739726,2.102496714848883,2.840909090909091,2.0,2.7607361963190185,2.638522427440633,2.6373626373626373,2.6252983293556085,3.1141868512110724,2.610966057441253,3.293413173652695,1.7857142857142856,3.009259259259259,3.061224489795918,2.4390243902439024,4.891304347826087,2.1739130434782608,4.819277108433735,5.913978494623656,2.0408163265306123]],[\"UDI\",[3.2427695004382118,1.5463917525773196,3.8847117794486214,4.228855721393035,3.372681281618887,2.083333333333333,3.0558482613277134,2.4967148488830486,3.295454545454545,4.5,3.374233128834356,3.430079155672823,3.7362637362637363,4.05727923627685,2.422145328719723,4.699738903394255,4.491017964071856,4.910714285714286,2.314814814814815,2.380952380952381,2.4390243902439024,5.434782608695652,3.4782608695652173,4.819277108433735,2.6881720430107525,0]],[\"REN\",[15.337423312883436,10.56701030927835,12.155388471177945,6.218905472636816,11.129848229342327,8.680555555555555,12.961011591148578,10.38107752956636,12.15909090909091,14.499999999999998,13.190184049079754,12.401055408970976,18.24175824175824,13.842482100238662,6.920415224913495,18.27676240208877,11.676646706586826,12.5,10.416666666666668,6.802721088435375,14.634146341463413,9.239130434782608,10.434782608695652,7.228915662650602,17.20430107526882,2.0408163265306123]],[\"MODEM\",[4.1191936897458366,3.0927835051546393,5.137844611528822,3.233830845771144,4.5531197301854975,1.7361111111111112,4.004214963119073,3.8107752956636007,4.318181818181818,4.0,2.7607361963190185,5.013192612137203,3.9560439560439558,5.011933174224343,2.0761245674740483,3.3942558746736298,2.694610778443114,4.017857142857143,2.7777777777777777,3.741496598639456,5.487804878048781,4.891304347826087,2.1739130434782608,3.614457831325301,3.763440860215054,6.122448979591836]],[\"LIOT\",[1.5775635407537247,0.25773195876288657,0.8771929824561403,0.9950248756218906,1.854974704890388,1.0416666666666665,1.2644889357218125,1.445466491458607,1.3636363636363635,0,0.3067484662576687,1.0554089709762533,1.5384615384615385,0.47732696897374705,1.384083044982699,3.1331592689295036,2.3952095808383236,1.7857142857142856,0.23148148148148145,1.3605442176870748,1.2195121951219512,1.0869565217391304,1.3043478260869565,3.614457831325301,2.1505376344086025,2.0408163265306123]],[\"RN\",[5.083260297984225,4.123711340206185,7.268170426065162,4.72636815920398,5.733558178752108,6.597222222222222,6.42781875658588,6.83311432325887,6.8181818181818175,5.5,8.588957055214724,3.95778364116095,6.153846153846154,5.250596658711217,11.072664359861593,5.7441253263707575,8.08383233532934,12.946428571428573,10.87962962962963,9.523809523809524,3.6585365853658534,8.152173913043478,6.086956521739131,6.024096385542169,3.225806451612903,6.122448979591836]],[\"LR\",[11.130587204206837,6.958762886597938,12.280701754385964,8.706467661691542,8.768971332209107,4.513888888888888,9.905163329820864,9.461235216819974,10.0,11.0,7.975460122699387,11.609498680738787,12.527472527472527,10.501193317422434,9.688581314878892,16.187989556135772,12.874251497005988,9.821428571428571,6.25,7.8231292517006805,9.146341463414634,9.239130434782608,12.608695652173912,3.614457831325301,4.838709677419355,28.57142857142857]],[\"SOC\",[6.397896581945661,7.216494845360824,6.7669172932330826,6.218905472636816,6.408094435075886,4.166666666666666,6.533192834562697,4.862023653088042,6.59090909090909,5.5,4.294478527607362,5.804749340369393,4.175824175824175,7.637231503579953,9.688581314878892,6.527415143603134,6.58682634730539,4.464285714285714,5.787037037037037,7.653061224489796,5.487804878048781,7.608695652173914,6.086956521739131,2.4096385542168677,6.451612903225806,2.0408163265306123]],[\"HOR\",[0.43821209465381245,0.5154639175257731,0.5012531328320802,0,0.16863406408094433,0,0.21074815595363539,0.1314060446780552,0.22727272727272727,1.0,0.6134969325153374,0,0.21978021978021978,0,0,0.5221932114882507,0.29940119760479045,0.8928571428571428,0.23148148148148145,0.3401360544217687,1.2195121951219512,0,0.8695652173913043,0,0,4.081632653061225]],[\"RRDP\",[0,0,0,0,0,0,0,0,0,0,0,0,0,0,0,0.26109660574412535,0,0,0,0,0,0.5434782608695652,0,1.2048192771084338,0,0]]]}}},\"view\":{\"type\":\"object\",\"name\":\"CDSView\",\"id\":\"p1243\",\"attributes\":{\"filter\":{\"type\":\"object\",\"name\":\"AllIndices\",\"id\":\"p1244\"}}},\"glyph\":{\"type\":\"object\",\"name\":\"HBar\",\"id\":\"p1239\",\"attributes\":{\"y\":{\"type\":\"field\",\"field\":\"term\"},\"left\":{\"type\":\"expr\",\"expr\":{\"type\":\"object\",\"name\":\"Stack\",\"id\":\"p1063\",\"attributes\":{\"fields\":[\"GOV\",\"SER\",\"LFI\",\"GDR\",\"ECO\",\"NI\",\"UDI\",\"REN\",\"MODEM\",\"LIOT\",\"RN\",\"LR\",\"SOC\",\"HOR\"]}}},\"right\":{\"type\":\"expr\",\"expr\":{\"type\":\"object\",\"name\":\"Stack\",\"id\":\"p1064\",\"attributes\":{\"fields\":[\"GOV\",\"SER\",\"LFI\",\"GDR\",\"ECO\",\"NI\",\"UDI\",\"REN\",\"MODEM\",\"LIOT\",\"RN\",\"LR\",\"SOC\",\"HOR\",\"RRDP\"]}}},\"line_color\":{\"type\":\"value\",\"value\":\"#444\"},\"line_width\":{\"type\":\"value\",\"value\":0.9},\"fill_color\":{\"type\":\"value\",\"value\":\"#FFC312\"},\"hatch_color\":{\"type\":\"value\",\"value\":\"#FFC312\"}}},\"nonselection_glyph\":{\"type\":\"object\",\"name\":\"HBar\",\"id\":\"p1240\",\"attributes\":{\"y\":{\"type\":\"field\",\"field\":\"term\"},\"left\":{\"type\":\"expr\",\"expr\":{\"id\":\"p1063\"}},\"right\":{\"type\":\"expr\",\"expr\":{\"id\":\"p1064\"}},\"line_color\":{\"type\":\"value\",\"value\":\"#444\"},\"line_alpha\":{\"type\":\"value\",\"value\":0.1},\"line_width\":{\"type\":\"value\",\"value\":0.9},\"fill_color\":{\"type\":\"value\",\"value\":\"#FFC312\"},\"fill_alpha\":{\"type\":\"value\",\"value\":0.1},\"hatch_color\":{\"type\":\"value\",\"value\":\"#FFC312\"},\"hatch_alpha\":{\"type\":\"value\",\"value\":0.1}}},\"muted_glyph\":{\"type\":\"object\",\"name\":\"HBar\",\"id\":\"p1241\",\"attributes\":{\"y\":{\"type\":\"field\",\"field\":\"term\"},\"left\":{\"type\":\"expr\",\"expr\":{\"id\":\"p1063\"}},\"right\":{\"type\":\"expr\",\"expr\":{\"id\":\"p1064\"}},\"line_color\":{\"type\":\"value\",\"value\":\"#444\"},\"line_alpha\":{\"type\":\"value\",\"value\":0.2},\"line_width\":{\"type\":\"value\",\"value\":0.9},\"fill_color\":{\"type\":\"value\",\"value\":\"#FFC312\"},\"fill_alpha\":{\"type\":\"value\",\"value\":0.2},\"hatch_color\":{\"type\":\"value\",\"value\":\"#FFC312\"},\"hatch_alpha\":{\"type\":\"value\",\"value\":0.2}}}}}],\"toolbar\":{\"type\":\"object\",\"name\":\"Toolbar\",\"id\":\"p1008\",\"attributes\":{\"tools\":[{\"type\":\"object\",\"name\":\"HoverTool\",\"id\":\"p1032\",\"attributes\":{\"renderers\":\"auto\",\"tooltips\":\"@term($name) = @$name%\"}}]}},\"toolbar_location\":\"above\",\"left\":[{\"type\":\"object\",\"name\":\"CategoricalAxis\",\"id\":\"p1026\",\"attributes\":{\"ticker\":{\"type\":\"object\",\"name\":\"CategoricalTicker\",\"id\":\"p1027\"},\"formatter\":{\"type\":\"object\",\"name\":\"CategoricalTickFormatter\",\"id\":\"p1029\"},\"major_label_policy\":{\"type\":\"object\",\"name\":\"AllLabels\",\"id\":\"p1028\"}}}],\"right\":[{\"type\":\"object\",\"name\":\"Legend\",\"id\":\"p1245\",\"attributes\":{\"location\":\"center\",\"click_policy\":\"mute\",\"items\":[{\"type\":\"object\",\"name\":\"LegendItem\",\"id\":\"p1246\",\"attributes\":{\"label\":{\"type\":\"value\",\"value\":\"GOV\"},\"renderers\":[{\"id\":\"p1074\"}]}},{\"type\":\"object\",\"name\":\"LegendItem\",\"id\":\"p1247\",\"attributes\":{\"label\":{\"type\":\"value\",\"value\":\"SER\"},\"renderers\":[{\"id\":\"p1086\"}]}},{\"type\":\"object\",\"name\":\"LegendItem\",\"id\":\"p1248\",\"attributes\":{\"label\":{\"type\":\"value\",\"value\":\"LFI\"},\"renderers\":[{\"id\":\"p1098\"}]}},{\"type\":\"object\",\"name\":\"LegendItem\",\"id\":\"p1249\",\"attributes\":{\"label\":{\"type\":\"value\",\"value\":\"GDR\"},\"renderers\":[{\"id\":\"p1110\"}]}},{\"type\":\"object\",\"name\":\"LegendItem\",\"id\":\"p1250\",\"attributes\":{\"label\":{\"type\":\"value\",\"value\":\"ECO\"},\"renderers\":[{\"id\":\"p1122\"}]}},{\"type\":\"object\",\"name\":\"LegendItem\",\"id\":\"p1251\",\"attributes\":{\"label\":{\"type\":\"value\",\"value\":\"NI\"},\"renderers\":[{\"id\":\"p1134\"}]}},{\"type\":\"object\",\"name\":\"LegendItem\",\"id\":\"p1252\",\"attributes\":{\"label\":{\"type\":\"value\",\"value\":\"UDI\"},\"renderers\":[{\"id\":\"p1146\"}]}},{\"type\":\"object\",\"name\":\"LegendItem\",\"id\":\"p1253\",\"attributes\":{\"label\":{\"type\":\"value\",\"value\":\"REN\"},\"renderers\":[{\"id\":\"p1158\"}]}},{\"type\":\"object\",\"name\":\"LegendItem\",\"id\":\"p1254\",\"attributes\":{\"label\":{\"type\":\"value\",\"value\":\"MODEM\"},\"renderers\":[{\"id\":\"p1170\"}]}},{\"type\":\"object\",\"name\":\"LegendItem\",\"id\":\"p1255\",\"attributes\":{\"label\":{\"type\":\"value\",\"value\":\"LIOT\"},\"renderers\":[{\"id\":\"p1182\"}]}},{\"type\":\"object\",\"name\":\"LegendItem\",\"id\":\"p1256\",\"attributes\":{\"label\":{\"type\":\"value\",\"value\":\"RN\"},\"renderers\":[{\"id\":\"p1194\"}]}},{\"type\":\"object\",\"name\":\"LegendItem\",\"id\":\"p1257\",\"attributes\":{\"label\":{\"type\":\"value\",\"value\":\"LR\"},\"renderers\":[{\"id\":\"p1206\"}]}},{\"type\":\"object\",\"name\":\"LegendItem\",\"id\":\"p1258\",\"attributes\":{\"label\":{\"type\":\"value\",\"value\":\"SOC\"},\"renderers\":[{\"id\":\"p1218\"}]}},{\"type\":\"object\",\"name\":\"LegendItem\",\"id\":\"p1259\",\"attributes\":{\"label\":{\"type\":\"value\",\"value\":\"HOR\"},\"renderers\":[{\"id\":\"p1230\"}]}},{\"type\":\"object\",\"name\":\"LegendItem\",\"id\":\"p1260\",\"attributes\":{\"label\":{\"type\":\"value\",\"value\":\"RRDP\"},\"renderers\":[{\"id\":\"p1242\"}]}}]}}],\"below\":[{\"type\":\"object\",\"name\":\"LinearAxis\",\"id\":\"p1019\",\"attributes\":{\"ticker\":{\"type\":\"object\",\"name\":\"BasicTicker\",\"id\":\"p1020\",\"attributes\":{\"mantissas\":[1,2,5]}},\"formatter\":{\"type\":\"object\",\"name\":\"BasicTickFormatter\",\"id\":\"p1022\"},\"major_label_policy\":{\"type\":\"object\",\"name\":\"AllLabels\",\"id\":\"p1021\"}}}],\"center\":[{\"type\":\"object\",\"name\":\"Grid\",\"id\":\"p1025\",\"attributes\":{\"axis\":{\"id\":\"p1019\"},\"grid_line_color\":null}},{\"type\":\"object\",\"name\":\"Grid\",\"id\":\"p1031\",\"attributes\":{\"dimension\":1,\"axis\":{\"id\":\"p1026\"}}}]}}}},{\"type\":\"object\",\"name\":\"TabPanel\",\"id\":\"p1522\",\"attributes\":{\"title\":\"2 mots\",\"child\":{\"type\":\"object\",\"name\":\"Figure\",\"id\":\"p1262\",\"attributes\":{\"sizing_mode\":\"stretch_width\",\"x_range\":{\"type\":\"object\",\"name\":\"DataRange1d\",\"id\":\"p1264\",\"attributes\":{\"start\":0,\"end\":100}},\"y_range\":{\"type\":\"object\",\"name\":\"FactorRange\",\"id\":\"p1274\",\"attributes\":{\"factors\":[\"scrutin public\",\"majorit\\u00e9 absolu\",\"rapporteure g\\u00e9n\\u00e9ral\",\"s\\u00e9curit\\u00e9 social\",\"r\\u00e9gime sp\\u00e9cial\",\"index senior\",\"assurance vieilles\",\"mod\\u00e8le social\",\"r\\u00e9gime g\\u00e9n\\u00e9ral\",\"partenaire social\",\"article 10\",\"article 2\",\"cotisation social\",\"55 an\",\"index seniors\",\"carri\\u00e8re complet\",\"\\u00e2ge l\\u00e9gal\",\"finance public\",\"article 7\",\"64 an\",\"classe moyen\",\"article 100\",\"carri\\u00e8re long\",\"fonction public\",\"60 an\",\"organisation syndical\",\"carri\\u00e8re hach\\u00e9\",\"petit entreprise\",\"repr\\u00e9sentation national\",\"d\\u00e9bat d\\u00e9mocratique\",\"\\u00e9galit\\u00e9 salarial\",\"motion r\\u00e9f\\u00e9rendaire\",\"secteur priver\",\"salari\\u00e9 \\u00e2g\\u00e9\",\"justice social\",\"article 70\",\"service public\",\"dette public\"]}},\"x_scale\":{\"type\":\"object\",\"name\":\"LinearScale\",\"id\":\"p1276\"},\"y_scale\":{\"type\":\"object\",\"name\":\"CategoricalScale\",\"id\":\"p1278\"},\"title\":{\"type\":\"object\",\"name\":\"Title\",\"id\":\"p1265\",\"attributes\":{\"text\":\"Distribution des occurrences de top mots-cl\\u00e9s\"}},\"renderers\":[{\"type\":\"object\",\"name\":\"GlyphRenderer\",\"id\":\"p1335\",\"attributes\":{\"name\":\"GOV\",\"data_source\":{\"type\":\"object\",\"name\":\"ColumnDataSource\",\"id\":\"p1326\",\"attributes\":{\"selected\":{\"type\":\"object\",\"name\":\"Selection\",\"id\":\"p1327\",\"attributes\":{\"indices\":[],\"line_indices\":[]}},\"selection_policy\":{\"type\":\"object\",\"name\":\"UnionRenderers\",\"id\":\"p1328\"},\"data\":{\"type\":\"map\",\"entries\":[[\"term\",[\"scrutin public\",\"majorit\\u00e9 absolu\",\"rapporteure g\\u00e9n\\u00e9ral\",\"s\\u00e9curit\\u00e9 social\",\"r\\u00e9gime sp\\u00e9cial\",\"index senior\",\"assurance vieilles\",\"mod\\u00e8le social\",\"r\\u00e9gime g\\u00e9n\\u00e9ral\",\"partenaire social\",\"article 10\",\"article 2\",\"cotisation social\",\"55 an\",\"index seniors\",\"carri\\u00e8re complet\",\"\\u00e2ge l\\u00e9gal\",\"finance public\",\"article 7\",\"64 an\",\"classe moyen\",\"article 100\",\"carri\\u00e8re long\",\"fonction public\",\"60 an\",\"organisation syndical\",\"carri\\u00e8re hach\\u00e9\",\"petit entreprise\",\"repr\\u00e9sentation national\",\"d\\u00e9bat d\\u00e9mocratique\",\"\\u00e9galit\\u00e9 salarial\",\"motion r\\u00e9f\\u00e9rendaire\",\"secteur priver\",\"salari\\u00e9 \\u00e2g\\u00e9\",\"justice social\",\"article 70\",\"service public\",\"dette public\"]],[\"GOV\",[88.04347826086956,100.0,50.0,19.10828025477707,7.718120805369128,9.230769230769232,30.23255813953488,50.0,14.285714285714285,30.555555555555557,10.869565217391305,7.317073170731707,10.606060606060606,14.000000000000002,7.142857142857142,20.0,5.660377358490567,16.666666666666664,4.587155963302752,3.5211267605633805,22.727272727272727,6.756756756756757,6.25,11.76470588235294,2.631578947368421,10.344827586206897,8.333333333333332,7.4074074074074066,4.878048780487805,40.0,6.25,10.0,9.523809523809524,3.7037037037037033,1.9607843137254901,2.631578947368421,2.0408163265306123,0]],[\"SER\",[0,0,0,1.2738853503184715,3.0201342281879198,1.5384615384615385,0,0,1.2987012987012987,2.7777777777777777,0,0,1.5151515151515151,0,2.0408163265306123,2.857142857142857,4.716981132075472,8.333333333333332,0.9174311926605505,4.225352112676056,0,0,1.5625,0,0.8771929824561403,3.4482758620689653,4.166666666666666,7.4074074074074066,4.878048780487805,0,0,5.0,4.761904761904762,0,1.9607843137254901,0,0,0]],[\"LFI\",[4.3478260869565215,0,4.545454545454546,25.477707006369428,26.51006711409396,21.025641025641026,25.581395348837212,4.166666666666666,23.376623376623375,5.555555555555555,31.521739130434785,21.138211382113823,42.42424242424242,24.0,23.46938775510204,28.57142857142857,25.471698113207548,8.333333333333332,20.18348623853211,38.732394366197184,22.727272727272727,33.78378378378378,35.9375,20.588235294117645,55.26315789473685,20.689655172413794,20.833333333333336,14.814814814814813,31.70731707317073,20.0,56.25,5.0,14.285714285714285,7.4074074074074066,33.33333333333333,34.21052631578947,44.89795918367347,0]],[\"GDR\",[2.1739130434782608,0,6.8181818181818175,7.643312101910828,9.731543624161073,4.102564102564102,6.976744186046512,0,12.987012987012985,0,4.3478260869565215,5.691056910569105,12.121212121212121,2.0,5.1020408163265305,8.571428571428571,2.8301886792452833,5.555555555555555,7.339449541284404,4.225352112676056,0,4.054054054054054,3.125,11.76470588235294,7.017543859649122,31.03448275862069,0,0,4.878048780487805,20.0,3.125,5.0,14.285714285714285,0,3.9215686274509802,5.263157894736842,14.285714285714285,16.666666666666664]],[\"ECO\",[0,0,4.545454545454546,3.1847133757961785,4.026845637583892,7.179487179487179,0,4.166666666666666,0,0,5.434782608695652,8.130081300813007,4.545454545454546,4.0,6.122448979591836,5.714285714285714,5.660377358490567,0,6.422018348623854,6.338028169014084,0,6.756756756756757,0,2.941176470588235,4.385964912280701,3.4482758620689653,4.166666666666666,0,2.4390243902439024,0,18.75,5.0,9.523809523809524,0,9.803921568627452,7.894736842105263,4.081632653061225,0]],[\"NI\",[0,0,0,1.910828025477707,1.342281879194631,2.051282051282051,4.651162790697675,8.333333333333332,1.2987012987012987,0,1.0869565217391304,3.2520325203252036,0,6.0,1.0204081632653061,2.857142857142857,5.660377358490567,5.555555555555555,2.7522935779816518,4.929577464788732,0,1.3513513513513513,0,8.823529411764707,3.508771929824561,0,0,0,4.878048780487805,0,0,20.0,0,3.7037037037037033,1.9607843137254901,2.631578947368421,4.081632653061225,50.0]],[\"UDI\",[0,0,4.545454545454546,4.45859872611465,4.3624161073825505,5.128205128205128,0,0,6.493506493506493,19.444444444444446,1.0869565217391304,4.0650406504065035,6.0606060606060606,12.0,7.142857142857142,0,1.8867924528301887,8.333333333333332,0.9174311926605505,0.7042253521126761,0,0,1.5625,14.705882352941178,5.263157894736842,6.896551724137931,12.5,7.4074074074074066,0,0,0,15.0,4.761904761904762,7.4074074074074066,3.9215686274509802,0,4.081632653061225,0]],[\"REN\",[0,0,3.4090909090909087,9.554140127388536,14.429530201342283,21.025641025641026,9.30232558139535,8.333333333333332,15.584415584415584,19.444444444444446,18.478260869565215,17.073170731707318,1.5151515151515151,4.0,18.367346938775512,5.714285714285714,12.264150943396226,8.333333333333332,22.018348623853214,9.15492957746479,9.090909090909092,17.56756756756757,12.5,8.823529411764707,6.140350877192982,10.344827586206897,16.666666666666664,14.814814814814813,2.4390243902439024,0,6.25,0,9.523809523809524,18.51851851851852,9.803921568627452,13.157894736842104,8.16326530612245,16.666666666666664]],[\"MODEM\",[2.1739130434782608,0,2.272727272727273,5.095541401273886,3.3557046979865772,2.051282051282051,6.976744186046512,4.166666666666666,6.493506493506493,8.333333333333332,3.260869565217391,3.2520325203252036,3.0303030303030303,2.0,0,2.857142857142857,1.8867924528301887,11.11111111111111,7.339449541284404,2.112676056338028,4.545454545454546,4.054054054054054,6.25,5.88235294117647,1.7543859649122806,3.4482758620689653,0,3.7037037037037033,2.4390243902439024,0,0,0,4.761904761904762,0,1.9607843137254901,10.526315789473683,2.0408163265306123,0]],[\"LIOT\",[0,0,0,1.910828025477707,0,3.076923076923077,2.3255813953488373,0,1.2987012987012987,0,0,2.4390243902439024,1.5151515151515151,2.0,5.1020408163265305,0,4.716981132075472,0,0.9174311926605505,2.8169014084507045,0,0,3.125,0,0,0,12.5,0,4.878048780487805,0,0,0,9.523809523809524,3.7037037037037033,3.9215686274509802,2.631578947368421,0,0]],[\"RN\",[0,0,5.681818181818182,4.45859872611465,6.375838926174497,4.102564102564102,0,4.166666666666666,1.2987012987012987,0,9.782608695652174,4.878048780487805,0,6.0,4.081632653061225,5.714285714285714,8.49056603773585,13.88888888888889,12.844036697247708,10.56338028169014,18.181818181818183,10.81081081081081,6.25,0,7.017543859649122,0,4.166666666666666,14.814814814814813,12.195121951219512,0,0,20.0,4.761904761904762,7.4074074074074066,3.9215686274509802,0,4.081632653061225,16.666666666666664]],[\"LR\",[2.1739130434782608,0,12.5,11.464968152866243,11.073825503355705,12.82051282051282,9.30232558139535,16.666666666666664,6.493506493506493,2.7777777777777777,9.782608695652174,16.260162601626014,9.090909090909092,18.0,14.285714285714285,17.142857142857142,9.433962264150944,5.555555555555555,8.256880733944955,6.338028169014084,9.090909090909092,9.45945945945946,20.3125,11.76470588235294,5.263157894736842,0,12.5,25.925925925925924,12.195121951219512,0,0,15.0,4.761904761904762,40.74074074074074,13.725490196078432,10.526315789473683,6.122448979591836,0]],[\"SOC\",[1.0869565217391304,0,5.681818181818182,4.45859872611465,8.053691275167784,6.153846153846154,4.651162790697675,0,9.090909090909092,11.11111111111111,4.3478260869565215,5.691056910569105,7.575757575757576,6.0,5.1020408163265305,0,11.320754716981133,8.333333333333332,4.587155963302752,6.338028169014084,9.090909090909092,5.405405405405405,3.125,2.941176470588235,0,10.344827586206897,4.166666666666666,3.7037037037037033,12.195121951219512,0,6.25,0,4.761904761904762,7.4074074074074066,9.803921568627452,7.894736842105263,6.122448979591836,0]],[\"HOR\",[0,0,0,0,0,0,0,0,0,0,0,0,0,0,0,0,0,0,0.9174311926605505,0,4.545454545454546,0,0,0,0.8771929824561403,0,0,0,0,20.0,3.125,0,0,0,0,2.631578947368421,0,0]],[\"RRDP\",[0,0,0,0,0,0.5128205128205128,0,0,0,0,0,0.8130081300813009,0,0,1.0204081632653061,0,0,0,0,0,0,0,0,0,0,0,0,0,0,0,0,0,4.761904761904762,0,0,0,0,0]]]}}},\"view\":{\"type\":\"object\",\"name\":\"CDSView\",\"id\":\"p1336\",\"attributes\":{\"filter\":{\"type\":\"object\",\"name\":\"AllIndices\",\"id\":\"p1337\"}}},\"glyph\":{\"type\":\"object\",\"name\":\"HBar\",\"id\":\"p1332\",\"attributes\":{\"y\":{\"type\":\"field\",\"field\":\"term\"},\"left\":{\"type\":\"expr\",\"expr\":{\"type\":\"object\",\"name\":\"Stack\",\"id\":\"p1296\",\"attributes\":{\"fields\":[]}}},\"right\":{\"type\":\"expr\",\"expr\":{\"type\":\"object\",\"name\":\"Stack\",\"id\":\"p1297\",\"attributes\":{\"fields\":[\"GOV\"]}}},\"line_color\":{\"type\":\"value\",\"value\":\"#444\"},\"line_width\":{\"type\":\"value\",\"value\":0.9},\"fill_color\":{\"type\":\"value\",\"value\":\"#6F1E51\"},\"hatch_color\":{\"type\":\"value\",\"value\":\"#6F1E51\"}}},\"nonselection_glyph\":{\"type\":\"object\",\"name\":\"HBar\",\"id\":\"p1333\",\"attributes\":{\"y\":{\"type\":\"field\",\"field\":\"term\"},\"left\":{\"type\":\"expr\",\"expr\":{\"id\":\"p1296\"}},\"right\":{\"type\":\"expr\",\"expr\":{\"id\":\"p1297\"}},\"line_color\":{\"type\":\"value\",\"value\":\"#444\"},\"line_alpha\":{\"type\":\"value\",\"value\":0.1},\"line_width\":{\"type\":\"value\",\"value\":0.9},\"fill_color\":{\"type\":\"value\",\"value\":\"#6F1E51\"},\"fill_alpha\":{\"type\":\"value\",\"value\":0.1},\"hatch_color\":{\"type\":\"value\",\"value\":\"#6F1E51\"},\"hatch_alpha\":{\"type\":\"value\",\"value\":0.1}}},\"muted_glyph\":{\"type\":\"object\",\"name\":\"HBar\",\"id\":\"p1334\",\"attributes\":{\"y\":{\"type\":\"field\",\"field\":\"term\"},\"left\":{\"type\":\"expr\",\"expr\":{\"id\":\"p1296\"}},\"right\":{\"type\":\"expr\",\"expr\":{\"id\":\"p1297\"}},\"line_color\":{\"type\":\"value\",\"value\":\"#444\"},\"line_alpha\":{\"type\":\"value\",\"value\":0.2},\"line_width\":{\"type\":\"value\",\"value\":0.9},\"fill_color\":{\"type\":\"value\",\"value\":\"#6F1E51\"},\"fill_alpha\":{\"type\":\"value\",\"value\":0.2},\"hatch_color\":{\"type\":\"value\",\"value\":\"#6F1E51\"},\"hatch_alpha\":{\"type\":\"value\",\"value\":0.2}}}}},{\"type\":\"object\",\"name\":\"GlyphRenderer\",\"id\":\"p1347\",\"attributes\":{\"name\":\"SER\",\"data_source\":{\"type\":\"object\",\"name\":\"ColumnDataSource\",\"id\":\"p1338\",\"attributes\":{\"selected\":{\"type\":\"object\",\"name\":\"Selection\",\"id\":\"p1339\",\"attributes\":{\"indices\":[],\"line_indices\":[]}},\"selection_policy\":{\"type\":\"object\",\"name\":\"UnionRenderers\",\"id\":\"p1340\"},\"data\":{\"type\":\"map\",\"entries\":[[\"term\",[\"scrutin public\",\"majorit\\u00e9 absolu\",\"rapporteure g\\u00e9n\\u00e9ral\",\"s\\u00e9curit\\u00e9 social\",\"r\\u00e9gime sp\\u00e9cial\",\"index senior\",\"assurance vieilles\",\"mod\\u00e8le social\",\"r\\u00e9gime g\\u00e9n\\u00e9ral\",\"partenaire social\",\"article 10\",\"article 2\",\"cotisation social\",\"55 an\",\"index seniors\",\"carri\\u00e8re complet\",\"\\u00e2ge l\\u00e9gal\",\"finance public\",\"article 7\",\"64 an\",\"classe moyen\",\"article 100\",\"carri\\u00e8re long\",\"fonction public\",\"60 an\",\"organisation syndical\",\"carri\\u00e8re hach\\u00e9\",\"petit entreprise\",\"repr\\u00e9sentation national\",\"d\\u00e9bat d\\u00e9mocratique\",\"\\u00e9galit\\u00e9 salarial\",\"motion r\\u00e9f\\u00e9rendaire\",\"secteur priver\",\"salari\\u00e9 \\u00e2g\\u00e9\",\"justice social\",\"article 70\",\"service public\",\"dette public\"]],[\"GOV\",[88.04347826086956,100.0,50.0,19.10828025477707,7.718120805369128,9.230769230769232,30.23255813953488,50.0,14.285714285714285,30.555555555555557,10.869565217391305,7.317073170731707,10.606060606060606,14.000000000000002,7.142857142857142,20.0,5.660377358490567,16.666666666666664,4.587155963302752,3.5211267605633805,22.727272727272727,6.756756756756757,6.25,11.76470588235294,2.631578947368421,10.344827586206897,8.333333333333332,7.4074074074074066,4.878048780487805,40.0,6.25,10.0,9.523809523809524,3.7037037037037033,1.9607843137254901,2.631578947368421,2.0408163265306123,0]],[\"SER\",[0,0,0,1.2738853503184715,3.0201342281879198,1.5384615384615385,0,0,1.2987012987012987,2.7777777777777777,0,0,1.5151515151515151,0,2.0408163265306123,2.857142857142857,4.716981132075472,8.333333333333332,0.9174311926605505,4.225352112676056,0,0,1.5625,0,0.8771929824561403,3.4482758620689653,4.166666666666666,7.4074074074074066,4.878048780487805,0,0,5.0,4.761904761904762,0,1.9607843137254901,0,0,0]],[\"LFI\",[4.3478260869565215,0,4.545454545454546,25.477707006369428,26.51006711409396,21.025641025641026,25.581395348837212,4.166666666666666,23.376623376623375,5.555555555555555,31.521739130434785,21.138211382113823,42.42424242424242,24.0,23.46938775510204,28.57142857142857,25.471698113207548,8.333333333333332,20.18348623853211,38.732394366197184,22.727272727272727,33.78378378378378,35.9375,20.588235294117645,55.26315789473685,20.689655172413794,20.833333333333336,14.814814814814813,31.70731707317073,20.0,56.25,5.0,14.285714285714285,7.4074074074074066,33.33333333333333,34.21052631578947,44.89795918367347,0]],[\"GDR\",[2.1739130434782608,0,6.8181818181818175,7.643312101910828,9.731543624161073,4.102564102564102,6.976744186046512,0,12.987012987012985,0,4.3478260869565215,5.691056910569105,12.121212121212121,2.0,5.1020408163265305,8.571428571428571,2.8301886792452833,5.555555555555555,7.339449541284404,4.225352112676056,0,4.054054054054054,3.125,11.76470588235294,7.017543859649122,31.03448275862069,0,0,4.878048780487805,20.0,3.125,5.0,14.285714285714285,0,3.9215686274509802,5.263157894736842,14.285714285714285,16.666666666666664]],[\"ECO\",[0,0,4.545454545454546,3.1847133757961785,4.026845637583892,7.179487179487179,0,4.166666666666666,0,0,5.434782608695652,8.130081300813007,4.545454545454546,4.0,6.122448979591836,5.714285714285714,5.660377358490567,0,6.422018348623854,6.338028169014084,0,6.756756756756757,0,2.941176470588235,4.385964912280701,3.4482758620689653,4.166666666666666,0,2.4390243902439024,0,18.75,5.0,9.523809523809524,0,9.803921568627452,7.894736842105263,4.081632653061225,0]],[\"NI\",[0,0,0,1.910828025477707,1.342281879194631,2.051282051282051,4.651162790697675,8.333333333333332,1.2987012987012987,0,1.0869565217391304,3.2520325203252036,0,6.0,1.0204081632653061,2.857142857142857,5.660377358490567,5.555555555555555,2.7522935779816518,4.929577464788732,0,1.3513513513513513,0,8.823529411764707,3.508771929824561,0,0,0,4.878048780487805,0,0,20.0,0,3.7037037037037033,1.9607843137254901,2.631578947368421,4.081632653061225,50.0]],[\"UDI\",[0,0,4.545454545454546,4.45859872611465,4.3624161073825505,5.128205128205128,0,0,6.493506493506493,19.444444444444446,1.0869565217391304,4.0650406504065035,6.0606060606060606,12.0,7.142857142857142,0,1.8867924528301887,8.333333333333332,0.9174311926605505,0.7042253521126761,0,0,1.5625,14.705882352941178,5.263157894736842,6.896551724137931,12.5,7.4074074074074066,0,0,0,15.0,4.761904761904762,7.4074074074074066,3.9215686274509802,0,4.081632653061225,0]],[\"REN\",[0,0,3.4090909090909087,9.554140127388536,14.429530201342283,21.025641025641026,9.30232558139535,8.333333333333332,15.584415584415584,19.444444444444446,18.478260869565215,17.073170731707318,1.5151515151515151,4.0,18.367346938775512,5.714285714285714,12.264150943396226,8.333333333333332,22.018348623853214,9.15492957746479,9.090909090909092,17.56756756756757,12.5,8.823529411764707,6.140350877192982,10.344827586206897,16.666666666666664,14.814814814814813,2.4390243902439024,0,6.25,0,9.523809523809524,18.51851851851852,9.803921568627452,13.157894736842104,8.16326530612245,16.666666666666664]],[\"MODEM\",[2.1739130434782608,0,2.272727272727273,5.095541401273886,3.3557046979865772,2.051282051282051,6.976744186046512,4.166666666666666,6.493506493506493,8.333333333333332,3.260869565217391,3.2520325203252036,3.0303030303030303,2.0,0,2.857142857142857,1.8867924528301887,11.11111111111111,7.339449541284404,2.112676056338028,4.545454545454546,4.054054054054054,6.25,5.88235294117647,1.7543859649122806,3.4482758620689653,0,3.7037037037037033,2.4390243902439024,0,0,0,4.761904761904762,0,1.9607843137254901,10.526315789473683,2.0408163265306123,0]],[\"LIOT\",[0,0,0,1.910828025477707,0,3.076923076923077,2.3255813953488373,0,1.2987012987012987,0,0,2.4390243902439024,1.5151515151515151,2.0,5.1020408163265305,0,4.716981132075472,0,0.9174311926605505,2.8169014084507045,0,0,3.125,0,0,0,12.5,0,4.878048780487805,0,0,0,9.523809523809524,3.7037037037037033,3.9215686274509802,2.631578947368421,0,0]],[\"RN\",[0,0,5.681818181818182,4.45859872611465,6.375838926174497,4.102564102564102,0,4.166666666666666,1.2987012987012987,0,9.782608695652174,4.878048780487805,0,6.0,4.081632653061225,5.714285714285714,8.49056603773585,13.88888888888889,12.844036697247708,10.56338028169014,18.181818181818183,10.81081081081081,6.25,0,7.017543859649122,0,4.166666666666666,14.814814814814813,12.195121951219512,0,0,20.0,4.761904761904762,7.4074074074074066,3.9215686274509802,0,4.081632653061225,16.666666666666664]],[\"LR\",[2.1739130434782608,0,12.5,11.464968152866243,11.073825503355705,12.82051282051282,9.30232558139535,16.666666666666664,6.493506493506493,2.7777777777777777,9.782608695652174,16.260162601626014,9.090909090909092,18.0,14.285714285714285,17.142857142857142,9.433962264150944,5.555555555555555,8.256880733944955,6.338028169014084,9.090909090909092,9.45945945945946,20.3125,11.76470588235294,5.263157894736842,0,12.5,25.925925925925924,12.195121951219512,0,0,15.0,4.761904761904762,40.74074074074074,13.725490196078432,10.526315789473683,6.122448979591836,0]],[\"SOC\",[1.0869565217391304,0,5.681818181818182,4.45859872611465,8.053691275167784,6.153846153846154,4.651162790697675,0,9.090909090909092,11.11111111111111,4.3478260869565215,5.691056910569105,7.575757575757576,6.0,5.1020408163265305,0,11.320754716981133,8.333333333333332,4.587155963302752,6.338028169014084,9.090909090909092,5.405405405405405,3.125,2.941176470588235,0,10.344827586206897,4.166666666666666,3.7037037037037033,12.195121951219512,0,6.25,0,4.761904761904762,7.4074074074074066,9.803921568627452,7.894736842105263,6.122448979591836,0]],[\"HOR\",[0,0,0,0,0,0,0,0,0,0,0,0,0,0,0,0,0,0,0.9174311926605505,0,4.545454545454546,0,0,0,0.8771929824561403,0,0,0,0,20.0,3.125,0,0,0,0,2.631578947368421,0,0]],[\"RRDP\",[0,0,0,0,0,0.5128205128205128,0,0,0,0,0,0.8130081300813009,0,0,1.0204081632653061,0,0,0,0,0,0,0,0,0,0,0,0,0,0,0,0,0,4.761904761904762,0,0,0,0,0]]]}}},\"view\":{\"type\":\"object\",\"name\":\"CDSView\",\"id\":\"p1348\",\"attributes\":{\"filter\":{\"type\":\"object\",\"name\":\"AllIndices\",\"id\":\"p1349\"}}},\"glyph\":{\"type\":\"object\",\"name\":\"HBar\",\"id\":\"p1344\",\"attributes\":{\"y\":{\"type\":\"field\",\"field\":\"term\"},\"left\":{\"type\":\"expr\",\"expr\":{\"type\":\"object\",\"name\":\"Stack\",\"id\":\"p1298\",\"attributes\":{\"fields\":[\"GOV\"]}}},\"right\":{\"type\":\"expr\",\"expr\":{\"type\":\"object\",\"name\":\"Stack\",\"id\":\"p1299\",\"attributes\":{\"fields\":[\"GOV\",\"SER\"]}}},\"line_color\":{\"type\":\"value\",\"value\":\"#444\"},\"line_width\":{\"type\":\"value\",\"value\":0.9},\"fill_color\":{\"type\":\"value\",\"value\":\"#e74c3c\"},\"hatch_color\":{\"type\":\"value\",\"value\":\"#e74c3c\"}}},\"nonselection_glyph\":{\"type\":\"object\",\"name\":\"HBar\",\"id\":\"p1345\",\"attributes\":{\"y\":{\"type\":\"field\",\"field\":\"term\"},\"left\":{\"type\":\"expr\",\"expr\":{\"id\":\"p1298\"}},\"right\":{\"type\":\"expr\",\"expr\":{\"id\":\"p1299\"}},\"line_color\":{\"type\":\"value\",\"value\":\"#444\"},\"line_alpha\":{\"type\":\"value\",\"value\":0.1},\"line_width\":{\"type\":\"value\",\"value\":0.9},\"fill_color\":{\"type\":\"value\",\"value\":\"#e74c3c\"},\"fill_alpha\":{\"type\":\"value\",\"value\":0.1},\"hatch_color\":{\"type\":\"value\",\"value\":\"#e74c3c\"},\"hatch_alpha\":{\"type\":\"value\",\"value\":0.1}}},\"muted_glyph\":{\"type\":\"object\",\"name\":\"HBar\",\"id\":\"p1346\",\"attributes\":{\"y\":{\"type\":\"field\",\"field\":\"term\"},\"left\":{\"type\":\"expr\",\"expr\":{\"id\":\"p1298\"}},\"right\":{\"type\":\"expr\",\"expr\":{\"id\":\"p1299\"}},\"line_color\":{\"type\":\"value\",\"value\":\"#444\"},\"line_alpha\":{\"type\":\"value\",\"value\":0.2},\"line_width\":{\"type\":\"value\",\"value\":0.9},\"fill_color\":{\"type\":\"value\",\"value\":\"#e74c3c\"},\"fill_alpha\":{\"type\":\"value\",\"value\":0.2},\"hatch_color\":{\"type\":\"value\",\"value\":\"#e74c3c\"},\"hatch_alpha\":{\"type\":\"value\",\"value\":0.2}}}}},{\"type\":\"object\",\"name\":\"GlyphRenderer\",\"id\":\"p1359\",\"attributes\":{\"name\":\"LFI\",\"data_source\":{\"type\":\"object\",\"name\":\"ColumnDataSource\",\"id\":\"p1350\",\"attributes\":{\"selected\":{\"type\":\"object\",\"name\":\"Selection\",\"id\":\"p1351\",\"attributes\":{\"indices\":[],\"line_indices\":[]}},\"selection_policy\":{\"type\":\"object\",\"name\":\"UnionRenderers\",\"id\":\"p1352\"},\"data\":{\"type\":\"map\",\"entries\":[[\"term\",[\"scrutin public\",\"majorit\\u00e9 absolu\",\"rapporteure g\\u00e9n\\u00e9ral\",\"s\\u00e9curit\\u00e9 social\",\"r\\u00e9gime sp\\u00e9cial\",\"index senior\",\"assurance vieilles\",\"mod\\u00e8le social\",\"r\\u00e9gime g\\u00e9n\\u00e9ral\",\"partenaire social\",\"article 10\",\"article 2\",\"cotisation social\",\"55 an\",\"index seniors\",\"carri\\u00e8re complet\",\"\\u00e2ge l\\u00e9gal\",\"finance public\",\"article 7\",\"64 an\",\"classe moyen\",\"article 100\",\"carri\\u00e8re long\",\"fonction public\",\"60 an\",\"organisation syndical\",\"carri\\u00e8re hach\\u00e9\",\"petit entreprise\",\"repr\\u00e9sentation national\",\"d\\u00e9bat d\\u00e9mocratique\",\"\\u00e9galit\\u00e9 salarial\",\"motion r\\u00e9f\\u00e9rendaire\",\"secteur priver\",\"salari\\u00e9 \\u00e2g\\u00e9\",\"justice social\",\"article 70\",\"service public\",\"dette public\"]],[\"GOV\",[88.04347826086956,100.0,50.0,19.10828025477707,7.718120805369128,9.230769230769232,30.23255813953488,50.0,14.285714285714285,30.555555555555557,10.869565217391305,7.317073170731707,10.606060606060606,14.000000000000002,7.142857142857142,20.0,5.660377358490567,16.666666666666664,4.587155963302752,3.5211267605633805,22.727272727272727,6.756756756756757,6.25,11.76470588235294,2.631578947368421,10.344827586206897,8.333333333333332,7.4074074074074066,4.878048780487805,40.0,6.25,10.0,9.523809523809524,3.7037037037037033,1.9607843137254901,2.631578947368421,2.0408163265306123,0]],[\"SER\",[0,0,0,1.2738853503184715,3.0201342281879198,1.5384615384615385,0,0,1.2987012987012987,2.7777777777777777,0,0,1.5151515151515151,0,2.0408163265306123,2.857142857142857,4.716981132075472,8.333333333333332,0.9174311926605505,4.225352112676056,0,0,1.5625,0,0.8771929824561403,3.4482758620689653,4.166666666666666,7.4074074074074066,4.878048780487805,0,0,5.0,4.761904761904762,0,1.9607843137254901,0,0,0]],[\"LFI\",[4.3478260869565215,0,4.545454545454546,25.477707006369428,26.51006711409396,21.025641025641026,25.581395348837212,4.166666666666666,23.376623376623375,5.555555555555555,31.521739130434785,21.138211382113823,42.42424242424242,24.0,23.46938775510204,28.57142857142857,25.471698113207548,8.333333333333332,20.18348623853211,38.732394366197184,22.727272727272727,33.78378378378378,35.9375,20.588235294117645,55.26315789473685,20.689655172413794,20.833333333333336,14.814814814814813,31.70731707317073,20.0,56.25,5.0,14.285714285714285,7.4074074074074066,33.33333333333333,34.21052631578947,44.89795918367347,0]],[\"GDR\",[2.1739130434782608,0,6.8181818181818175,7.643312101910828,9.731543624161073,4.102564102564102,6.976744186046512,0,12.987012987012985,0,4.3478260869565215,5.691056910569105,12.121212121212121,2.0,5.1020408163265305,8.571428571428571,2.8301886792452833,5.555555555555555,7.339449541284404,4.225352112676056,0,4.054054054054054,3.125,11.76470588235294,7.017543859649122,31.03448275862069,0,0,4.878048780487805,20.0,3.125,5.0,14.285714285714285,0,3.9215686274509802,5.263157894736842,14.285714285714285,16.666666666666664]],[\"ECO\",[0,0,4.545454545454546,3.1847133757961785,4.026845637583892,7.179487179487179,0,4.166666666666666,0,0,5.434782608695652,8.130081300813007,4.545454545454546,4.0,6.122448979591836,5.714285714285714,5.660377358490567,0,6.422018348623854,6.338028169014084,0,6.756756756756757,0,2.941176470588235,4.385964912280701,3.4482758620689653,4.166666666666666,0,2.4390243902439024,0,18.75,5.0,9.523809523809524,0,9.803921568627452,7.894736842105263,4.081632653061225,0]],[\"NI\",[0,0,0,1.910828025477707,1.342281879194631,2.051282051282051,4.651162790697675,8.333333333333332,1.2987012987012987,0,1.0869565217391304,3.2520325203252036,0,6.0,1.0204081632653061,2.857142857142857,5.660377358490567,5.555555555555555,2.7522935779816518,4.929577464788732,0,1.3513513513513513,0,8.823529411764707,3.508771929824561,0,0,0,4.878048780487805,0,0,20.0,0,3.7037037037037033,1.9607843137254901,2.631578947368421,4.081632653061225,50.0]],[\"UDI\",[0,0,4.545454545454546,4.45859872611465,4.3624161073825505,5.128205128205128,0,0,6.493506493506493,19.444444444444446,1.0869565217391304,4.0650406504065035,6.0606060606060606,12.0,7.142857142857142,0,1.8867924528301887,8.333333333333332,0.9174311926605505,0.7042253521126761,0,0,1.5625,14.705882352941178,5.263157894736842,6.896551724137931,12.5,7.4074074074074066,0,0,0,15.0,4.761904761904762,7.4074074074074066,3.9215686274509802,0,4.081632653061225,0]],[\"REN\",[0,0,3.4090909090909087,9.554140127388536,14.429530201342283,21.025641025641026,9.30232558139535,8.333333333333332,15.584415584415584,19.444444444444446,18.478260869565215,17.073170731707318,1.5151515151515151,4.0,18.367346938775512,5.714285714285714,12.264150943396226,8.333333333333332,22.018348623853214,9.15492957746479,9.090909090909092,17.56756756756757,12.5,8.823529411764707,6.140350877192982,10.344827586206897,16.666666666666664,14.814814814814813,2.4390243902439024,0,6.25,0,9.523809523809524,18.51851851851852,9.803921568627452,13.157894736842104,8.16326530612245,16.666666666666664]],[\"MODEM\",[2.1739130434782608,0,2.272727272727273,5.095541401273886,3.3557046979865772,2.051282051282051,6.976744186046512,4.166666666666666,6.493506493506493,8.333333333333332,3.260869565217391,3.2520325203252036,3.0303030303030303,2.0,0,2.857142857142857,1.8867924528301887,11.11111111111111,7.339449541284404,2.112676056338028,4.545454545454546,4.054054054054054,6.25,5.88235294117647,1.7543859649122806,3.4482758620689653,0,3.7037037037037033,2.4390243902439024,0,0,0,4.761904761904762,0,1.9607843137254901,10.526315789473683,2.0408163265306123,0]],[\"LIOT\",[0,0,0,1.910828025477707,0,3.076923076923077,2.3255813953488373,0,1.2987012987012987,0,0,2.4390243902439024,1.5151515151515151,2.0,5.1020408163265305,0,4.716981132075472,0,0.9174311926605505,2.8169014084507045,0,0,3.125,0,0,0,12.5,0,4.878048780487805,0,0,0,9.523809523809524,3.7037037037037033,3.9215686274509802,2.631578947368421,0,0]],[\"RN\",[0,0,5.681818181818182,4.45859872611465,6.375838926174497,4.102564102564102,0,4.166666666666666,1.2987012987012987,0,9.782608695652174,4.878048780487805,0,6.0,4.081632653061225,5.714285714285714,8.49056603773585,13.88888888888889,12.844036697247708,10.56338028169014,18.181818181818183,10.81081081081081,6.25,0,7.017543859649122,0,4.166666666666666,14.814814814814813,12.195121951219512,0,0,20.0,4.761904761904762,7.4074074074074066,3.9215686274509802,0,4.081632653061225,16.666666666666664]],[\"LR\",[2.1739130434782608,0,12.5,11.464968152866243,11.073825503355705,12.82051282051282,9.30232558139535,16.666666666666664,6.493506493506493,2.7777777777777777,9.782608695652174,16.260162601626014,9.090909090909092,18.0,14.285714285714285,17.142857142857142,9.433962264150944,5.555555555555555,8.256880733944955,6.338028169014084,9.090909090909092,9.45945945945946,20.3125,11.76470588235294,5.263157894736842,0,12.5,25.925925925925924,12.195121951219512,0,0,15.0,4.761904761904762,40.74074074074074,13.725490196078432,10.526315789473683,6.122448979591836,0]],[\"SOC\",[1.0869565217391304,0,5.681818181818182,4.45859872611465,8.053691275167784,6.153846153846154,4.651162790697675,0,9.090909090909092,11.11111111111111,4.3478260869565215,5.691056910569105,7.575757575757576,6.0,5.1020408163265305,0,11.320754716981133,8.333333333333332,4.587155963302752,6.338028169014084,9.090909090909092,5.405405405405405,3.125,2.941176470588235,0,10.344827586206897,4.166666666666666,3.7037037037037033,12.195121951219512,0,6.25,0,4.761904761904762,7.4074074074074066,9.803921568627452,7.894736842105263,6.122448979591836,0]],[\"HOR\",[0,0,0,0,0,0,0,0,0,0,0,0,0,0,0,0,0,0,0.9174311926605505,0,4.545454545454546,0,0,0,0.8771929824561403,0,0,0,0,20.0,3.125,0,0,0,0,2.631578947368421,0,0]],[\"RRDP\",[0,0,0,0,0,0.5128205128205128,0,0,0,0,0,0.8130081300813009,0,0,1.0204081632653061,0,0,0,0,0,0,0,0,0,0,0,0,0,0,0,0,0,4.761904761904762,0,0,0,0,0]]]}}},\"view\":{\"type\":\"object\",\"name\":\"CDSView\",\"id\":\"p1360\",\"attributes\":{\"filter\":{\"type\":\"object\",\"name\":\"AllIndices\",\"id\":\"p1361\"}}},\"glyph\":{\"type\":\"object\",\"name\":\"HBar\",\"id\":\"p1356\",\"attributes\":{\"y\":{\"type\":\"field\",\"field\":\"term\"},\"left\":{\"type\":\"expr\",\"expr\":{\"type\":\"object\",\"name\":\"Stack\",\"id\":\"p1300\",\"attributes\":{\"fields\":[\"GOV\",\"SER\"]}}},\"right\":{\"type\":\"expr\",\"expr\":{\"type\":\"object\",\"name\":\"Stack\",\"id\":\"p1301\",\"attributes\":{\"fields\":[\"GOV\",\"SER\",\"LFI\"]}}},\"line_color\":{\"type\":\"value\",\"value\":\"#444\"},\"line_width\":{\"type\":\"value\",\"value\":0.9},\"fill_color\":{\"type\":\"value\",\"value\":\"#c0392b\"},\"hatch_color\":{\"type\":\"value\",\"value\":\"#c0392b\"}}},\"nonselection_glyph\":{\"type\":\"object\",\"name\":\"HBar\",\"id\":\"p1357\",\"attributes\":{\"y\":{\"type\":\"field\",\"field\":\"term\"},\"left\":{\"type\":\"expr\",\"expr\":{\"id\":\"p1300\"}},\"right\":{\"type\":\"expr\",\"expr\":{\"id\":\"p1301\"}},\"line_color\":{\"type\":\"value\",\"value\":\"#444\"},\"line_alpha\":{\"type\":\"value\",\"value\":0.1},\"line_width\":{\"type\":\"value\",\"value\":0.9},\"fill_color\":{\"type\":\"value\",\"value\":\"#c0392b\"},\"fill_alpha\":{\"type\":\"value\",\"value\":0.1},\"hatch_color\":{\"type\":\"value\",\"value\":\"#c0392b\"},\"hatch_alpha\":{\"type\":\"value\",\"value\":0.1}}},\"muted_glyph\":{\"type\":\"object\",\"name\":\"HBar\",\"id\":\"p1358\",\"attributes\":{\"y\":{\"type\":\"field\",\"field\":\"term\"},\"left\":{\"type\":\"expr\",\"expr\":{\"id\":\"p1300\"}},\"right\":{\"type\":\"expr\",\"expr\":{\"id\":\"p1301\"}},\"line_color\":{\"type\":\"value\",\"value\":\"#444\"},\"line_alpha\":{\"type\":\"value\",\"value\":0.2},\"line_width\":{\"type\":\"value\",\"value\":0.9},\"fill_color\":{\"type\":\"value\",\"value\":\"#c0392b\"},\"fill_alpha\":{\"type\":\"value\",\"value\":0.2},\"hatch_color\":{\"type\":\"value\",\"value\":\"#c0392b\"},\"hatch_alpha\":{\"type\":\"value\",\"value\":0.2}}}}},{\"type\":\"object\",\"name\":\"GlyphRenderer\",\"id\":\"p1371\",\"attributes\":{\"name\":\"GDR\",\"data_source\":{\"type\":\"object\",\"name\":\"ColumnDataSource\",\"id\":\"p1362\",\"attributes\":{\"selected\":{\"type\":\"object\",\"name\":\"Selection\",\"id\":\"p1363\",\"attributes\":{\"indices\":[],\"line_indices\":[]}},\"selection_policy\":{\"type\":\"object\",\"name\":\"UnionRenderers\",\"id\":\"p1364\"},\"data\":{\"type\":\"map\",\"entries\":[[\"term\",[\"scrutin public\",\"majorit\\u00e9 absolu\",\"rapporteure g\\u00e9n\\u00e9ral\",\"s\\u00e9curit\\u00e9 social\",\"r\\u00e9gime sp\\u00e9cial\",\"index senior\",\"assurance vieilles\",\"mod\\u00e8le social\",\"r\\u00e9gime g\\u00e9n\\u00e9ral\",\"partenaire social\",\"article 10\",\"article 2\",\"cotisation social\",\"55 an\",\"index seniors\",\"carri\\u00e8re complet\",\"\\u00e2ge l\\u00e9gal\",\"finance public\",\"article 7\",\"64 an\",\"classe moyen\",\"article 100\",\"carri\\u00e8re long\",\"fonction public\",\"60 an\",\"organisation syndical\",\"carri\\u00e8re hach\\u00e9\",\"petit entreprise\",\"repr\\u00e9sentation national\",\"d\\u00e9bat d\\u00e9mocratique\",\"\\u00e9galit\\u00e9 salarial\",\"motion r\\u00e9f\\u00e9rendaire\",\"secteur priver\",\"salari\\u00e9 \\u00e2g\\u00e9\",\"justice social\",\"article 70\",\"service public\",\"dette public\"]],[\"GOV\",[88.04347826086956,100.0,50.0,19.10828025477707,7.718120805369128,9.230769230769232,30.23255813953488,50.0,14.285714285714285,30.555555555555557,10.869565217391305,7.317073170731707,10.606060606060606,14.000000000000002,7.142857142857142,20.0,5.660377358490567,16.666666666666664,4.587155963302752,3.5211267605633805,22.727272727272727,6.756756756756757,6.25,11.76470588235294,2.631578947368421,10.344827586206897,8.333333333333332,7.4074074074074066,4.878048780487805,40.0,6.25,10.0,9.523809523809524,3.7037037037037033,1.9607843137254901,2.631578947368421,2.0408163265306123,0]],[\"SER\",[0,0,0,1.2738853503184715,3.0201342281879198,1.5384615384615385,0,0,1.2987012987012987,2.7777777777777777,0,0,1.5151515151515151,0,2.0408163265306123,2.857142857142857,4.716981132075472,8.333333333333332,0.9174311926605505,4.225352112676056,0,0,1.5625,0,0.8771929824561403,3.4482758620689653,4.166666666666666,7.4074074074074066,4.878048780487805,0,0,5.0,4.761904761904762,0,1.9607843137254901,0,0,0]],[\"LFI\",[4.3478260869565215,0,4.545454545454546,25.477707006369428,26.51006711409396,21.025641025641026,25.581395348837212,4.166666666666666,23.376623376623375,5.555555555555555,31.521739130434785,21.138211382113823,42.42424242424242,24.0,23.46938775510204,28.57142857142857,25.471698113207548,8.333333333333332,20.18348623853211,38.732394366197184,22.727272727272727,33.78378378378378,35.9375,20.588235294117645,55.26315789473685,20.689655172413794,20.833333333333336,14.814814814814813,31.70731707317073,20.0,56.25,5.0,14.285714285714285,7.4074074074074066,33.33333333333333,34.21052631578947,44.89795918367347,0]],[\"GDR\",[2.1739130434782608,0,6.8181818181818175,7.643312101910828,9.731543624161073,4.102564102564102,6.976744186046512,0,12.987012987012985,0,4.3478260869565215,5.691056910569105,12.121212121212121,2.0,5.1020408163265305,8.571428571428571,2.8301886792452833,5.555555555555555,7.339449541284404,4.225352112676056,0,4.054054054054054,3.125,11.76470588235294,7.017543859649122,31.03448275862069,0,0,4.878048780487805,20.0,3.125,5.0,14.285714285714285,0,3.9215686274509802,5.263157894736842,14.285714285714285,16.666666666666664]],[\"ECO\",[0,0,4.545454545454546,3.1847133757961785,4.026845637583892,7.179487179487179,0,4.166666666666666,0,0,5.434782608695652,8.130081300813007,4.545454545454546,4.0,6.122448979591836,5.714285714285714,5.660377358490567,0,6.422018348623854,6.338028169014084,0,6.756756756756757,0,2.941176470588235,4.385964912280701,3.4482758620689653,4.166666666666666,0,2.4390243902439024,0,18.75,5.0,9.523809523809524,0,9.803921568627452,7.894736842105263,4.081632653061225,0]],[\"NI\",[0,0,0,1.910828025477707,1.342281879194631,2.051282051282051,4.651162790697675,8.333333333333332,1.2987012987012987,0,1.0869565217391304,3.2520325203252036,0,6.0,1.0204081632653061,2.857142857142857,5.660377358490567,5.555555555555555,2.7522935779816518,4.929577464788732,0,1.3513513513513513,0,8.823529411764707,3.508771929824561,0,0,0,4.878048780487805,0,0,20.0,0,3.7037037037037033,1.9607843137254901,2.631578947368421,4.081632653061225,50.0]],[\"UDI\",[0,0,4.545454545454546,4.45859872611465,4.3624161073825505,5.128205128205128,0,0,6.493506493506493,19.444444444444446,1.0869565217391304,4.0650406504065035,6.0606060606060606,12.0,7.142857142857142,0,1.8867924528301887,8.333333333333332,0.9174311926605505,0.7042253521126761,0,0,1.5625,14.705882352941178,5.263157894736842,6.896551724137931,12.5,7.4074074074074066,0,0,0,15.0,4.761904761904762,7.4074074074074066,3.9215686274509802,0,4.081632653061225,0]],[\"REN\",[0,0,3.4090909090909087,9.554140127388536,14.429530201342283,21.025641025641026,9.30232558139535,8.333333333333332,15.584415584415584,19.444444444444446,18.478260869565215,17.073170731707318,1.5151515151515151,4.0,18.367346938775512,5.714285714285714,12.264150943396226,8.333333333333332,22.018348623853214,9.15492957746479,9.090909090909092,17.56756756756757,12.5,8.823529411764707,6.140350877192982,10.344827586206897,16.666666666666664,14.814814814814813,2.4390243902439024,0,6.25,0,9.523809523809524,18.51851851851852,9.803921568627452,13.157894736842104,8.16326530612245,16.666666666666664]],[\"MODEM\",[2.1739130434782608,0,2.272727272727273,5.095541401273886,3.3557046979865772,2.051282051282051,6.976744186046512,4.166666666666666,6.493506493506493,8.333333333333332,3.260869565217391,3.2520325203252036,3.0303030303030303,2.0,0,2.857142857142857,1.8867924528301887,11.11111111111111,7.339449541284404,2.112676056338028,4.545454545454546,4.054054054054054,6.25,5.88235294117647,1.7543859649122806,3.4482758620689653,0,3.7037037037037033,2.4390243902439024,0,0,0,4.761904761904762,0,1.9607843137254901,10.526315789473683,2.0408163265306123,0]],[\"LIOT\",[0,0,0,1.910828025477707,0,3.076923076923077,2.3255813953488373,0,1.2987012987012987,0,0,2.4390243902439024,1.5151515151515151,2.0,5.1020408163265305,0,4.716981132075472,0,0.9174311926605505,2.8169014084507045,0,0,3.125,0,0,0,12.5,0,4.878048780487805,0,0,0,9.523809523809524,3.7037037037037033,3.9215686274509802,2.631578947368421,0,0]],[\"RN\",[0,0,5.681818181818182,4.45859872611465,6.375838926174497,4.102564102564102,0,4.166666666666666,1.2987012987012987,0,9.782608695652174,4.878048780487805,0,6.0,4.081632653061225,5.714285714285714,8.49056603773585,13.88888888888889,12.844036697247708,10.56338028169014,18.181818181818183,10.81081081081081,6.25,0,7.017543859649122,0,4.166666666666666,14.814814814814813,12.195121951219512,0,0,20.0,4.761904761904762,7.4074074074074066,3.9215686274509802,0,4.081632653061225,16.666666666666664]],[\"LR\",[2.1739130434782608,0,12.5,11.464968152866243,11.073825503355705,12.82051282051282,9.30232558139535,16.666666666666664,6.493506493506493,2.7777777777777777,9.782608695652174,16.260162601626014,9.090909090909092,18.0,14.285714285714285,17.142857142857142,9.433962264150944,5.555555555555555,8.256880733944955,6.338028169014084,9.090909090909092,9.45945945945946,20.3125,11.76470588235294,5.263157894736842,0,12.5,25.925925925925924,12.195121951219512,0,0,15.0,4.761904761904762,40.74074074074074,13.725490196078432,10.526315789473683,6.122448979591836,0]],[\"SOC\",[1.0869565217391304,0,5.681818181818182,4.45859872611465,8.053691275167784,6.153846153846154,4.651162790697675,0,9.090909090909092,11.11111111111111,4.3478260869565215,5.691056910569105,7.575757575757576,6.0,5.1020408163265305,0,11.320754716981133,8.333333333333332,4.587155963302752,6.338028169014084,9.090909090909092,5.405405405405405,3.125,2.941176470588235,0,10.344827586206897,4.166666666666666,3.7037037037037033,12.195121951219512,0,6.25,0,4.761904761904762,7.4074074074074066,9.803921568627452,7.894736842105263,6.122448979591836,0]],[\"HOR\",[0,0,0,0,0,0,0,0,0,0,0,0,0,0,0,0,0,0,0.9174311926605505,0,4.545454545454546,0,0,0,0.8771929824561403,0,0,0,0,20.0,3.125,0,0,0,0,2.631578947368421,0,0]],[\"RRDP\",[0,0,0,0,0,0.5128205128205128,0,0,0,0,0,0.8130081300813009,0,0,1.0204081632653061,0,0,0,0,0,0,0,0,0,0,0,0,0,0,0,0,0,4.761904761904762,0,0,0,0,0]]]}}},\"view\":{\"type\":\"object\",\"name\":\"CDSView\",\"id\":\"p1372\",\"attributes\":{\"filter\":{\"type\":\"object\",\"name\":\"AllIndices\",\"id\":\"p1373\"}}},\"glyph\":{\"type\":\"object\",\"name\":\"HBar\",\"id\":\"p1368\",\"attributes\":{\"y\":{\"type\":\"field\",\"field\":\"term\"},\"left\":{\"type\":\"expr\",\"expr\":{\"type\":\"object\",\"name\":\"Stack\",\"id\":\"p1302\",\"attributes\":{\"fields\":[\"GOV\",\"SER\",\"LFI\"]}}},\"right\":{\"type\":\"expr\",\"expr\":{\"type\":\"object\",\"name\":\"Stack\",\"id\":\"p1303\",\"attributes\":{\"fields\":[\"GOV\",\"SER\",\"LFI\",\"GDR\"]}}},\"line_color\":{\"type\":\"value\",\"value\":\"#444\"},\"line_width\":{\"type\":\"value\",\"value\":0.9},\"fill_color\":{\"type\":\"value\",\"value\":\"#EA2027\"},\"hatch_color\":{\"type\":\"value\",\"value\":\"#EA2027\"}}},\"nonselection_glyph\":{\"type\":\"object\",\"name\":\"HBar\",\"id\":\"p1369\",\"attributes\":{\"y\":{\"type\":\"field\",\"field\":\"term\"},\"left\":{\"type\":\"expr\",\"expr\":{\"id\":\"p1302\"}},\"right\":{\"type\":\"expr\",\"expr\":{\"id\":\"p1303\"}},\"line_color\":{\"type\":\"value\",\"value\":\"#444\"},\"line_alpha\":{\"type\":\"value\",\"value\":0.1},\"line_width\":{\"type\":\"value\",\"value\":0.9},\"fill_color\":{\"type\":\"value\",\"value\":\"#EA2027\"},\"fill_alpha\":{\"type\":\"value\",\"value\":0.1},\"hatch_color\":{\"type\":\"value\",\"value\":\"#EA2027\"},\"hatch_alpha\":{\"type\":\"value\",\"value\":0.1}}},\"muted_glyph\":{\"type\":\"object\",\"name\":\"HBar\",\"id\":\"p1370\",\"attributes\":{\"y\":{\"type\":\"field\",\"field\":\"term\"},\"left\":{\"type\":\"expr\",\"expr\":{\"id\":\"p1302\"}},\"right\":{\"type\":\"expr\",\"expr\":{\"id\":\"p1303\"}},\"line_color\":{\"type\":\"value\",\"value\":\"#444\"},\"line_alpha\":{\"type\":\"value\",\"value\":0.2},\"line_width\":{\"type\":\"value\",\"value\":0.9},\"fill_color\":{\"type\":\"value\",\"value\":\"#EA2027\"},\"fill_alpha\":{\"type\":\"value\",\"value\":0.2},\"hatch_color\":{\"type\":\"value\",\"value\":\"#EA2027\"},\"hatch_alpha\":{\"type\":\"value\",\"value\":0.2}}}}},{\"type\":\"object\",\"name\":\"GlyphRenderer\",\"id\":\"p1383\",\"attributes\":{\"name\":\"ECO\",\"data_source\":{\"type\":\"object\",\"name\":\"ColumnDataSource\",\"id\":\"p1374\",\"attributes\":{\"selected\":{\"type\":\"object\",\"name\":\"Selection\",\"id\":\"p1375\",\"attributes\":{\"indices\":[],\"line_indices\":[]}},\"selection_policy\":{\"type\":\"object\",\"name\":\"UnionRenderers\",\"id\":\"p1376\"},\"data\":{\"type\":\"map\",\"entries\":[[\"term\",[\"scrutin public\",\"majorit\\u00e9 absolu\",\"rapporteure g\\u00e9n\\u00e9ral\",\"s\\u00e9curit\\u00e9 social\",\"r\\u00e9gime sp\\u00e9cial\",\"index senior\",\"assurance vieilles\",\"mod\\u00e8le social\",\"r\\u00e9gime g\\u00e9n\\u00e9ral\",\"partenaire social\",\"article 10\",\"article 2\",\"cotisation social\",\"55 an\",\"index seniors\",\"carri\\u00e8re complet\",\"\\u00e2ge l\\u00e9gal\",\"finance public\",\"article 7\",\"64 an\",\"classe moyen\",\"article 100\",\"carri\\u00e8re long\",\"fonction public\",\"60 an\",\"organisation syndical\",\"carri\\u00e8re hach\\u00e9\",\"petit entreprise\",\"repr\\u00e9sentation national\",\"d\\u00e9bat d\\u00e9mocratique\",\"\\u00e9galit\\u00e9 salarial\",\"motion r\\u00e9f\\u00e9rendaire\",\"secteur priver\",\"salari\\u00e9 \\u00e2g\\u00e9\",\"justice social\",\"article 70\",\"service public\",\"dette public\"]],[\"GOV\",[88.04347826086956,100.0,50.0,19.10828025477707,7.718120805369128,9.230769230769232,30.23255813953488,50.0,14.285714285714285,30.555555555555557,10.869565217391305,7.317073170731707,10.606060606060606,14.000000000000002,7.142857142857142,20.0,5.660377358490567,16.666666666666664,4.587155963302752,3.5211267605633805,22.727272727272727,6.756756756756757,6.25,11.76470588235294,2.631578947368421,10.344827586206897,8.333333333333332,7.4074074074074066,4.878048780487805,40.0,6.25,10.0,9.523809523809524,3.7037037037037033,1.9607843137254901,2.631578947368421,2.0408163265306123,0]],[\"SER\",[0,0,0,1.2738853503184715,3.0201342281879198,1.5384615384615385,0,0,1.2987012987012987,2.7777777777777777,0,0,1.5151515151515151,0,2.0408163265306123,2.857142857142857,4.716981132075472,8.333333333333332,0.9174311926605505,4.225352112676056,0,0,1.5625,0,0.8771929824561403,3.4482758620689653,4.166666666666666,7.4074074074074066,4.878048780487805,0,0,5.0,4.761904761904762,0,1.9607843137254901,0,0,0]],[\"LFI\",[4.3478260869565215,0,4.545454545454546,25.477707006369428,26.51006711409396,21.025641025641026,25.581395348837212,4.166666666666666,23.376623376623375,5.555555555555555,31.521739130434785,21.138211382113823,42.42424242424242,24.0,23.46938775510204,28.57142857142857,25.471698113207548,8.333333333333332,20.18348623853211,38.732394366197184,22.727272727272727,33.78378378378378,35.9375,20.588235294117645,55.26315789473685,20.689655172413794,20.833333333333336,14.814814814814813,31.70731707317073,20.0,56.25,5.0,14.285714285714285,7.4074074074074066,33.33333333333333,34.21052631578947,44.89795918367347,0]],[\"GDR\",[2.1739130434782608,0,6.8181818181818175,7.643312101910828,9.731543624161073,4.102564102564102,6.976744186046512,0,12.987012987012985,0,4.3478260869565215,5.691056910569105,12.121212121212121,2.0,5.1020408163265305,8.571428571428571,2.8301886792452833,5.555555555555555,7.339449541284404,4.225352112676056,0,4.054054054054054,3.125,11.76470588235294,7.017543859649122,31.03448275862069,0,0,4.878048780487805,20.0,3.125,5.0,14.285714285714285,0,3.9215686274509802,5.263157894736842,14.285714285714285,16.666666666666664]],[\"ECO\",[0,0,4.545454545454546,3.1847133757961785,4.026845637583892,7.179487179487179,0,4.166666666666666,0,0,5.434782608695652,8.130081300813007,4.545454545454546,4.0,6.122448979591836,5.714285714285714,5.660377358490567,0,6.422018348623854,6.338028169014084,0,6.756756756756757,0,2.941176470588235,4.385964912280701,3.4482758620689653,4.166666666666666,0,2.4390243902439024,0,18.75,5.0,9.523809523809524,0,9.803921568627452,7.894736842105263,4.081632653061225,0]],[\"NI\",[0,0,0,1.910828025477707,1.342281879194631,2.051282051282051,4.651162790697675,8.333333333333332,1.2987012987012987,0,1.0869565217391304,3.2520325203252036,0,6.0,1.0204081632653061,2.857142857142857,5.660377358490567,5.555555555555555,2.7522935779816518,4.929577464788732,0,1.3513513513513513,0,8.823529411764707,3.508771929824561,0,0,0,4.878048780487805,0,0,20.0,0,3.7037037037037033,1.9607843137254901,2.631578947368421,4.081632653061225,50.0]],[\"UDI\",[0,0,4.545454545454546,4.45859872611465,4.3624161073825505,5.128205128205128,0,0,6.493506493506493,19.444444444444446,1.0869565217391304,4.0650406504065035,6.0606060606060606,12.0,7.142857142857142,0,1.8867924528301887,8.333333333333332,0.9174311926605505,0.7042253521126761,0,0,1.5625,14.705882352941178,5.263157894736842,6.896551724137931,12.5,7.4074074074074066,0,0,0,15.0,4.761904761904762,7.4074074074074066,3.9215686274509802,0,4.081632653061225,0]],[\"REN\",[0,0,3.4090909090909087,9.554140127388536,14.429530201342283,21.025641025641026,9.30232558139535,8.333333333333332,15.584415584415584,19.444444444444446,18.478260869565215,17.073170731707318,1.5151515151515151,4.0,18.367346938775512,5.714285714285714,12.264150943396226,8.333333333333332,22.018348623853214,9.15492957746479,9.090909090909092,17.56756756756757,12.5,8.823529411764707,6.140350877192982,10.344827586206897,16.666666666666664,14.814814814814813,2.4390243902439024,0,6.25,0,9.523809523809524,18.51851851851852,9.803921568627452,13.157894736842104,8.16326530612245,16.666666666666664]],[\"MODEM\",[2.1739130434782608,0,2.272727272727273,5.095541401273886,3.3557046979865772,2.051282051282051,6.976744186046512,4.166666666666666,6.493506493506493,8.333333333333332,3.260869565217391,3.2520325203252036,3.0303030303030303,2.0,0,2.857142857142857,1.8867924528301887,11.11111111111111,7.339449541284404,2.112676056338028,4.545454545454546,4.054054054054054,6.25,5.88235294117647,1.7543859649122806,3.4482758620689653,0,3.7037037037037033,2.4390243902439024,0,0,0,4.761904761904762,0,1.9607843137254901,10.526315789473683,2.0408163265306123,0]],[\"LIOT\",[0,0,0,1.910828025477707,0,3.076923076923077,2.3255813953488373,0,1.2987012987012987,0,0,2.4390243902439024,1.5151515151515151,2.0,5.1020408163265305,0,4.716981132075472,0,0.9174311926605505,2.8169014084507045,0,0,3.125,0,0,0,12.5,0,4.878048780487805,0,0,0,9.523809523809524,3.7037037037037033,3.9215686274509802,2.631578947368421,0,0]],[\"RN\",[0,0,5.681818181818182,4.45859872611465,6.375838926174497,4.102564102564102,0,4.166666666666666,1.2987012987012987,0,9.782608695652174,4.878048780487805,0,6.0,4.081632653061225,5.714285714285714,8.49056603773585,13.88888888888889,12.844036697247708,10.56338028169014,18.181818181818183,10.81081081081081,6.25,0,7.017543859649122,0,4.166666666666666,14.814814814814813,12.195121951219512,0,0,20.0,4.761904761904762,7.4074074074074066,3.9215686274509802,0,4.081632653061225,16.666666666666664]],[\"LR\",[2.1739130434782608,0,12.5,11.464968152866243,11.073825503355705,12.82051282051282,9.30232558139535,16.666666666666664,6.493506493506493,2.7777777777777777,9.782608695652174,16.260162601626014,9.090909090909092,18.0,14.285714285714285,17.142857142857142,9.433962264150944,5.555555555555555,8.256880733944955,6.338028169014084,9.090909090909092,9.45945945945946,20.3125,11.76470588235294,5.263157894736842,0,12.5,25.925925925925924,12.195121951219512,0,0,15.0,4.761904761904762,40.74074074074074,13.725490196078432,10.526315789473683,6.122448979591836,0]],[\"SOC\",[1.0869565217391304,0,5.681818181818182,4.45859872611465,8.053691275167784,6.153846153846154,4.651162790697675,0,9.090909090909092,11.11111111111111,4.3478260869565215,5.691056910569105,7.575757575757576,6.0,5.1020408163265305,0,11.320754716981133,8.333333333333332,4.587155963302752,6.338028169014084,9.090909090909092,5.405405405405405,3.125,2.941176470588235,0,10.344827586206897,4.166666666666666,3.7037037037037033,12.195121951219512,0,6.25,0,4.761904761904762,7.4074074074074066,9.803921568627452,7.894736842105263,6.122448979591836,0]],[\"HOR\",[0,0,0,0,0,0,0,0,0,0,0,0,0,0,0,0,0,0,0.9174311926605505,0,4.545454545454546,0,0,0,0.8771929824561403,0,0,0,0,20.0,3.125,0,0,0,0,2.631578947368421,0,0]],[\"RRDP\",[0,0,0,0,0,0.5128205128205128,0,0,0,0,0,0.8130081300813009,0,0,1.0204081632653061,0,0,0,0,0,0,0,0,0,0,0,0,0,0,0,0,0,4.761904761904762,0,0,0,0,0]]]}}},\"view\":{\"type\":\"object\",\"name\":\"CDSView\",\"id\":\"p1384\",\"attributes\":{\"filter\":{\"type\":\"object\",\"name\":\"AllIndices\",\"id\":\"p1385\"}}},\"glyph\":{\"type\":\"object\",\"name\":\"HBar\",\"id\":\"p1380\",\"attributes\":{\"y\":{\"type\":\"field\",\"field\":\"term\"},\"left\":{\"type\":\"expr\",\"expr\":{\"type\":\"object\",\"name\":\"Stack\",\"id\":\"p1304\",\"attributes\":{\"fields\":[\"GOV\",\"SER\",\"LFI\",\"GDR\"]}}},\"right\":{\"type\":\"expr\",\"expr\":{\"type\":\"object\",\"name\":\"Stack\",\"id\":\"p1305\",\"attributes\":{\"fields\":[\"GOV\",\"SER\",\"LFI\",\"GDR\",\"ECO\"]}}},\"line_color\":{\"type\":\"value\",\"value\":\"#444\"},\"line_width\":{\"type\":\"value\",\"value\":0.9},\"fill_color\":{\"type\":\"value\",\"value\":\"#009432\"},\"hatch_color\":{\"type\":\"value\",\"value\":\"#009432\"}}},\"nonselection_glyph\":{\"type\":\"object\",\"name\":\"HBar\",\"id\":\"p1381\",\"attributes\":{\"y\":{\"type\":\"field\",\"field\":\"term\"},\"left\":{\"type\":\"expr\",\"expr\":{\"id\":\"p1304\"}},\"right\":{\"type\":\"expr\",\"expr\":{\"id\":\"p1305\"}},\"line_color\":{\"type\":\"value\",\"value\":\"#444\"},\"line_alpha\":{\"type\":\"value\",\"value\":0.1},\"line_width\":{\"type\":\"value\",\"value\":0.9},\"fill_color\":{\"type\":\"value\",\"value\":\"#009432\"},\"fill_alpha\":{\"type\":\"value\",\"value\":0.1},\"hatch_color\":{\"type\":\"value\",\"value\":\"#009432\"},\"hatch_alpha\":{\"type\":\"value\",\"value\":0.1}}},\"muted_glyph\":{\"type\":\"object\",\"name\":\"HBar\",\"id\":\"p1382\",\"attributes\":{\"y\":{\"type\":\"field\",\"field\":\"term\"},\"left\":{\"type\":\"expr\",\"expr\":{\"id\":\"p1304\"}},\"right\":{\"type\":\"expr\",\"expr\":{\"id\":\"p1305\"}},\"line_color\":{\"type\":\"value\",\"value\":\"#444\"},\"line_alpha\":{\"type\":\"value\",\"value\":0.2},\"line_width\":{\"type\":\"value\",\"value\":0.9},\"fill_color\":{\"type\":\"value\",\"value\":\"#009432\"},\"fill_alpha\":{\"type\":\"value\",\"value\":0.2},\"hatch_color\":{\"type\":\"value\",\"value\":\"#009432\"},\"hatch_alpha\":{\"type\":\"value\",\"value\":0.2}}}}},{\"type\":\"object\",\"name\":\"GlyphRenderer\",\"id\":\"p1395\",\"attributes\":{\"name\":\"NI\",\"data_source\":{\"type\":\"object\",\"name\":\"ColumnDataSource\",\"id\":\"p1386\",\"attributes\":{\"selected\":{\"type\":\"object\",\"name\":\"Selection\",\"id\":\"p1387\",\"attributes\":{\"indices\":[],\"line_indices\":[]}},\"selection_policy\":{\"type\":\"object\",\"name\":\"UnionRenderers\",\"id\":\"p1388\"},\"data\":{\"type\":\"map\",\"entries\":[[\"term\",[\"scrutin public\",\"majorit\\u00e9 absolu\",\"rapporteure g\\u00e9n\\u00e9ral\",\"s\\u00e9curit\\u00e9 social\",\"r\\u00e9gime sp\\u00e9cial\",\"index senior\",\"assurance vieilles\",\"mod\\u00e8le social\",\"r\\u00e9gime g\\u00e9n\\u00e9ral\",\"partenaire social\",\"article 10\",\"article 2\",\"cotisation social\",\"55 an\",\"index seniors\",\"carri\\u00e8re complet\",\"\\u00e2ge l\\u00e9gal\",\"finance public\",\"article 7\",\"64 an\",\"classe moyen\",\"article 100\",\"carri\\u00e8re long\",\"fonction public\",\"60 an\",\"organisation syndical\",\"carri\\u00e8re hach\\u00e9\",\"petit entreprise\",\"repr\\u00e9sentation national\",\"d\\u00e9bat d\\u00e9mocratique\",\"\\u00e9galit\\u00e9 salarial\",\"motion r\\u00e9f\\u00e9rendaire\",\"secteur priver\",\"salari\\u00e9 \\u00e2g\\u00e9\",\"justice social\",\"article 70\",\"service public\",\"dette public\"]],[\"GOV\",[88.04347826086956,100.0,50.0,19.10828025477707,7.718120805369128,9.230769230769232,30.23255813953488,50.0,14.285714285714285,30.555555555555557,10.869565217391305,7.317073170731707,10.606060606060606,14.000000000000002,7.142857142857142,20.0,5.660377358490567,16.666666666666664,4.587155963302752,3.5211267605633805,22.727272727272727,6.756756756756757,6.25,11.76470588235294,2.631578947368421,10.344827586206897,8.333333333333332,7.4074074074074066,4.878048780487805,40.0,6.25,10.0,9.523809523809524,3.7037037037037033,1.9607843137254901,2.631578947368421,2.0408163265306123,0]],[\"SER\",[0,0,0,1.2738853503184715,3.0201342281879198,1.5384615384615385,0,0,1.2987012987012987,2.7777777777777777,0,0,1.5151515151515151,0,2.0408163265306123,2.857142857142857,4.716981132075472,8.333333333333332,0.9174311926605505,4.225352112676056,0,0,1.5625,0,0.8771929824561403,3.4482758620689653,4.166666666666666,7.4074074074074066,4.878048780487805,0,0,5.0,4.761904761904762,0,1.9607843137254901,0,0,0]],[\"LFI\",[4.3478260869565215,0,4.545454545454546,25.477707006369428,26.51006711409396,21.025641025641026,25.581395348837212,4.166666666666666,23.376623376623375,5.555555555555555,31.521739130434785,21.138211382113823,42.42424242424242,24.0,23.46938775510204,28.57142857142857,25.471698113207548,8.333333333333332,20.18348623853211,38.732394366197184,22.727272727272727,33.78378378378378,35.9375,20.588235294117645,55.26315789473685,20.689655172413794,20.833333333333336,14.814814814814813,31.70731707317073,20.0,56.25,5.0,14.285714285714285,7.4074074074074066,33.33333333333333,34.21052631578947,44.89795918367347,0]],[\"GDR\",[2.1739130434782608,0,6.8181818181818175,7.643312101910828,9.731543624161073,4.102564102564102,6.976744186046512,0,12.987012987012985,0,4.3478260869565215,5.691056910569105,12.121212121212121,2.0,5.1020408163265305,8.571428571428571,2.8301886792452833,5.555555555555555,7.339449541284404,4.225352112676056,0,4.054054054054054,3.125,11.76470588235294,7.017543859649122,31.03448275862069,0,0,4.878048780487805,20.0,3.125,5.0,14.285714285714285,0,3.9215686274509802,5.263157894736842,14.285714285714285,16.666666666666664]],[\"ECO\",[0,0,4.545454545454546,3.1847133757961785,4.026845637583892,7.179487179487179,0,4.166666666666666,0,0,5.434782608695652,8.130081300813007,4.545454545454546,4.0,6.122448979591836,5.714285714285714,5.660377358490567,0,6.422018348623854,6.338028169014084,0,6.756756756756757,0,2.941176470588235,4.385964912280701,3.4482758620689653,4.166666666666666,0,2.4390243902439024,0,18.75,5.0,9.523809523809524,0,9.803921568627452,7.894736842105263,4.081632653061225,0]],[\"NI\",[0,0,0,1.910828025477707,1.342281879194631,2.051282051282051,4.651162790697675,8.333333333333332,1.2987012987012987,0,1.0869565217391304,3.2520325203252036,0,6.0,1.0204081632653061,2.857142857142857,5.660377358490567,5.555555555555555,2.7522935779816518,4.929577464788732,0,1.3513513513513513,0,8.823529411764707,3.508771929824561,0,0,0,4.878048780487805,0,0,20.0,0,3.7037037037037033,1.9607843137254901,2.631578947368421,4.081632653061225,50.0]],[\"UDI\",[0,0,4.545454545454546,4.45859872611465,4.3624161073825505,5.128205128205128,0,0,6.493506493506493,19.444444444444446,1.0869565217391304,4.0650406504065035,6.0606060606060606,12.0,7.142857142857142,0,1.8867924528301887,8.333333333333332,0.9174311926605505,0.7042253521126761,0,0,1.5625,14.705882352941178,5.263157894736842,6.896551724137931,12.5,7.4074074074074066,0,0,0,15.0,4.761904761904762,7.4074074074074066,3.9215686274509802,0,4.081632653061225,0]],[\"REN\",[0,0,3.4090909090909087,9.554140127388536,14.429530201342283,21.025641025641026,9.30232558139535,8.333333333333332,15.584415584415584,19.444444444444446,18.478260869565215,17.073170731707318,1.5151515151515151,4.0,18.367346938775512,5.714285714285714,12.264150943396226,8.333333333333332,22.018348623853214,9.15492957746479,9.090909090909092,17.56756756756757,12.5,8.823529411764707,6.140350877192982,10.344827586206897,16.666666666666664,14.814814814814813,2.4390243902439024,0,6.25,0,9.523809523809524,18.51851851851852,9.803921568627452,13.157894736842104,8.16326530612245,16.666666666666664]],[\"MODEM\",[2.1739130434782608,0,2.272727272727273,5.095541401273886,3.3557046979865772,2.051282051282051,6.976744186046512,4.166666666666666,6.493506493506493,8.333333333333332,3.260869565217391,3.2520325203252036,3.0303030303030303,2.0,0,2.857142857142857,1.8867924528301887,11.11111111111111,7.339449541284404,2.112676056338028,4.545454545454546,4.054054054054054,6.25,5.88235294117647,1.7543859649122806,3.4482758620689653,0,3.7037037037037033,2.4390243902439024,0,0,0,4.761904761904762,0,1.9607843137254901,10.526315789473683,2.0408163265306123,0]],[\"LIOT\",[0,0,0,1.910828025477707,0,3.076923076923077,2.3255813953488373,0,1.2987012987012987,0,0,2.4390243902439024,1.5151515151515151,2.0,5.1020408163265305,0,4.716981132075472,0,0.9174311926605505,2.8169014084507045,0,0,3.125,0,0,0,12.5,0,4.878048780487805,0,0,0,9.523809523809524,3.7037037037037033,3.9215686274509802,2.631578947368421,0,0]],[\"RN\",[0,0,5.681818181818182,4.45859872611465,6.375838926174497,4.102564102564102,0,4.166666666666666,1.2987012987012987,0,9.782608695652174,4.878048780487805,0,6.0,4.081632653061225,5.714285714285714,8.49056603773585,13.88888888888889,12.844036697247708,10.56338028169014,18.181818181818183,10.81081081081081,6.25,0,7.017543859649122,0,4.166666666666666,14.814814814814813,12.195121951219512,0,0,20.0,4.761904761904762,7.4074074074074066,3.9215686274509802,0,4.081632653061225,16.666666666666664]],[\"LR\",[2.1739130434782608,0,12.5,11.464968152866243,11.073825503355705,12.82051282051282,9.30232558139535,16.666666666666664,6.493506493506493,2.7777777777777777,9.782608695652174,16.260162601626014,9.090909090909092,18.0,14.285714285714285,17.142857142857142,9.433962264150944,5.555555555555555,8.256880733944955,6.338028169014084,9.090909090909092,9.45945945945946,20.3125,11.76470588235294,5.263157894736842,0,12.5,25.925925925925924,12.195121951219512,0,0,15.0,4.761904761904762,40.74074074074074,13.725490196078432,10.526315789473683,6.122448979591836,0]],[\"SOC\",[1.0869565217391304,0,5.681818181818182,4.45859872611465,8.053691275167784,6.153846153846154,4.651162790697675,0,9.090909090909092,11.11111111111111,4.3478260869565215,5.691056910569105,7.575757575757576,6.0,5.1020408163265305,0,11.320754716981133,8.333333333333332,4.587155963302752,6.338028169014084,9.090909090909092,5.405405405405405,3.125,2.941176470588235,0,10.344827586206897,4.166666666666666,3.7037037037037033,12.195121951219512,0,6.25,0,4.761904761904762,7.4074074074074066,9.803921568627452,7.894736842105263,6.122448979591836,0]],[\"HOR\",[0,0,0,0,0,0,0,0,0,0,0,0,0,0,0,0,0,0,0.9174311926605505,0,4.545454545454546,0,0,0,0.8771929824561403,0,0,0,0,20.0,3.125,0,0,0,0,2.631578947368421,0,0]],[\"RRDP\",[0,0,0,0,0,0.5128205128205128,0,0,0,0,0,0.8130081300813009,0,0,1.0204081632653061,0,0,0,0,0,0,0,0,0,0,0,0,0,0,0,0,0,4.761904761904762,0,0,0,0,0]]]}}},\"view\":{\"type\":\"object\",\"name\":\"CDSView\",\"id\":\"p1396\",\"attributes\":{\"filter\":{\"type\":\"object\",\"name\":\"AllIndices\",\"id\":\"p1397\"}}},\"glyph\":{\"type\":\"object\",\"name\":\"HBar\",\"id\":\"p1392\",\"attributes\":{\"y\":{\"type\":\"field\",\"field\":\"term\"},\"left\":{\"type\":\"expr\",\"expr\":{\"type\":\"object\",\"name\":\"Stack\",\"id\":\"p1306\",\"attributes\":{\"fields\":[\"GOV\",\"SER\",\"LFI\",\"GDR\",\"ECO\"]}}},\"right\":{\"type\":\"expr\",\"expr\":{\"type\":\"object\",\"name\":\"Stack\",\"id\":\"p1307\",\"attributes\":{\"fields\":[\"GOV\",\"SER\",\"LFI\",\"GDR\",\"ECO\",\"NI\"]}}},\"line_color\":{\"type\":\"value\",\"value\":\"#444\"},\"line_width\":{\"type\":\"value\",\"value\":0.9},\"fill_color\":{\"type\":\"value\",\"value\":\"#95a5a6\"},\"hatch_color\":{\"type\":\"value\",\"value\":\"#95a5a6\"}}},\"nonselection_glyph\":{\"type\":\"object\",\"name\":\"HBar\",\"id\":\"p1393\",\"attributes\":{\"y\":{\"type\":\"field\",\"field\":\"term\"},\"left\":{\"type\":\"expr\",\"expr\":{\"id\":\"p1306\"}},\"right\":{\"type\":\"expr\",\"expr\":{\"id\":\"p1307\"}},\"line_color\":{\"type\":\"value\",\"value\":\"#444\"},\"line_alpha\":{\"type\":\"value\",\"value\":0.1},\"line_width\":{\"type\":\"value\",\"value\":0.9},\"fill_color\":{\"type\":\"value\",\"value\":\"#95a5a6\"},\"fill_alpha\":{\"type\":\"value\",\"value\":0.1},\"hatch_color\":{\"type\":\"value\",\"value\":\"#95a5a6\"},\"hatch_alpha\":{\"type\":\"value\",\"value\":0.1}}},\"muted_glyph\":{\"type\":\"object\",\"name\":\"HBar\",\"id\":\"p1394\",\"attributes\":{\"y\":{\"type\":\"field\",\"field\":\"term\"},\"left\":{\"type\":\"expr\",\"expr\":{\"id\":\"p1306\"}},\"right\":{\"type\":\"expr\",\"expr\":{\"id\":\"p1307\"}},\"line_color\":{\"type\":\"value\",\"value\":\"#444\"},\"line_alpha\":{\"type\":\"value\",\"value\":0.2},\"line_width\":{\"type\":\"value\",\"value\":0.9},\"fill_color\":{\"type\":\"value\",\"value\":\"#95a5a6\"},\"fill_alpha\":{\"type\":\"value\",\"value\":0.2},\"hatch_color\":{\"type\":\"value\",\"value\":\"#95a5a6\"},\"hatch_alpha\":{\"type\":\"value\",\"value\":0.2}}}}},{\"type\":\"object\",\"name\":\"GlyphRenderer\",\"id\":\"p1407\",\"attributes\":{\"name\":\"UDI\",\"data_source\":{\"type\":\"object\",\"name\":\"ColumnDataSource\",\"id\":\"p1398\",\"attributes\":{\"selected\":{\"type\":\"object\",\"name\":\"Selection\",\"id\":\"p1399\",\"attributes\":{\"indices\":[],\"line_indices\":[]}},\"selection_policy\":{\"type\":\"object\",\"name\":\"UnionRenderers\",\"id\":\"p1400\"},\"data\":{\"type\":\"map\",\"entries\":[[\"term\",[\"scrutin public\",\"majorit\\u00e9 absolu\",\"rapporteure g\\u00e9n\\u00e9ral\",\"s\\u00e9curit\\u00e9 social\",\"r\\u00e9gime sp\\u00e9cial\",\"index senior\",\"assurance vieilles\",\"mod\\u00e8le social\",\"r\\u00e9gime g\\u00e9n\\u00e9ral\",\"partenaire social\",\"article 10\",\"article 2\",\"cotisation social\",\"55 an\",\"index seniors\",\"carri\\u00e8re complet\",\"\\u00e2ge l\\u00e9gal\",\"finance public\",\"article 7\",\"64 an\",\"classe moyen\",\"article 100\",\"carri\\u00e8re long\",\"fonction public\",\"60 an\",\"organisation syndical\",\"carri\\u00e8re hach\\u00e9\",\"petit entreprise\",\"repr\\u00e9sentation national\",\"d\\u00e9bat d\\u00e9mocratique\",\"\\u00e9galit\\u00e9 salarial\",\"motion r\\u00e9f\\u00e9rendaire\",\"secteur priver\",\"salari\\u00e9 \\u00e2g\\u00e9\",\"justice social\",\"article 70\",\"service public\",\"dette public\"]],[\"GOV\",[88.04347826086956,100.0,50.0,19.10828025477707,7.718120805369128,9.230769230769232,30.23255813953488,50.0,14.285714285714285,30.555555555555557,10.869565217391305,7.317073170731707,10.606060606060606,14.000000000000002,7.142857142857142,20.0,5.660377358490567,16.666666666666664,4.587155963302752,3.5211267605633805,22.727272727272727,6.756756756756757,6.25,11.76470588235294,2.631578947368421,10.344827586206897,8.333333333333332,7.4074074074074066,4.878048780487805,40.0,6.25,10.0,9.523809523809524,3.7037037037037033,1.9607843137254901,2.631578947368421,2.0408163265306123,0]],[\"SER\",[0,0,0,1.2738853503184715,3.0201342281879198,1.5384615384615385,0,0,1.2987012987012987,2.7777777777777777,0,0,1.5151515151515151,0,2.0408163265306123,2.857142857142857,4.716981132075472,8.333333333333332,0.9174311926605505,4.225352112676056,0,0,1.5625,0,0.8771929824561403,3.4482758620689653,4.166666666666666,7.4074074074074066,4.878048780487805,0,0,5.0,4.761904761904762,0,1.9607843137254901,0,0,0]],[\"LFI\",[4.3478260869565215,0,4.545454545454546,25.477707006369428,26.51006711409396,21.025641025641026,25.581395348837212,4.166666666666666,23.376623376623375,5.555555555555555,31.521739130434785,21.138211382113823,42.42424242424242,24.0,23.46938775510204,28.57142857142857,25.471698113207548,8.333333333333332,20.18348623853211,38.732394366197184,22.727272727272727,33.78378378378378,35.9375,20.588235294117645,55.26315789473685,20.689655172413794,20.833333333333336,14.814814814814813,31.70731707317073,20.0,56.25,5.0,14.285714285714285,7.4074074074074066,33.33333333333333,34.21052631578947,44.89795918367347,0]],[\"GDR\",[2.1739130434782608,0,6.8181818181818175,7.643312101910828,9.731543624161073,4.102564102564102,6.976744186046512,0,12.987012987012985,0,4.3478260869565215,5.691056910569105,12.121212121212121,2.0,5.1020408163265305,8.571428571428571,2.8301886792452833,5.555555555555555,7.339449541284404,4.225352112676056,0,4.054054054054054,3.125,11.76470588235294,7.017543859649122,31.03448275862069,0,0,4.878048780487805,20.0,3.125,5.0,14.285714285714285,0,3.9215686274509802,5.263157894736842,14.285714285714285,16.666666666666664]],[\"ECO\",[0,0,4.545454545454546,3.1847133757961785,4.026845637583892,7.179487179487179,0,4.166666666666666,0,0,5.434782608695652,8.130081300813007,4.545454545454546,4.0,6.122448979591836,5.714285714285714,5.660377358490567,0,6.422018348623854,6.338028169014084,0,6.756756756756757,0,2.941176470588235,4.385964912280701,3.4482758620689653,4.166666666666666,0,2.4390243902439024,0,18.75,5.0,9.523809523809524,0,9.803921568627452,7.894736842105263,4.081632653061225,0]],[\"NI\",[0,0,0,1.910828025477707,1.342281879194631,2.051282051282051,4.651162790697675,8.333333333333332,1.2987012987012987,0,1.0869565217391304,3.2520325203252036,0,6.0,1.0204081632653061,2.857142857142857,5.660377358490567,5.555555555555555,2.7522935779816518,4.929577464788732,0,1.3513513513513513,0,8.823529411764707,3.508771929824561,0,0,0,4.878048780487805,0,0,20.0,0,3.7037037037037033,1.9607843137254901,2.631578947368421,4.081632653061225,50.0]],[\"UDI\",[0,0,4.545454545454546,4.45859872611465,4.3624161073825505,5.128205128205128,0,0,6.493506493506493,19.444444444444446,1.0869565217391304,4.0650406504065035,6.0606060606060606,12.0,7.142857142857142,0,1.8867924528301887,8.333333333333332,0.9174311926605505,0.7042253521126761,0,0,1.5625,14.705882352941178,5.263157894736842,6.896551724137931,12.5,7.4074074074074066,0,0,0,15.0,4.761904761904762,7.4074074074074066,3.9215686274509802,0,4.081632653061225,0]],[\"REN\",[0,0,3.4090909090909087,9.554140127388536,14.429530201342283,21.025641025641026,9.30232558139535,8.333333333333332,15.584415584415584,19.444444444444446,18.478260869565215,17.073170731707318,1.5151515151515151,4.0,18.367346938775512,5.714285714285714,12.264150943396226,8.333333333333332,22.018348623853214,9.15492957746479,9.090909090909092,17.56756756756757,12.5,8.823529411764707,6.140350877192982,10.344827586206897,16.666666666666664,14.814814814814813,2.4390243902439024,0,6.25,0,9.523809523809524,18.51851851851852,9.803921568627452,13.157894736842104,8.16326530612245,16.666666666666664]],[\"MODEM\",[2.1739130434782608,0,2.272727272727273,5.095541401273886,3.3557046979865772,2.051282051282051,6.976744186046512,4.166666666666666,6.493506493506493,8.333333333333332,3.260869565217391,3.2520325203252036,3.0303030303030303,2.0,0,2.857142857142857,1.8867924528301887,11.11111111111111,7.339449541284404,2.112676056338028,4.545454545454546,4.054054054054054,6.25,5.88235294117647,1.7543859649122806,3.4482758620689653,0,3.7037037037037033,2.4390243902439024,0,0,0,4.761904761904762,0,1.9607843137254901,10.526315789473683,2.0408163265306123,0]],[\"LIOT\",[0,0,0,1.910828025477707,0,3.076923076923077,2.3255813953488373,0,1.2987012987012987,0,0,2.4390243902439024,1.5151515151515151,2.0,5.1020408163265305,0,4.716981132075472,0,0.9174311926605505,2.8169014084507045,0,0,3.125,0,0,0,12.5,0,4.878048780487805,0,0,0,9.523809523809524,3.7037037037037033,3.9215686274509802,2.631578947368421,0,0]],[\"RN\",[0,0,5.681818181818182,4.45859872611465,6.375838926174497,4.102564102564102,0,4.166666666666666,1.2987012987012987,0,9.782608695652174,4.878048780487805,0,6.0,4.081632653061225,5.714285714285714,8.49056603773585,13.88888888888889,12.844036697247708,10.56338028169014,18.181818181818183,10.81081081081081,6.25,0,7.017543859649122,0,4.166666666666666,14.814814814814813,12.195121951219512,0,0,20.0,4.761904761904762,7.4074074074074066,3.9215686274509802,0,4.081632653061225,16.666666666666664]],[\"LR\",[2.1739130434782608,0,12.5,11.464968152866243,11.073825503355705,12.82051282051282,9.30232558139535,16.666666666666664,6.493506493506493,2.7777777777777777,9.782608695652174,16.260162601626014,9.090909090909092,18.0,14.285714285714285,17.142857142857142,9.433962264150944,5.555555555555555,8.256880733944955,6.338028169014084,9.090909090909092,9.45945945945946,20.3125,11.76470588235294,5.263157894736842,0,12.5,25.925925925925924,12.195121951219512,0,0,15.0,4.761904761904762,40.74074074074074,13.725490196078432,10.526315789473683,6.122448979591836,0]],[\"SOC\",[1.0869565217391304,0,5.681818181818182,4.45859872611465,8.053691275167784,6.153846153846154,4.651162790697675,0,9.090909090909092,11.11111111111111,4.3478260869565215,5.691056910569105,7.575757575757576,6.0,5.1020408163265305,0,11.320754716981133,8.333333333333332,4.587155963302752,6.338028169014084,9.090909090909092,5.405405405405405,3.125,2.941176470588235,0,10.344827586206897,4.166666666666666,3.7037037037037033,12.195121951219512,0,6.25,0,4.761904761904762,7.4074074074074066,9.803921568627452,7.894736842105263,6.122448979591836,0]],[\"HOR\",[0,0,0,0,0,0,0,0,0,0,0,0,0,0,0,0,0,0,0.9174311926605505,0,4.545454545454546,0,0,0,0.8771929824561403,0,0,0,0,20.0,3.125,0,0,0,0,2.631578947368421,0,0]],[\"RRDP\",[0,0,0,0,0,0.5128205128205128,0,0,0,0,0,0.8130081300813009,0,0,1.0204081632653061,0,0,0,0,0,0,0,0,0,0,0,0,0,0,0,0,0,4.761904761904762,0,0,0,0,0]]]}}},\"view\":{\"type\":\"object\",\"name\":\"CDSView\",\"id\":\"p1408\",\"attributes\":{\"filter\":{\"type\":\"object\",\"name\":\"AllIndices\",\"id\":\"p1409\"}}},\"glyph\":{\"type\":\"object\",\"name\":\"HBar\",\"id\":\"p1404\",\"attributes\":{\"y\":{\"type\":\"field\",\"field\":\"term\"},\"left\":{\"type\":\"expr\",\"expr\":{\"type\":\"object\",\"name\":\"Stack\",\"id\":\"p1308\",\"attributes\":{\"fields\":[\"GOV\",\"SER\",\"LFI\",\"GDR\",\"ECO\",\"NI\"]}}},\"right\":{\"type\":\"expr\",\"expr\":{\"type\":\"object\",\"name\":\"Stack\",\"id\":\"p1309\",\"attributes\":{\"fields\":[\"GOV\",\"SER\",\"LFI\",\"GDR\",\"ECO\",\"NI\",\"UDI\"]}}},\"line_color\":{\"type\":\"value\",\"value\":\"#444\"},\"line_width\":{\"type\":\"value\",\"value\":0.9},\"fill_color\":{\"type\":\"value\",\"value\":\"#9b59b6\"},\"hatch_color\":{\"type\":\"value\",\"value\":\"#9b59b6\"}}},\"nonselection_glyph\":{\"type\":\"object\",\"name\":\"HBar\",\"id\":\"p1405\",\"attributes\":{\"y\":{\"type\":\"field\",\"field\":\"term\"},\"left\":{\"type\":\"expr\",\"expr\":{\"id\":\"p1308\"}},\"right\":{\"type\":\"expr\",\"expr\":{\"id\":\"p1309\"}},\"line_color\":{\"type\":\"value\",\"value\":\"#444\"},\"line_alpha\":{\"type\":\"value\",\"value\":0.1},\"line_width\":{\"type\":\"value\",\"value\":0.9},\"fill_color\":{\"type\":\"value\",\"value\":\"#9b59b6\"},\"fill_alpha\":{\"type\":\"value\",\"value\":0.1},\"hatch_color\":{\"type\":\"value\",\"value\":\"#9b59b6\"},\"hatch_alpha\":{\"type\":\"value\",\"value\":0.1}}},\"muted_glyph\":{\"type\":\"object\",\"name\":\"HBar\",\"id\":\"p1406\",\"attributes\":{\"y\":{\"type\":\"field\",\"field\":\"term\"},\"left\":{\"type\":\"expr\",\"expr\":{\"id\":\"p1308\"}},\"right\":{\"type\":\"expr\",\"expr\":{\"id\":\"p1309\"}},\"line_color\":{\"type\":\"value\",\"value\":\"#444\"},\"line_alpha\":{\"type\":\"value\",\"value\":0.2},\"line_width\":{\"type\":\"value\",\"value\":0.9},\"fill_color\":{\"type\":\"value\",\"value\":\"#9b59b6\"},\"fill_alpha\":{\"type\":\"value\",\"value\":0.2},\"hatch_color\":{\"type\":\"value\",\"value\":\"#9b59b6\"},\"hatch_alpha\":{\"type\":\"value\",\"value\":0.2}}}}},{\"type\":\"object\",\"name\":\"GlyphRenderer\",\"id\":\"p1419\",\"attributes\":{\"name\":\"REN\",\"data_source\":{\"type\":\"object\",\"name\":\"ColumnDataSource\",\"id\":\"p1410\",\"attributes\":{\"selected\":{\"type\":\"object\",\"name\":\"Selection\",\"id\":\"p1411\",\"attributes\":{\"indices\":[],\"line_indices\":[]}},\"selection_policy\":{\"type\":\"object\",\"name\":\"UnionRenderers\",\"id\":\"p1412\"},\"data\":{\"type\":\"map\",\"entries\":[[\"term\",[\"scrutin public\",\"majorit\\u00e9 absolu\",\"rapporteure g\\u00e9n\\u00e9ral\",\"s\\u00e9curit\\u00e9 social\",\"r\\u00e9gime sp\\u00e9cial\",\"index senior\",\"assurance vieilles\",\"mod\\u00e8le social\",\"r\\u00e9gime g\\u00e9n\\u00e9ral\",\"partenaire social\",\"article 10\",\"article 2\",\"cotisation social\",\"55 an\",\"index seniors\",\"carri\\u00e8re complet\",\"\\u00e2ge l\\u00e9gal\",\"finance public\",\"article 7\",\"64 an\",\"classe moyen\",\"article 100\",\"carri\\u00e8re long\",\"fonction public\",\"60 an\",\"organisation syndical\",\"carri\\u00e8re hach\\u00e9\",\"petit entreprise\",\"repr\\u00e9sentation national\",\"d\\u00e9bat d\\u00e9mocratique\",\"\\u00e9galit\\u00e9 salarial\",\"motion r\\u00e9f\\u00e9rendaire\",\"secteur priver\",\"salari\\u00e9 \\u00e2g\\u00e9\",\"justice social\",\"article 70\",\"service public\",\"dette public\"]],[\"GOV\",[88.04347826086956,100.0,50.0,19.10828025477707,7.718120805369128,9.230769230769232,30.23255813953488,50.0,14.285714285714285,30.555555555555557,10.869565217391305,7.317073170731707,10.606060606060606,14.000000000000002,7.142857142857142,20.0,5.660377358490567,16.666666666666664,4.587155963302752,3.5211267605633805,22.727272727272727,6.756756756756757,6.25,11.76470588235294,2.631578947368421,10.344827586206897,8.333333333333332,7.4074074074074066,4.878048780487805,40.0,6.25,10.0,9.523809523809524,3.7037037037037033,1.9607843137254901,2.631578947368421,2.0408163265306123,0]],[\"SER\",[0,0,0,1.2738853503184715,3.0201342281879198,1.5384615384615385,0,0,1.2987012987012987,2.7777777777777777,0,0,1.5151515151515151,0,2.0408163265306123,2.857142857142857,4.716981132075472,8.333333333333332,0.9174311926605505,4.225352112676056,0,0,1.5625,0,0.8771929824561403,3.4482758620689653,4.166666666666666,7.4074074074074066,4.878048780487805,0,0,5.0,4.761904761904762,0,1.9607843137254901,0,0,0]],[\"LFI\",[4.3478260869565215,0,4.545454545454546,25.477707006369428,26.51006711409396,21.025641025641026,25.581395348837212,4.166666666666666,23.376623376623375,5.555555555555555,31.521739130434785,21.138211382113823,42.42424242424242,24.0,23.46938775510204,28.57142857142857,25.471698113207548,8.333333333333332,20.18348623853211,38.732394366197184,22.727272727272727,33.78378378378378,35.9375,20.588235294117645,55.26315789473685,20.689655172413794,20.833333333333336,14.814814814814813,31.70731707317073,20.0,56.25,5.0,14.285714285714285,7.4074074074074066,33.33333333333333,34.21052631578947,44.89795918367347,0]],[\"GDR\",[2.1739130434782608,0,6.8181818181818175,7.643312101910828,9.731543624161073,4.102564102564102,6.976744186046512,0,12.987012987012985,0,4.3478260869565215,5.691056910569105,12.121212121212121,2.0,5.1020408163265305,8.571428571428571,2.8301886792452833,5.555555555555555,7.339449541284404,4.225352112676056,0,4.054054054054054,3.125,11.76470588235294,7.017543859649122,31.03448275862069,0,0,4.878048780487805,20.0,3.125,5.0,14.285714285714285,0,3.9215686274509802,5.263157894736842,14.285714285714285,16.666666666666664]],[\"ECO\",[0,0,4.545454545454546,3.1847133757961785,4.026845637583892,7.179487179487179,0,4.166666666666666,0,0,5.434782608695652,8.130081300813007,4.545454545454546,4.0,6.122448979591836,5.714285714285714,5.660377358490567,0,6.422018348623854,6.338028169014084,0,6.756756756756757,0,2.941176470588235,4.385964912280701,3.4482758620689653,4.166666666666666,0,2.4390243902439024,0,18.75,5.0,9.523809523809524,0,9.803921568627452,7.894736842105263,4.081632653061225,0]],[\"NI\",[0,0,0,1.910828025477707,1.342281879194631,2.051282051282051,4.651162790697675,8.333333333333332,1.2987012987012987,0,1.0869565217391304,3.2520325203252036,0,6.0,1.0204081632653061,2.857142857142857,5.660377358490567,5.555555555555555,2.7522935779816518,4.929577464788732,0,1.3513513513513513,0,8.823529411764707,3.508771929824561,0,0,0,4.878048780487805,0,0,20.0,0,3.7037037037037033,1.9607843137254901,2.631578947368421,4.081632653061225,50.0]],[\"UDI\",[0,0,4.545454545454546,4.45859872611465,4.3624161073825505,5.128205128205128,0,0,6.493506493506493,19.444444444444446,1.0869565217391304,4.0650406504065035,6.0606060606060606,12.0,7.142857142857142,0,1.8867924528301887,8.333333333333332,0.9174311926605505,0.7042253521126761,0,0,1.5625,14.705882352941178,5.263157894736842,6.896551724137931,12.5,7.4074074074074066,0,0,0,15.0,4.761904761904762,7.4074074074074066,3.9215686274509802,0,4.081632653061225,0]],[\"REN\",[0,0,3.4090909090909087,9.554140127388536,14.429530201342283,21.025641025641026,9.30232558139535,8.333333333333332,15.584415584415584,19.444444444444446,18.478260869565215,17.073170731707318,1.5151515151515151,4.0,18.367346938775512,5.714285714285714,12.264150943396226,8.333333333333332,22.018348623853214,9.15492957746479,9.090909090909092,17.56756756756757,12.5,8.823529411764707,6.140350877192982,10.344827586206897,16.666666666666664,14.814814814814813,2.4390243902439024,0,6.25,0,9.523809523809524,18.51851851851852,9.803921568627452,13.157894736842104,8.16326530612245,16.666666666666664]],[\"MODEM\",[2.1739130434782608,0,2.272727272727273,5.095541401273886,3.3557046979865772,2.051282051282051,6.976744186046512,4.166666666666666,6.493506493506493,8.333333333333332,3.260869565217391,3.2520325203252036,3.0303030303030303,2.0,0,2.857142857142857,1.8867924528301887,11.11111111111111,7.339449541284404,2.112676056338028,4.545454545454546,4.054054054054054,6.25,5.88235294117647,1.7543859649122806,3.4482758620689653,0,3.7037037037037033,2.4390243902439024,0,0,0,4.761904761904762,0,1.9607843137254901,10.526315789473683,2.0408163265306123,0]],[\"LIOT\",[0,0,0,1.910828025477707,0,3.076923076923077,2.3255813953488373,0,1.2987012987012987,0,0,2.4390243902439024,1.5151515151515151,2.0,5.1020408163265305,0,4.716981132075472,0,0.9174311926605505,2.8169014084507045,0,0,3.125,0,0,0,12.5,0,4.878048780487805,0,0,0,9.523809523809524,3.7037037037037033,3.9215686274509802,2.631578947368421,0,0]],[\"RN\",[0,0,5.681818181818182,4.45859872611465,6.375838926174497,4.102564102564102,0,4.166666666666666,1.2987012987012987,0,9.782608695652174,4.878048780487805,0,6.0,4.081632653061225,5.714285714285714,8.49056603773585,13.88888888888889,12.844036697247708,10.56338028169014,18.181818181818183,10.81081081081081,6.25,0,7.017543859649122,0,4.166666666666666,14.814814814814813,12.195121951219512,0,0,20.0,4.761904761904762,7.4074074074074066,3.9215686274509802,0,4.081632653061225,16.666666666666664]],[\"LR\",[2.1739130434782608,0,12.5,11.464968152866243,11.073825503355705,12.82051282051282,9.30232558139535,16.666666666666664,6.493506493506493,2.7777777777777777,9.782608695652174,16.260162601626014,9.090909090909092,18.0,14.285714285714285,17.142857142857142,9.433962264150944,5.555555555555555,8.256880733944955,6.338028169014084,9.090909090909092,9.45945945945946,20.3125,11.76470588235294,5.263157894736842,0,12.5,25.925925925925924,12.195121951219512,0,0,15.0,4.761904761904762,40.74074074074074,13.725490196078432,10.526315789473683,6.122448979591836,0]],[\"SOC\",[1.0869565217391304,0,5.681818181818182,4.45859872611465,8.053691275167784,6.153846153846154,4.651162790697675,0,9.090909090909092,11.11111111111111,4.3478260869565215,5.691056910569105,7.575757575757576,6.0,5.1020408163265305,0,11.320754716981133,8.333333333333332,4.587155963302752,6.338028169014084,9.090909090909092,5.405405405405405,3.125,2.941176470588235,0,10.344827586206897,4.166666666666666,3.7037037037037033,12.195121951219512,0,6.25,0,4.761904761904762,7.4074074074074066,9.803921568627452,7.894736842105263,6.122448979591836,0]],[\"HOR\",[0,0,0,0,0,0,0,0,0,0,0,0,0,0,0,0,0,0,0.9174311926605505,0,4.545454545454546,0,0,0,0.8771929824561403,0,0,0,0,20.0,3.125,0,0,0,0,2.631578947368421,0,0]],[\"RRDP\",[0,0,0,0,0,0.5128205128205128,0,0,0,0,0,0.8130081300813009,0,0,1.0204081632653061,0,0,0,0,0,0,0,0,0,0,0,0,0,0,0,0,0,4.761904761904762,0,0,0,0,0]]]}}},\"view\":{\"type\":\"object\",\"name\":\"CDSView\",\"id\":\"p1420\",\"attributes\":{\"filter\":{\"type\":\"object\",\"name\":\"AllIndices\",\"id\":\"p1421\"}}},\"glyph\":{\"type\":\"object\",\"name\":\"HBar\",\"id\":\"p1416\",\"attributes\":{\"y\":{\"type\":\"field\",\"field\":\"term\"},\"left\":{\"type\":\"expr\",\"expr\":{\"type\":\"object\",\"name\":\"Stack\",\"id\":\"p1310\",\"attributes\":{\"fields\":[\"GOV\",\"SER\",\"LFI\",\"GDR\",\"ECO\",\"NI\",\"UDI\"]}}},\"right\":{\"type\":\"expr\",\"expr\":{\"type\":\"object\",\"name\":\"Stack\",\"id\":\"p1311\",\"attributes\":{\"fields\":[\"GOV\",\"SER\",\"LFI\",\"GDR\",\"ECO\",\"NI\",\"UDI\",\"REN\"]}}},\"line_color\":{\"type\":\"value\",\"value\":\"#444\"},\"line_width\":{\"type\":\"value\",\"value\":0.9},\"fill_color\":{\"type\":\"value\",\"value\":\"#3498db\"},\"hatch_color\":{\"type\":\"value\",\"value\":\"#3498db\"}}},\"nonselection_glyph\":{\"type\":\"object\",\"name\":\"HBar\",\"id\":\"p1417\",\"attributes\":{\"y\":{\"type\":\"field\",\"field\":\"term\"},\"left\":{\"type\":\"expr\",\"expr\":{\"id\":\"p1310\"}},\"right\":{\"type\":\"expr\",\"expr\":{\"id\":\"p1311\"}},\"line_color\":{\"type\":\"value\",\"value\":\"#444\"},\"line_alpha\":{\"type\":\"value\",\"value\":0.1},\"line_width\":{\"type\":\"value\",\"value\":0.9},\"fill_color\":{\"type\":\"value\",\"value\":\"#3498db\"},\"fill_alpha\":{\"type\":\"value\",\"value\":0.1},\"hatch_color\":{\"type\":\"value\",\"value\":\"#3498db\"},\"hatch_alpha\":{\"type\":\"value\",\"value\":0.1}}},\"muted_glyph\":{\"type\":\"object\",\"name\":\"HBar\",\"id\":\"p1418\",\"attributes\":{\"y\":{\"type\":\"field\",\"field\":\"term\"},\"left\":{\"type\":\"expr\",\"expr\":{\"id\":\"p1310\"}},\"right\":{\"type\":\"expr\",\"expr\":{\"id\":\"p1311\"}},\"line_color\":{\"type\":\"value\",\"value\":\"#444\"},\"line_alpha\":{\"type\":\"value\",\"value\":0.2},\"line_width\":{\"type\":\"value\",\"value\":0.9},\"fill_color\":{\"type\":\"value\",\"value\":\"#3498db\"},\"fill_alpha\":{\"type\":\"value\",\"value\":0.2},\"hatch_color\":{\"type\":\"value\",\"value\":\"#3498db\"},\"hatch_alpha\":{\"type\":\"value\",\"value\":0.2}}}}},{\"type\":\"object\",\"name\":\"GlyphRenderer\",\"id\":\"p1431\",\"attributes\":{\"name\":\"MODEM\",\"data_source\":{\"type\":\"object\",\"name\":\"ColumnDataSource\",\"id\":\"p1422\",\"attributes\":{\"selected\":{\"type\":\"object\",\"name\":\"Selection\",\"id\":\"p1423\",\"attributes\":{\"indices\":[],\"line_indices\":[]}},\"selection_policy\":{\"type\":\"object\",\"name\":\"UnionRenderers\",\"id\":\"p1424\"},\"data\":{\"type\":\"map\",\"entries\":[[\"term\",[\"scrutin public\",\"majorit\\u00e9 absolu\",\"rapporteure g\\u00e9n\\u00e9ral\",\"s\\u00e9curit\\u00e9 social\",\"r\\u00e9gime sp\\u00e9cial\",\"index senior\",\"assurance vieilles\",\"mod\\u00e8le social\",\"r\\u00e9gime g\\u00e9n\\u00e9ral\",\"partenaire social\",\"article 10\",\"article 2\",\"cotisation social\",\"55 an\",\"index seniors\",\"carri\\u00e8re complet\",\"\\u00e2ge l\\u00e9gal\",\"finance public\",\"article 7\",\"64 an\",\"classe moyen\",\"article 100\",\"carri\\u00e8re long\",\"fonction public\",\"60 an\",\"organisation syndical\",\"carri\\u00e8re hach\\u00e9\",\"petit entreprise\",\"repr\\u00e9sentation national\",\"d\\u00e9bat d\\u00e9mocratique\",\"\\u00e9galit\\u00e9 salarial\",\"motion r\\u00e9f\\u00e9rendaire\",\"secteur priver\",\"salari\\u00e9 \\u00e2g\\u00e9\",\"justice social\",\"article 70\",\"service public\",\"dette public\"]],[\"GOV\",[88.04347826086956,100.0,50.0,19.10828025477707,7.718120805369128,9.230769230769232,30.23255813953488,50.0,14.285714285714285,30.555555555555557,10.869565217391305,7.317073170731707,10.606060606060606,14.000000000000002,7.142857142857142,20.0,5.660377358490567,16.666666666666664,4.587155963302752,3.5211267605633805,22.727272727272727,6.756756756756757,6.25,11.76470588235294,2.631578947368421,10.344827586206897,8.333333333333332,7.4074074074074066,4.878048780487805,40.0,6.25,10.0,9.523809523809524,3.7037037037037033,1.9607843137254901,2.631578947368421,2.0408163265306123,0]],[\"SER\",[0,0,0,1.2738853503184715,3.0201342281879198,1.5384615384615385,0,0,1.2987012987012987,2.7777777777777777,0,0,1.5151515151515151,0,2.0408163265306123,2.857142857142857,4.716981132075472,8.333333333333332,0.9174311926605505,4.225352112676056,0,0,1.5625,0,0.8771929824561403,3.4482758620689653,4.166666666666666,7.4074074074074066,4.878048780487805,0,0,5.0,4.761904761904762,0,1.9607843137254901,0,0,0]],[\"LFI\",[4.3478260869565215,0,4.545454545454546,25.477707006369428,26.51006711409396,21.025641025641026,25.581395348837212,4.166666666666666,23.376623376623375,5.555555555555555,31.521739130434785,21.138211382113823,42.42424242424242,24.0,23.46938775510204,28.57142857142857,25.471698113207548,8.333333333333332,20.18348623853211,38.732394366197184,22.727272727272727,33.78378378378378,35.9375,20.588235294117645,55.26315789473685,20.689655172413794,20.833333333333336,14.814814814814813,31.70731707317073,20.0,56.25,5.0,14.285714285714285,7.4074074074074066,33.33333333333333,34.21052631578947,44.89795918367347,0]],[\"GDR\",[2.1739130434782608,0,6.8181818181818175,7.643312101910828,9.731543624161073,4.102564102564102,6.976744186046512,0,12.987012987012985,0,4.3478260869565215,5.691056910569105,12.121212121212121,2.0,5.1020408163265305,8.571428571428571,2.8301886792452833,5.555555555555555,7.339449541284404,4.225352112676056,0,4.054054054054054,3.125,11.76470588235294,7.017543859649122,31.03448275862069,0,0,4.878048780487805,20.0,3.125,5.0,14.285714285714285,0,3.9215686274509802,5.263157894736842,14.285714285714285,16.666666666666664]],[\"ECO\",[0,0,4.545454545454546,3.1847133757961785,4.026845637583892,7.179487179487179,0,4.166666666666666,0,0,5.434782608695652,8.130081300813007,4.545454545454546,4.0,6.122448979591836,5.714285714285714,5.660377358490567,0,6.422018348623854,6.338028169014084,0,6.756756756756757,0,2.941176470588235,4.385964912280701,3.4482758620689653,4.166666666666666,0,2.4390243902439024,0,18.75,5.0,9.523809523809524,0,9.803921568627452,7.894736842105263,4.081632653061225,0]],[\"NI\",[0,0,0,1.910828025477707,1.342281879194631,2.051282051282051,4.651162790697675,8.333333333333332,1.2987012987012987,0,1.0869565217391304,3.2520325203252036,0,6.0,1.0204081632653061,2.857142857142857,5.660377358490567,5.555555555555555,2.7522935779816518,4.929577464788732,0,1.3513513513513513,0,8.823529411764707,3.508771929824561,0,0,0,4.878048780487805,0,0,20.0,0,3.7037037037037033,1.9607843137254901,2.631578947368421,4.081632653061225,50.0]],[\"UDI\",[0,0,4.545454545454546,4.45859872611465,4.3624161073825505,5.128205128205128,0,0,6.493506493506493,19.444444444444446,1.0869565217391304,4.0650406504065035,6.0606060606060606,12.0,7.142857142857142,0,1.8867924528301887,8.333333333333332,0.9174311926605505,0.7042253521126761,0,0,1.5625,14.705882352941178,5.263157894736842,6.896551724137931,12.5,7.4074074074074066,0,0,0,15.0,4.761904761904762,7.4074074074074066,3.9215686274509802,0,4.081632653061225,0]],[\"REN\",[0,0,3.4090909090909087,9.554140127388536,14.429530201342283,21.025641025641026,9.30232558139535,8.333333333333332,15.584415584415584,19.444444444444446,18.478260869565215,17.073170731707318,1.5151515151515151,4.0,18.367346938775512,5.714285714285714,12.264150943396226,8.333333333333332,22.018348623853214,9.15492957746479,9.090909090909092,17.56756756756757,12.5,8.823529411764707,6.140350877192982,10.344827586206897,16.666666666666664,14.814814814814813,2.4390243902439024,0,6.25,0,9.523809523809524,18.51851851851852,9.803921568627452,13.157894736842104,8.16326530612245,16.666666666666664]],[\"MODEM\",[2.1739130434782608,0,2.272727272727273,5.095541401273886,3.3557046979865772,2.051282051282051,6.976744186046512,4.166666666666666,6.493506493506493,8.333333333333332,3.260869565217391,3.2520325203252036,3.0303030303030303,2.0,0,2.857142857142857,1.8867924528301887,11.11111111111111,7.339449541284404,2.112676056338028,4.545454545454546,4.054054054054054,6.25,5.88235294117647,1.7543859649122806,3.4482758620689653,0,3.7037037037037033,2.4390243902439024,0,0,0,4.761904761904762,0,1.9607843137254901,10.526315789473683,2.0408163265306123,0]],[\"LIOT\",[0,0,0,1.910828025477707,0,3.076923076923077,2.3255813953488373,0,1.2987012987012987,0,0,2.4390243902439024,1.5151515151515151,2.0,5.1020408163265305,0,4.716981132075472,0,0.9174311926605505,2.8169014084507045,0,0,3.125,0,0,0,12.5,0,4.878048780487805,0,0,0,9.523809523809524,3.7037037037037033,3.9215686274509802,2.631578947368421,0,0]],[\"RN\",[0,0,5.681818181818182,4.45859872611465,6.375838926174497,4.102564102564102,0,4.166666666666666,1.2987012987012987,0,9.782608695652174,4.878048780487805,0,6.0,4.081632653061225,5.714285714285714,8.49056603773585,13.88888888888889,12.844036697247708,10.56338028169014,18.181818181818183,10.81081081081081,6.25,0,7.017543859649122,0,4.166666666666666,14.814814814814813,12.195121951219512,0,0,20.0,4.761904761904762,7.4074074074074066,3.9215686274509802,0,4.081632653061225,16.666666666666664]],[\"LR\",[2.1739130434782608,0,12.5,11.464968152866243,11.073825503355705,12.82051282051282,9.30232558139535,16.666666666666664,6.493506493506493,2.7777777777777777,9.782608695652174,16.260162601626014,9.090909090909092,18.0,14.285714285714285,17.142857142857142,9.433962264150944,5.555555555555555,8.256880733944955,6.338028169014084,9.090909090909092,9.45945945945946,20.3125,11.76470588235294,5.263157894736842,0,12.5,25.925925925925924,12.195121951219512,0,0,15.0,4.761904761904762,40.74074074074074,13.725490196078432,10.526315789473683,6.122448979591836,0]],[\"SOC\",[1.0869565217391304,0,5.681818181818182,4.45859872611465,8.053691275167784,6.153846153846154,4.651162790697675,0,9.090909090909092,11.11111111111111,4.3478260869565215,5.691056910569105,7.575757575757576,6.0,5.1020408163265305,0,11.320754716981133,8.333333333333332,4.587155963302752,6.338028169014084,9.090909090909092,5.405405405405405,3.125,2.941176470588235,0,10.344827586206897,4.166666666666666,3.7037037037037033,12.195121951219512,0,6.25,0,4.761904761904762,7.4074074074074066,9.803921568627452,7.894736842105263,6.122448979591836,0]],[\"HOR\",[0,0,0,0,0,0,0,0,0,0,0,0,0,0,0,0,0,0,0.9174311926605505,0,4.545454545454546,0,0,0,0.8771929824561403,0,0,0,0,20.0,3.125,0,0,0,0,2.631578947368421,0,0]],[\"RRDP\",[0,0,0,0,0,0.5128205128205128,0,0,0,0,0,0.8130081300813009,0,0,1.0204081632653061,0,0,0,0,0,0,0,0,0,0,0,0,0,0,0,0,0,4.761904761904762,0,0,0,0,0]]]}}},\"view\":{\"type\":\"object\",\"name\":\"CDSView\",\"id\":\"p1432\",\"attributes\":{\"filter\":{\"type\":\"object\",\"name\":\"AllIndices\",\"id\":\"p1433\"}}},\"glyph\":{\"type\":\"object\",\"name\":\"HBar\",\"id\":\"p1428\",\"attributes\":{\"y\":{\"type\":\"field\",\"field\":\"term\"},\"left\":{\"type\":\"expr\",\"expr\":{\"type\":\"object\",\"name\":\"Stack\",\"id\":\"p1312\",\"attributes\":{\"fields\":[\"GOV\",\"SER\",\"LFI\",\"GDR\",\"ECO\",\"NI\",\"UDI\",\"REN\"]}}},\"right\":{\"type\":\"expr\",\"expr\":{\"type\":\"object\",\"name\":\"Stack\",\"id\":\"p1313\",\"attributes\":{\"fields\":[\"GOV\",\"SER\",\"LFI\",\"GDR\",\"ECO\",\"NI\",\"UDI\",\"REN\",\"MODEM\"]}}},\"line_color\":{\"type\":\"value\",\"value\":\"#444\"},\"line_width\":{\"type\":\"value\",\"value\":0.9},\"fill_color\":{\"type\":\"value\",\"value\":\"#e67e22\"},\"hatch_color\":{\"type\":\"value\",\"value\":\"#e67e22\"}}},\"nonselection_glyph\":{\"type\":\"object\",\"name\":\"HBar\",\"id\":\"p1429\",\"attributes\":{\"y\":{\"type\":\"field\",\"field\":\"term\"},\"left\":{\"type\":\"expr\",\"expr\":{\"id\":\"p1312\"}},\"right\":{\"type\":\"expr\",\"expr\":{\"id\":\"p1313\"}},\"line_color\":{\"type\":\"value\",\"value\":\"#444\"},\"line_alpha\":{\"type\":\"value\",\"value\":0.1},\"line_width\":{\"type\":\"value\",\"value\":0.9},\"fill_color\":{\"type\":\"value\",\"value\":\"#e67e22\"},\"fill_alpha\":{\"type\":\"value\",\"value\":0.1},\"hatch_color\":{\"type\":\"value\",\"value\":\"#e67e22\"},\"hatch_alpha\":{\"type\":\"value\",\"value\":0.1}}},\"muted_glyph\":{\"type\":\"object\",\"name\":\"HBar\",\"id\":\"p1430\",\"attributes\":{\"y\":{\"type\":\"field\",\"field\":\"term\"},\"left\":{\"type\":\"expr\",\"expr\":{\"id\":\"p1312\"}},\"right\":{\"type\":\"expr\",\"expr\":{\"id\":\"p1313\"}},\"line_color\":{\"type\":\"value\",\"value\":\"#444\"},\"line_alpha\":{\"type\":\"value\",\"value\":0.2},\"line_width\":{\"type\":\"value\",\"value\":0.9},\"fill_color\":{\"type\":\"value\",\"value\":\"#e67e22\"},\"fill_alpha\":{\"type\":\"value\",\"value\":0.2},\"hatch_color\":{\"type\":\"value\",\"value\":\"#e67e22\"},\"hatch_alpha\":{\"type\":\"value\",\"value\":0.2}}}}},{\"type\":\"object\",\"name\":\"GlyphRenderer\",\"id\":\"p1443\",\"attributes\":{\"name\":\"LIOT\",\"data_source\":{\"type\":\"object\",\"name\":\"ColumnDataSource\",\"id\":\"p1434\",\"attributes\":{\"selected\":{\"type\":\"object\",\"name\":\"Selection\",\"id\":\"p1435\",\"attributes\":{\"indices\":[],\"line_indices\":[]}},\"selection_policy\":{\"type\":\"object\",\"name\":\"UnionRenderers\",\"id\":\"p1436\"},\"data\":{\"type\":\"map\",\"entries\":[[\"term\",[\"scrutin public\",\"majorit\\u00e9 absolu\",\"rapporteure g\\u00e9n\\u00e9ral\",\"s\\u00e9curit\\u00e9 social\",\"r\\u00e9gime sp\\u00e9cial\",\"index senior\",\"assurance vieilles\",\"mod\\u00e8le social\",\"r\\u00e9gime g\\u00e9n\\u00e9ral\",\"partenaire social\",\"article 10\",\"article 2\",\"cotisation social\",\"55 an\",\"index seniors\",\"carri\\u00e8re complet\",\"\\u00e2ge l\\u00e9gal\",\"finance public\",\"article 7\",\"64 an\",\"classe moyen\",\"article 100\",\"carri\\u00e8re long\",\"fonction public\",\"60 an\",\"organisation syndical\",\"carri\\u00e8re hach\\u00e9\",\"petit entreprise\",\"repr\\u00e9sentation national\",\"d\\u00e9bat d\\u00e9mocratique\",\"\\u00e9galit\\u00e9 salarial\",\"motion r\\u00e9f\\u00e9rendaire\",\"secteur priver\",\"salari\\u00e9 \\u00e2g\\u00e9\",\"justice social\",\"article 70\",\"service public\",\"dette public\"]],[\"GOV\",[88.04347826086956,100.0,50.0,19.10828025477707,7.718120805369128,9.230769230769232,30.23255813953488,50.0,14.285714285714285,30.555555555555557,10.869565217391305,7.317073170731707,10.606060606060606,14.000000000000002,7.142857142857142,20.0,5.660377358490567,16.666666666666664,4.587155963302752,3.5211267605633805,22.727272727272727,6.756756756756757,6.25,11.76470588235294,2.631578947368421,10.344827586206897,8.333333333333332,7.4074074074074066,4.878048780487805,40.0,6.25,10.0,9.523809523809524,3.7037037037037033,1.9607843137254901,2.631578947368421,2.0408163265306123,0]],[\"SER\",[0,0,0,1.2738853503184715,3.0201342281879198,1.5384615384615385,0,0,1.2987012987012987,2.7777777777777777,0,0,1.5151515151515151,0,2.0408163265306123,2.857142857142857,4.716981132075472,8.333333333333332,0.9174311926605505,4.225352112676056,0,0,1.5625,0,0.8771929824561403,3.4482758620689653,4.166666666666666,7.4074074074074066,4.878048780487805,0,0,5.0,4.761904761904762,0,1.9607843137254901,0,0,0]],[\"LFI\",[4.3478260869565215,0,4.545454545454546,25.477707006369428,26.51006711409396,21.025641025641026,25.581395348837212,4.166666666666666,23.376623376623375,5.555555555555555,31.521739130434785,21.138211382113823,42.42424242424242,24.0,23.46938775510204,28.57142857142857,25.471698113207548,8.333333333333332,20.18348623853211,38.732394366197184,22.727272727272727,33.78378378378378,35.9375,20.588235294117645,55.26315789473685,20.689655172413794,20.833333333333336,14.814814814814813,31.70731707317073,20.0,56.25,5.0,14.285714285714285,7.4074074074074066,33.33333333333333,34.21052631578947,44.89795918367347,0]],[\"GDR\",[2.1739130434782608,0,6.8181818181818175,7.643312101910828,9.731543624161073,4.102564102564102,6.976744186046512,0,12.987012987012985,0,4.3478260869565215,5.691056910569105,12.121212121212121,2.0,5.1020408163265305,8.571428571428571,2.8301886792452833,5.555555555555555,7.339449541284404,4.225352112676056,0,4.054054054054054,3.125,11.76470588235294,7.017543859649122,31.03448275862069,0,0,4.878048780487805,20.0,3.125,5.0,14.285714285714285,0,3.9215686274509802,5.263157894736842,14.285714285714285,16.666666666666664]],[\"ECO\",[0,0,4.545454545454546,3.1847133757961785,4.026845637583892,7.179487179487179,0,4.166666666666666,0,0,5.434782608695652,8.130081300813007,4.545454545454546,4.0,6.122448979591836,5.714285714285714,5.660377358490567,0,6.422018348623854,6.338028169014084,0,6.756756756756757,0,2.941176470588235,4.385964912280701,3.4482758620689653,4.166666666666666,0,2.4390243902439024,0,18.75,5.0,9.523809523809524,0,9.803921568627452,7.894736842105263,4.081632653061225,0]],[\"NI\",[0,0,0,1.910828025477707,1.342281879194631,2.051282051282051,4.651162790697675,8.333333333333332,1.2987012987012987,0,1.0869565217391304,3.2520325203252036,0,6.0,1.0204081632653061,2.857142857142857,5.660377358490567,5.555555555555555,2.7522935779816518,4.929577464788732,0,1.3513513513513513,0,8.823529411764707,3.508771929824561,0,0,0,4.878048780487805,0,0,20.0,0,3.7037037037037033,1.9607843137254901,2.631578947368421,4.081632653061225,50.0]],[\"UDI\",[0,0,4.545454545454546,4.45859872611465,4.3624161073825505,5.128205128205128,0,0,6.493506493506493,19.444444444444446,1.0869565217391304,4.0650406504065035,6.0606060606060606,12.0,7.142857142857142,0,1.8867924528301887,8.333333333333332,0.9174311926605505,0.7042253521126761,0,0,1.5625,14.705882352941178,5.263157894736842,6.896551724137931,12.5,7.4074074074074066,0,0,0,15.0,4.761904761904762,7.4074074074074066,3.9215686274509802,0,4.081632653061225,0]],[\"REN\",[0,0,3.4090909090909087,9.554140127388536,14.429530201342283,21.025641025641026,9.30232558139535,8.333333333333332,15.584415584415584,19.444444444444446,18.478260869565215,17.073170731707318,1.5151515151515151,4.0,18.367346938775512,5.714285714285714,12.264150943396226,8.333333333333332,22.018348623853214,9.15492957746479,9.090909090909092,17.56756756756757,12.5,8.823529411764707,6.140350877192982,10.344827586206897,16.666666666666664,14.814814814814813,2.4390243902439024,0,6.25,0,9.523809523809524,18.51851851851852,9.803921568627452,13.157894736842104,8.16326530612245,16.666666666666664]],[\"MODEM\",[2.1739130434782608,0,2.272727272727273,5.095541401273886,3.3557046979865772,2.051282051282051,6.976744186046512,4.166666666666666,6.493506493506493,8.333333333333332,3.260869565217391,3.2520325203252036,3.0303030303030303,2.0,0,2.857142857142857,1.8867924528301887,11.11111111111111,7.339449541284404,2.112676056338028,4.545454545454546,4.054054054054054,6.25,5.88235294117647,1.7543859649122806,3.4482758620689653,0,3.7037037037037033,2.4390243902439024,0,0,0,4.761904761904762,0,1.9607843137254901,10.526315789473683,2.0408163265306123,0]],[\"LIOT\",[0,0,0,1.910828025477707,0,3.076923076923077,2.3255813953488373,0,1.2987012987012987,0,0,2.4390243902439024,1.5151515151515151,2.0,5.1020408163265305,0,4.716981132075472,0,0.9174311926605505,2.8169014084507045,0,0,3.125,0,0,0,12.5,0,4.878048780487805,0,0,0,9.523809523809524,3.7037037037037033,3.9215686274509802,2.631578947368421,0,0]],[\"RN\",[0,0,5.681818181818182,4.45859872611465,6.375838926174497,4.102564102564102,0,4.166666666666666,1.2987012987012987,0,9.782608695652174,4.878048780487805,0,6.0,4.081632653061225,5.714285714285714,8.49056603773585,13.88888888888889,12.844036697247708,10.56338028169014,18.181818181818183,10.81081081081081,6.25,0,7.017543859649122,0,4.166666666666666,14.814814814814813,12.195121951219512,0,0,20.0,4.761904761904762,7.4074074074074066,3.9215686274509802,0,4.081632653061225,16.666666666666664]],[\"LR\",[2.1739130434782608,0,12.5,11.464968152866243,11.073825503355705,12.82051282051282,9.30232558139535,16.666666666666664,6.493506493506493,2.7777777777777777,9.782608695652174,16.260162601626014,9.090909090909092,18.0,14.285714285714285,17.142857142857142,9.433962264150944,5.555555555555555,8.256880733944955,6.338028169014084,9.090909090909092,9.45945945945946,20.3125,11.76470588235294,5.263157894736842,0,12.5,25.925925925925924,12.195121951219512,0,0,15.0,4.761904761904762,40.74074074074074,13.725490196078432,10.526315789473683,6.122448979591836,0]],[\"SOC\",[1.0869565217391304,0,5.681818181818182,4.45859872611465,8.053691275167784,6.153846153846154,4.651162790697675,0,9.090909090909092,11.11111111111111,4.3478260869565215,5.691056910569105,7.575757575757576,6.0,5.1020408163265305,0,11.320754716981133,8.333333333333332,4.587155963302752,6.338028169014084,9.090909090909092,5.405405405405405,3.125,2.941176470588235,0,10.344827586206897,4.166666666666666,3.7037037037037033,12.195121951219512,0,6.25,0,4.761904761904762,7.4074074074074066,9.803921568627452,7.894736842105263,6.122448979591836,0]],[\"HOR\",[0,0,0,0,0,0,0,0,0,0,0,0,0,0,0,0,0,0,0.9174311926605505,0,4.545454545454546,0,0,0,0.8771929824561403,0,0,0,0,20.0,3.125,0,0,0,0,2.631578947368421,0,0]],[\"RRDP\",[0,0,0,0,0,0.5128205128205128,0,0,0,0,0,0.8130081300813009,0,0,1.0204081632653061,0,0,0,0,0,0,0,0,0,0,0,0,0,0,0,0,0,4.761904761904762,0,0,0,0,0]]]}}},\"view\":{\"type\":\"object\",\"name\":\"CDSView\",\"id\":\"p1444\",\"attributes\":{\"filter\":{\"type\":\"object\",\"name\":\"AllIndices\",\"id\":\"p1445\"}}},\"glyph\":{\"type\":\"object\",\"name\":\"HBar\",\"id\":\"p1440\",\"attributes\":{\"y\":{\"type\":\"field\",\"field\":\"term\"},\"left\":{\"type\":\"expr\",\"expr\":{\"type\":\"object\",\"name\":\"Stack\",\"id\":\"p1314\",\"attributes\":{\"fields\":[\"GOV\",\"SER\",\"LFI\",\"GDR\",\"ECO\",\"NI\",\"UDI\",\"REN\",\"MODEM\"]}}},\"right\":{\"type\":\"expr\",\"expr\":{\"type\":\"object\",\"name\":\"Stack\",\"id\":\"p1315\",\"attributes\":{\"fields\":[\"GOV\",\"SER\",\"LFI\",\"GDR\",\"ECO\",\"NI\",\"UDI\",\"REN\",\"MODEM\",\"LIOT\"]}}},\"line_color\":{\"type\":\"value\",\"value\":\"#444\"},\"line_width\":{\"type\":\"value\",\"value\":0.9},\"fill_color\":{\"type\":\"value\",\"value\":\"#2ecc71\"},\"hatch_color\":{\"type\":\"value\",\"value\":\"#2ecc71\"}}},\"nonselection_glyph\":{\"type\":\"object\",\"name\":\"HBar\",\"id\":\"p1441\",\"attributes\":{\"y\":{\"type\":\"field\",\"field\":\"term\"},\"left\":{\"type\":\"expr\",\"expr\":{\"id\":\"p1314\"}},\"right\":{\"type\":\"expr\",\"expr\":{\"id\":\"p1315\"}},\"line_color\":{\"type\":\"value\",\"value\":\"#444\"},\"line_alpha\":{\"type\":\"value\",\"value\":0.1},\"line_width\":{\"type\":\"value\",\"value\":0.9},\"fill_color\":{\"type\":\"value\",\"value\":\"#2ecc71\"},\"fill_alpha\":{\"type\":\"value\",\"value\":0.1},\"hatch_color\":{\"type\":\"value\",\"value\":\"#2ecc71\"},\"hatch_alpha\":{\"type\":\"value\",\"value\":0.1}}},\"muted_glyph\":{\"type\":\"object\",\"name\":\"HBar\",\"id\":\"p1442\",\"attributes\":{\"y\":{\"type\":\"field\",\"field\":\"term\"},\"left\":{\"type\":\"expr\",\"expr\":{\"id\":\"p1314\"}},\"right\":{\"type\":\"expr\",\"expr\":{\"id\":\"p1315\"}},\"line_color\":{\"type\":\"value\",\"value\":\"#444\"},\"line_alpha\":{\"type\":\"value\",\"value\":0.2},\"line_width\":{\"type\":\"value\",\"value\":0.9},\"fill_color\":{\"type\":\"value\",\"value\":\"#2ecc71\"},\"fill_alpha\":{\"type\":\"value\",\"value\":0.2},\"hatch_color\":{\"type\":\"value\",\"value\":\"#2ecc71\"},\"hatch_alpha\":{\"type\":\"value\",\"value\":0.2}}}}},{\"type\":\"object\",\"name\":\"GlyphRenderer\",\"id\":\"p1455\",\"attributes\":{\"name\":\"RN\",\"data_source\":{\"type\":\"object\",\"name\":\"ColumnDataSource\",\"id\":\"p1446\",\"attributes\":{\"selected\":{\"type\":\"object\",\"name\":\"Selection\",\"id\":\"p1447\",\"attributes\":{\"indices\":[],\"line_indices\":[]}},\"selection_policy\":{\"type\":\"object\",\"name\":\"UnionRenderers\",\"id\":\"p1448\"},\"data\":{\"type\":\"map\",\"entries\":[[\"term\",[\"scrutin public\",\"majorit\\u00e9 absolu\",\"rapporteure g\\u00e9n\\u00e9ral\",\"s\\u00e9curit\\u00e9 social\",\"r\\u00e9gime sp\\u00e9cial\",\"index senior\",\"assurance vieilles\",\"mod\\u00e8le social\",\"r\\u00e9gime g\\u00e9n\\u00e9ral\",\"partenaire social\",\"article 10\",\"article 2\",\"cotisation social\",\"55 an\",\"index seniors\",\"carri\\u00e8re complet\",\"\\u00e2ge l\\u00e9gal\",\"finance public\",\"article 7\",\"64 an\",\"classe moyen\",\"article 100\",\"carri\\u00e8re long\",\"fonction public\",\"60 an\",\"organisation syndical\",\"carri\\u00e8re hach\\u00e9\",\"petit entreprise\",\"repr\\u00e9sentation national\",\"d\\u00e9bat d\\u00e9mocratique\",\"\\u00e9galit\\u00e9 salarial\",\"motion r\\u00e9f\\u00e9rendaire\",\"secteur priver\",\"salari\\u00e9 \\u00e2g\\u00e9\",\"justice social\",\"article 70\",\"service public\",\"dette public\"]],[\"GOV\",[88.04347826086956,100.0,50.0,19.10828025477707,7.718120805369128,9.230769230769232,30.23255813953488,50.0,14.285714285714285,30.555555555555557,10.869565217391305,7.317073170731707,10.606060606060606,14.000000000000002,7.142857142857142,20.0,5.660377358490567,16.666666666666664,4.587155963302752,3.5211267605633805,22.727272727272727,6.756756756756757,6.25,11.76470588235294,2.631578947368421,10.344827586206897,8.333333333333332,7.4074074074074066,4.878048780487805,40.0,6.25,10.0,9.523809523809524,3.7037037037037033,1.9607843137254901,2.631578947368421,2.0408163265306123,0]],[\"SER\",[0,0,0,1.2738853503184715,3.0201342281879198,1.5384615384615385,0,0,1.2987012987012987,2.7777777777777777,0,0,1.5151515151515151,0,2.0408163265306123,2.857142857142857,4.716981132075472,8.333333333333332,0.9174311926605505,4.225352112676056,0,0,1.5625,0,0.8771929824561403,3.4482758620689653,4.166666666666666,7.4074074074074066,4.878048780487805,0,0,5.0,4.761904761904762,0,1.9607843137254901,0,0,0]],[\"LFI\",[4.3478260869565215,0,4.545454545454546,25.477707006369428,26.51006711409396,21.025641025641026,25.581395348837212,4.166666666666666,23.376623376623375,5.555555555555555,31.521739130434785,21.138211382113823,42.42424242424242,24.0,23.46938775510204,28.57142857142857,25.471698113207548,8.333333333333332,20.18348623853211,38.732394366197184,22.727272727272727,33.78378378378378,35.9375,20.588235294117645,55.26315789473685,20.689655172413794,20.833333333333336,14.814814814814813,31.70731707317073,20.0,56.25,5.0,14.285714285714285,7.4074074074074066,33.33333333333333,34.21052631578947,44.89795918367347,0]],[\"GDR\",[2.1739130434782608,0,6.8181818181818175,7.643312101910828,9.731543624161073,4.102564102564102,6.976744186046512,0,12.987012987012985,0,4.3478260869565215,5.691056910569105,12.121212121212121,2.0,5.1020408163265305,8.571428571428571,2.8301886792452833,5.555555555555555,7.339449541284404,4.225352112676056,0,4.054054054054054,3.125,11.76470588235294,7.017543859649122,31.03448275862069,0,0,4.878048780487805,20.0,3.125,5.0,14.285714285714285,0,3.9215686274509802,5.263157894736842,14.285714285714285,16.666666666666664]],[\"ECO\",[0,0,4.545454545454546,3.1847133757961785,4.026845637583892,7.179487179487179,0,4.166666666666666,0,0,5.434782608695652,8.130081300813007,4.545454545454546,4.0,6.122448979591836,5.714285714285714,5.660377358490567,0,6.422018348623854,6.338028169014084,0,6.756756756756757,0,2.941176470588235,4.385964912280701,3.4482758620689653,4.166666666666666,0,2.4390243902439024,0,18.75,5.0,9.523809523809524,0,9.803921568627452,7.894736842105263,4.081632653061225,0]],[\"NI\",[0,0,0,1.910828025477707,1.342281879194631,2.051282051282051,4.651162790697675,8.333333333333332,1.2987012987012987,0,1.0869565217391304,3.2520325203252036,0,6.0,1.0204081632653061,2.857142857142857,5.660377358490567,5.555555555555555,2.7522935779816518,4.929577464788732,0,1.3513513513513513,0,8.823529411764707,3.508771929824561,0,0,0,4.878048780487805,0,0,20.0,0,3.7037037037037033,1.9607843137254901,2.631578947368421,4.081632653061225,50.0]],[\"UDI\",[0,0,4.545454545454546,4.45859872611465,4.3624161073825505,5.128205128205128,0,0,6.493506493506493,19.444444444444446,1.0869565217391304,4.0650406504065035,6.0606060606060606,12.0,7.142857142857142,0,1.8867924528301887,8.333333333333332,0.9174311926605505,0.7042253521126761,0,0,1.5625,14.705882352941178,5.263157894736842,6.896551724137931,12.5,7.4074074074074066,0,0,0,15.0,4.761904761904762,7.4074074074074066,3.9215686274509802,0,4.081632653061225,0]],[\"REN\",[0,0,3.4090909090909087,9.554140127388536,14.429530201342283,21.025641025641026,9.30232558139535,8.333333333333332,15.584415584415584,19.444444444444446,18.478260869565215,17.073170731707318,1.5151515151515151,4.0,18.367346938775512,5.714285714285714,12.264150943396226,8.333333333333332,22.018348623853214,9.15492957746479,9.090909090909092,17.56756756756757,12.5,8.823529411764707,6.140350877192982,10.344827586206897,16.666666666666664,14.814814814814813,2.4390243902439024,0,6.25,0,9.523809523809524,18.51851851851852,9.803921568627452,13.157894736842104,8.16326530612245,16.666666666666664]],[\"MODEM\",[2.1739130434782608,0,2.272727272727273,5.095541401273886,3.3557046979865772,2.051282051282051,6.976744186046512,4.166666666666666,6.493506493506493,8.333333333333332,3.260869565217391,3.2520325203252036,3.0303030303030303,2.0,0,2.857142857142857,1.8867924528301887,11.11111111111111,7.339449541284404,2.112676056338028,4.545454545454546,4.054054054054054,6.25,5.88235294117647,1.7543859649122806,3.4482758620689653,0,3.7037037037037033,2.4390243902439024,0,0,0,4.761904761904762,0,1.9607843137254901,10.526315789473683,2.0408163265306123,0]],[\"LIOT\",[0,0,0,1.910828025477707,0,3.076923076923077,2.3255813953488373,0,1.2987012987012987,0,0,2.4390243902439024,1.5151515151515151,2.0,5.1020408163265305,0,4.716981132075472,0,0.9174311926605505,2.8169014084507045,0,0,3.125,0,0,0,12.5,0,4.878048780487805,0,0,0,9.523809523809524,3.7037037037037033,3.9215686274509802,2.631578947368421,0,0]],[\"RN\",[0,0,5.681818181818182,4.45859872611465,6.375838926174497,4.102564102564102,0,4.166666666666666,1.2987012987012987,0,9.782608695652174,4.878048780487805,0,6.0,4.081632653061225,5.714285714285714,8.49056603773585,13.88888888888889,12.844036697247708,10.56338028169014,18.181818181818183,10.81081081081081,6.25,0,7.017543859649122,0,4.166666666666666,14.814814814814813,12.195121951219512,0,0,20.0,4.761904761904762,7.4074074074074066,3.9215686274509802,0,4.081632653061225,16.666666666666664]],[\"LR\",[2.1739130434782608,0,12.5,11.464968152866243,11.073825503355705,12.82051282051282,9.30232558139535,16.666666666666664,6.493506493506493,2.7777777777777777,9.782608695652174,16.260162601626014,9.090909090909092,18.0,14.285714285714285,17.142857142857142,9.433962264150944,5.555555555555555,8.256880733944955,6.338028169014084,9.090909090909092,9.45945945945946,20.3125,11.76470588235294,5.263157894736842,0,12.5,25.925925925925924,12.195121951219512,0,0,15.0,4.761904761904762,40.74074074074074,13.725490196078432,10.526315789473683,6.122448979591836,0]],[\"SOC\",[1.0869565217391304,0,5.681818181818182,4.45859872611465,8.053691275167784,6.153846153846154,4.651162790697675,0,9.090909090909092,11.11111111111111,4.3478260869565215,5.691056910569105,7.575757575757576,6.0,5.1020408163265305,0,11.320754716981133,8.333333333333332,4.587155963302752,6.338028169014084,9.090909090909092,5.405405405405405,3.125,2.941176470588235,0,10.344827586206897,4.166666666666666,3.7037037037037033,12.195121951219512,0,6.25,0,4.761904761904762,7.4074074074074066,9.803921568627452,7.894736842105263,6.122448979591836,0]],[\"HOR\",[0,0,0,0,0,0,0,0,0,0,0,0,0,0,0,0,0,0,0.9174311926605505,0,4.545454545454546,0,0,0,0.8771929824561403,0,0,0,0,20.0,3.125,0,0,0,0,2.631578947368421,0,0]],[\"RRDP\",[0,0,0,0,0,0.5128205128205128,0,0,0,0,0,0.8130081300813009,0,0,1.0204081632653061,0,0,0,0,0,0,0,0,0,0,0,0,0,0,0,0,0,4.761904761904762,0,0,0,0,0]]]}}},\"view\":{\"type\":\"object\",\"name\":\"CDSView\",\"id\":\"p1456\",\"attributes\":{\"filter\":{\"type\":\"object\",\"name\":\"AllIndices\",\"id\":\"p1457\"}}},\"glyph\":{\"type\":\"object\",\"name\":\"HBar\",\"id\":\"p1452\",\"attributes\":{\"y\":{\"type\":\"field\",\"field\":\"term\"},\"left\":{\"type\":\"expr\",\"expr\":{\"type\":\"object\",\"name\":\"Stack\",\"id\":\"p1316\",\"attributes\":{\"fields\":[\"GOV\",\"SER\",\"LFI\",\"GDR\",\"ECO\",\"NI\",\"UDI\",\"REN\",\"MODEM\",\"LIOT\"]}}},\"right\":{\"type\":\"expr\",\"expr\":{\"type\":\"object\",\"name\":\"Stack\",\"id\":\"p1317\",\"attributes\":{\"fields\":[\"GOV\",\"SER\",\"LFI\",\"GDR\",\"ECO\",\"NI\",\"UDI\",\"REN\",\"MODEM\",\"LIOT\",\"RN\"]}}},\"line_color\":{\"type\":\"value\",\"value\":\"#444\"},\"line_width\":{\"type\":\"value\",\"value\":0.9},\"fill_color\":{\"type\":\"value\",\"value\":\"#2c3e50\"},\"hatch_color\":{\"type\":\"value\",\"value\":\"#2c3e50\"}}},\"nonselection_glyph\":{\"type\":\"object\",\"name\":\"HBar\",\"id\":\"p1453\",\"attributes\":{\"y\":{\"type\":\"field\",\"field\":\"term\"},\"left\":{\"type\":\"expr\",\"expr\":{\"id\":\"p1316\"}},\"right\":{\"type\":\"expr\",\"expr\":{\"id\":\"p1317\"}},\"line_color\":{\"type\":\"value\",\"value\":\"#444\"},\"line_alpha\":{\"type\":\"value\",\"value\":0.1},\"line_width\":{\"type\":\"value\",\"value\":0.9},\"fill_color\":{\"type\":\"value\",\"value\":\"#2c3e50\"},\"fill_alpha\":{\"type\":\"value\",\"value\":0.1},\"hatch_color\":{\"type\":\"value\",\"value\":\"#2c3e50\"},\"hatch_alpha\":{\"type\":\"value\",\"value\":0.1}}},\"muted_glyph\":{\"type\":\"object\",\"name\":\"HBar\",\"id\":\"p1454\",\"attributes\":{\"y\":{\"type\":\"field\",\"field\":\"term\"},\"left\":{\"type\":\"expr\",\"expr\":{\"id\":\"p1316\"}},\"right\":{\"type\":\"expr\",\"expr\":{\"id\":\"p1317\"}},\"line_color\":{\"type\":\"value\",\"value\":\"#444\"},\"line_alpha\":{\"type\":\"value\",\"value\":0.2},\"line_width\":{\"type\":\"value\",\"value\":0.9},\"fill_color\":{\"type\":\"value\",\"value\":\"#2c3e50\"},\"fill_alpha\":{\"type\":\"value\",\"value\":0.2},\"hatch_color\":{\"type\":\"value\",\"value\":\"#2c3e50\"},\"hatch_alpha\":{\"type\":\"value\",\"value\":0.2}}}}},{\"type\":\"object\",\"name\":\"GlyphRenderer\",\"id\":\"p1467\",\"attributes\":{\"name\":\"LR\",\"data_source\":{\"type\":\"object\",\"name\":\"ColumnDataSource\",\"id\":\"p1458\",\"attributes\":{\"selected\":{\"type\":\"object\",\"name\":\"Selection\",\"id\":\"p1459\",\"attributes\":{\"indices\":[],\"line_indices\":[]}},\"selection_policy\":{\"type\":\"object\",\"name\":\"UnionRenderers\",\"id\":\"p1460\"},\"data\":{\"type\":\"map\",\"entries\":[[\"term\",[\"scrutin public\",\"majorit\\u00e9 absolu\",\"rapporteure g\\u00e9n\\u00e9ral\",\"s\\u00e9curit\\u00e9 social\",\"r\\u00e9gime sp\\u00e9cial\",\"index senior\",\"assurance vieilles\",\"mod\\u00e8le social\",\"r\\u00e9gime g\\u00e9n\\u00e9ral\",\"partenaire social\",\"article 10\",\"article 2\",\"cotisation social\",\"55 an\",\"index seniors\",\"carri\\u00e8re complet\",\"\\u00e2ge l\\u00e9gal\",\"finance public\",\"article 7\",\"64 an\",\"classe moyen\",\"article 100\",\"carri\\u00e8re long\",\"fonction public\",\"60 an\",\"organisation syndical\",\"carri\\u00e8re hach\\u00e9\",\"petit entreprise\",\"repr\\u00e9sentation national\",\"d\\u00e9bat d\\u00e9mocratique\",\"\\u00e9galit\\u00e9 salarial\",\"motion r\\u00e9f\\u00e9rendaire\",\"secteur priver\",\"salari\\u00e9 \\u00e2g\\u00e9\",\"justice social\",\"article 70\",\"service public\",\"dette public\"]],[\"GOV\",[88.04347826086956,100.0,50.0,19.10828025477707,7.718120805369128,9.230769230769232,30.23255813953488,50.0,14.285714285714285,30.555555555555557,10.869565217391305,7.317073170731707,10.606060606060606,14.000000000000002,7.142857142857142,20.0,5.660377358490567,16.666666666666664,4.587155963302752,3.5211267605633805,22.727272727272727,6.756756756756757,6.25,11.76470588235294,2.631578947368421,10.344827586206897,8.333333333333332,7.4074074074074066,4.878048780487805,40.0,6.25,10.0,9.523809523809524,3.7037037037037033,1.9607843137254901,2.631578947368421,2.0408163265306123,0]],[\"SER\",[0,0,0,1.2738853503184715,3.0201342281879198,1.5384615384615385,0,0,1.2987012987012987,2.7777777777777777,0,0,1.5151515151515151,0,2.0408163265306123,2.857142857142857,4.716981132075472,8.333333333333332,0.9174311926605505,4.225352112676056,0,0,1.5625,0,0.8771929824561403,3.4482758620689653,4.166666666666666,7.4074074074074066,4.878048780487805,0,0,5.0,4.761904761904762,0,1.9607843137254901,0,0,0]],[\"LFI\",[4.3478260869565215,0,4.545454545454546,25.477707006369428,26.51006711409396,21.025641025641026,25.581395348837212,4.166666666666666,23.376623376623375,5.555555555555555,31.521739130434785,21.138211382113823,42.42424242424242,24.0,23.46938775510204,28.57142857142857,25.471698113207548,8.333333333333332,20.18348623853211,38.732394366197184,22.727272727272727,33.78378378378378,35.9375,20.588235294117645,55.26315789473685,20.689655172413794,20.833333333333336,14.814814814814813,31.70731707317073,20.0,56.25,5.0,14.285714285714285,7.4074074074074066,33.33333333333333,34.21052631578947,44.89795918367347,0]],[\"GDR\",[2.1739130434782608,0,6.8181818181818175,7.643312101910828,9.731543624161073,4.102564102564102,6.976744186046512,0,12.987012987012985,0,4.3478260869565215,5.691056910569105,12.121212121212121,2.0,5.1020408163265305,8.571428571428571,2.8301886792452833,5.555555555555555,7.339449541284404,4.225352112676056,0,4.054054054054054,3.125,11.76470588235294,7.017543859649122,31.03448275862069,0,0,4.878048780487805,20.0,3.125,5.0,14.285714285714285,0,3.9215686274509802,5.263157894736842,14.285714285714285,16.666666666666664]],[\"ECO\",[0,0,4.545454545454546,3.1847133757961785,4.026845637583892,7.179487179487179,0,4.166666666666666,0,0,5.434782608695652,8.130081300813007,4.545454545454546,4.0,6.122448979591836,5.714285714285714,5.660377358490567,0,6.422018348623854,6.338028169014084,0,6.756756756756757,0,2.941176470588235,4.385964912280701,3.4482758620689653,4.166666666666666,0,2.4390243902439024,0,18.75,5.0,9.523809523809524,0,9.803921568627452,7.894736842105263,4.081632653061225,0]],[\"NI\",[0,0,0,1.910828025477707,1.342281879194631,2.051282051282051,4.651162790697675,8.333333333333332,1.2987012987012987,0,1.0869565217391304,3.2520325203252036,0,6.0,1.0204081632653061,2.857142857142857,5.660377358490567,5.555555555555555,2.7522935779816518,4.929577464788732,0,1.3513513513513513,0,8.823529411764707,3.508771929824561,0,0,0,4.878048780487805,0,0,20.0,0,3.7037037037037033,1.9607843137254901,2.631578947368421,4.081632653061225,50.0]],[\"UDI\",[0,0,4.545454545454546,4.45859872611465,4.3624161073825505,5.128205128205128,0,0,6.493506493506493,19.444444444444446,1.0869565217391304,4.0650406504065035,6.0606060606060606,12.0,7.142857142857142,0,1.8867924528301887,8.333333333333332,0.9174311926605505,0.7042253521126761,0,0,1.5625,14.705882352941178,5.263157894736842,6.896551724137931,12.5,7.4074074074074066,0,0,0,15.0,4.761904761904762,7.4074074074074066,3.9215686274509802,0,4.081632653061225,0]],[\"REN\",[0,0,3.4090909090909087,9.554140127388536,14.429530201342283,21.025641025641026,9.30232558139535,8.333333333333332,15.584415584415584,19.444444444444446,18.478260869565215,17.073170731707318,1.5151515151515151,4.0,18.367346938775512,5.714285714285714,12.264150943396226,8.333333333333332,22.018348623853214,9.15492957746479,9.090909090909092,17.56756756756757,12.5,8.823529411764707,6.140350877192982,10.344827586206897,16.666666666666664,14.814814814814813,2.4390243902439024,0,6.25,0,9.523809523809524,18.51851851851852,9.803921568627452,13.157894736842104,8.16326530612245,16.666666666666664]],[\"MODEM\",[2.1739130434782608,0,2.272727272727273,5.095541401273886,3.3557046979865772,2.051282051282051,6.976744186046512,4.166666666666666,6.493506493506493,8.333333333333332,3.260869565217391,3.2520325203252036,3.0303030303030303,2.0,0,2.857142857142857,1.8867924528301887,11.11111111111111,7.339449541284404,2.112676056338028,4.545454545454546,4.054054054054054,6.25,5.88235294117647,1.7543859649122806,3.4482758620689653,0,3.7037037037037033,2.4390243902439024,0,0,0,4.761904761904762,0,1.9607843137254901,10.526315789473683,2.0408163265306123,0]],[\"LIOT\",[0,0,0,1.910828025477707,0,3.076923076923077,2.3255813953488373,0,1.2987012987012987,0,0,2.4390243902439024,1.5151515151515151,2.0,5.1020408163265305,0,4.716981132075472,0,0.9174311926605505,2.8169014084507045,0,0,3.125,0,0,0,12.5,0,4.878048780487805,0,0,0,9.523809523809524,3.7037037037037033,3.9215686274509802,2.631578947368421,0,0]],[\"RN\",[0,0,5.681818181818182,4.45859872611465,6.375838926174497,4.102564102564102,0,4.166666666666666,1.2987012987012987,0,9.782608695652174,4.878048780487805,0,6.0,4.081632653061225,5.714285714285714,8.49056603773585,13.88888888888889,12.844036697247708,10.56338028169014,18.181818181818183,10.81081081081081,6.25,0,7.017543859649122,0,4.166666666666666,14.814814814814813,12.195121951219512,0,0,20.0,4.761904761904762,7.4074074074074066,3.9215686274509802,0,4.081632653061225,16.666666666666664]],[\"LR\",[2.1739130434782608,0,12.5,11.464968152866243,11.073825503355705,12.82051282051282,9.30232558139535,16.666666666666664,6.493506493506493,2.7777777777777777,9.782608695652174,16.260162601626014,9.090909090909092,18.0,14.285714285714285,17.142857142857142,9.433962264150944,5.555555555555555,8.256880733944955,6.338028169014084,9.090909090909092,9.45945945945946,20.3125,11.76470588235294,5.263157894736842,0,12.5,25.925925925925924,12.195121951219512,0,0,15.0,4.761904761904762,40.74074074074074,13.725490196078432,10.526315789473683,6.122448979591836,0]],[\"SOC\",[1.0869565217391304,0,5.681818181818182,4.45859872611465,8.053691275167784,6.153846153846154,4.651162790697675,0,9.090909090909092,11.11111111111111,4.3478260869565215,5.691056910569105,7.575757575757576,6.0,5.1020408163265305,0,11.320754716981133,8.333333333333332,4.587155963302752,6.338028169014084,9.090909090909092,5.405405405405405,3.125,2.941176470588235,0,10.344827586206897,4.166666666666666,3.7037037037037033,12.195121951219512,0,6.25,0,4.761904761904762,7.4074074074074066,9.803921568627452,7.894736842105263,6.122448979591836,0]],[\"HOR\",[0,0,0,0,0,0,0,0,0,0,0,0,0,0,0,0,0,0,0.9174311926605505,0,4.545454545454546,0,0,0,0.8771929824561403,0,0,0,0,20.0,3.125,0,0,0,0,2.631578947368421,0,0]],[\"RRDP\",[0,0,0,0,0,0.5128205128205128,0,0,0,0,0,0.8130081300813009,0,0,1.0204081632653061,0,0,0,0,0,0,0,0,0,0,0,0,0,0,0,0,0,4.761904761904762,0,0,0,0,0]]]}}},\"view\":{\"type\":\"object\",\"name\":\"CDSView\",\"id\":\"p1468\",\"attributes\":{\"filter\":{\"type\":\"object\",\"name\":\"AllIndices\",\"id\":\"p1469\"}}},\"glyph\":{\"type\":\"object\",\"name\":\"HBar\",\"id\":\"p1464\",\"attributes\":{\"y\":{\"type\":\"field\",\"field\":\"term\"},\"left\":{\"type\":\"expr\",\"expr\":{\"type\":\"object\",\"name\":\"Stack\",\"id\":\"p1318\",\"attributes\":{\"fields\":[\"GOV\",\"SER\",\"LFI\",\"GDR\",\"ECO\",\"NI\",\"UDI\",\"REN\",\"MODEM\",\"LIOT\",\"RN\"]}}},\"right\":{\"type\":\"expr\",\"expr\":{\"type\":\"object\",\"name\":\"Stack\",\"id\":\"p1319\",\"attributes\":{\"fields\":[\"GOV\",\"SER\",\"LFI\",\"GDR\",\"ECO\",\"NI\",\"UDI\",\"REN\",\"MODEM\",\"LIOT\",\"RN\",\"LR\"]}}},\"line_color\":{\"type\":\"value\",\"value\":\"#444\"},\"line_width\":{\"type\":\"value\",\"value\":0.9},\"fill_color\":{\"type\":\"value\",\"value\":\"#2980b9\"},\"hatch_color\":{\"type\":\"value\",\"value\":\"#2980b9\"}}},\"nonselection_glyph\":{\"type\":\"object\",\"name\":\"HBar\",\"id\":\"p1465\",\"attributes\":{\"y\":{\"type\":\"field\",\"field\":\"term\"},\"left\":{\"type\":\"expr\",\"expr\":{\"id\":\"p1318\"}},\"right\":{\"type\":\"expr\",\"expr\":{\"id\":\"p1319\"}},\"line_color\":{\"type\":\"value\",\"value\":\"#444\"},\"line_alpha\":{\"type\":\"value\",\"value\":0.1},\"line_width\":{\"type\":\"value\",\"value\":0.9},\"fill_color\":{\"type\":\"value\",\"value\":\"#2980b9\"},\"fill_alpha\":{\"type\":\"value\",\"value\":0.1},\"hatch_color\":{\"type\":\"value\",\"value\":\"#2980b9\"},\"hatch_alpha\":{\"type\":\"value\",\"value\":0.1}}},\"muted_glyph\":{\"type\":\"object\",\"name\":\"HBar\",\"id\":\"p1466\",\"attributes\":{\"y\":{\"type\":\"field\",\"field\":\"term\"},\"left\":{\"type\":\"expr\",\"expr\":{\"id\":\"p1318\"}},\"right\":{\"type\":\"expr\",\"expr\":{\"id\":\"p1319\"}},\"line_color\":{\"type\":\"value\",\"value\":\"#444\"},\"line_alpha\":{\"type\":\"value\",\"value\":0.2},\"line_width\":{\"type\":\"value\",\"value\":0.9},\"fill_color\":{\"type\":\"value\",\"value\":\"#2980b9\"},\"fill_alpha\":{\"type\":\"value\",\"value\":0.2},\"hatch_color\":{\"type\":\"value\",\"value\":\"#2980b9\"},\"hatch_alpha\":{\"type\":\"value\",\"value\":0.2}}}}},{\"type\":\"object\",\"name\":\"GlyphRenderer\",\"id\":\"p1479\",\"attributes\":{\"name\":\"SOC\",\"data_source\":{\"type\":\"object\",\"name\":\"ColumnDataSource\",\"id\":\"p1470\",\"attributes\":{\"selected\":{\"type\":\"object\",\"name\":\"Selection\",\"id\":\"p1471\",\"attributes\":{\"indices\":[],\"line_indices\":[]}},\"selection_policy\":{\"type\":\"object\",\"name\":\"UnionRenderers\",\"id\":\"p1472\"},\"data\":{\"type\":\"map\",\"entries\":[[\"term\",[\"scrutin public\",\"majorit\\u00e9 absolu\",\"rapporteure g\\u00e9n\\u00e9ral\",\"s\\u00e9curit\\u00e9 social\",\"r\\u00e9gime sp\\u00e9cial\",\"index senior\",\"assurance vieilles\",\"mod\\u00e8le social\",\"r\\u00e9gime g\\u00e9n\\u00e9ral\",\"partenaire social\",\"article 10\",\"article 2\",\"cotisation social\",\"55 an\",\"index seniors\",\"carri\\u00e8re complet\",\"\\u00e2ge l\\u00e9gal\",\"finance public\",\"article 7\",\"64 an\",\"classe moyen\",\"article 100\",\"carri\\u00e8re long\",\"fonction public\",\"60 an\",\"organisation syndical\",\"carri\\u00e8re hach\\u00e9\",\"petit entreprise\",\"repr\\u00e9sentation national\",\"d\\u00e9bat d\\u00e9mocratique\",\"\\u00e9galit\\u00e9 salarial\",\"motion r\\u00e9f\\u00e9rendaire\",\"secteur priver\",\"salari\\u00e9 \\u00e2g\\u00e9\",\"justice social\",\"article 70\",\"service public\",\"dette public\"]],[\"GOV\",[88.04347826086956,100.0,50.0,19.10828025477707,7.718120805369128,9.230769230769232,30.23255813953488,50.0,14.285714285714285,30.555555555555557,10.869565217391305,7.317073170731707,10.606060606060606,14.000000000000002,7.142857142857142,20.0,5.660377358490567,16.666666666666664,4.587155963302752,3.5211267605633805,22.727272727272727,6.756756756756757,6.25,11.76470588235294,2.631578947368421,10.344827586206897,8.333333333333332,7.4074074074074066,4.878048780487805,40.0,6.25,10.0,9.523809523809524,3.7037037037037033,1.9607843137254901,2.631578947368421,2.0408163265306123,0]],[\"SER\",[0,0,0,1.2738853503184715,3.0201342281879198,1.5384615384615385,0,0,1.2987012987012987,2.7777777777777777,0,0,1.5151515151515151,0,2.0408163265306123,2.857142857142857,4.716981132075472,8.333333333333332,0.9174311926605505,4.225352112676056,0,0,1.5625,0,0.8771929824561403,3.4482758620689653,4.166666666666666,7.4074074074074066,4.878048780487805,0,0,5.0,4.761904761904762,0,1.9607843137254901,0,0,0]],[\"LFI\",[4.3478260869565215,0,4.545454545454546,25.477707006369428,26.51006711409396,21.025641025641026,25.581395348837212,4.166666666666666,23.376623376623375,5.555555555555555,31.521739130434785,21.138211382113823,42.42424242424242,24.0,23.46938775510204,28.57142857142857,25.471698113207548,8.333333333333332,20.18348623853211,38.732394366197184,22.727272727272727,33.78378378378378,35.9375,20.588235294117645,55.26315789473685,20.689655172413794,20.833333333333336,14.814814814814813,31.70731707317073,20.0,56.25,5.0,14.285714285714285,7.4074074074074066,33.33333333333333,34.21052631578947,44.89795918367347,0]],[\"GDR\",[2.1739130434782608,0,6.8181818181818175,7.643312101910828,9.731543624161073,4.102564102564102,6.976744186046512,0,12.987012987012985,0,4.3478260869565215,5.691056910569105,12.121212121212121,2.0,5.1020408163265305,8.571428571428571,2.8301886792452833,5.555555555555555,7.339449541284404,4.225352112676056,0,4.054054054054054,3.125,11.76470588235294,7.017543859649122,31.03448275862069,0,0,4.878048780487805,20.0,3.125,5.0,14.285714285714285,0,3.9215686274509802,5.263157894736842,14.285714285714285,16.666666666666664]],[\"ECO\",[0,0,4.545454545454546,3.1847133757961785,4.026845637583892,7.179487179487179,0,4.166666666666666,0,0,5.434782608695652,8.130081300813007,4.545454545454546,4.0,6.122448979591836,5.714285714285714,5.660377358490567,0,6.422018348623854,6.338028169014084,0,6.756756756756757,0,2.941176470588235,4.385964912280701,3.4482758620689653,4.166666666666666,0,2.4390243902439024,0,18.75,5.0,9.523809523809524,0,9.803921568627452,7.894736842105263,4.081632653061225,0]],[\"NI\",[0,0,0,1.910828025477707,1.342281879194631,2.051282051282051,4.651162790697675,8.333333333333332,1.2987012987012987,0,1.0869565217391304,3.2520325203252036,0,6.0,1.0204081632653061,2.857142857142857,5.660377358490567,5.555555555555555,2.7522935779816518,4.929577464788732,0,1.3513513513513513,0,8.823529411764707,3.508771929824561,0,0,0,4.878048780487805,0,0,20.0,0,3.7037037037037033,1.9607843137254901,2.631578947368421,4.081632653061225,50.0]],[\"UDI\",[0,0,4.545454545454546,4.45859872611465,4.3624161073825505,5.128205128205128,0,0,6.493506493506493,19.444444444444446,1.0869565217391304,4.0650406504065035,6.0606060606060606,12.0,7.142857142857142,0,1.8867924528301887,8.333333333333332,0.9174311926605505,0.7042253521126761,0,0,1.5625,14.705882352941178,5.263157894736842,6.896551724137931,12.5,7.4074074074074066,0,0,0,15.0,4.761904761904762,7.4074074074074066,3.9215686274509802,0,4.081632653061225,0]],[\"REN\",[0,0,3.4090909090909087,9.554140127388536,14.429530201342283,21.025641025641026,9.30232558139535,8.333333333333332,15.584415584415584,19.444444444444446,18.478260869565215,17.073170731707318,1.5151515151515151,4.0,18.367346938775512,5.714285714285714,12.264150943396226,8.333333333333332,22.018348623853214,9.15492957746479,9.090909090909092,17.56756756756757,12.5,8.823529411764707,6.140350877192982,10.344827586206897,16.666666666666664,14.814814814814813,2.4390243902439024,0,6.25,0,9.523809523809524,18.51851851851852,9.803921568627452,13.157894736842104,8.16326530612245,16.666666666666664]],[\"MODEM\",[2.1739130434782608,0,2.272727272727273,5.095541401273886,3.3557046979865772,2.051282051282051,6.976744186046512,4.166666666666666,6.493506493506493,8.333333333333332,3.260869565217391,3.2520325203252036,3.0303030303030303,2.0,0,2.857142857142857,1.8867924528301887,11.11111111111111,7.339449541284404,2.112676056338028,4.545454545454546,4.054054054054054,6.25,5.88235294117647,1.7543859649122806,3.4482758620689653,0,3.7037037037037033,2.4390243902439024,0,0,0,4.761904761904762,0,1.9607843137254901,10.526315789473683,2.0408163265306123,0]],[\"LIOT\",[0,0,0,1.910828025477707,0,3.076923076923077,2.3255813953488373,0,1.2987012987012987,0,0,2.4390243902439024,1.5151515151515151,2.0,5.1020408163265305,0,4.716981132075472,0,0.9174311926605505,2.8169014084507045,0,0,3.125,0,0,0,12.5,0,4.878048780487805,0,0,0,9.523809523809524,3.7037037037037033,3.9215686274509802,2.631578947368421,0,0]],[\"RN\",[0,0,5.681818181818182,4.45859872611465,6.375838926174497,4.102564102564102,0,4.166666666666666,1.2987012987012987,0,9.782608695652174,4.878048780487805,0,6.0,4.081632653061225,5.714285714285714,8.49056603773585,13.88888888888889,12.844036697247708,10.56338028169014,18.181818181818183,10.81081081081081,6.25,0,7.017543859649122,0,4.166666666666666,14.814814814814813,12.195121951219512,0,0,20.0,4.761904761904762,7.4074074074074066,3.9215686274509802,0,4.081632653061225,16.666666666666664]],[\"LR\",[2.1739130434782608,0,12.5,11.464968152866243,11.073825503355705,12.82051282051282,9.30232558139535,16.666666666666664,6.493506493506493,2.7777777777777777,9.782608695652174,16.260162601626014,9.090909090909092,18.0,14.285714285714285,17.142857142857142,9.433962264150944,5.555555555555555,8.256880733944955,6.338028169014084,9.090909090909092,9.45945945945946,20.3125,11.76470588235294,5.263157894736842,0,12.5,25.925925925925924,12.195121951219512,0,0,15.0,4.761904761904762,40.74074074074074,13.725490196078432,10.526315789473683,6.122448979591836,0]],[\"SOC\",[1.0869565217391304,0,5.681818181818182,4.45859872611465,8.053691275167784,6.153846153846154,4.651162790697675,0,9.090909090909092,11.11111111111111,4.3478260869565215,5.691056910569105,7.575757575757576,6.0,5.1020408163265305,0,11.320754716981133,8.333333333333332,4.587155963302752,6.338028169014084,9.090909090909092,5.405405405405405,3.125,2.941176470588235,0,10.344827586206897,4.166666666666666,3.7037037037037033,12.195121951219512,0,6.25,0,4.761904761904762,7.4074074074074066,9.803921568627452,7.894736842105263,6.122448979591836,0]],[\"HOR\",[0,0,0,0,0,0,0,0,0,0,0,0,0,0,0,0,0,0,0.9174311926605505,0,4.545454545454546,0,0,0,0.8771929824561403,0,0,0,0,20.0,3.125,0,0,0,0,2.631578947368421,0,0]],[\"RRDP\",[0,0,0,0,0,0.5128205128205128,0,0,0,0,0,0.8130081300813009,0,0,1.0204081632653061,0,0,0,0,0,0,0,0,0,0,0,0,0,0,0,0,0,4.761904761904762,0,0,0,0,0]]]}}},\"view\":{\"type\":\"object\",\"name\":\"CDSView\",\"id\":\"p1480\",\"attributes\":{\"filter\":{\"type\":\"object\",\"name\":\"AllIndices\",\"id\":\"p1481\"}}},\"glyph\":{\"type\":\"object\",\"name\":\"HBar\",\"id\":\"p1476\",\"attributes\":{\"y\":{\"type\":\"field\",\"field\":\"term\"},\"left\":{\"type\":\"expr\",\"expr\":{\"type\":\"object\",\"name\":\"Stack\",\"id\":\"p1320\",\"attributes\":{\"fields\":[\"GOV\",\"SER\",\"LFI\",\"GDR\",\"ECO\",\"NI\",\"UDI\",\"REN\",\"MODEM\",\"LIOT\",\"RN\",\"LR\"]}}},\"right\":{\"type\":\"expr\",\"expr\":{\"type\":\"object\",\"name\":\"Stack\",\"id\":\"p1321\",\"attributes\":{\"fields\":[\"GOV\",\"SER\",\"LFI\",\"GDR\",\"ECO\",\"NI\",\"UDI\",\"REN\",\"MODEM\",\"LIOT\",\"RN\",\"LR\",\"SOC\"]}}},\"line_color\":{\"type\":\"value\",\"value\":\"#444\"},\"line_width\":{\"type\":\"value\",\"value\":0.9},\"fill_color\":{\"type\":\"value\",\"value\":\"#ED4C67\"},\"hatch_color\":{\"type\":\"value\",\"value\":\"#ED4C67\"}}},\"nonselection_glyph\":{\"type\":\"object\",\"name\":\"HBar\",\"id\":\"p1477\",\"attributes\":{\"y\":{\"type\":\"field\",\"field\":\"term\"},\"left\":{\"type\":\"expr\",\"expr\":{\"id\":\"p1320\"}},\"right\":{\"type\":\"expr\",\"expr\":{\"id\":\"p1321\"}},\"line_color\":{\"type\":\"value\",\"value\":\"#444\"},\"line_alpha\":{\"type\":\"value\",\"value\":0.1},\"line_width\":{\"type\":\"value\",\"value\":0.9},\"fill_color\":{\"type\":\"value\",\"value\":\"#ED4C67\"},\"fill_alpha\":{\"type\":\"value\",\"value\":0.1},\"hatch_color\":{\"type\":\"value\",\"value\":\"#ED4C67\"},\"hatch_alpha\":{\"type\":\"value\",\"value\":0.1}}},\"muted_glyph\":{\"type\":\"object\",\"name\":\"HBar\",\"id\":\"p1478\",\"attributes\":{\"y\":{\"type\":\"field\",\"field\":\"term\"},\"left\":{\"type\":\"expr\",\"expr\":{\"id\":\"p1320\"}},\"right\":{\"type\":\"expr\",\"expr\":{\"id\":\"p1321\"}},\"line_color\":{\"type\":\"value\",\"value\":\"#444\"},\"line_alpha\":{\"type\":\"value\",\"value\":0.2},\"line_width\":{\"type\":\"value\",\"value\":0.9},\"fill_color\":{\"type\":\"value\",\"value\":\"#ED4C67\"},\"fill_alpha\":{\"type\":\"value\",\"value\":0.2},\"hatch_color\":{\"type\":\"value\",\"value\":\"#ED4C67\"},\"hatch_alpha\":{\"type\":\"value\",\"value\":0.2}}}}},{\"type\":\"object\",\"name\":\"GlyphRenderer\",\"id\":\"p1491\",\"attributes\":{\"name\":\"HOR\",\"data_source\":{\"type\":\"object\",\"name\":\"ColumnDataSource\",\"id\":\"p1482\",\"attributes\":{\"selected\":{\"type\":\"object\",\"name\":\"Selection\",\"id\":\"p1483\",\"attributes\":{\"indices\":[],\"line_indices\":[]}},\"selection_policy\":{\"type\":\"object\",\"name\":\"UnionRenderers\",\"id\":\"p1484\"},\"data\":{\"type\":\"map\",\"entries\":[[\"term\",[\"scrutin public\",\"majorit\\u00e9 absolu\",\"rapporteure g\\u00e9n\\u00e9ral\",\"s\\u00e9curit\\u00e9 social\",\"r\\u00e9gime sp\\u00e9cial\",\"index senior\",\"assurance vieilles\",\"mod\\u00e8le social\",\"r\\u00e9gime g\\u00e9n\\u00e9ral\",\"partenaire social\",\"article 10\",\"article 2\",\"cotisation social\",\"55 an\",\"index seniors\",\"carri\\u00e8re complet\",\"\\u00e2ge l\\u00e9gal\",\"finance public\",\"article 7\",\"64 an\",\"classe moyen\",\"article 100\",\"carri\\u00e8re long\",\"fonction public\",\"60 an\",\"organisation syndical\",\"carri\\u00e8re hach\\u00e9\",\"petit entreprise\",\"repr\\u00e9sentation national\",\"d\\u00e9bat d\\u00e9mocratique\",\"\\u00e9galit\\u00e9 salarial\",\"motion r\\u00e9f\\u00e9rendaire\",\"secteur priver\",\"salari\\u00e9 \\u00e2g\\u00e9\",\"justice social\",\"article 70\",\"service public\",\"dette public\"]],[\"GOV\",[88.04347826086956,100.0,50.0,19.10828025477707,7.718120805369128,9.230769230769232,30.23255813953488,50.0,14.285714285714285,30.555555555555557,10.869565217391305,7.317073170731707,10.606060606060606,14.000000000000002,7.142857142857142,20.0,5.660377358490567,16.666666666666664,4.587155963302752,3.5211267605633805,22.727272727272727,6.756756756756757,6.25,11.76470588235294,2.631578947368421,10.344827586206897,8.333333333333332,7.4074074074074066,4.878048780487805,40.0,6.25,10.0,9.523809523809524,3.7037037037037033,1.9607843137254901,2.631578947368421,2.0408163265306123,0]],[\"SER\",[0,0,0,1.2738853503184715,3.0201342281879198,1.5384615384615385,0,0,1.2987012987012987,2.7777777777777777,0,0,1.5151515151515151,0,2.0408163265306123,2.857142857142857,4.716981132075472,8.333333333333332,0.9174311926605505,4.225352112676056,0,0,1.5625,0,0.8771929824561403,3.4482758620689653,4.166666666666666,7.4074074074074066,4.878048780487805,0,0,5.0,4.761904761904762,0,1.9607843137254901,0,0,0]],[\"LFI\",[4.3478260869565215,0,4.545454545454546,25.477707006369428,26.51006711409396,21.025641025641026,25.581395348837212,4.166666666666666,23.376623376623375,5.555555555555555,31.521739130434785,21.138211382113823,42.42424242424242,24.0,23.46938775510204,28.57142857142857,25.471698113207548,8.333333333333332,20.18348623853211,38.732394366197184,22.727272727272727,33.78378378378378,35.9375,20.588235294117645,55.26315789473685,20.689655172413794,20.833333333333336,14.814814814814813,31.70731707317073,20.0,56.25,5.0,14.285714285714285,7.4074074074074066,33.33333333333333,34.21052631578947,44.89795918367347,0]],[\"GDR\",[2.1739130434782608,0,6.8181818181818175,7.643312101910828,9.731543624161073,4.102564102564102,6.976744186046512,0,12.987012987012985,0,4.3478260869565215,5.691056910569105,12.121212121212121,2.0,5.1020408163265305,8.571428571428571,2.8301886792452833,5.555555555555555,7.339449541284404,4.225352112676056,0,4.054054054054054,3.125,11.76470588235294,7.017543859649122,31.03448275862069,0,0,4.878048780487805,20.0,3.125,5.0,14.285714285714285,0,3.9215686274509802,5.263157894736842,14.285714285714285,16.666666666666664]],[\"ECO\",[0,0,4.545454545454546,3.1847133757961785,4.026845637583892,7.179487179487179,0,4.166666666666666,0,0,5.434782608695652,8.130081300813007,4.545454545454546,4.0,6.122448979591836,5.714285714285714,5.660377358490567,0,6.422018348623854,6.338028169014084,0,6.756756756756757,0,2.941176470588235,4.385964912280701,3.4482758620689653,4.166666666666666,0,2.4390243902439024,0,18.75,5.0,9.523809523809524,0,9.803921568627452,7.894736842105263,4.081632653061225,0]],[\"NI\",[0,0,0,1.910828025477707,1.342281879194631,2.051282051282051,4.651162790697675,8.333333333333332,1.2987012987012987,0,1.0869565217391304,3.2520325203252036,0,6.0,1.0204081632653061,2.857142857142857,5.660377358490567,5.555555555555555,2.7522935779816518,4.929577464788732,0,1.3513513513513513,0,8.823529411764707,3.508771929824561,0,0,0,4.878048780487805,0,0,20.0,0,3.7037037037037033,1.9607843137254901,2.631578947368421,4.081632653061225,50.0]],[\"UDI\",[0,0,4.545454545454546,4.45859872611465,4.3624161073825505,5.128205128205128,0,0,6.493506493506493,19.444444444444446,1.0869565217391304,4.0650406504065035,6.0606060606060606,12.0,7.142857142857142,0,1.8867924528301887,8.333333333333332,0.9174311926605505,0.7042253521126761,0,0,1.5625,14.705882352941178,5.263157894736842,6.896551724137931,12.5,7.4074074074074066,0,0,0,15.0,4.761904761904762,7.4074074074074066,3.9215686274509802,0,4.081632653061225,0]],[\"REN\",[0,0,3.4090909090909087,9.554140127388536,14.429530201342283,21.025641025641026,9.30232558139535,8.333333333333332,15.584415584415584,19.444444444444446,18.478260869565215,17.073170731707318,1.5151515151515151,4.0,18.367346938775512,5.714285714285714,12.264150943396226,8.333333333333332,22.018348623853214,9.15492957746479,9.090909090909092,17.56756756756757,12.5,8.823529411764707,6.140350877192982,10.344827586206897,16.666666666666664,14.814814814814813,2.4390243902439024,0,6.25,0,9.523809523809524,18.51851851851852,9.803921568627452,13.157894736842104,8.16326530612245,16.666666666666664]],[\"MODEM\",[2.1739130434782608,0,2.272727272727273,5.095541401273886,3.3557046979865772,2.051282051282051,6.976744186046512,4.166666666666666,6.493506493506493,8.333333333333332,3.260869565217391,3.2520325203252036,3.0303030303030303,2.0,0,2.857142857142857,1.8867924528301887,11.11111111111111,7.339449541284404,2.112676056338028,4.545454545454546,4.054054054054054,6.25,5.88235294117647,1.7543859649122806,3.4482758620689653,0,3.7037037037037033,2.4390243902439024,0,0,0,4.761904761904762,0,1.9607843137254901,10.526315789473683,2.0408163265306123,0]],[\"LIOT\",[0,0,0,1.910828025477707,0,3.076923076923077,2.3255813953488373,0,1.2987012987012987,0,0,2.4390243902439024,1.5151515151515151,2.0,5.1020408163265305,0,4.716981132075472,0,0.9174311926605505,2.8169014084507045,0,0,3.125,0,0,0,12.5,0,4.878048780487805,0,0,0,9.523809523809524,3.7037037037037033,3.9215686274509802,2.631578947368421,0,0]],[\"RN\",[0,0,5.681818181818182,4.45859872611465,6.375838926174497,4.102564102564102,0,4.166666666666666,1.2987012987012987,0,9.782608695652174,4.878048780487805,0,6.0,4.081632653061225,5.714285714285714,8.49056603773585,13.88888888888889,12.844036697247708,10.56338028169014,18.181818181818183,10.81081081081081,6.25,0,7.017543859649122,0,4.166666666666666,14.814814814814813,12.195121951219512,0,0,20.0,4.761904761904762,7.4074074074074066,3.9215686274509802,0,4.081632653061225,16.666666666666664]],[\"LR\",[2.1739130434782608,0,12.5,11.464968152866243,11.073825503355705,12.82051282051282,9.30232558139535,16.666666666666664,6.493506493506493,2.7777777777777777,9.782608695652174,16.260162601626014,9.090909090909092,18.0,14.285714285714285,17.142857142857142,9.433962264150944,5.555555555555555,8.256880733944955,6.338028169014084,9.090909090909092,9.45945945945946,20.3125,11.76470588235294,5.263157894736842,0,12.5,25.925925925925924,12.195121951219512,0,0,15.0,4.761904761904762,40.74074074074074,13.725490196078432,10.526315789473683,6.122448979591836,0]],[\"SOC\",[1.0869565217391304,0,5.681818181818182,4.45859872611465,8.053691275167784,6.153846153846154,4.651162790697675,0,9.090909090909092,11.11111111111111,4.3478260869565215,5.691056910569105,7.575757575757576,6.0,5.1020408163265305,0,11.320754716981133,8.333333333333332,4.587155963302752,6.338028169014084,9.090909090909092,5.405405405405405,3.125,2.941176470588235,0,10.344827586206897,4.166666666666666,3.7037037037037033,12.195121951219512,0,6.25,0,4.761904761904762,7.4074074074074066,9.803921568627452,7.894736842105263,6.122448979591836,0]],[\"HOR\",[0,0,0,0,0,0,0,0,0,0,0,0,0,0,0,0,0,0,0.9174311926605505,0,4.545454545454546,0,0,0,0.8771929824561403,0,0,0,0,20.0,3.125,0,0,0,0,2.631578947368421,0,0]],[\"RRDP\",[0,0,0,0,0,0.5128205128205128,0,0,0,0,0,0.8130081300813009,0,0,1.0204081632653061,0,0,0,0,0,0,0,0,0,0,0,0,0,0,0,0,0,4.761904761904762,0,0,0,0,0]]]}}},\"view\":{\"type\":\"object\",\"name\":\"CDSView\",\"id\":\"p1492\",\"attributes\":{\"filter\":{\"type\":\"object\",\"name\":\"AllIndices\",\"id\":\"p1493\"}}},\"glyph\":{\"type\":\"object\",\"name\":\"HBar\",\"id\":\"p1488\",\"attributes\":{\"y\":{\"type\":\"field\",\"field\":\"term\"},\"left\":{\"type\":\"expr\",\"expr\":{\"type\":\"object\",\"name\":\"Stack\",\"id\":\"p1322\",\"attributes\":{\"fields\":[\"GOV\",\"SER\",\"LFI\",\"GDR\",\"ECO\",\"NI\",\"UDI\",\"REN\",\"MODEM\",\"LIOT\",\"RN\",\"LR\",\"SOC\"]}}},\"right\":{\"type\":\"expr\",\"expr\":{\"type\":\"object\",\"name\":\"Stack\",\"id\":\"p1323\",\"attributes\":{\"fields\":[\"GOV\",\"SER\",\"LFI\",\"GDR\",\"ECO\",\"NI\",\"UDI\",\"REN\",\"MODEM\",\"LIOT\",\"RN\",\"LR\",\"SOC\",\"HOR\"]}}},\"line_color\":{\"type\":\"value\",\"value\":\"#444\"},\"line_width\":{\"type\":\"value\",\"value\":0.9},\"fill_color\":{\"type\":\"value\",\"value\":\"#1B1464\"},\"hatch_color\":{\"type\":\"value\",\"value\":\"#1B1464\"}}},\"nonselection_glyph\":{\"type\":\"object\",\"name\":\"HBar\",\"id\":\"p1489\",\"attributes\":{\"y\":{\"type\":\"field\",\"field\":\"term\"},\"left\":{\"type\":\"expr\",\"expr\":{\"id\":\"p1322\"}},\"right\":{\"type\":\"expr\",\"expr\":{\"id\":\"p1323\"}},\"line_color\":{\"type\":\"value\",\"value\":\"#444\"},\"line_alpha\":{\"type\":\"value\",\"value\":0.1},\"line_width\":{\"type\":\"value\",\"value\":0.9},\"fill_color\":{\"type\":\"value\",\"value\":\"#1B1464\"},\"fill_alpha\":{\"type\":\"value\",\"value\":0.1},\"hatch_color\":{\"type\":\"value\",\"value\":\"#1B1464\"},\"hatch_alpha\":{\"type\":\"value\",\"value\":0.1}}},\"muted_glyph\":{\"type\":\"object\",\"name\":\"HBar\",\"id\":\"p1490\",\"attributes\":{\"y\":{\"type\":\"field\",\"field\":\"term\"},\"left\":{\"type\":\"expr\",\"expr\":{\"id\":\"p1322\"}},\"right\":{\"type\":\"expr\",\"expr\":{\"id\":\"p1323\"}},\"line_color\":{\"type\":\"value\",\"value\":\"#444\"},\"line_alpha\":{\"type\":\"value\",\"value\":0.2},\"line_width\":{\"type\":\"value\",\"value\":0.9},\"fill_color\":{\"type\":\"value\",\"value\":\"#1B1464\"},\"fill_alpha\":{\"type\":\"value\",\"value\":0.2},\"hatch_color\":{\"type\":\"value\",\"value\":\"#1B1464\"},\"hatch_alpha\":{\"type\":\"value\",\"value\":0.2}}}}},{\"type\":\"object\",\"name\":\"GlyphRenderer\",\"id\":\"p1503\",\"attributes\":{\"name\":\"RRDP\",\"data_source\":{\"type\":\"object\",\"name\":\"ColumnDataSource\",\"id\":\"p1494\",\"attributes\":{\"selected\":{\"type\":\"object\",\"name\":\"Selection\",\"id\":\"p1495\",\"attributes\":{\"indices\":[],\"line_indices\":[]}},\"selection_policy\":{\"type\":\"object\",\"name\":\"UnionRenderers\",\"id\":\"p1496\"},\"data\":{\"type\":\"map\",\"entries\":[[\"term\",[\"scrutin public\",\"majorit\\u00e9 absolu\",\"rapporteure g\\u00e9n\\u00e9ral\",\"s\\u00e9curit\\u00e9 social\",\"r\\u00e9gime sp\\u00e9cial\",\"index senior\",\"assurance vieilles\",\"mod\\u00e8le social\",\"r\\u00e9gime g\\u00e9n\\u00e9ral\",\"partenaire social\",\"article 10\",\"article 2\",\"cotisation social\",\"55 an\",\"index seniors\",\"carri\\u00e8re complet\",\"\\u00e2ge l\\u00e9gal\",\"finance public\",\"article 7\",\"64 an\",\"classe moyen\",\"article 100\",\"carri\\u00e8re long\",\"fonction public\",\"60 an\",\"organisation syndical\",\"carri\\u00e8re hach\\u00e9\",\"petit entreprise\",\"repr\\u00e9sentation national\",\"d\\u00e9bat d\\u00e9mocratique\",\"\\u00e9galit\\u00e9 salarial\",\"motion r\\u00e9f\\u00e9rendaire\",\"secteur priver\",\"salari\\u00e9 \\u00e2g\\u00e9\",\"justice social\",\"article 70\",\"service public\",\"dette public\"]],[\"GOV\",[88.04347826086956,100.0,50.0,19.10828025477707,7.718120805369128,9.230769230769232,30.23255813953488,50.0,14.285714285714285,30.555555555555557,10.869565217391305,7.317073170731707,10.606060606060606,14.000000000000002,7.142857142857142,20.0,5.660377358490567,16.666666666666664,4.587155963302752,3.5211267605633805,22.727272727272727,6.756756756756757,6.25,11.76470588235294,2.631578947368421,10.344827586206897,8.333333333333332,7.4074074074074066,4.878048780487805,40.0,6.25,10.0,9.523809523809524,3.7037037037037033,1.9607843137254901,2.631578947368421,2.0408163265306123,0]],[\"SER\",[0,0,0,1.2738853503184715,3.0201342281879198,1.5384615384615385,0,0,1.2987012987012987,2.7777777777777777,0,0,1.5151515151515151,0,2.0408163265306123,2.857142857142857,4.716981132075472,8.333333333333332,0.9174311926605505,4.225352112676056,0,0,1.5625,0,0.8771929824561403,3.4482758620689653,4.166666666666666,7.4074074074074066,4.878048780487805,0,0,5.0,4.761904761904762,0,1.9607843137254901,0,0,0]],[\"LFI\",[4.3478260869565215,0,4.545454545454546,25.477707006369428,26.51006711409396,21.025641025641026,25.581395348837212,4.166666666666666,23.376623376623375,5.555555555555555,31.521739130434785,21.138211382113823,42.42424242424242,24.0,23.46938775510204,28.57142857142857,25.471698113207548,8.333333333333332,20.18348623853211,38.732394366197184,22.727272727272727,33.78378378378378,35.9375,20.588235294117645,55.26315789473685,20.689655172413794,20.833333333333336,14.814814814814813,31.70731707317073,20.0,56.25,5.0,14.285714285714285,7.4074074074074066,33.33333333333333,34.21052631578947,44.89795918367347,0]],[\"GDR\",[2.1739130434782608,0,6.8181818181818175,7.643312101910828,9.731543624161073,4.102564102564102,6.976744186046512,0,12.987012987012985,0,4.3478260869565215,5.691056910569105,12.121212121212121,2.0,5.1020408163265305,8.571428571428571,2.8301886792452833,5.555555555555555,7.339449541284404,4.225352112676056,0,4.054054054054054,3.125,11.76470588235294,7.017543859649122,31.03448275862069,0,0,4.878048780487805,20.0,3.125,5.0,14.285714285714285,0,3.9215686274509802,5.263157894736842,14.285714285714285,16.666666666666664]],[\"ECO\",[0,0,4.545454545454546,3.1847133757961785,4.026845637583892,7.179487179487179,0,4.166666666666666,0,0,5.434782608695652,8.130081300813007,4.545454545454546,4.0,6.122448979591836,5.714285714285714,5.660377358490567,0,6.422018348623854,6.338028169014084,0,6.756756756756757,0,2.941176470588235,4.385964912280701,3.4482758620689653,4.166666666666666,0,2.4390243902439024,0,18.75,5.0,9.523809523809524,0,9.803921568627452,7.894736842105263,4.081632653061225,0]],[\"NI\",[0,0,0,1.910828025477707,1.342281879194631,2.051282051282051,4.651162790697675,8.333333333333332,1.2987012987012987,0,1.0869565217391304,3.2520325203252036,0,6.0,1.0204081632653061,2.857142857142857,5.660377358490567,5.555555555555555,2.7522935779816518,4.929577464788732,0,1.3513513513513513,0,8.823529411764707,3.508771929824561,0,0,0,4.878048780487805,0,0,20.0,0,3.7037037037037033,1.9607843137254901,2.631578947368421,4.081632653061225,50.0]],[\"UDI\",[0,0,4.545454545454546,4.45859872611465,4.3624161073825505,5.128205128205128,0,0,6.493506493506493,19.444444444444446,1.0869565217391304,4.0650406504065035,6.0606060606060606,12.0,7.142857142857142,0,1.8867924528301887,8.333333333333332,0.9174311926605505,0.7042253521126761,0,0,1.5625,14.705882352941178,5.263157894736842,6.896551724137931,12.5,7.4074074074074066,0,0,0,15.0,4.761904761904762,7.4074074074074066,3.9215686274509802,0,4.081632653061225,0]],[\"REN\",[0,0,3.4090909090909087,9.554140127388536,14.429530201342283,21.025641025641026,9.30232558139535,8.333333333333332,15.584415584415584,19.444444444444446,18.478260869565215,17.073170731707318,1.5151515151515151,4.0,18.367346938775512,5.714285714285714,12.264150943396226,8.333333333333332,22.018348623853214,9.15492957746479,9.090909090909092,17.56756756756757,12.5,8.823529411764707,6.140350877192982,10.344827586206897,16.666666666666664,14.814814814814813,2.4390243902439024,0,6.25,0,9.523809523809524,18.51851851851852,9.803921568627452,13.157894736842104,8.16326530612245,16.666666666666664]],[\"MODEM\",[2.1739130434782608,0,2.272727272727273,5.095541401273886,3.3557046979865772,2.051282051282051,6.976744186046512,4.166666666666666,6.493506493506493,8.333333333333332,3.260869565217391,3.2520325203252036,3.0303030303030303,2.0,0,2.857142857142857,1.8867924528301887,11.11111111111111,7.339449541284404,2.112676056338028,4.545454545454546,4.054054054054054,6.25,5.88235294117647,1.7543859649122806,3.4482758620689653,0,3.7037037037037033,2.4390243902439024,0,0,0,4.761904761904762,0,1.9607843137254901,10.526315789473683,2.0408163265306123,0]],[\"LIOT\",[0,0,0,1.910828025477707,0,3.076923076923077,2.3255813953488373,0,1.2987012987012987,0,0,2.4390243902439024,1.5151515151515151,2.0,5.1020408163265305,0,4.716981132075472,0,0.9174311926605505,2.8169014084507045,0,0,3.125,0,0,0,12.5,0,4.878048780487805,0,0,0,9.523809523809524,3.7037037037037033,3.9215686274509802,2.631578947368421,0,0]],[\"RN\",[0,0,5.681818181818182,4.45859872611465,6.375838926174497,4.102564102564102,0,4.166666666666666,1.2987012987012987,0,9.782608695652174,4.878048780487805,0,6.0,4.081632653061225,5.714285714285714,8.49056603773585,13.88888888888889,12.844036697247708,10.56338028169014,18.181818181818183,10.81081081081081,6.25,0,7.017543859649122,0,4.166666666666666,14.814814814814813,12.195121951219512,0,0,20.0,4.761904761904762,7.4074074074074066,3.9215686274509802,0,4.081632653061225,16.666666666666664]],[\"LR\",[2.1739130434782608,0,12.5,11.464968152866243,11.073825503355705,12.82051282051282,9.30232558139535,16.666666666666664,6.493506493506493,2.7777777777777777,9.782608695652174,16.260162601626014,9.090909090909092,18.0,14.285714285714285,17.142857142857142,9.433962264150944,5.555555555555555,8.256880733944955,6.338028169014084,9.090909090909092,9.45945945945946,20.3125,11.76470588235294,5.263157894736842,0,12.5,25.925925925925924,12.195121951219512,0,0,15.0,4.761904761904762,40.74074074074074,13.725490196078432,10.526315789473683,6.122448979591836,0]],[\"SOC\",[1.0869565217391304,0,5.681818181818182,4.45859872611465,8.053691275167784,6.153846153846154,4.651162790697675,0,9.090909090909092,11.11111111111111,4.3478260869565215,5.691056910569105,7.575757575757576,6.0,5.1020408163265305,0,11.320754716981133,8.333333333333332,4.587155963302752,6.338028169014084,9.090909090909092,5.405405405405405,3.125,2.941176470588235,0,10.344827586206897,4.166666666666666,3.7037037037037033,12.195121951219512,0,6.25,0,4.761904761904762,7.4074074074074066,9.803921568627452,7.894736842105263,6.122448979591836,0]],[\"HOR\",[0,0,0,0,0,0,0,0,0,0,0,0,0,0,0,0,0,0,0.9174311926605505,0,4.545454545454546,0,0,0,0.8771929824561403,0,0,0,0,20.0,3.125,0,0,0,0,2.631578947368421,0,0]],[\"RRDP\",[0,0,0,0,0,0.5128205128205128,0,0,0,0,0,0.8130081300813009,0,0,1.0204081632653061,0,0,0,0,0,0,0,0,0,0,0,0,0,0,0,0,0,4.761904761904762,0,0,0,0,0]]]}}},\"view\":{\"type\":\"object\",\"name\":\"CDSView\",\"id\":\"p1504\",\"attributes\":{\"filter\":{\"type\":\"object\",\"name\":\"AllIndices\",\"id\":\"p1505\"}}},\"glyph\":{\"type\":\"object\",\"name\":\"HBar\",\"id\":\"p1500\",\"attributes\":{\"y\":{\"type\":\"field\",\"field\":\"term\"},\"left\":{\"type\":\"expr\",\"expr\":{\"type\":\"object\",\"name\":\"Stack\",\"id\":\"p1324\",\"attributes\":{\"fields\":[\"GOV\",\"SER\",\"LFI\",\"GDR\",\"ECO\",\"NI\",\"UDI\",\"REN\",\"MODEM\",\"LIOT\",\"RN\",\"LR\",\"SOC\",\"HOR\"]}}},\"right\":{\"type\":\"expr\",\"expr\":{\"type\":\"object\",\"name\":\"Stack\",\"id\":\"p1325\",\"attributes\":{\"fields\":[\"GOV\",\"SER\",\"LFI\",\"GDR\",\"ECO\",\"NI\",\"UDI\",\"REN\",\"MODEM\",\"LIOT\",\"RN\",\"LR\",\"SOC\",\"HOR\",\"RRDP\"]}}},\"line_color\":{\"type\":\"value\",\"value\":\"#444\"},\"line_width\":{\"type\":\"value\",\"value\":0.9},\"fill_color\":{\"type\":\"value\",\"value\":\"#FFC312\"},\"hatch_color\":{\"type\":\"value\",\"value\":\"#FFC312\"}}},\"nonselection_glyph\":{\"type\":\"object\",\"name\":\"HBar\",\"id\":\"p1501\",\"attributes\":{\"y\":{\"type\":\"field\",\"field\":\"term\"},\"left\":{\"type\":\"expr\",\"expr\":{\"id\":\"p1324\"}},\"right\":{\"type\":\"expr\",\"expr\":{\"id\":\"p1325\"}},\"line_color\":{\"type\":\"value\",\"value\":\"#444\"},\"line_alpha\":{\"type\":\"value\",\"value\":0.1},\"line_width\":{\"type\":\"value\",\"value\":0.9},\"fill_color\":{\"type\":\"value\",\"value\":\"#FFC312\"},\"fill_alpha\":{\"type\":\"value\",\"value\":0.1},\"hatch_color\":{\"type\":\"value\",\"value\":\"#FFC312\"},\"hatch_alpha\":{\"type\":\"value\",\"value\":0.1}}},\"muted_glyph\":{\"type\":\"object\",\"name\":\"HBar\",\"id\":\"p1502\",\"attributes\":{\"y\":{\"type\":\"field\",\"field\":\"term\"},\"left\":{\"type\":\"expr\",\"expr\":{\"id\":\"p1324\"}},\"right\":{\"type\":\"expr\",\"expr\":{\"id\":\"p1325\"}},\"line_color\":{\"type\":\"value\",\"value\":\"#444\"},\"line_alpha\":{\"type\":\"value\",\"value\":0.2},\"line_width\":{\"type\":\"value\",\"value\":0.9},\"fill_color\":{\"type\":\"value\",\"value\":\"#FFC312\"},\"fill_alpha\":{\"type\":\"value\",\"value\":0.2},\"hatch_color\":{\"type\":\"value\",\"value\":\"#FFC312\"},\"hatch_alpha\":{\"type\":\"value\",\"value\":0.2}}}}}],\"toolbar\":{\"type\":\"object\",\"name\":\"Toolbar\",\"id\":\"p1269\",\"attributes\":{\"tools\":[{\"type\":\"object\",\"name\":\"HoverTool\",\"id\":\"p1293\",\"attributes\":{\"renderers\":\"auto\",\"tooltips\":\"@term($name) = @$name%\"}}]}},\"toolbar_location\":\"above\",\"left\":[{\"type\":\"object\",\"name\":\"CategoricalAxis\",\"id\":\"p1287\",\"attributes\":{\"ticker\":{\"type\":\"object\",\"name\":\"CategoricalTicker\",\"id\":\"p1288\"},\"formatter\":{\"type\":\"object\",\"name\":\"CategoricalTickFormatter\",\"id\":\"p1290\"},\"major_label_policy\":{\"type\":\"object\",\"name\":\"AllLabels\",\"id\":\"p1289\"}}}],\"right\":[{\"type\":\"object\",\"name\":\"Legend\",\"id\":\"p1506\",\"attributes\":{\"location\":\"center\",\"click_policy\":\"mute\",\"items\":[{\"type\":\"object\",\"name\":\"LegendItem\",\"id\":\"p1507\",\"attributes\":{\"label\":{\"type\":\"value\",\"value\":\"GOV\"},\"renderers\":[{\"id\":\"p1335\"}]}},{\"type\":\"object\",\"name\":\"LegendItem\",\"id\":\"p1508\",\"attributes\":{\"label\":{\"type\":\"value\",\"value\":\"SER\"},\"renderers\":[{\"id\":\"p1347\"}]}},{\"type\":\"object\",\"name\":\"LegendItem\",\"id\":\"p1509\",\"attributes\":{\"label\":{\"type\":\"value\",\"value\":\"LFI\"},\"renderers\":[{\"id\":\"p1359\"}]}},{\"type\":\"object\",\"name\":\"LegendItem\",\"id\":\"p1510\",\"attributes\":{\"label\":{\"type\":\"value\",\"value\":\"GDR\"},\"renderers\":[{\"id\":\"p1371\"}]}},{\"type\":\"object\",\"name\":\"LegendItem\",\"id\":\"p1511\",\"attributes\":{\"label\":{\"type\":\"value\",\"value\":\"ECO\"},\"renderers\":[{\"id\":\"p1383\"}]}},{\"type\":\"object\",\"name\":\"LegendItem\",\"id\":\"p1512\",\"attributes\":{\"label\":{\"type\":\"value\",\"value\":\"NI\"},\"renderers\":[{\"id\":\"p1395\"}]}},{\"type\":\"object\",\"name\":\"LegendItem\",\"id\":\"p1513\",\"attributes\":{\"label\":{\"type\":\"value\",\"value\":\"UDI\"},\"renderers\":[{\"id\":\"p1407\"}]}},{\"type\":\"object\",\"name\":\"LegendItem\",\"id\":\"p1514\",\"attributes\":{\"label\":{\"type\":\"value\",\"value\":\"REN\"},\"renderers\":[{\"id\":\"p1419\"}]}},{\"type\":\"object\",\"name\":\"LegendItem\",\"id\":\"p1515\",\"attributes\":{\"label\":{\"type\":\"value\",\"value\":\"MODEM\"},\"renderers\":[{\"id\":\"p1431\"}]}},{\"type\":\"object\",\"name\":\"LegendItem\",\"id\":\"p1516\",\"attributes\":{\"label\":{\"type\":\"value\",\"value\":\"LIOT\"},\"renderers\":[{\"id\":\"p1443\"}]}},{\"type\":\"object\",\"name\":\"LegendItem\",\"id\":\"p1517\",\"attributes\":{\"label\":{\"type\":\"value\",\"value\":\"RN\"},\"renderers\":[{\"id\":\"p1455\"}]}},{\"type\":\"object\",\"name\":\"LegendItem\",\"id\":\"p1518\",\"attributes\":{\"label\":{\"type\":\"value\",\"value\":\"LR\"},\"renderers\":[{\"id\":\"p1467\"}]}},{\"type\":\"object\",\"name\":\"LegendItem\",\"id\":\"p1519\",\"attributes\":{\"label\":{\"type\":\"value\",\"value\":\"SOC\"},\"renderers\":[{\"id\":\"p1479\"}]}},{\"type\":\"object\",\"name\":\"LegendItem\",\"id\":\"p1520\",\"attributes\":{\"label\":{\"type\":\"value\",\"value\":\"HOR\"},\"renderers\":[{\"id\":\"p1491\"}]}},{\"type\":\"object\",\"name\":\"LegendItem\",\"id\":\"p1521\",\"attributes\":{\"label\":{\"type\":\"value\",\"value\":\"RRDP\"},\"renderers\":[{\"id\":\"p1503\"}]}}]}}],\"below\":[{\"type\":\"object\",\"name\":\"LinearAxis\",\"id\":\"p1280\",\"attributes\":{\"ticker\":{\"type\":\"object\",\"name\":\"BasicTicker\",\"id\":\"p1281\",\"attributes\":{\"mantissas\":[1,2,5]}},\"formatter\":{\"type\":\"object\",\"name\":\"BasicTickFormatter\",\"id\":\"p1283\"},\"major_label_policy\":{\"type\":\"object\",\"name\":\"AllLabels\",\"id\":\"p1282\"}}}],\"center\":[{\"type\":\"object\",\"name\":\"Grid\",\"id\":\"p1286\",\"attributes\":{\"axis\":{\"id\":\"p1280\"},\"grid_line_color\":null}},{\"type\":\"object\",\"name\":\"Grid\",\"id\":\"p1292\",\"attributes\":{\"dimension\":1,\"axis\":{\"id\":\"p1287\"}}}]}}}},{\"type\":\"object\",\"name\":\"TabPanel\",\"id\":\"p1783\",\"attributes\":{\"title\":\"3 mots\",\"child\":{\"type\":\"object\",\"name\":\"Figure\",\"id\":\"p1523\",\"attributes\":{\"sizing_mode\":\"stretch_width\",\"x_range\":{\"type\":\"object\",\"name\":\"DataRange1d\",\"id\":\"p1525\",\"attributes\":{\"start\":0,\"end\":100}},\"y_range\":{\"type\":\"object\",\"name\":\"FactorRange\",\"id\":\"p1535\",\"attributes\":{\"factors\":[\"syst\\u00e8me de retraite\",\"loi de finance\",\"emploi de senior\",\"commission de affaire\",\"loi de financement\",\"probl\\u00e8me de financement\",\"\\u00e2ge de d\\u00e9part\",\"pension de retraite\",\"augmenter le imp\\u00f4t\",\"r\\u00e9forme de retraite\",\"taux de emploi\",\"clause de grand-p\\u00e8re\",\"syst\\u00e8me par r\\u00e9partition\",\"co\\u00fbt de travail\",\"\\u00e9tude de impact\",\"exon\\u00e9ration de cotisation\",\"r\\u00e9gime de retraite\",\"suppression de r\\u00e9gime\",\"1 200 euro\",\"pouvoir de achat\",\"taux de ch\\u00f4mage\",\"commission de finance\",\"march\\u00e9 de travail\",\"financer le retraite\",\"financement de syst\\u00e8me\",\"financement de retraite\",\"abaisser le seuil\",\"caisse de retraite\",\"condition de travail\",\"am\\u00e9liorer le taux\",\"augmenter le cotisation\",\"baisse de imp\\u00f4t\",\"loi de programmation\",\"m\\u00e8re de famille\",\"pension de r\\u00e9version\",\"d\\u00e9part en retraite\",\"esp\\u00e9rance de vie\",\"demandeur de emploi\",\"crit\\u00e8re de p\\u00e9nibilit\\u00e9\",\"faire un effort\",\"monde de travail\",\"strat\\u00e9gie de obstruction\",\"embauche de senior\",\"fonds de r\\u00e9serve\",\"variable de ajustement\"]}},\"x_scale\":{\"type\":\"object\",\"name\":\"LinearScale\",\"id\":\"p1537\"},\"y_scale\":{\"type\":\"object\",\"name\":\"CategoricalScale\",\"id\":\"p1539\"},\"title\":{\"type\":\"object\",\"name\":\"Title\",\"id\":\"p1526\",\"attributes\":{\"text\":\"Distribution des occurrences de top mots-cl\\u00e9s\"}},\"renderers\":[{\"type\":\"object\",\"name\":\"GlyphRenderer\",\"id\":\"p1596\",\"attributes\":{\"name\":\"GOV\",\"data_source\":{\"type\":\"object\",\"name\":\"ColumnDataSource\",\"id\":\"p1587\",\"attributes\":{\"selected\":{\"type\":\"object\",\"name\":\"Selection\",\"id\":\"p1588\",\"attributes\":{\"indices\":[],\"line_indices\":[]}},\"selection_policy\":{\"type\":\"object\",\"name\":\"UnionRenderers\",\"id\":\"p1589\"},\"data\":{\"type\":\"map\",\"entries\":[[\"term\",[\"syst\\u00e8me de retraite\",\"loi de finance\",\"emploi de senior\",\"commission de affaire\",\"loi de financement\",\"probl\\u00e8me de financement\",\"\\u00e2ge de d\\u00e9part\",\"pension de retraite\",\"augmenter le imp\\u00f4t\",\"r\\u00e9forme de retraite\",\"taux de emploi\",\"clause de grand-p\\u00e8re\",\"syst\\u00e8me par r\\u00e9partition\",\"co\\u00fbt de travail\",\"\\u00e9tude de impact\",\"exon\\u00e9ration de cotisation\",\"r\\u00e9gime de retraite\",\"suppression de r\\u00e9gime\",\"1 200 euro\",\"pouvoir de achat\",\"taux de ch\\u00f4mage\",\"commission de finance\",\"march\\u00e9 de travail\",\"financer le retraite\",\"financement de syst\\u00e8me\",\"financement de retraite\",\"abaisser le seuil\",\"caisse de retraite\",\"condition de travail\",\"am\\u00e9liorer le taux\",\"augmenter le cotisation\",\"baisse de imp\\u00f4t\",\"loi de programmation\",\"m\\u00e8re de famille\",\"pension de r\\u00e9version\",\"d\\u00e9part en retraite\",\"esp\\u00e9rance de vie\",\"demandeur de emploi\",\"crit\\u00e8re de p\\u00e9nibilit\\u00e9\",\"faire un effort\",\"monde de travail\",\"strat\\u00e9gie de obstruction\",\"embauche de senior\",\"fonds de r\\u00e9serve\",\"variable de ajustement\"]],[\"GOV\",[9.70873786407767,23.52941176470588,8.465608465608465,35.8974358974359,24.528301886792452,45.83333333333333,8.256880733944955,19.51219512195122,53.84615384615385,4.093567251461988,9.210526315789473,26.08695652173913,12.244897959183673,31.57894736842105,21.428571428571427,11.627906976744185,6.578947368421052,10.416666666666668,3.787878787878788,11.11111111111111,21.73913043478261,25.0,17.391304347826086,14.285714285714285,28.57142857142857,9.090909090909092,21.428571428571427,6.0,6.976744186046512,10.526315789473683,12.5,10.526315789473683,10.526315789473683,6.666666666666667,14.285714285714285,4.0,0,0,0,0,0,0,0,0,0]],[\"SER\",[1.9417475728155338,1.4705882352941175,1.0582010582010581,0,1.8867924528301887,0,4.587155963302752,2.4390243902439024,0,1.1695906432748537,0,0,0,5.263157894736842,3.571428571428571,2.3255813953488373,1.3157894736842104,6.25,0.7575757575757576,2.2222222222222223,0,5.0,0,0,0,0,0,4.0,0,0,0,0,15.789473684210526,0,0,0,8.0,12.5,5.263157894736842,0,0,0,0,0,0]],[\"LFI\",[30.097087378640776,14.705882352941178,8.994708994708994,10.256410256410255,7.547169811320755,33.33333333333333,26.605504587155966,29.268292682926827,0,32.16374269005848,7.894736842105263,17.391304347826086,16.3265306122449,15.789473684210526,28.57142857142857,48.837209302325576,32.89473684210527,20.833333333333336,62.121212121212125,11.11111111111111,13.043478260869565,15.0,21.73913043478261,50.0,28.57142857142857,39.39393939393939,14.285714285714285,68.0,44.18604651162791,0,43.75,36.84210526315789,5.263157894736842,6.666666666666667,0,24.0,28.000000000000004,37.5,36.84210526315789,29.411764705882355,21.73913043478261,16.666666666666664,0,0,0]],[\"GDR\",[6.796116504854369,2.941176470588235,5.291005291005291,5.128205128205128,3.7735849056603774,0,5.5045871559633035,4.878048780487805,0,4.678362573099415,9.210526315789473,4.3478260869565215,2.0408163265306123,15.789473684210526,3.571428571428571,11.627906976744185,5.263157894736842,12.5,3.787878787878788,2.2222222222222223,4.3478260869565215,0,4.3478260869565215,0,7.142857142857142,3.0303030303030303,0,2.0,18.6046511627907,0,0,0,10.526315789473683,6.666666666666667,0,0,16.0,25.0,0,5.88235294117647,26.08695652173913,0,9.090909090909092,16.666666666666664,0]],[\"ECO\",[3.3980582524271843,5.88235294117647,5.291005291005291,7.6923076923076925,7.547169811320755,0,5.5045871559633035,7.317073170731707,0,4.678362573099415,1.3157894736842104,0,2.0408163265306123,0,3.571428571428571,6.976744186046512,1.3157894736842104,0,3.0303030303030303,0,0,0,8.695652173913043,3.571428571428571,0,3.0303030303030303,0,0,11.627906976744185,0,0,10.526315789473683,0,0,0,4.0,24.0,0,5.263157894736842,11.76470588235294,17.391304347826086,0,0,0,11.11111111111111]],[\"NI\",[3.8834951456310676,4.411764705882353,2.1164021164021163,0,3.7735849056603774,4.166666666666666,3.669724770642202,0,0,5.263157894736842,2.631578947368421,0,2.0408163265306123,0,0,0,3.9473684210526314,0,0.7575757575757576,2.2222222222222223,0,0,4.3478260869565215,3.571428571428571,0,12.121212121212121,0,0,0,0,0,15.789473684210526,10.526315789473683,6.666666666666667,14.285714285714285,12.0,4.0,0,0,11.76470588235294,4.3478260869565215,0,9.090909090909092,16.666666666666664,0]],[\"UDI\",[4.368932038834951,7.352941176470589,4.761904761904762,2.564102564102564,9.433962264150944,0,2.7522935779816518,2.4390243902439024,7.6923076923076925,4.093567251461988,7.894736842105263,13.043478260869565,2.0408163265306123,0,0,2.3255813953488373,6.578947368421052,0,0.7575757575757576,2.2222222222222223,4.3478260869565215,10.0,4.3478260869565215,0,0,0,14.285714285714285,0,0,5.263157894736842,0,0,10.526315789473683,0,42.857142857142854,4.0,0,0,0,11.76470588235294,0,0,0,0,0]],[\"REN\",[12.135922330097088,10.294117647058822,21.693121693121693,12.82051282051282,7.547169811320755,12.5,11.009174311926607,9.75609756097561,23.076923076923077,7.602339181286549,10.526315789473683,8.695652173913043,14.285714285714285,5.263157894736842,3.571428571428571,6.976744186046512,10.526315789473683,14.583333333333334,0,22.22222222222222,21.73913043478261,10.0,13.043478260869565,0,7.142857142857142,9.090909090909092,21.428571428571427,0,2.3255813953488373,15.789473684210526,18.75,21.052631578947366,10.526315789473683,6.666666666666667,28.57142857142857,20.0,8.0,0,10.526315789473683,0,4.3478260869565215,50.0,18.181818181818183,16.666666666666664,22.22222222222222]],[\"MODEM\",[9.70873786407767,4.411764705882353,4.761904761904762,2.564102564102564,5.660377358490567,0,3.669724770642202,2.4390243902439024,15.384615384615385,1.7543859649122806,7.894736842105263,8.695652173913043,18.367346938775512,5.263157894736842,3.571428571428571,0,10.526315789473683,2.083333333333333,3.787878787878788,2.2222222222222223,13.043478260869565,20.0,8.695652173913043,7.142857142857142,0,0,0,2.0,0,5.263157894736842,0,0,5.263157894736842,6.666666666666667,0,0,0,0,0,0,8.695652173913043,0,0,0,33.33333333333333]],[\"LIOT\",[2.912621359223301,1.4705882352941175,3.7037037037037033,0,1.8867924528301887,4.166666666666666,2.7522935779816518,2.4390243902439024,0,1.7543859649122806,1.3157894736842104,0,2.0408163265306123,10.526315789473683,0,0,0,0,0,2.2222222222222223,0,0,0,0,14.285714285714285,0,7.142857142857142,0,2.3255813953488373,0,6.25,5.263157894736842,0,0,0,4.0,4.0,0,5.263157894736842,5.88235294117647,0,0,0,0,11.11111111111111]],[\"RN\",[1.4563106796116505,2.941176470588235,3.7037037037037033,5.128205128205128,1.8867924528301887,0,11.926605504587156,7.317073170731707,0,11.695906432748536,1.3157894736842104,0,0,5.263157894736842,0,0,1.3157894736842104,10.416666666666668,8.333333333333332,8.88888888888889,8.695652173913043,5.0,13.043478260869565,0,0,3.0303030303030303,0,6.0,2.3255813953488373,0,0,0,5.263157894736842,0,0,4.0,0,0,5.263157894736842,17.647058823529413,4.3478260869565215,16.666666666666664,0,50.0,11.11111111111111]],[\"LR\",[7.766990291262135,14.705882352941178,19.047619047619047,10.256410256410255,16.9811320754717,0,7.339449541284404,9.75609756097561,0,9.941520467836257,27.631578947368425,13.043478260869565,22.448979591836736,0,10.714285714285714,2.3255813953488373,11.842105263157894,8.333333333333332,5.303030303030303,24.444444444444443,4.3478260869565215,5.0,0,10.714285714285714,7.142857142857142,12.121212121212121,7.142857142857142,8.0,9.30232558139535,63.1578947368421,6.25,0,10.526315789473683,60.0,0,20.0,8.0,25.0,0,5.88235294117647,8.695652173913043,0,54.54545454545454,0,11.11111111111111]],[\"SOC\",[5.825242718446602,5.88235294117647,11.11111111111111,5.128205128205128,7.547169811320755,0,6.422018348623854,2.4390243902439024,0,11.11111111111111,13.157894736842104,8.695652173913043,4.081632653061225,5.263157894736842,21.428571428571427,6.976744186046512,7.894736842105263,14.583333333333334,7.575757575757576,6.666666666666667,8.695652173913043,5.0,4.3478260869565215,7.142857142857142,7.142857142857142,9.090909090909092,7.142857142857142,4.0,2.3255813953488373,0,6.25,0,5.263157894736842,0,0,4.0,0,0,31.57894736842105,0,4.3478260869565215,0,0,0,0]],[\"HOR\",[0,0,0,2.564102564102564,0,0,0,0,0,0,0,0,2.0408163265306123,0,0,0,0,0,0,2.2222222222222223,0,0,0,3.571428571428571,0,0,0,0,0,0,6.25,0,0,0,0,0,0,0,0,0,0,16.666666666666664,9.090909090909092,0,0]],[\"RRDP\",[0,0,0,0,0,0,0,0,0,0,0,0,0,0,0,0,0,0,0,0,0,0,0,0,0,0,7.142857142857142,0,0,0,0,0,0,0,0,0,0,0,0,0,0,0,0,0,0]]]}}},\"view\":{\"type\":\"object\",\"name\":\"CDSView\",\"id\":\"p1597\",\"attributes\":{\"filter\":{\"type\":\"object\",\"name\":\"AllIndices\",\"id\":\"p1598\"}}},\"glyph\":{\"type\":\"object\",\"name\":\"HBar\",\"id\":\"p1593\",\"attributes\":{\"y\":{\"type\":\"field\",\"field\":\"term\"},\"left\":{\"type\":\"expr\",\"expr\":{\"type\":\"object\",\"name\":\"Stack\",\"id\":\"p1557\",\"attributes\":{\"fields\":[]}}},\"right\":{\"type\":\"expr\",\"expr\":{\"type\":\"object\",\"name\":\"Stack\",\"id\":\"p1558\",\"attributes\":{\"fields\":[\"GOV\"]}}},\"line_color\":{\"type\":\"value\",\"value\":\"#444\"},\"line_width\":{\"type\":\"value\",\"value\":0.9},\"fill_color\":{\"type\":\"value\",\"value\":\"#6F1E51\"},\"hatch_color\":{\"type\":\"value\",\"value\":\"#6F1E51\"}}},\"nonselection_glyph\":{\"type\":\"object\",\"name\":\"HBar\",\"id\":\"p1594\",\"attributes\":{\"y\":{\"type\":\"field\",\"field\":\"term\"},\"left\":{\"type\":\"expr\",\"expr\":{\"id\":\"p1557\"}},\"right\":{\"type\":\"expr\",\"expr\":{\"id\":\"p1558\"}},\"line_color\":{\"type\":\"value\",\"value\":\"#444\"},\"line_alpha\":{\"type\":\"value\",\"value\":0.1},\"line_width\":{\"type\":\"value\",\"value\":0.9},\"fill_color\":{\"type\":\"value\",\"value\":\"#6F1E51\"},\"fill_alpha\":{\"type\":\"value\",\"value\":0.1},\"hatch_color\":{\"type\":\"value\",\"value\":\"#6F1E51\"},\"hatch_alpha\":{\"type\":\"value\",\"value\":0.1}}},\"muted_glyph\":{\"type\":\"object\",\"name\":\"HBar\",\"id\":\"p1595\",\"attributes\":{\"y\":{\"type\":\"field\",\"field\":\"term\"},\"left\":{\"type\":\"expr\",\"expr\":{\"id\":\"p1557\"}},\"right\":{\"type\":\"expr\",\"expr\":{\"id\":\"p1558\"}},\"line_color\":{\"type\":\"value\",\"value\":\"#444\"},\"line_alpha\":{\"type\":\"value\",\"value\":0.2},\"line_width\":{\"type\":\"value\",\"value\":0.9},\"fill_color\":{\"type\":\"value\",\"value\":\"#6F1E51\"},\"fill_alpha\":{\"type\":\"value\",\"value\":0.2},\"hatch_color\":{\"type\":\"value\",\"value\":\"#6F1E51\"},\"hatch_alpha\":{\"type\":\"value\",\"value\":0.2}}}}},{\"type\":\"object\",\"name\":\"GlyphRenderer\",\"id\":\"p1608\",\"attributes\":{\"name\":\"SER\",\"data_source\":{\"type\":\"object\",\"name\":\"ColumnDataSource\",\"id\":\"p1599\",\"attributes\":{\"selected\":{\"type\":\"object\",\"name\":\"Selection\",\"id\":\"p1600\",\"attributes\":{\"indices\":[],\"line_indices\":[]}},\"selection_policy\":{\"type\":\"object\",\"name\":\"UnionRenderers\",\"id\":\"p1601\"},\"data\":{\"type\":\"map\",\"entries\":[[\"term\",[\"syst\\u00e8me de retraite\",\"loi de finance\",\"emploi de senior\",\"commission de affaire\",\"loi de financement\",\"probl\\u00e8me de financement\",\"\\u00e2ge de d\\u00e9part\",\"pension de retraite\",\"augmenter le imp\\u00f4t\",\"r\\u00e9forme de retraite\",\"taux de emploi\",\"clause de grand-p\\u00e8re\",\"syst\\u00e8me par r\\u00e9partition\",\"co\\u00fbt de travail\",\"\\u00e9tude de impact\",\"exon\\u00e9ration de cotisation\",\"r\\u00e9gime de retraite\",\"suppression de r\\u00e9gime\",\"1 200 euro\",\"pouvoir de achat\",\"taux de ch\\u00f4mage\",\"commission de finance\",\"march\\u00e9 de travail\",\"financer le retraite\",\"financement de syst\\u00e8me\",\"financement de retraite\",\"abaisser le seuil\",\"caisse de retraite\",\"condition de travail\",\"am\\u00e9liorer le taux\",\"augmenter le cotisation\",\"baisse de imp\\u00f4t\",\"loi de programmation\",\"m\\u00e8re de famille\",\"pension de r\\u00e9version\",\"d\\u00e9part en retraite\",\"esp\\u00e9rance de vie\",\"demandeur de emploi\",\"crit\\u00e8re de p\\u00e9nibilit\\u00e9\",\"faire un effort\",\"monde de travail\",\"strat\\u00e9gie de obstruction\",\"embauche de senior\",\"fonds de r\\u00e9serve\",\"variable de ajustement\"]],[\"GOV\",[9.70873786407767,23.52941176470588,8.465608465608465,35.8974358974359,24.528301886792452,45.83333333333333,8.256880733944955,19.51219512195122,53.84615384615385,4.093567251461988,9.210526315789473,26.08695652173913,12.244897959183673,31.57894736842105,21.428571428571427,11.627906976744185,6.578947368421052,10.416666666666668,3.787878787878788,11.11111111111111,21.73913043478261,25.0,17.391304347826086,14.285714285714285,28.57142857142857,9.090909090909092,21.428571428571427,6.0,6.976744186046512,10.526315789473683,12.5,10.526315789473683,10.526315789473683,6.666666666666667,14.285714285714285,4.0,0,0,0,0,0,0,0,0,0]],[\"SER\",[1.9417475728155338,1.4705882352941175,1.0582010582010581,0,1.8867924528301887,0,4.587155963302752,2.4390243902439024,0,1.1695906432748537,0,0,0,5.263157894736842,3.571428571428571,2.3255813953488373,1.3157894736842104,6.25,0.7575757575757576,2.2222222222222223,0,5.0,0,0,0,0,0,4.0,0,0,0,0,15.789473684210526,0,0,0,8.0,12.5,5.263157894736842,0,0,0,0,0,0]],[\"LFI\",[30.097087378640776,14.705882352941178,8.994708994708994,10.256410256410255,7.547169811320755,33.33333333333333,26.605504587155966,29.268292682926827,0,32.16374269005848,7.894736842105263,17.391304347826086,16.3265306122449,15.789473684210526,28.57142857142857,48.837209302325576,32.89473684210527,20.833333333333336,62.121212121212125,11.11111111111111,13.043478260869565,15.0,21.73913043478261,50.0,28.57142857142857,39.39393939393939,14.285714285714285,68.0,44.18604651162791,0,43.75,36.84210526315789,5.263157894736842,6.666666666666667,0,24.0,28.000000000000004,37.5,36.84210526315789,29.411764705882355,21.73913043478261,16.666666666666664,0,0,0]],[\"GDR\",[6.796116504854369,2.941176470588235,5.291005291005291,5.128205128205128,3.7735849056603774,0,5.5045871559633035,4.878048780487805,0,4.678362573099415,9.210526315789473,4.3478260869565215,2.0408163265306123,15.789473684210526,3.571428571428571,11.627906976744185,5.263157894736842,12.5,3.787878787878788,2.2222222222222223,4.3478260869565215,0,4.3478260869565215,0,7.142857142857142,3.0303030303030303,0,2.0,18.6046511627907,0,0,0,10.526315789473683,6.666666666666667,0,0,16.0,25.0,0,5.88235294117647,26.08695652173913,0,9.090909090909092,16.666666666666664,0]],[\"ECO\",[3.3980582524271843,5.88235294117647,5.291005291005291,7.6923076923076925,7.547169811320755,0,5.5045871559633035,7.317073170731707,0,4.678362573099415,1.3157894736842104,0,2.0408163265306123,0,3.571428571428571,6.976744186046512,1.3157894736842104,0,3.0303030303030303,0,0,0,8.695652173913043,3.571428571428571,0,3.0303030303030303,0,0,11.627906976744185,0,0,10.526315789473683,0,0,0,4.0,24.0,0,5.263157894736842,11.76470588235294,17.391304347826086,0,0,0,11.11111111111111]],[\"NI\",[3.8834951456310676,4.411764705882353,2.1164021164021163,0,3.7735849056603774,4.166666666666666,3.669724770642202,0,0,5.263157894736842,2.631578947368421,0,2.0408163265306123,0,0,0,3.9473684210526314,0,0.7575757575757576,2.2222222222222223,0,0,4.3478260869565215,3.571428571428571,0,12.121212121212121,0,0,0,0,0,15.789473684210526,10.526315789473683,6.666666666666667,14.285714285714285,12.0,4.0,0,0,11.76470588235294,4.3478260869565215,0,9.090909090909092,16.666666666666664,0]],[\"UDI\",[4.368932038834951,7.352941176470589,4.761904761904762,2.564102564102564,9.433962264150944,0,2.7522935779816518,2.4390243902439024,7.6923076923076925,4.093567251461988,7.894736842105263,13.043478260869565,2.0408163265306123,0,0,2.3255813953488373,6.578947368421052,0,0.7575757575757576,2.2222222222222223,4.3478260869565215,10.0,4.3478260869565215,0,0,0,14.285714285714285,0,0,5.263157894736842,0,0,10.526315789473683,0,42.857142857142854,4.0,0,0,0,11.76470588235294,0,0,0,0,0]],[\"REN\",[12.135922330097088,10.294117647058822,21.693121693121693,12.82051282051282,7.547169811320755,12.5,11.009174311926607,9.75609756097561,23.076923076923077,7.602339181286549,10.526315789473683,8.695652173913043,14.285714285714285,5.263157894736842,3.571428571428571,6.976744186046512,10.526315789473683,14.583333333333334,0,22.22222222222222,21.73913043478261,10.0,13.043478260869565,0,7.142857142857142,9.090909090909092,21.428571428571427,0,2.3255813953488373,15.789473684210526,18.75,21.052631578947366,10.526315789473683,6.666666666666667,28.57142857142857,20.0,8.0,0,10.526315789473683,0,4.3478260869565215,50.0,18.181818181818183,16.666666666666664,22.22222222222222]],[\"MODEM\",[9.70873786407767,4.411764705882353,4.761904761904762,2.564102564102564,5.660377358490567,0,3.669724770642202,2.4390243902439024,15.384615384615385,1.7543859649122806,7.894736842105263,8.695652173913043,18.367346938775512,5.263157894736842,3.571428571428571,0,10.526315789473683,2.083333333333333,3.787878787878788,2.2222222222222223,13.043478260869565,20.0,8.695652173913043,7.142857142857142,0,0,0,2.0,0,5.263157894736842,0,0,5.263157894736842,6.666666666666667,0,0,0,0,0,0,8.695652173913043,0,0,0,33.33333333333333]],[\"LIOT\",[2.912621359223301,1.4705882352941175,3.7037037037037033,0,1.8867924528301887,4.166666666666666,2.7522935779816518,2.4390243902439024,0,1.7543859649122806,1.3157894736842104,0,2.0408163265306123,10.526315789473683,0,0,0,0,0,2.2222222222222223,0,0,0,0,14.285714285714285,0,7.142857142857142,0,2.3255813953488373,0,6.25,5.263157894736842,0,0,0,4.0,4.0,0,5.263157894736842,5.88235294117647,0,0,0,0,11.11111111111111]],[\"RN\",[1.4563106796116505,2.941176470588235,3.7037037037037033,5.128205128205128,1.8867924528301887,0,11.926605504587156,7.317073170731707,0,11.695906432748536,1.3157894736842104,0,0,5.263157894736842,0,0,1.3157894736842104,10.416666666666668,8.333333333333332,8.88888888888889,8.695652173913043,5.0,13.043478260869565,0,0,3.0303030303030303,0,6.0,2.3255813953488373,0,0,0,5.263157894736842,0,0,4.0,0,0,5.263157894736842,17.647058823529413,4.3478260869565215,16.666666666666664,0,50.0,11.11111111111111]],[\"LR\",[7.766990291262135,14.705882352941178,19.047619047619047,10.256410256410255,16.9811320754717,0,7.339449541284404,9.75609756097561,0,9.941520467836257,27.631578947368425,13.043478260869565,22.448979591836736,0,10.714285714285714,2.3255813953488373,11.842105263157894,8.333333333333332,5.303030303030303,24.444444444444443,4.3478260869565215,5.0,0,10.714285714285714,7.142857142857142,12.121212121212121,7.142857142857142,8.0,9.30232558139535,63.1578947368421,6.25,0,10.526315789473683,60.0,0,20.0,8.0,25.0,0,5.88235294117647,8.695652173913043,0,54.54545454545454,0,11.11111111111111]],[\"SOC\",[5.825242718446602,5.88235294117647,11.11111111111111,5.128205128205128,7.547169811320755,0,6.422018348623854,2.4390243902439024,0,11.11111111111111,13.157894736842104,8.695652173913043,4.081632653061225,5.263157894736842,21.428571428571427,6.976744186046512,7.894736842105263,14.583333333333334,7.575757575757576,6.666666666666667,8.695652173913043,5.0,4.3478260869565215,7.142857142857142,7.142857142857142,9.090909090909092,7.142857142857142,4.0,2.3255813953488373,0,6.25,0,5.263157894736842,0,0,4.0,0,0,31.57894736842105,0,4.3478260869565215,0,0,0,0]],[\"HOR\",[0,0,0,2.564102564102564,0,0,0,0,0,0,0,0,2.0408163265306123,0,0,0,0,0,0,2.2222222222222223,0,0,0,3.571428571428571,0,0,0,0,0,0,6.25,0,0,0,0,0,0,0,0,0,0,16.666666666666664,9.090909090909092,0,0]],[\"RRDP\",[0,0,0,0,0,0,0,0,0,0,0,0,0,0,0,0,0,0,0,0,0,0,0,0,0,0,7.142857142857142,0,0,0,0,0,0,0,0,0,0,0,0,0,0,0,0,0,0]]]}}},\"view\":{\"type\":\"object\",\"name\":\"CDSView\",\"id\":\"p1609\",\"attributes\":{\"filter\":{\"type\":\"object\",\"name\":\"AllIndices\",\"id\":\"p1610\"}}},\"glyph\":{\"type\":\"object\",\"name\":\"HBar\",\"id\":\"p1605\",\"attributes\":{\"y\":{\"type\":\"field\",\"field\":\"term\"},\"left\":{\"type\":\"expr\",\"expr\":{\"type\":\"object\",\"name\":\"Stack\",\"id\":\"p1559\",\"attributes\":{\"fields\":[\"GOV\"]}}},\"right\":{\"type\":\"expr\",\"expr\":{\"type\":\"object\",\"name\":\"Stack\",\"id\":\"p1560\",\"attributes\":{\"fields\":[\"GOV\",\"SER\"]}}},\"line_color\":{\"type\":\"value\",\"value\":\"#444\"},\"line_width\":{\"type\":\"value\",\"value\":0.9},\"fill_color\":{\"type\":\"value\",\"value\":\"#e74c3c\"},\"hatch_color\":{\"type\":\"value\",\"value\":\"#e74c3c\"}}},\"nonselection_glyph\":{\"type\":\"object\",\"name\":\"HBar\",\"id\":\"p1606\",\"attributes\":{\"y\":{\"type\":\"field\",\"field\":\"term\"},\"left\":{\"type\":\"expr\",\"expr\":{\"id\":\"p1559\"}},\"right\":{\"type\":\"expr\",\"expr\":{\"id\":\"p1560\"}},\"line_color\":{\"type\":\"value\",\"value\":\"#444\"},\"line_alpha\":{\"type\":\"value\",\"value\":0.1},\"line_width\":{\"type\":\"value\",\"value\":0.9},\"fill_color\":{\"type\":\"value\",\"value\":\"#e74c3c\"},\"fill_alpha\":{\"type\":\"value\",\"value\":0.1},\"hatch_color\":{\"type\":\"value\",\"value\":\"#e74c3c\"},\"hatch_alpha\":{\"type\":\"value\",\"value\":0.1}}},\"muted_glyph\":{\"type\":\"object\",\"name\":\"HBar\",\"id\":\"p1607\",\"attributes\":{\"y\":{\"type\":\"field\",\"field\":\"term\"},\"left\":{\"type\":\"expr\",\"expr\":{\"id\":\"p1559\"}},\"right\":{\"type\":\"expr\",\"expr\":{\"id\":\"p1560\"}},\"line_color\":{\"type\":\"value\",\"value\":\"#444\"},\"line_alpha\":{\"type\":\"value\",\"value\":0.2},\"line_width\":{\"type\":\"value\",\"value\":0.9},\"fill_color\":{\"type\":\"value\",\"value\":\"#e74c3c\"},\"fill_alpha\":{\"type\":\"value\",\"value\":0.2},\"hatch_color\":{\"type\":\"value\",\"value\":\"#e74c3c\"},\"hatch_alpha\":{\"type\":\"value\",\"value\":0.2}}}}},{\"type\":\"object\",\"name\":\"GlyphRenderer\",\"id\":\"p1620\",\"attributes\":{\"name\":\"LFI\",\"data_source\":{\"type\":\"object\",\"name\":\"ColumnDataSource\",\"id\":\"p1611\",\"attributes\":{\"selected\":{\"type\":\"object\",\"name\":\"Selection\",\"id\":\"p1612\",\"attributes\":{\"indices\":[],\"line_indices\":[]}},\"selection_policy\":{\"type\":\"object\",\"name\":\"UnionRenderers\",\"id\":\"p1613\"},\"data\":{\"type\":\"map\",\"entries\":[[\"term\",[\"syst\\u00e8me de retraite\",\"loi de finance\",\"emploi de senior\",\"commission de affaire\",\"loi de financement\",\"probl\\u00e8me de financement\",\"\\u00e2ge de d\\u00e9part\",\"pension de retraite\",\"augmenter le imp\\u00f4t\",\"r\\u00e9forme de retraite\",\"taux de emploi\",\"clause de grand-p\\u00e8re\",\"syst\\u00e8me par r\\u00e9partition\",\"co\\u00fbt de travail\",\"\\u00e9tude de impact\",\"exon\\u00e9ration de cotisation\",\"r\\u00e9gime de retraite\",\"suppression de r\\u00e9gime\",\"1 200 euro\",\"pouvoir de achat\",\"taux de ch\\u00f4mage\",\"commission de finance\",\"march\\u00e9 de travail\",\"financer le retraite\",\"financement de syst\\u00e8me\",\"financement de retraite\",\"abaisser le seuil\",\"caisse de retraite\",\"condition de travail\",\"am\\u00e9liorer le taux\",\"augmenter le cotisation\",\"baisse de imp\\u00f4t\",\"loi de programmation\",\"m\\u00e8re de famille\",\"pension de r\\u00e9version\",\"d\\u00e9part en retraite\",\"esp\\u00e9rance de vie\",\"demandeur de emploi\",\"crit\\u00e8re de p\\u00e9nibilit\\u00e9\",\"faire un effort\",\"monde de travail\",\"strat\\u00e9gie de obstruction\",\"embauche de senior\",\"fonds de r\\u00e9serve\",\"variable de ajustement\"]],[\"GOV\",[9.70873786407767,23.52941176470588,8.465608465608465,35.8974358974359,24.528301886792452,45.83333333333333,8.256880733944955,19.51219512195122,53.84615384615385,4.093567251461988,9.210526315789473,26.08695652173913,12.244897959183673,31.57894736842105,21.428571428571427,11.627906976744185,6.578947368421052,10.416666666666668,3.787878787878788,11.11111111111111,21.73913043478261,25.0,17.391304347826086,14.285714285714285,28.57142857142857,9.090909090909092,21.428571428571427,6.0,6.976744186046512,10.526315789473683,12.5,10.526315789473683,10.526315789473683,6.666666666666667,14.285714285714285,4.0,0,0,0,0,0,0,0,0,0]],[\"SER\",[1.9417475728155338,1.4705882352941175,1.0582010582010581,0,1.8867924528301887,0,4.587155963302752,2.4390243902439024,0,1.1695906432748537,0,0,0,5.263157894736842,3.571428571428571,2.3255813953488373,1.3157894736842104,6.25,0.7575757575757576,2.2222222222222223,0,5.0,0,0,0,0,0,4.0,0,0,0,0,15.789473684210526,0,0,0,8.0,12.5,5.263157894736842,0,0,0,0,0,0]],[\"LFI\",[30.097087378640776,14.705882352941178,8.994708994708994,10.256410256410255,7.547169811320755,33.33333333333333,26.605504587155966,29.268292682926827,0,32.16374269005848,7.894736842105263,17.391304347826086,16.3265306122449,15.789473684210526,28.57142857142857,48.837209302325576,32.89473684210527,20.833333333333336,62.121212121212125,11.11111111111111,13.043478260869565,15.0,21.73913043478261,50.0,28.57142857142857,39.39393939393939,14.285714285714285,68.0,44.18604651162791,0,43.75,36.84210526315789,5.263157894736842,6.666666666666667,0,24.0,28.000000000000004,37.5,36.84210526315789,29.411764705882355,21.73913043478261,16.666666666666664,0,0,0]],[\"GDR\",[6.796116504854369,2.941176470588235,5.291005291005291,5.128205128205128,3.7735849056603774,0,5.5045871559633035,4.878048780487805,0,4.678362573099415,9.210526315789473,4.3478260869565215,2.0408163265306123,15.789473684210526,3.571428571428571,11.627906976744185,5.263157894736842,12.5,3.787878787878788,2.2222222222222223,4.3478260869565215,0,4.3478260869565215,0,7.142857142857142,3.0303030303030303,0,2.0,18.6046511627907,0,0,0,10.526315789473683,6.666666666666667,0,0,16.0,25.0,0,5.88235294117647,26.08695652173913,0,9.090909090909092,16.666666666666664,0]],[\"ECO\",[3.3980582524271843,5.88235294117647,5.291005291005291,7.6923076923076925,7.547169811320755,0,5.5045871559633035,7.317073170731707,0,4.678362573099415,1.3157894736842104,0,2.0408163265306123,0,3.571428571428571,6.976744186046512,1.3157894736842104,0,3.0303030303030303,0,0,0,8.695652173913043,3.571428571428571,0,3.0303030303030303,0,0,11.627906976744185,0,0,10.526315789473683,0,0,0,4.0,24.0,0,5.263157894736842,11.76470588235294,17.391304347826086,0,0,0,11.11111111111111]],[\"NI\",[3.8834951456310676,4.411764705882353,2.1164021164021163,0,3.7735849056603774,4.166666666666666,3.669724770642202,0,0,5.263157894736842,2.631578947368421,0,2.0408163265306123,0,0,0,3.9473684210526314,0,0.7575757575757576,2.2222222222222223,0,0,4.3478260869565215,3.571428571428571,0,12.121212121212121,0,0,0,0,0,15.789473684210526,10.526315789473683,6.666666666666667,14.285714285714285,12.0,4.0,0,0,11.76470588235294,4.3478260869565215,0,9.090909090909092,16.666666666666664,0]],[\"UDI\",[4.368932038834951,7.352941176470589,4.761904761904762,2.564102564102564,9.433962264150944,0,2.7522935779816518,2.4390243902439024,7.6923076923076925,4.093567251461988,7.894736842105263,13.043478260869565,2.0408163265306123,0,0,2.3255813953488373,6.578947368421052,0,0.7575757575757576,2.2222222222222223,4.3478260869565215,10.0,4.3478260869565215,0,0,0,14.285714285714285,0,0,5.263157894736842,0,0,10.526315789473683,0,42.857142857142854,4.0,0,0,0,11.76470588235294,0,0,0,0,0]],[\"REN\",[12.135922330097088,10.294117647058822,21.693121693121693,12.82051282051282,7.547169811320755,12.5,11.009174311926607,9.75609756097561,23.076923076923077,7.602339181286549,10.526315789473683,8.695652173913043,14.285714285714285,5.263157894736842,3.571428571428571,6.976744186046512,10.526315789473683,14.583333333333334,0,22.22222222222222,21.73913043478261,10.0,13.043478260869565,0,7.142857142857142,9.090909090909092,21.428571428571427,0,2.3255813953488373,15.789473684210526,18.75,21.052631578947366,10.526315789473683,6.666666666666667,28.57142857142857,20.0,8.0,0,10.526315789473683,0,4.3478260869565215,50.0,18.181818181818183,16.666666666666664,22.22222222222222]],[\"MODEM\",[9.70873786407767,4.411764705882353,4.761904761904762,2.564102564102564,5.660377358490567,0,3.669724770642202,2.4390243902439024,15.384615384615385,1.7543859649122806,7.894736842105263,8.695652173913043,18.367346938775512,5.263157894736842,3.571428571428571,0,10.526315789473683,2.083333333333333,3.787878787878788,2.2222222222222223,13.043478260869565,20.0,8.695652173913043,7.142857142857142,0,0,0,2.0,0,5.263157894736842,0,0,5.263157894736842,6.666666666666667,0,0,0,0,0,0,8.695652173913043,0,0,0,33.33333333333333]],[\"LIOT\",[2.912621359223301,1.4705882352941175,3.7037037037037033,0,1.8867924528301887,4.166666666666666,2.7522935779816518,2.4390243902439024,0,1.7543859649122806,1.3157894736842104,0,2.0408163265306123,10.526315789473683,0,0,0,0,0,2.2222222222222223,0,0,0,0,14.285714285714285,0,7.142857142857142,0,2.3255813953488373,0,6.25,5.263157894736842,0,0,0,4.0,4.0,0,5.263157894736842,5.88235294117647,0,0,0,0,11.11111111111111]],[\"RN\",[1.4563106796116505,2.941176470588235,3.7037037037037033,5.128205128205128,1.8867924528301887,0,11.926605504587156,7.317073170731707,0,11.695906432748536,1.3157894736842104,0,0,5.263157894736842,0,0,1.3157894736842104,10.416666666666668,8.333333333333332,8.88888888888889,8.695652173913043,5.0,13.043478260869565,0,0,3.0303030303030303,0,6.0,2.3255813953488373,0,0,0,5.263157894736842,0,0,4.0,0,0,5.263157894736842,17.647058823529413,4.3478260869565215,16.666666666666664,0,50.0,11.11111111111111]],[\"LR\",[7.766990291262135,14.705882352941178,19.047619047619047,10.256410256410255,16.9811320754717,0,7.339449541284404,9.75609756097561,0,9.941520467836257,27.631578947368425,13.043478260869565,22.448979591836736,0,10.714285714285714,2.3255813953488373,11.842105263157894,8.333333333333332,5.303030303030303,24.444444444444443,4.3478260869565215,5.0,0,10.714285714285714,7.142857142857142,12.121212121212121,7.142857142857142,8.0,9.30232558139535,63.1578947368421,6.25,0,10.526315789473683,60.0,0,20.0,8.0,25.0,0,5.88235294117647,8.695652173913043,0,54.54545454545454,0,11.11111111111111]],[\"SOC\",[5.825242718446602,5.88235294117647,11.11111111111111,5.128205128205128,7.547169811320755,0,6.422018348623854,2.4390243902439024,0,11.11111111111111,13.157894736842104,8.695652173913043,4.081632653061225,5.263157894736842,21.428571428571427,6.976744186046512,7.894736842105263,14.583333333333334,7.575757575757576,6.666666666666667,8.695652173913043,5.0,4.3478260869565215,7.142857142857142,7.142857142857142,9.090909090909092,7.142857142857142,4.0,2.3255813953488373,0,6.25,0,5.263157894736842,0,0,4.0,0,0,31.57894736842105,0,4.3478260869565215,0,0,0,0]],[\"HOR\",[0,0,0,2.564102564102564,0,0,0,0,0,0,0,0,2.0408163265306123,0,0,0,0,0,0,2.2222222222222223,0,0,0,3.571428571428571,0,0,0,0,0,0,6.25,0,0,0,0,0,0,0,0,0,0,16.666666666666664,9.090909090909092,0,0]],[\"RRDP\",[0,0,0,0,0,0,0,0,0,0,0,0,0,0,0,0,0,0,0,0,0,0,0,0,0,0,7.142857142857142,0,0,0,0,0,0,0,0,0,0,0,0,0,0,0,0,0,0]]]}}},\"view\":{\"type\":\"object\",\"name\":\"CDSView\",\"id\":\"p1621\",\"attributes\":{\"filter\":{\"type\":\"object\",\"name\":\"AllIndices\",\"id\":\"p1622\"}}},\"glyph\":{\"type\":\"object\",\"name\":\"HBar\",\"id\":\"p1617\",\"attributes\":{\"y\":{\"type\":\"field\",\"field\":\"term\"},\"left\":{\"type\":\"expr\",\"expr\":{\"type\":\"object\",\"name\":\"Stack\",\"id\":\"p1561\",\"attributes\":{\"fields\":[\"GOV\",\"SER\"]}}},\"right\":{\"type\":\"expr\",\"expr\":{\"type\":\"object\",\"name\":\"Stack\",\"id\":\"p1562\",\"attributes\":{\"fields\":[\"GOV\",\"SER\",\"LFI\"]}}},\"line_color\":{\"type\":\"value\",\"value\":\"#444\"},\"line_width\":{\"type\":\"value\",\"value\":0.9},\"fill_color\":{\"type\":\"value\",\"value\":\"#c0392b\"},\"hatch_color\":{\"type\":\"value\",\"value\":\"#c0392b\"}}},\"nonselection_glyph\":{\"type\":\"object\",\"name\":\"HBar\",\"id\":\"p1618\",\"attributes\":{\"y\":{\"type\":\"field\",\"field\":\"term\"},\"left\":{\"type\":\"expr\",\"expr\":{\"id\":\"p1561\"}},\"right\":{\"type\":\"expr\",\"expr\":{\"id\":\"p1562\"}},\"line_color\":{\"type\":\"value\",\"value\":\"#444\"},\"line_alpha\":{\"type\":\"value\",\"value\":0.1},\"line_width\":{\"type\":\"value\",\"value\":0.9},\"fill_color\":{\"type\":\"value\",\"value\":\"#c0392b\"},\"fill_alpha\":{\"type\":\"value\",\"value\":0.1},\"hatch_color\":{\"type\":\"value\",\"value\":\"#c0392b\"},\"hatch_alpha\":{\"type\":\"value\",\"value\":0.1}}},\"muted_glyph\":{\"type\":\"object\",\"name\":\"HBar\",\"id\":\"p1619\",\"attributes\":{\"y\":{\"type\":\"field\",\"field\":\"term\"},\"left\":{\"type\":\"expr\",\"expr\":{\"id\":\"p1561\"}},\"right\":{\"type\":\"expr\",\"expr\":{\"id\":\"p1562\"}},\"line_color\":{\"type\":\"value\",\"value\":\"#444\"},\"line_alpha\":{\"type\":\"value\",\"value\":0.2},\"line_width\":{\"type\":\"value\",\"value\":0.9},\"fill_color\":{\"type\":\"value\",\"value\":\"#c0392b\"},\"fill_alpha\":{\"type\":\"value\",\"value\":0.2},\"hatch_color\":{\"type\":\"value\",\"value\":\"#c0392b\"},\"hatch_alpha\":{\"type\":\"value\",\"value\":0.2}}}}},{\"type\":\"object\",\"name\":\"GlyphRenderer\",\"id\":\"p1632\",\"attributes\":{\"name\":\"GDR\",\"data_source\":{\"type\":\"object\",\"name\":\"ColumnDataSource\",\"id\":\"p1623\",\"attributes\":{\"selected\":{\"type\":\"object\",\"name\":\"Selection\",\"id\":\"p1624\",\"attributes\":{\"indices\":[],\"line_indices\":[]}},\"selection_policy\":{\"type\":\"object\",\"name\":\"UnionRenderers\",\"id\":\"p1625\"},\"data\":{\"type\":\"map\",\"entries\":[[\"term\",[\"syst\\u00e8me de retraite\",\"loi de finance\",\"emploi de senior\",\"commission de affaire\",\"loi de financement\",\"probl\\u00e8me de financement\",\"\\u00e2ge de d\\u00e9part\",\"pension de retraite\",\"augmenter le imp\\u00f4t\",\"r\\u00e9forme de retraite\",\"taux de emploi\",\"clause de grand-p\\u00e8re\",\"syst\\u00e8me par r\\u00e9partition\",\"co\\u00fbt de travail\",\"\\u00e9tude de impact\",\"exon\\u00e9ration de cotisation\",\"r\\u00e9gime de retraite\",\"suppression de r\\u00e9gime\",\"1 200 euro\",\"pouvoir de achat\",\"taux de ch\\u00f4mage\",\"commission de finance\",\"march\\u00e9 de travail\",\"financer le retraite\",\"financement de syst\\u00e8me\",\"financement de retraite\",\"abaisser le seuil\",\"caisse de retraite\",\"condition de travail\",\"am\\u00e9liorer le taux\",\"augmenter le cotisation\",\"baisse de imp\\u00f4t\",\"loi de programmation\",\"m\\u00e8re de famille\",\"pension de r\\u00e9version\",\"d\\u00e9part en retraite\",\"esp\\u00e9rance de vie\",\"demandeur de emploi\",\"crit\\u00e8re de p\\u00e9nibilit\\u00e9\",\"faire un effort\",\"monde de travail\",\"strat\\u00e9gie de obstruction\",\"embauche de senior\",\"fonds de r\\u00e9serve\",\"variable de ajustement\"]],[\"GOV\",[9.70873786407767,23.52941176470588,8.465608465608465,35.8974358974359,24.528301886792452,45.83333333333333,8.256880733944955,19.51219512195122,53.84615384615385,4.093567251461988,9.210526315789473,26.08695652173913,12.244897959183673,31.57894736842105,21.428571428571427,11.627906976744185,6.578947368421052,10.416666666666668,3.787878787878788,11.11111111111111,21.73913043478261,25.0,17.391304347826086,14.285714285714285,28.57142857142857,9.090909090909092,21.428571428571427,6.0,6.976744186046512,10.526315789473683,12.5,10.526315789473683,10.526315789473683,6.666666666666667,14.285714285714285,4.0,0,0,0,0,0,0,0,0,0]],[\"SER\",[1.9417475728155338,1.4705882352941175,1.0582010582010581,0,1.8867924528301887,0,4.587155963302752,2.4390243902439024,0,1.1695906432748537,0,0,0,5.263157894736842,3.571428571428571,2.3255813953488373,1.3157894736842104,6.25,0.7575757575757576,2.2222222222222223,0,5.0,0,0,0,0,0,4.0,0,0,0,0,15.789473684210526,0,0,0,8.0,12.5,5.263157894736842,0,0,0,0,0,0]],[\"LFI\",[30.097087378640776,14.705882352941178,8.994708994708994,10.256410256410255,7.547169811320755,33.33333333333333,26.605504587155966,29.268292682926827,0,32.16374269005848,7.894736842105263,17.391304347826086,16.3265306122449,15.789473684210526,28.57142857142857,48.837209302325576,32.89473684210527,20.833333333333336,62.121212121212125,11.11111111111111,13.043478260869565,15.0,21.73913043478261,50.0,28.57142857142857,39.39393939393939,14.285714285714285,68.0,44.18604651162791,0,43.75,36.84210526315789,5.263157894736842,6.666666666666667,0,24.0,28.000000000000004,37.5,36.84210526315789,29.411764705882355,21.73913043478261,16.666666666666664,0,0,0]],[\"GDR\",[6.796116504854369,2.941176470588235,5.291005291005291,5.128205128205128,3.7735849056603774,0,5.5045871559633035,4.878048780487805,0,4.678362573099415,9.210526315789473,4.3478260869565215,2.0408163265306123,15.789473684210526,3.571428571428571,11.627906976744185,5.263157894736842,12.5,3.787878787878788,2.2222222222222223,4.3478260869565215,0,4.3478260869565215,0,7.142857142857142,3.0303030303030303,0,2.0,18.6046511627907,0,0,0,10.526315789473683,6.666666666666667,0,0,16.0,25.0,0,5.88235294117647,26.08695652173913,0,9.090909090909092,16.666666666666664,0]],[\"ECO\",[3.3980582524271843,5.88235294117647,5.291005291005291,7.6923076923076925,7.547169811320755,0,5.5045871559633035,7.317073170731707,0,4.678362573099415,1.3157894736842104,0,2.0408163265306123,0,3.571428571428571,6.976744186046512,1.3157894736842104,0,3.0303030303030303,0,0,0,8.695652173913043,3.571428571428571,0,3.0303030303030303,0,0,11.627906976744185,0,0,10.526315789473683,0,0,0,4.0,24.0,0,5.263157894736842,11.76470588235294,17.391304347826086,0,0,0,11.11111111111111]],[\"NI\",[3.8834951456310676,4.411764705882353,2.1164021164021163,0,3.7735849056603774,4.166666666666666,3.669724770642202,0,0,5.263157894736842,2.631578947368421,0,2.0408163265306123,0,0,0,3.9473684210526314,0,0.7575757575757576,2.2222222222222223,0,0,4.3478260869565215,3.571428571428571,0,12.121212121212121,0,0,0,0,0,15.789473684210526,10.526315789473683,6.666666666666667,14.285714285714285,12.0,4.0,0,0,11.76470588235294,4.3478260869565215,0,9.090909090909092,16.666666666666664,0]],[\"UDI\",[4.368932038834951,7.352941176470589,4.761904761904762,2.564102564102564,9.433962264150944,0,2.7522935779816518,2.4390243902439024,7.6923076923076925,4.093567251461988,7.894736842105263,13.043478260869565,2.0408163265306123,0,0,2.3255813953488373,6.578947368421052,0,0.7575757575757576,2.2222222222222223,4.3478260869565215,10.0,4.3478260869565215,0,0,0,14.285714285714285,0,0,5.263157894736842,0,0,10.526315789473683,0,42.857142857142854,4.0,0,0,0,11.76470588235294,0,0,0,0,0]],[\"REN\",[12.135922330097088,10.294117647058822,21.693121693121693,12.82051282051282,7.547169811320755,12.5,11.009174311926607,9.75609756097561,23.076923076923077,7.602339181286549,10.526315789473683,8.695652173913043,14.285714285714285,5.263157894736842,3.571428571428571,6.976744186046512,10.526315789473683,14.583333333333334,0,22.22222222222222,21.73913043478261,10.0,13.043478260869565,0,7.142857142857142,9.090909090909092,21.428571428571427,0,2.3255813953488373,15.789473684210526,18.75,21.052631578947366,10.526315789473683,6.666666666666667,28.57142857142857,20.0,8.0,0,10.526315789473683,0,4.3478260869565215,50.0,18.181818181818183,16.666666666666664,22.22222222222222]],[\"MODEM\",[9.70873786407767,4.411764705882353,4.761904761904762,2.564102564102564,5.660377358490567,0,3.669724770642202,2.4390243902439024,15.384615384615385,1.7543859649122806,7.894736842105263,8.695652173913043,18.367346938775512,5.263157894736842,3.571428571428571,0,10.526315789473683,2.083333333333333,3.787878787878788,2.2222222222222223,13.043478260869565,20.0,8.695652173913043,7.142857142857142,0,0,0,2.0,0,5.263157894736842,0,0,5.263157894736842,6.666666666666667,0,0,0,0,0,0,8.695652173913043,0,0,0,33.33333333333333]],[\"LIOT\",[2.912621359223301,1.4705882352941175,3.7037037037037033,0,1.8867924528301887,4.166666666666666,2.7522935779816518,2.4390243902439024,0,1.7543859649122806,1.3157894736842104,0,2.0408163265306123,10.526315789473683,0,0,0,0,0,2.2222222222222223,0,0,0,0,14.285714285714285,0,7.142857142857142,0,2.3255813953488373,0,6.25,5.263157894736842,0,0,0,4.0,4.0,0,5.263157894736842,5.88235294117647,0,0,0,0,11.11111111111111]],[\"RN\",[1.4563106796116505,2.941176470588235,3.7037037037037033,5.128205128205128,1.8867924528301887,0,11.926605504587156,7.317073170731707,0,11.695906432748536,1.3157894736842104,0,0,5.263157894736842,0,0,1.3157894736842104,10.416666666666668,8.333333333333332,8.88888888888889,8.695652173913043,5.0,13.043478260869565,0,0,3.0303030303030303,0,6.0,2.3255813953488373,0,0,0,5.263157894736842,0,0,4.0,0,0,5.263157894736842,17.647058823529413,4.3478260869565215,16.666666666666664,0,50.0,11.11111111111111]],[\"LR\",[7.766990291262135,14.705882352941178,19.047619047619047,10.256410256410255,16.9811320754717,0,7.339449541284404,9.75609756097561,0,9.941520467836257,27.631578947368425,13.043478260869565,22.448979591836736,0,10.714285714285714,2.3255813953488373,11.842105263157894,8.333333333333332,5.303030303030303,24.444444444444443,4.3478260869565215,5.0,0,10.714285714285714,7.142857142857142,12.121212121212121,7.142857142857142,8.0,9.30232558139535,63.1578947368421,6.25,0,10.526315789473683,60.0,0,20.0,8.0,25.0,0,5.88235294117647,8.695652173913043,0,54.54545454545454,0,11.11111111111111]],[\"SOC\",[5.825242718446602,5.88235294117647,11.11111111111111,5.128205128205128,7.547169811320755,0,6.422018348623854,2.4390243902439024,0,11.11111111111111,13.157894736842104,8.695652173913043,4.081632653061225,5.263157894736842,21.428571428571427,6.976744186046512,7.894736842105263,14.583333333333334,7.575757575757576,6.666666666666667,8.695652173913043,5.0,4.3478260869565215,7.142857142857142,7.142857142857142,9.090909090909092,7.142857142857142,4.0,2.3255813953488373,0,6.25,0,5.263157894736842,0,0,4.0,0,0,31.57894736842105,0,4.3478260869565215,0,0,0,0]],[\"HOR\",[0,0,0,2.564102564102564,0,0,0,0,0,0,0,0,2.0408163265306123,0,0,0,0,0,0,2.2222222222222223,0,0,0,3.571428571428571,0,0,0,0,0,0,6.25,0,0,0,0,0,0,0,0,0,0,16.666666666666664,9.090909090909092,0,0]],[\"RRDP\",[0,0,0,0,0,0,0,0,0,0,0,0,0,0,0,0,0,0,0,0,0,0,0,0,0,0,7.142857142857142,0,0,0,0,0,0,0,0,0,0,0,0,0,0,0,0,0,0]]]}}},\"view\":{\"type\":\"object\",\"name\":\"CDSView\",\"id\":\"p1633\",\"attributes\":{\"filter\":{\"type\":\"object\",\"name\":\"AllIndices\",\"id\":\"p1634\"}}},\"glyph\":{\"type\":\"object\",\"name\":\"HBar\",\"id\":\"p1629\",\"attributes\":{\"y\":{\"type\":\"field\",\"field\":\"term\"},\"left\":{\"type\":\"expr\",\"expr\":{\"type\":\"object\",\"name\":\"Stack\",\"id\":\"p1563\",\"attributes\":{\"fields\":[\"GOV\",\"SER\",\"LFI\"]}}},\"right\":{\"type\":\"expr\",\"expr\":{\"type\":\"object\",\"name\":\"Stack\",\"id\":\"p1564\",\"attributes\":{\"fields\":[\"GOV\",\"SER\",\"LFI\",\"GDR\"]}}},\"line_color\":{\"type\":\"value\",\"value\":\"#444\"},\"line_width\":{\"type\":\"value\",\"value\":0.9},\"fill_color\":{\"type\":\"value\",\"value\":\"#EA2027\"},\"hatch_color\":{\"type\":\"value\",\"value\":\"#EA2027\"}}},\"nonselection_glyph\":{\"type\":\"object\",\"name\":\"HBar\",\"id\":\"p1630\",\"attributes\":{\"y\":{\"type\":\"field\",\"field\":\"term\"},\"left\":{\"type\":\"expr\",\"expr\":{\"id\":\"p1563\"}},\"right\":{\"type\":\"expr\",\"expr\":{\"id\":\"p1564\"}},\"line_color\":{\"type\":\"value\",\"value\":\"#444\"},\"line_alpha\":{\"type\":\"value\",\"value\":0.1},\"line_width\":{\"type\":\"value\",\"value\":0.9},\"fill_color\":{\"type\":\"value\",\"value\":\"#EA2027\"},\"fill_alpha\":{\"type\":\"value\",\"value\":0.1},\"hatch_color\":{\"type\":\"value\",\"value\":\"#EA2027\"},\"hatch_alpha\":{\"type\":\"value\",\"value\":0.1}}},\"muted_glyph\":{\"type\":\"object\",\"name\":\"HBar\",\"id\":\"p1631\",\"attributes\":{\"y\":{\"type\":\"field\",\"field\":\"term\"},\"left\":{\"type\":\"expr\",\"expr\":{\"id\":\"p1563\"}},\"right\":{\"type\":\"expr\",\"expr\":{\"id\":\"p1564\"}},\"line_color\":{\"type\":\"value\",\"value\":\"#444\"},\"line_alpha\":{\"type\":\"value\",\"value\":0.2},\"line_width\":{\"type\":\"value\",\"value\":0.9},\"fill_color\":{\"type\":\"value\",\"value\":\"#EA2027\"},\"fill_alpha\":{\"type\":\"value\",\"value\":0.2},\"hatch_color\":{\"type\":\"value\",\"value\":\"#EA2027\"},\"hatch_alpha\":{\"type\":\"value\",\"value\":0.2}}}}},{\"type\":\"object\",\"name\":\"GlyphRenderer\",\"id\":\"p1644\",\"attributes\":{\"name\":\"ECO\",\"data_source\":{\"type\":\"object\",\"name\":\"ColumnDataSource\",\"id\":\"p1635\",\"attributes\":{\"selected\":{\"type\":\"object\",\"name\":\"Selection\",\"id\":\"p1636\",\"attributes\":{\"indices\":[],\"line_indices\":[]}},\"selection_policy\":{\"type\":\"object\",\"name\":\"UnionRenderers\",\"id\":\"p1637\"},\"data\":{\"type\":\"map\",\"entries\":[[\"term\",[\"syst\\u00e8me de retraite\",\"loi de finance\",\"emploi de senior\",\"commission de affaire\",\"loi de financement\",\"probl\\u00e8me de financement\",\"\\u00e2ge de d\\u00e9part\",\"pension de retraite\",\"augmenter le imp\\u00f4t\",\"r\\u00e9forme de retraite\",\"taux de emploi\",\"clause de grand-p\\u00e8re\",\"syst\\u00e8me par r\\u00e9partition\",\"co\\u00fbt de travail\",\"\\u00e9tude de impact\",\"exon\\u00e9ration de cotisation\",\"r\\u00e9gime de retraite\",\"suppression de r\\u00e9gime\",\"1 200 euro\",\"pouvoir de achat\",\"taux de ch\\u00f4mage\",\"commission de finance\",\"march\\u00e9 de travail\",\"financer le retraite\",\"financement de syst\\u00e8me\",\"financement de retraite\",\"abaisser le seuil\",\"caisse de retraite\",\"condition de travail\",\"am\\u00e9liorer le taux\",\"augmenter le cotisation\",\"baisse de imp\\u00f4t\",\"loi de programmation\",\"m\\u00e8re de famille\",\"pension de r\\u00e9version\",\"d\\u00e9part en retraite\",\"esp\\u00e9rance de vie\",\"demandeur de emploi\",\"crit\\u00e8re de p\\u00e9nibilit\\u00e9\",\"faire un effort\",\"monde de travail\",\"strat\\u00e9gie de obstruction\",\"embauche de senior\",\"fonds de r\\u00e9serve\",\"variable de ajustement\"]],[\"GOV\",[9.70873786407767,23.52941176470588,8.465608465608465,35.8974358974359,24.528301886792452,45.83333333333333,8.256880733944955,19.51219512195122,53.84615384615385,4.093567251461988,9.210526315789473,26.08695652173913,12.244897959183673,31.57894736842105,21.428571428571427,11.627906976744185,6.578947368421052,10.416666666666668,3.787878787878788,11.11111111111111,21.73913043478261,25.0,17.391304347826086,14.285714285714285,28.57142857142857,9.090909090909092,21.428571428571427,6.0,6.976744186046512,10.526315789473683,12.5,10.526315789473683,10.526315789473683,6.666666666666667,14.285714285714285,4.0,0,0,0,0,0,0,0,0,0]],[\"SER\",[1.9417475728155338,1.4705882352941175,1.0582010582010581,0,1.8867924528301887,0,4.587155963302752,2.4390243902439024,0,1.1695906432748537,0,0,0,5.263157894736842,3.571428571428571,2.3255813953488373,1.3157894736842104,6.25,0.7575757575757576,2.2222222222222223,0,5.0,0,0,0,0,0,4.0,0,0,0,0,15.789473684210526,0,0,0,8.0,12.5,5.263157894736842,0,0,0,0,0,0]],[\"LFI\",[30.097087378640776,14.705882352941178,8.994708994708994,10.256410256410255,7.547169811320755,33.33333333333333,26.605504587155966,29.268292682926827,0,32.16374269005848,7.894736842105263,17.391304347826086,16.3265306122449,15.789473684210526,28.57142857142857,48.837209302325576,32.89473684210527,20.833333333333336,62.121212121212125,11.11111111111111,13.043478260869565,15.0,21.73913043478261,50.0,28.57142857142857,39.39393939393939,14.285714285714285,68.0,44.18604651162791,0,43.75,36.84210526315789,5.263157894736842,6.666666666666667,0,24.0,28.000000000000004,37.5,36.84210526315789,29.411764705882355,21.73913043478261,16.666666666666664,0,0,0]],[\"GDR\",[6.796116504854369,2.941176470588235,5.291005291005291,5.128205128205128,3.7735849056603774,0,5.5045871559633035,4.878048780487805,0,4.678362573099415,9.210526315789473,4.3478260869565215,2.0408163265306123,15.789473684210526,3.571428571428571,11.627906976744185,5.263157894736842,12.5,3.787878787878788,2.2222222222222223,4.3478260869565215,0,4.3478260869565215,0,7.142857142857142,3.0303030303030303,0,2.0,18.6046511627907,0,0,0,10.526315789473683,6.666666666666667,0,0,16.0,25.0,0,5.88235294117647,26.08695652173913,0,9.090909090909092,16.666666666666664,0]],[\"ECO\",[3.3980582524271843,5.88235294117647,5.291005291005291,7.6923076923076925,7.547169811320755,0,5.5045871559633035,7.317073170731707,0,4.678362573099415,1.3157894736842104,0,2.0408163265306123,0,3.571428571428571,6.976744186046512,1.3157894736842104,0,3.0303030303030303,0,0,0,8.695652173913043,3.571428571428571,0,3.0303030303030303,0,0,11.627906976744185,0,0,10.526315789473683,0,0,0,4.0,24.0,0,5.263157894736842,11.76470588235294,17.391304347826086,0,0,0,11.11111111111111]],[\"NI\",[3.8834951456310676,4.411764705882353,2.1164021164021163,0,3.7735849056603774,4.166666666666666,3.669724770642202,0,0,5.263157894736842,2.631578947368421,0,2.0408163265306123,0,0,0,3.9473684210526314,0,0.7575757575757576,2.2222222222222223,0,0,4.3478260869565215,3.571428571428571,0,12.121212121212121,0,0,0,0,0,15.789473684210526,10.526315789473683,6.666666666666667,14.285714285714285,12.0,4.0,0,0,11.76470588235294,4.3478260869565215,0,9.090909090909092,16.666666666666664,0]],[\"UDI\",[4.368932038834951,7.352941176470589,4.761904761904762,2.564102564102564,9.433962264150944,0,2.7522935779816518,2.4390243902439024,7.6923076923076925,4.093567251461988,7.894736842105263,13.043478260869565,2.0408163265306123,0,0,2.3255813953488373,6.578947368421052,0,0.7575757575757576,2.2222222222222223,4.3478260869565215,10.0,4.3478260869565215,0,0,0,14.285714285714285,0,0,5.263157894736842,0,0,10.526315789473683,0,42.857142857142854,4.0,0,0,0,11.76470588235294,0,0,0,0,0]],[\"REN\",[12.135922330097088,10.294117647058822,21.693121693121693,12.82051282051282,7.547169811320755,12.5,11.009174311926607,9.75609756097561,23.076923076923077,7.602339181286549,10.526315789473683,8.695652173913043,14.285714285714285,5.263157894736842,3.571428571428571,6.976744186046512,10.526315789473683,14.583333333333334,0,22.22222222222222,21.73913043478261,10.0,13.043478260869565,0,7.142857142857142,9.090909090909092,21.428571428571427,0,2.3255813953488373,15.789473684210526,18.75,21.052631578947366,10.526315789473683,6.666666666666667,28.57142857142857,20.0,8.0,0,10.526315789473683,0,4.3478260869565215,50.0,18.181818181818183,16.666666666666664,22.22222222222222]],[\"MODEM\",[9.70873786407767,4.411764705882353,4.761904761904762,2.564102564102564,5.660377358490567,0,3.669724770642202,2.4390243902439024,15.384615384615385,1.7543859649122806,7.894736842105263,8.695652173913043,18.367346938775512,5.263157894736842,3.571428571428571,0,10.526315789473683,2.083333333333333,3.787878787878788,2.2222222222222223,13.043478260869565,20.0,8.695652173913043,7.142857142857142,0,0,0,2.0,0,5.263157894736842,0,0,5.263157894736842,6.666666666666667,0,0,0,0,0,0,8.695652173913043,0,0,0,33.33333333333333]],[\"LIOT\",[2.912621359223301,1.4705882352941175,3.7037037037037033,0,1.8867924528301887,4.166666666666666,2.7522935779816518,2.4390243902439024,0,1.7543859649122806,1.3157894736842104,0,2.0408163265306123,10.526315789473683,0,0,0,0,0,2.2222222222222223,0,0,0,0,14.285714285714285,0,7.142857142857142,0,2.3255813953488373,0,6.25,5.263157894736842,0,0,0,4.0,4.0,0,5.263157894736842,5.88235294117647,0,0,0,0,11.11111111111111]],[\"RN\",[1.4563106796116505,2.941176470588235,3.7037037037037033,5.128205128205128,1.8867924528301887,0,11.926605504587156,7.317073170731707,0,11.695906432748536,1.3157894736842104,0,0,5.263157894736842,0,0,1.3157894736842104,10.416666666666668,8.333333333333332,8.88888888888889,8.695652173913043,5.0,13.043478260869565,0,0,3.0303030303030303,0,6.0,2.3255813953488373,0,0,0,5.263157894736842,0,0,4.0,0,0,5.263157894736842,17.647058823529413,4.3478260869565215,16.666666666666664,0,50.0,11.11111111111111]],[\"LR\",[7.766990291262135,14.705882352941178,19.047619047619047,10.256410256410255,16.9811320754717,0,7.339449541284404,9.75609756097561,0,9.941520467836257,27.631578947368425,13.043478260869565,22.448979591836736,0,10.714285714285714,2.3255813953488373,11.842105263157894,8.333333333333332,5.303030303030303,24.444444444444443,4.3478260869565215,5.0,0,10.714285714285714,7.142857142857142,12.121212121212121,7.142857142857142,8.0,9.30232558139535,63.1578947368421,6.25,0,10.526315789473683,60.0,0,20.0,8.0,25.0,0,5.88235294117647,8.695652173913043,0,54.54545454545454,0,11.11111111111111]],[\"SOC\",[5.825242718446602,5.88235294117647,11.11111111111111,5.128205128205128,7.547169811320755,0,6.422018348623854,2.4390243902439024,0,11.11111111111111,13.157894736842104,8.695652173913043,4.081632653061225,5.263157894736842,21.428571428571427,6.976744186046512,7.894736842105263,14.583333333333334,7.575757575757576,6.666666666666667,8.695652173913043,5.0,4.3478260869565215,7.142857142857142,7.142857142857142,9.090909090909092,7.142857142857142,4.0,2.3255813953488373,0,6.25,0,5.263157894736842,0,0,4.0,0,0,31.57894736842105,0,4.3478260869565215,0,0,0,0]],[\"HOR\",[0,0,0,2.564102564102564,0,0,0,0,0,0,0,0,2.0408163265306123,0,0,0,0,0,0,2.2222222222222223,0,0,0,3.571428571428571,0,0,0,0,0,0,6.25,0,0,0,0,0,0,0,0,0,0,16.666666666666664,9.090909090909092,0,0]],[\"RRDP\",[0,0,0,0,0,0,0,0,0,0,0,0,0,0,0,0,0,0,0,0,0,0,0,0,0,0,7.142857142857142,0,0,0,0,0,0,0,0,0,0,0,0,0,0,0,0,0,0]]]}}},\"view\":{\"type\":\"object\",\"name\":\"CDSView\",\"id\":\"p1645\",\"attributes\":{\"filter\":{\"type\":\"object\",\"name\":\"AllIndices\",\"id\":\"p1646\"}}},\"glyph\":{\"type\":\"object\",\"name\":\"HBar\",\"id\":\"p1641\",\"attributes\":{\"y\":{\"type\":\"field\",\"field\":\"term\"},\"left\":{\"type\":\"expr\",\"expr\":{\"type\":\"object\",\"name\":\"Stack\",\"id\":\"p1565\",\"attributes\":{\"fields\":[\"GOV\",\"SER\",\"LFI\",\"GDR\"]}}},\"right\":{\"type\":\"expr\",\"expr\":{\"type\":\"object\",\"name\":\"Stack\",\"id\":\"p1566\",\"attributes\":{\"fields\":[\"GOV\",\"SER\",\"LFI\",\"GDR\",\"ECO\"]}}},\"line_color\":{\"type\":\"value\",\"value\":\"#444\"},\"line_width\":{\"type\":\"value\",\"value\":0.9},\"fill_color\":{\"type\":\"value\",\"value\":\"#009432\"},\"hatch_color\":{\"type\":\"value\",\"value\":\"#009432\"}}},\"nonselection_glyph\":{\"type\":\"object\",\"name\":\"HBar\",\"id\":\"p1642\",\"attributes\":{\"y\":{\"type\":\"field\",\"field\":\"term\"},\"left\":{\"type\":\"expr\",\"expr\":{\"id\":\"p1565\"}},\"right\":{\"type\":\"expr\",\"expr\":{\"id\":\"p1566\"}},\"line_color\":{\"type\":\"value\",\"value\":\"#444\"},\"line_alpha\":{\"type\":\"value\",\"value\":0.1},\"line_width\":{\"type\":\"value\",\"value\":0.9},\"fill_color\":{\"type\":\"value\",\"value\":\"#009432\"},\"fill_alpha\":{\"type\":\"value\",\"value\":0.1},\"hatch_color\":{\"type\":\"value\",\"value\":\"#009432\"},\"hatch_alpha\":{\"type\":\"value\",\"value\":0.1}}},\"muted_glyph\":{\"type\":\"object\",\"name\":\"HBar\",\"id\":\"p1643\",\"attributes\":{\"y\":{\"type\":\"field\",\"field\":\"term\"},\"left\":{\"type\":\"expr\",\"expr\":{\"id\":\"p1565\"}},\"right\":{\"type\":\"expr\",\"expr\":{\"id\":\"p1566\"}},\"line_color\":{\"type\":\"value\",\"value\":\"#444\"},\"line_alpha\":{\"type\":\"value\",\"value\":0.2},\"line_width\":{\"type\":\"value\",\"value\":0.9},\"fill_color\":{\"type\":\"value\",\"value\":\"#009432\"},\"fill_alpha\":{\"type\":\"value\",\"value\":0.2},\"hatch_color\":{\"type\":\"value\",\"value\":\"#009432\"},\"hatch_alpha\":{\"type\":\"value\",\"value\":0.2}}}}},{\"type\":\"object\",\"name\":\"GlyphRenderer\",\"id\":\"p1656\",\"attributes\":{\"name\":\"NI\",\"data_source\":{\"type\":\"object\",\"name\":\"ColumnDataSource\",\"id\":\"p1647\",\"attributes\":{\"selected\":{\"type\":\"object\",\"name\":\"Selection\",\"id\":\"p1648\",\"attributes\":{\"indices\":[],\"line_indices\":[]}},\"selection_policy\":{\"type\":\"object\",\"name\":\"UnionRenderers\",\"id\":\"p1649\"},\"data\":{\"type\":\"map\",\"entries\":[[\"term\",[\"syst\\u00e8me de retraite\",\"loi de finance\",\"emploi de senior\",\"commission de affaire\",\"loi de financement\",\"probl\\u00e8me de financement\",\"\\u00e2ge de d\\u00e9part\",\"pension de retraite\",\"augmenter le imp\\u00f4t\",\"r\\u00e9forme de retraite\",\"taux de emploi\",\"clause de grand-p\\u00e8re\",\"syst\\u00e8me par r\\u00e9partition\",\"co\\u00fbt de travail\",\"\\u00e9tude de impact\",\"exon\\u00e9ration de cotisation\",\"r\\u00e9gime de retraite\",\"suppression de r\\u00e9gime\",\"1 200 euro\",\"pouvoir de achat\",\"taux de ch\\u00f4mage\",\"commission de finance\",\"march\\u00e9 de travail\",\"financer le retraite\",\"financement de syst\\u00e8me\",\"financement de retraite\",\"abaisser le seuil\",\"caisse de retraite\",\"condition de travail\",\"am\\u00e9liorer le taux\",\"augmenter le cotisation\",\"baisse de imp\\u00f4t\",\"loi de programmation\",\"m\\u00e8re de famille\",\"pension de r\\u00e9version\",\"d\\u00e9part en retraite\",\"esp\\u00e9rance de vie\",\"demandeur de emploi\",\"crit\\u00e8re de p\\u00e9nibilit\\u00e9\",\"faire un effort\",\"monde de travail\",\"strat\\u00e9gie de obstruction\",\"embauche de senior\",\"fonds de r\\u00e9serve\",\"variable de ajustement\"]],[\"GOV\",[9.70873786407767,23.52941176470588,8.465608465608465,35.8974358974359,24.528301886792452,45.83333333333333,8.256880733944955,19.51219512195122,53.84615384615385,4.093567251461988,9.210526315789473,26.08695652173913,12.244897959183673,31.57894736842105,21.428571428571427,11.627906976744185,6.578947368421052,10.416666666666668,3.787878787878788,11.11111111111111,21.73913043478261,25.0,17.391304347826086,14.285714285714285,28.57142857142857,9.090909090909092,21.428571428571427,6.0,6.976744186046512,10.526315789473683,12.5,10.526315789473683,10.526315789473683,6.666666666666667,14.285714285714285,4.0,0,0,0,0,0,0,0,0,0]],[\"SER\",[1.9417475728155338,1.4705882352941175,1.0582010582010581,0,1.8867924528301887,0,4.587155963302752,2.4390243902439024,0,1.1695906432748537,0,0,0,5.263157894736842,3.571428571428571,2.3255813953488373,1.3157894736842104,6.25,0.7575757575757576,2.2222222222222223,0,5.0,0,0,0,0,0,4.0,0,0,0,0,15.789473684210526,0,0,0,8.0,12.5,5.263157894736842,0,0,0,0,0,0]],[\"LFI\",[30.097087378640776,14.705882352941178,8.994708994708994,10.256410256410255,7.547169811320755,33.33333333333333,26.605504587155966,29.268292682926827,0,32.16374269005848,7.894736842105263,17.391304347826086,16.3265306122449,15.789473684210526,28.57142857142857,48.837209302325576,32.89473684210527,20.833333333333336,62.121212121212125,11.11111111111111,13.043478260869565,15.0,21.73913043478261,50.0,28.57142857142857,39.39393939393939,14.285714285714285,68.0,44.18604651162791,0,43.75,36.84210526315789,5.263157894736842,6.666666666666667,0,24.0,28.000000000000004,37.5,36.84210526315789,29.411764705882355,21.73913043478261,16.666666666666664,0,0,0]],[\"GDR\",[6.796116504854369,2.941176470588235,5.291005291005291,5.128205128205128,3.7735849056603774,0,5.5045871559633035,4.878048780487805,0,4.678362573099415,9.210526315789473,4.3478260869565215,2.0408163265306123,15.789473684210526,3.571428571428571,11.627906976744185,5.263157894736842,12.5,3.787878787878788,2.2222222222222223,4.3478260869565215,0,4.3478260869565215,0,7.142857142857142,3.0303030303030303,0,2.0,18.6046511627907,0,0,0,10.526315789473683,6.666666666666667,0,0,16.0,25.0,0,5.88235294117647,26.08695652173913,0,9.090909090909092,16.666666666666664,0]],[\"ECO\",[3.3980582524271843,5.88235294117647,5.291005291005291,7.6923076923076925,7.547169811320755,0,5.5045871559633035,7.317073170731707,0,4.678362573099415,1.3157894736842104,0,2.0408163265306123,0,3.571428571428571,6.976744186046512,1.3157894736842104,0,3.0303030303030303,0,0,0,8.695652173913043,3.571428571428571,0,3.0303030303030303,0,0,11.627906976744185,0,0,10.526315789473683,0,0,0,4.0,24.0,0,5.263157894736842,11.76470588235294,17.391304347826086,0,0,0,11.11111111111111]],[\"NI\",[3.8834951456310676,4.411764705882353,2.1164021164021163,0,3.7735849056603774,4.166666666666666,3.669724770642202,0,0,5.263157894736842,2.631578947368421,0,2.0408163265306123,0,0,0,3.9473684210526314,0,0.7575757575757576,2.2222222222222223,0,0,4.3478260869565215,3.571428571428571,0,12.121212121212121,0,0,0,0,0,15.789473684210526,10.526315789473683,6.666666666666667,14.285714285714285,12.0,4.0,0,0,11.76470588235294,4.3478260869565215,0,9.090909090909092,16.666666666666664,0]],[\"UDI\",[4.368932038834951,7.352941176470589,4.761904761904762,2.564102564102564,9.433962264150944,0,2.7522935779816518,2.4390243902439024,7.6923076923076925,4.093567251461988,7.894736842105263,13.043478260869565,2.0408163265306123,0,0,2.3255813953488373,6.578947368421052,0,0.7575757575757576,2.2222222222222223,4.3478260869565215,10.0,4.3478260869565215,0,0,0,14.285714285714285,0,0,5.263157894736842,0,0,10.526315789473683,0,42.857142857142854,4.0,0,0,0,11.76470588235294,0,0,0,0,0]],[\"REN\",[12.135922330097088,10.294117647058822,21.693121693121693,12.82051282051282,7.547169811320755,12.5,11.009174311926607,9.75609756097561,23.076923076923077,7.602339181286549,10.526315789473683,8.695652173913043,14.285714285714285,5.263157894736842,3.571428571428571,6.976744186046512,10.526315789473683,14.583333333333334,0,22.22222222222222,21.73913043478261,10.0,13.043478260869565,0,7.142857142857142,9.090909090909092,21.428571428571427,0,2.3255813953488373,15.789473684210526,18.75,21.052631578947366,10.526315789473683,6.666666666666667,28.57142857142857,20.0,8.0,0,10.526315789473683,0,4.3478260869565215,50.0,18.181818181818183,16.666666666666664,22.22222222222222]],[\"MODEM\",[9.70873786407767,4.411764705882353,4.761904761904762,2.564102564102564,5.660377358490567,0,3.669724770642202,2.4390243902439024,15.384615384615385,1.7543859649122806,7.894736842105263,8.695652173913043,18.367346938775512,5.263157894736842,3.571428571428571,0,10.526315789473683,2.083333333333333,3.787878787878788,2.2222222222222223,13.043478260869565,20.0,8.695652173913043,7.142857142857142,0,0,0,2.0,0,5.263157894736842,0,0,5.263157894736842,6.666666666666667,0,0,0,0,0,0,8.695652173913043,0,0,0,33.33333333333333]],[\"LIOT\",[2.912621359223301,1.4705882352941175,3.7037037037037033,0,1.8867924528301887,4.166666666666666,2.7522935779816518,2.4390243902439024,0,1.7543859649122806,1.3157894736842104,0,2.0408163265306123,10.526315789473683,0,0,0,0,0,2.2222222222222223,0,0,0,0,14.285714285714285,0,7.142857142857142,0,2.3255813953488373,0,6.25,5.263157894736842,0,0,0,4.0,4.0,0,5.263157894736842,5.88235294117647,0,0,0,0,11.11111111111111]],[\"RN\",[1.4563106796116505,2.941176470588235,3.7037037037037033,5.128205128205128,1.8867924528301887,0,11.926605504587156,7.317073170731707,0,11.695906432748536,1.3157894736842104,0,0,5.263157894736842,0,0,1.3157894736842104,10.416666666666668,8.333333333333332,8.88888888888889,8.695652173913043,5.0,13.043478260869565,0,0,3.0303030303030303,0,6.0,2.3255813953488373,0,0,0,5.263157894736842,0,0,4.0,0,0,5.263157894736842,17.647058823529413,4.3478260869565215,16.666666666666664,0,50.0,11.11111111111111]],[\"LR\",[7.766990291262135,14.705882352941178,19.047619047619047,10.256410256410255,16.9811320754717,0,7.339449541284404,9.75609756097561,0,9.941520467836257,27.631578947368425,13.043478260869565,22.448979591836736,0,10.714285714285714,2.3255813953488373,11.842105263157894,8.333333333333332,5.303030303030303,24.444444444444443,4.3478260869565215,5.0,0,10.714285714285714,7.142857142857142,12.121212121212121,7.142857142857142,8.0,9.30232558139535,63.1578947368421,6.25,0,10.526315789473683,60.0,0,20.0,8.0,25.0,0,5.88235294117647,8.695652173913043,0,54.54545454545454,0,11.11111111111111]],[\"SOC\",[5.825242718446602,5.88235294117647,11.11111111111111,5.128205128205128,7.547169811320755,0,6.422018348623854,2.4390243902439024,0,11.11111111111111,13.157894736842104,8.695652173913043,4.081632653061225,5.263157894736842,21.428571428571427,6.976744186046512,7.894736842105263,14.583333333333334,7.575757575757576,6.666666666666667,8.695652173913043,5.0,4.3478260869565215,7.142857142857142,7.142857142857142,9.090909090909092,7.142857142857142,4.0,2.3255813953488373,0,6.25,0,5.263157894736842,0,0,4.0,0,0,31.57894736842105,0,4.3478260869565215,0,0,0,0]],[\"HOR\",[0,0,0,2.564102564102564,0,0,0,0,0,0,0,0,2.0408163265306123,0,0,0,0,0,0,2.2222222222222223,0,0,0,3.571428571428571,0,0,0,0,0,0,6.25,0,0,0,0,0,0,0,0,0,0,16.666666666666664,9.090909090909092,0,0]],[\"RRDP\",[0,0,0,0,0,0,0,0,0,0,0,0,0,0,0,0,0,0,0,0,0,0,0,0,0,0,7.142857142857142,0,0,0,0,0,0,0,0,0,0,0,0,0,0,0,0,0,0]]]}}},\"view\":{\"type\":\"object\",\"name\":\"CDSView\",\"id\":\"p1657\",\"attributes\":{\"filter\":{\"type\":\"object\",\"name\":\"AllIndices\",\"id\":\"p1658\"}}},\"glyph\":{\"type\":\"object\",\"name\":\"HBar\",\"id\":\"p1653\",\"attributes\":{\"y\":{\"type\":\"field\",\"field\":\"term\"},\"left\":{\"type\":\"expr\",\"expr\":{\"type\":\"object\",\"name\":\"Stack\",\"id\":\"p1567\",\"attributes\":{\"fields\":[\"GOV\",\"SER\",\"LFI\",\"GDR\",\"ECO\"]}}},\"right\":{\"type\":\"expr\",\"expr\":{\"type\":\"object\",\"name\":\"Stack\",\"id\":\"p1568\",\"attributes\":{\"fields\":[\"GOV\",\"SER\",\"LFI\",\"GDR\",\"ECO\",\"NI\"]}}},\"line_color\":{\"type\":\"value\",\"value\":\"#444\"},\"line_width\":{\"type\":\"value\",\"value\":0.9},\"fill_color\":{\"type\":\"value\",\"value\":\"#95a5a6\"},\"hatch_color\":{\"type\":\"value\",\"value\":\"#95a5a6\"}}},\"nonselection_glyph\":{\"type\":\"object\",\"name\":\"HBar\",\"id\":\"p1654\",\"attributes\":{\"y\":{\"type\":\"field\",\"field\":\"term\"},\"left\":{\"type\":\"expr\",\"expr\":{\"id\":\"p1567\"}},\"right\":{\"type\":\"expr\",\"expr\":{\"id\":\"p1568\"}},\"line_color\":{\"type\":\"value\",\"value\":\"#444\"},\"line_alpha\":{\"type\":\"value\",\"value\":0.1},\"line_width\":{\"type\":\"value\",\"value\":0.9},\"fill_color\":{\"type\":\"value\",\"value\":\"#95a5a6\"},\"fill_alpha\":{\"type\":\"value\",\"value\":0.1},\"hatch_color\":{\"type\":\"value\",\"value\":\"#95a5a6\"},\"hatch_alpha\":{\"type\":\"value\",\"value\":0.1}}},\"muted_glyph\":{\"type\":\"object\",\"name\":\"HBar\",\"id\":\"p1655\",\"attributes\":{\"y\":{\"type\":\"field\",\"field\":\"term\"},\"left\":{\"type\":\"expr\",\"expr\":{\"id\":\"p1567\"}},\"right\":{\"type\":\"expr\",\"expr\":{\"id\":\"p1568\"}},\"line_color\":{\"type\":\"value\",\"value\":\"#444\"},\"line_alpha\":{\"type\":\"value\",\"value\":0.2},\"line_width\":{\"type\":\"value\",\"value\":0.9},\"fill_color\":{\"type\":\"value\",\"value\":\"#95a5a6\"},\"fill_alpha\":{\"type\":\"value\",\"value\":0.2},\"hatch_color\":{\"type\":\"value\",\"value\":\"#95a5a6\"},\"hatch_alpha\":{\"type\":\"value\",\"value\":0.2}}}}},{\"type\":\"object\",\"name\":\"GlyphRenderer\",\"id\":\"p1668\",\"attributes\":{\"name\":\"UDI\",\"data_source\":{\"type\":\"object\",\"name\":\"ColumnDataSource\",\"id\":\"p1659\",\"attributes\":{\"selected\":{\"type\":\"object\",\"name\":\"Selection\",\"id\":\"p1660\",\"attributes\":{\"indices\":[],\"line_indices\":[]}},\"selection_policy\":{\"type\":\"object\",\"name\":\"UnionRenderers\",\"id\":\"p1661\"},\"data\":{\"type\":\"map\",\"entries\":[[\"term\",[\"syst\\u00e8me de retraite\",\"loi de finance\",\"emploi de senior\",\"commission de affaire\",\"loi de financement\",\"probl\\u00e8me de financement\",\"\\u00e2ge de d\\u00e9part\",\"pension de retraite\",\"augmenter le imp\\u00f4t\",\"r\\u00e9forme de retraite\",\"taux de emploi\",\"clause de grand-p\\u00e8re\",\"syst\\u00e8me par r\\u00e9partition\",\"co\\u00fbt de travail\",\"\\u00e9tude de impact\",\"exon\\u00e9ration de cotisation\",\"r\\u00e9gime de retraite\",\"suppression de r\\u00e9gime\",\"1 200 euro\",\"pouvoir de achat\",\"taux de ch\\u00f4mage\",\"commission de finance\",\"march\\u00e9 de travail\",\"financer le retraite\",\"financement de syst\\u00e8me\",\"financement de retraite\",\"abaisser le seuil\",\"caisse de retraite\",\"condition de travail\",\"am\\u00e9liorer le taux\",\"augmenter le cotisation\",\"baisse de imp\\u00f4t\",\"loi de programmation\",\"m\\u00e8re de famille\",\"pension de r\\u00e9version\",\"d\\u00e9part en retraite\",\"esp\\u00e9rance de vie\",\"demandeur de emploi\",\"crit\\u00e8re de p\\u00e9nibilit\\u00e9\",\"faire un effort\",\"monde de travail\",\"strat\\u00e9gie de obstruction\",\"embauche de senior\",\"fonds de r\\u00e9serve\",\"variable de ajustement\"]],[\"GOV\",[9.70873786407767,23.52941176470588,8.465608465608465,35.8974358974359,24.528301886792452,45.83333333333333,8.256880733944955,19.51219512195122,53.84615384615385,4.093567251461988,9.210526315789473,26.08695652173913,12.244897959183673,31.57894736842105,21.428571428571427,11.627906976744185,6.578947368421052,10.416666666666668,3.787878787878788,11.11111111111111,21.73913043478261,25.0,17.391304347826086,14.285714285714285,28.57142857142857,9.090909090909092,21.428571428571427,6.0,6.976744186046512,10.526315789473683,12.5,10.526315789473683,10.526315789473683,6.666666666666667,14.285714285714285,4.0,0,0,0,0,0,0,0,0,0]],[\"SER\",[1.9417475728155338,1.4705882352941175,1.0582010582010581,0,1.8867924528301887,0,4.587155963302752,2.4390243902439024,0,1.1695906432748537,0,0,0,5.263157894736842,3.571428571428571,2.3255813953488373,1.3157894736842104,6.25,0.7575757575757576,2.2222222222222223,0,5.0,0,0,0,0,0,4.0,0,0,0,0,15.789473684210526,0,0,0,8.0,12.5,5.263157894736842,0,0,0,0,0,0]],[\"LFI\",[30.097087378640776,14.705882352941178,8.994708994708994,10.256410256410255,7.547169811320755,33.33333333333333,26.605504587155966,29.268292682926827,0,32.16374269005848,7.894736842105263,17.391304347826086,16.3265306122449,15.789473684210526,28.57142857142857,48.837209302325576,32.89473684210527,20.833333333333336,62.121212121212125,11.11111111111111,13.043478260869565,15.0,21.73913043478261,50.0,28.57142857142857,39.39393939393939,14.285714285714285,68.0,44.18604651162791,0,43.75,36.84210526315789,5.263157894736842,6.666666666666667,0,24.0,28.000000000000004,37.5,36.84210526315789,29.411764705882355,21.73913043478261,16.666666666666664,0,0,0]],[\"GDR\",[6.796116504854369,2.941176470588235,5.291005291005291,5.128205128205128,3.7735849056603774,0,5.5045871559633035,4.878048780487805,0,4.678362573099415,9.210526315789473,4.3478260869565215,2.0408163265306123,15.789473684210526,3.571428571428571,11.627906976744185,5.263157894736842,12.5,3.787878787878788,2.2222222222222223,4.3478260869565215,0,4.3478260869565215,0,7.142857142857142,3.0303030303030303,0,2.0,18.6046511627907,0,0,0,10.526315789473683,6.666666666666667,0,0,16.0,25.0,0,5.88235294117647,26.08695652173913,0,9.090909090909092,16.666666666666664,0]],[\"ECO\",[3.3980582524271843,5.88235294117647,5.291005291005291,7.6923076923076925,7.547169811320755,0,5.5045871559633035,7.317073170731707,0,4.678362573099415,1.3157894736842104,0,2.0408163265306123,0,3.571428571428571,6.976744186046512,1.3157894736842104,0,3.0303030303030303,0,0,0,8.695652173913043,3.571428571428571,0,3.0303030303030303,0,0,11.627906976744185,0,0,10.526315789473683,0,0,0,4.0,24.0,0,5.263157894736842,11.76470588235294,17.391304347826086,0,0,0,11.11111111111111]],[\"NI\",[3.8834951456310676,4.411764705882353,2.1164021164021163,0,3.7735849056603774,4.166666666666666,3.669724770642202,0,0,5.263157894736842,2.631578947368421,0,2.0408163265306123,0,0,0,3.9473684210526314,0,0.7575757575757576,2.2222222222222223,0,0,4.3478260869565215,3.571428571428571,0,12.121212121212121,0,0,0,0,0,15.789473684210526,10.526315789473683,6.666666666666667,14.285714285714285,12.0,4.0,0,0,11.76470588235294,4.3478260869565215,0,9.090909090909092,16.666666666666664,0]],[\"UDI\",[4.368932038834951,7.352941176470589,4.761904761904762,2.564102564102564,9.433962264150944,0,2.7522935779816518,2.4390243902439024,7.6923076923076925,4.093567251461988,7.894736842105263,13.043478260869565,2.0408163265306123,0,0,2.3255813953488373,6.578947368421052,0,0.7575757575757576,2.2222222222222223,4.3478260869565215,10.0,4.3478260869565215,0,0,0,14.285714285714285,0,0,5.263157894736842,0,0,10.526315789473683,0,42.857142857142854,4.0,0,0,0,11.76470588235294,0,0,0,0,0]],[\"REN\",[12.135922330097088,10.294117647058822,21.693121693121693,12.82051282051282,7.547169811320755,12.5,11.009174311926607,9.75609756097561,23.076923076923077,7.602339181286549,10.526315789473683,8.695652173913043,14.285714285714285,5.263157894736842,3.571428571428571,6.976744186046512,10.526315789473683,14.583333333333334,0,22.22222222222222,21.73913043478261,10.0,13.043478260869565,0,7.142857142857142,9.090909090909092,21.428571428571427,0,2.3255813953488373,15.789473684210526,18.75,21.052631578947366,10.526315789473683,6.666666666666667,28.57142857142857,20.0,8.0,0,10.526315789473683,0,4.3478260869565215,50.0,18.181818181818183,16.666666666666664,22.22222222222222]],[\"MODEM\",[9.70873786407767,4.411764705882353,4.761904761904762,2.564102564102564,5.660377358490567,0,3.669724770642202,2.4390243902439024,15.384615384615385,1.7543859649122806,7.894736842105263,8.695652173913043,18.367346938775512,5.263157894736842,3.571428571428571,0,10.526315789473683,2.083333333333333,3.787878787878788,2.2222222222222223,13.043478260869565,20.0,8.695652173913043,7.142857142857142,0,0,0,2.0,0,5.263157894736842,0,0,5.263157894736842,6.666666666666667,0,0,0,0,0,0,8.695652173913043,0,0,0,33.33333333333333]],[\"LIOT\",[2.912621359223301,1.4705882352941175,3.7037037037037033,0,1.8867924528301887,4.166666666666666,2.7522935779816518,2.4390243902439024,0,1.7543859649122806,1.3157894736842104,0,2.0408163265306123,10.526315789473683,0,0,0,0,0,2.2222222222222223,0,0,0,0,14.285714285714285,0,7.142857142857142,0,2.3255813953488373,0,6.25,5.263157894736842,0,0,0,4.0,4.0,0,5.263157894736842,5.88235294117647,0,0,0,0,11.11111111111111]],[\"RN\",[1.4563106796116505,2.941176470588235,3.7037037037037033,5.128205128205128,1.8867924528301887,0,11.926605504587156,7.317073170731707,0,11.695906432748536,1.3157894736842104,0,0,5.263157894736842,0,0,1.3157894736842104,10.416666666666668,8.333333333333332,8.88888888888889,8.695652173913043,5.0,13.043478260869565,0,0,3.0303030303030303,0,6.0,2.3255813953488373,0,0,0,5.263157894736842,0,0,4.0,0,0,5.263157894736842,17.647058823529413,4.3478260869565215,16.666666666666664,0,50.0,11.11111111111111]],[\"LR\",[7.766990291262135,14.705882352941178,19.047619047619047,10.256410256410255,16.9811320754717,0,7.339449541284404,9.75609756097561,0,9.941520467836257,27.631578947368425,13.043478260869565,22.448979591836736,0,10.714285714285714,2.3255813953488373,11.842105263157894,8.333333333333332,5.303030303030303,24.444444444444443,4.3478260869565215,5.0,0,10.714285714285714,7.142857142857142,12.121212121212121,7.142857142857142,8.0,9.30232558139535,63.1578947368421,6.25,0,10.526315789473683,60.0,0,20.0,8.0,25.0,0,5.88235294117647,8.695652173913043,0,54.54545454545454,0,11.11111111111111]],[\"SOC\",[5.825242718446602,5.88235294117647,11.11111111111111,5.128205128205128,7.547169811320755,0,6.422018348623854,2.4390243902439024,0,11.11111111111111,13.157894736842104,8.695652173913043,4.081632653061225,5.263157894736842,21.428571428571427,6.976744186046512,7.894736842105263,14.583333333333334,7.575757575757576,6.666666666666667,8.695652173913043,5.0,4.3478260869565215,7.142857142857142,7.142857142857142,9.090909090909092,7.142857142857142,4.0,2.3255813953488373,0,6.25,0,5.263157894736842,0,0,4.0,0,0,31.57894736842105,0,4.3478260869565215,0,0,0,0]],[\"HOR\",[0,0,0,2.564102564102564,0,0,0,0,0,0,0,0,2.0408163265306123,0,0,0,0,0,0,2.2222222222222223,0,0,0,3.571428571428571,0,0,0,0,0,0,6.25,0,0,0,0,0,0,0,0,0,0,16.666666666666664,9.090909090909092,0,0]],[\"RRDP\",[0,0,0,0,0,0,0,0,0,0,0,0,0,0,0,0,0,0,0,0,0,0,0,0,0,0,7.142857142857142,0,0,0,0,0,0,0,0,0,0,0,0,0,0,0,0,0,0]]]}}},\"view\":{\"type\":\"object\",\"name\":\"CDSView\",\"id\":\"p1669\",\"attributes\":{\"filter\":{\"type\":\"object\",\"name\":\"AllIndices\",\"id\":\"p1670\"}}},\"glyph\":{\"type\":\"object\",\"name\":\"HBar\",\"id\":\"p1665\",\"attributes\":{\"y\":{\"type\":\"field\",\"field\":\"term\"},\"left\":{\"type\":\"expr\",\"expr\":{\"type\":\"object\",\"name\":\"Stack\",\"id\":\"p1569\",\"attributes\":{\"fields\":[\"GOV\",\"SER\",\"LFI\",\"GDR\",\"ECO\",\"NI\"]}}},\"right\":{\"type\":\"expr\",\"expr\":{\"type\":\"object\",\"name\":\"Stack\",\"id\":\"p1570\",\"attributes\":{\"fields\":[\"GOV\",\"SER\",\"LFI\",\"GDR\",\"ECO\",\"NI\",\"UDI\"]}}},\"line_color\":{\"type\":\"value\",\"value\":\"#444\"},\"line_width\":{\"type\":\"value\",\"value\":0.9},\"fill_color\":{\"type\":\"value\",\"value\":\"#9b59b6\"},\"hatch_color\":{\"type\":\"value\",\"value\":\"#9b59b6\"}}},\"nonselection_glyph\":{\"type\":\"object\",\"name\":\"HBar\",\"id\":\"p1666\",\"attributes\":{\"y\":{\"type\":\"field\",\"field\":\"term\"},\"left\":{\"type\":\"expr\",\"expr\":{\"id\":\"p1569\"}},\"right\":{\"type\":\"expr\",\"expr\":{\"id\":\"p1570\"}},\"line_color\":{\"type\":\"value\",\"value\":\"#444\"},\"line_alpha\":{\"type\":\"value\",\"value\":0.1},\"line_width\":{\"type\":\"value\",\"value\":0.9},\"fill_color\":{\"type\":\"value\",\"value\":\"#9b59b6\"},\"fill_alpha\":{\"type\":\"value\",\"value\":0.1},\"hatch_color\":{\"type\":\"value\",\"value\":\"#9b59b6\"},\"hatch_alpha\":{\"type\":\"value\",\"value\":0.1}}},\"muted_glyph\":{\"type\":\"object\",\"name\":\"HBar\",\"id\":\"p1667\",\"attributes\":{\"y\":{\"type\":\"field\",\"field\":\"term\"},\"left\":{\"type\":\"expr\",\"expr\":{\"id\":\"p1569\"}},\"right\":{\"type\":\"expr\",\"expr\":{\"id\":\"p1570\"}},\"line_color\":{\"type\":\"value\",\"value\":\"#444\"},\"line_alpha\":{\"type\":\"value\",\"value\":0.2},\"line_width\":{\"type\":\"value\",\"value\":0.9},\"fill_color\":{\"type\":\"value\",\"value\":\"#9b59b6\"},\"fill_alpha\":{\"type\":\"value\",\"value\":0.2},\"hatch_color\":{\"type\":\"value\",\"value\":\"#9b59b6\"},\"hatch_alpha\":{\"type\":\"value\",\"value\":0.2}}}}},{\"type\":\"object\",\"name\":\"GlyphRenderer\",\"id\":\"p1680\",\"attributes\":{\"name\":\"REN\",\"data_source\":{\"type\":\"object\",\"name\":\"ColumnDataSource\",\"id\":\"p1671\",\"attributes\":{\"selected\":{\"type\":\"object\",\"name\":\"Selection\",\"id\":\"p1672\",\"attributes\":{\"indices\":[],\"line_indices\":[]}},\"selection_policy\":{\"type\":\"object\",\"name\":\"UnionRenderers\",\"id\":\"p1673\"},\"data\":{\"type\":\"map\",\"entries\":[[\"term\",[\"syst\\u00e8me de retraite\",\"loi de finance\",\"emploi de senior\",\"commission de affaire\",\"loi de financement\",\"probl\\u00e8me de financement\",\"\\u00e2ge de d\\u00e9part\",\"pension de retraite\",\"augmenter le imp\\u00f4t\",\"r\\u00e9forme de retraite\",\"taux de emploi\",\"clause de grand-p\\u00e8re\",\"syst\\u00e8me par r\\u00e9partition\",\"co\\u00fbt de travail\",\"\\u00e9tude de impact\",\"exon\\u00e9ration de cotisation\",\"r\\u00e9gime de retraite\",\"suppression de r\\u00e9gime\",\"1 200 euro\",\"pouvoir de achat\",\"taux de ch\\u00f4mage\",\"commission de finance\",\"march\\u00e9 de travail\",\"financer le retraite\",\"financement de syst\\u00e8me\",\"financement de retraite\",\"abaisser le seuil\",\"caisse de retraite\",\"condition de travail\",\"am\\u00e9liorer le taux\",\"augmenter le cotisation\",\"baisse de imp\\u00f4t\",\"loi de programmation\",\"m\\u00e8re de famille\",\"pension de r\\u00e9version\",\"d\\u00e9part en retraite\",\"esp\\u00e9rance de vie\",\"demandeur de emploi\",\"crit\\u00e8re de p\\u00e9nibilit\\u00e9\",\"faire un effort\",\"monde de travail\",\"strat\\u00e9gie de obstruction\",\"embauche de senior\",\"fonds de r\\u00e9serve\",\"variable de ajustement\"]],[\"GOV\",[9.70873786407767,23.52941176470588,8.465608465608465,35.8974358974359,24.528301886792452,45.83333333333333,8.256880733944955,19.51219512195122,53.84615384615385,4.093567251461988,9.210526315789473,26.08695652173913,12.244897959183673,31.57894736842105,21.428571428571427,11.627906976744185,6.578947368421052,10.416666666666668,3.787878787878788,11.11111111111111,21.73913043478261,25.0,17.391304347826086,14.285714285714285,28.57142857142857,9.090909090909092,21.428571428571427,6.0,6.976744186046512,10.526315789473683,12.5,10.526315789473683,10.526315789473683,6.666666666666667,14.285714285714285,4.0,0,0,0,0,0,0,0,0,0]],[\"SER\",[1.9417475728155338,1.4705882352941175,1.0582010582010581,0,1.8867924528301887,0,4.587155963302752,2.4390243902439024,0,1.1695906432748537,0,0,0,5.263157894736842,3.571428571428571,2.3255813953488373,1.3157894736842104,6.25,0.7575757575757576,2.2222222222222223,0,5.0,0,0,0,0,0,4.0,0,0,0,0,15.789473684210526,0,0,0,8.0,12.5,5.263157894736842,0,0,0,0,0,0]],[\"LFI\",[30.097087378640776,14.705882352941178,8.994708994708994,10.256410256410255,7.547169811320755,33.33333333333333,26.605504587155966,29.268292682926827,0,32.16374269005848,7.894736842105263,17.391304347826086,16.3265306122449,15.789473684210526,28.57142857142857,48.837209302325576,32.89473684210527,20.833333333333336,62.121212121212125,11.11111111111111,13.043478260869565,15.0,21.73913043478261,50.0,28.57142857142857,39.39393939393939,14.285714285714285,68.0,44.18604651162791,0,43.75,36.84210526315789,5.263157894736842,6.666666666666667,0,24.0,28.000000000000004,37.5,36.84210526315789,29.411764705882355,21.73913043478261,16.666666666666664,0,0,0]],[\"GDR\",[6.796116504854369,2.941176470588235,5.291005291005291,5.128205128205128,3.7735849056603774,0,5.5045871559633035,4.878048780487805,0,4.678362573099415,9.210526315789473,4.3478260869565215,2.0408163265306123,15.789473684210526,3.571428571428571,11.627906976744185,5.263157894736842,12.5,3.787878787878788,2.2222222222222223,4.3478260869565215,0,4.3478260869565215,0,7.142857142857142,3.0303030303030303,0,2.0,18.6046511627907,0,0,0,10.526315789473683,6.666666666666667,0,0,16.0,25.0,0,5.88235294117647,26.08695652173913,0,9.090909090909092,16.666666666666664,0]],[\"ECO\",[3.3980582524271843,5.88235294117647,5.291005291005291,7.6923076923076925,7.547169811320755,0,5.5045871559633035,7.317073170731707,0,4.678362573099415,1.3157894736842104,0,2.0408163265306123,0,3.571428571428571,6.976744186046512,1.3157894736842104,0,3.0303030303030303,0,0,0,8.695652173913043,3.571428571428571,0,3.0303030303030303,0,0,11.627906976744185,0,0,10.526315789473683,0,0,0,4.0,24.0,0,5.263157894736842,11.76470588235294,17.391304347826086,0,0,0,11.11111111111111]],[\"NI\",[3.8834951456310676,4.411764705882353,2.1164021164021163,0,3.7735849056603774,4.166666666666666,3.669724770642202,0,0,5.263157894736842,2.631578947368421,0,2.0408163265306123,0,0,0,3.9473684210526314,0,0.7575757575757576,2.2222222222222223,0,0,4.3478260869565215,3.571428571428571,0,12.121212121212121,0,0,0,0,0,15.789473684210526,10.526315789473683,6.666666666666667,14.285714285714285,12.0,4.0,0,0,11.76470588235294,4.3478260869565215,0,9.090909090909092,16.666666666666664,0]],[\"UDI\",[4.368932038834951,7.352941176470589,4.761904761904762,2.564102564102564,9.433962264150944,0,2.7522935779816518,2.4390243902439024,7.6923076923076925,4.093567251461988,7.894736842105263,13.043478260869565,2.0408163265306123,0,0,2.3255813953488373,6.578947368421052,0,0.7575757575757576,2.2222222222222223,4.3478260869565215,10.0,4.3478260869565215,0,0,0,14.285714285714285,0,0,5.263157894736842,0,0,10.526315789473683,0,42.857142857142854,4.0,0,0,0,11.76470588235294,0,0,0,0,0]],[\"REN\",[12.135922330097088,10.294117647058822,21.693121693121693,12.82051282051282,7.547169811320755,12.5,11.009174311926607,9.75609756097561,23.076923076923077,7.602339181286549,10.526315789473683,8.695652173913043,14.285714285714285,5.263157894736842,3.571428571428571,6.976744186046512,10.526315789473683,14.583333333333334,0,22.22222222222222,21.73913043478261,10.0,13.043478260869565,0,7.142857142857142,9.090909090909092,21.428571428571427,0,2.3255813953488373,15.789473684210526,18.75,21.052631578947366,10.526315789473683,6.666666666666667,28.57142857142857,20.0,8.0,0,10.526315789473683,0,4.3478260869565215,50.0,18.181818181818183,16.666666666666664,22.22222222222222]],[\"MODEM\",[9.70873786407767,4.411764705882353,4.761904761904762,2.564102564102564,5.660377358490567,0,3.669724770642202,2.4390243902439024,15.384615384615385,1.7543859649122806,7.894736842105263,8.695652173913043,18.367346938775512,5.263157894736842,3.571428571428571,0,10.526315789473683,2.083333333333333,3.787878787878788,2.2222222222222223,13.043478260869565,20.0,8.695652173913043,7.142857142857142,0,0,0,2.0,0,5.263157894736842,0,0,5.263157894736842,6.666666666666667,0,0,0,0,0,0,8.695652173913043,0,0,0,33.33333333333333]],[\"LIOT\",[2.912621359223301,1.4705882352941175,3.7037037037037033,0,1.8867924528301887,4.166666666666666,2.7522935779816518,2.4390243902439024,0,1.7543859649122806,1.3157894736842104,0,2.0408163265306123,10.526315789473683,0,0,0,0,0,2.2222222222222223,0,0,0,0,14.285714285714285,0,7.142857142857142,0,2.3255813953488373,0,6.25,5.263157894736842,0,0,0,4.0,4.0,0,5.263157894736842,5.88235294117647,0,0,0,0,11.11111111111111]],[\"RN\",[1.4563106796116505,2.941176470588235,3.7037037037037033,5.128205128205128,1.8867924528301887,0,11.926605504587156,7.317073170731707,0,11.695906432748536,1.3157894736842104,0,0,5.263157894736842,0,0,1.3157894736842104,10.416666666666668,8.333333333333332,8.88888888888889,8.695652173913043,5.0,13.043478260869565,0,0,3.0303030303030303,0,6.0,2.3255813953488373,0,0,0,5.263157894736842,0,0,4.0,0,0,5.263157894736842,17.647058823529413,4.3478260869565215,16.666666666666664,0,50.0,11.11111111111111]],[\"LR\",[7.766990291262135,14.705882352941178,19.047619047619047,10.256410256410255,16.9811320754717,0,7.339449541284404,9.75609756097561,0,9.941520467836257,27.631578947368425,13.043478260869565,22.448979591836736,0,10.714285714285714,2.3255813953488373,11.842105263157894,8.333333333333332,5.303030303030303,24.444444444444443,4.3478260869565215,5.0,0,10.714285714285714,7.142857142857142,12.121212121212121,7.142857142857142,8.0,9.30232558139535,63.1578947368421,6.25,0,10.526315789473683,60.0,0,20.0,8.0,25.0,0,5.88235294117647,8.695652173913043,0,54.54545454545454,0,11.11111111111111]],[\"SOC\",[5.825242718446602,5.88235294117647,11.11111111111111,5.128205128205128,7.547169811320755,0,6.422018348623854,2.4390243902439024,0,11.11111111111111,13.157894736842104,8.695652173913043,4.081632653061225,5.263157894736842,21.428571428571427,6.976744186046512,7.894736842105263,14.583333333333334,7.575757575757576,6.666666666666667,8.695652173913043,5.0,4.3478260869565215,7.142857142857142,7.142857142857142,9.090909090909092,7.142857142857142,4.0,2.3255813953488373,0,6.25,0,5.263157894736842,0,0,4.0,0,0,31.57894736842105,0,4.3478260869565215,0,0,0,0]],[\"HOR\",[0,0,0,2.564102564102564,0,0,0,0,0,0,0,0,2.0408163265306123,0,0,0,0,0,0,2.2222222222222223,0,0,0,3.571428571428571,0,0,0,0,0,0,6.25,0,0,0,0,0,0,0,0,0,0,16.666666666666664,9.090909090909092,0,0]],[\"RRDP\",[0,0,0,0,0,0,0,0,0,0,0,0,0,0,0,0,0,0,0,0,0,0,0,0,0,0,7.142857142857142,0,0,0,0,0,0,0,0,0,0,0,0,0,0,0,0,0,0]]]}}},\"view\":{\"type\":\"object\",\"name\":\"CDSView\",\"id\":\"p1681\",\"attributes\":{\"filter\":{\"type\":\"object\",\"name\":\"AllIndices\",\"id\":\"p1682\"}}},\"glyph\":{\"type\":\"object\",\"name\":\"HBar\",\"id\":\"p1677\",\"attributes\":{\"y\":{\"type\":\"field\",\"field\":\"term\"},\"left\":{\"type\":\"expr\",\"expr\":{\"type\":\"object\",\"name\":\"Stack\",\"id\":\"p1571\",\"attributes\":{\"fields\":[\"GOV\",\"SER\",\"LFI\",\"GDR\",\"ECO\",\"NI\",\"UDI\"]}}},\"right\":{\"type\":\"expr\",\"expr\":{\"type\":\"object\",\"name\":\"Stack\",\"id\":\"p1572\",\"attributes\":{\"fields\":[\"GOV\",\"SER\",\"LFI\",\"GDR\",\"ECO\",\"NI\",\"UDI\",\"REN\"]}}},\"line_color\":{\"type\":\"value\",\"value\":\"#444\"},\"line_width\":{\"type\":\"value\",\"value\":0.9},\"fill_color\":{\"type\":\"value\",\"value\":\"#3498db\"},\"hatch_color\":{\"type\":\"value\",\"value\":\"#3498db\"}}},\"nonselection_glyph\":{\"type\":\"object\",\"name\":\"HBar\",\"id\":\"p1678\",\"attributes\":{\"y\":{\"type\":\"field\",\"field\":\"term\"},\"left\":{\"type\":\"expr\",\"expr\":{\"id\":\"p1571\"}},\"right\":{\"type\":\"expr\",\"expr\":{\"id\":\"p1572\"}},\"line_color\":{\"type\":\"value\",\"value\":\"#444\"},\"line_alpha\":{\"type\":\"value\",\"value\":0.1},\"line_width\":{\"type\":\"value\",\"value\":0.9},\"fill_color\":{\"type\":\"value\",\"value\":\"#3498db\"},\"fill_alpha\":{\"type\":\"value\",\"value\":0.1},\"hatch_color\":{\"type\":\"value\",\"value\":\"#3498db\"},\"hatch_alpha\":{\"type\":\"value\",\"value\":0.1}}},\"muted_glyph\":{\"type\":\"object\",\"name\":\"HBar\",\"id\":\"p1679\",\"attributes\":{\"y\":{\"type\":\"field\",\"field\":\"term\"},\"left\":{\"type\":\"expr\",\"expr\":{\"id\":\"p1571\"}},\"right\":{\"type\":\"expr\",\"expr\":{\"id\":\"p1572\"}},\"line_color\":{\"type\":\"value\",\"value\":\"#444\"},\"line_alpha\":{\"type\":\"value\",\"value\":0.2},\"line_width\":{\"type\":\"value\",\"value\":0.9},\"fill_color\":{\"type\":\"value\",\"value\":\"#3498db\"},\"fill_alpha\":{\"type\":\"value\",\"value\":0.2},\"hatch_color\":{\"type\":\"value\",\"value\":\"#3498db\"},\"hatch_alpha\":{\"type\":\"value\",\"value\":0.2}}}}},{\"type\":\"object\",\"name\":\"GlyphRenderer\",\"id\":\"p1692\",\"attributes\":{\"name\":\"MODEM\",\"data_source\":{\"type\":\"object\",\"name\":\"ColumnDataSource\",\"id\":\"p1683\",\"attributes\":{\"selected\":{\"type\":\"object\",\"name\":\"Selection\",\"id\":\"p1684\",\"attributes\":{\"indices\":[],\"line_indices\":[]}},\"selection_policy\":{\"type\":\"object\",\"name\":\"UnionRenderers\",\"id\":\"p1685\"},\"data\":{\"type\":\"map\",\"entries\":[[\"term\",[\"syst\\u00e8me de retraite\",\"loi de finance\",\"emploi de senior\",\"commission de affaire\",\"loi de financement\",\"probl\\u00e8me de financement\",\"\\u00e2ge de d\\u00e9part\",\"pension de retraite\",\"augmenter le imp\\u00f4t\",\"r\\u00e9forme de retraite\",\"taux de emploi\",\"clause de grand-p\\u00e8re\",\"syst\\u00e8me par r\\u00e9partition\",\"co\\u00fbt de travail\",\"\\u00e9tude de impact\",\"exon\\u00e9ration de cotisation\",\"r\\u00e9gime de retraite\",\"suppression de r\\u00e9gime\",\"1 200 euro\",\"pouvoir de achat\",\"taux de ch\\u00f4mage\",\"commission de finance\",\"march\\u00e9 de travail\",\"financer le retraite\",\"financement de syst\\u00e8me\",\"financement de retraite\",\"abaisser le seuil\",\"caisse de retraite\",\"condition de travail\",\"am\\u00e9liorer le taux\",\"augmenter le cotisation\",\"baisse de imp\\u00f4t\",\"loi de programmation\",\"m\\u00e8re de famille\",\"pension de r\\u00e9version\",\"d\\u00e9part en retraite\",\"esp\\u00e9rance de vie\",\"demandeur de emploi\",\"crit\\u00e8re de p\\u00e9nibilit\\u00e9\",\"faire un effort\",\"monde de travail\",\"strat\\u00e9gie de obstruction\",\"embauche de senior\",\"fonds de r\\u00e9serve\",\"variable de ajustement\"]],[\"GOV\",[9.70873786407767,23.52941176470588,8.465608465608465,35.8974358974359,24.528301886792452,45.83333333333333,8.256880733944955,19.51219512195122,53.84615384615385,4.093567251461988,9.210526315789473,26.08695652173913,12.244897959183673,31.57894736842105,21.428571428571427,11.627906976744185,6.578947368421052,10.416666666666668,3.787878787878788,11.11111111111111,21.73913043478261,25.0,17.391304347826086,14.285714285714285,28.57142857142857,9.090909090909092,21.428571428571427,6.0,6.976744186046512,10.526315789473683,12.5,10.526315789473683,10.526315789473683,6.666666666666667,14.285714285714285,4.0,0,0,0,0,0,0,0,0,0]],[\"SER\",[1.9417475728155338,1.4705882352941175,1.0582010582010581,0,1.8867924528301887,0,4.587155963302752,2.4390243902439024,0,1.1695906432748537,0,0,0,5.263157894736842,3.571428571428571,2.3255813953488373,1.3157894736842104,6.25,0.7575757575757576,2.2222222222222223,0,5.0,0,0,0,0,0,4.0,0,0,0,0,15.789473684210526,0,0,0,8.0,12.5,5.263157894736842,0,0,0,0,0,0]],[\"LFI\",[30.097087378640776,14.705882352941178,8.994708994708994,10.256410256410255,7.547169811320755,33.33333333333333,26.605504587155966,29.268292682926827,0,32.16374269005848,7.894736842105263,17.391304347826086,16.3265306122449,15.789473684210526,28.57142857142857,48.837209302325576,32.89473684210527,20.833333333333336,62.121212121212125,11.11111111111111,13.043478260869565,15.0,21.73913043478261,50.0,28.57142857142857,39.39393939393939,14.285714285714285,68.0,44.18604651162791,0,43.75,36.84210526315789,5.263157894736842,6.666666666666667,0,24.0,28.000000000000004,37.5,36.84210526315789,29.411764705882355,21.73913043478261,16.666666666666664,0,0,0]],[\"GDR\",[6.796116504854369,2.941176470588235,5.291005291005291,5.128205128205128,3.7735849056603774,0,5.5045871559633035,4.878048780487805,0,4.678362573099415,9.210526315789473,4.3478260869565215,2.0408163265306123,15.789473684210526,3.571428571428571,11.627906976744185,5.263157894736842,12.5,3.787878787878788,2.2222222222222223,4.3478260869565215,0,4.3478260869565215,0,7.142857142857142,3.0303030303030303,0,2.0,18.6046511627907,0,0,0,10.526315789473683,6.666666666666667,0,0,16.0,25.0,0,5.88235294117647,26.08695652173913,0,9.090909090909092,16.666666666666664,0]],[\"ECO\",[3.3980582524271843,5.88235294117647,5.291005291005291,7.6923076923076925,7.547169811320755,0,5.5045871559633035,7.317073170731707,0,4.678362573099415,1.3157894736842104,0,2.0408163265306123,0,3.571428571428571,6.976744186046512,1.3157894736842104,0,3.0303030303030303,0,0,0,8.695652173913043,3.571428571428571,0,3.0303030303030303,0,0,11.627906976744185,0,0,10.526315789473683,0,0,0,4.0,24.0,0,5.263157894736842,11.76470588235294,17.391304347826086,0,0,0,11.11111111111111]],[\"NI\",[3.8834951456310676,4.411764705882353,2.1164021164021163,0,3.7735849056603774,4.166666666666666,3.669724770642202,0,0,5.263157894736842,2.631578947368421,0,2.0408163265306123,0,0,0,3.9473684210526314,0,0.7575757575757576,2.2222222222222223,0,0,4.3478260869565215,3.571428571428571,0,12.121212121212121,0,0,0,0,0,15.789473684210526,10.526315789473683,6.666666666666667,14.285714285714285,12.0,4.0,0,0,11.76470588235294,4.3478260869565215,0,9.090909090909092,16.666666666666664,0]],[\"UDI\",[4.368932038834951,7.352941176470589,4.761904761904762,2.564102564102564,9.433962264150944,0,2.7522935779816518,2.4390243902439024,7.6923076923076925,4.093567251461988,7.894736842105263,13.043478260869565,2.0408163265306123,0,0,2.3255813953488373,6.578947368421052,0,0.7575757575757576,2.2222222222222223,4.3478260869565215,10.0,4.3478260869565215,0,0,0,14.285714285714285,0,0,5.263157894736842,0,0,10.526315789473683,0,42.857142857142854,4.0,0,0,0,11.76470588235294,0,0,0,0,0]],[\"REN\",[12.135922330097088,10.294117647058822,21.693121693121693,12.82051282051282,7.547169811320755,12.5,11.009174311926607,9.75609756097561,23.076923076923077,7.602339181286549,10.526315789473683,8.695652173913043,14.285714285714285,5.263157894736842,3.571428571428571,6.976744186046512,10.526315789473683,14.583333333333334,0,22.22222222222222,21.73913043478261,10.0,13.043478260869565,0,7.142857142857142,9.090909090909092,21.428571428571427,0,2.3255813953488373,15.789473684210526,18.75,21.052631578947366,10.526315789473683,6.666666666666667,28.57142857142857,20.0,8.0,0,10.526315789473683,0,4.3478260869565215,50.0,18.181818181818183,16.666666666666664,22.22222222222222]],[\"MODEM\",[9.70873786407767,4.411764705882353,4.761904761904762,2.564102564102564,5.660377358490567,0,3.669724770642202,2.4390243902439024,15.384615384615385,1.7543859649122806,7.894736842105263,8.695652173913043,18.367346938775512,5.263157894736842,3.571428571428571,0,10.526315789473683,2.083333333333333,3.787878787878788,2.2222222222222223,13.043478260869565,20.0,8.695652173913043,7.142857142857142,0,0,0,2.0,0,5.263157894736842,0,0,5.263157894736842,6.666666666666667,0,0,0,0,0,0,8.695652173913043,0,0,0,33.33333333333333]],[\"LIOT\",[2.912621359223301,1.4705882352941175,3.7037037037037033,0,1.8867924528301887,4.166666666666666,2.7522935779816518,2.4390243902439024,0,1.7543859649122806,1.3157894736842104,0,2.0408163265306123,10.526315789473683,0,0,0,0,0,2.2222222222222223,0,0,0,0,14.285714285714285,0,7.142857142857142,0,2.3255813953488373,0,6.25,5.263157894736842,0,0,0,4.0,4.0,0,5.263157894736842,5.88235294117647,0,0,0,0,11.11111111111111]],[\"RN\",[1.4563106796116505,2.941176470588235,3.7037037037037033,5.128205128205128,1.8867924528301887,0,11.926605504587156,7.317073170731707,0,11.695906432748536,1.3157894736842104,0,0,5.263157894736842,0,0,1.3157894736842104,10.416666666666668,8.333333333333332,8.88888888888889,8.695652173913043,5.0,13.043478260869565,0,0,3.0303030303030303,0,6.0,2.3255813953488373,0,0,0,5.263157894736842,0,0,4.0,0,0,5.263157894736842,17.647058823529413,4.3478260869565215,16.666666666666664,0,50.0,11.11111111111111]],[\"LR\",[7.766990291262135,14.705882352941178,19.047619047619047,10.256410256410255,16.9811320754717,0,7.339449541284404,9.75609756097561,0,9.941520467836257,27.631578947368425,13.043478260869565,22.448979591836736,0,10.714285714285714,2.3255813953488373,11.842105263157894,8.333333333333332,5.303030303030303,24.444444444444443,4.3478260869565215,5.0,0,10.714285714285714,7.142857142857142,12.121212121212121,7.142857142857142,8.0,9.30232558139535,63.1578947368421,6.25,0,10.526315789473683,60.0,0,20.0,8.0,25.0,0,5.88235294117647,8.695652173913043,0,54.54545454545454,0,11.11111111111111]],[\"SOC\",[5.825242718446602,5.88235294117647,11.11111111111111,5.128205128205128,7.547169811320755,0,6.422018348623854,2.4390243902439024,0,11.11111111111111,13.157894736842104,8.695652173913043,4.081632653061225,5.263157894736842,21.428571428571427,6.976744186046512,7.894736842105263,14.583333333333334,7.575757575757576,6.666666666666667,8.695652173913043,5.0,4.3478260869565215,7.142857142857142,7.142857142857142,9.090909090909092,7.142857142857142,4.0,2.3255813953488373,0,6.25,0,5.263157894736842,0,0,4.0,0,0,31.57894736842105,0,4.3478260869565215,0,0,0,0]],[\"HOR\",[0,0,0,2.564102564102564,0,0,0,0,0,0,0,0,2.0408163265306123,0,0,0,0,0,0,2.2222222222222223,0,0,0,3.571428571428571,0,0,0,0,0,0,6.25,0,0,0,0,0,0,0,0,0,0,16.666666666666664,9.090909090909092,0,0]],[\"RRDP\",[0,0,0,0,0,0,0,0,0,0,0,0,0,0,0,0,0,0,0,0,0,0,0,0,0,0,7.142857142857142,0,0,0,0,0,0,0,0,0,0,0,0,0,0,0,0,0,0]]]}}},\"view\":{\"type\":\"object\",\"name\":\"CDSView\",\"id\":\"p1693\",\"attributes\":{\"filter\":{\"type\":\"object\",\"name\":\"AllIndices\",\"id\":\"p1694\"}}},\"glyph\":{\"type\":\"object\",\"name\":\"HBar\",\"id\":\"p1689\",\"attributes\":{\"y\":{\"type\":\"field\",\"field\":\"term\"},\"left\":{\"type\":\"expr\",\"expr\":{\"type\":\"object\",\"name\":\"Stack\",\"id\":\"p1573\",\"attributes\":{\"fields\":[\"GOV\",\"SER\",\"LFI\",\"GDR\",\"ECO\",\"NI\",\"UDI\",\"REN\"]}}},\"right\":{\"type\":\"expr\",\"expr\":{\"type\":\"object\",\"name\":\"Stack\",\"id\":\"p1574\",\"attributes\":{\"fields\":[\"GOV\",\"SER\",\"LFI\",\"GDR\",\"ECO\",\"NI\",\"UDI\",\"REN\",\"MODEM\"]}}},\"line_color\":{\"type\":\"value\",\"value\":\"#444\"},\"line_width\":{\"type\":\"value\",\"value\":0.9},\"fill_color\":{\"type\":\"value\",\"value\":\"#e67e22\"},\"hatch_color\":{\"type\":\"value\",\"value\":\"#e67e22\"}}},\"nonselection_glyph\":{\"type\":\"object\",\"name\":\"HBar\",\"id\":\"p1690\",\"attributes\":{\"y\":{\"type\":\"field\",\"field\":\"term\"},\"left\":{\"type\":\"expr\",\"expr\":{\"id\":\"p1573\"}},\"right\":{\"type\":\"expr\",\"expr\":{\"id\":\"p1574\"}},\"line_color\":{\"type\":\"value\",\"value\":\"#444\"},\"line_alpha\":{\"type\":\"value\",\"value\":0.1},\"line_width\":{\"type\":\"value\",\"value\":0.9},\"fill_color\":{\"type\":\"value\",\"value\":\"#e67e22\"},\"fill_alpha\":{\"type\":\"value\",\"value\":0.1},\"hatch_color\":{\"type\":\"value\",\"value\":\"#e67e22\"},\"hatch_alpha\":{\"type\":\"value\",\"value\":0.1}}},\"muted_glyph\":{\"type\":\"object\",\"name\":\"HBar\",\"id\":\"p1691\",\"attributes\":{\"y\":{\"type\":\"field\",\"field\":\"term\"},\"left\":{\"type\":\"expr\",\"expr\":{\"id\":\"p1573\"}},\"right\":{\"type\":\"expr\",\"expr\":{\"id\":\"p1574\"}},\"line_color\":{\"type\":\"value\",\"value\":\"#444\"},\"line_alpha\":{\"type\":\"value\",\"value\":0.2},\"line_width\":{\"type\":\"value\",\"value\":0.9},\"fill_color\":{\"type\":\"value\",\"value\":\"#e67e22\"},\"fill_alpha\":{\"type\":\"value\",\"value\":0.2},\"hatch_color\":{\"type\":\"value\",\"value\":\"#e67e22\"},\"hatch_alpha\":{\"type\":\"value\",\"value\":0.2}}}}},{\"type\":\"object\",\"name\":\"GlyphRenderer\",\"id\":\"p1704\",\"attributes\":{\"name\":\"LIOT\",\"data_source\":{\"type\":\"object\",\"name\":\"ColumnDataSource\",\"id\":\"p1695\",\"attributes\":{\"selected\":{\"type\":\"object\",\"name\":\"Selection\",\"id\":\"p1696\",\"attributes\":{\"indices\":[],\"line_indices\":[]}},\"selection_policy\":{\"type\":\"object\",\"name\":\"UnionRenderers\",\"id\":\"p1697\"},\"data\":{\"type\":\"map\",\"entries\":[[\"term\",[\"syst\\u00e8me de retraite\",\"loi de finance\",\"emploi de senior\",\"commission de affaire\",\"loi de financement\",\"probl\\u00e8me de financement\",\"\\u00e2ge de d\\u00e9part\",\"pension de retraite\",\"augmenter le imp\\u00f4t\",\"r\\u00e9forme de retraite\",\"taux de emploi\",\"clause de grand-p\\u00e8re\",\"syst\\u00e8me par r\\u00e9partition\",\"co\\u00fbt de travail\",\"\\u00e9tude de impact\",\"exon\\u00e9ration de cotisation\",\"r\\u00e9gime de retraite\",\"suppression de r\\u00e9gime\",\"1 200 euro\",\"pouvoir de achat\",\"taux de ch\\u00f4mage\",\"commission de finance\",\"march\\u00e9 de travail\",\"financer le retraite\",\"financement de syst\\u00e8me\",\"financement de retraite\",\"abaisser le seuil\",\"caisse de retraite\",\"condition de travail\",\"am\\u00e9liorer le taux\",\"augmenter le cotisation\",\"baisse de imp\\u00f4t\",\"loi de programmation\",\"m\\u00e8re de famille\",\"pension de r\\u00e9version\",\"d\\u00e9part en retraite\",\"esp\\u00e9rance de vie\",\"demandeur de emploi\",\"crit\\u00e8re de p\\u00e9nibilit\\u00e9\",\"faire un effort\",\"monde de travail\",\"strat\\u00e9gie de obstruction\",\"embauche de senior\",\"fonds de r\\u00e9serve\",\"variable de ajustement\"]],[\"GOV\",[9.70873786407767,23.52941176470588,8.465608465608465,35.8974358974359,24.528301886792452,45.83333333333333,8.256880733944955,19.51219512195122,53.84615384615385,4.093567251461988,9.210526315789473,26.08695652173913,12.244897959183673,31.57894736842105,21.428571428571427,11.627906976744185,6.578947368421052,10.416666666666668,3.787878787878788,11.11111111111111,21.73913043478261,25.0,17.391304347826086,14.285714285714285,28.57142857142857,9.090909090909092,21.428571428571427,6.0,6.976744186046512,10.526315789473683,12.5,10.526315789473683,10.526315789473683,6.666666666666667,14.285714285714285,4.0,0,0,0,0,0,0,0,0,0]],[\"SER\",[1.9417475728155338,1.4705882352941175,1.0582010582010581,0,1.8867924528301887,0,4.587155963302752,2.4390243902439024,0,1.1695906432748537,0,0,0,5.263157894736842,3.571428571428571,2.3255813953488373,1.3157894736842104,6.25,0.7575757575757576,2.2222222222222223,0,5.0,0,0,0,0,0,4.0,0,0,0,0,15.789473684210526,0,0,0,8.0,12.5,5.263157894736842,0,0,0,0,0,0]],[\"LFI\",[30.097087378640776,14.705882352941178,8.994708994708994,10.256410256410255,7.547169811320755,33.33333333333333,26.605504587155966,29.268292682926827,0,32.16374269005848,7.894736842105263,17.391304347826086,16.3265306122449,15.789473684210526,28.57142857142857,48.837209302325576,32.89473684210527,20.833333333333336,62.121212121212125,11.11111111111111,13.043478260869565,15.0,21.73913043478261,50.0,28.57142857142857,39.39393939393939,14.285714285714285,68.0,44.18604651162791,0,43.75,36.84210526315789,5.263157894736842,6.666666666666667,0,24.0,28.000000000000004,37.5,36.84210526315789,29.411764705882355,21.73913043478261,16.666666666666664,0,0,0]],[\"GDR\",[6.796116504854369,2.941176470588235,5.291005291005291,5.128205128205128,3.7735849056603774,0,5.5045871559633035,4.878048780487805,0,4.678362573099415,9.210526315789473,4.3478260869565215,2.0408163265306123,15.789473684210526,3.571428571428571,11.627906976744185,5.263157894736842,12.5,3.787878787878788,2.2222222222222223,4.3478260869565215,0,4.3478260869565215,0,7.142857142857142,3.0303030303030303,0,2.0,18.6046511627907,0,0,0,10.526315789473683,6.666666666666667,0,0,16.0,25.0,0,5.88235294117647,26.08695652173913,0,9.090909090909092,16.666666666666664,0]],[\"ECO\",[3.3980582524271843,5.88235294117647,5.291005291005291,7.6923076923076925,7.547169811320755,0,5.5045871559633035,7.317073170731707,0,4.678362573099415,1.3157894736842104,0,2.0408163265306123,0,3.571428571428571,6.976744186046512,1.3157894736842104,0,3.0303030303030303,0,0,0,8.695652173913043,3.571428571428571,0,3.0303030303030303,0,0,11.627906976744185,0,0,10.526315789473683,0,0,0,4.0,24.0,0,5.263157894736842,11.76470588235294,17.391304347826086,0,0,0,11.11111111111111]],[\"NI\",[3.8834951456310676,4.411764705882353,2.1164021164021163,0,3.7735849056603774,4.166666666666666,3.669724770642202,0,0,5.263157894736842,2.631578947368421,0,2.0408163265306123,0,0,0,3.9473684210526314,0,0.7575757575757576,2.2222222222222223,0,0,4.3478260869565215,3.571428571428571,0,12.121212121212121,0,0,0,0,0,15.789473684210526,10.526315789473683,6.666666666666667,14.285714285714285,12.0,4.0,0,0,11.76470588235294,4.3478260869565215,0,9.090909090909092,16.666666666666664,0]],[\"UDI\",[4.368932038834951,7.352941176470589,4.761904761904762,2.564102564102564,9.433962264150944,0,2.7522935779816518,2.4390243902439024,7.6923076923076925,4.093567251461988,7.894736842105263,13.043478260869565,2.0408163265306123,0,0,2.3255813953488373,6.578947368421052,0,0.7575757575757576,2.2222222222222223,4.3478260869565215,10.0,4.3478260869565215,0,0,0,14.285714285714285,0,0,5.263157894736842,0,0,10.526315789473683,0,42.857142857142854,4.0,0,0,0,11.76470588235294,0,0,0,0,0]],[\"REN\",[12.135922330097088,10.294117647058822,21.693121693121693,12.82051282051282,7.547169811320755,12.5,11.009174311926607,9.75609756097561,23.076923076923077,7.602339181286549,10.526315789473683,8.695652173913043,14.285714285714285,5.263157894736842,3.571428571428571,6.976744186046512,10.526315789473683,14.583333333333334,0,22.22222222222222,21.73913043478261,10.0,13.043478260869565,0,7.142857142857142,9.090909090909092,21.428571428571427,0,2.3255813953488373,15.789473684210526,18.75,21.052631578947366,10.526315789473683,6.666666666666667,28.57142857142857,20.0,8.0,0,10.526315789473683,0,4.3478260869565215,50.0,18.181818181818183,16.666666666666664,22.22222222222222]],[\"MODEM\",[9.70873786407767,4.411764705882353,4.761904761904762,2.564102564102564,5.660377358490567,0,3.669724770642202,2.4390243902439024,15.384615384615385,1.7543859649122806,7.894736842105263,8.695652173913043,18.367346938775512,5.263157894736842,3.571428571428571,0,10.526315789473683,2.083333333333333,3.787878787878788,2.2222222222222223,13.043478260869565,20.0,8.695652173913043,7.142857142857142,0,0,0,2.0,0,5.263157894736842,0,0,5.263157894736842,6.666666666666667,0,0,0,0,0,0,8.695652173913043,0,0,0,33.33333333333333]],[\"LIOT\",[2.912621359223301,1.4705882352941175,3.7037037037037033,0,1.8867924528301887,4.166666666666666,2.7522935779816518,2.4390243902439024,0,1.7543859649122806,1.3157894736842104,0,2.0408163265306123,10.526315789473683,0,0,0,0,0,2.2222222222222223,0,0,0,0,14.285714285714285,0,7.142857142857142,0,2.3255813953488373,0,6.25,5.263157894736842,0,0,0,4.0,4.0,0,5.263157894736842,5.88235294117647,0,0,0,0,11.11111111111111]],[\"RN\",[1.4563106796116505,2.941176470588235,3.7037037037037033,5.128205128205128,1.8867924528301887,0,11.926605504587156,7.317073170731707,0,11.695906432748536,1.3157894736842104,0,0,5.263157894736842,0,0,1.3157894736842104,10.416666666666668,8.333333333333332,8.88888888888889,8.695652173913043,5.0,13.043478260869565,0,0,3.0303030303030303,0,6.0,2.3255813953488373,0,0,0,5.263157894736842,0,0,4.0,0,0,5.263157894736842,17.647058823529413,4.3478260869565215,16.666666666666664,0,50.0,11.11111111111111]],[\"LR\",[7.766990291262135,14.705882352941178,19.047619047619047,10.256410256410255,16.9811320754717,0,7.339449541284404,9.75609756097561,0,9.941520467836257,27.631578947368425,13.043478260869565,22.448979591836736,0,10.714285714285714,2.3255813953488373,11.842105263157894,8.333333333333332,5.303030303030303,24.444444444444443,4.3478260869565215,5.0,0,10.714285714285714,7.142857142857142,12.121212121212121,7.142857142857142,8.0,9.30232558139535,63.1578947368421,6.25,0,10.526315789473683,60.0,0,20.0,8.0,25.0,0,5.88235294117647,8.695652173913043,0,54.54545454545454,0,11.11111111111111]],[\"SOC\",[5.825242718446602,5.88235294117647,11.11111111111111,5.128205128205128,7.547169811320755,0,6.422018348623854,2.4390243902439024,0,11.11111111111111,13.157894736842104,8.695652173913043,4.081632653061225,5.263157894736842,21.428571428571427,6.976744186046512,7.894736842105263,14.583333333333334,7.575757575757576,6.666666666666667,8.695652173913043,5.0,4.3478260869565215,7.142857142857142,7.142857142857142,9.090909090909092,7.142857142857142,4.0,2.3255813953488373,0,6.25,0,5.263157894736842,0,0,4.0,0,0,31.57894736842105,0,4.3478260869565215,0,0,0,0]],[\"HOR\",[0,0,0,2.564102564102564,0,0,0,0,0,0,0,0,2.0408163265306123,0,0,0,0,0,0,2.2222222222222223,0,0,0,3.571428571428571,0,0,0,0,0,0,6.25,0,0,0,0,0,0,0,0,0,0,16.666666666666664,9.090909090909092,0,0]],[\"RRDP\",[0,0,0,0,0,0,0,0,0,0,0,0,0,0,0,0,0,0,0,0,0,0,0,0,0,0,7.142857142857142,0,0,0,0,0,0,0,0,0,0,0,0,0,0,0,0,0,0]]]}}},\"view\":{\"type\":\"object\",\"name\":\"CDSView\",\"id\":\"p1705\",\"attributes\":{\"filter\":{\"type\":\"object\",\"name\":\"AllIndices\",\"id\":\"p1706\"}}},\"glyph\":{\"type\":\"object\",\"name\":\"HBar\",\"id\":\"p1701\",\"attributes\":{\"y\":{\"type\":\"field\",\"field\":\"term\"},\"left\":{\"type\":\"expr\",\"expr\":{\"type\":\"object\",\"name\":\"Stack\",\"id\":\"p1575\",\"attributes\":{\"fields\":[\"GOV\",\"SER\",\"LFI\",\"GDR\",\"ECO\",\"NI\",\"UDI\",\"REN\",\"MODEM\"]}}},\"right\":{\"type\":\"expr\",\"expr\":{\"type\":\"object\",\"name\":\"Stack\",\"id\":\"p1576\",\"attributes\":{\"fields\":[\"GOV\",\"SER\",\"LFI\",\"GDR\",\"ECO\",\"NI\",\"UDI\",\"REN\",\"MODEM\",\"LIOT\"]}}},\"line_color\":{\"type\":\"value\",\"value\":\"#444\"},\"line_width\":{\"type\":\"value\",\"value\":0.9},\"fill_color\":{\"type\":\"value\",\"value\":\"#2ecc71\"},\"hatch_color\":{\"type\":\"value\",\"value\":\"#2ecc71\"}}},\"nonselection_glyph\":{\"type\":\"object\",\"name\":\"HBar\",\"id\":\"p1702\",\"attributes\":{\"y\":{\"type\":\"field\",\"field\":\"term\"},\"left\":{\"type\":\"expr\",\"expr\":{\"id\":\"p1575\"}},\"right\":{\"type\":\"expr\",\"expr\":{\"id\":\"p1576\"}},\"line_color\":{\"type\":\"value\",\"value\":\"#444\"},\"line_alpha\":{\"type\":\"value\",\"value\":0.1},\"line_width\":{\"type\":\"value\",\"value\":0.9},\"fill_color\":{\"type\":\"value\",\"value\":\"#2ecc71\"},\"fill_alpha\":{\"type\":\"value\",\"value\":0.1},\"hatch_color\":{\"type\":\"value\",\"value\":\"#2ecc71\"},\"hatch_alpha\":{\"type\":\"value\",\"value\":0.1}}},\"muted_glyph\":{\"type\":\"object\",\"name\":\"HBar\",\"id\":\"p1703\",\"attributes\":{\"y\":{\"type\":\"field\",\"field\":\"term\"},\"left\":{\"type\":\"expr\",\"expr\":{\"id\":\"p1575\"}},\"right\":{\"type\":\"expr\",\"expr\":{\"id\":\"p1576\"}},\"line_color\":{\"type\":\"value\",\"value\":\"#444\"},\"line_alpha\":{\"type\":\"value\",\"value\":0.2},\"line_width\":{\"type\":\"value\",\"value\":0.9},\"fill_color\":{\"type\":\"value\",\"value\":\"#2ecc71\"},\"fill_alpha\":{\"type\":\"value\",\"value\":0.2},\"hatch_color\":{\"type\":\"value\",\"value\":\"#2ecc71\"},\"hatch_alpha\":{\"type\":\"value\",\"value\":0.2}}}}},{\"type\":\"object\",\"name\":\"GlyphRenderer\",\"id\":\"p1716\",\"attributes\":{\"name\":\"RN\",\"data_source\":{\"type\":\"object\",\"name\":\"ColumnDataSource\",\"id\":\"p1707\",\"attributes\":{\"selected\":{\"type\":\"object\",\"name\":\"Selection\",\"id\":\"p1708\",\"attributes\":{\"indices\":[],\"line_indices\":[]}},\"selection_policy\":{\"type\":\"object\",\"name\":\"UnionRenderers\",\"id\":\"p1709\"},\"data\":{\"type\":\"map\",\"entries\":[[\"term\",[\"syst\\u00e8me de retraite\",\"loi de finance\",\"emploi de senior\",\"commission de affaire\",\"loi de financement\",\"probl\\u00e8me de financement\",\"\\u00e2ge de d\\u00e9part\",\"pension de retraite\",\"augmenter le imp\\u00f4t\",\"r\\u00e9forme de retraite\",\"taux de emploi\",\"clause de grand-p\\u00e8re\",\"syst\\u00e8me par r\\u00e9partition\",\"co\\u00fbt de travail\",\"\\u00e9tude de impact\",\"exon\\u00e9ration de cotisation\",\"r\\u00e9gime de retraite\",\"suppression de r\\u00e9gime\",\"1 200 euro\",\"pouvoir de achat\",\"taux de ch\\u00f4mage\",\"commission de finance\",\"march\\u00e9 de travail\",\"financer le retraite\",\"financement de syst\\u00e8me\",\"financement de retraite\",\"abaisser le seuil\",\"caisse de retraite\",\"condition de travail\",\"am\\u00e9liorer le taux\",\"augmenter le cotisation\",\"baisse de imp\\u00f4t\",\"loi de programmation\",\"m\\u00e8re de famille\",\"pension de r\\u00e9version\",\"d\\u00e9part en retraite\",\"esp\\u00e9rance de vie\",\"demandeur de emploi\",\"crit\\u00e8re de p\\u00e9nibilit\\u00e9\",\"faire un effort\",\"monde de travail\",\"strat\\u00e9gie de obstruction\",\"embauche de senior\",\"fonds de r\\u00e9serve\",\"variable de ajustement\"]],[\"GOV\",[9.70873786407767,23.52941176470588,8.465608465608465,35.8974358974359,24.528301886792452,45.83333333333333,8.256880733944955,19.51219512195122,53.84615384615385,4.093567251461988,9.210526315789473,26.08695652173913,12.244897959183673,31.57894736842105,21.428571428571427,11.627906976744185,6.578947368421052,10.416666666666668,3.787878787878788,11.11111111111111,21.73913043478261,25.0,17.391304347826086,14.285714285714285,28.57142857142857,9.090909090909092,21.428571428571427,6.0,6.976744186046512,10.526315789473683,12.5,10.526315789473683,10.526315789473683,6.666666666666667,14.285714285714285,4.0,0,0,0,0,0,0,0,0,0]],[\"SER\",[1.9417475728155338,1.4705882352941175,1.0582010582010581,0,1.8867924528301887,0,4.587155963302752,2.4390243902439024,0,1.1695906432748537,0,0,0,5.263157894736842,3.571428571428571,2.3255813953488373,1.3157894736842104,6.25,0.7575757575757576,2.2222222222222223,0,5.0,0,0,0,0,0,4.0,0,0,0,0,15.789473684210526,0,0,0,8.0,12.5,5.263157894736842,0,0,0,0,0,0]],[\"LFI\",[30.097087378640776,14.705882352941178,8.994708994708994,10.256410256410255,7.547169811320755,33.33333333333333,26.605504587155966,29.268292682926827,0,32.16374269005848,7.894736842105263,17.391304347826086,16.3265306122449,15.789473684210526,28.57142857142857,48.837209302325576,32.89473684210527,20.833333333333336,62.121212121212125,11.11111111111111,13.043478260869565,15.0,21.73913043478261,50.0,28.57142857142857,39.39393939393939,14.285714285714285,68.0,44.18604651162791,0,43.75,36.84210526315789,5.263157894736842,6.666666666666667,0,24.0,28.000000000000004,37.5,36.84210526315789,29.411764705882355,21.73913043478261,16.666666666666664,0,0,0]],[\"GDR\",[6.796116504854369,2.941176470588235,5.291005291005291,5.128205128205128,3.7735849056603774,0,5.5045871559633035,4.878048780487805,0,4.678362573099415,9.210526315789473,4.3478260869565215,2.0408163265306123,15.789473684210526,3.571428571428571,11.627906976744185,5.263157894736842,12.5,3.787878787878788,2.2222222222222223,4.3478260869565215,0,4.3478260869565215,0,7.142857142857142,3.0303030303030303,0,2.0,18.6046511627907,0,0,0,10.526315789473683,6.666666666666667,0,0,16.0,25.0,0,5.88235294117647,26.08695652173913,0,9.090909090909092,16.666666666666664,0]],[\"ECO\",[3.3980582524271843,5.88235294117647,5.291005291005291,7.6923076923076925,7.547169811320755,0,5.5045871559633035,7.317073170731707,0,4.678362573099415,1.3157894736842104,0,2.0408163265306123,0,3.571428571428571,6.976744186046512,1.3157894736842104,0,3.0303030303030303,0,0,0,8.695652173913043,3.571428571428571,0,3.0303030303030303,0,0,11.627906976744185,0,0,10.526315789473683,0,0,0,4.0,24.0,0,5.263157894736842,11.76470588235294,17.391304347826086,0,0,0,11.11111111111111]],[\"NI\",[3.8834951456310676,4.411764705882353,2.1164021164021163,0,3.7735849056603774,4.166666666666666,3.669724770642202,0,0,5.263157894736842,2.631578947368421,0,2.0408163265306123,0,0,0,3.9473684210526314,0,0.7575757575757576,2.2222222222222223,0,0,4.3478260869565215,3.571428571428571,0,12.121212121212121,0,0,0,0,0,15.789473684210526,10.526315789473683,6.666666666666667,14.285714285714285,12.0,4.0,0,0,11.76470588235294,4.3478260869565215,0,9.090909090909092,16.666666666666664,0]],[\"UDI\",[4.368932038834951,7.352941176470589,4.761904761904762,2.564102564102564,9.433962264150944,0,2.7522935779816518,2.4390243902439024,7.6923076923076925,4.093567251461988,7.894736842105263,13.043478260869565,2.0408163265306123,0,0,2.3255813953488373,6.578947368421052,0,0.7575757575757576,2.2222222222222223,4.3478260869565215,10.0,4.3478260869565215,0,0,0,14.285714285714285,0,0,5.263157894736842,0,0,10.526315789473683,0,42.857142857142854,4.0,0,0,0,11.76470588235294,0,0,0,0,0]],[\"REN\",[12.135922330097088,10.294117647058822,21.693121693121693,12.82051282051282,7.547169811320755,12.5,11.009174311926607,9.75609756097561,23.076923076923077,7.602339181286549,10.526315789473683,8.695652173913043,14.285714285714285,5.263157894736842,3.571428571428571,6.976744186046512,10.526315789473683,14.583333333333334,0,22.22222222222222,21.73913043478261,10.0,13.043478260869565,0,7.142857142857142,9.090909090909092,21.428571428571427,0,2.3255813953488373,15.789473684210526,18.75,21.052631578947366,10.526315789473683,6.666666666666667,28.57142857142857,20.0,8.0,0,10.526315789473683,0,4.3478260869565215,50.0,18.181818181818183,16.666666666666664,22.22222222222222]],[\"MODEM\",[9.70873786407767,4.411764705882353,4.761904761904762,2.564102564102564,5.660377358490567,0,3.669724770642202,2.4390243902439024,15.384615384615385,1.7543859649122806,7.894736842105263,8.695652173913043,18.367346938775512,5.263157894736842,3.571428571428571,0,10.526315789473683,2.083333333333333,3.787878787878788,2.2222222222222223,13.043478260869565,20.0,8.695652173913043,7.142857142857142,0,0,0,2.0,0,5.263157894736842,0,0,5.263157894736842,6.666666666666667,0,0,0,0,0,0,8.695652173913043,0,0,0,33.33333333333333]],[\"LIOT\",[2.912621359223301,1.4705882352941175,3.7037037037037033,0,1.8867924528301887,4.166666666666666,2.7522935779816518,2.4390243902439024,0,1.7543859649122806,1.3157894736842104,0,2.0408163265306123,10.526315789473683,0,0,0,0,0,2.2222222222222223,0,0,0,0,14.285714285714285,0,7.142857142857142,0,2.3255813953488373,0,6.25,5.263157894736842,0,0,0,4.0,4.0,0,5.263157894736842,5.88235294117647,0,0,0,0,11.11111111111111]],[\"RN\",[1.4563106796116505,2.941176470588235,3.7037037037037033,5.128205128205128,1.8867924528301887,0,11.926605504587156,7.317073170731707,0,11.695906432748536,1.3157894736842104,0,0,5.263157894736842,0,0,1.3157894736842104,10.416666666666668,8.333333333333332,8.88888888888889,8.695652173913043,5.0,13.043478260869565,0,0,3.0303030303030303,0,6.0,2.3255813953488373,0,0,0,5.263157894736842,0,0,4.0,0,0,5.263157894736842,17.647058823529413,4.3478260869565215,16.666666666666664,0,50.0,11.11111111111111]],[\"LR\",[7.766990291262135,14.705882352941178,19.047619047619047,10.256410256410255,16.9811320754717,0,7.339449541284404,9.75609756097561,0,9.941520467836257,27.631578947368425,13.043478260869565,22.448979591836736,0,10.714285714285714,2.3255813953488373,11.842105263157894,8.333333333333332,5.303030303030303,24.444444444444443,4.3478260869565215,5.0,0,10.714285714285714,7.142857142857142,12.121212121212121,7.142857142857142,8.0,9.30232558139535,63.1578947368421,6.25,0,10.526315789473683,60.0,0,20.0,8.0,25.0,0,5.88235294117647,8.695652173913043,0,54.54545454545454,0,11.11111111111111]],[\"SOC\",[5.825242718446602,5.88235294117647,11.11111111111111,5.128205128205128,7.547169811320755,0,6.422018348623854,2.4390243902439024,0,11.11111111111111,13.157894736842104,8.695652173913043,4.081632653061225,5.263157894736842,21.428571428571427,6.976744186046512,7.894736842105263,14.583333333333334,7.575757575757576,6.666666666666667,8.695652173913043,5.0,4.3478260869565215,7.142857142857142,7.142857142857142,9.090909090909092,7.142857142857142,4.0,2.3255813953488373,0,6.25,0,5.263157894736842,0,0,4.0,0,0,31.57894736842105,0,4.3478260869565215,0,0,0,0]],[\"HOR\",[0,0,0,2.564102564102564,0,0,0,0,0,0,0,0,2.0408163265306123,0,0,0,0,0,0,2.2222222222222223,0,0,0,3.571428571428571,0,0,0,0,0,0,6.25,0,0,0,0,0,0,0,0,0,0,16.666666666666664,9.090909090909092,0,0]],[\"RRDP\",[0,0,0,0,0,0,0,0,0,0,0,0,0,0,0,0,0,0,0,0,0,0,0,0,0,0,7.142857142857142,0,0,0,0,0,0,0,0,0,0,0,0,0,0,0,0,0,0]]]}}},\"view\":{\"type\":\"object\",\"name\":\"CDSView\",\"id\":\"p1717\",\"attributes\":{\"filter\":{\"type\":\"object\",\"name\":\"AllIndices\",\"id\":\"p1718\"}}},\"glyph\":{\"type\":\"object\",\"name\":\"HBar\",\"id\":\"p1713\",\"attributes\":{\"y\":{\"type\":\"field\",\"field\":\"term\"},\"left\":{\"type\":\"expr\",\"expr\":{\"type\":\"object\",\"name\":\"Stack\",\"id\":\"p1577\",\"attributes\":{\"fields\":[\"GOV\",\"SER\",\"LFI\",\"GDR\",\"ECO\",\"NI\",\"UDI\",\"REN\",\"MODEM\",\"LIOT\"]}}},\"right\":{\"type\":\"expr\",\"expr\":{\"type\":\"object\",\"name\":\"Stack\",\"id\":\"p1578\",\"attributes\":{\"fields\":[\"GOV\",\"SER\",\"LFI\",\"GDR\",\"ECO\",\"NI\",\"UDI\",\"REN\",\"MODEM\",\"LIOT\",\"RN\"]}}},\"line_color\":{\"type\":\"value\",\"value\":\"#444\"},\"line_width\":{\"type\":\"value\",\"value\":0.9},\"fill_color\":{\"type\":\"value\",\"value\":\"#2c3e50\"},\"hatch_color\":{\"type\":\"value\",\"value\":\"#2c3e50\"}}},\"nonselection_glyph\":{\"type\":\"object\",\"name\":\"HBar\",\"id\":\"p1714\",\"attributes\":{\"y\":{\"type\":\"field\",\"field\":\"term\"},\"left\":{\"type\":\"expr\",\"expr\":{\"id\":\"p1577\"}},\"right\":{\"type\":\"expr\",\"expr\":{\"id\":\"p1578\"}},\"line_color\":{\"type\":\"value\",\"value\":\"#444\"},\"line_alpha\":{\"type\":\"value\",\"value\":0.1},\"line_width\":{\"type\":\"value\",\"value\":0.9},\"fill_color\":{\"type\":\"value\",\"value\":\"#2c3e50\"},\"fill_alpha\":{\"type\":\"value\",\"value\":0.1},\"hatch_color\":{\"type\":\"value\",\"value\":\"#2c3e50\"},\"hatch_alpha\":{\"type\":\"value\",\"value\":0.1}}},\"muted_glyph\":{\"type\":\"object\",\"name\":\"HBar\",\"id\":\"p1715\",\"attributes\":{\"y\":{\"type\":\"field\",\"field\":\"term\"},\"left\":{\"type\":\"expr\",\"expr\":{\"id\":\"p1577\"}},\"right\":{\"type\":\"expr\",\"expr\":{\"id\":\"p1578\"}},\"line_color\":{\"type\":\"value\",\"value\":\"#444\"},\"line_alpha\":{\"type\":\"value\",\"value\":0.2},\"line_width\":{\"type\":\"value\",\"value\":0.9},\"fill_color\":{\"type\":\"value\",\"value\":\"#2c3e50\"},\"fill_alpha\":{\"type\":\"value\",\"value\":0.2},\"hatch_color\":{\"type\":\"value\",\"value\":\"#2c3e50\"},\"hatch_alpha\":{\"type\":\"value\",\"value\":0.2}}}}},{\"type\":\"object\",\"name\":\"GlyphRenderer\",\"id\":\"p1728\",\"attributes\":{\"name\":\"LR\",\"data_source\":{\"type\":\"object\",\"name\":\"ColumnDataSource\",\"id\":\"p1719\",\"attributes\":{\"selected\":{\"type\":\"object\",\"name\":\"Selection\",\"id\":\"p1720\",\"attributes\":{\"indices\":[],\"line_indices\":[]}},\"selection_policy\":{\"type\":\"object\",\"name\":\"UnionRenderers\",\"id\":\"p1721\"},\"data\":{\"type\":\"map\",\"entries\":[[\"term\",[\"syst\\u00e8me de retraite\",\"loi de finance\",\"emploi de senior\",\"commission de affaire\",\"loi de financement\",\"probl\\u00e8me de financement\",\"\\u00e2ge de d\\u00e9part\",\"pension de retraite\",\"augmenter le imp\\u00f4t\",\"r\\u00e9forme de retraite\",\"taux de emploi\",\"clause de grand-p\\u00e8re\",\"syst\\u00e8me par r\\u00e9partition\",\"co\\u00fbt de travail\",\"\\u00e9tude de impact\",\"exon\\u00e9ration de cotisation\",\"r\\u00e9gime de retraite\",\"suppression de r\\u00e9gime\",\"1 200 euro\",\"pouvoir de achat\",\"taux de ch\\u00f4mage\",\"commission de finance\",\"march\\u00e9 de travail\",\"financer le retraite\",\"financement de syst\\u00e8me\",\"financement de retraite\",\"abaisser le seuil\",\"caisse de retraite\",\"condition de travail\",\"am\\u00e9liorer le taux\",\"augmenter le cotisation\",\"baisse de imp\\u00f4t\",\"loi de programmation\",\"m\\u00e8re de famille\",\"pension de r\\u00e9version\",\"d\\u00e9part en retraite\",\"esp\\u00e9rance de vie\",\"demandeur de emploi\",\"crit\\u00e8re de p\\u00e9nibilit\\u00e9\",\"faire un effort\",\"monde de travail\",\"strat\\u00e9gie de obstruction\",\"embauche de senior\",\"fonds de r\\u00e9serve\",\"variable de ajustement\"]],[\"GOV\",[9.70873786407767,23.52941176470588,8.465608465608465,35.8974358974359,24.528301886792452,45.83333333333333,8.256880733944955,19.51219512195122,53.84615384615385,4.093567251461988,9.210526315789473,26.08695652173913,12.244897959183673,31.57894736842105,21.428571428571427,11.627906976744185,6.578947368421052,10.416666666666668,3.787878787878788,11.11111111111111,21.73913043478261,25.0,17.391304347826086,14.285714285714285,28.57142857142857,9.090909090909092,21.428571428571427,6.0,6.976744186046512,10.526315789473683,12.5,10.526315789473683,10.526315789473683,6.666666666666667,14.285714285714285,4.0,0,0,0,0,0,0,0,0,0]],[\"SER\",[1.9417475728155338,1.4705882352941175,1.0582010582010581,0,1.8867924528301887,0,4.587155963302752,2.4390243902439024,0,1.1695906432748537,0,0,0,5.263157894736842,3.571428571428571,2.3255813953488373,1.3157894736842104,6.25,0.7575757575757576,2.2222222222222223,0,5.0,0,0,0,0,0,4.0,0,0,0,0,15.789473684210526,0,0,0,8.0,12.5,5.263157894736842,0,0,0,0,0,0]],[\"LFI\",[30.097087378640776,14.705882352941178,8.994708994708994,10.256410256410255,7.547169811320755,33.33333333333333,26.605504587155966,29.268292682926827,0,32.16374269005848,7.894736842105263,17.391304347826086,16.3265306122449,15.789473684210526,28.57142857142857,48.837209302325576,32.89473684210527,20.833333333333336,62.121212121212125,11.11111111111111,13.043478260869565,15.0,21.73913043478261,50.0,28.57142857142857,39.39393939393939,14.285714285714285,68.0,44.18604651162791,0,43.75,36.84210526315789,5.263157894736842,6.666666666666667,0,24.0,28.000000000000004,37.5,36.84210526315789,29.411764705882355,21.73913043478261,16.666666666666664,0,0,0]],[\"GDR\",[6.796116504854369,2.941176470588235,5.291005291005291,5.128205128205128,3.7735849056603774,0,5.5045871559633035,4.878048780487805,0,4.678362573099415,9.210526315789473,4.3478260869565215,2.0408163265306123,15.789473684210526,3.571428571428571,11.627906976744185,5.263157894736842,12.5,3.787878787878788,2.2222222222222223,4.3478260869565215,0,4.3478260869565215,0,7.142857142857142,3.0303030303030303,0,2.0,18.6046511627907,0,0,0,10.526315789473683,6.666666666666667,0,0,16.0,25.0,0,5.88235294117647,26.08695652173913,0,9.090909090909092,16.666666666666664,0]],[\"ECO\",[3.3980582524271843,5.88235294117647,5.291005291005291,7.6923076923076925,7.547169811320755,0,5.5045871559633035,7.317073170731707,0,4.678362573099415,1.3157894736842104,0,2.0408163265306123,0,3.571428571428571,6.976744186046512,1.3157894736842104,0,3.0303030303030303,0,0,0,8.695652173913043,3.571428571428571,0,3.0303030303030303,0,0,11.627906976744185,0,0,10.526315789473683,0,0,0,4.0,24.0,0,5.263157894736842,11.76470588235294,17.391304347826086,0,0,0,11.11111111111111]],[\"NI\",[3.8834951456310676,4.411764705882353,2.1164021164021163,0,3.7735849056603774,4.166666666666666,3.669724770642202,0,0,5.263157894736842,2.631578947368421,0,2.0408163265306123,0,0,0,3.9473684210526314,0,0.7575757575757576,2.2222222222222223,0,0,4.3478260869565215,3.571428571428571,0,12.121212121212121,0,0,0,0,0,15.789473684210526,10.526315789473683,6.666666666666667,14.285714285714285,12.0,4.0,0,0,11.76470588235294,4.3478260869565215,0,9.090909090909092,16.666666666666664,0]],[\"UDI\",[4.368932038834951,7.352941176470589,4.761904761904762,2.564102564102564,9.433962264150944,0,2.7522935779816518,2.4390243902439024,7.6923076923076925,4.093567251461988,7.894736842105263,13.043478260869565,2.0408163265306123,0,0,2.3255813953488373,6.578947368421052,0,0.7575757575757576,2.2222222222222223,4.3478260869565215,10.0,4.3478260869565215,0,0,0,14.285714285714285,0,0,5.263157894736842,0,0,10.526315789473683,0,42.857142857142854,4.0,0,0,0,11.76470588235294,0,0,0,0,0]],[\"REN\",[12.135922330097088,10.294117647058822,21.693121693121693,12.82051282051282,7.547169811320755,12.5,11.009174311926607,9.75609756097561,23.076923076923077,7.602339181286549,10.526315789473683,8.695652173913043,14.285714285714285,5.263157894736842,3.571428571428571,6.976744186046512,10.526315789473683,14.583333333333334,0,22.22222222222222,21.73913043478261,10.0,13.043478260869565,0,7.142857142857142,9.090909090909092,21.428571428571427,0,2.3255813953488373,15.789473684210526,18.75,21.052631578947366,10.526315789473683,6.666666666666667,28.57142857142857,20.0,8.0,0,10.526315789473683,0,4.3478260869565215,50.0,18.181818181818183,16.666666666666664,22.22222222222222]],[\"MODEM\",[9.70873786407767,4.411764705882353,4.761904761904762,2.564102564102564,5.660377358490567,0,3.669724770642202,2.4390243902439024,15.384615384615385,1.7543859649122806,7.894736842105263,8.695652173913043,18.367346938775512,5.263157894736842,3.571428571428571,0,10.526315789473683,2.083333333333333,3.787878787878788,2.2222222222222223,13.043478260869565,20.0,8.695652173913043,7.142857142857142,0,0,0,2.0,0,5.263157894736842,0,0,5.263157894736842,6.666666666666667,0,0,0,0,0,0,8.695652173913043,0,0,0,33.33333333333333]],[\"LIOT\",[2.912621359223301,1.4705882352941175,3.7037037037037033,0,1.8867924528301887,4.166666666666666,2.7522935779816518,2.4390243902439024,0,1.7543859649122806,1.3157894736842104,0,2.0408163265306123,10.526315789473683,0,0,0,0,0,2.2222222222222223,0,0,0,0,14.285714285714285,0,7.142857142857142,0,2.3255813953488373,0,6.25,5.263157894736842,0,0,0,4.0,4.0,0,5.263157894736842,5.88235294117647,0,0,0,0,11.11111111111111]],[\"RN\",[1.4563106796116505,2.941176470588235,3.7037037037037033,5.128205128205128,1.8867924528301887,0,11.926605504587156,7.317073170731707,0,11.695906432748536,1.3157894736842104,0,0,5.263157894736842,0,0,1.3157894736842104,10.416666666666668,8.333333333333332,8.88888888888889,8.695652173913043,5.0,13.043478260869565,0,0,3.0303030303030303,0,6.0,2.3255813953488373,0,0,0,5.263157894736842,0,0,4.0,0,0,5.263157894736842,17.647058823529413,4.3478260869565215,16.666666666666664,0,50.0,11.11111111111111]],[\"LR\",[7.766990291262135,14.705882352941178,19.047619047619047,10.256410256410255,16.9811320754717,0,7.339449541284404,9.75609756097561,0,9.941520467836257,27.631578947368425,13.043478260869565,22.448979591836736,0,10.714285714285714,2.3255813953488373,11.842105263157894,8.333333333333332,5.303030303030303,24.444444444444443,4.3478260869565215,5.0,0,10.714285714285714,7.142857142857142,12.121212121212121,7.142857142857142,8.0,9.30232558139535,63.1578947368421,6.25,0,10.526315789473683,60.0,0,20.0,8.0,25.0,0,5.88235294117647,8.695652173913043,0,54.54545454545454,0,11.11111111111111]],[\"SOC\",[5.825242718446602,5.88235294117647,11.11111111111111,5.128205128205128,7.547169811320755,0,6.422018348623854,2.4390243902439024,0,11.11111111111111,13.157894736842104,8.695652173913043,4.081632653061225,5.263157894736842,21.428571428571427,6.976744186046512,7.894736842105263,14.583333333333334,7.575757575757576,6.666666666666667,8.695652173913043,5.0,4.3478260869565215,7.142857142857142,7.142857142857142,9.090909090909092,7.142857142857142,4.0,2.3255813953488373,0,6.25,0,5.263157894736842,0,0,4.0,0,0,31.57894736842105,0,4.3478260869565215,0,0,0,0]],[\"HOR\",[0,0,0,2.564102564102564,0,0,0,0,0,0,0,0,2.0408163265306123,0,0,0,0,0,0,2.2222222222222223,0,0,0,3.571428571428571,0,0,0,0,0,0,6.25,0,0,0,0,0,0,0,0,0,0,16.666666666666664,9.090909090909092,0,0]],[\"RRDP\",[0,0,0,0,0,0,0,0,0,0,0,0,0,0,0,0,0,0,0,0,0,0,0,0,0,0,7.142857142857142,0,0,0,0,0,0,0,0,0,0,0,0,0,0,0,0,0,0]]]}}},\"view\":{\"type\":\"object\",\"name\":\"CDSView\",\"id\":\"p1729\",\"attributes\":{\"filter\":{\"type\":\"object\",\"name\":\"AllIndices\",\"id\":\"p1730\"}}},\"glyph\":{\"type\":\"object\",\"name\":\"HBar\",\"id\":\"p1725\",\"attributes\":{\"y\":{\"type\":\"field\",\"field\":\"term\"},\"left\":{\"type\":\"expr\",\"expr\":{\"type\":\"object\",\"name\":\"Stack\",\"id\":\"p1579\",\"attributes\":{\"fields\":[\"GOV\",\"SER\",\"LFI\",\"GDR\",\"ECO\",\"NI\",\"UDI\",\"REN\",\"MODEM\",\"LIOT\",\"RN\"]}}},\"right\":{\"type\":\"expr\",\"expr\":{\"type\":\"object\",\"name\":\"Stack\",\"id\":\"p1580\",\"attributes\":{\"fields\":[\"GOV\",\"SER\",\"LFI\",\"GDR\",\"ECO\",\"NI\",\"UDI\",\"REN\",\"MODEM\",\"LIOT\",\"RN\",\"LR\"]}}},\"line_color\":{\"type\":\"value\",\"value\":\"#444\"},\"line_width\":{\"type\":\"value\",\"value\":0.9},\"fill_color\":{\"type\":\"value\",\"value\":\"#2980b9\"},\"hatch_color\":{\"type\":\"value\",\"value\":\"#2980b9\"}}},\"nonselection_glyph\":{\"type\":\"object\",\"name\":\"HBar\",\"id\":\"p1726\",\"attributes\":{\"y\":{\"type\":\"field\",\"field\":\"term\"},\"left\":{\"type\":\"expr\",\"expr\":{\"id\":\"p1579\"}},\"right\":{\"type\":\"expr\",\"expr\":{\"id\":\"p1580\"}},\"line_color\":{\"type\":\"value\",\"value\":\"#444\"},\"line_alpha\":{\"type\":\"value\",\"value\":0.1},\"line_width\":{\"type\":\"value\",\"value\":0.9},\"fill_color\":{\"type\":\"value\",\"value\":\"#2980b9\"},\"fill_alpha\":{\"type\":\"value\",\"value\":0.1},\"hatch_color\":{\"type\":\"value\",\"value\":\"#2980b9\"},\"hatch_alpha\":{\"type\":\"value\",\"value\":0.1}}},\"muted_glyph\":{\"type\":\"object\",\"name\":\"HBar\",\"id\":\"p1727\",\"attributes\":{\"y\":{\"type\":\"field\",\"field\":\"term\"},\"left\":{\"type\":\"expr\",\"expr\":{\"id\":\"p1579\"}},\"right\":{\"type\":\"expr\",\"expr\":{\"id\":\"p1580\"}},\"line_color\":{\"type\":\"value\",\"value\":\"#444\"},\"line_alpha\":{\"type\":\"value\",\"value\":0.2},\"line_width\":{\"type\":\"value\",\"value\":0.9},\"fill_color\":{\"type\":\"value\",\"value\":\"#2980b9\"},\"fill_alpha\":{\"type\":\"value\",\"value\":0.2},\"hatch_color\":{\"type\":\"value\",\"value\":\"#2980b9\"},\"hatch_alpha\":{\"type\":\"value\",\"value\":0.2}}}}},{\"type\":\"object\",\"name\":\"GlyphRenderer\",\"id\":\"p1740\",\"attributes\":{\"name\":\"SOC\",\"data_source\":{\"type\":\"object\",\"name\":\"ColumnDataSource\",\"id\":\"p1731\",\"attributes\":{\"selected\":{\"type\":\"object\",\"name\":\"Selection\",\"id\":\"p1732\",\"attributes\":{\"indices\":[],\"line_indices\":[]}},\"selection_policy\":{\"type\":\"object\",\"name\":\"UnionRenderers\",\"id\":\"p1733\"},\"data\":{\"type\":\"map\",\"entries\":[[\"term\",[\"syst\\u00e8me de retraite\",\"loi de finance\",\"emploi de senior\",\"commission de affaire\",\"loi de financement\",\"probl\\u00e8me de financement\",\"\\u00e2ge de d\\u00e9part\",\"pension de retraite\",\"augmenter le imp\\u00f4t\",\"r\\u00e9forme de retraite\",\"taux de emploi\",\"clause de grand-p\\u00e8re\",\"syst\\u00e8me par r\\u00e9partition\",\"co\\u00fbt de travail\",\"\\u00e9tude de impact\",\"exon\\u00e9ration de cotisation\",\"r\\u00e9gime de retraite\",\"suppression de r\\u00e9gime\",\"1 200 euro\",\"pouvoir de achat\",\"taux de ch\\u00f4mage\",\"commission de finance\",\"march\\u00e9 de travail\",\"financer le retraite\",\"financement de syst\\u00e8me\",\"financement de retraite\",\"abaisser le seuil\",\"caisse de retraite\",\"condition de travail\",\"am\\u00e9liorer le taux\",\"augmenter le cotisation\",\"baisse de imp\\u00f4t\",\"loi de programmation\",\"m\\u00e8re de famille\",\"pension de r\\u00e9version\",\"d\\u00e9part en retraite\",\"esp\\u00e9rance de vie\",\"demandeur de emploi\",\"crit\\u00e8re de p\\u00e9nibilit\\u00e9\",\"faire un effort\",\"monde de travail\",\"strat\\u00e9gie de obstruction\",\"embauche de senior\",\"fonds de r\\u00e9serve\",\"variable de ajustement\"]],[\"GOV\",[9.70873786407767,23.52941176470588,8.465608465608465,35.8974358974359,24.528301886792452,45.83333333333333,8.256880733944955,19.51219512195122,53.84615384615385,4.093567251461988,9.210526315789473,26.08695652173913,12.244897959183673,31.57894736842105,21.428571428571427,11.627906976744185,6.578947368421052,10.416666666666668,3.787878787878788,11.11111111111111,21.73913043478261,25.0,17.391304347826086,14.285714285714285,28.57142857142857,9.090909090909092,21.428571428571427,6.0,6.976744186046512,10.526315789473683,12.5,10.526315789473683,10.526315789473683,6.666666666666667,14.285714285714285,4.0,0,0,0,0,0,0,0,0,0]],[\"SER\",[1.9417475728155338,1.4705882352941175,1.0582010582010581,0,1.8867924528301887,0,4.587155963302752,2.4390243902439024,0,1.1695906432748537,0,0,0,5.263157894736842,3.571428571428571,2.3255813953488373,1.3157894736842104,6.25,0.7575757575757576,2.2222222222222223,0,5.0,0,0,0,0,0,4.0,0,0,0,0,15.789473684210526,0,0,0,8.0,12.5,5.263157894736842,0,0,0,0,0,0]],[\"LFI\",[30.097087378640776,14.705882352941178,8.994708994708994,10.256410256410255,7.547169811320755,33.33333333333333,26.605504587155966,29.268292682926827,0,32.16374269005848,7.894736842105263,17.391304347826086,16.3265306122449,15.789473684210526,28.57142857142857,48.837209302325576,32.89473684210527,20.833333333333336,62.121212121212125,11.11111111111111,13.043478260869565,15.0,21.73913043478261,50.0,28.57142857142857,39.39393939393939,14.285714285714285,68.0,44.18604651162791,0,43.75,36.84210526315789,5.263157894736842,6.666666666666667,0,24.0,28.000000000000004,37.5,36.84210526315789,29.411764705882355,21.73913043478261,16.666666666666664,0,0,0]],[\"GDR\",[6.796116504854369,2.941176470588235,5.291005291005291,5.128205128205128,3.7735849056603774,0,5.5045871559633035,4.878048780487805,0,4.678362573099415,9.210526315789473,4.3478260869565215,2.0408163265306123,15.789473684210526,3.571428571428571,11.627906976744185,5.263157894736842,12.5,3.787878787878788,2.2222222222222223,4.3478260869565215,0,4.3478260869565215,0,7.142857142857142,3.0303030303030303,0,2.0,18.6046511627907,0,0,0,10.526315789473683,6.666666666666667,0,0,16.0,25.0,0,5.88235294117647,26.08695652173913,0,9.090909090909092,16.666666666666664,0]],[\"ECO\",[3.3980582524271843,5.88235294117647,5.291005291005291,7.6923076923076925,7.547169811320755,0,5.5045871559633035,7.317073170731707,0,4.678362573099415,1.3157894736842104,0,2.0408163265306123,0,3.571428571428571,6.976744186046512,1.3157894736842104,0,3.0303030303030303,0,0,0,8.695652173913043,3.571428571428571,0,3.0303030303030303,0,0,11.627906976744185,0,0,10.526315789473683,0,0,0,4.0,24.0,0,5.263157894736842,11.76470588235294,17.391304347826086,0,0,0,11.11111111111111]],[\"NI\",[3.8834951456310676,4.411764705882353,2.1164021164021163,0,3.7735849056603774,4.166666666666666,3.669724770642202,0,0,5.263157894736842,2.631578947368421,0,2.0408163265306123,0,0,0,3.9473684210526314,0,0.7575757575757576,2.2222222222222223,0,0,4.3478260869565215,3.571428571428571,0,12.121212121212121,0,0,0,0,0,15.789473684210526,10.526315789473683,6.666666666666667,14.285714285714285,12.0,4.0,0,0,11.76470588235294,4.3478260869565215,0,9.090909090909092,16.666666666666664,0]],[\"UDI\",[4.368932038834951,7.352941176470589,4.761904761904762,2.564102564102564,9.433962264150944,0,2.7522935779816518,2.4390243902439024,7.6923076923076925,4.093567251461988,7.894736842105263,13.043478260869565,2.0408163265306123,0,0,2.3255813953488373,6.578947368421052,0,0.7575757575757576,2.2222222222222223,4.3478260869565215,10.0,4.3478260869565215,0,0,0,14.285714285714285,0,0,5.263157894736842,0,0,10.526315789473683,0,42.857142857142854,4.0,0,0,0,11.76470588235294,0,0,0,0,0]],[\"REN\",[12.135922330097088,10.294117647058822,21.693121693121693,12.82051282051282,7.547169811320755,12.5,11.009174311926607,9.75609756097561,23.076923076923077,7.602339181286549,10.526315789473683,8.695652173913043,14.285714285714285,5.263157894736842,3.571428571428571,6.976744186046512,10.526315789473683,14.583333333333334,0,22.22222222222222,21.73913043478261,10.0,13.043478260869565,0,7.142857142857142,9.090909090909092,21.428571428571427,0,2.3255813953488373,15.789473684210526,18.75,21.052631578947366,10.526315789473683,6.666666666666667,28.57142857142857,20.0,8.0,0,10.526315789473683,0,4.3478260869565215,50.0,18.181818181818183,16.666666666666664,22.22222222222222]],[\"MODEM\",[9.70873786407767,4.411764705882353,4.761904761904762,2.564102564102564,5.660377358490567,0,3.669724770642202,2.4390243902439024,15.384615384615385,1.7543859649122806,7.894736842105263,8.695652173913043,18.367346938775512,5.263157894736842,3.571428571428571,0,10.526315789473683,2.083333333333333,3.787878787878788,2.2222222222222223,13.043478260869565,20.0,8.695652173913043,7.142857142857142,0,0,0,2.0,0,5.263157894736842,0,0,5.263157894736842,6.666666666666667,0,0,0,0,0,0,8.695652173913043,0,0,0,33.33333333333333]],[\"LIOT\",[2.912621359223301,1.4705882352941175,3.7037037037037033,0,1.8867924528301887,4.166666666666666,2.7522935779816518,2.4390243902439024,0,1.7543859649122806,1.3157894736842104,0,2.0408163265306123,10.526315789473683,0,0,0,0,0,2.2222222222222223,0,0,0,0,14.285714285714285,0,7.142857142857142,0,2.3255813953488373,0,6.25,5.263157894736842,0,0,0,4.0,4.0,0,5.263157894736842,5.88235294117647,0,0,0,0,11.11111111111111]],[\"RN\",[1.4563106796116505,2.941176470588235,3.7037037037037033,5.128205128205128,1.8867924528301887,0,11.926605504587156,7.317073170731707,0,11.695906432748536,1.3157894736842104,0,0,5.263157894736842,0,0,1.3157894736842104,10.416666666666668,8.333333333333332,8.88888888888889,8.695652173913043,5.0,13.043478260869565,0,0,3.0303030303030303,0,6.0,2.3255813953488373,0,0,0,5.263157894736842,0,0,4.0,0,0,5.263157894736842,17.647058823529413,4.3478260869565215,16.666666666666664,0,50.0,11.11111111111111]],[\"LR\",[7.766990291262135,14.705882352941178,19.047619047619047,10.256410256410255,16.9811320754717,0,7.339449541284404,9.75609756097561,0,9.941520467836257,27.631578947368425,13.043478260869565,22.448979591836736,0,10.714285714285714,2.3255813953488373,11.842105263157894,8.333333333333332,5.303030303030303,24.444444444444443,4.3478260869565215,5.0,0,10.714285714285714,7.142857142857142,12.121212121212121,7.142857142857142,8.0,9.30232558139535,63.1578947368421,6.25,0,10.526315789473683,60.0,0,20.0,8.0,25.0,0,5.88235294117647,8.695652173913043,0,54.54545454545454,0,11.11111111111111]],[\"SOC\",[5.825242718446602,5.88235294117647,11.11111111111111,5.128205128205128,7.547169811320755,0,6.422018348623854,2.4390243902439024,0,11.11111111111111,13.157894736842104,8.695652173913043,4.081632653061225,5.263157894736842,21.428571428571427,6.976744186046512,7.894736842105263,14.583333333333334,7.575757575757576,6.666666666666667,8.695652173913043,5.0,4.3478260869565215,7.142857142857142,7.142857142857142,9.090909090909092,7.142857142857142,4.0,2.3255813953488373,0,6.25,0,5.263157894736842,0,0,4.0,0,0,31.57894736842105,0,4.3478260869565215,0,0,0,0]],[\"HOR\",[0,0,0,2.564102564102564,0,0,0,0,0,0,0,0,2.0408163265306123,0,0,0,0,0,0,2.2222222222222223,0,0,0,3.571428571428571,0,0,0,0,0,0,6.25,0,0,0,0,0,0,0,0,0,0,16.666666666666664,9.090909090909092,0,0]],[\"RRDP\",[0,0,0,0,0,0,0,0,0,0,0,0,0,0,0,0,0,0,0,0,0,0,0,0,0,0,7.142857142857142,0,0,0,0,0,0,0,0,0,0,0,0,0,0,0,0,0,0]]]}}},\"view\":{\"type\":\"object\",\"name\":\"CDSView\",\"id\":\"p1741\",\"attributes\":{\"filter\":{\"type\":\"object\",\"name\":\"AllIndices\",\"id\":\"p1742\"}}},\"glyph\":{\"type\":\"object\",\"name\":\"HBar\",\"id\":\"p1737\",\"attributes\":{\"y\":{\"type\":\"field\",\"field\":\"term\"},\"left\":{\"type\":\"expr\",\"expr\":{\"type\":\"object\",\"name\":\"Stack\",\"id\":\"p1581\",\"attributes\":{\"fields\":[\"GOV\",\"SER\",\"LFI\",\"GDR\",\"ECO\",\"NI\",\"UDI\",\"REN\",\"MODEM\",\"LIOT\",\"RN\",\"LR\"]}}},\"right\":{\"type\":\"expr\",\"expr\":{\"type\":\"object\",\"name\":\"Stack\",\"id\":\"p1582\",\"attributes\":{\"fields\":[\"GOV\",\"SER\",\"LFI\",\"GDR\",\"ECO\",\"NI\",\"UDI\",\"REN\",\"MODEM\",\"LIOT\",\"RN\",\"LR\",\"SOC\"]}}},\"line_color\":{\"type\":\"value\",\"value\":\"#444\"},\"line_width\":{\"type\":\"value\",\"value\":0.9},\"fill_color\":{\"type\":\"value\",\"value\":\"#ED4C67\"},\"hatch_color\":{\"type\":\"value\",\"value\":\"#ED4C67\"}}},\"nonselection_glyph\":{\"type\":\"object\",\"name\":\"HBar\",\"id\":\"p1738\",\"attributes\":{\"y\":{\"type\":\"field\",\"field\":\"term\"},\"left\":{\"type\":\"expr\",\"expr\":{\"id\":\"p1581\"}},\"right\":{\"type\":\"expr\",\"expr\":{\"id\":\"p1582\"}},\"line_color\":{\"type\":\"value\",\"value\":\"#444\"},\"line_alpha\":{\"type\":\"value\",\"value\":0.1},\"line_width\":{\"type\":\"value\",\"value\":0.9},\"fill_color\":{\"type\":\"value\",\"value\":\"#ED4C67\"},\"fill_alpha\":{\"type\":\"value\",\"value\":0.1},\"hatch_color\":{\"type\":\"value\",\"value\":\"#ED4C67\"},\"hatch_alpha\":{\"type\":\"value\",\"value\":0.1}}},\"muted_glyph\":{\"type\":\"object\",\"name\":\"HBar\",\"id\":\"p1739\",\"attributes\":{\"y\":{\"type\":\"field\",\"field\":\"term\"},\"left\":{\"type\":\"expr\",\"expr\":{\"id\":\"p1581\"}},\"right\":{\"type\":\"expr\",\"expr\":{\"id\":\"p1582\"}},\"line_color\":{\"type\":\"value\",\"value\":\"#444\"},\"line_alpha\":{\"type\":\"value\",\"value\":0.2},\"line_width\":{\"type\":\"value\",\"value\":0.9},\"fill_color\":{\"type\":\"value\",\"value\":\"#ED4C67\"},\"fill_alpha\":{\"type\":\"value\",\"value\":0.2},\"hatch_color\":{\"type\":\"value\",\"value\":\"#ED4C67\"},\"hatch_alpha\":{\"type\":\"value\",\"value\":0.2}}}}},{\"type\":\"object\",\"name\":\"GlyphRenderer\",\"id\":\"p1752\",\"attributes\":{\"name\":\"HOR\",\"data_source\":{\"type\":\"object\",\"name\":\"ColumnDataSource\",\"id\":\"p1743\",\"attributes\":{\"selected\":{\"type\":\"object\",\"name\":\"Selection\",\"id\":\"p1744\",\"attributes\":{\"indices\":[],\"line_indices\":[]}},\"selection_policy\":{\"type\":\"object\",\"name\":\"UnionRenderers\",\"id\":\"p1745\"},\"data\":{\"type\":\"map\",\"entries\":[[\"term\",[\"syst\\u00e8me de retraite\",\"loi de finance\",\"emploi de senior\",\"commission de affaire\",\"loi de financement\",\"probl\\u00e8me de financement\",\"\\u00e2ge de d\\u00e9part\",\"pension de retraite\",\"augmenter le imp\\u00f4t\",\"r\\u00e9forme de retraite\",\"taux de emploi\",\"clause de grand-p\\u00e8re\",\"syst\\u00e8me par r\\u00e9partition\",\"co\\u00fbt de travail\",\"\\u00e9tude de impact\",\"exon\\u00e9ration de cotisation\",\"r\\u00e9gime de retraite\",\"suppression de r\\u00e9gime\",\"1 200 euro\",\"pouvoir de achat\",\"taux de ch\\u00f4mage\",\"commission de finance\",\"march\\u00e9 de travail\",\"financer le retraite\",\"financement de syst\\u00e8me\",\"financement de retraite\",\"abaisser le seuil\",\"caisse de retraite\",\"condition de travail\",\"am\\u00e9liorer le taux\",\"augmenter le cotisation\",\"baisse de imp\\u00f4t\",\"loi de programmation\",\"m\\u00e8re de famille\",\"pension de r\\u00e9version\",\"d\\u00e9part en retraite\",\"esp\\u00e9rance de vie\",\"demandeur de emploi\",\"crit\\u00e8re de p\\u00e9nibilit\\u00e9\",\"faire un effort\",\"monde de travail\",\"strat\\u00e9gie de obstruction\",\"embauche de senior\",\"fonds de r\\u00e9serve\",\"variable de ajustement\"]],[\"GOV\",[9.70873786407767,23.52941176470588,8.465608465608465,35.8974358974359,24.528301886792452,45.83333333333333,8.256880733944955,19.51219512195122,53.84615384615385,4.093567251461988,9.210526315789473,26.08695652173913,12.244897959183673,31.57894736842105,21.428571428571427,11.627906976744185,6.578947368421052,10.416666666666668,3.787878787878788,11.11111111111111,21.73913043478261,25.0,17.391304347826086,14.285714285714285,28.57142857142857,9.090909090909092,21.428571428571427,6.0,6.976744186046512,10.526315789473683,12.5,10.526315789473683,10.526315789473683,6.666666666666667,14.285714285714285,4.0,0,0,0,0,0,0,0,0,0]],[\"SER\",[1.9417475728155338,1.4705882352941175,1.0582010582010581,0,1.8867924528301887,0,4.587155963302752,2.4390243902439024,0,1.1695906432748537,0,0,0,5.263157894736842,3.571428571428571,2.3255813953488373,1.3157894736842104,6.25,0.7575757575757576,2.2222222222222223,0,5.0,0,0,0,0,0,4.0,0,0,0,0,15.789473684210526,0,0,0,8.0,12.5,5.263157894736842,0,0,0,0,0,0]],[\"LFI\",[30.097087378640776,14.705882352941178,8.994708994708994,10.256410256410255,7.547169811320755,33.33333333333333,26.605504587155966,29.268292682926827,0,32.16374269005848,7.894736842105263,17.391304347826086,16.3265306122449,15.789473684210526,28.57142857142857,48.837209302325576,32.89473684210527,20.833333333333336,62.121212121212125,11.11111111111111,13.043478260869565,15.0,21.73913043478261,50.0,28.57142857142857,39.39393939393939,14.285714285714285,68.0,44.18604651162791,0,43.75,36.84210526315789,5.263157894736842,6.666666666666667,0,24.0,28.000000000000004,37.5,36.84210526315789,29.411764705882355,21.73913043478261,16.666666666666664,0,0,0]],[\"GDR\",[6.796116504854369,2.941176470588235,5.291005291005291,5.128205128205128,3.7735849056603774,0,5.5045871559633035,4.878048780487805,0,4.678362573099415,9.210526315789473,4.3478260869565215,2.0408163265306123,15.789473684210526,3.571428571428571,11.627906976744185,5.263157894736842,12.5,3.787878787878788,2.2222222222222223,4.3478260869565215,0,4.3478260869565215,0,7.142857142857142,3.0303030303030303,0,2.0,18.6046511627907,0,0,0,10.526315789473683,6.666666666666667,0,0,16.0,25.0,0,5.88235294117647,26.08695652173913,0,9.090909090909092,16.666666666666664,0]],[\"ECO\",[3.3980582524271843,5.88235294117647,5.291005291005291,7.6923076923076925,7.547169811320755,0,5.5045871559633035,7.317073170731707,0,4.678362573099415,1.3157894736842104,0,2.0408163265306123,0,3.571428571428571,6.976744186046512,1.3157894736842104,0,3.0303030303030303,0,0,0,8.695652173913043,3.571428571428571,0,3.0303030303030303,0,0,11.627906976744185,0,0,10.526315789473683,0,0,0,4.0,24.0,0,5.263157894736842,11.76470588235294,17.391304347826086,0,0,0,11.11111111111111]],[\"NI\",[3.8834951456310676,4.411764705882353,2.1164021164021163,0,3.7735849056603774,4.166666666666666,3.669724770642202,0,0,5.263157894736842,2.631578947368421,0,2.0408163265306123,0,0,0,3.9473684210526314,0,0.7575757575757576,2.2222222222222223,0,0,4.3478260869565215,3.571428571428571,0,12.121212121212121,0,0,0,0,0,15.789473684210526,10.526315789473683,6.666666666666667,14.285714285714285,12.0,4.0,0,0,11.76470588235294,4.3478260869565215,0,9.090909090909092,16.666666666666664,0]],[\"UDI\",[4.368932038834951,7.352941176470589,4.761904761904762,2.564102564102564,9.433962264150944,0,2.7522935779816518,2.4390243902439024,7.6923076923076925,4.093567251461988,7.894736842105263,13.043478260869565,2.0408163265306123,0,0,2.3255813953488373,6.578947368421052,0,0.7575757575757576,2.2222222222222223,4.3478260869565215,10.0,4.3478260869565215,0,0,0,14.285714285714285,0,0,5.263157894736842,0,0,10.526315789473683,0,42.857142857142854,4.0,0,0,0,11.76470588235294,0,0,0,0,0]],[\"REN\",[12.135922330097088,10.294117647058822,21.693121693121693,12.82051282051282,7.547169811320755,12.5,11.009174311926607,9.75609756097561,23.076923076923077,7.602339181286549,10.526315789473683,8.695652173913043,14.285714285714285,5.263157894736842,3.571428571428571,6.976744186046512,10.526315789473683,14.583333333333334,0,22.22222222222222,21.73913043478261,10.0,13.043478260869565,0,7.142857142857142,9.090909090909092,21.428571428571427,0,2.3255813953488373,15.789473684210526,18.75,21.052631578947366,10.526315789473683,6.666666666666667,28.57142857142857,20.0,8.0,0,10.526315789473683,0,4.3478260869565215,50.0,18.181818181818183,16.666666666666664,22.22222222222222]],[\"MODEM\",[9.70873786407767,4.411764705882353,4.761904761904762,2.564102564102564,5.660377358490567,0,3.669724770642202,2.4390243902439024,15.384615384615385,1.7543859649122806,7.894736842105263,8.695652173913043,18.367346938775512,5.263157894736842,3.571428571428571,0,10.526315789473683,2.083333333333333,3.787878787878788,2.2222222222222223,13.043478260869565,20.0,8.695652173913043,7.142857142857142,0,0,0,2.0,0,5.263157894736842,0,0,5.263157894736842,6.666666666666667,0,0,0,0,0,0,8.695652173913043,0,0,0,33.33333333333333]],[\"LIOT\",[2.912621359223301,1.4705882352941175,3.7037037037037033,0,1.8867924528301887,4.166666666666666,2.7522935779816518,2.4390243902439024,0,1.7543859649122806,1.3157894736842104,0,2.0408163265306123,10.526315789473683,0,0,0,0,0,2.2222222222222223,0,0,0,0,14.285714285714285,0,7.142857142857142,0,2.3255813953488373,0,6.25,5.263157894736842,0,0,0,4.0,4.0,0,5.263157894736842,5.88235294117647,0,0,0,0,11.11111111111111]],[\"RN\",[1.4563106796116505,2.941176470588235,3.7037037037037033,5.128205128205128,1.8867924528301887,0,11.926605504587156,7.317073170731707,0,11.695906432748536,1.3157894736842104,0,0,5.263157894736842,0,0,1.3157894736842104,10.416666666666668,8.333333333333332,8.88888888888889,8.695652173913043,5.0,13.043478260869565,0,0,3.0303030303030303,0,6.0,2.3255813953488373,0,0,0,5.263157894736842,0,0,4.0,0,0,5.263157894736842,17.647058823529413,4.3478260869565215,16.666666666666664,0,50.0,11.11111111111111]],[\"LR\",[7.766990291262135,14.705882352941178,19.047619047619047,10.256410256410255,16.9811320754717,0,7.339449541284404,9.75609756097561,0,9.941520467836257,27.631578947368425,13.043478260869565,22.448979591836736,0,10.714285714285714,2.3255813953488373,11.842105263157894,8.333333333333332,5.303030303030303,24.444444444444443,4.3478260869565215,5.0,0,10.714285714285714,7.142857142857142,12.121212121212121,7.142857142857142,8.0,9.30232558139535,63.1578947368421,6.25,0,10.526315789473683,60.0,0,20.0,8.0,25.0,0,5.88235294117647,8.695652173913043,0,54.54545454545454,0,11.11111111111111]],[\"SOC\",[5.825242718446602,5.88235294117647,11.11111111111111,5.128205128205128,7.547169811320755,0,6.422018348623854,2.4390243902439024,0,11.11111111111111,13.157894736842104,8.695652173913043,4.081632653061225,5.263157894736842,21.428571428571427,6.976744186046512,7.894736842105263,14.583333333333334,7.575757575757576,6.666666666666667,8.695652173913043,5.0,4.3478260869565215,7.142857142857142,7.142857142857142,9.090909090909092,7.142857142857142,4.0,2.3255813953488373,0,6.25,0,5.263157894736842,0,0,4.0,0,0,31.57894736842105,0,4.3478260869565215,0,0,0,0]],[\"HOR\",[0,0,0,2.564102564102564,0,0,0,0,0,0,0,0,2.0408163265306123,0,0,0,0,0,0,2.2222222222222223,0,0,0,3.571428571428571,0,0,0,0,0,0,6.25,0,0,0,0,0,0,0,0,0,0,16.666666666666664,9.090909090909092,0,0]],[\"RRDP\",[0,0,0,0,0,0,0,0,0,0,0,0,0,0,0,0,0,0,0,0,0,0,0,0,0,0,7.142857142857142,0,0,0,0,0,0,0,0,0,0,0,0,0,0,0,0,0,0]]]}}},\"view\":{\"type\":\"object\",\"name\":\"CDSView\",\"id\":\"p1753\",\"attributes\":{\"filter\":{\"type\":\"object\",\"name\":\"AllIndices\",\"id\":\"p1754\"}}},\"glyph\":{\"type\":\"object\",\"name\":\"HBar\",\"id\":\"p1749\",\"attributes\":{\"y\":{\"type\":\"field\",\"field\":\"term\"},\"left\":{\"type\":\"expr\",\"expr\":{\"type\":\"object\",\"name\":\"Stack\",\"id\":\"p1583\",\"attributes\":{\"fields\":[\"GOV\",\"SER\",\"LFI\",\"GDR\",\"ECO\",\"NI\",\"UDI\",\"REN\",\"MODEM\",\"LIOT\",\"RN\",\"LR\",\"SOC\"]}}},\"right\":{\"type\":\"expr\",\"expr\":{\"type\":\"object\",\"name\":\"Stack\",\"id\":\"p1584\",\"attributes\":{\"fields\":[\"GOV\",\"SER\",\"LFI\",\"GDR\",\"ECO\",\"NI\",\"UDI\",\"REN\",\"MODEM\",\"LIOT\",\"RN\",\"LR\",\"SOC\",\"HOR\"]}}},\"line_color\":{\"type\":\"value\",\"value\":\"#444\"},\"line_width\":{\"type\":\"value\",\"value\":0.9},\"fill_color\":{\"type\":\"value\",\"value\":\"#1B1464\"},\"hatch_color\":{\"type\":\"value\",\"value\":\"#1B1464\"}}},\"nonselection_glyph\":{\"type\":\"object\",\"name\":\"HBar\",\"id\":\"p1750\",\"attributes\":{\"y\":{\"type\":\"field\",\"field\":\"term\"},\"left\":{\"type\":\"expr\",\"expr\":{\"id\":\"p1583\"}},\"right\":{\"type\":\"expr\",\"expr\":{\"id\":\"p1584\"}},\"line_color\":{\"type\":\"value\",\"value\":\"#444\"},\"line_alpha\":{\"type\":\"value\",\"value\":0.1},\"line_width\":{\"type\":\"value\",\"value\":0.9},\"fill_color\":{\"type\":\"value\",\"value\":\"#1B1464\"},\"fill_alpha\":{\"type\":\"value\",\"value\":0.1},\"hatch_color\":{\"type\":\"value\",\"value\":\"#1B1464\"},\"hatch_alpha\":{\"type\":\"value\",\"value\":0.1}}},\"muted_glyph\":{\"type\":\"object\",\"name\":\"HBar\",\"id\":\"p1751\",\"attributes\":{\"y\":{\"type\":\"field\",\"field\":\"term\"},\"left\":{\"type\":\"expr\",\"expr\":{\"id\":\"p1583\"}},\"right\":{\"type\":\"expr\",\"expr\":{\"id\":\"p1584\"}},\"line_color\":{\"type\":\"value\",\"value\":\"#444\"},\"line_alpha\":{\"type\":\"value\",\"value\":0.2},\"line_width\":{\"type\":\"value\",\"value\":0.9},\"fill_color\":{\"type\":\"value\",\"value\":\"#1B1464\"},\"fill_alpha\":{\"type\":\"value\",\"value\":0.2},\"hatch_color\":{\"type\":\"value\",\"value\":\"#1B1464\"},\"hatch_alpha\":{\"type\":\"value\",\"value\":0.2}}}}},{\"type\":\"object\",\"name\":\"GlyphRenderer\",\"id\":\"p1764\",\"attributes\":{\"name\":\"RRDP\",\"data_source\":{\"type\":\"object\",\"name\":\"ColumnDataSource\",\"id\":\"p1755\",\"attributes\":{\"selected\":{\"type\":\"object\",\"name\":\"Selection\",\"id\":\"p1756\",\"attributes\":{\"indices\":[],\"line_indices\":[]}},\"selection_policy\":{\"type\":\"object\",\"name\":\"UnionRenderers\",\"id\":\"p1757\"},\"data\":{\"type\":\"map\",\"entries\":[[\"term\",[\"syst\\u00e8me de retraite\",\"loi de finance\",\"emploi de senior\",\"commission de affaire\",\"loi de financement\",\"probl\\u00e8me de financement\",\"\\u00e2ge de d\\u00e9part\",\"pension de retraite\",\"augmenter le imp\\u00f4t\",\"r\\u00e9forme de retraite\",\"taux de emploi\",\"clause de grand-p\\u00e8re\",\"syst\\u00e8me par r\\u00e9partition\",\"co\\u00fbt de travail\",\"\\u00e9tude de impact\",\"exon\\u00e9ration de cotisation\",\"r\\u00e9gime de retraite\",\"suppression de r\\u00e9gime\",\"1 200 euro\",\"pouvoir de achat\",\"taux de ch\\u00f4mage\",\"commission de finance\",\"march\\u00e9 de travail\",\"financer le retraite\",\"financement de syst\\u00e8me\",\"financement de retraite\",\"abaisser le seuil\",\"caisse de retraite\",\"condition de travail\",\"am\\u00e9liorer le taux\",\"augmenter le cotisation\",\"baisse de imp\\u00f4t\",\"loi de programmation\",\"m\\u00e8re de famille\",\"pension de r\\u00e9version\",\"d\\u00e9part en retraite\",\"esp\\u00e9rance de vie\",\"demandeur de emploi\",\"crit\\u00e8re de p\\u00e9nibilit\\u00e9\",\"faire un effort\",\"monde de travail\",\"strat\\u00e9gie de obstruction\",\"embauche de senior\",\"fonds de r\\u00e9serve\",\"variable de ajustement\"]],[\"GOV\",[9.70873786407767,23.52941176470588,8.465608465608465,35.8974358974359,24.528301886792452,45.83333333333333,8.256880733944955,19.51219512195122,53.84615384615385,4.093567251461988,9.210526315789473,26.08695652173913,12.244897959183673,31.57894736842105,21.428571428571427,11.627906976744185,6.578947368421052,10.416666666666668,3.787878787878788,11.11111111111111,21.73913043478261,25.0,17.391304347826086,14.285714285714285,28.57142857142857,9.090909090909092,21.428571428571427,6.0,6.976744186046512,10.526315789473683,12.5,10.526315789473683,10.526315789473683,6.666666666666667,14.285714285714285,4.0,0,0,0,0,0,0,0,0,0]],[\"SER\",[1.9417475728155338,1.4705882352941175,1.0582010582010581,0,1.8867924528301887,0,4.587155963302752,2.4390243902439024,0,1.1695906432748537,0,0,0,5.263157894736842,3.571428571428571,2.3255813953488373,1.3157894736842104,6.25,0.7575757575757576,2.2222222222222223,0,5.0,0,0,0,0,0,4.0,0,0,0,0,15.789473684210526,0,0,0,8.0,12.5,5.263157894736842,0,0,0,0,0,0]],[\"LFI\",[30.097087378640776,14.705882352941178,8.994708994708994,10.256410256410255,7.547169811320755,33.33333333333333,26.605504587155966,29.268292682926827,0,32.16374269005848,7.894736842105263,17.391304347826086,16.3265306122449,15.789473684210526,28.57142857142857,48.837209302325576,32.89473684210527,20.833333333333336,62.121212121212125,11.11111111111111,13.043478260869565,15.0,21.73913043478261,50.0,28.57142857142857,39.39393939393939,14.285714285714285,68.0,44.18604651162791,0,43.75,36.84210526315789,5.263157894736842,6.666666666666667,0,24.0,28.000000000000004,37.5,36.84210526315789,29.411764705882355,21.73913043478261,16.666666666666664,0,0,0]],[\"GDR\",[6.796116504854369,2.941176470588235,5.291005291005291,5.128205128205128,3.7735849056603774,0,5.5045871559633035,4.878048780487805,0,4.678362573099415,9.210526315789473,4.3478260869565215,2.0408163265306123,15.789473684210526,3.571428571428571,11.627906976744185,5.263157894736842,12.5,3.787878787878788,2.2222222222222223,4.3478260869565215,0,4.3478260869565215,0,7.142857142857142,3.0303030303030303,0,2.0,18.6046511627907,0,0,0,10.526315789473683,6.666666666666667,0,0,16.0,25.0,0,5.88235294117647,26.08695652173913,0,9.090909090909092,16.666666666666664,0]],[\"ECO\",[3.3980582524271843,5.88235294117647,5.291005291005291,7.6923076923076925,7.547169811320755,0,5.5045871559633035,7.317073170731707,0,4.678362573099415,1.3157894736842104,0,2.0408163265306123,0,3.571428571428571,6.976744186046512,1.3157894736842104,0,3.0303030303030303,0,0,0,8.695652173913043,3.571428571428571,0,3.0303030303030303,0,0,11.627906976744185,0,0,10.526315789473683,0,0,0,4.0,24.0,0,5.263157894736842,11.76470588235294,17.391304347826086,0,0,0,11.11111111111111]],[\"NI\",[3.8834951456310676,4.411764705882353,2.1164021164021163,0,3.7735849056603774,4.166666666666666,3.669724770642202,0,0,5.263157894736842,2.631578947368421,0,2.0408163265306123,0,0,0,3.9473684210526314,0,0.7575757575757576,2.2222222222222223,0,0,4.3478260869565215,3.571428571428571,0,12.121212121212121,0,0,0,0,0,15.789473684210526,10.526315789473683,6.666666666666667,14.285714285714285,12.0,4.0,0,0,11.76470588235294,4.3478260869565215,0,9.090909090909092,16.666666666666664,0]],[\"UDI\",[4.368932038834951,7.352941176470589,4.761904761904762,2.564102564102564,9.433962264150944,0,2.7522935779816518,2.4390243902439024,7.6923076923076925,4.093567251461988,7.894736842105263,13.043478260869565,2.0408163265306123,0,0,2.3255813953488373,6.578947368421052,0,0.7575757575757576,2.2222222222222223,4.3478260869565215,10.0,4.3478260869565215,0,0,0,14.285714285714285,0,0,5.263157894736842,0,0,10.526315789473683,0,42.857142857142854,4.0,0,0,0,11.76470588235294,0,0,0,0,0]],[\"REN\",[12.135922330097088,10.294117647058822,21.693121693121693,12.82051282051282,7.547169811320755,12.5,11.009174311926607,9.75609756097561,23.076923076923077,7.602339181286549,10.526315789473683,8.695652173913043,14.285714285714285,5.263157894736842,3.571428571428571,6.976744186046512,10.526315789473683,14.583333333333334,0,22.22222222222222,21.73913043478261,10.0,13.043478260869565,0,7.142857142857142,9.090909090909092,21.428571428571427,0,2.3255813953488373,15.789473684210526,18.75,21.052631578947366,10.526315789473683,6.666666666666667,28.57142857142857,20.0,8.0,0,10.526315789473683,0,4.3478260869565215,50.0,18.181818181818183,16.666666666666664,22.22222222222222]],[\"MODEM\",[9.70873786407767,4.411764705882353,4.761904761904762,2.564102564102564,5.660377358490567,0,3.669724770642202,2.4390243902439024,15.384615384615385,1.7543859649122806,7.894736842105263,8.695652173913043,18.367346938775512,5.263157894736842,3.571428571428571,0,10.526315789473683,2.083333333333333,3.787878787878788,2.2222222222222223,13.043478260869565,20.0,8.695652173913043,7.142857142857142,0,0,0,2.0,0,5.263157894736842,0,0,5.263157894736842,6.666666666666667,0,0,0,0,0,0,8.695652173913043,0,0,0,33.33333333333333]],[\"LIOT\",[2.912621359223301,1.4705882352941175,3.7037037037037033,0,1.8867924528301887,4.166666666666666,2.7522935779816518,2.4390243902439024,0,1.7543859649122806,1.3157894736842104,0,2.0408163265306123,10.526315789473683,0,0,0,0,0,2.2222222222222223,0,0,0,0,14.285714285714285,0,7.142857142857142,0,2.3255813953488373,0,6.25,5.263157894736842,0,0,0,4.0,4.0,0,5.263157894736842,5.88235294117647,0,0,0,0,11.11111111111111]],[\"RN\",[1.4563106796116505,2.941176470588235,3.7037037037037033,5.128205128205128,1.8867924528301887,0,11.926605504587156,7.317073170731707,0,11.695906432748536,1.3157894736842104,0,0,5.263157894736842,0,0,1.3157894736842104,10.416666666666668,8.333333333333332,8.88888888888889,8.695652173913043,5.0,13.043478260869565,0,0,3.0303030303030303,0,6.0,2.3255813953488373,0,0,0,5.263157894736842,0,0,4.0,0,0,5.263157894736842,17.647058823529413,4.3478260869565215,16.666666666666664,0,50.0,11.11111111111111]],[\"LR\",[7.766990291262135,14.705882352941178,19.047619047619047,10.256410256410255,16.9811320754717,0,7.339449541284404,9.75609756097561,0,9.941520467836257,27.631578947368425,13.043478260869565,22.448979591836736,0,10.714285714285714,2.3255813953488373,11.842105263157894,8.333333333333332,5.303030303030303,24.444444444444443,4.3478260869565215,5.0,0,10.714285714285714,7.142857142857142,12.121212121212121,7.142857142857142,8.0,9.30232558139535,63.1578947368421,6.25,0,10.526315789473683,60.0,0,20.0,8.0,25.0,0,5.88235294117647,8.695652173913043,0,54.54545454545454,0,11.11111111111111]],[\"SOC\",[5.825242718446602,5.88235294117647,11.11111111111111,5.128205128205128,7.547169811320755,0,6.422018348623854,2.4390243902439024,0,11.11111111111111,13.157894736842104,8.695652173913043,4.081632653061225,5.263157894736842,21.428571428571427,6.976744186046512,7.894736842105263,14.583333333333334,7.575757575757576,6.666666666666667,8.695652173913043,5.0,4.3478260869565215,7.142857142857142,7.142857142857142,9.090909090909092,7.142857142857142,4.0,2.3255813953488373,0,6.25,0,5.263157894736842,0,0,4.0,0,0,31.57894736842105,0,4.3478260869565215,0,0,0,0]],[\"HOR\",[0,0,0,2.564102564102564,0,0,0,0,0,0,0,0,2.0408163265306123,0,0,0,0,0,0,2.2222222222222223,0,0,0,3.571428571428571,0,0,0,0,0,0,6.25,0,0,0,0,0,0,0,0,0,0,16.666666666666664,9.090909090909092,0,0]],[\"RRDP\",[0,0,0,0,0,0,0,0,0,0,0,0,0,0,0,0,0,0,0,0,0,0,0,0,0,0,7.142857142857142,0,0,0,0,0,0,0,0,0,0,0,0,0,0,0,0,0,0]]]}}},\"view\":{\"type\":\"object\",\"name\":\"CDSView\",\"id\":\"p1765\",\"attributes\":{\"filter\":{\"type\":\"object\",\"name\":\"AllIndices\",\"id\":\"p1766\"}}},\"glyph\":{\"type\":\"object\",\"name\":\"HBar\",\"id\":\"p1761\",\"attributes\":{\"y\":{\"type\":\"field\",\"field\":\"term\"},\"left\":{\"type\":\"expr\",\"expr\":{\"type\":\"object\",\"name\":\"Stack\",\"id\":\"p1585\",\"attributes\":{\"fields\":[\"GOV\",\"SER\",\"LFI\",\"GDR\",\"ECO\",\"NI\",\"UDI\",\"REN\",\"MODEM\",\"LIOT\",\"RN\",\"LR\",\"SOC\",\"HOR\"]}}},\"right\":{\"type\":\"expr\",\"expr\":{\"type\":\"object\",\"name\":\"Stack\",\"id\":\"p1586\",\"attributes\":{\"fields\":[\"GOV\",\"SER\",\"LFI\",\"GDR\",\"ECO\",\"NI\",\"UDI\",\"REN\",\"MODEM\",\"LIOT\",\"RN\",\"LR\",\"SOC\",\"HOR\",\"RRDP\"]}}},\"line_color\":{\"type\":\"value\",\"value\":\"#444\"},\"line_width\":{\"type\":\"value\",\"value\":0.9},\"fill_color\":{\"type\":\"value\",\"value\":\"#FFC312\"},\"hatch_color\":{\"type\":\"value\",\"value\":\"#FFC312\"}}},\"nonselection_glyph\":{\"type\":\"object\",\"name\":\"HBar\",\"id\":\"p1762\",\"attributes\":{\"y\":{\"type\":\"field\",\"field\":\"term\"},\"left\":{\"type\":\"expr\",\"expr\":{\"id\":\"p1585\"}},\"right\":{\"type\":\"expr\",\"expr\":{\"id\":\"p1586\"}},\"line_color\":{\"type\":\"value\",\"value\":\"#444\"},\"line_alpha\":{\"type\":\"value\",\"value\":0.1},\"line_width\":{\"type\":\"value\",\"value\":0.9},\"fill_color\":{\"type\":\"value\",\"value\":\"#FFC312\"},\"fill_alpha\":{\"type\":\"value\",\"value\":0.1},\"hatch_color\":{\"type\":\"value\",\"value\":\"#FFC312\"},\"hatch_alpha\":{\"type\":\"value\",\"value\":0.1}}},\"muted_glyph\":{\"type\":\"object\",\"name\":\"HBar\",\"id\":\"p1763\",\"attributes\":{\"y\":{\"type\":\"field\",\"field\":\"term\"},\"left\":{\"type\":\"expr\",\"expr\":{\"id\":\"p1585\"}},\"right\":{\"type\":\"expr\",\"expr\":{\"id\":\"p1586\"}},\"line_color\":{\"type\":\"value\",\"value\":\"#444\"},\"line_alpha\":{\"type\":\"value\",\"value\":0.2},\"line_width\":{\"type\":\"value\",\"value\":0.9},\"fill_color\":{\"type\":\"value\",\"value\":\"#FFC312\"},\"fill_alpha\":{\"type\":\"value\",\"value\":0.2},\"hatch_color\":{\"type\":\"value\",\"value\":\"#FFC312\"},\"hatch_alpha\":{\"type\":\"value\",\"value\":0.2}}}}}],\"toolbar\":{\"type\":\"object\",\"name\":\"Toolbar\",\"id\":\"p1530\",\"attributes\":{\"tools\":[{\"type\":\"object\",\"name\":\"HoverTool\",\"id\":\"p1554\",\"attributes\":{\"renderers\":\"auto\",\"tooltips\":\"@term($name) = @$name%\"}}]}},\"toolbar_location\":\"above\",\"left\":[{\"type\":\"object\",\"name\":\"CategoricalAxis\",\"id\":\"p1548\",\"attributes\":{\"ticker\":{\"type\":\"object\",\"name\":\"CategoricalTicker\",\"id\":\"p1549\"},\"formatter\":{\"type\":\"object\",\"name\":\"CategoricalTickFormatter\",\"id\":\"p1551\"},\"major_label_policy\":{\"type\":\"object\",\"name\":\"AllLabels\",\"id\":\"p1550\"}}}],\"right\":[{\"type\":\"object\",\"name\":\"Legend\",\"id\":\"p1767\",\"attributes\":{\"location\":\"center\",\"click_policy\":\"mute\",\"items\":[{\"type\":\"object\",\"name\":\"LegendItem\",\"id\":\"p1768\",\"attributes\":{\"label\":{\"type\":\"value\",\"value\":\"GOV\"},\"renderers\":[{\"id\":\"p1596\"}]}},{\"type\":\"object\",\"name\":\"LegendItem\",\"id\":\"p1769\",\"attributes\":{\"label\":{\"type\":\"value\",\"value\":\"SER\"},\"renderers\":[{\"id\":\"p1608\"}]}},{\"type\":\"object\",\"name\":\"LegendItem\",\"id\":\"p1770\",\"attributes\":{\"label\":{\"type\":\"value\",\"value\":\"LFI\"},\"renderers\":[{\"id\":\"p1620\"}]}},{\"type\":\"object\",\"name\":\"LegendItem\",\"id\":\"p1771\",\"attributes\":{\"label\":{\"type\":\"value\",\"value\":\"GDR\"},\"renderers\":[{\"id\":\"p1632\"}]}},{\"type\":\"object\",\"name\":\"LegendItem\",\"id\":\"p1772\",\"attributes\":{\"label\":{\"type\":\"value\",\"value\":\"ECO\"},\"renderers\":[{\"id\":\"p1644\"}]}},{\"type\":\"object\",\"name\":\"LegendItem\",\"id\":\"p1773\",\"attributes\":{\"label\":{\"type\":\"value\",\"value\":\"NI\"},\"renderers\":[{\"id\":\"p1656\"}]}},{\"type\":\"object\",\"name\":\"LegendItem\",\"id\":\"p1774\",\"attributes\":{\"label\":{\"type\":\"value\",\"value\":\"UDI\"},\"renderers\":[{\"id\":\"p1668\"}]}},{\"type\":\"object\",\"name\":\"LegendItem\",\"id\":\"p1775\",\"attributes\":{\"label\":{\"type\":\"value\",\"value\":\"REN\"},\"renderers\":[{\"id\":\"p1680\"}]}},{\"type\":\"object\",\"name\":\"LegendItem\",\"id\":\"p1776\",\"attributes\":{\"label\":{\"type\":\"value\",\"value\":\"MODEM\"},\"renderers\":[{\"id\":\"p1692\"}]}},{\"type\":\"object\",\"name\":\"LegendItem\",\"id\":\"p1777\",\"attributes\":{\"label\":{\"type\":\"value\",\"value\":\"LIOT\"},\"renderers\":[{\"id\":\"p1704\"}]}},{\"type\":\"object\",\"name\":\"LegendItem\",\"id\":\"p1778\",\"attributes\":{\"label\":{\"type\":\"value\",\"value\":\"RN\"},\"renderers\":[{\"id\":\"p1716\"}]}},{\"type\":\"object\",\"name\":\"LegendItem\",\"id\":\"p1779\",\"attributes\":{\"label\":{\"type\":\"value\",\"value\":\"LR\"},\"renderers\":[{\"id\":\"p1728\"}]}},{\"type\":\"object\",\"name\":\"LegendItem\",\"id\":\"p1780\",\"attributes\":{\"label\":{\"type\":\"value\",\"value\":\"SOC\"},\"renderers\":[{\"id\":\"p1740\"}]}},{\"type\":\"object\",\"name\":\"LegendItem\",\"id\":\"p1781\",\"attributes\":{\"label\":{\"type\":\"value\",\"value\":\"HOR\"},\"renderers\":[{\"id\":\"p1752\"}]}},{\"type\":\"object\",\"name\":\"LegendItem\",\"id\":\"p1782\",\"attributes\":{\"label\":{\"type\":\"value\",\"value\":\"RRDP\"},\"renderers\":[{\"id\":\"p1764\"}]}}]}}],\"below\":[{\"type\":\"object\",\"name\":\"LinearAxis\",\"id\":\"p1541\",\"attributes\":{\"ticker\":{\"type\":\"object\",\"name\":\"BasicTicker\",\"id\":\"p1542\",\"attributes\":{\"mantissas\":[1,2,5]}},\"formatter\":{\"type\":\"object\",\"name\":\"BasicTickFormatter\",\"id\":\"p1544\"},\"major_label_policy\":{\"type\":\"object\",\"name\":\"AllLabels\",\"id\":\"p1543\"}}}],\"center\":[{\"type\":\"object\",\"name\":\"Grid\",\"id\":\"p1547\",\"attributes\":{\"axis\":{\"id\":\"p1541\"},\"grid_line_color\":null}},{\"type\":\"object\",\"name\":\"Grid\",\"id\":\"p1553\",\"attributes\":{\"dimension\":1,\"axis\":{\"id\":\"p1548\"}}}]}}}}]}}],\"callbacks\":{\"type\":\"map\"}}};\n  const render_items = [{\"docid\":\"cd23067e-7664-46e3-b1a2-0e8c347dc94e\",\"roots\":{\"p1784\":\"cd3c553a-01be-47c7-b5e6-c386e34e636e\"},\"root_ids\":[\"p1784\"]}];\n  root.Bokeh.embed.embed_items_notebook(docs_json, render_items);\n  }\n  if (root.Bokeh !== undefined) {\n    embed_document(root);\n  } else {\n    let attempts = 0;\n    const timer = setInterval(function(root) {\n      if (root.Bokeh !== undefined) {\n        clearInterval(timer);\n        embed_document(root);\n      } else {\n        attempts++;\n        if (attempts > 100) {\n          clearInterval(timer);\n          console.log(\"Bokeh: ERROR: Unable to run BokehJS code because BokehJS library is missing\");\n        }\n      }\n    }, 10, root)\n  }\n})(window);",
      "application/vnd.bokehjs_exec.v0+json": ""
     },
     "metadata": {
      "application/vnd.bokehjs_exec.v0+json": {
       "id": "p1784"
      }
     },
     "output_type": "display_data"
    }
   ],
   "source": [
    "from bokeh.models import TabPanel, Tabs\n",
    "\n",
    "df = getCountDataframe(parlement_df,top_n=10)\n",
    "\n",
    "tab1 = TabPanel(child=occurrenceDistributionPerGroupePolitique(df[df.num_words == 1]), title=\"1 mot\")\n",
    "tab2 = TabPanel(child=occurrenceDistributionPerGroupePolitique(df[df.num_words == 2]), title=\"2 mots\")\n",
    "tab3 = TabPanel(child=occurrenceDistributionPerGroupePolitique(df[df.num_words == 3]), title=\"3 mots\")\n",
    "\n",
    "show(Tabs(tabs=[tab1, tab2,tab3],sizing_mode =\"stretch_width\"))"
   ]
  },
  {
   "cell_type": "markdown",
   "metadata": {},
   "source": [
    "### Distribution des mots-clés par orientation politique"
   ]
  },
  {
   "cell_type": "code",
   "execution_count": 8,
   "metadata": {
    "tags": [
     "hide-input"
    ]
   },
   "outputs": [
    {
     "data": {
      "text/html": [
       "<div>\n",
       "<style scoped>\n",
       "    .dataframe tbody tr th:only-of-type {\n",
       "        vertical-align: middle;\n",
       "    }\n",
       "\n",
       "    .dataframe tbody tr th {\n",
       "        vertical-align: top;\n",
       "    }\n",
       "\n",
       "    .dataframe thead th {\n",
       "        text-align: right;\n",
       "    }\n",
       "</style>\n",
       "<table border=\"1\" class=\"dataframe\">\n",
       "  <thead>\n",
       "    <tr style=\"text-align: right;\">\n",
       "      <th></th>\n",
       "      <th>Groupe Parlementaire</th>\n",
       "      <th>Orientation</th>\n",
       "    </tr>\n",
       "  </thead>\n",
       "  <tbody>\n",
       "    <tr>\n",
       "      <th>0</th>\n",
       "      <td>GOV</td>\n",
       "      <td>centre</td>\n",
       "    </tr>\n",
       "    <tr>\n",
       "      <th>1</th>\n",
       "      <td>SER</td>\n",
       "      <td>gauche</td>\n",
       "    </tr>\n",
       "    <tr>\n",
       "      <th>2</th>\n",
       "      <td>LFI</td>\n",
       "      <td>gauche</td>\n",
       "    </tr>\n",
       "    <tr>\n",
       "      <th>3</th>\n",
       "      <td>GDR</td>\n",
       "      <td>gauche</td>\n",
       "    </tr>\n",
       "    <tr>\n",
       "      <th>4</th>\n",
       "      <td>ECO</td>\n",
       "      <td>gauche</td>\n",
       "    </tr>\n",
       "    <tr>\n",
       "      <th>5</th>\n",
       "      <td>NI</td>\n",
       "      <td>aucun</td>\n",
       "    </tr>\n",
       "    <tr>\n",
       "      <th>6</th>\n",
       "      <td>UDI</td>\n",
       "      <td>droite</td>\n",
       "    </tr>\n",
       "    <tr>\n",
       "      <th>7</th>\n",
       "      <td>LREM</td>\n",
       "      <td>centre</td>\n",
       "    </tr>\n",
       "    <tr>\n",
       "      <th>8</th>\n",
       "      <td>MODEM</td>\n",
       "      <td>centre</td>\n",
       "    </tr>\n",
       "    <tr>\n",
       "      <th>9</th>\n",
       "      <td>LIOT</td>\n",
       "      <td>droite</td>\n",
       "    </tr>\n",
       "    <tr>\n",
       "      <th>10</th>\n",
       "      <td>RN</td>\n",
       "      <td>droite</td>\n",
       "    </tr>\n",
       "    <tr>\n",
       "      <th>11</th>\n",
       "      <td>LR</td>\n",
       "      <td>droite</td>\n",
       "    </tr>\n",
       "    <tr>\n",
       "      <th>12</th>\n",
       "      <td>SOC</td>\n",
       "      <td>gauche</td>\n",
       "    </tr>\n",
       "    <tr>\n",
       "      <th>13</th>\n",
       "      <td>HOR</td>\n",
       "      <td>centre</td>\n",
       "    </tr>\n",
       "    <tr>\n",
       "      <th>14</th>\n",
       "      <td>AE</td>\n",
       "      <td>droite</td>\n",
       "    </tr>\n",
       "    <tr>\n",
       "      <th>15</th>\n",
       "      <td>LT</td>\n",
       "      <td>droite</td>\n",
       "    </tr>\n",
       "    <tr>\n",
       "      <th>16</th>\n",
       "      <td>REN</td>\n",
       "      <td>centre</td>\n",
       "    </tr>\n",
       "    <tr>\n",
       "      <th>17</th>\n",
       "      <td>RRDP</td>\n",
       "      <td>gauche</td>\n",
       "    </tr>\n",
       "  </tbody>\n",
       "</table>\n",
       "</div>"
      ],
      "text/plain": [
       "   Groupe Parlementaire Orientation\n",
       "0                   GOV      centre\n",
       "1                   SER      gauche\n",
       "2                   LFI      gauche\n",
       "3                   GDR      gauche\n",
       "4                   ECO      gauche\n",
       "5                    NI       aucun\n",
       "6                   UDI      droite\n",
       "7                  LREM      centre\n",
       "8                 MODEM      centre\n",
       "9                  LIOT      droite\n",
       "10                   RN      droite\n",
       "11                   LR      droite\n",
       "12                  SOC      gauche\n",
       "13                  HOR      centre\n",
       "14                   AE      droite\n",
       "15                   LT      droite\n",
       "16                  REN      centre\n",
       "17                 RRDP      gauche"
      ]
     },
     "execution_count": 8,
     "metadata": {},
     "output_type": "execute_result"
    }
   ],
   "source": [
    "pd.DataFrame(list(droite_ou_gauche_centre.items()),columns=\"Groupe Parlementaire,Orientation\".split(\",\"))"
   ]
  },
  {
   "cell_type": "code",
   "execution_count": 10,
   "metadata": {},
   "outputs": [
    {
     "name": "stderr",
     "output_type": "stream",
     "text": [
      "c:\\Users\\jacqu\\Dropbox\\Projets\\2023\\debat_retraite_book\\lib\\figures.py:233: UserWarning:\n",
      "\n",
      "\n",
      "You are attempting to set `plot.legend.click_policy` on a plot that has zero legends added, this will have no effect.\n",
      "\n",
      "Before legend properties can be set, you must add a Legend explicitly, or call a glyph method with a legend parameter set.\n",
      "\n",
      "\n",
      "c:\\Users\\jacqu\\Dropbox\\Projets\\2023\\debat_retraite_book\\lib\\figures.py:233: UserWarning:\n",
      "\n",
      "\n",
      "You are attempting to set `plot.legend.click_policy` on a plot that has zero legends added, this will have no effect.\n",
      "\n",
      "Before legend properties can be set, you must add a Legend explicitly, or call a glyph method with a legend parameter set.\n",
      "\n",
      "\n",
      "c:\\Users\\jacqu\\Dropbox\\Projets\\2023\\debat_retraite_book\\lib\\figures.py:233: UserWarning:\n",
      "\n",
      "\n",
      "You are attempting to set `plot.legend.click_policy` on a plot that has zero legends added, this will have no effect.\n",
      "\n",
      "Before legend properties can be set, you must add a Legend explicitly, or call a glyph method with a legend parameter set.\n",
      "\n",
      "\n"
     ]
    },
    {
     "data": {
      "text/html": [
       "\n",
       "  <div id=\"e5aad67d-a161-4646-a786-d5792d1024c5\" data-root-id=\"p4570\" style=\"display: contents;\"></div>\n"
      ]
     },
     "metadata": {},
     "output_type": "display_data"
    },
    {
     "data": {
      "application/javascript": "(function(root) {\n  function embed_document(root) {\n  const docs_json = {\"f4541568-cc3a-4f01-9cb9-c1f2206ae1cb\":{\"version\":\"3.1.1\",\"title\":\"Bokeh Application\",\"defs\":[],\"roots\":[{\"type\":\"object\",\"name\":\"Tabs\",\"id\":\"p4570\",\"attributes\":{\"sizing_mode\":\"stretch_width\",\"tabs\":[{\"type\":\"object\",\"name\":\"TabPanel\",\"id\":\"p4377\",\"attributes\":{\"title\":\"1 mot\",\"child\":{\"type\":\"object\",\"name\":\"Figure\",\"id\":\"p4282\",\"attributes\":{\"sizing_mode\":\"stretch_width\",\"x_range\":{\"type\":\"object\",\"name\":\"DataRange1d\",\"id\":\"p4284\",\"attributes\":{\"start\":0,\"end\":100}},\"y_range\":{\"type\":\"object\",\"name\":\"FactorRange\",\"id\":\"p4294\",\"attributes\":{\"factors\":[\"France\",\"d\\u00e9ficit\",\"entreprise\",\"famille\",\"femme\",\"financer\",\"fran\\u00e7ais\",\"gouvernement\",\"loi\",\"majorit\\u00e9\",\"mission\",\"pouvoir\",\"prime\",\"priver\",\"public\",\"ratio\",\"retrait\",\"retraite\",\"r\\u00e9forme\",\"r\\u00e9gime\",\"senior\",\"social\",\"travail\",\"vote\",\"\\u00e2ge\",\"\\u00e9tat\"]}},\"x_scale\":{\"type\":\"object\",\"name\":\"LinearScale\",\"id\":\"p4296\"},\"y_scale\":{\"type\":\"object\",\"name\":\"CategoricalScale\",\"id\":\"p4298\"},\"title\":{\"type\":\"object\",\"name\":\"Title\",\"id\":\"p4285\",\"attributes\":{\"text\":\"Distribution des occurrences de top mots-cl\\u00e9s\"}},\"renderers\":[{\"type\":\"object\",\"name\":\"GlyphRenderer\",\"id\":\"p4333\",\"attributes\":{\"name\":\"aucun\",\"data_source\":{\"type\":\"object\",\"name\":\"ColumnDataSource\",\"id\":\"p4324\",\"attributes\":{\"selected\":{\"type\":\"object\",\"name\":\"Selection\",\"id\":\"p4325\",\"attributes\":{\"indices\":[],\"line_indices\":[]}},\"selection_policy\":{\"type\":\"object\",\"name\":\"UnionRenderers\",\"id\":\"p4326\"},\"data\":{\"type\":\"map\",\"entries\":[[\"term\",[\"France\",\"d\\u00e9ficit\",\"entreprise\",\"famille\",\"femme\",\"financer\",\"fran\\u00e7ais\",\"gouvernement\",\"loi\",\"majorit\\u00e9\",\"mission\",\"pouvoir\",\"prime\",\"priver\",\"public\",\"ratio\",\"retrait\",\"retraite\",\"r\\u00e9forme\",\"r\\u00e9gime\",\"senior\",\"social\",\"travail\",\"vote\",\"\\u00e2ge\",\"\\u00e9tat\"]],[\"aucun\",[2.7607361963190185,5.913978494623656,2.6373626373626373,2.0408163265306123,2.1739130434782608,2.4390243902439024,3.009259259259259,3.1141868512110724,2.4539877300613497,1.7361111111111112,2.0,2.0050125313283207,2.5773195876288657,4.819277108433735,2.736318407960199,2.638522427440633,2.73972602739726,2.840909090909091,3.061224489795918,2.6252983293556085,2.610966057441253,1.5177065767284992,2.102496714848883,1.7857142857142856,3.293413173652695,4.891304347826087]],[\"centre\",[32.82208588957055,25.26881720430108,31.86813186813187,26.53061224489796,18.695652173913043,32.926829268292686,19.444444444444446,22.837370242214533,31.113058720420685,43.05555555555556,47.5,32.205513784461154,44.84536082474227,24.096385542168676,36.318407960199,30.34300791556728,26.13277133825079,23.75,15.306122448979593,28.878281622911693,31.07049608355091,32.715008431703204,22.601839684625492,30.357142857142858,24.251497005988025,23.3695652173913]],[\"droite\",[20.245398773006137,12.903225806451612,23.956043956043956,36.73469387755102,23.47826086956522,16.46341463414634,19.675925925925924,24.567474048442904,21.034180543383,14.23611111111111,21.0,24.310776942355886,12.88659793814433,18.072289156626507,18.65671641791045,20.052770448548813,20.65331928345627,21.477272727272727,21.08843537414966,20.286396181384248,29.765013054830288,19.73018549747049,20.2365308804205,29.464285714285715,27.84431137724551,23.913043478260867]],[\"gauche\",[44.171779141104295,55.91397849462365,41.53846153846154,34.69387755102041,55.65217391304348,48.170731707317074,57.870370370370374,49.48096885813149,45.39877300613497,40.97222222222222,29.5,41.478696741854634,39.69072164948453,53.01204819277109,42.288557213930346,46.96569920844327,50.47418335089568,51.93181818181818,60.544217687074834,48.21002386634844,36.55352480417755,46.03709949409781,55.059132720105126,38.392857142857146,44.61077844311377,47.82608695652174]]]}}},\"view\":{\"type\":\"object\",\"name\":\"CDSView\",\"id\":\"p4334\",\"attributes\":{\"filter\":{\"type\":\"object\",\"name\":\"AllIndices\",\"id\":\"p4335\"}}},\"glyph\":{\"type\":\"object\",\"name\":\"HBar\",\"id\":\"p4330\",\"attributes\":{\"y\":{\"type\":\"field\",\"field\":\"term\"},\"left\":{\"type\":\"expr\",\"expr\":{\"type\":\"object\",\"name\":\"Stack\",\"id\":\"p4316\",\"attributes\":{\"fields\":[]}}},\"right\":{\"type\":\"expr\",\"expr\":{\"type\":\"object\",\"name\":\"Stack\",\"id\":\"p4317\",\"attributes\":{\"fields\":[\"aucun\"]}}},\"line_color\":{\"type\":\"value\",\"value\":\"#444\"},\"line_width\":{\"type\":\"value\",\"value\":0.9},\"fill_color\":{\"type\":\"value\",\"value\":\"#ecf0f1\"},\"hatch_color\":{\"type\":\"value\",\"value\":\"#ecf0f1\"}}},\"nonselection_glyph\":{\"type\":\"object\",\"name\":\"HBar\",\"id\":\"p4331\",\"attributes\":{\"y\":{\"type\":\"field\",\"field\":\"term\"},\"left\":{\"type\":\"expr\",\"expr\":{\"id\":\"p4316\"}},\"right\":{\"type\":\"expr\",\"expr\":{\"id\":\"p4317\"}},\"line_color\":{\"type\":\"value\",\"value\":\"#444\"},\"line_alpha\":{\"type\":\"value\",\"value\":0.1},\"line_width\":{\"type\":\"value\",\"value\":0.9},\"fill_color\":{\"type\":\"value\",\"value\":\"#ecf0f1\"},\"fill_alpha\":{\"type\":\"value\",\"value\":0.1},\"hatch_color\":{\"type\":\"value\",\"value\":\"#ecf0f1\"},\"hatch_alpha\":{\"type\":\"value\",\"value\":0.1}}},\"muted_glyph\":{\"type\":\"object\",\"name\":\"HBar\",\"id\":\"p4332\",\"attributes\":{\"y\":{\"type\":\"field\",\"field\":\"term\"},\"left\":{\"type\":\"expr\",\"expr\":{\"id\":\"p4316\"}},\"right\":{\"type\":\"expr\",\"expr\":{\"id\":\"p4317\"}},\"line_color\":{\"type\":\"value\",\"value\":\"#444\"},\"line_alpha\":{\"type\":\"value\",\"value\":0.2},\"line_width\":{\"type\":\"value\",\"value\":0.9},\"fill_color\":{\"type\":\"value\",\"value\":\"#ecf0f1\"},\"fill_alpha\":{\"type\":\"value\",\"value\":0.2},\"hatch_color\":{\"type\":\"value\",\"value\":\"#ecf0f1\"},\"hatch_alpha\":{\"type\":\"value\",\"value\":0.2}}}}},{\"type\":\"object\",\"name\":\"GlyphRenderer\",\"id\":\"p4345\",\"attributes\":{\"name\":\"centre\",\"data_source\":{\"type\":\"object\",\"name\":\"ColumnDataSource\",\"id\":\"p4336\",\"attributes\":{\"selected\":{\"type\":\"object\",\"name\":\"Selection\",\"id\":\"p4337\",\"attributes\":{\"indices\":[],\"line_indices\":[]}},\"selection_policy\":{\"type\":\"object\",\"name\":\"UnionRenderers\",\"id\":\"p4338\"},\"data\":{\"type\":\"map\",\"entries\":[[\"term\",[\"France\",\"d\\u00e9ficit\",\"entreprise\",\"famille\",\"femme\",\"financer\",\"fran\\u00e7ais\",\"gouvernement\",\"loi\",\"majorit\\u00e9\",\"mission\",\"pouvoir\",\"prime\",\"priver\",\"public\",\"ratio\",\"retrait\",\"retraite\",\"r\\u00e9forme\",\"r\\u00e9gime\",\"senior\",\"social\",\"travail\",\"vote\",\"\\u00e2ge\",\"\\u00e9tat\"]],[\"aucun\",[2.7607361963190185,5.913978494623656,2.6373626373626373,2.0408163265306123,2.1739130434782608,2.4390243902439024,3.009259259259259,3.1141868512110724,2.4539877300613497,1.7361111111111112,2.0,2.0050125313283207,2.5773195876288657,4.819277108433735,2.736318407960199,2.638522427440633,2.73972602739726,2.840909090909091,3.061224489795918,2.6252983293556085,2.610966057441253,1.5177065767284992,2.102496714848883,1.7857142857142856,3.293413173652695,4.891304347826087]],[\"centre\",[32.82208588957055,25.26881720430108,31.86813186813187,26.53061224489796,18.695652173913043,32.926829268292686,19.444444444444446,22.837370242214533,31.113058720420685,43.05555555555556,47.5,32.205513784461154,44.84536082474227,24.096385542168676,36.318407960199,30.34300791556728,26.13277133825079,23.75,15.306122448979593,28.878281622911693,31.07049608355091,32.715008431703204,22.601839684625492,30.357142857142858,24.251497005988025,23.3695652173913]],[\"droite\",[20.245398773006137,12.903225806451612,23.956043956043956,36.73469387755102,23.47826086956522,16.46341463414634,19.675925925925924,24.567474048442904,21.034180543383,14.23611111111111,21.0,24.310776942355886,12.88659793814433,18.072289156626507,18.65671641791045,20.052770448548813,20.65331928345627,21.477272727272727,21.08843537414966,20.286396181384248,29.765013054830288,19.73018549747049,20.2365308804205,29.464285714285715,27.84431137724551,23.913043478260867]],[\"gauche\",[44.171779141104295,55.91397849462365,41.53846153846154,34.69387755102041,55.65217391304348,48.170731707317074,57.870370370370374,49.48096885813149,45.39877300613497,40.97222222222222,29.5,41.478696741854634,39.69072164948453,53.01204819277109,42.288557213930346,46.96569920844327,50.47418335089568,51.93181818181818,60.544217687074834,48.21002386634844,36.55352480417755,46.03709949409781,55.059132720105126,38.392857142857146,44.61077844311377,47.82608695652174]]]}}},\"view\":{\"type\":\"object\",\"name\":\"CDSView\",\"id\":\"p4346\",\"attributes\":{\"filter\":{\"type\":\"object\",\"name\":\"AllIndices\",\"id\":\"p4347\"}}},\"glyph\":{\"type\":\"object\",\"name\":\"HBar\",\"id\":\"p4342\",\"attributes\":{\"y\":{\"type\":\"field\",\"field\":\"term\"},\"left\":{\"type\":\"expr\",\"expr\":{\"type\":\"object\",\"name\":\"Stack\",\"id\":\"p4318\",\"attributes\":{\"fields\":[\"aucun\"]}}},\"right\":{\"type\":\"expr\",\"expr\":{\"type\":\"object\",\"name\":\"Stack\",\"id\":\"p4319\",\"attributes\":{\"fields\":[\"aucun\",\"centre\"]}}},\"line_color\":{\"type\":\"value\",\"value\":\"#444\"},\"line_width\":{\"type\":\"value\",\"value\":0.9},\"fill_color\":{\"type\":\"value\",\"value\":\"#f1c40f\"},\"hatch_color\":{\"type\":\"value\",\"value\":\"#f1c40f\"}}},\"nonselection_glyph\":{\"type\":\"object\",\"name\":\"HBar\",\"id\":\"p4343\",\"attributes\":{\"y\":{\"type\":\"field\",\"field\":\"term\"},\"left\":{\"type\":\"expr\",\"expr\":{\"id\":\"p4318\"}},\"right\":{\"type\":\"expr\",\"expr\":{\"id\":\"p4319\"}},\"line_color\":{\"type\":\"value\",\"value\":\"#444\"},\"line_alpha\":{\"type\":\"value\",\"value\":0.1},\"line_width\":{\"type\":\"value\",\"value\":0.9},\"fill_color\":{\"type\":\"value\",\"value\":\"#f1c40f\"},\"fill_alpha\":{\"type\":\"value\",\"value\":0.1},\"hatch_color\":{\"type\":\"value\",\"value\":\"#f1c40f\"},\"hatch_alpha\":{\"type\":\"value\",\"value\":0.1}}},\"muted_glyph\":{\"type\":\"object\",\"name\":\"HBar\",\"id\":\"p4344\",\"attributes\":{\"y\":{\"type\":\"field\",\"field\":\"term\"},\"left\":{\"type\":\"expr\",\"expr\":{\"id\":\"p4318\"}},\"right\":{\"type\":\"expr\",\"expr\":{\"id\":\"p4319\"}},\"line_color\":{\"type\":\"value\",\"value\":\"#444\"},\"line_alpha\":{\"type\":\"value\",\"value\":0.2},\"line_width\":{\"type\":\"value\",\"value\":0.9},\"fill_color\":{\"type\":\"value\",\"value\":\"#f1c40f\"},\"fill_alpha\":{\"type\":\"value\",\"value\":0.2},\"hatch_color\":{\"type\":\"value\",\"value\":\"#f1c40f\"},\"hatch_alpha\":{\"type\":\"value\",\"value\":0.2}}}}},{\"type\":\"object\",\"name\":\"GlyphRenderer\",\"id\":\"p4357\",\"attributes\":{\"name\":\"droite\",\"data_source\":{\"type\":\"object\",\"name\":\"ColumnDataSource\",\"id\":\"p4348\",\"attributes\":{\"selected\":{\"type\":\"object\",\"name\":\"Selection\",\"id\":\"p4349\",\"attributes\":{\"indices\":[],\"line_indices\":[]}},\"selection_policy\":{\"type\":\"object\",\"name\":\"UnionRenderers\",\"id\":\"p4350\"},\"data\":{\"type\":\"map\",\"entries\":[[\"term\",[\"France\",\"d\\u00e9ficit\",\"entreprise\",\"famille\",\"femme\",\"financer\",\"fran\\u00e7ais\",\"gouvernement\",\"loi\",\"majorit\\u00e9\",\"mission\",\"pouvoir\",\"prime\",\"priver\",\"public\",\"ratio\",\"retrait\",\"retraite\",\"r\\u00e9forme\",\"r\\u00e9gime\",\"senior\",\"social\",\"travail\",\"vote\",\"\\u00e2ge\",\"\\u00e9tat\"]],[\"aucun\",[2.7607361963190185,5.913978494623656,2.6373626373626373,2.0408163265306123,2.1739130434782608,2.4390243902439024,3.009259259259259,3.1141868512110724,2.4539877300613497,1.7361111111111112,2.0,2.0050125313283207,2.5773195876288657,4.819277108433735,2.736318407960199,2.638522427440633,2.73972602739726,2.840909090909091,3.061224489795918,2.6252983293556085,2.610966057441253,1.5177065767284992,2.102496714848883,1.7857142857142856,3.293413173652695,4.891304347826087]],[\"centre\",[32.82208588957055,25.26881720430108,31.86813186813187,26.53061224489796,18.695652173913043,32.926829268292686,19.444444444444446,22.837370242214533,31.113058720420685,43.05555555555556,47.5,32.205513784461154,44.84536082474227,24.096385542168676,36.318407960199,30.34300791556728,26.13277133825079,23.75,15.306122448979593,28.878281622911693,31.07049608355091,32.715008431703204,22.601839684625492,30.357142857142858,24.251497005988025,23.3695652173913]],[\"droite\",[20.245398773006137,12.903225806451612,23.956043956043956,36.73469387755102,23.47826086956522,16.46341463414634,19.675925925925924,24.567474048442904,21.034180543383,14.23611111111111,21.0,24.310776942355886,12.88659793814433,18.072289156626507,18.65671641791045,20.052770448548813,20.65331928345627,21.477272727272727,21.08843537414966,20.286396181384248,29.765013054830288,19.73018549747049,20.2365308804205,29.464285714285715,27.84431137724551,23.913043478260867]],[\"gauche\",[44.171779141104295,55.91397849462365,41.53846153846154,34.69387755102041,55.65217391304348,48.170731707317074,57.870370370370374,49.48096885813149,45.39877300613497,40.97222222222222,29.5,41.478696741854634,39.69072164948453,53.01204819277109,42.288557213930346,46.96569920844327,50.47418335089568,51.93181818181818,60.544217687074834,48.21002386634844,36.55352480417755,46.03709949409781,55.059132720105126,38.392857142857146,44.61077844311377,47.82608695652174]]]}}},\"view\":{\"type\":\"object\",\"name\":\"CDSView\",\"id\":\"p4358\",\"attributes\":{\"filter\":{\"type\":\"object\",\"name\":\"AllIndices\",\"id\":\"p4359\"}}},\"glyph\":{\"type\":\"object\",\"name\":\"HBar\",\"id\":\"p4354\",\"attributes\":{\"y\":{\"type\":\"field\",\"field\":\"term\"},\"left\":{\"type\":\"expr\",\"expr\":{\"type\":\"object\",\"name\":\"Stack\",\"id\":\"p4320\",\"attributes\":{\"fields\":[\"aucun\",\"centre\"]}}},\"right\":{\"type\":\"expr\",\"expr\":{\"type\":\"object\",\"name\":\"Stack\",\"id\":\"p4321\",\"attributes\":{\"fields\":[\"aucun\",\"centre\",\"droite\"]}}},\"line_color\":{\"type\":\"value\",\"value\":\"#444\"},\"line_width\":{\"type\":\"value\",\"value\":0.9},\"fill_color\":{\"type\":\"value\",\"value\":\"#3498db\"},\"hatch_color\":{\"type\":\"value\",\"value\":\"#3498db\"}}},\"nonselection_glyph\":{\"type\":\"object\",\"name\":\"HBar\",\"id\":\"p4355\",\"attributes\":{\"y\":{\"type\":\"field\",\"field\":\"term\"},\"left\":{\"type\":\"expr\",\"expr\":{\"id\":\"p4320\"}},\"right\":{\"type\":\"expr\",\"expr\":{\"id\":\"p4321\"}},\"line_color\":{\"type\":\"value\",\"value\":\"#444\"},\"line_alpha\":{\"type\":\"value\",\"value\":0.1},\"line_width\":{\"type\":\"value\",\"value\":0.9},\"fill_color\":{\"type\":\"value\",\"value\":\"#3498db\"},\"fill_alpha\":{\"type\":\"value\",\"value\":0.1},\"hatch_color\":{\"type\":\"value\",\"value\":\"#3498db\"},\"hatch_alpha\":{\"type\":\"value\",\"value\":0.1}}},\"muted_glyph\":{\"type\":\"object\",\"name\":\"HBar\",\"id\":\"p4356\",\"attributes\":{\"y\":{\"type\":\"field\",\"field\":\"term\"},\"left\":{\"type\":\"expr\",\"expr\":{\"id\":\"p4320\"}},\"right\":{\"type\":\"expr\",\"expr\":{\"id\":\"p4321\"}},\"line_color\":{\"type\":\"value\",\"value\":\"#444\"},\"line_alpha\":{\"type\":\"value\",\"value\":0.2},\"line_width\":{\"type\":\"value\",\"value\":0.9},\"fill_color\":{\"type\":\"value\",\"value\":\"#3498db\"},\"fill_alpha\":{\"type\":\"value\",\"value\":0.2},\"hatch_color\":{\"type\":\"value\",\"value\":\"#3498db\"},\"hatch_alpha\":{\"type\":\"value\",\"value\":0.2}}}}},{\"type\":\"object\",\"name\":\"GlyphRenderer\",\"id\":\"p4369\",\"attributes\":{\"name\":\"gauche\",\"data_source\":{\"type\":\"object\",\"name\":\"ColumnDataSource\",\"id\":\"p4360\",\"attributes\":{\"selected\":{\"type\":\"object\",\"name\":\"Selection\",\"id\":\"p4361\",\"attributes\":{\"indices\":[],\"line_indices\":[]}},\"selection_policy\":{\"type\":\"object\",\"name\":\"UnionRenderers\",\"id\":\"p4362\"},\"data\":{\"type\":\"map\",\"entries\":[[\"term\",[\"France\",\"d\\u00e9ficit\",\"entreprise\",\"famille\",\"femme\",\"financer\",\"fran\\u00e7ais\",\"gouvernement\",\"loi\",\"majorit\\u00e9\",\"mission\",\"pouvoir\",\"prime\",\"priver\",\"public\",\"ratio\",\"retrait\",\"retraite\",\"r\\u00e9forme\",\"r\\u00e9gime\",\"senior\",\"social\",\"travail\",\"vote\",\"\\u00e2ge\",\"\\u00e9tat\"]],[\"aucun\",[2.7607361963190185,5.913978494623656,2.6373626373626373,2.0408163265306123,2.1739130434782608,2.4390243902439024,3.009259259259259,3.1141868512110724,2.4539877300613497,1.7361111111111112,2.0,2.0050125313283207,2.5773195876288657,4.819277108433735,2.736318407960199,2.638522427440633,2.73972602739726,2.840909090909091,3.061224489795918,2.6252983293556085,2.610966057441253,1.5177065767284992,2.102496714848883,1.7857142857142856,3.293413173652695,4.891304347826087]],[\"centre\",[32.82208588957055,25.26881720430108,31.86813186813187,26.53061224489796,18.695652173913043,32.926829268292686,19.444444444444446,22.837370242214533,31.113058720420685,43.05555555555556,47.5,32.205513784461154,44.84536082474227,24.096385542168676,36.318407960199,30.34300791556728,26.13277133825079,23.75,15.306122448979593,28.878281622911693,31.07049608355091,32.715008431703204,22.601839684625492,30.357142857142858,24.251497005988025,23.3695652173913]],[\"droite\",[20.245398773006137,12.903225806451612,23.956043956043956,36.73469387755102,23.47826086956522,16.46341463414634,19.675925925925924,24.567474048442904,21.034180543383,14.23611111111111,21.0,24.310776942355886,12.88659793814433,18.072289156626507,18.65671641791045,20.052770448548813,20.65331928345627,21.477272727272727,21.08843537414966,20.286396181384248,29.765013054830288,19.73018549747049,20.2365308804205,29.464285714285715,27.84431137724551,23.913043478260867]],[\"gauche\",[44.171779141104295,55.91397849462365,41.53846153846154,34.69387755102041,55.65217391304348,48.170731707317074,57.870370370370374,49.48096885813149,45.39877300613497,40.97222222222222,29.5,41.478696741854634,39.69072164948453,53.01204819277109,42.288557213930346,46.96569920844327,50.47418335089568,51.93181818181818,60.544217687074834,48.21002386634844,36.55352480417755,46.03709949409781,55.059132720105126,38.392857142857146,44.61077844311377,47.82608695652174]]]}}},\"view\":{\"type\":\"object\",\"name\":\"CDSView\",\"id\":\"p4370\",\"attributes\":{\"filter\":{\"type\":\"object\",\"name\":\"AllIndices\",\"id\":\"p4371\"}}},\"glyph\":{\"type\":\"object\",\"name\":\"HBar\",\"id\":\"p4366\",\"attributes\":{\"y\":{\"type\":\"field\",\"field\":\"term\"},\"left\":{\"type\":\"expr\",\"expr\":{\"type\":\"object\",\"name\":\"Stack\",\"id\":\"p4322\",\"attributes\":{\"fields\":[\"aucun\",\"centre\",\"droite\"]}}},\"right\":{\"type\":\"expr\",\"expr\":{\"type\":\"object\",\"name\":\"Stack\",\"id\":\"p4323\",\"attributes\":{\"fields\":[\"aucun\",\"centre\",\"droite\",\"gauche\"]}}},\"line_color\":{\"type\":\"value\",\"value\":\"#444\"},\"line_width\":{\"type\":\"value\",\"value\":0.9},\"fill_color\":{\"type\":\"value\",\"value\":\"#e74c3c\"},\"hatch_color\":{\"type\":\"value\",\"value\":\"#e74c3c\"}}},\"nonselection_glyph\":{\"type\":\"object\",\"name\":\"HBar\",\"id\":\"p4367\",\"attributes\":{\"y\":{\"type\":\"field\",\"field\":\"term\"},\"left\":{\"type\":\"expr\",\"expr\":{\"id\":\"p4322\"}},\"right\":{\"type\":\"expr\",\"expr\":{\"id\":\"p4323\"}},\"line_color\":{\"type\":\"value\",\"value\":\"#444\"},\"line_alpha\":{\"type\":\"value\",\"value\":0.1},\"line_width\":{\"type\":\"value\",\"value\":0.9},\"fill_color\":{\"type\":\"value\",\"value\":\"#e74c3c\"},\"fill_alpha\":{\"type\":\"value\",\"value\":0.1},\"hatch_color\":{\"type\":\"value\",\"value\":\"#e74c3c\"},\"hatch_alpha\":{\"type\":\"value\",\"value\":0.1}}},\"muted_glyph\":{\"type\":\"object\",\"name\":\"HBar\",\"id\":\"p4368\",\"attributes\":{\"y\":{\"type\":\"field\",\"field\":\"term\"},\"left\":{\"type\":\"expr\",\"expr\":{\"id\":\"p4322\"}},\"right\":{\"type\":\"expr\",\"expr\":{\"id\":\"p4323\"}},\"line_color\":{\"type\":\"value\",\"value\":\"#444\"},\"line_alpha\":{\"type\":\"value\",\"value\":0.2},\"line_width\":{\"type\":\"value\",\"value\":0.9},\"fill_color\":{\"type\":\"value\",\"value\":\"#e74c3c\"},\"fill_alpha\":{\"type\":\"value\",\"value\":0.2},\"hatch_color\":{\"type\":\"value\",\"value\":\"#e74c3c\"},\"hatch_alpha\":{\"type\":\"value\",\"value\":0.2}}}}}],\"toolbar\":{\"type\":\"object\",\"name\":\"Toolbar\",\"id\":\"p4289\",\"attributes\":{\"tools\":[{\"type\":\"object\",\"name\":\"HoverTool\",\"id\":\"p4313\",\"attributes\":{\"renderers\":\"auto\",\"tooltips\":\"@term($name) = @$name%\"}}]}},\"toolbar_location\":\"above\",\"left\":[{\"type\":\"object\",\"name\":\"CategoricalAxis\",\"id\":\"p4307\",\"attributes\":{\"ticker\":{\"type\":\"object\",\"name\":\"CategoricalTicker\",\"id\":\"p4308\"},\"formatter\":{\"type\":\"object\",\"name\":\"CategoricalTickFormatter\",\"id\":\"p4310\"},\"major_label_policy\":{\"type\":\"object\",\"name\":\"AllLabels\",\"id\":\"p4309\"}}}],\"right\":[{\"type\":\"object\",\"name\":\"Legend\",\"id\":\"p4372\",\"attributes\":{\"location\":\"center\",\"items\":[{\"type\":\"object\",\"name\":\"LegendItem\",\"id\":\"p4373\",\"attributes\":{\"label\":{\"type\":\"value\",\"value\":\"aucun\"},\"renderers\":[{\"id\":\"p4333\"}]}},{\"type\":\"object\",\"name\":\"LegendItem\",\"id\":\"p4374\",\"attributes\":{\"label\":{\"type\":\"value\",\"value\":\"centre\"},\"renderers\":[{\"id\":\"p4345\"}]}},{\"type\":\"object\",\"name\":\"LegendItem\",\"id\":\"p4375\",\"attributes\":{\"label\":{\"type\":\"value\",\"value\":\"droite\"},\"renderers\":[{\"id\":\"p4357\"}]}},{\"type\":\"object\",\"name\":\"LegendItem\",\"id\":\"p4376\",\"attributes\":{\"label\":{\"type\":\"value\",\"value\":\"gauche\"},\"renderers\":[{\"id\":\"p4369\"}]}}]}}],\"below\":[{\"type\":\"object\",\"name\":\"LinearAxis\",\"id\":\"p4300\",\"attributes\":{\"ticker\":{\"type\":\"object\",\"name\":\"BasicTicker\",\"id\":\"p4301\",\"attributes\":{\"mantissas\":[1,2,5]}},\"formatter\":{\"type\":\"object\",\"name\":\"BasicTickFormatter\",\"id\":\"p4303\"},\"major_label_policy\":{\"type\":\"object\",\"name\":\"AllLabels\",\"id\":\"p4302\"}}}],\"center\":[{\"type\":\"object\",\"name\":\"Grid\",\"id\":\"p4306\",\"attributes\":{\"axis\":{\"id\":\"p4300\"},\"grid_line_color\":null}},{\"type\":\"object\",\"name\":\"Grid\",\"id\":\"p4312\",\"attributes\":{\"dimension\":1,\"axis\":{\"id\":\"p4307\"}}}]}}}},{\"type\":\"object\",\"name\":\"TabPanel\",\"id\":\"p4473\",\"attributes\":{\"title\":\"2 mots\",\"child\":{\"type\":\"object\",\"name\":\"Figure\",\"id\":\"p4378\",\"attributes\":{\"sizing_mode\":\"stretch_width\",\"x_range\":{\"type\":\"object\",\"name\":\"DataRange1d\",\"id\":\"p4380\",\"attributes\":{\"start\":0,\"end\":100}},\"y_range\":{\"type\":\"object\",\"name\":\"FactorRange\",\"id\":\"p4390\",\"attributes\":{\"factors\":[\"55 an\",\"60 an\",\"64 an\",\"article 10\",\"article 100\",\"article 2\",\"article 7\",\"article 70\",\"assurance vieilles\",\"carri\\u00e8re complet\",\"carri\\u00e8re hach\\u00e9\",\"carri\\u00e8re long\",\"classe moyen\",\"cotisation social\",\"dette public\",\"d\\u00e9bat d\\u00e9mocratique\",\"finance public\",\"fonction public\",\"index senior\",\"index seniors\",\"justice social\",\"majorit\\u00e9 absolu\",\"mod\\u00e8le social\",\"motion r\\u00e9f\\u00e9rendaire\",\"organisation syndical\",\"partenaire social\",\"petit entreprise\",\"rapporteure g\\u00e9n\\u00e9ral\",\"repr\\u00e9sentation national\",\"r\\u00e9gime g\\u00e9n\\u00e9ral\",\"r\\u00e9gime sp\\u00e9cial\",\"salari\\u00e9 \\u00e2g\\u00e9\",\"scrutin public\",\"secteur priver\",\"service public\",\"s\\u00e9curit\\u00e9 social\",\"\\u00e2ge l\\u00e9gal\",\"\\u00e9galit\\u00e9 salarial\"]}},\"x_scale\":{\"type\":\"object\",\"name\":\"LinearScale\",\"id\":\"p4392\"},\"y_scale\":{\"type\":\"object\",\"name\":\"CategoricalScale\",\"id\":\"p4394\"},\"title\":{\"type\":\"object\",\"name\":\"Title\",\"id\":\"p4381\",\"attributes\":{\"text\":\"Distribution des occurrences de top mots-cl\\u00e9s\"}},\"renderers\":[{\"type\":\"object\",\"name\":\"GlyphRenderer\",\"id\":\"p4429\",\"attributes\":{\"name\":\"aucun\",\"data_source\":{\"type\":\"object\",\"name\":\"ColumnDataSource\",\"id\":\"p4420\",\"attributes\":{\"selected\":{\"type\":\"object\",\"name\":\"Selection\",\"id\":\"p4421\",\"attributes\":{\"indices\":[],\"line_indices\":[]}},\"selection_policy\":{\"type\":\"object\",\"name\":\"UnionRenderers\",\"id\":\"p4422\"},\"data\":{\"type\":\"map\",\"entries\":[[\"term\",[\"55 an\",\"60 an\",\"64 an\",\"article 10\",\"article 100\",\"article 2\",\"article 7\",\"article 70\",\"assurance vieilles\",\"carri\\u00e8re complet\",\"carri\\u00e8re hach\\u00e9\",\"carri\\u00e8re long\",\"classe moyen\",\"cotisation social\",\"dette public\",\"d\\u00e9bat d\\u00e9mocratique\",\"finance public\",\"fonction public\",\"index senior\",\"index seniors\",\"justice social\",\"majorit\\u00e9 absolu\",\"mod\\u00e8le social\",\"motion r\\u00e9f\\u00e9rendaire\",\"organisation syndical\",\"partenaire social\",\"petit entreprise\",\"rapporteure g\\u00e9n\\u00e9ral\",\"repr\\u00e9sentation national\",\"r\\u00e9gime g\\u00e9n\\u00e9ral\",\"r\\u00e9gime sp\\u00e9cial\",\"salari\\u00e9 \\u00e2g\\u00e9\",\"scrutin public\",\"secteur priver\",\"service public\",\"s\\u00e9curit\\u00e9 social\",\"\\u00e2ge l\\u00e9gal\",\"\\u00e9galit\\u00e9 salarial\"]],[\"aucun\",[6.0,3.508771929824561,4.929577464788732,1.0869565217391304,1.3513513513513513,3.2520325203252036,2.7522935779816518,2.631578947368421,4.651162790697675,2.857142857142857,0,0,0,0,50.0,0,5.555555555555555,8.823529411764707,2.051282051282051,1.0204081632653061,1.9607843137254901,0,8.333333333333332,20.0,0,0,0,0,4.878048780487805,1.2987012987012987,1.342281879194631,3.7037037037037033,0,0,4.081632653061225,1.910828025477707,5.660377358490567,0]],[\"centre\",[20.0,11.403508771929824,14.788732394366198,32.608695652173914,28.37837837837838,27.64227642276423,34.86238532110092,28.94736842105263,46.51162790697674,28.571428571428573,24.999999999999996,25.0,40.90909090909091,15.15151515151515,16.666666666666664,60.0,36.11111111111111,26.470588235294116,32.30769230769231,25.510204081632654,13.725490196078432,100.0,62.5,10.0,24.137931034482758,58.333333333333336,25.925925925925924,55.68181818181818,9.75609756097561,36.36363636363636,25.503355704697988,22.22222222222222,90.21739130434783,23.80952380952381,12.244897959183673,33.75796178343949,19.81132075471698,15.625]],[\"droite\",[38.0,17.543859649122805,20.422535211267604,20.652173913043477,20.27027027027027,27.642276422764226,22.935779816513765,13.157894736842104,11.627906976744187,22.857142857142858,41.666666666666664,31.25,27.272727272727273,16.666666666666668,16.666666666666664,0,27.77777777777778,26.470588235294116,25.128205128205124,30.612244897959183,25.490196078431374,0,20.83333333333333,50.0,6.896551724137931,22.222222222222225,48.148148148148145,22.727272727272727,29.26829268292683,15.584415584415583,21.812080536912752,59.25925925925925,2.1739130434782608,23.80952380952381,14.285714285714285,22.29299363057325,24.528301886792455,0]],[\"gauche\",[36.0,67.54385964912281,59.859154929577464,45.652173913043484,50.0,41.46341463414634,39.44954128440367,55.26315789473684,37.2093023255814,45.714285714285715,33.33333333333333,43.75,31.81818181818182,68.18181818181819,16.666666666666664,40.0,30.55555555555555,38.23529411764706,40.51282051282051,42.85714285714286,58.8235294117647,0,8.333333333333332,20.0,68.9655172413793,19.444444444444443,25.925925925925924,21.59090909090909,56.09756097560975,46.75324675324675,51.34228187919463,14.814814814814813,7.608695652173912,52.38095238095238,69.38775510204081,42.038216560509554,50.0,84.375]]]}}},\"view\":{\"type\":\"object\",\"name\":\"CDSView\",\"id\":\"p4430\",\"attributes\":{\"filter\":{\"type\":\"object\",\"name\":\"AllIndices\",\"id\":\"p4431\"}}},\"glyph\":{\"type\":\"object\",\"name\":\"HBar\",\"id\":\"p4426\",\"attributes\":{\"y\":{\"type\":\"field\",\"field\":\"term\"},\"left\":{\"type\":\"expr\",\"expr\":{\"type\":\"object\",\"name\":\"Stack\",\"id\":\"p4412\",\"attributes\":{\"fields\":[]}}},\"right\":{\"type\":\"expr\",\"expr\":{\"type\":\"object\",\"name\":\"Stack\",\"id\":\"p4413\",\"attributes\":{\"fields\":[\"aucun\"]}}},\"line_color\":{\"type\":\"value\",\"value\":\"#444\"},\"line_width\":{\"type\":\"value\",\"value\":0.9},\"fill_color\":{\"type\":\"value\",\"value\":\"#ecf0f1\"},\"hatch_color\":{\"type\":\"value\",\"value\":\"#ecf0f1\"}}},\"nonselection_glyph\":{\"type\":\"object\",\"name\":\"HBar\",\"id\":\"p4427\",\"attributes\":{\"y\":{\"type\":\"field\",\"field\":\"term\"},\"left\":{\"type\":\"expr\",\"expr\":{\"id\":\"p4412\"}},\"right\":{\"type\":\"expr\",\"expr\":{\"id\":\"p4413\"}},\"line_color\":{\"type\":\"value\",\"value\":\"#444\"},\"line_alpha\":{\"type\":\"value\",\"value\":0.1},\"line_width\":{\"type\":\"value\",\"value\":0.9},\"fill_color\":{\"type\":\"value\",\"value\":\"#ecf0f1\"},\"fill_alpha\":{\"type\":\"value\",\"value\":0.1},\"hatch_color\":{\"type\":\"value\",\"value\":\"#ecf0f1\"},\"hatch_alpha\":{\"type\":\"value\",\"value\":0.1}}},\"muted_glyph\":{\"type\":\"object\",\"name\":\"HBar\",\"id\":\"p4428\",\"attributes\":{\"y\":{\"type\":\"field\",\"field\":\"term\"},\"left\":{\"type\":\"expr\",\"expr\":{\"id\":\"p4412\"}},\"right\":{\"type\":\"expr\",\"expr\":{\"id\":\"p4413\"}},\"line_color\":{\"type\":\"value\",\"value\":\"#444\"},\"line_alpha\":{\"type\":\"value\",\"value\":0.2},\"line_width\":{\"type\":\"value\",\"value\":0.9},\"fill_color\":{\"type\":\"value\",\"value\":\"#ecf0f1\"},\"fill_alpha\":{\"type\":\"value\",\"value\":0.2},\"hatch_color\":{\"type\":\"value\",\"value\":\"#ecf0f1\"},\"hatch_alpha\":{\"type\":\"value\",\"value\":0.2}}}}},{\"type\":\"object\",\"name\":\"GlyphRenderer\",\"id\":\"p4441\",\"attributes\":{\"name\":\"centre\",\"data_source\":{\"type\":\"object\",\"name\":\"ColumnDataSource\",\"id\":\"p4432\",\"attributes\":{\"selected\":{\"type\":\"object\",\"name\":\"Selection\",\"id\":\"p4433\",\"attributes\":{\"indices\":[],\"line_indices\":[]}},\"selection_policy\":{\"type\":\"object\",\"name\":\"UnionRenderers\",\"id\":\"p4434\"},\"data\":{\"type\":\"map\",\"entries\":[[\"term\",[\"55 an\",\"60 an\",\"64 an\",\"article 10\",\"article 100\",\"article 2\",\"article 7\",\"article 70\",\"assurance vieilles\",\"carri\\u00e8re complet\",\"carri\\u00e8re hach\\u00e9\",\"carri\\u00e8re long\",\"classe moyen\",\"cotisation social\",\"dette public\",\"d\\u00e9bat d\\u00e9mocratique\",\"finance public\",\"fonction public\",\"index senior\",\"index seniors\",\"justice social\",\"majorit\\u00e9 absolu\",\"mod\\u00e8le social\",\"motion r\\u00e9f\\u00e9rendaire\",\"organisation syndical\",\"partenaire social\",\"petit entreprise\",\"rapporteure g\\u00e9n\\u00e9ral\",\"repr\\u00e9sentation national\",\"r\\u00e9gime g\\u00e9n\\u00e9ral\",\"r\\u00e9gime sp\\u00e9cial\",\"salari\\u00e9 \\u00e2g\\u00e9\",\"scrutin public\",\"secteur priver\",\"service public\",\"s\\u00e9curit\\u00e9 social\",\"\\u00e2ge l\\u00e9gal\",\"\\u00e9galit\\u00e9 salarial\"]],[\"aucun\",[6.0,3.508771929824561,4.929577464788732,1.0869565217391304,1.3513513513513513,3.2520325203252036,2.7522935779816518,2.631578947368421,4.651162790697675,2.857142857142857,0,0,0,0,50.0,0,5.555555555555555,8.823529411764707,2.051282051282051,1.0204081632653061,1.9607843137254901,0,8.333333333333332,20.0,0,0,0,0,4.878048780487805,1.2987012987012987,1.342281879194631,3.7037037037037033,0,0,4.081632653061225,1.910828025477707,5.660377358490567,0]],[\"centre\",[20.0,11.403508771929824,14.788732394366198,32.608695652173914,28.37837837837838,27.64227642276423,34.86238532110092,28.94736842105263,46.51162790697674,28.571428571428573,24.999999999999996,25.0,40.90909090909091,15.15151515151515,16.666666666666664,60.0,36.11111111111111,26.470588235294116,32.30769230769231,25.510204081632654,13.725490196078432,100.0,62.5,10.0,24.137931034482758,58.333333333333336,25.925925925925924,55.68181818181818,9.75609756097561,36.36363636363636,25.503355704697988,22.22222222222222,90.21739130434783,23.80952380952381,12.244897959183673,33.75796178343949,19.81132075471698,15.625]],[\"droite\",[38.0,17.543859649122805,20.422535211267604,20.652173913043477,20.27027027027027,27.642276422764226,22.935779816513765,13.157894736842104,11.627906976744187,22.857142857142858,41.666666666666664,31.25,27.272727272727273,16.666666666666668,16.666666666666664,0,27.77777777777778,26.470588235294116,25.128205128205124,30.612244897959183,25.490196078431374,0,20.83333333333333,50.0,6.896551724137931,22.222222222222225,48.148148148148145,22.727272727272727,29.26829268292683,15.584415584415583,21.812080536912752,59.25925925925925,2.1739130434782608,23.80952380952381,14.285714285714285,22.29299363057325,24.528301886792455,0]],[\"gauche\",[36.0,67.54385964912281,59.859154929577464,45.652173913043484,50.0,41.46341463414634,39.44954128440367,55.26315789473684,37.2093023255814,45.714285714285715,33.33333333333333,43.75,31.81818181818182,68.18181818181819,16.666666666666664,40.0,30.55555555555555,38.23529411764706,40.51282051282051,42.85714285714286,58.8235294117647,0,8.333333333333332,20.0,68.9655172413793,19.444444444444443,25.925925925925924,21.59090909090909,56.09756097560975,46.75324675324675,51.34228187919463,14.814814814814813,7.608695652173912,52.38095238095238,69.38775510204081,42.038216560509554,50.0,84.375]]]}}},\"view\":{\"type\":\"object\",\"name\":\"CDSView\",\"id\":\"p4442\",\"attributes\":{\"filter\":{\"type\":\"object\",\"name\":\"AllIndices\",\"id\":\"p4443\"}}},\"glyph\":{\"type\":\"object\",\"name\":\"HBar\",\"id\":\"p4438\",\"attributes\":{\"y\":{\"type\":\"field\",\"field\":\"term\"},\"left\":{\"type\":\"expr\",\"expr\":{\"type\":\"object\",\"name\":\"Stack\",\"id\":\"p4414\",\"attributes\":{\"fields\":[\"aucun\"]}}},\"right\":{\"type\":\"expr\",\"expr\":{\"type\":\"object\",\"name\":\"Stack\",\"id\":\"p4415\",\"attributes\":{\"fields\":[\"aucun\",\"centre\"]}}},\"line_color\":{\"type\":\"value\",\"value\":\"#444\"},\"line_width\":{\"type\":\"value\",\"value\":0.9},\"fill_color\":{\"type\":\"value\",\"value\":\"#f1c40f\"},\"hatch_color\":{\"type\":\"value\",\"value\":\"#f1c40f\"}}},\"nonselection_glyph\":{\"type\":\"object\",\"name\":\"HBar\",\"id\":\"p4439\",\"attributes\":{\"y\":{\"type\":\"field\",\"field\":\"term\"},\"left\":{\"type\":\"expr\",\"expr\":{\"id\":\"p4414\"}},\"right\":{\"type\":\"expr\",\"expr\":{\"id\":\"p4415\"}},\"line_color\":{\"type\":\"value\",\"value\":\"#444\"},\"line_alpha\":{\"type\":\"value\",\"value\":0.1},\"line_width\":{\"type\":\"value\",\"value\":0.9},\"fill_color\":{\"type\":\"value\",\"value\":\"#f1c40f\"},\"fill_alpha\":{\"type\":\"value\",\"value\":0.1},\"hatch_color\":{\"type\":\"value\",\"value\":\"#f1c40f\"},\"hatch_alpha\":{\"type\":\"value\",\"value\":0.1}}},\"muted_glyph\":{\"type\":\"object\",\"name\":\"HBar\",\"id\":\"p4440\",\"attributes\":{\"y\":{\"type\":\"field\",\"field\":\"term\"},\"left\":{\"type\":\"expr\",\"expr\":{\"id\":\"p4414\"}},\"right\":{\"type\":\"expr\",\"expr\":{\"id\":\"p4415\"}},\"line_color\":{\"type\":\"value\",\"value\":\"#444\"},\"line_alpha\":{\"type\":\"value\",\"value\":0.2},\"line_width\":{\"type\":\"value\",\"value\":0.9},\"fill_color\":{\"type\":\"value\",\"value\":\"#f1c40f\"},\"fill_alpha\":{\"type\":\"value\",\"value\":0.2},\"hatch_color\":{\"type\":\"value\",\"value\":\"#f1c40f\"},\"hatch_alpha\":{\"type\":\"value\",\"value\":0.2}}}}},{\"type\":\"object\",\"name\":\"GlyphRenderer\",\"id\":\"p4453\",\"attributes\":{\"name\":\"droite\",\"data_source\":{\"type\":\"object\",\"name\":\"ColumnDataSource\",\"id\":\"p4444\",\"attributes\":{\"selected\":{\"type\":\"object\",\"name\":\"Selection\",\"id\":\"p4445\",\"attributes\":{\"indices\":[],\"line_indices\":[]}},\"selection_policy\":{\"type\":\"object\",\"name\":\"UnionRenderers\",\"id\":\"p4446\"},\"data\":{\"type\":\"map\",\"entries\":[[\"term\",[\"55 an\",\"60 an\",\"64 an\",\"article 10\",\"article 100\",\"article 2\",\"article 7\",\"article 70\",\"assurance vieilles\",\"carri\\u00e8re complet\",\"carri\\u00e8re hach\\u00e9\",\"carri\\u00e8re long\",\"classe moyen\",\"cotisation social\",\"dette public\",\"d\\u00e9bat d\\u00e9mocratique\",\"finance public\",\"fonction public\",\"index senior\",\"index seniors\",\"justice social\",\"majorit\\u00e9 absolu\",\"mod\\u00e8le social\",\"motion r\\u00e9f\\u00e9rendaire\",\"organisation syndical\",\"partenaire social\",\"petit entreprise\",\"rapporteure g\\u00e9n\\u00e9ral\",\"repr\\u00e9sentation national\",\"r\\u00e9gime g\\u00e9n\\u00e9ral\",\"r\\u00e9gime sp\\u00e9cial\",\"salari\\u00e9 \\u00e2g\\u00e9\",\"scrutin public\",\"secteur priver\",\"service public\",\"s\\u00e9curit\\u00e9 social\",\"\\u00e2ge l\\u00e9gal\",\"\\u00e9galit\\u00e9 salarial\"]],[\"aucun\",[6.0,3.508771929824561,4.929577464788732,1.0869565217391304,1.3513513513513513,3.2520325203252036,2.7522935779816518,2.631578947368421,4.651162790697675,2.857142857142857,0,0,0,0,50.0,0,5.555555555555555,8.823529411764707,2.051282051282051,1.0204081632653061,1.9607843137254901,0,8.333333333333332,20.0,0,0,0,0,4.878048780487805,1.2987012987012987,1.342281879194631,3.7037037037037033,0,0,4.081632653061225,1.910828025477707,5.660377358490567,0]],[\"centre\",[20.0,11.403508771929824,14.788732394366198,32.608695652173914,28.37837837837838,27.64227642276423,34.86238532110092,28.94736842105263,46.51162790697674,28.571428571428573,24.999999999999996,25.0,40.90909090909091,15.15151515151515,16.666666666666664,60.0,36.11111111111111,26.470588235294116,32.30769230769231,25.510204081632654,13.725490196078432,100.0,62.5,10.0,24.137931034482758,58.333333333333336,25.925925925925924,55.68181818181818,9.75609756097561,36.36363636363636,25.503355704697988,22.22222222222222,90.21739130434783,23.80952380952381,12.244897959183673,33.75796178343949,19.81132075471698,15.625]],[\"droite\",[38.0,17.543859649122805,20.422535211267604,20.652173913043477,20.27027027027027,27.642276422764226,22.935779816513765,13.157894736842104,11.627906976744187,22.857142857142858,41.666666666666664,31.25,27.272727272727273,16.666666666666668,16.666666666666664,0,27.77777777777778,26.470588235294116,25.128205128205124,30.612244897959183,25.490196078431374,0,20.83333333333333,50.0,6.896551724137931,22.222222222222225,48.148148148148145,22.727272727272727,29.26829268292683,15.584415584415583,21.812080536912752,59.25925925925925,2.1739130434782608,23.80952380952381,14.285714285714285,22.29299363057325,24.528301886792455,0]],[\"gauche\",[36.0,67.54385964912281,59.859154929577464,45.652173913043484,50.0,41.46341463414634,39.44954128440367,55.26315789473684,37.2093023255814,45.714285714285715,33.33333333333333,43.75,31.81818181818182,68.18181818181819,16.666666666666664,40.0,30.55555555555555,38.23529411764706,40.51282051282051,42.85714285714286,58.8235294117647,0,8.333333333333332,20.0,68.9655172413793,19.444444444444443,25.925925925925924,21.59090909090909,56.09756097560975,46.75324675324675,51.34228187919463,14.814814814814813,7.608695652173912,52.38095238095238,69.38775510204081,42.038216560509554,50.0,84.375]]]}}},\"view\":{\"type\":\"object\",\"name\":\"CDSView\",\"id\":\"p4454\",\"attributes\":{\"filter\":{\"type\":\"object\",\"name\":\"AllIndices\",\"id\":\"p4455\"}}},\"glyph\":{\"type\":\"object\",\"name\":\"HBar\",\"id\":\"p4450\",\"attributes\":{\"y\":{\"type\":\"field\",\"field\":\"term\"},\"left\":{\"type\":\"expr\",\"expr\":{\"type\":\"object\",\"name\":\"Stack\",\"id\":\"p4416\",\"attributes\":{\"fields\":[\"aucun\",\"centre\"]}}},\"right\":{\"type\":\"expr\",\"expr\":{\"type\":\"object\",\"name\":\"Stack\",\"id\":\"p4417\",\"attributes\":{\"fields\":[\"aucun\",\"centre\",\"droite\"]}}},\"line_color\":{\"type\":\"value\",\"value\":\"#444\"},\"line_width\":{\"type\":\"value\",\"value\":0.9},\"fill_color\":{\"type\":\"value\",\"value\":\"#3498db\"},\"hatch_color\":{\"type\":\"value\",\"value\":\"#3498db\"}}},\"nonselection_glyph\":{\"type\":\"object\",\"name\":\"HBar\",\"id\":\"p4451\",\"attributes\":{\"y\":{\"type\":\"field\",\"field\":\"term\"},\"left\":{\"type\":\"expr\",\"expr\":{\"id\":\"p4416\"}},\"right\":{\"type\":\"expr\",\"expr\":{\"id\":\"p4417\"}},\"line_color\":{\"type\":\"value\",\"value\":\"#444\"},\"line_alpha\":{\"type\":\"value\",\"value\":0.1},\"line_width\":{\"type\":\"value\",\"value\":0.9},\"fill_color\":{\"type\":\"value\",\"value\":\"#3498db\"},\"fill_alpha\":{\"type\":\"value\",\"value\":0.1},\"hatch_color\":{\"type\":\"value\",\"value\":\"#3498db\"},\"hatch_alpha\":{\"type\":\"value\",\"value\":0.1}}},\"muted_glyph\":{\"type\":\"object\",\"name\":\"HBar\",\"id\":\"p4452\",\"attributes\":{\"y\":{\"type\":\"field\",\"field\":\"term\"},\"left\":{\"type\":\"expr\",\"expr\":{\"id\":\"p4416\"}},\"right\":{\"type\":\"expr\",\"expr\":{\"id\":\"p4417\"}},\"line_color\":{\"type\":\"value\",\"value\":\"#444\"},\"line_alpha\":{\"type\":\"value\",\"value\":0.2},\"line_width\":{\"type\":\"value\",\"value\":0.9},\"fill_color\":{\"type\":\"value\",\"value\":\"#3498db\"},\"fill_alpha\":{\"type\":\"value\",\"value\":0.2},\"hatch_color\":{\"type\":\"value\",\"value\":\"#3498db\"},\"hatch_alpha\":{\"type\":\"value\",\"value\":0.2}}}}},{\"type\":\"object\",\"name\":\"GlyphRenderer\",\"id\":\"p4465\",\"attributes\":{\"name\":\"gauche\",\"data_source\":{\"type\":\"object\",\"name\":\"ColumnDataSource\",\"id\":\"p4456\",\"attributes\":{\"selected\":{\"type\":\"object\",\"name\":\"Selection\",\"id\":\"p4457\",\"attributes\":{\"indices\":[],\"line_indices\":[]}},\"selection_policy\":{\"type\":\"object\",\"name\":\"UnionRenderers\",\"id\":\"p4458\"},\"data\":{\"type\":\"map\",\"entries\":[[\"term\",[\"55 an\",\"60 an\",\"64 an\",\"article 10\",\"article 100\",\"article 2\",\"article 7\",\"article 70\",\"assurance vieilles\",\"carri\\u00e8re complet\",\"carri\\u00e8re hach\\u00e9\",\"carri\\u00e8re long\",\"classe moyen\",\"cotisation social\",\"dette public\",\"d\\u00e9bat d\\u00e9mocratique\",\"finance public\",\"fonction public\",\"index senior\",\"index seniors\",\"justice social\",\"majorit\\u00e9 absolu\",\"mod\\u00e8le social\",\"motion r\\u00e9f\\u00e9rendaire\",\"organisation syndical\",\"partenaire social\",\"petit entreprise\",\"rapporteure g\\u00e9n\\u00e9ral\",\"repr\\u00e9sentation national\",\"r\\u00e9gime g\\u00e9n\\u00e9ral\",\"r\\u00e9gime sp\\u00e9cial\",\"salari\\u00e9 \\u00e2g\\u00e9\",\"scrutin public\",\"secteur priver\",\"service public\",\"s\\u00e9curit\\u00e9 social\",\"\\u00e2ge l\\u00e9gal\",\"\\u00e9galit\\u00e9 salarial\"]],[\"aucun\",[6.0,3.508771929824561,4.929577464788732,1.0869565217391304,1.3513513513513513,3.2520325203252036,2.7522935779816518,2.631578947368421,4.651162790697675,2.857142857142857,0,0,0,0,50.0,0,5.555555555555555,8.823529411764707,2.051282051282051,1.0204081632653061,1.9607843137254901,0,8.333333333333332,20.0,0,0,0,0,4.878048780487805,1.2987012987012987,1.342281879194631,3.7037037037037033,0,0,4.081632653061225,1.910828025477707,5.660377358490567,0]],[\"centre\",[20.0,11.403508771929824,14.788732394366198,32.608695652173914,28.37837837837838,27.64227642276423,34.86238532110092,28.94736842105263,46.51162790697674,28.571428571428573,24.999999999999996,25.0,40.90909090909091,15.15151515151515,16.666666666666664,60.0,36.11111111111111,26.470588235294116,32.30769230769231,25.510204081632654,13.725490196078432,100.0,62.5,10.0,24.137931034482758,58.333333333333336,25.925925925925924,55.68181818181818,9.75609756097561,36.36363636363636,25.503355704697988,22.22222222222222,90.21739130434783,23.80952380952381,12.244897959183673,33.75796178343949,19.81132075471698,15.625]],[\"droite\",[38.0,17.543859649122805,20.422535211267604,20.652173913043477,20.27027027027027,27.642276422764226,22.935779816513765,13.157894736842104,11.627906976744187,22.857142857142858,41.666666666666664,31.25,27.272727272727273,16.666666666666668,16.666666666666664,0,27.77777777777778,26.470588235294116,25.128205128205124,30.612244897959183,25.490196078431374,0,20.83333333333333,50.0,6.896551724137931,22.222222222222225,48.148148148148145,22.727272727272727,29.26829268292683,15.584415584415583,21.812080536912752,59.25925925925925,2.1739130434782608,23.80952380952381,14.285714285714285,22.29299363057325,24.528301886792455,0]],[\"gauche\",[36.0,67.54385964912281,59.859154929577464,45.652173913043484,50.0,41.46341463414634,39.44954128440367,55.26315789473684,37.2093023255814,45.714285714285715,33.33333333333333,43.75,31.81818181818182,68.18181818181819,16.666666666666664,40.0,30.55555555555555,38.23529411764706,40.51282051282051,42.85714285714286,58.8235294117647,0,8.333333333333332,20.0,68.9655172413793,19.444444444444443,25.925925925925924,21.59090909090909,56.09756097560975,46.75324675324675,51.34228187919463,14.814814814814813,7.608695652173912,52.38095238095238,69.38775510204081,42.038216560509554,50.0,84.375]]]}}},\"view\":{\"type\":\"object\",\"name\":\"CDSView\",\"id\":\"p4466\",\"attributes\":{\"filter\":{\"type\":\"object\",\"name\":\"AllIndices\",\"id\":\"p4467\"}}},\"glyph\":{\"type\":\"object\",\"name\":\"HBar\",\"id\":\"p4462\",\"attributes\":{\"y\":{\"type\":\"field\",\"field\":\"term\"},\"left\":{\"type\":\"expr\",\"expr\":{\"type\":\"object\",\"name\":\"Stack\",\"id\":\"p4418\",\"attributes\":{\"fields\":[\"aucun\",\"centre\",\"droite\"]}}},\"right\":{\"type\":\"expr\",\"expr\":{\"type\":\"object\",\"name\":\"Stack\",\"id\":\"p4419\",\"attributes\":{\"fields\":[\"aucun\",\"centre\",\"droite\",\"gauche\"]}}},\"line_color\":{\"type\":\"value\",\"value\":\"#444\"},\"line_width\":{\"type\":\"value\",\"value\":0.9},\"fill_color\":{\"type\":\"value\",\"value\":\"#e74c3c\"},\"hatch_color\":{\"type\":\"value\",\"value\":\"#e74c3c\"}}},\"nonselection_glyph\":{\"type\":\"object\",\"name\":\"HBar\",\"id\":\"p4463\",\"attributes\":{\"y\":{\"type\":\"field\",\"field\":\"term\"},\"left\":{\"type\":\"expr\",\"expr\":{\"id\":\"p4418\"}},\"right\":{\"type\":\"expr\",\"expr\":{\"id\":\"p4419\"}},\"line_color\":{\"type\":\"value\",\"value\":\"#444\"},\"line_alpha\":{\"type\":\"value\",\"value\":0.1},\"line_width\":{\"type\":\"value\",\"value\":0.9},\"fill_color\":{\"type\":\"value\",\"value\":\"#e74c3c\"},\"fill_alpha\":{\"type\":\"value\",\"value\":0.1},\"hatch_color\":{\"type\":\"value\",\"value\":\"#e74c3c\"},\"hatch_alpha\":{\"type\":\"value\",\"value\":0.1}}},\"muted_glyph\":{\"type\":\"object\",\"name\":\"HBar\",\"id\":\"p4464\",\"attributes\":{\"y\":{\"type\":\"field\",\"field\":\"term\"},\"left\":{\"type\":\"expr\",\"expr\":{\"id\":\"p4418\"}},\"right\":{\"type\":\"expr\",\"expr\":{\"id\":\"p4419\"}},\"line_color\":{\"type\":\"value\",\"value\":\"#444\"},\"line_alpha\":{\"type\":\"value\",\"value\":0.2},\"line_width\":{\"type\":\"value\",\"value\":0.9},\"fill_color\":{\"type\":\"value\",\"value\":\"#e74c3c\"},\"fill_alpha\":{\"type\":\"value\",\"value\":0.2},\"hatch_color\":{\"type\":\"value\",\"value\":\"#e74c3c\"},\"hatch_alpha\":{\"type\":\"value\",\"value\":0.2}}}}}],\"toolbar\":{\"type\":\"object\",\"name\":\"Toolbar\",\"id\":\"p4385\",\"attributes\":{\"tools\":[{\"type\":\"object\",\"name\":\"HoverTool\",\"id\":\"p4409\",\"attributes\":{\"renderers\":\"auto\",\"tooltips\":\"@term($name) = @$name%\"}}]}},\"toolbar_location\":\"above\",\"left\":[{\"type\":\"object\",\"name\":\"CategoricalAxis\",\"id\":\"p4403\",\"attributes\":{\"ticker\":{\"type\":\"object\",\"name\":\"CategoricalTicker\",\"id\":\"p4404\"},\"formatter\":{\"type\":\"object\",\"name\":\"CategoricalTickFormatter\",\"id\":\"p4406\"},\"major_label_policy\":{\"type\":\"object\",\"name\":\"AllLabels\",\"id\":\"p4405\"}}}],\"right\":[{\"type\":\"object\",\"name\":\"Legend\",\"id\":\"p4468\",\"attributes\":{\"location\":\"center\",\"items\":[{\"type\":\"object\",\"name\":\"LegendItem\",\"id\":\"p4469\",\"attributes\":{\"label\":{\"type\":\"value\",\"value\":\"aucun\"},\"renderers\":[{\"id\":\"p4429\"}]}},{\"type\":\"object\",\"name\":\"LegendItem\",\"id\":\"p4470\",\"attributes\":{\"label\":{\"type\":\"value\",\"value\":\"centre\"},\"renderers\":[{\"id\":\"p4441\"}]}},{\"type\":\"object\",\"name\":\"LegendItem\",\"id\":\"p4471\",\"attributes\":{\"label\":{\"type\":\"value\",\"value\":\"droite\"},\"renderers\":[{\"id\":\"p4453\"}]}},{\"type\":\"object\",\"name\":\"LegendItem\",\"id\":\"p4472\",\"attributes\":{\"label\":{\"type\":\"value\",\"value\":\"gauche\"},\"renderers\":[{\"id\":\"p4465\"}]}}]}}],\"below\":[{\"type\":\"object\",\"name\":\"LinearAxis\",\"id\":\"p4396\",\"attributes\":{\"ticker\":{\"type\":\"object\",\"name\":\"BasicTicker\",\"id\":\"p4397\",\"attributes\":{\"mantissas\":[1,2,5]}},\"formatter\":{\"type\":\"object\",\"name\":\"BasicTickFormatter\",\"id\":\"p4399\"},\"major_label_policy\":{\"type\":\"object\",\"name\":\"AllLabels\",\"id\":\"p4398\"}}}],\"center\":[{\"type\":\"object\",\"name\":\"Grid\",\"id\":\"p4402\",\"attributes\":{\"axis\":{\"id\":\"p4396\"},\"grid_line_color\":null}},{\"type\":\"object\",\"name\":\"Grid\",\"id\":\"p4408\",\"attributes\":{\"dimension\":1,\"axis\":{\"id\":\"p4403\"}}}]}}}},{\"type\":\"object\",\"name\":\"TabPanel\",\"id\":\"p4569\",\"attributes\":{\"title\":\"3 mots\",\"child\":{\"type\":\"object\",\"name\":\"Figure\",\"id\":\"p4474\",\"attributes\":{\"sizing_mode\":\"stretch_width\",\"x_range\":{\"type\":\"object\",\"name\":\"DataRange1d\",\"id\":\"p4476\",\"attributes\":{\"start\":0,\"end\":100}},\"y_range\":{\"type\":\"object\",\"name\":\"FactorRange\",\"id\":\"p4486\",\"attributes\":{\"factors\":[\"1 200 euro\",\"abaisser le seuil\",\"am\\u00e9liorer le taux\",\"augmenter le cotisation\",\"augmenter le imp\\u00f4t\",\"baisse de imp\\u00f4t\",\"caisse de retraite\",\"clause de grand-p\\u00e8re\",\"commission de affaire\",\"commission de finance\",\"condition de travail\",\"co\\u00fbt de travail\",\"crit\\u00e8re de p\\u00e9nibilit\\u00e9\",\"demandeur de emploi\",\"d\\u00e9part en retraite\",\"embauche de senior\",\"emploi de senior\",\"esp\\u00e9rance de vie\",\"exon\\u00e9ration de cotisation\",\"faire un effort\",\"financement de retraite\",\"financement de syst\\u00e8me\",\"financer le retraite\",\"fonds de r\\u00e9serve\",\"loi de finance\",\"loi de financement\",\"loi de programmation\",\"march\\u00e9 de travail\",\"monde de travail\",\"m\\u00e8re de famille\",\"pension de retraite\",\"pension de r\\u00e9version\",\"pouvoir de achat\",\"probl\\u00e8me de financement\",\"r\\u00e9forme de retraite\",\"r\\u00e9gime de retraite\",\"strat\\u00e9gie de obstruction\",\"suppression de r\\u00e9gime\",\"syst\\u00e8me de retraite\",\"syst\\u00e8me par r\\u00e9partition\",\"taux de ch\\u00f4mage\",\"taux de emploi\",\"variable de ajustement\",\"\\u00e2ge de d\\u00e9part\",\"\\u00e9tude de impact\"]}},\"x_scale\":{\"type\":\"object\",\"name\":\"LinearScale\",\"id\":\"p4488\"},\"y_scale\":{\"type\":\"object\",\"name\":\"CategoricalScale\",\"id\":\"p4490\"},\"title\":{\"type\":\"object\",\"name\":\"Title\",\"id\":\"p4477\",\"attributes\":{\"text\":\"Distribution des occurrences de top mots-cl\\u00e9s\"}},\"renderers\":[{\"type\":\"object\",\"name\":\"GlyphRenderer\",\"id\":\"p4525\",\"attributes\":{\"name\":\"aucun\",\"data_source\":{\"type\":\"object\",\"name\":\"ColumnDataSource\",\"id\":\"p4516\",\"attributes\":{\"selected\":{\"type\":\"object\",\"name\":\"Selection\",\"id\":\"p4517\",\"attributes\":{\"indices\":[],\"line_indices\":[]}},\"selection_policy\":{\"type\":\"object\",\"name\":\"UnionRenderers\",\"id\":\"p4518\"},\"data\":{\"type\":\"map\",\"entries\":[[\"term\",[\"1 200 euro\",\"abaisser le seuil\",\"am\\u00e9liorer le taux\",\"augmenter le cotisation\",\"augmenter le imp\\u00f4t\",\"baisse de imp\\u00f4t\",\"caisse de retraite\",\"clause de grand-p\\u00e8re\",\"commission de affaire\",\"commission de finance\",\"condition de travail\",\"co\\u00fbt de travail\",\"crit\\u00e8re de p\\u00e9nibilit\\u00e9\",\"demandeur de emploi\",\"d\\u00e9part en retraite\",\"embauche de senior\",\"emploi de senior\",\"esp\\u00e9rance de vie\",\"exon\\u00e9ration de cotisation\",\"faire un effort\",\"financement de retraite\",\"financement de syst\\u00e8me\",\"financer le retraite\",\"fonds de r\\u00e9serve\",\"loi de finance\",\"loi de financement\",\"loi de programmation\",\"march\\u00e9 de travail\",\"monde de travail\",\"m\\u00e8re de famille\",\"pension de retraite\",\"pension de r\\u00e9version\",\"pouvoir de achat\",\"probl\\u00e8me de financement\",\"r\\u00e9forme de retraite\",\"r\\u00e9gime de retraite\",\"strat\\u00e9gie de obstruction\",\"suppression de r\\u00e9gime\",\"syst\\u00e8me de retraite\",\"syst\\u00e8me par r\\u00e9partition\",\"taux de ch\\u00f4mage\",\"taux de emploi\",\"variable de ajustement\",\"\\u00e2ge de d\\u00e9part\",\"\\u00e9tude de impact\"]],[\"aucun\",[0.7575757575757576,0,0,0,0,15.789473684210526,0,0,0,0,0,0,0,0,12.0,9.090909090909092,2.1164021164021163,4.0,0,11.76470588235294,12.121212121212121,0,3.571428571428571,16.666666666666664,4.411764705882353,3.7735849056603774,10.526315789473683,4.3478260869565215,4.3478260869565215,6.666666666666667,0,14.285714285714285,2.2222222222222223,4.166666666666666,5.263157894736842,3.9473684210526314,0,0,3.8834951456310676,2.0408163265306123,0,2.631578947368421,0,3.669724770642202,0]],[\"centre\",[7.575757575757576,42.857142857142854,31.57894736842105,37.5,92.3076923076923,31.578947368421048,8.0,43.47826086956522,53.84615384615385,55.0,9.30232558139535,42.10526315789473,10.526315789473683,0,24.0,27.272727272727273,34.92063492063492,8.0,18.604651162790695,0,18.181818181818183,35.71428571428571,25.0,16.666666666666664,38.23529411764706,37.735849056603776,26.31578947368421,39.130434782608695,13.043478260869565,20.0,31.70731707317073,42.857142857142854,37.77777777777778,58.33333333333333,13.450292397660817,27.631578947368418,66.66666666666666,27.083333333333336,31.553398058252426,46.93877551020408,56.52173913043478,27.631578947368418,55.55555555555555,22.935779816513765,28.57142857142857]],[\"droite\",[14.393939393939393,28.57142857142857,68.42105263157895,12.5,7.6923076923076925,5.263157894736842,14.0,26.08695652173913,17.94871794871795,20.0,13.953488372093023,15.789473684210524,10.526315789473683,25.0,32.0,54.54545454545454,31.216931216931215,12.0,4.651162790697675,41.17647058823529,15.151515151515152,21.428571428571427,10.714285714285714,50.0,26.47058823529412,30.18867924528302,26.31578947368421,17.391304347826086,13.043478260869565,60.0,21.95121951219512,42.857142857142854,37.77777777777778,4.166666666666666,27.485380116959064,19.736842105263158,16.666666666666664,18.75,16.504854368932037,26.53061224489796,17.391304347826086,38.15789473684211,33.33333333333333,24.770642201834864,10.714285714285714]],[\"gauche\",[77.27272727272728,28.57142857142857,0,50.0,0,47.368421052631575,78.0,30.43478260869565,28.205128205128204,25.0,76.74418604651163,42.10526315789473,78.94736842105263,75.0,32.0,9.090909090909092,31.746031746031747,76.0,76.74418604651162,47.05882352941177,54.54545454545455,42.857142857142854,60.714285714285715,16.666666666666664,30.88235294117647,28.30188679245283,36.84210526315789,39.130434782608695,69.56521739130434,13.333333333333334,46.34146341463414,0,22.22222222222222,33.33333333333333,53.80116959064327,48.684210526315795,16.666666666666664,54.16666666666667,48.05825242718446,24.48979591836735,26.08695652173913,31.57894736842105,11.11111111111111,48.62385321100918,60.71428571428571]]]}}},\"view\":{\"type\":\"object\",\"name\":\"CDSView\",\"id\":\"p4526\",\"attributes\":{\"filter\":{\"type\":\"object\",\"name\":\"AllIndices\",\"id\":\"p4527\"}}},\"glyph\":{\"type\":\"object\",\"name\":\"HBar\",\"id\":\"p4522\",\"attributes\":{\"y\":{\"type\":\"field\",\"field\":\"term\"},\"left\":{\"type\":\"expr\",\"expr\":{\"type\":\"object\",\"name\":\"Stack\",\"id\":\"p4508\",\"attributes\":{\"fields\":[]}}},\"right\":{\"type\":\"expr\",\"expr\":{\"type\":\"object\",\"name\":\"Stack\",\"id\":\"p4509\",\"attributes\":{\"fields\":[\"aucun\"]}}},\"line_color\":{\"type\":\"value\",\"value\":\"#444\"},\"line_width\":{\"type\":\"value\",\"value\":0.9},\"fill_color\":{\"type\":\"value\",\"value\":\"#ecf0f1\"},\"hatch_color\":{\"type\":\"value\",\"value\":\"#ecf0f1\"}}},\"nonselection_glyph\":{\"type\":\"object\",\"name\":\"HBar\",\"id\":\"p4523\",\"attributes\":{\"y\":{\"type\":\"field\",\"field\":\"term\"},\"left\":{\"type\":\"expr\",\"expr\":{\"id\":\"p4508\"}},\"right\":{\"type\":\"expr\",\"expr\":{\"id\":\"p4509\"}},\"line_color\":{\"type\":\"value\",\"value\":\"#444\"},\"line_alpha\":{\"type\":\"value\",\"value\":0.1},\"line_width\":{\"type\":\"value\",\"value\":0.9},\"fill_color\":{\"type\":\"value\",\"value\":\"#ecf0f1\"},\"fill_alpha\":{\"type\":\"value\",\"value\":0.1},\"hatch_color\":{\"type\":\"value\",\"value\":\"#ecf0f1\"},\"hatch_alpha\":{\"type\":\"value\",\"value\":0.1}}},\"muted_glyph\":{\"type\":\"object\",\"name\":\"HBar\",\"id\":\"p4524\",\"attributes\":{\"y\":{\"type\":\"field\",\"field\":\"term\"},\"left\":{\"type\":\"expr\",\"expr\":{\"id\":\"p4508\"}},\"right\":{\"type\":\"expr\",\"expr\":{\"id\":\"p4509\"}},\"line_color\":{\"type\":\"value\",\"value\":\"#444\"},\"line_alpha\":{\"type\":\"value\",\"value\":0.2},\"line_width\":{\"type\":\"value\",\"value\":0.9},\"fill_color\":{\"type\":\"value\",\"value\":\"#ecf0f1\"},\"fill_alpha\":{\"type\":\"value\",\"value\":0.2},\"hatch_color\":{\"type\":\"value\",\"value\":\"#ecf0f1\"},\"hatch_alpha\":{\"type\":\"value\",\"value\":0.2}}}}},{\"type\":\"object\",\"name\":\"GlyphRenderer\",\"id\":\"p4537\",\"attributes\":{\"name\":\"centre\",\"data_source\":{\"type\":\"object\",\"name\":\"ColumnDataSource\",\"id\":\"p4528\",\"attributes\":{\"selected\":{\"type\":\"object\",\"name\":\"Selection\",\"id\":\"p4529\",\"attributes\":{\"indices\":[],\"line_indices\":[]}},\"selection_policy\":{\"type\":\"object\",\"name\":\"UnionRenderers\",\"id\":\"p4530\"},\"data\":{\"type\":\"map\",\"entries\":[[\"term\",[\"1 200 euro\",\"abaisser le seuil\",\"am\\u00e9liorer le taux\",\"augmenter le cotisation\",\"augmenter le imp\\u00f4t\",\"baisse de imp\\u00f4t\",\"caisse de retraite\",\"clause de grand-p\\u00e8re\",\"commission de affaire\",\"commission de finance\",\"condition de travail\",\"co\\u00fbt de travail\",\"crit\\u00e8re de p\\u00e9nibilit\\u00e9\",\"demandeur de emploi\",\"d\\u00e9part en retraite\",\"embauche de senior\",\"emploi de senior\",\"esp\\u00e9rance de vie\",\"exon\\u00e9ration de cotisation\",\"faire un effort\",\"financement de retraite\",\"financement de syst\\u00e8me\",\"financer le retraite\",\"fonds de r\\u00e9serve\",\"loi de finance\",\"loi de financement\",\"loi de programmation\",\"march\\u00e9 de travail\",\"monde de travail\",\"m\\u00e8re de famille\",\"pension de retraite\",\"pension de r\\u00e9version\",\"pouvoir de achat\",\"probl\\u00e8me de financement\",\"r\\u00e9forme de retraite\",\"r\\u00e9gime de retraite\",\"strat\\u00e9gie de obstruction\",\"suppression de r\\u00e9gime\",\"syst\\u00e8me de retraite\",\"syst\\u00e8me par r\\u00e9partition\",\"taux de ch\\u00f4mage\",\"taux de emploi\",\"variable de ajustement\",\"\\u00e2ge de d\\u00e9part\",\"\\u00e9tude de impact\"]],[\"aucun\",[0.7575757575757576,0,0,0,0,15.789473684210526,0,0,0,0,0,0,0,0,12.0,9.090909090909092,2.1164021164021163,4.0,0,11.76470588235294,12.121212121212121,0,3.571428571428571,16.666666666666664,4.411764705882353,3.7735849056603774,10.526315789473683,4.3478260869565215,4.3478260869565215,6.666666666666667,0,14.285714285714285,2.2222222222222223,4.166666666666666,5.263157894736842,3.9473684210526314,0,0,3.8834951456310676,2.0408163265306123,0,2.631578947368421,0,3.669724770642202,0]],[\"centre\",[7.575757575757576,42.857142857142854,31.57894736842105,37.5,92.3076923076923,31.578947368421048,8.0,43.47826086956522,53.84615384615385,55.0,9.30232558139535,42.10526315789473,10.526315789473683,0,24.0,27.272727272727273,34.92063492063492,8.0,18.604651162790695,0,18.181818181818183,35.71428571428571,25.0,16.666666666666664,38.23529411764706,37.735849056603776,26.31578947368421,39.130434782608695,13.043478260869565,20.0,31.70731707317073,42.857142857142854,37.77777777777778,58.33333333333333,13.450292397660817,27.631578947368418,66.66666666666666,27.083333333333336,31.553398058252426,46.93877551020408,56.52173913043478,27.631578947368418,55.55555555555555,22.935779816513765,28.57142857142857]],[\"droite\",[14.393939393939393,28.57142857142857,68.42105263157895,12.5,7.6923076923076925,5.263157894736842,14.0,26.08695652173913,17.94871794871795,20.0,13.953488372093023,15.789473684210524,10.526315789473683,25.0,32.0,54.54545454545454,31.216931216931215,12.0,4.651162790697675,41.17647058823529,15.151515151515152,21.428571428571427,10.714285714285714,50.0,26.47058823529412,30.18867924528302,26.31578947368421,17.391304347826086,13.043478260869565,60.0,21.95121951219512,42.857142857142854,37.77777777777778,4.166666666666666,27.485380116959064,19.736842105263158,16.666666666666664,18.75,16.504854368932037,26.53061224489796,17.391304347826086,38.15789473684211,33.33333333333333,24.770642201834864,10.714285714285714]],[\"gauche\",[77.27272727272728,28.57142857142857,0,50.0,0,47.368421052631575,78.0,30.43478260869565,28.205128205128204,25.0,76.74418604651163,42.10526315789473,78.94736842105263,75.0,32.0,9.090909090909092,31.746031746031747,76.0,76.74418604651162,47.05882352941177,54.54545454545455,42.857142857142854,60.714285714285715,16.666666666666664,30.88235294117647,28.30188679245283,36.84210526315789,39.130434782608695,69.56521739130434,13.333333333333334,46.34146341463414,0,22.22222222222222,33.33333333333333,53.80116959064327,48.684210526315795,16.666666666666664,54.16666666666667,48.05825242718446,24.48979591836735,26.08695652173913,31.57894736842105,11.11111111111111,48.62385321100918,60.71428571428571]]]}}},\"view\":{\"type\":\"object\",\"name\":\"CDSView\",\"id\":\"p4538\",\"attributes\":{\"filter\":{\"type\":\"object\",\"name\":\"AllIndices\",\"id\":\"p4539\"}}},\"glyph\":{\"type\":\"object\",\"name\":\"HBar\",\"id\":\"p4534\",\"attributes\":{\"y\":{\"type\":\"field\",\"field\":\"term\"},\"left\":{\"type\":\"expr\",\"expr\":{\"type\":\"object\",\"name\":\"Stack\",\"id\":\"p4510\",\"attributes\":{\"fields\":[\"aucun\"]}}},\"right\":{\"type\":\"expr\",\"expr\":{\"type\":\"object\",\"name\":\"Stack\",\"id\":\"p4511\",\"attributes\":{\"fields\":[\"aucun\",\"centre\"]}}},\"line_color\":{\"type\":\"value\",\"value\":\"#444\"},\"line_width\":{\"type\":\"value\",\"value\":0.9},\"fill_color\":{\"type\":\"value\",\"value\":\"#f1c40f\"},\"hatch_color\":{\"type\":\"value\",\"value\":\"#f1c40f\"}}},\"nonselection_glyph\":{\"type\":\"object\",\"name\":\"HBar\",\"id\":\"p4535\",\"attributes\":{\"y\":{\"type\":\"field\",\"field\":\"term\"},\"left\":{\"type\":\"expr\",\"expr\":{\"id\":\"p4510\"}},\"right\":{\"type\":\"expr\",\"expr\":{\"id\":\"p4511\"}},\"line_color\":{\"type\":\"value\",\"value\":\"#444\"},\"line_alpha\":{\"type\":\"value\",\"value\":0.1},\"line_width\":{\"type\":\"value\",\"value\":0.9},\"fill_color\":{\"type\":\"value\",\"value\":\"#f1c40f\"},\"fill_alpha\":{\"type\":\"value\",\"value\":0.1},\"hatch_color\":{\"type\":\"value\",\"value\":\"#f1c40f\"},\"hatch_alpha\":{\"type\":\"value\",\"value\":0.1}}},\"muted_glyph\":{\"type\":\"object\",\"name\":\"HBar\",\"id\":\"p4536\",\"attributes\":{\"y\":{\"type\":\"field\",\"field\":\"term\"},\"left\":{\"type\":\"expr\",\"expr\":{\"id\":\"p4510\"}},\"right\":{\"type\":\"expr\",\"expr\":{\"id\":\"p4511\"}},\"line_color\":{\"type\":\"value\",\"value\":\"#444\"},\"line_alpha\":{\"type\":\"value\",\"value\":0.2},\"line_width\":{\"type\":\"value\",\"value\":0.9},\"fill_color\":{\"type\":\"value\",\"value\":\"#f1c40f\"},\"fill_alpha\":{\"type\":\"value\",\"value\":0.2},\"hatch_color\":{\"type\":\"value\",\"value\":\"#f1c40f\"},\"hatch_alpha\":{\"type\":\"value\",\"value\":0.2}}}}},{\"type\":\"object\",\"name\":\"GlyphRenderer\",\"id\":\"p4549\",\"attributes\":{\"name\":\"droite\",\"data_source\":{\"type\":\"object\",\"name\":\"ColumnDataSource\",\"id\":\"p4540\",\"attributes\":{\"selected\":{\"type\":\"object\",\"name\":\"Selection\",\"id\":\"p4541\",\"attributes\":{\"indices\":[],\"line_indices\":[]}},\"selection_policy\":{\"type\":\"object\",\"name\":\"UnionRenderers\",\"id\":\"p4542\"},\"data\":{\"type\":\"map\",\"entries\":[[\"term\",[\"1 200 euro\",\"abaisser le seuil\",\"am\\u00e9liorer le taux\",\"augmenter le cotisation\",\"augmenter le imp\\u00f4t\",\"baisse de imp\\u00f4t\",\"caisse de retraite\",\"clause de grand-p\\u00e8re\",\"commission de affaire\",\"commission de finance\",\"condition de travail\",\"co\\u00fbt de travail\",\"crit\\u00e8re de p\\u00e9nibilit\\u00e9\",\"demandeur de emploi\",\"d\\u00e9part en retraite\",\"embauche de senior\",\"emploi de senior\",\"esp\\u00e9rance de vie\",\"exon\\u00e9ration de cotisation\",\"faire un effort\",\"financement de retraite\",\"financement de syst\\u00e8me\",\"financer le retraite\",\"fonds de r\\u00e9serve\",\"loi de finance\",\"loi de financement\",\"loi de programmation\",\"march\\u00e9 de travail\",\"monde de travail\",\"m\\u00e8re de famille\",\"pension de retraite\",\"pension de r\\u00e9version\",\"pouvoir de achat\",\"probl\\u00e8me de financement\",\"r\\u00e9forme de retraite\",\"r\\u00e9gime de retraite\",\"strat\\u00e9gie de obstruction\",\"suppression de r\\u00e9gime\",\"syst\\u00e8me de retraite\",\"syst\\u00e8me par r\\u00e9partition\",\"taux de ch\\u00f4mage\",\"taux de emploi\",\"variable de ajustement\",\"\\u00e2ge de d\\u00e9part\",\"\\u00e9tude de impact\"]],[\"aucun\",[0.7575757575757576,0,0,0,0,15.789473684210526,0,0,0,0,0,0,0,0,12.0,9.090909090909092,2.1164021164021163,4.0,0,11.76470588235294,12.121212121212121,0,3.571428571428571,16.666666666666664,4.411764705882353,3.7735849056603774,10.526315789473683,4.3478260869565215,4.3478260869565215,6.666666666666667,0,14.285714285714285,2.2222222222222223,4.166666666666666,5.263157894736842,3.9473684210526314,0,0,3.8834951456310676,2.0408163265306123,0,2.631578947368421,0,3.669724770642202,0]],[\"centre\",[7.575757575757576,42.857142857142854,31.57894736842105,37.5,92.3076923076923,31.578947368421048,8.0,43.47826086956522,53.84615384615385,55.0,9.30232558139535,42.10526315789473,10.526315789473683,0,24.0,27.272727272727273,34.92063492063492,8.0,18.604651162790695,0,18.181818181818183,35.71428571428571,25.0,16.666666666666664,38.23529411764706,37.735849056603776,26.31578947368421,39.130434782608695,13.043478260869565,20.0,31.70731707317073,42.857142857142854,37.77777777777778,58.33333333333333,13.450292397660817,27.631578947368418,66.66666666666666,27.083333333333336,31.553398058252426,46.93877551020408,56.52173913043478,27.631578947368418,55.55555555555555,22.935779816513765,28.57142857142857]],[\"droite\",[14.393939393939393,28.57142857142857,68.42105263157895,12.5,7.6923076923076925,5.263157894736842,14.0,26.08695652173913,17.94871794871795,20.0,13.953488372093023,15.789473684210524,10.526315789473683,25.0,32.0,54.54545454545454,31.216931216931215,12.0,4.651162790697675,41.17647058823529,15.151515151515152,21.428571428571427,10.714285714285714,50.0,26.47058823529412,30.18867924528302,26.31578947368421,17.391304347826086,13.043478260869565,60.0,21.95121951219512,42.857142857142854,37.77777777777778,4.166666666666666,27.485380116959064,19.736842105263158,16.666666666666664,18.75,16.504854368932037,26.53061224489796,17.391304347826086,38.15789473684211,33.33333333333333,24.770642201834864,10.714285714285714]],[\"gauche\",[77.27272727272728,28.57142857142857,0,50.0,0,47.368421052631575,78.0,30.43478260869565,28.205128205128204,25.0,76.74418604651163,42.10526315789473,78.94736842105263,75.0,32.0,9.090909090909092,31.746031746031747,76.0,76.74418604651162,47.05882352941177,54.54545454545455,42.857142857142854,60.714285714285715,16.666666666666664,30.88235294117647,28.30188679245283,36.84210526315789,39.130434782608695,69.56521739130434,13.333333333333334,46.34146341463414,0,22.22222222222222,33.33333333333333,53.80116959064327,48.684210526315795,16.666666666666664,54.16666666666667,48.05825242718446,24.48979591836735,26.08695652173913,31.57894736842105,11.11111111111111,48.62385321100918,60.71428571428571]]]}}},\"view\":{\"type\":\"object\",\"name\":\"CDSView\",\"id\":\"p4550\",\"attributes\":{\"filter\":{\"type\":\"object\",\"name\":\"AllIndices\",\"id\":\"p4551\"}}},\"glyph\":{\"type\":\"object\",\"name\":\"HBar\",\"id\":\"p4546\",\"attributes\":{\"y\":{\"type\":\"field\",\"field\":\"term\"},\"left\":{\"type\":\"expr\",\"expr\":{\"type\":\"object\",\"name\":\"Stack\",\"id\":\"p4512\",\"attributes\":{\"fields\":[\"aucun\",\"centre\"]}}},\"right\":{\"type\":\"expr\",\"expr\":{\"type\":\"object\",\"name\":\"Stack\",\"id\":\"p4513\",\"attributes\":{\"fields\":[\"aucun\",\"centre\",\"droite\"]}}},\"line_color\":{\"type\":\"value\",\"value\":\"#444\"},\"line_width\":{\"type\":\"value\",\"value\":0.9},\"fill_color\":{\"type\":\"value\",\"value\":\"#3498db\"},\"hatch_color\":{\"type\":\"value\",\"value\":\"#3498db\"}}},\"nonselection_glyph\":{\"type\":\"object\",\"name\":\"HBar\",\"id\":\"p4547\",\"attributes\":{\"y\":{\"type\":\"field\",\"field\":\"term\"},\"left\":{\"type\":\"expr\",\"expr\":{\"id\":\"p4512\"}},\"right\":{\"type\":\"expr\",\"expr\":{\"id\":\"p4513\"}},\"line_color\":{\"type\":\"value\",\"value\":\"#444\"},\"line_alpha\":{\"type\":\"value\",\"value\":0.1},\"line_width\":{\"type\":\"value\",\"value\":0.9},\"fill_color\":{\"type\":\"value\",\"value\":\"#3498db\"},\"fill_alpha\":{\"type\":\"value\",\"value\":0.1},\"hatch_color\":{\"type\":\"value\",\"value\":\"#3498db\"},\"hatch_alpha\":{\"type\":\"value\",\"value\":0.1}}},\"muted_glyph\":{\"type\":\"object\",\"name\":\"HBar\",\"id\":\"p4548\",\"attributes\":{\"y\":{\"type\":\"field\",\"field\":\"term\"},\"left\":{\"type\":\"expr\",\"expr\":{\"id\":\"p4512\"}},\"right\":{\"type\":\"expr\",\"expr\":{\"id\":\"p4513\"}},\"line_color\":{\"type\":\"value\",\"value\":\"#444\"},\"line_alpha\":{\"type\":\"value\",\"value\":0.2},\"line_width\":{\"type\":\"value\",\"value\":0.9},\"fill_color\":{\"type\":\"value\",\"value\":\"#3498db\"},\"fill_alpha\":{\"type\":\"value\",\"value\":0.2},\"hatch_color\":{\"type\":\"value\",\"value\":\"#3498db\"},\"hatch_alpha\":{\"type\":\"value\",\"value\":0.2}}}}},{\"type\":\"object\",\"name\":\"GlyphRenderer\",\"id\":\"p4561\",\"attributes\":{\"name\":\"gauche\",\"data_source\":{\"type\":\"object\",\"name\":\"ColumnDataSource\",\"id\":\"p4552\",\"attributes\":{\"selected\":{\"type\":\"object\",\"name\":\"Selection\",\"id\":\"p4553\",\"attributes\":{\"indices\":[],\"line_indices\":[]}},\"selection_policy\":{\"type\":\"object\",\"name\":\"UnionRenderers\",\"id\":\"p4554\"},\"data\":{\"type\":\"map\",\"entries\":[[\"term\",[\"1 200 euro\",\"abaisser le seuil\",\"am\\u00e9liorer le taux\",\"augmenter le cotisation\",\"augmenter le imp\\u00f4t\",\"baisse de imp\\u00f4t\",\"caisse de retraite\",\"clause de grand-p\\u00e8re\",\"commission de affaire\",\"commission de finance\",\"condition de travail\",\"co\\u00fbt de travail\",\"crit\\u00e8re de p\\u00e9nibilit\\u00e9\",\"demandeur de emploi\",\"d\\u00e9part en retraite\",\"embauche de senior\",\"emploi de senior\",\"esp\\u00e9rance de vie\",\"exon\\u00e9ration de cotisation\",\"faire un effort\",\"financement de retraite\",\"financement de syst\\u00e8me\",\"financer le retraite\",\"fonds de r\\u00e9serve\",\"loi de finance\",\"loi de financement\",\"loi de programmation\",\"march\\u00e9 de travail\",\"monde de travail\",\"m\\u00e8re de famille\",\"pension de retraite\",\"pension de r\\u00e9version\",\"pouvoir de achat\",\"probl\\u00e8me de financement\",\"r\\u00e9forme de retraite\",\"r\\u00e9gime de retraite\",\"strat\\u00e9gie de obstruction\",\"suppression de r\\u00e9gime\",\"syst\\u00e8me de retraite\",\"syst\\u00e8me par r\\u00e9partition\",\"taux de ch\\u00f4mage\",\"taux de emploi\",\"variable de ajustement\",\"\\u00e2ge de d\\u00e9part\",\"\\u00e9tude de impact\"]],[\"aucun\",[0.7575757575757576,0,0,0,0,15.789473684210526,0,0,0,0,0,0,0,0,12.0,9.090909090909092,2.1164021164021163,4.0,0,11.76470588235294,12.121212121212121,0,3.571428571428571,16.666666666666664,4.411764705882353,3.7735849056603774,10.526315789473683,4.3478260869565215,4.3478260869565215,6.666666666666667,0,14.285714285714285,2.2222222222222223,4.166666666666666,5.263157894736842,3.9473684210526314,0,0,3.8834951456310676,2.0408163265306123,0,2.631578947368421,0,3.669724770642202,0]],[\"centre\",[7.575757575757576,42.857142857142854,31.57894736842105,37.5,92.3076923076923,31.578947368421048,8.0,43.47826086956522,53.84615384615385,55.0,9.30232558139535,42.10526315789473,10.526315789473683,0,24.0,27.272727272727273,34.92063492063492,8.0,18.604651162790695,0,18.181818181818183,35.71428571428571,25.0,16.666666666666664,38.23529411764706,37.735849056603776,26.31578947368421,39.130434782608695,13.043478260869565,20.0,31.70731707317073,42.857142857142854,37.77777777777778,58.33333333333333,13.450292397660817,27.631578947368418,66.66666666666666,27.083333333333336,31.553398058252426,46.93877551020408,56.52173913043478,27.631578947368418,55.55555555555555,22.935779816513765,28.57142857142857]],[\"droite\",[14.393939393939393,28.57142857142857,68.42105263157895,12.5,7.6923076923076925,5.263157894736842,14.0,26.08695652173913,17.94871794871795,20.0,13.953488372093023,15.789473684210524,10.526315789473683,25.0,32.0,54.54545454545454,31.216931216931215,12.0,4.651162790697675,41.17647058823529,15.151515151515152,21.428571428571427,10.714285714285714,50.0,26.47058823529412,30.18867924528302,26.31578947368421,17.391304347826086,13.043478260869565,60.0,21.95121951219512,42.857142857142854,37.77777777777778,4.166666666666666,27.485380116959064,19.736842105263158,16.666666666666664,18.75,16.504854368932037,26.53061224489796,17.391304347826086,38.15789473684211,33.33333333333333,24.770642201834864,10.714285714285714]],[\"gauche\",[77.27272727272728,28.57142857142857,0,50.0,0,47.368421052631575,78.0,30.43478260869565,28.205128205128204,25.0,76.74418604651163,42.10526315789473,78.94736842105263,75.0,32.0,9.090909090909092,31.746031746031747,76.0,76.74418604651162,47.05882352941177,54.54545454545455,42.857142857142854,60.714285714285715,16.666666666666664,30.88235294117647,28.30188679245283,36.84210526315789,39.130434782608695,69.56521739130434,13.333333333333334,46.34146341463414,0,22.22222222222222,33.33333333333333,53.80116959064327,48.684210526315795,16.666666666666664,54.16666666666667,48.05825242718446,24.48979591836735,26.08695652173913,31.57894736842105,11.11111111111111,48.62385321100918,60.71428571428571]]]}}},\"view\":{\"type\":\"object\",\"name\":\"CDSView\",\"id\":\"p4562\",\"attributes\":{\"filter\":{\"type\":\"object\",\"name\":\"AllIndices\",\"id\":\"p4563\"}}},\"glyph\":{\"type\":\"object\",\"name\":\"HBar\",\"id\":\"p4558\",\"attributes\":{\"y\":{\"type\":\"field\",\"field\":\"term\"},\"left\":{\"type\":\"expr\",\"expr\":{\"type\":\"object\",\"name\":\"Stack\",\"id\":\"p4514\",\"attributes\":{\"fields\":[\"aucun\",\"centre\",\"droite\"]}}},\"right\":{\"type\":\"expr\",\"expr\":{\"type\":\"object\",\"name\":\"Stack\",\"id\":\"p4515\",\"attributes\":{\"fields\":[\"aucun\",\"centre\",\"droite\",\"gauche\"]}}},\"line_color\":{\"type\":\"value\",\"value\":\"#444\"},\"line_width\":{\"type\":\"value\",\"value\":0.9},\"fill_color\":{\"type\":\"value\",\"value\":\"#e74c3c\"},\"hatch_color\":{\"type\":\"value\",\"value\":\"#e74c3c\"}}},\"nonselection_glyph\":{\"type\":\"object\",\"name\":\"HBar\",\"id\":\"p4559\",\"attributes\":{\"y\":{\"type\":\"field\",\"field\":\"term\"},\"left\":{\"type\":\"expr\",\"expr\":{\"id\":\"p4514\"}},\"right\":{\"type\":\"expr\",\"expr\":{\"id\":\"p4515\"}},\"line_color\":{\"type\":\"value\",\"value\":\"#444\"},\"line_alpha\":{\"type\":\"value\",\"value\":0.1},\"line_width\":{\"type\":\"value\",\"value\":0.9},\"fill_color\":{\"type\":\"value\",\"value\":\"#e74c3c\"},\"fill_alpha\":{\"type\":\"value\",\"value\":0.1},\"hatch_color\":{\"type\":\"value\",\"value\":\"#e74c3c\"},\"hatch_alpha\":{\"type\":\"value\",\"value\":0.1}}},\"muted_glyph\":{\"type\":\"object\",\"name\":\"HBar\",\"id\":\"p4560\",\"attributes\":{\"y\":{\"type\":\"field\",\"field\":\"term\"},\"left\":{\"type\":\"expr\",\"expr\":{\"id\":\"p4514\"}},\"right\":{\"type\":\"expr\",\"expr\":{\"id\":\"p4515\"}},\"line_color\":{\"type\":\"value\",\"value\":\"#444\"},\"line_alpha\":{\"type\":\"value\",\"value\":0.2},\"line_width\":{\"type\":\"value\",\"value\":0.9},\"fill_color\":{\"type\":\"value\",\"value\":\"#e74c3c\"},\"fill_alpha\":{\"type\":\"value\",\"value\":0.2},\"hatch_color\":{\"type\":\"value\",\"value\":\"#e74c3c\"},\"hatch_alpha\":{\"type\":\"value\",\"value\":0.2}}}}}],\"toolbar\":{\"type\":\"object\",\"name\":\"Toolbar\",\"id\":\"p4481\",\"attributes\":{\"tools\":[{\"type\":\"object\",\"name\":\"HoverTool\",\"id\":\"p4505\",\"attributes\":{\"renderers\":\"auto\",\"tooltips\":\"@term($name) = @$name%\"}}]}},\"toolbar_location\":\"above\",\"left\":[{\"type\":\"object\",\"name\":\"CategoricalAxis\",\"id\":\"p4499\",\"attributes\":{\"ticker\":{\"type\":\"object\",\"name\":\"CategoricalTicker\",\"id\":\"p4500\"},\"formatter\":{\"type\":\"object\",\"name\":\"CategoricalTickFormatter\",\"id\":\"p4502\"},\"major_label_policy\":{\"type\":\"object\",\"name\":\"AllLabels\",\"id\":\"p4501\"}}}],\"right\":[{\"type\":\"object\",\"name\":\"Legend\",\"id\":\"p4564\",\"attributes\":{\"location\":\"center\",\"items\":[{\"type\":\"object\",\"name\":\"LegendItem\",\"id\":\"p4565\",\"attributes\":{\"label\":{\"type\":\"value\",\"value\":\"aucun\"},\"renderers\":[{\"id\":\"p4525\"}]}},{\"type\":\"object\",\"name\":\"LegendItem\",\"id\":\"p4566\",\"attributes\":{\"label\":{\"type\":\"value\",\"value\":\"centre\"},\"renderers\":[{\"id\":\"p4537\"}]}},{\"type\":\"object\",\"name\":\"LegendItem\",\"id\":\"p4567\",\"attributes\":{\"label\":{\"type\":\"value\",\"value\":\"droite\"},\"renderers\":[{\"id\":\"p4549\"}]}},{\"type\":\"object\",\"name\":\"LegendItem\",\"id\":\"p4568\",\"attributes\":{\"label\":{\"type\":\"value\",\"value\":\"gauche\"},\"renderers\":[{\"id\":\"p4561\"}]}}]}}],\"below\":[{\"type\":\"object\",\"name\":\"LinearAxis\",\"id\":\"p4492\",\"attributes\":{\"ticker\":{\"type\":\"object\",\"name\":\"BasicTicker\",\"id\":\"p4493\",\"attributes\":{\"mantissas\":[1,2,5]}},\"formatter\":{\"type\":\"object\",\"name\":\"BasicTickFormatter\",\"id\":\"p4495\"},\"major_label_policy\":{\"type\":\"object\",\"name\":\"AllLabels\",\"id\":\"p4494\"}}}],\"center\":[{\"type\":\"object\",\"name\":\"Grid\",\"id\":\"p4498\",\"attributes\":{\"axis\":{\"id\":\"p4492\"},\"grid_line_color\":null}},{\"type\":\"object\",\"name\":\"Grid\",\"id\":\"p4504\",\"attributes\":{\"dimension\":1,\"axis\":{\"id\":\"p4499\"}}}]}}}}]}}],\"callbacks\":{\"type\":\"map\"}}};\n  const render_items = [{\"docid\":\"f4541568-cc3a-4f01-9cb9-c1f2206ae1cb\",\"roots\":{\"p4570\":\"e5aad67d-a161-4646-a786-d5792d1024c5\"},\"root_ids\":[\"p4570\"]}];\n  root.Bokeh.embed.embed_items_notebook(docs_json, render_items);\n  }\n  if (root.Bokeh !== undefined) {\n    embed_document(root);\n  } else {\n    let attempts = 0;\n    const timer = setInterval(function(root) {\n      if (root.Bokeh !== undefined) {\n        clearInterval(timer);\n        embed_document(root);\n      } else {\n        attempts++;\n        if (attempts > 100) {\n          clearInterval(timer);\n          console.log(\"Bokeh: ERROR: Unable to run BokehJS code because BokehJS library is missing\");\n        }\n      }\n    }, 10, root)\n  }\n})(window);",
      "application/vnd.bokehjs_exec.v0+json": ""
     },
     "metadata": {
      "application/vnd.bokehjs_exec.v0+json": {
       "id": "p4570"
      }
     },
     "output_type": "display_data"
    }
   ],
   "source": [
    "from bokeh.models import TabPanel, Tabs\n",
    "\n",
    "df = getCountDataframe(parlement_df,top_n=10)\n",
    "\n",
    "tab1 = TabPanel(child=occurrenceDistributionPerPolitiqueOrientation(df[df.num_words == 1]), title=\"1 mot\")\n",
    "tab2 = TabPanel(child=occurrenceDistributionPerPolitiqueOrientation(df[df.num_words == 2]), title=\"2 mots\")\n",
    "tab3 = TabPanel(child=occurrenceDistributionPerPolitiqueOrientation(df[df.num_words == 3]), title=\"3 mots\")\n",
    "\n",
    "show(Tabs(tabs=[tab1, tab2,tab3],sizing_mode =\"stretch_width\"))"
   ]
  },
  {
   "cell_type": "code",
   "execution_count": null,
   "metadata": {},
   "outputs": [],
   "source": []
  }
 ],
 "metadata": {
  "kernelspec": {
   "display_name": "datascience",
   "language": "python",
   "name": "python3"
  },
  "language_info": {
   "codemirror_mode": {
    "name": "ipython",
    "version": 3
   },
   "file_extension": ".py",
   "mimetype": "text/x-python",
   "name": "python",
   "nbconvert_exporter": "python",
   "pygments_lexer": "ipython3",
   "version": "3.9.15"
  },
  "orig_nbformat": 4
 },
 "nbformat": 4,
 "nbformat_minor": 2
}
