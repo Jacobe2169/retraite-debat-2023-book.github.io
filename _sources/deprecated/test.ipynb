{
 "cells": [
  {
   "cell_type": "code",
   "execution_count": 3,
   "metadata": {},
   "outputs": [
    {
     "data": {
      "application/javascript": "(function(root) {\n  function now() {\n    return new Date();\n  }\n\n  const force = true;\n\n  if (typeof root._bokeh_onload_callbacks === \"undefined\" || force === true) {\n    root._bokeh_onload_callbacks = [];\n    root._bokeh_is_loading = undefined;\n  }\n\nconst JS_MIME_TYPE = 'application/javascript';\n  const HTML_MIME_TYPE = 'text/html';\n  const EXEC_MIME_TYPE = 'application/vnd.bokehjs_exec.v0+json';\n  const CLASS_NAME = 'output_bokeh rendered_html';\n\n  /**\n   * Render data to the DOM node\n   */\n  function render(props, node) {\n    const script = document.createElement(\"script\");\n    node.appendChild(script);\n  }\n\n  /**\n   * Handle when an output is cleared or removed\n   */\n  function handleClearOutput(event, handle) {\n    const cell = handle.cell;\n\n    const id = cell.output_area._bokeh_element_id;\n    const server_id = cell.output_area._bokeh_server_id;\n    // Clean up Bokeh references\n    if (id != null && id in Bokeh.index) {\n      Bokeh.index[id].model.document.clear();\n      delete Bokeh.index[id];\n    }\n\n    if (server_id !== undefined) {\n      // Clean up Bokeh references\n      const cmd_clean = \"from bokeh.io.state import curstate; print(curstate().uuid_to_server['\" + server_id + \"'].get_sessions()[0].document.roots[0]._id)\";\n      cell.notebook.kernel.execute(cmd_clean, {\n        iopub: {\n          output: function(msg) {\n            const id = msg.content.text.trim();\n            if (id in Bokeh.index) {\n              Bokeh.index[id].model.document.clear();\n              delete Bokeh.index[id];\n            }\n          }\n        }\n      });\n      // Destroy server and session\n      const cmd_destroy = \"import bokeh.io.notebook as ion; ion.destroy_server('\" + server_id + \"')\";\n      cell.notebook.kernel.execute(cmd_destroy);\n    }\n  }\n\n  /**\n   * Handle when a new output is added\n   */\n  function handleAddOutput(event, handle) {\n    const output_area = handle.output_area;\n    const output = handle.output;\n\n    // limit handleAddOutput to display_data with EXEC_MIME_TYPE content only\n    if ((output.output_type != \"display_data\") || (!Object.prototype.hasOwnProperty.call(output.data, EXEC_MIME_TYPE))) {\n      return\n    }\n\n    const toinsert = output_area.element.find(\".\" + CLASS_NAME.split(' ')[0]);\n\n    if (output.metadata[EXEC_MIME_TYPE][\"id\"] !== undefined) {\n      toinsert[toinsert.length - 1].firstChild.textContent = output.data[JS_MIME_TYPE];\n      // store reference to embed id on output_area\n      output_area._bokeh_element_id = output.metadata[EXEC_MIME_TYPE][\"id\"];\n    }\n    if (output.metadata[EXEC_MIME_TYPE][\"server_id\"] !== undefined) {\n      const bk_div = document.createElement(\"div\");\n      bk_div.innerHTML = output.data[HTML_MIME_TYPE];\n      const script_attrs = bk_div.children[0].attributes;\n      for (let i = 0; i < script_attrs.length; i++) {\n        toinsert[toinsert.length - 1].firstChild.setAttribute(script_attrs[i].name, script_attrs[i].value);\n        toinsert[toinsert.length - 1].firstChild.textContent = bk_div.children[0].textContent\n      }\n      // store reference to server id on output_area\n      output_area._bokeh_server_id = output.metadata[EXEC_MIME_TYPE][\"server_id\"];\n    }\n  }\n\n  function register_renderer(events, OutputArea) {\n\n    function append_mime(data, metadata, element) {\n      // create a DOM node to render to\n      const toinsert = this.create_output_subarea(\n        metadata,\n        CLASS_NAME,\n        EXEC_MIME_TYPE\n      );\n      this.keyboard_manager.register_events(toinsert);\n      // Render to node\n      const props = {data: data, metadata: metadata[EXEC_MIME_TYPE]};\n      render(props, toinsert[toinsert.length - 1]);\n      element.append(toinsert);\n      return toinsert\n    }\n\n    /* Handle when an output is cleared or removed */\n    events.on('clear_output.CodeCell', handleClearOutput);\n    events.on('delete.Cell', handleClearOutput);\n\n    /* Handle when a new output is added */\n    events.on('output_added.OutputArea', handleAddOutput);\n\n    /**\n     * Register the mime type and append_mime function with output_area\n     */\n    OutputArea.prototype.register_mime_type(EXEC_MIME_TYPE, append_mime, {\n      /* Is output safe? */\n      safe: true,\n      /* Index of renderer in `output_area.display_order` */\n      index: 0\n    });\n  }\n\n  // register the mime type if in Jupyter Notebook environment and previously unregistered\n  if (root.Jupyter !== undefined) {\n    const events = require('base/js/events');\n    const OutputArea = require('notebook/js/outputarea').OutputArea;\n\n    if (OutputArea.prototype.mime_types().indexOf(EXEC_MIME_TYPE) == -1) {\n      register_renderer(events, OutputArea);\n    }\n  }\n  if (typeof (root._bokeh_timeout) === \"undefined\" || force === true) {\n    root._bokeh_timeout = Date.now() + 5000;\n    root._bokeh_failed_load = false;\n  }\n\n  const NB_LOAD_WARNING = {'data': {'text/html':\n     \"<div style='background-color: #fdd'>\\n\"+\n     \"<p>\\n\"+\n     \"BokehJS does not appear to have successfully loaded. If loading BokehJS from CDN, this \\n\"+\n     \"may be due to a slow or bad network connection. Possible fixes:\\n\"+\n     \"</p>\\n\"+\n     \"<ul>\\n\"+\n     \"<li>re-rerun `output_notebook()` to attempt to load from CDN again, or</li>\\n\"+\n     \"<li>use INLINE resources instead, as so:</li>\\n\"+\n     \"</ul>\\n\"+\n     \"<code>\\n\"+\n     \"from bokeh.resources import INLINE\\n\"+\n     \"output_notebook(resources=INLINE)\\n\"+\n     \"</code>\\n\"+\n     \"</div>\"}};\n\n  function display_loaded() {\n    const el = document.getElementById(null);\n    if (el != null) {\n      el.textContent = \"BokehJS is loading...\";\n    }\n    if (root.Bokeh !== undefined) {\n      if (el != null) {\n        el.textContent = \"BokehJS \" + root.Bokeh.version + \" successfully loaded.\";\n      }\n    } else if (Date.now() < root._bokeh_timeout) {\n      setTimeout(display_loaded, 100)\n    }\n  }\n\n  function run_callbacks() {\n    try {\n      root._bokeh_onload_callbacks.forEach(function(callback) {\n        if (callback != null)\n          callback();\n      });\n    } finally {\n      delete root._bokeh_onload_callbacks\n    }\n    console.debug(\"Bokeh: all callbacks have finished\");\n  }\n\n  function load_libs(css_urls, js_urls, callback) {\n    if (css_urls == null) css_urls = [];\n    if (js_urls == null) js_urls = [];\n\n    root._bokeh_onload_callbacks.push(callback);\n    if (root._bokeh_is_loading > 0) {\n      console.debug(\"Bokeh: BokehJS is being loaded, scheduling callback at\", now());\n      return null;\n    }\n    if (js_urls == null || js_urls.length === 0) {\n      run_callbacks();\n      return null;\n    }\n    console.debug(\"Bokeh: BokehJS not loaded, scheduling load and callback at\", now());\n    root._bokeh_is_loading = css_urls.length + js_urls.length;\n\n    function on_load() {\n      root._bokeh_is_loading--;\n      if (root._bokeh_is_loading === 0) {\n        console.debug(\"Bokeh: all BokehJS libraries/stylesheets loaded\");\n        run_callbacks()\n      }\n    }\n\n    function on_error(url) {\n      console.error(\"failed to load \" + url);\n    }\n\n    for (let i = 0; i < css_urls.length; i++) {\n      const url = css_urls[i];\n      const element = document.createElement(\"link\");\n      element.onload = on_load;\n      element.onerror = on_error.bind(null, url);\n      element.rel = \"stylesheet\";\n      element.type = \"text/css\";\n      element.href = url;\n      console.debug(\"Bokeh: injecting link tag for BokehJS stylesheet: \", url);\n      document.body.appendChild(element);\n    }\n\n    for (let i = 0; i < js_urls.length; i++) {\n      const url = js_urls[i];\n      const element = document.createElement('script');\n      element.onload = on_load;\n      element.onerror = on_error.bind(null, url);\n      element.async = false;\n      element.src = url;\n      console.debug(\"Bokeh: injecting script tag for BokehJS library: \", url);\n      document.head.appendChild(element);\n    }\n  };\n\n  function inject_raw_css(css) {\n    const element = document.createElement(\"style\");\n    element.appendChild(document.createTextNode(css));\n    document.body.appendChild(element);\n  }\n\n  const js_urls = [\"https://cdn.bokeh.org/bokeh/release/bokeh-3.1.1.min.js\", \"https://cdn.bokeh.org/bokeh/release/bokeh-gl-3.1.1.min.js\", \"https://cdn.bokeh.org/bokeh/release/bokeh-widgets-3.1.1.min.js\", \"https://cdn.bokeh.org/bokeh/release/bokeh-tables-3.1.1.min.js\", \"https://cdn.bokeh.org/bokeh/release/bokeh-mathjax-3.1.1.min.js\"];\n  const css_urls = [];\n\n  const inline_js = [    function(Bokeh) {\n      Bokeh.set_log_level(\"info\");\n    },\nfunction(Bokeh) {\n    }\n  ];\n\n  function run_inline_js() {\n    if (root.Bokeh !== undefined || force === true) {\n          for (let i = 0; i < inline_js.length; i++) {\n      inline_js[i].call(root, root.Bokeh);\n    }\n} else if (Date.now() < root._bokeh_timeout) {\n      setTimeout(run_inline_js, 100);\n    } else if (!root._bokeh_failed_load) {\n      console.log(\"Bokeh: BokehJS failed to load within specified timeout.\");\n      root._bokeh_failed_load = true;\n    } else if (force !== true) {\n      const cell = $(document.getElementById(null)).parents('.cell').data().cell;\n      cell.output_area.append_execute_result(NB_LOAD_WARNING)\n    }\n  }\n\n  if (root._bokeh_is_loading === 0) {\n    console.debug(\"Bokeh: BokehJS loaded, going straight to plotting\");\n    run_inline_js();\n  } else {\n    load_libs(css_urls, js_urls, function() {\n      console.debug(\"Bokeh: BokehJS plotting callback run at\", now());\n      run_inline_js();\n    });\n  }\n}(window));",
      "application/vnd.bokehjs_load.v0+json": ""
     },
     "metadata": {},
     "output_type": "display_data"
    }
   ],
   "source": [
    "import gensim\n",
    "import networkx as nx\n",
    "import numpy as np\n",
    "import pandas as pd\n",
    "import plotly.express as px\n",
    "import plotly.graph_objects as go\n",
    "import seaborn as sns\n",
    "from bokeh.io import output_notebook\n",
    "from ipysigma import Sigma\n",
    "from scipy.spatial import ConvexHull\n",
    "from sklearn.metrics.pairwise import cosine_similarity\n",
    "from umap import UMAP\n",
    "\n",
    "from lib.constant import *\n",
    "from lib.figures import *\n",
    "from lib.utils import *\n",
    "\n",
    "output_notebook(hide_banner=True)\n",
    "\n",
    "seed = 42"
   ]
  },
  {
   "cell_type": "code",
   "execution_count": 4,
   "metadata": {},
   "outputs": [],
   "source": [
    "df_deputy = pd.read_csv(\"data/nosdeputes.fr_deputes_en_mandat_2023-08-02.csv\",sep=\";\")\n",
    "slug2groupe = dict(df_deputy[\"slug groupe_sigle\".split()].values)"
   ]
  },
  {
   "cell_type": "code",
   "execution_count": 5,
   "metadata": {},
   "outputs": [
    {
     "data": {
      "text/html": [
       "<div>\n",
       "<style scoped>\n",
       "    .dataframe tbody tr th:only-of-type {\n",
       "        vertical-align: middle;\n",
       "    }\n",
       "\n",
       "    .dataframe tbody tr th {\n",
       "        vertical-align: top;\n",
       "    }\n",
       "\n",
       "    .dataframe thead th {\n",
       "        text-align: right;\n",
       "    }\n",
       "</style>\n",
       "<table border=\"1\" class=\"dataframe\">\n",
       "  <thead>\n",
       "    <tr style=\"text-align: right;\">\n",
       "      <th></th>\n",
       "      <th>username</th>\n",
       "      <th>full_text</th>\n",
       "      <th>date</th>\n",
       "      <th>in_reply_to_screen_name</th>\n",
       "      <th>in_reply_to_status_id_str</th>\n",
       "      <th>in_reply_to_user_id_str</th>\n",
       "      <th>retweet_id</th>\n",
       "      <th>retweet_username</th>\n",
       "      <th>retweet_user_id</th>\n",
       "      <th>is_quote_status</th>\n",
       "      <th>quoted_status_id_str</th>\n",
       "      <th>groupe_sigle</th>\n",
       "      <th>hashtag</th>\n",
       "      <th>is_hashtag</th>\n",
       "      <th>lemmatization</th>\n",
       "      <th>keywords_detected</th>\n",
       "      <th>is_keywords</th>\n",
       "      <th>is_keywords_label</th>\n",
       "    </tr>\n",
       "  </thead>\n",
       "  <tbody>\n",
       "    <tr>\n",
       "      <th>375</th>\n",
       "      <td>mathieu-lefevre</td>\n",
       "      <td>Plus les impôts baissent et plus les recettes ...</td>\n",
       "      <td>2023-02-01 06:32:02+00:00</td>\n",
       "      <td>None</td>\n",
       "      <td>None</td>\n",
       "      <td>None</td>\n",
       "      <td>None</td>\n",
       "      <td>None</td>\n",
       "      <td>None</td>\n",
       "      <td>False</td>\n",
       "      <td>None</td>\n",
       "      <td>REN</td>\n",
       "      <td>[]</td>\n",
       "      <td>False</td>\n",
       "      <td>plus le impôt baisser et plus le recette de l’...</td>\n",
       "      <td>[travail, recette, courage, impôt]</td>\n",
       "      <td>True</td>\n",
       "      <td>Oui</td>\n",
       "    </tr>\n",
       "    <tr>\n",
       "      <th>682</th>\n",
       "      <td>frederic-boccaletti</td>\n",
       "      <td>Mme , \"apparemment il y a une partie du foncti...</td>\n",
       "      <td>2023-02-01 06:50:58+00:00</td>\n",
       "      <td>None</td>\n",
       "      <td>None</td>\n",
       "      <td>None</td>\n",
       "      <td>None</td>\n",
       "      <td>None</td>\n",
       "      <td>None</td>\n",
       "      <td>False</td>\n",
       "      <td>None</td>\n",
       "      <td>RN</td>\n",
       "      <td>[#motionreferendaire]</td>\n",
       "      <td>True</td>\n",
       "      <td>mme , \" apparemment il y avoir un partie de fo...</td>\n",
       "      <td>[pouvoir]</td>\n",
       "      <td>True</td>\n",
       "      <td>Oui</td>\n",
       "    </tr>\n",
       "    <tr>\n",
       "      <th>488</th>\n",
       "      <td>philippe-brun</td>\n",
       "      <td>Le prix de l'énergie est un élément essentiel ...</td>\n",
       "      <td>2023-02-01 07:02:50+00:00</td>\n",
       "      <td>None</td>\n",
       "      <td>None</td>\n",
       "      <td>None</td>\n",
       "      <td>None</td>\n",
       "      <td>None</td>\n",
       "      <td>None</td>\n",
       "      <td>False</td>\n",
       "      <td>None</td>\n",
       "      <td>SOC</td>\n",
       "      <td>[]</td>\n",
       "      <td>False</td>\n",
       "      <td>le prix de le énergie être un élément essentie...</td>\n",
       "      <td>[entreprise, compétitivité, patron]</td>\n",
       "      <td>True</td>\n",
       "      <td>Oui</td>\n",
       "    </tr>\n",
       "    <tr>\n",
       "      <th>326</th>\n",
       "      <td>kevin-mauvieux</td>\n",
       "      <td>Comprenez : « jamais nous ne défendrons la Fra...</td>\n",
       "      <td>2023-02-01 07:10:59+00:00</td>\n",
       "      <td>None</td>\n",
       "      <td>None</td>\n",
       "      <td>None</td>\n",
       "      <td>None</td>\n",
       "      <td>None</td>\n",
       "      <td>None</td>\n",
       "      <td>True</td>\n",
       "      <td>1620493775515828226</td>\n",
       "      <td>RN</td>\n",
       "      <td>[#NonALaReformeDesRetraites]</td>\n",
       "      <td>True</td>\n",
       "      <td>Comprenez : « jamais nous ne défendre le Franc...</td>\n",
       "      <td>[vote, retraite, retrait, ratio, français, Fra...</td>\n",
       "      <td>True</td>\n",
       "      <td>Oui</td>\n",
       "    </tr>\n",
       "    <tr>\n",
       "      <th>453</th>\n",
       "      <td>gregoire-de-fournas</td>\n",
       "      <td>Des centaines d'amendements de la NUPES ont ét...</td>\n",
       "      <td>2023-02-01 07:14:30+00:00</td>\n",
       "      <td>None</td>\n",
       "      <td>None</td>\n",
       "      <td>None</td>\n",
       "      <td>None</td>\n",
       "      <td>None</td>\n",
       "      <td>None</td>\n",
       "      <td>True</td>\n",
       "      <td>1620493775515828226</td>\n",
       "      <td>RN</td>\n",
       "      <td>[]</td>\n",
       "      <td>False</td>\n",
       "      <td>un centaine de amendement de le NUPES avoir êt...</td>\n",
       "      <td>[vote, ratio]</td>\n",
       "      <td>True</td>\n",
       "      <td>Oui</td>\n",
       "    </tr>\n",
       "  </tbody>\n",
       "</table>\n",
       "</div>"
      ],
      "text/plain": [
       "                username                                          full_text  \\\n",
       "375      mathieu-lefevre  Plus les impôts baissent et plus les recettes ...   \n",
       "682  frederic-boccaletti  Mme , \"apparemment il y a une partie du foncti...   \n",
       "488        philippe-brun  Le prix de l'énergie est un élément essentiel ...   \n",
       "326       kevin-mauvieux  Comprenez : « jamais nous ne défendrons la Fra...   \n",
       "453  gregoire-de-fournas  Des centaines d'amendements de la NUPES ont ét...   \n",
       "\n",
       "                         date in_reply_to_screen_name  \\\n",
       "375 2023-02-01 06:32:02+00:00                    None   \n",
       "682 2023-02-01 06:50:58+00:00                    None   \n",
       "488 2023-02-01 07:02:50+00:00                    None   \n",
       "326 2023-02-01 07:10:59+00:00                    None   \n",
       "453 2023-02-01 07:14:30+00:00                    None   \n",
       "\n",
       "    in_reply_to_status_id_str in_reply_to_user_id_str retweet_id  \\\n",
       "375                      None                    None       None   \n",
       "682                      None                    None       None   \n",
       "488                      None                    None       None   \n",
       "326                      None                    None       None   \n",
       "453                      None                    None       None   \n",
       "\n",
       "    retweet_username retweet_user_id  is_quote_status quoted_status_id_str  \\\n",
       "375             None            None            False                 None   \n",
       "682             None            None            False                 None   \n",
       "488             None            None            False                 None   \n",
       "326             None            None             True  1620493775515828226   \n",
       "453             None            None             True  1620493775515828226   \n",
       "\n",
       "    groupe_sigle                       hashtag  is_hashtag  \\\n",
       "375          REN                            []       False   \n",
       "682           RN         [#motionreferendaire]        True   \n",
       "488          SOC                            []       False   \n",
       "326           RN  [#NonALaReformeDesRetraites]        True   \n",
       "453           RN                            []       False   \n",
       "\n",
       "                                         lemmatization  \\\n",
       "375  plus le impôt baisser et plus le recette de l’...   \n",
       "682  mme , \" apparemment il y avoir un partie de fo...   \n",
       "488  le prix de le énergie être un élément essentie...   \n",
       "326  Comprenez : « jamais nous ne défendre le Franc...   \n",
       "453  un centaine de amendement de le NUPES avoir êt...   \n",
       "\n",
       "                                     keywords_detected  is_keywords  \\\n",
       "375                 [travail, recette, courage, impôt]         True   \n",
       "682                                          [pouvoir]         True   \n",
       "488                [entreprise, compétitivité, patron]         True   \n",
       "326  [vote, retraite, retrait, ratio, français, Fra...         True   \n",
       "453                                      [vote, ratio]         True   \n",
       "\n",
       "    is_keywords_label  \n",
       "375               Oui  \n",
       "682               Oui  \n",
       "488               Oui  \n",
       "326               Oui  \n",
       "453               Oui  "
      ]
     },
     "execution_count": 5,
     "metadata": {},
     "output_type": "execute_result"
    }
   ],
   "source": [
    "dataset_df = pd.read_parquet('data/twitter_fev_to_juin_2023_retraite_data.parquet_v2')\n",
    "dataset_df[\"is_keywords_label\"] = dataset_df.is_keywords.apply(lambda x: \"Oui\" if x else \"Non\")\n",
    "dataset_df = dataset_df.drop_duplicates(\"full_text\")\n",
    "dataset_df = dataset_df[~dataset_df.full_text.apply(lambda x : x.startswith(\"RT\"))]\n",
    "dataset_df =dataset_df[~(dataset_df.groupe_sigle == \"GOV\")]\n",
    "dataset_df = dataset_df[dataset_df.is_keywords]\n",
    "dataset_df.head()"
   ]
  },
  {
   "cell_type": "code",
   "execution_count": 6,
   "metadata": {},
   "outputs": [],
   "source": [
    "count_tweet = dict(dataset_df.groupby(\"username\").size())\n",
    "user2groupe = dict(dataset_df[\"username groupe_sigle\".split()].values)\n",
    "df_corpus = dataset_df.groupby(\"username\",as_index=False).agg({\"lemmatization\":lambda x : \" \".join(x)})\n",
    "df_corpus[\"groupe_sigle\"] = df_corpus[\"username\"].map(slug2groupe)\n",
    "corpus = df_corpus.apply(lambda doc: gensim.models.doc2vec.TaggedDocument(gensim.utils.simple_preprocess(doc.lemmatization), [doc.username]),axis=1)"
   ]
  },
  {
   "cell_type": "code",
   "execution_count": 7,
   "metadata": {},
   "outputs": [],
   "source": [
    "model = gensim.models.doc2vec.Doc2Vec(vector_size=32, min_count=2, epochs=40,dm=1)\n",
    "model.build_vocab(corpus)\n",
    "model.train(corpus, total_examples=model.corpus_count, epochs=model.epochs)"
   ]
  },
  {
   "cell_type": "code",
   "execution_count": 8,
   "metadata": {},
   "outputs": [],
   "source": [
    "user_vec = model.dv.vectors\n",
    "user_vec_reduced = UMAP(random_state=seed).fit_transform(user_vec)"
   ]
  },
  {
   "cell_type": "code",
   "execution_count": 9,
   "metadata": {},
   "outputs": [
    {
     "data": {
      "application/vnd.plotly.v1+json": {
       "config": {
        "plotlyServerURL": "https://plot.ly"
       },
       "data": [
        {
         "hovertemplate": "color=LFI<br>x=%{x}<br>y=%{y}<br>size=%{marker.size}<br>text=%{text}<extra></extra>",
         "legendgroup": "LFI",
         "marker": {
          "color": "#c0392b",
          "opacity": 0.9,
          "size": [
           106,
           150,
           216,
           277,
           176,
           274,
           303,
           434,
           296,
           221,
           245,
           256,
           340,
           470,
           426,
           366,
           269,
           283,
           134,
           299,
           273,
           350,
           329,
           273,
           105,
           445,
           92,
           228,
           76,
           380,
           14,
           159,
           340,
           60,
           103,
           186,
           88,
           163,
           266,
           220,
           173,
           415,
           249,
           291,
           90,
           155,
           207,
           212,
           257,
           272,
           144,
           371,
           292,
           228,
           96,
           232,
           180,
           273,
           215,
           247
          ],
          "sizemode": "area",
          "sizeref": 0.315625,
          "symbol": "circle"
         },
         "mode": "markers+text",
         "name": "LFI",
         "orientation": "v",
         "showlegend": true,
         "text": [
          "adrien-quatennens",
          "alma-dufour",
          "andree-taurinya",
          "andy-kerbrat",
          "anne-stambach-terrenoir",
          "antoine-leaument",
          "arnaud-le-gall",
          "aurelie-trouve",
          "aurelien-saintoul",
          "carlos-martens-bilongo",
          "caroline-fiat",
          "catherine-couturier",
          "charlotte-leduc",
          "clemence-guette",
          "clementine-autain",
          "damien-maudet",
          "daniele-obono",
          "danielle-simonnet",
          "elisa-martin",
          "elise-leboucher",
          "emmanuel-fernandes",
          "eric-coquerel",
          "ersilia-soudais",
          "florian-chauche",
          "francois-piquemal",
          "francois-ruffin",
          "frederic-mathieu",
          "gabriel-amard",
          "hadrien-clouet",
          "hendrik-davi",
          "jean-francois-coulomme",
          "jerome-legavre",
          "karen-erodi",
          "laurent-alexandre",
          "loic-prud-homme",
          "louis-boyard",
          "manon-meunier",
          "manuel-bompard",
          "marianne-maximi",
          "martine-etienne",
          "mathilde-hignet",
          "mathilde-panot",
          "matthias-tavel",
          "maxime-laisney",
          "michel-sala",
          "murielle-lepvraud",
          "nadege-abomangoli",
          "nathalie-oziol",
          "pascale-martin",
          "paul-vannier",
          "rachel-keke",
          "raquel-garrido",
          "rodrigo-arenas",
          "sarah-legrain",
          "sebastien-delogu",
          "sebastien-rome",
          "sophia-chikirou",
          "sylvain-carriere",
          "ugo-bernalicis",
          "william-martinet"
         ],
         "type": "scatter",
         "x": [
          10.171577453613281,
          9.685401916503906,
          10.291943550109863,
          10.185226440429688,
          10.00371265411377,
          9.816910743713379,
          9.82712173461914,
          9.972698211669922,
          10.050771713256836,
          9.504976272583008,
          9.330395698547363,
          10.035013198852539,
          9.510986328125,
          10.092543601989746,
          9.76104736328125,
          10.111532211303711,
          9.442150115966797,
          9.817156791687012,
          9.887333869934082,
          9.641824722290039,
          10.250198364257812,
          9.652952194213867,
          9.49642562866211,
          7.575784683227539,
          6.6419477462768555,
          10.224787712097168,
          10.438657760620117,
          10.053916931152344,
          10.086563110351562,
          9.55992603302002,
          9.188881874084473,
          9.707326889038086,
          9.956661224365234,
          10.203302383422852,
          9.65859317779541,
          9.575150489807129,
          9.804617881774902,
          9.228395462036133,
          9.960330963134766,
          9.695374488830566,
          10.098763465881348,
          10.100521087646484,
          10.09681224822998,
          10.218583106994629,
          10.257378578186035,
          10.103299140930176,
          9.626886367797852,
          10.026827812194824,
          9.682653427124023,
          9.60558795928955,
          10.174330711364746,
          9.641700744628906,
          9.640525817871094,
          9.746047973632812,
          9.488197326660156,
          10.18637466430664,
          9.920461654663086,
          10.066913604736328,
          10.055591583251953,
          9.641471862792969
         ],
         "xaxis": "x",
         "y": [
          -6.7718353271484375,
          -6.530470371246338,
          -6.642442226409912,
          -6.5836076736450195,
          -5.793982982635498,
          -6.46309232711792,
          -6.941567897796631,
          -6.386293411254883,
          -6.939211368560791,
          -6.464595317840576,
          -5.47688102722168,
          -5.5158562660217285,
          -6.087830543518066,
          -6.51046895980835,
          -6.973042011260986,
          -6.824178218841553,
          -6.659373760223389,
          -6.570016384124756,
          -5.913311004638672,
          -5.500857353210449,
          -6.460168361663818,
          -6.82527494430542,
          -5.321797847747803,
          -3.532532215118408,
          -3.908893346786499,
          -6.799190044403076,
          -6.448417663574219,
          -6.042202472686768,
          -6.528268337249756,
          -6.573281764984131,
          -6.5441436767578125,
          -6.730935096740723,
          -5.744206428527832,
          -5.510149955749512,
          -5.93411111831665,
          -6.447128772735596,
          -5.801197052001953,
          -6.767247676849365,
          -6.298182010650635,
          -5.202398777008057,
          -5.499318599700928,
          -6.744892597198486,
          -6.3099684715271,
          -6.00367546081543,
          -5.762806415557861,
          -5.525252342224121,
          -6.381740570068359,
          -6.281013011932373,
          -5.27077054977417,
          -6.450599670410156,
          -5.998857021331787,
          -7.001941680908203,
          -6.180500507354736,
          -6.336008071899414,
          -6.643432140350342,
          -5.840999126434326,
          -6.6006035804748535,
          -5.678314208984375,
          -6.290556907653809,
          -6.558539867401123
         ],
         "yaxis": "y"
        },
        {
         "hovertemplate": "color=SOC<br>x=%{x}<br>y=%{y}<br>size=%{marker.size}<br>text=%{text}<extra></extra>",
         "legendgroup": "SOC",
         "marker": {
          "color": "#ED4C67",
          "opacity": 0.9,
          "size": [
           2,
           81,
           244,
           44,
           20,
           13,
           34,
           82,
           135,
           87,
           185,
           32,
           72,
           112,
           297,
           4,
           21,
           96,
           84,
           338,
           140,
           98,
           24,
           95,
           141
          ],
          "sizemode": "area",
          "sizeref": 0.315625,
          "symbol": "circle"
         },
         "mode": "markers+text",
         "name": "SOC",
         "orientation": "v",
         "showlegend": true,
         "text": [
          "alain-david",
          "anna-pic",
          "arthur-delaporte",
          "cecile-untermaier",
          "chantal-jourdan",
          "christian-baptiste",
          "claudia-rouaux",
          "elie-califer",
          "fatiha-keloua-hachi",
          "gerard-leseul",
          "guillaume-garot",
          "herve-saulignac",
          "inaki-echaniz",
          "isabelle-santiago",
          "jerome-guedj",
          "joel-aviragnet",
          "marietta-karamanli",
          "melanie-thomin",
          "mickael-bouloux",
          "olivier-faure",
          "philippe-brun",
          "philippe-naillet",
          "roger-vicot",
          "stephane-delautrette",
          "valerie-rabault"
         ],
         "type": "scatter",
         "x": [
          7.2072649002075195,
          7.484654426574707,
          9.010149955749512,
          7.443839073181152,
          8.789193153381348,
          7.05895471572876,
          8.826887130737305,
          7.743691444396973,
          9.245743751525879,
          7.998965740203857,
          8.597342491149902,
          7.503428936004639,
          9.069192886352539,
          8.424525260925293,
          8.794302940368652,
          7.526919841766357,
          8.253219604492188,
          8.555065155029297,
          9.299936294555664,
          9.587505340576172,
          6.862644672393799,
          8.854759216308594,
          7.627681255340576,
          8.94327163696289,
          6.6138129234313965
         ],
         "xaxis": "x",
         "y": [
          -3.868337869644165,
          -4.1647467613220215,
          -5.783599853515625,
          -3.8032140731811523,
          -3.6178841590881348,
          -3.9275543689727783,
          -3.1017825603485107,
          -3.6019346714019775,
          -4.8014960289001465,
          -4.349177360534668,
          -4.078448295593262,
          -3.916571855545044,
          -4.963378429412842,
          -1.9388325214385986,
          -5.627434253692627,
          -4.124024391174316,
          -3.7081565856933594,
          -3.751800775527954,
          -4.724328994750977,
          -7.084404468536377,
          -4.114124298095703,
          -4.2254743576049805,
          -4.12040376663208,
          -4.540950298309326,
          -0.5738472938537598
         ],
         "yaxis": "y"
        },
        {
         "hovertemplate": "color=LR<br>x=%{x}<br>y=%{y}<br>size=%{marker.size}<br>text=%{text}<extra></extra>",
         "legendgroup": "LR",
         "marker": {
          "color": "#2980b9",
          "opacity": 0.9,
          "size": [
           88,
           11,
           25,
           65,
           1,
           224,
           41,
           1,
           10,
           378,
           68,
           161,
           221,
           69,
           34,
           1,
           1,
           115,
           5,
           85,
           10,
           28,
           61,
           4,
           142,
           1,
           15,
           55,
           46,
           6,
           82,
           24,
           64,
           19,
           45,
           5,
           65,
           5,
           92
          ],
          "sizemode": "area",
          "sizeref": 0.315625,
          "symbol": "circle"
         },
         "mode": "markers+text",
         "name": "LR",
         "orientation": "v",
         "showlegend": true,
         "text": [
          "alexandra-martin",
          "alexandre-vincendet",
          "anne-laure-blin",
          "annie-genevard",
          "antoine-vermorel-marques",
          "aurelien-pradie",
          "dino-cinieri",
          "emilie-bonnivard",
          "emmanuel-maquet",
          "eric-ciotti",
          "fabien-di-filippo",
          "fabrice-brun",
          "francis-dubois",
          "ian-boucard",
          "isabelle-perigault",
          "jean-pierre-taite",
          "jerome-nury",
          "julien-dive",
          "justine-gruet",
          "mansour-kamardine",
          "marc-le-fur",
          "maxime-minot",
          "meyer-habib",
          "michel-herbillon",
          "michele-tabarot",
          "nathalie-serre",
          "nicolas-forissier",
          "nicolas-ray",
          "olivier-marleix",
          "philippe-gosselin",
          "philippe-juvin",
          "pierre-cordier",
          "pierre-henri-dumont",
          "raphael-schellenberger",
          "veronique-louwagie",
          "vincent-rolland",
          "virginie-duby-muller",
          "xavier-breton",
          "yannick-neuder"
         ],
         "type": "scatter",
         "x": [
          7.188746929168701,
          7.541232109069824,
          6.123603820800781,
          6.0007853507995605,
          6.824580192565918,
          6.251924514770508,
          7.810318470001221,
          7.151259899139404,
          6.882545471191406,
          6.952418327331543,
          6.471232891082764,
          6.700558185577393,
          7.487026691436768,
          6.141195774078369,
          7.580465793609619,
          7.108077049255371,
          6.8294196128845215,
          6.545376777648926,
          7.2249298095703125,
          1.6394850015640259,
          7.825695991516113,
          6.593439102172852,
          6.30238676071167,
          7.538797378540039,
          6.832333564758301,
          6.980714321136475,
          7.252134799957275,
          7.558926105499268,
          6.405856132507324,
          8.147765159606934,
          7.1146368980407715,
          7.054419040679932,
          6.274120807647705,
          6.936495304107666,
          7.433518886566162,
          7.003729820251465,
          8.279887199401855,
          7.936112880706787,
          7.368457794189453
         ],
         "xaxis": "x",
         "y": [
          0.39683547616004944,
          -3.884207248687744,
          -2.1904525756835938,
          -1.6615325212478638,
          -3.700619697570801,
          -1.9670988321304321,
          -2.4774107933044434,
          -3.5901546478271484,
          -2.4470772743225098,
          0.524581253528595,
          -2.312270402908325,
          -1.7524206638336182,
          -1.7509379386901855,
          -2.1232142448425293,
          -2.5033345222473145,
          -3.7162492275238037,
          -3.5044753551483154,
          -2.106877565383911,
          -2.8107857704162598,
          2.3176751136779785,
          -3.2241718769073486,
          -2.110856771469116,
          -2.964967727661133,
          -2.810375928878784,
          0.2920070290565491,
          -3.687309741973877,
          -2.843848705291748,
          -0.822327196598053,
          -1.0394699573516846,
          -2.486367702484131,
          -3.133533000946045,
          -2.957387685775757,
          -2.0714902877807617,
          -4.015378475189209,
          -1.7513816356658936,
          -3.458014965057373,
          -2.45017409324646,
          -3.4913954734802246,
          -3.117962598800659
         ],
         "yaxis": "y"
        },
        {
         "hovertemplate": "color=RN<br>x=%{x}<br>y=%{y}<br>size=%{marker.size}<br>text=%{text}<extra></extra>",
         "legendgroup": "RN",
         "marker": {
          "color": "#2c3e50",
          "opacity": 0.9,
          "size": [
           162,
           131,
           107,
           95,
           67,
           93,
           71,
           128,
           139,
           123,
           132,
           55,
           29,
           231,
           58,
           19,
           309,
           108,
           124,
           85,
           179,
           216,
           276,
           71,
           226,
           102,
           118,
           170,
           213,
           61,
           38,
           314,
           70,
           201,
           23,
           90,
           223,
           148,
           247,
           188,
           26,
           215,
           117,
           6,
           157,
           62,
           332,
           99,
           56,
           112,
           30,
           232,
           101,
           166,
           56,
           208,
           60,
           173,
           3,
           50,
           76,
           148,
           13,
           374,
           131,
           36,
           142
          ],
          "sizemode": "area",
          "sizeref": 0.315625,
          "symbol": "circle"
         },
         "mode": "markers+text",
         "name": "RN",
         "orientation": "v",
         "showlegend": true,
         "text": [
          "alexandra-masson",
          "alexandre-loubet",
          "alexandre-sabatou",
          "anais-sabatini",
          "angelique-ranc",
          "annick-cousin",
          "antoine-villedieu",
          "beatrice-roullaud",
          "bruno-bilde",
          "bryan-masson",
          "caroline-parmentier",
          "christian-girard",
          "christine-loir",
          "christophe-barthes",
          "christophe-bentz",
          "daniel-grenon",
          "edwige-diaz",
          "emeric-salmon",
          "emmanuel-blairy",
          "florence-goulet",
          "franck-allisio",
          "frank-giletti",
          "frederic-boccaletti",
          "frederic-cabrolier",
          "frederic-falcon",
          "geraldine-grangier",
          "gisele-lelouis",
          "gregoire-de-fournas",
          "helene-laporte",
          "herve-de-lepinau",
          "jean-philippe-tanguy",
          "jerome-buisson",
          "jocelyn-dessigny",
          "jordan-guitton",
          "jose-beaurain",
          "jose-gonzalez",
          "julie-lechanteux",
          "julien-rancoule",
          "katiana-levavasseur",
          "kevin-mauvieux",
          "kevin-pfeffer",
          "laure-lavalette",
          "laurence-robert-dehault",
          "laurent-jacobelli",
          "lionel-tivoli",
          "marie-france-lorho",
          "marine-le-pen",
          "mathilde-paris",
          "matthieu-marchio",
          "michael-taverne",
          "michele-martinez",
          "nicolas-meizonnet",
          "philippe-ballard",
          "philippe-lottiaux",
          "philippe-schreck",
          "pierre-meurin",
          "roger-chudeau",
          "romain-baubry",
          "sandrine-dogor-such",
          "serge-muller",
          "sophie-blanc",
          "stephanie-galzy",
          "thierry-frappe",
          "thomas-menage",
          "victor-catteau",
          "yael-menache",
          "yoann-gillet"
         ],
         "type": "scatter",
         "x": [
          0.8446917533874512,
          1.0745739936828613,
          1.8632153272628784,
          0.962637722492218,
          1.0935226678848267,
          1.2962603569030762,
          1.5837278366088867,
          1.7260053157806396,
          1.4276431798934937,
          1.202784538269043,
          1.481459379196167,
          0.9253221750259399,
          1.5067853927612305,
          1.0756672620773315,
          1.3641606569290161,
          1.6664127111434937,
          1.1740161180496216,
          1.2177867889404297,
          1.6431692838668823,
          1.2746214866638184,
          1.2786556482315063,
          0.9951037764549255,
          0.8626474142074585,
          1.3759515285491943,
          0.8389629125595093,
          0.8311094045639038,
          1.2142752408981323,
          1.9013837575912476,
          0.9015337824821472,
          1.9818291664123535,
          1.8802869319915771,
          1.6881595849990845,
          1.3337843418121338,
          1.0301388502120972,
          1.7857688665390015,
          0.9998620748519897,
          0.8697099089622498,
          1.0375566482543945,
          1.1568820476531982,
          1.4261609315872192,
          6.665043830871582,
          1.0094202756881714,
          1.3813928365707397,
          6.933712005615234,
          0.9140136241912842,
          1.2205524444580078,
          1.094342589378357,
          1.3522182703018188,
          1.6012449264526367,
          0.9191291332244873,
          1.6298810243606567,
          1.3529850244522095,
          1.3524742126464844,
          1.3904752731323242,
          1.8139219284057617,
          1.5225690603256226,
          7.496633529663086,
          1.0015989542007446,
          7.230042934417725,
          1.1030843257904053,
          1.8013521432876587,
          1.166015863418579,
          1.6703099012374878,
          0.9340954422950745,
          1.438347578048706,
          1.651290774345398,
          1.0687803030014038
         ],
         "xaxis": "x",
         "y": [
          2.939849376678467,
          2.7436606884002686,
          2.7545342445373535,
          3.7752368450164795,
          3.5462396144866943,
          3.849652051925659,
          3.0960137844085693,
          3.2524187564849854,
          2.717731237411499,
          2.5353591442108154,
          3.0776584148406982,
          3.8728675842285156,
          3.3751730918884277,
          3.8207361698150635,
          3.5836472511291504,
          3.58908748626709,
          2.879307508468628,
          3.4621541500091553,
          2.8082661628723145,
          3.9384729862213135,
          2.5434834957122803,
          4.0010666847229,
          2.726184606552124,
          3.189786672592163,
          2.9339170455932617,
          3.0604987144470215,
          2.594043731689453,
          2.790870428085327,
          3.081591844558716,
          2.6117093563079834,
          2.6529905796051025,
          2.652493953704834,
          2.869358539581299,
          3.5459697246551514,
          3.6700198650360107,
          3.997375249862671,
          3.031122922897339,
          3.8013594150543213,
          3.4486660957336426,
          2.5303633213043213,
          -4.055796146392822,
          2.9087202548980713,
          3.6126670837402344,
          -4.1587815284729,
          3.1428215503692627,
          3.7240207195281982,
          2.7860262393951416,
          3.675201416015625,
          3.1356849670410156,
          3.58530592918396,
          3.3472371101379395,
          2.6742258071899414,
          2.539419651031494,
          3.369136095046997,
          2.3857154846191406,
          2.549797296524048,
          -3.3165283203125,
          3.4475584030151367,
          -3.372833490371704,
          3.7368955612182617,
          2.957520008087158,
          3.675208330154419,
          3.8000566959381104,
          2.876326322555542,
          3.2460711002349854,
          2.981534957885742,
          3.201629638671875
         ],
         "yaxis": "y"
        },
        {
         "hovertemplate": "color=REN<br>x=%{x}<br>y=%{y}<br>size=%{marker.size}<br>text=%{text}<extra></extra>",
         "legendgroup": "REN",
         "marker": {
          "color": "#3498db",
          "opacity": 0.9,
          "size": [
           70,
           70,
           76,
           69,
           153,
           84,
           149,
           98,
           74,
           164,
           95,
           6,
           58,
           13,
           168,
           62,
           47,
           3,
           109,
           124,
           14,
           17,
           164,
           90,
           131,
           29,
           215,
           16,
           139,
           128,
           39,
           108,
           32,
           53,
           59,
           146,
           135,
           35,
           101,
           85,
           21,
           121,
           110,
           136,
           30,
           9,
           122,
           75,
           167,
           69,
           32,
           110,
           56,
           57,
           77,
           38,
           127,
           17,
           70,
           3,
           38,
           98,
           142,
           50,
           79,
           62,
           51,
           5,
           2,
           96,
           7,
           70,
           240,
           60,
           3,
           164,
           100,
           66,
           56,
           64,
           255,
           61,
           32,
           320,
           34,
           145,
           117,
           46,
           74,
           48,
           25,
           219,
           76,
           79,
           106,
           49,
           127,
           120,
           41,
           79,
           72,
           25,
           1,
           1,
           13,
           4,
           137,
           438,
           19,
           124,
           49,
           76,
           68,
           9,
           41,
           87,
           76,
           8,
           38,
           99,
           89,
           9,
           2,
           102,
           1,
           1,
           61,
           127,
           130,
           152,
           147,
           75,
           79,
           1,
           53,
           28,
           207,
           9,
           7
          ],
          "sizemode": "area",
          "sizeref": 0.315625,
          "symbol": "circle"
         },
         "mode": "markers+text",
         "name": "REN",
         "orientation": "v",
         "showlegend": true,
         "text": [
          "alexandre-holroyd",
          "alexis-izard",
          "amelia-lakrafi",
          "annaig-le-meur",
          "anne-brugnera",
          "anne-genetet",
          "anne-laurence-petel",
          "annie-vidal",
          "anthony-brosse",
          "antoine-armand",
          "astrid-panosyan-bouvet",
          "bastien-marchive",
          "beatrice-piron",
          "benjamin-dirx",
          "benjamin-haddad",
          "benoit-bordat",
          "benoit-mournet",
          "bertrand-sorre",
          "brigitte-klinkert",
          "brigitte-liso",
          "caroline-abadie",
          "caroline-janvier",
          "caroline-yadan",
          "cecile-rilhac",
          "celine-calvez",
          "chantal-bouloux",
          "charles-rodwell",
          "charlotte-goetschy-bolognese",
          "charlotte-parmentier-lecocq",
          "christine-le-nabour",
          "christophe-marion",
          "christopher-weissberg",
          "claire-guichard",
          "claire-pitollat",
          "clara-chassaniol",
          "constance-le-grip",
          "corinne-vignon",
          "damien-abad",
          "damien-adam",
          "daniel-labaronne",
          "danielle-brulebois",
          "david-amiel",
          "david-valence",
          "denis-masseglia",
          "didier-le-gac",
          "didier-martin",
          "didier-paris",
          "dominique-da-silva",
          "emilie-chandler",
          "emmanuel-lacresse",
          "emmanuel-pellerin",
          "eric-alauzet",
          "eric-girardin",
          "eric-poulliat",
          "fabienne-colboc",
          "fadila-khattabi",
          "francois-cormier-bouligeon",
          "freddy-sertin",
          "frederic-descrozaille",
          "gilles-le-gendre",
          "graziella-melchior",
          "guillaume-gouffier-cha",
          "guillaume-kasbarian",
          "guillaume-vuilletet",
          "hadrien-ghomi",
          "huguette-tiegna",
          "jacqueline-maquet",
          "jean-francois-lovisolo",
          "jean-francois-rousset",
          "jean-luc-fugit",
          "jean-philippe-ardouin",
          "jean-pierre-pont",
          "jean-rene-cazeneuve",
          "jean-terlier",
          "joel-giraud",
          "julie-delpech",
          "laurence-cristol",
          "laurence-heydel-grillere",
          "laurence-maillart-mehaignerie",
          "liliana-tanguy",
          "lionel-causse",
          "lionel-royer-perreaut",
          "lionel-vuibert",
          "louis-margueritte",
          "ludovic-mendes",
          "lysiane-metayer",
          "marc-ferracci",
          "marie-guevenoux",
          "marie-lebec",
          "marie-pierre-rixain",
          "marjolaine-meynier-millefert",
          "mathieu-lefevre",
          "michel-lauzzana",
          "mireille-clapot",
          "monique-iborra",
          "mounir-belhamiti",
          "nadia-hai",
          "natalia-pouzyreff",
          "nicolas-metzdorf",
          "nicolas-pacquot",
          "nicole-dubre-chirat",
          "nicole-le-peih",
          "olga-givernet",
          "pascal-lavergne",
          "pascale-boyer",
          "patricia-lemoine",
          "patrick-vignal",
          "paul-midy",
          "philippe-fait",
          "philippe-guillemard",
          "philippe-sorez",
          "pierre-cazeneuve",
          "prisca-thevenot",
          "quentin-bataillon",
          "raphael-gerard",
          "robin-reda",
          "sacha-houlie",
          "sandra-marsaud",
          "sandrine-le-feur",
          "sarah-tanzilli",
          "servane-hugues",
          "sophie-errante",
          "sophie-panonacle",
          "stella-dupont",
          "stephane-buchou",
          "stephane-mazars",
          "stephane-vojetta",
          "stephanie-rist",
          "sylvain-maillard",
          "thomas-cazenave",
          "thomas-gassilloud",
          "thomas-rudigoz",
          "veronique-riotton",
          "vincent-ledoux",
          "xavier-batut",
          "xavier-roseren",
          "yael-braun-pivet",
          "yannick-chenevard",
          "yannick-haury"
         ],
         "type": "scatter",
         "x": [
          7.190959930419922,
          7.159377574920654,
          7.751785755157471,
          8.680843353271484,
          8.812800407409668,
          6.768496036529541,
          7.124800682067871,
          9.095712661743164,
          7.636379718780518,
          6.863268852233887,
          7.977743625640869,
          7.3876261711120605,
          8.771671295166016,
          7.996971130371094,
          6.661895275115967,
          7.731881141662598,
          7.390453815460205,
          6.365277290344238,
          7.393019199371338,
          8.623929977416992,
          7.570948123931885,
          8.314152717590332,
          7.997883319854736,
          9.01009464263916,
          8.718326568603516,
          8.803525924682617,
          6.9641265869140625,
          8.257864952087402,
          8.826732635498047,
          8.294608116149902,
          6.953250885009766,
          6.810742378234863,
          8.456855773925781,
          8.543800354003906,
          8.298861503601074,
          6.803758144378662,
          7.851533889770508,
          6.271238803863525,
          8.627378463745117,
          7.6241021156311035,
          7.612175464630127,
          6.478898048400879,
          7.3777875900268555,
          7.555186748504639,
          8.053915977478027,
          8.319388389587402,
          7.171538352966309,
          8.442239761352539,
          9.086287498474121,
          6.9408278465271,
          8.152302742004395,
          6.178019046783447,
          7.3510212898254395,
          7.189344882965088,
          8.941365242004395,
          8.851155281066895,
          5.949437618255615,
          7.398464202880859,
          7.810721397399902,
          7.874444484710693,
          9.002822875976562,
          8.652222633361816,
          7.293776512145996,
          8.445995330810547,
          7.375015735626221,
          8.365904808044434,
          9.259252548217773,
          8.015313148498535,
          8.07011604309082,
          8.259353637695312,
          7.022844314575195,
          9.205389022827148,
          7.3777923583984375,
          8.728662490844727,
          7.721761226654053,
          8.911933898925781,
          8.914011001586914,
          7.836879253387451,
          8.079169273376465,
          8.41696834564209,
          8.93154239654541,
          6.727061748504639,
          6.900130271911621,
          6.651817798614502,
          7.364188194274902,
          8.296107292175293,
          6.680270195007324,
          8.784035682678223,
          7.001276016235352,
          8.191868782043457,
          8.584550857543945,
          6.005818843841553,
          8.676793098449707,
          7.7792067527771,
          9.030072212219238,
          7.28698205947876,
          6.006022930145264,
          7.082474231719971,
          6.314886569976807,
          7.647408485412598,
          8.954391479492188,
          7.564116954803467,
          6.897038459777832,
          7.212734222412109,
          8.396411895751953,
          7.5767974853515625,
          7.925803184509277,
          7.104368686676025,
          8.571770668029785,
          7.579892635345459,
          7.995999336242676,
          7.123060703277588,
          6.897910118103027,
          6.998079776763916,
          8.504373550415039,
          6.292544841766357,
          7.2114715576171875,
          7.594818592071533,
          8.138057708740234,
          8.01755428314209,
          8.961349487304688,
          7.910332679748535,
          7.443656921386719,
          8.818251609802246,
          6.812511920928955,
          6.7216010093688965,
          7.087474822998047,
          8.969334602355957,
          7.779314041137695,
          8.757463455200195,
          7.096075057983398,
          7.190359592437744,
          8.638165473937988,
          7.035789489746094,
          7.4294610023498535,
          7.189805030822754,
          8.162928581237793,
          6.92463493347168,
          8.46394157409668
         ],
         "xaxis": "x",
         "y": [
          -0.4370380640029907,
          -0.8407742381095886,
          0.3803503215312958,
          -2.6551034450531006,
          -0.8379867672920227,
          -0.3256894052028656,
          -3.006235122680664,
          -0.17315413057804108,
          -1.4917089939117432,
          -1.2262520790100098,
          -0.3689529299736023,
          -1.8424794673919678,
          -0.014012179337441921,
          -1.0650577545166016,
          -0.4907817542552948,
          -1.5079983472824097,
          -2.0426583290100098,
          -3.698775291442871,
          0.2542538642883301,
          -0.1620849370956421,
          -2.8717782497406006,
          -3.136202335357666,
          -0.2452099621295929,
          -0.08240964263677597,
          0.07916554808616638,
          -0.36817222833633423,
          -0.5316480398178101,
          0.3653354048728943,
          -1.2664867639541626,
          -0.9759825468063354,
          -1.2703269720077515,
          -0.3572959303855896,
          -0.3780752718448639,
          -0.4999123811721802,
          -1.1879138946533203,
          -0.3066147267818451,
          -0.32442209124565125,
          -2.2149124145507812,
          -1.3159962892532349,
          -2.7214279174804688,
          -2.5597574710845947,
          -1.697493314743042,
          -1.129866600036621,
          -0.6544244289398193,
          -2.289504289627075,
          -3.0334458351135254,
          -0.7477045059204102,
          -1.0770093202590942,
          -0.20477591454982758,
          0.18046602606773376,
          0.07655709981918335,
          -1.4869581460952759,
          -0.7491012215614319,
          0.23147739470005035,
          -0.24475036561489105,
          -1.4863792657852173,
          -1.7160917520523071,
          -2.436648368835449,
          -1.8647464513778687,
          -3.2976198196411133,
          -0.10567797720432281,
          0.06415124982595444,
          -1.3358240127563477,
          -0.3661596179008484,
          -0.05704609677195549,
          -0.5970640182495117,
          -0.3780689239501953,
          -2.5808193683624268,
          -3.2024199962615967,
          -0.8366220593452454,
          -2.5663514137268066,
          -0.39962273836135864,
          -0.8347669839859009,
          -1.4930018186569214,
          -2.1459012031555176,
          -0.041079066693782806,
          -0.8947904109954834,
          -0.7095468044281006,
          -1.5640318393707275,
          -2.2294371128082275,
          -1.6543217897415161,
          -1.8167330026626587,
          0.17808955907821655,
          -0.9345541000366211,
          -3.132364511489868,
          0.13019642233848572,
          -0.656145453453064,
          -0.9108731150627136,
          -0.6349979639053345,
          -0.08171773701906204,
          -2.148219108581543,
          -1.6912730932235718,
          -0.6523007750511169,
          -0.3810206651687622,
          -1.2925370931625366,
          -1.7618982791900635,
          -1.708683967590332,
          0.02977595664560795,
          -1.747031807899475,
          -2.7958250045776367,
          -0.7271514534950256,
          -1.5442171096801758,
          -3.3926331996917725,
          -3.427041530609131,
          -2.272569417953491,
          -3.7572906017303467,
          -1.786316990852356,
          -0.5400933027267456,
          -3.3542261123657227,
          0.05062944442033768,
          -1.837328553199768,
          -1.8863661289215088,
          -2.624868154525757,
          -2.3952126502990723,
          -0.45122048258781433,
          -1.797623634338379,
          -1.7512874603271484,
          -3.2085282802581787,
          -3.3733904361724854,
          -0.16413690149784088,
          -0.062238968908786774,
          -1.311232328414917,
          -3.0255610942840576,
          -0.511957585811615,
          -3.41955828666687,
          -3.342799425125122,
          -1.1388425827026367,
          -0.7621116638183594,
          -1.1266565322875977,
          -1.2096216678619385,
          0.0380372479557991,
          -1.594810962677002,
          0.08086016774177551,
          -3.338146686553955,
          -0.9786748290061951,
          -2.189805030822754,
          0.23298503458499908,
          -2.1691389083862305,
          -2.1470181941986084
         ],
         "yaxis": "y"
        },
        {
         "hovertemplate": "color=GDR<br>x=%{x}<br>y=%{y}<br>size=%{marker.size}<br>text=%{text}<extra></extra>",
         "legendgroup": "GDR",
         "marker": {
          "color": "#EA2027",
          "opacity": 0.9,
          "size": [
           19,
           8,
           91,
           376,
           15,
           8,
           34,
           18,
           137,
           23,
           38,
           233,
           34,
           52,
           67
          ],
          "sizemode": "area",
          "sizeref": 0.315625,
          "symbol": "circle"
         },
         "mode": "markers+text",
         "name": "GDR",
         "orientation": "v",
         "showlegend": true,
         "text": [
          "andre-chassaigne",
          "davy-rimane",
          "elsa-faucillon",
          "fabien-roussel",
          "frederic-maillot",
          "hubert-wulfranc",
          "jean-marc-tellier",
          "jiovanny-william",
          "karine-lebon",
          "nicolas-sansu",
          "pierre-dharreville",
          "sebastien-jumel",
          "soumya-bourouaha",
          "stephane-peu",
          "yannick-monnet"
         ],
         "type": "scatter",
         "x": [
          7.885621070861816,
          6.9733428955078125,
          10.146566390991211,
          10.161266326904297,
          8.04963493347168,
          6.728853225708008,
          9.54055118560791,
          8.014786720275879,
          9.042095184326172,
          7.343746185302734,
          7.377062797546387,
          10.210101127624512,
          9.342497825622559,
          9.23232364654541,
          7.43608283996582
         ],
         "xaxis": "x",
         "y": [
          -3.9730637073516846,
          -3.790536403656006,
          -6.647134780883789,
          -6.847176551818848,
          -3.303215742111206,
          -3.9571692943573,
          -4.918828964233398,
          -1.9529767036437988,
          -4.544216156005859,
          -3.5492069721221924,
          -4.299699306488037,
          -6.609464645385742,
          -5.031907081604004,
          -5.508299827575684,
          -4.062698841094971
         ],
         "yaxis": "y"
        },
        {
         "hovertemplate": "color=MODEM<br>x=%{x}<br>y=%{y}<br>size=%{marker.size}<br>text=%{text}<extra></extra>",
         "legendgroup": "MODEM",
         "marker": {
          "color": "#e67e22",
          "opacity": 0.9,
          "size": [
           79,
           129,
           62,
           30,
           23,
           212,
           7,
           99,
           96,
           88,
           4,
           87,
           59,
           2,
           225,
           174,
           76,
           10,
           4,
           4,
           19,
           5,
           9,
           19,
           128,
           141,
           68,
           40,
           52,
           24,
           76,
           3,
           14,
           58,
           62,
           17,
           50,
           15,
           3,
           106,
           3,
           120
          ],
          "sizemode": "area",
          "sizeref": 0.315625,
          "symbol": "circle"
         },
         "mode": "markers+text",
         "name": "MODEM",
         "orientation": "v",
         "showlegend": true,
         "text": [
          "anne-bergantz",
          "anne-laure-babault",
          "aude-luquet",
          "blandine-brocard",
          "bruno-fuchs",
          "bruno-millienne",
          "christophe-blanchet",
          "cyrille-isaac-sibille",
          "delphine-lingemann",
          "elodie-jacquier-laforge",
          "emmanuel-mandon",
          "erwan-balanant",
          "fabien-laine",
          "frantz-gumbs",
          "frederic-petit",
          "frederic-zgainski",
          "geraldine-bannier",
          "hubert-ott",
          "jean-louis-bourlanges",
          "jean-paul-mattei",
          "jean-pierre-cubertafon",
          "jimmy-pahun",
          "josy-poueyto",
          "laurence-vichnievsky",
          "laurent-croizier",
          "laurent-esquenet-goxes",
          "louise-morel",
          "mathilde-desjonqueres",
          "maud-petit",
          "mickael-cosson",
          "mohamed-laqhila",
          "nicolas-turquois",
          "olivier-falorni",
          "perrine-goulet",
          "philippe-bolo",
          "philippe-latombe",
          "philippe-vigier",
          "richard-ramos",
          "romain-daubie",
          "sabine-thillaye",
          "sophie-mette",
          "vincent-bru"
         ],
         "type": "scatter",
         "x": [
          8.752866744995117,
          7.842350482940674,
          7.553843021392822,
          8.351505279541016,
          6.559704303741455,
          6.407985210418701,
          7.709536552429199,
          8.932990074157715,
          7.690406799316406,
          9.0637788772583,
          6.862957954406738,
          8.727070808410645,
          6.583975791931152,
          6.917932510375977,
          7.347402572631836,
          7.791507244110107,
          8.310315132141113,
          8.296228408813477,
          7.675844669342041,
          7.6883769035339355,
          7.002884864807129,
          7.609406471252441,
          7.196760654449463,
          8.209413528442383,
          8.568096160888672,
          7.82377815246582,
          8.068609237670898,
          7.839071750640869,
          8.377416610717773,
          8.254475593566895,
          6.623007774353027,
          8.377196311950684,
          8.569717407226562,
          7.930242538452148,
          7.889732837677002,
          7.1755452156066895,
          6.448249340057373,
          7.662656784057617,
          6.62186861038208,
          7.255473613739014,
          7.835551738739014,
          7.272443771362305
         ],
         "xaxis": "x",
         "y": [
          -0.5770354866981506,
          -1.283301591873169,
          -0.3197231590747833,
          -1.4707425832748413,
          -0.6154658198356628,
          -1.572204828262329,
          -3.7396962642669678,
          -1.0870157480239868,
          0.25229328870773315,
          -0.4577673673629761,
          -2.923935651779175,
          -0.5155113339424133,
          0.17052987217903137,
          -3.334834575653076,
          0.1926271915435791,
          0.3723548948764801,
          -0.9483140110969543,
          -4.2825608253479,
          -2.0651278495788574,
          -3.4193592071533203,
          -2.198157548904419,
          -1.9859999418258667,
          -2.3535690307617188,
          -1.696602463722229,
          -1.865237832069397,
          -0.6758544445037842,
          0.20746658742427826,
          -3.3452608585357666,
          -0.296712189912796,
          -0.9168436527252197,
          -0.8796830773353577,
          -3.0262370109558105,
          -1.403291940689087,
          -0.2584399878978729,
          -1.1691657304763794,
          -1.524578332901001,
          -3.1051442623138428,
          -3.5106911659240723,
          -3.310929775238037,
          0.16399312019348145,
          -3.070164918899536,
          0.149721160531044
         ],
         "yaxis": "y"
        },
        {
         "hovertemplate": "color=HOR<br>x=%{x}<br>y=%{y}<br>size=%{marker.size}<br>text=%{text}<extra></extra>",
         "legendgroup": "HOR",
         "marker": {
          "color": "#1B1464",
          "opacity": 0.9,
          "size": [
           1,
           70,
           4,
           82,
           4,
           24,
           10,
           255,
           33,
           4,
           53,
           19,
           29,
           16,
           1,
           5,
           104,
           7,
           85,
           65
          ],
          "sizemode": "area",
          "sizeref": 0.315625,
          "symbol": "circle"
         },
         "mode": "markers+text",
         "name": "HOR",
         "orientation": "v",
         "showlegend": true,
         "text": [
          "anne-cecile-violland",
          "anne-le-henanff",
          "beatrice-bellamy",
          "christophe-plassard",
          "didier-lemaire",
          "felicie-gerard",
          "francois-jolivet",
          "jean-charles-larsonneur",
          "jean-francois-portarrieu",
          "jeremie-patrier-leitus",
          "laurent-marcangeli",
          "lise-magnier",
          "loic-kervran",
          "luc-lamirault",
          "naima-moutchou",
          "paul-christophe",
          "philippe-pradal",
          "thierry-benoit",
          "vincent-thiebaut",
          "xavier-albertini"
         ],
         "type": "scatter",
         "x": [
          7.2204203605651855,
          7.483259201049805,
          7.778668403625488,
          7.879713535308838,
          7.636427402496338,
          7.729602336883545,
          6.616776943206787,
          6.967000961303711,
          7.672544479370117,
          7.737372875213623,
          7.47515869140625,
          8.231269836425781,
          6.635737419128418,
          8.569781303405762,
          7.311564922332764,
          7.810905933380127,
          7.01650333404541,
          8.210516929626465,
          8.490710258483887,
          7.048069000244141
         ],
         "xaxis": "x",
         "y": [
          -3.382774829864502,
          -1.3445870876312256,
          -2.6461050510406494,
          -0.13129305839538574,
          -2.0227363109588623,
          -1.534949779510498,
          -3.916008710861206,
          -0.056178729981184006,
          -1.1458687782287598,
          -2.0712194442749023,
          0.11827348917722702,
          -1.3148809671401978,
          -1.7951987981796265,
          -3.103276014328003,
          -3.198820114135742,
          -2.3176422119140625,
          0.3495161235332489,
          -2.603832960128784,
          0.18879669904708862,
          -1.607279658317566
         ],
         "yaxis": "y"
        },
        {
         "hovertemplate": "color=LIOT<br>x=%{x}<br>y=%{y}<br>size=%{marker.size}<br>text=%{text}<extra></extra>",
         "legendgroup": "LIOT",
         "marker": {
          "color": "#2ecc71",
          "opacity": 0.9,
          "size": [
           47,
           21,
           40,
           15,
           99,
           6,
           29,
           26,
           22,
           24,
           15,
           24,
           5
          ],
          "sizemode": "area",
          "sizeref": 0.315625,
          "symbol": "circle"
         },
         "mode": "markers+text",
         "name": "LIOT",
         "orientation": "v",
         "showlegend": true,
         "text": [
          "beatrice-descamps",
          "benjamin-saint-huile",
          "bertrand-pancher",
          "charles-de-courson",
          "david-taupiac",
          "guy-bricout",
          "jean-felix-acquaviva",
          "michel-castellani",
          "olivier-serva",
          "paul-andre-colombani",
          "paul-molac",
          "pierre-morel-a-l-huissier",
          "stephane-lenormand"
         ],
         "type": "scatter",
         "x": [
          7.75102424621582,
          7.421459674835205,
          7.469509601593018,
          7.365450859069824,
          8.456021308898926,
          7.58664083480835,
          8.038182258605957,
          7.6587748527526855,
          6.534347057342529,
          7.869284629821777,
          8.300142288208008,
          7.469388484954834,
          7.727643966674805
         ],
         "xaxis": "x",
         "y": [
          -0.830721378326416,
          -4.0025248527526855,
          -3.486342191696167,
          -2.214279890060425,
          -3.3679466247558594,
          -2.9768002033233643,
          -3.0138652324676514,
          -2.626081705093384,
          -3.2266616821289062,
          -2.302551746368408,
          -3.265725612640381,
          -3.278756856918335,
          -3.6584014892578125
         ],
         "yaxis": "y"
        },
        {
         "hovertemplate": "color=ECO<br>x=%{x}<br>y=%{y}<br>size=%{marker.size}<br>text=%{text}<extra></extra>",
         "legendgroup": "ECO",
         "marker": {
          "color": "#009432",
          "opacity": 0.9,
          "size": [
           304,
           117,
           126,
           16,
           158,
           84,
           54,
           174,
           76,
           112,
           86,
           309,
           309,
           114,
           207,
           124,
           227,
           103,
           349
          ],
          "sizemode": "area",
          "sizeref": 0.315625,
          "symbol": "circle"
         },
         "mode": "markers+text",
         "name": "ECO",
         "orientation": "v",
         "showlegend": true,
         "text": [
          "benjamin-lucas",
          "charles-fournier",
          "christine-arrighi",
          "delphine-batho",
          "eva-sas",
          "francesca-pasquini",
          "hubert-julien-laferriere",
          "jean-claude-raux",
          "jeremie-iordanoff",
          "julie-laernoes",
          "lisa-belluco",
          "marie-charlotte-garin",
          "marie-pochon",
          "nicolas-thierry",
          "sabrina-sebaihi",
          "sandra-regol",
          "sandrine-rousseau",
          "sebastien-peytavie",
          "sophie-taille-polian"
         ],
         "type": "scatter",
         "x": [
          9.278131484985352,
          8.77729606628418,
          8.721552848815918,
          6.999721527099609,
          8.989240646362305,
          8.368548393249512,
          8.47751522064209,
          9.070701599121094,
          7.194894313812256,
          9.112092018127441,
          8.519051551818848,
          9.472786903381348,
          8.83592414855957,
          8.672855377197266,
          9.198260307312012,
          8.778059005737305,
          9.337138175964355,
          9.144617080688477,
          9.567853927612305
         ],
         "xaxis": "x",
         "y": [
          -6.877058029174805,
          -4.965404987335205,
          -5.206981658935547,
          -4.294092178344727,
          -5.713923931121826,
          -4.138946533203125,
          -4.468999862670898,
          -5.133285999298096,
          -4.207860946655273,
          -5.12010383605957,
          -4.801417827606201,
          -5.934492588043213,
          -5.086057662963867,
          -4.871538162231445,
          -5.13726282119751,
          -5.085237979888916,
          -6.200730323791504,
          -4.575085163116455,
          -6.4091691970825195
         ],
         "yaxis": "y"
        },
        {
         "hovertemplate": "color=NI<br>x=%{x}<br>y=%{y}<br>size=%{marker.size}<br>text=%{text}<extra></extra>",
         "legendgroup": "NI",
         "marker": {
          "color": "#95a5a6",
          "opacity": 0.9,
          "size": [
           1,
           5,
           505,
           72
          ],
          "sizemode": "area",
          "sizeref": 0.315625,
          "symbol": "circle"
         },
         "mode": "markers+text",
         "name": "NI",
         "orientation": "v",
         "showlegend": true,
         "text": [
          "david-habib",
          "emmanuelle-menard",
          "nicolas-dupont-aignan",
          "veronique-besse"
         ],
         "type": "scatter",
         "x": [
          6.822667121887207,
          6.705669403076172,
          1.5808374881744385,
          6.510814666748047
         ],
         "xaxis": "x",
         "y": [
          -3.6212453842163086,
          -3.2719287872314453,
          2.6641933917999268,
          -3.7286479473114014
         ],
         "yaxis": "y"
        }
       ],
       "layout": {
        "height": 1000,
        "legend": {
         "itemsizing": "constant",
         "title": {
          "text": "color"
         },
         "tracegroupgap": 0
        },
        "margin": {
         "t": 60
        },
        "template": {
         "data": {
          "bar": [
           {
            "error_x": {
             "color": "#2a3f5f"
            },
            "error_y": {
             "color": "#2a3f5f"
            },
            "marker": {
             "line": {
              "color": "#E5ECF6",
              "width": 0.5
             },
             "pattern": {
              "fillmode": "overlay",
              "size": 10,
              "solidity": 0.2
             }
            },
            "type": "bar"
           }
          ],
          "barpolar": [
           {
            "marker": {
             "line": {
              "color": "#E5ECF6",
              "width": 0.5
             },
             "pattern": {
              "fillmode": "overlay",
              "size": 10,
              "solidity": 0.2
             }
            },
            "type": "barpolar"
           }
          ],
          "carpet": [
           {
            "aaxis": {
             "endlinecolor": "#2a3f5f",
             "gridcolor": "white",
             "linecolor": "white",
             "minorgridcolor": "white",
             "startlinecolor": "#2a3f5f"
            },
            "baxis": {
             "endlinecolor": "#2a3f5f",
             "gridcolor": "white",
             "linecolor": "white",
             "minorgridcolor": "white",
             "startlinecolor": "#2a3f5f"
            },
            "type": "carpet"
           }
          ],
          "choropleth": [
           {
            "colorbar": {
             "outlinewidth": 0,
             "ticks": ""
            },
            "type": "choropleth"
           }
          ],
          "contour": [
           {
            "colorbar": {
             "outlinewidth": 0,
             "ticks": ""
            },
            "colorscale": [
             [
              0,
              "#0d0887"
             ],
             [
              0.1111111111111111,
              "#46039f"
             ],
             [
              0.2222222222222222,
              "#7201a8"
             ],
             [
              0.3333333333333333,
              "#9c179e"
             ],
             [
              0.4444444444444444,
              "#bd3786"
             ],
             [
              0.5555555555555556,
              "#d8576b"
             ],
             [
              0.6666666666666666,
              "#ed7953"
             ],
             [
              0.7777777777777778,
              "#fb9f3a"
             ],
             [
              0.8888888888888888,
              "#fdca26"
             ],
             [
              1,
              "#f0f921"
             ]
            ],
            "type": "contour"
           }
          ],
          "contourcarpet": [
           {
            "colorbar": {
             "outlinewidth": 0,
             "ticks": ""
            },
            "type": "contourcarpet"
           }
          ],
          "heatmap": [
           {
            "colorbar": {
             "outlinewidth": 0,
             "ticks": ""
            },
            "colorscale": [
             [
              0,
              "#0d0887"
             ],
             [
              0.1111111111111111,
              "#46039f"
             ],
             [
              0.2222222222222222,
              "#7201a8"
             ],
             [
              0.3333333333333333,
              "#9c179e"
             ],
             [
              0.4444444444444444,
              "#bd3786"
             ],
             [
              0.5555555555555556,
              "#d8576b"
             ],
             [
              0.6666666666666666,
              "#ed7953"
             ],
             [
              0.7777777777777778,
              "#fb9f3a"
             ],
             [
              0.8888888888888888,
              "#fdca26"
             ],
             [
              1,
              "#f0f921"
             ]
            ],
            "type": "heatmap"
           }
          ],
          "heatmapgl": [
           {
            "colorbar": {
             "outlinewidth": 0,
             "ticks": ""
            },
            "colorscale": [
             [
              0,
              "#0d0887"
             ],
             [
              0.1111111111111111,
              "#46039f"
             ],
             [
              0.2222222222222222,
              "#7201a8"
             ],
             [
              0.3333333333333333,
              "#9c179e"
             ],
             [
              0.4444444444444444,
              "#bd3786"
             ],
             [
              0.5555555555555556,
              "#d8576b"
             ],
             [
              0.6666666666666666,
              "#ed7953"
             ],
             [
              0.7777777777777778,
              "#fb9f3a"
             ],
             [
              0.8888888888888888,
              "#fdca26"
             ],
             [
              1,
              "#f0f921"
             ]
            ],
            "type": "heatmapgl"
           }
          ],
          "histogram": [
           {
            "marker": {
             "pattern": {
              "fillmode": "overlay",
              "size": 10,
              "solidity": 0.2
             }
            },
            "type": "histogram"
           }
          ],
          "histogram2d": [
           {
            "colorbar": {
             "outlinewidth": 0,
             "ticks": ""
            },
            "colorscale": [
             [
              0,
              "#0d0887"
             ],
             [
              0.1111111111111111,
              "#46039f"
             ],
             [
              0.2222222222222222,
              "#7201a8"
             ],
             [
              0.3333333333333333,
              "#9c179e"
             ],
             [
              0.4444444444444444,
              "#bd3786"
             ],
             [
              0.5555555555555556,
              "#d8576b"
             ],
             [
              0.6666666666666666,
              "#ed7953"
             ],
             [
              0.7777777777777778,
              "#fb9f3a"
             ],
             [
              0.8888888888888888,
              "#fdca26"
             ],
             [
              1,
              "#f0f921"
             ]
            ],
            "type": "histogram2d"
           }
          ],
          "histogram2dcontour": [
           {
            "colorbar": {
             "outlinewidth": 0,
             "ticks": ""
            },
            "colorscale": [
             [
              0,
              "#0d0887"
             ],
             [
              0.1111111111111111,
              "#46039f"
             ],
             [
              0.2222222222222222,
              "#7201a8"
             ],
             [
              0.3333333333333333,
              "#9c179e"
             ],
             [
              0.4444444444444444,
              "#bd3786"
             ],
             [
              0.5555555555555556,
              "#d8576b"
             ],
             [
              0.6666666666666666,
              "#ed7953"
             ],
             [
              0.7777777777777778,
              "#fb9f3a"
             ],
             [
              0.8888888888888888,
              "#fdca26"
             ],
             [
              1,
              "#f0f921"
             ]
            ],
            "type": "histogram2dcontour"
           }
          ],
          "mesh3d": [
           {
            "colorbar": {
             "outlinewidth": 0,
             "ticks": ""
            },
            "type": "mesh3d"
           }
          ],
          "parcoords": [
           {
            "line": {
             "colorbar": {
              "outlinewidth": 0,
              "ticks": ""
             }
            },
            "type": "parcoords"
           }
          ],
          "pie": [
           {
            "automargin": true,
            "type": "pie"
           }
          ],
          "scatter": [
           {
            "fillpattern": {
             "fillmode": "overlay",
             "size": 10,
             "solidity": 0.2
            },
            "type": "scatter"
           }
          ],
          "scatter3d": [
           {
            "line": {
             "colorbar": {
              "outlinewidth": 0,
              "ticks": ""
             }
            },
            "marker": {
             "colorbar": {
              "outlinewidth": 0,
              "ticks": ""
             }
            },
            "type": "scatter3d"
           }
          ],
          "scattercarpet": [
           {
            "marker": {
             "colorbar": {
              "outlinewidth": 0,
              "ticks": ""
             }
            },
            "type": "scattercarpet"
           }
          ],
          "scattergeo": [
           {
            "marker": {
             "colorbar": {
              "outlinewidth": 0,
              "ticks": ""
             }
            },
            "type": "scattergeo"
           }
          ],
          "scattergl": [
           {
            "marker": {
             "colorbar": {
              "outlinewidth": 0,
              "ticks": ""
             }
            },
            "type": "scattergl"
           }
          ],
          "scattermapbox": [
           {
            "marker": {
             "colorbar": {
              "outlinewidth": 0,
              "ticks": ""
             }
            },
            "type": "scattermapbox"
           }
          ],
          "scatterpolar": [
           {
            "marker": {
             "colorbar": {
              "outlinewidth": 0,
              "ticks": ""
             }
            },
            "type": "scatterpolar"
           }
          ],
          "scatterpolargl": [
           {
            "marker": {
             "colorbar": {
              "outlinewidth": 0,
              "ticks": ""
             }
            },
            "type": "scatterpolargl"
           }
          ],
          "scatterternary": [
           {
            "marker": {
             "colorbar": {
              "outlinewidth": 0,
              "ticks": ""
             }
            },
            "type": "scatterternary"
           }
          ],
          "surface": [
           {
            "colorbar": {
             "outlinewidth": 0,
             "ticks": ""
            },
            "colorscale": [
             [
              0,
              "#0d0887"
             ],
             [
              0.1111111111111111,
              "#46039f"
             ],
             [
              0.2222222222222222,
              "#7201a8"
             ],
             [
              0.3333333333333333,
              "#9c179e"
             ],
             [
              0.4444444444444444,
              "#bd3786"
             ],
             [
              0.5555555555555556,
              "#d8576b"
             ],
             [
              0.6666666666666666,
              "#ed7953"
             ],
             [
              0.7777777777777778,
              "#fb9f3a"
             ],
             [
              0.8888888888888888,
              "#fdca26"
             ],
             [
              1,
              "#f0f921"
             ]
            ],
            "type": "surface"
           }
          ],
          "table": [
           {
            "cells": {
             "fill": {
              "color": "#EBF0F8"
             },
             "line": {
              "color": "white"
             }
            },
            "header": {
             "fill": {
              "color": "#C8D4E3"
             },
             "line": {
              "color": "white"
             }
            },
            "type": "table"
           }
          ]
         },
         "layout": {
          "annotationdefaults": {
           "arrowcolor": "#2a3f5f",
           "arrowhead": 0,
           "arrowwidth": 1
          },
          "autotypenumbers": "strict",
          "coloraxis": {
           "colorbar": {
            "outlinewidth": 0,
            "ticks": ""
           }
          },
          "colorscale": {
           "diverging": [
            [
             0,
             "#8e0152"
            ],
            [
             0.1,
             "#c51b7d"
            ],
            [
             0.2,
             "#de77ae"
            ],
            [
             0.3,
             "#f1b6da"
            ],
            [
             0.4,
             "#fde0ef"
            ],
            [
             0.5,
             "#f7f7f7"
            ],
            [
             0.6,
             "#e6f5d0"
            ],
            [
             0.7,
             "#b8e186"
            ],
            [
             0.8,
             "#7fbc41"
            ],
            [
             0.9,
             "#4d9221"
            ],
            [
             1,
             "#276419"
            ]
           ],
           "sequential": [
            [
             0,
             "#0d0887"
            ],
            [
             0.1111111111111111,
             "#46039f"
            ],
            [
             0.2222222222222222,
             "#7201a8"
            ],
            [
             0.3333333333333333,
             "#9c179e"
            ],
            [
             0.4444444444444444,
             "#bd3786"
            ],
            [
             0.5555555555555556,
             "#d8576b"
            ],
            [
             0.6666666666666666,
             "#ed7953"
            ],
            [
             0.7777777777777778,
             "#fb9f3a"
            ],
            [
             0.8888888888888888,
             "#fdca26"
            ],
            [
             1,
             "#f0f921"
            ]
           ],
           "sequentialminus": [
            [
             0,
             "#0d0887"
            ],
            [
             0.1111111111111111,
             "#46039f"
            ],
            [
             0.2222222222222222,
             "#7201a8"
            ],
            [
             0.3333333333333333,
             "#9c179e"
            ],
            [
             0.4444444444444444,
             "#bd3786"
            ],
            [
             0.5555555555555556,
             "#d8576b"
            ],
            [
             0.6666666666666666,
             "#ed7953"
            ],
            [
             0.7777777777777778,
             "#fb9f3a"
            ],
            [
             0.8888888888888888,
             "#fdca26"
            ],
            [
             1,
             "#f0f921"
            ]
           ]
          },
          "colorway": [
           "#636efa",
           "#EF553B",
           "#00cc96",
           "#ab63fa",
           "#FFA15A",
           "#19d3f3",
           "#FF6692",
           "#B6E880",
           "#FF97FF",
           "#FECB52"
          ],
          "font": {
           "color": "#2a3f5f"
          },
          "geo": {
           "bgcolor": "white",
           "lakecolor": "white",
           "landcolor": "#E5ECF6",
           "showlakes": true,
           "showland": true,
           "subunitcolor": "white"
          },
          "hoverlabel": {
           "align": "left"
          },
          "hovermode": "closest",
          "mapbox": {
           "style": "light"
          },
          "paper_bgcolor": "white",
          "plot_bgcolor": "#E5ECF6",
          "polar": {
           "angularaxis": {
            "gridcolor": "white",
            "linecolor": "white",
            "ticks": ""
           },
           "bgcolor": "#E5ECF6",
           "radialaxis": {
            "gridcolor": "white",
            "linecolor": "white",
            "ticks": ""
           }
          },
          "scene": {
           "xaxis": {
            "backgroundcolor": "#E5ECF6",
            "gridcolor": "white",
            "gridwidth": 2,
            "linecolor": "white",
            "showbackground": true,
            "ticks": "",
            "zerolinecolor": "white"
           },
           "yaxis": {
            "backgroundcolor": "#E5ECF6",
            "gridcolor": "white",
            "gridwidth": 2,
            "linecolor": "white",
            "showbackground": true,
            "ticks": "",
            "zerolinecolor": "white"
           },
           "zaxis": {
            "backgroundcolor": "#E5ECF6",
            "gridcolor": "white",
            "gridwidth": 2,
            "linecolor": "white",
            "showbackground": true,
            "ticks": "",
            "zerolinecolor": "white"
           }
          },
          "shapedefaults": {
           "line": {
            "color": "#2a3f5f"
           }
          },
          "ternary": {
           "aaxis": {
            "gridcolor": "white",
            "linecolor": "white",
            "ticks": ""
           },
           "baxis": {
            "gridcolor": "white",
            "linecolor": "white",
            "ticks": ""
           },
           "bgcolor": "#E5ECF6",
           "caxis": {
            "gridcolor": "white",
            "linecolor": "white",
            "ticks": ""
           }
          },
          "title": {
           "x": 0.05
          },
          "xaxis": {
           "automargin": true,
           "gridcolor": "white",
           "linecolor": "white",
           "ticks": "",
           "title": {
            "standoff": 15
           },
           "zerolinecolor": "white",
           "zerolinewidth": 2
          },
          "yaxis": {
           "automargin": true,
           "gridcolor": "white",
           "linecolor": "white",
           "ticks": "",
           "title": {
            "standoff": 15
           },
           "zerolinecolor": "white",
           "zerolinewidth": 2
          }
         }
        },
        "xaxis": {
         "anchor": "y",
         "domain": [
          0,
          1
         ],
         "title": {
          "text": "x"
         }
        },
        "yaxis": {
         "anchor": "x",
         "domain": [
          0,
          1
         ],
         "title": {
          "text": "y"
         }
        }
       }
      }
     },
     "metadata": {},
     "output_type": "display_data"
    }
   ],
   "source": [
    "fig = px.scatter(x=user_vec_reduced[:,0],y=user_vec_reduced[:,1],color=[user2groupe[user] for user in model.dv.index_to_key],size=[count_tweet[user] for user in model.dv.index_to_key],color_discrete_map=gp_politique_color,\n",
    "           text= model.dv.index_to_key, height=1000,opacity=0.9,size_max=40)\n",
    "fig"
   ]
  },
  {
   "cell_type": "code",
   "execution_count": 10,
   "metadata": {},
   "outputs": [
    {
     "data": {
      "application/vnd.plotly.v1+json": {
       "config": {
        "plotlyServerURL": "https://plot.ly"
       },
       "data": [
        {
         "contours": {
          "coloring": "none"
         },
         "hovertemplate": "color=LFI<br>x=%{x}<br>y=%{y}<br>count=%{z}<extra></extra>",
         "legendgroup": "LFI",
         "line": {
          "color": "#c0392b"
         },
         "name": "LFI",
         "showlegend": true,
         "type": "histogram2dcontour",
         "x": [
          10.171577453613281,
          9.685401916503906,
          10.291943550109863,
          10.185226440429688,
          10.00371265411377,
          9.816910743713379,
          9.82712173461914,
          9.972698211669922,
          10.050771713256836,
          9.504976272583008,
          9.330395698547363,
          10.035013198852539,
          9.510986328125,
          10.092543601989746,
          9.76104736328125,
          10.111532211303711,
          9.442150115966797,
          9.817156791687012,
          9.887333869934082,
          9.641824722290039,
          10.250198364257812,
          9.652952194213867,
          9.49642562866211,
          7.575784683227539,
          6.6419477462768555,
          10.224787712097168,
          10.438657760620117,
          10.053916931152344,
          10.086563110351562,
          9.55992603302002,
          9.188881874084473,
          9.707326889038086,
          9.956661224365234,
          10.203302383422852,
          9.65859317779541,
          9.575150489807129,
          9.804617881774902,
          9.228395462036133,
          9.960330963134766,
          9.695374488830566,
          10.098763465881348,
          10.100521087646484,
          10.09681224822998,
          10.218583106994629,
          10.257378578186035,
          10.103299140930176,
          9.626886367797852,
          10.026827812194824,
          9.682653427124023,
          9.60558795928955,
          10.174330711364746,
          9.641700744628906,
          9.640525817871094,
          9.746047973632812,
          9.488197326660156,
          10.18637466430664,
          9.920461654663086,
          10.066913604736328,
          10.055591583251953,
          9.641471862792969
         ],
         "xaxis": "x",
         "xbingroup": "x",
         "y": [
          -6.7718353271484375,
          -6.530470371246338,
          -6.642442226409912,
          -6.5836076736450195,
          -5.793982982635498,
          -6.46309232711792,
          -6.941567897796631,
          -6.386293411254883,
          -6.939211368560791,
          -6.464595317840576,
          -5.47688102722168,
          -5.5158562660217285,
          -6.087830543518066,
          -6.51046895980835,
          -6.973042011260986,
          -6.824178218841553,
          -6.659373760223389,
          -6.570016384124756,
          -5.913311004638672,
          -5.500857353210449,
          -6.460168361663818,
          -6.82527494430542,
          -5.321797847747803,
          -3.532532215118408,
          -3.908893346786499,
          -6.799190044403076,
          -6.448417663574219,
          -6.042202472686768,
          -6.528268337249756,
          -6.573281764984131,
          -6.5441436767578125,
          -6.730935096740723,
          -5.744206428527832,
          -5.510149955749512,
          -5.93411111831665,
          -6.447128772735596,
          -5.801197052001953,
          -6.767247676849365,
          -6.298182010650635,
          -5.202398777008057,
          -5.499318599700928,
          -6.744892597198486,
          -6.3099684715271,
          -6.00367546081543,
          -5.762806415557861,
          -5.525252342224121,
          -6.381740570068359,
          -6.281013011932373,
          -5.27077054977417,
          -6.450599670410156,
          -5.998857021331787,
          -7.001941680908203,
          -6.180500507354736,
          -6.336008071899414,
          -6.643432140350342,
          -5.840999126434326,
          -6.6006035804748535,
          -5.678314208984375,
          -6.290556907653809,
          -6.558539867401123
         ],
         "yaxis": "y",
         "ybingroup": "y"
        },
        {
         "contours": {
          "coloring": "none"
         },
         "hovertemplate": "color=SOC<br>x=%{x}<br>y=%{y}<br>count=%{z}<extra></extra>",
         "legendgroup": "SOC",
         "line": {
          "color": "#ED4C67"
         },
         "name": "SOC",
         "showlegend": true,
         "type": "histogram2dcontour",
         "x": [
          7.2072649002075195,
          7.484654426574707,
          9.010149955749512,
          7.443839073181152,
          8.789193153381348,
          7.05895471572876,
          8.826887130737305,
          7.743691444396973,
          9.245743751525879,
          7.998965740203857,
          8.597342491149902,
          7.503428936004639,
          9.069192886352539,
          8.424525260925293,
          8.794302940368652,
          7.526919841766357,
          8.253219604492188,
          8.555065155029297,
          9.299936294555664,
          9.587505340576172,
          6.862644672393799,
          8.854759216308594,
          7.627681255340576,
          8.94327163696289,
          6.6138129234313965
         ],
         "xaxis": "x",
         "xbingroup": "x",
         "y": [
          -3.868337869644165,
          -4.1647467613220215,
          -5.783599853515625,
          -3.8032140731811523,
          -3.6178841590881348,
          -3.9275543689727783,
          -3.1017825603485107,
          -3.6019346714019775,
          -4.8014960289001465,
          -4.349177360534668,
          -4.078448295593262,
          -3.916571855545044,
          -4.963378429412842,
          -1.9388325214385986,
          -5.627434253692627,
          -4.124024391174316,
          -3.7081565856933594,
          -3.751800775527954,
          -4.724328994750977,
          -7.084404468536377,
          -4.114124298095703,
          -4.2254743576049805,
          -4.12040376663208,
          -4.540950298309326,
          -0.5738472938537598
         ],
         "yaxis": "y",
         "ybingroup": "y"
        },
        {
         "contours": {
          "coloring": "none"
         },
         "hovertemplate": "color=LR<br>x=%{x}<br>y=%{y}<br>count=%{z}<extra></extra>",
         "legendgroup": "LR",
         "line": {
          "color": "#2980b9"
         },
         "name": "LR",
         "showlegend": true,
         "type": "histogram2dcontour",
         "x": [
          7.188746929168701,
          7.541232109069824,
          6.123603820800781,
          6.0007853507995605,
          6.824580192565918,
          6.251924514770508,
          7.810318470001221,
          7.151259899139404,
          6.882545471191406,
          6.952418327331543,
          6.471232891082764,
          6.700558185577393,
          7.487026691436768,
          6.141195774078369,
          7.580465793609619,
          7.108077049255371,
          6.8294196128845215,
          6.545376777648926,
          7.2249298095703125,
          1.6394850015640259,
          7.825695991516113,
          6.593439102172852,
          6.30238676071167,
          7.538797378540039,
          6.832333564758301,
          6.980714321136475,
          7.252134799957275,
          7.558926105499268,
          6.405856132507324,
          8.147765159606934,
          7.1146368980407715,
          7.054419040679932,
          6.274120807647705,
          6.936495304107666,
          7.433518886566162,
          7.003729820251465,
          8.279887199401855,
          7.936112880706787,
          7.368457794189453
         ],
         "xaxis": "x",
         "xbingroup": "x",
         "y": [
          0.39683547616004944,
          -3.884207248687744,
          -2.1904525756835938,
          -1.6615325212478638,
          -3.700619697570801,
          -1.9670988321304321,
          -2.4774107933044434,
          -3.5901546478271484,
          -2.4470772743225098,
          0.524581253528595,
          -2.312270402908325,
          -1.7524206638336182,
          -1.7509379386901855,
          -2.1232142448425293,
          -2.5033345222473145,
          -3.7162492275238037,
          -3.5044753551483154,
          -2.106877565383911,
          -2.8107857704162598,
          2.3176751136779785,
          -3.2241718769073486,
          -2.110856771469116,
          -2.964967727661133,
          -2.810375928878784,
          0.2920070290565491,
          -3.687309741973877,
          -2.843848705291748,
          -0.822327196598053,
          -1.0394699573516846,
          -2.486367702484131,
          -3.133533000946045,
          -2.957387685775757,
          -2.0714902877807617,
          -4.015378475189209,
          -1.7513816356658936,
          -3.458014965057373,
          -2.45017409324646,
          -3.4913954734802246,
          -3.117962598800659
         ],
         "yaxis": "y",
         "ybingroup": "y"
        },
        {
         "contours": {
          "coloring": "none"
         },
         "hovertemplate": "color=RN<br>x=%{x}<br>y=%{y}<br>count=%{z}<extra></extra>",
         "legendgroup": "RN",
         "line": {
          "color": "#2c3e50"
         },
         "name": "RN",
         "showlegend": true,
         "type": "histogram2dcontour",
         "x": [
          0.8446917533874512,
          1.0745739936828613,
          1.8632153272628784,
          0.962637722492218,
          1.0935226678848267,
          1.2962603569030762,
          1.5837278366088867,
          1.7260053157806396,
          1.4276431798934937,
          1.202784538269043,
          1.481459379196167,
          0.9253221750259399,
          1.5067853927612305,
          1.0756672620773315,
          1.3641606569290161,
          1.6664127111434937,
          1.1740161180496216,
          1.2177867889404297,
          1.6431692838668823,
          1.2746214866638184,
          1.2786556482315063,
          0.9951037764549255,
          0.8626474142074585,
          1.3759515285491943,
          0.8389629125595093,
          0.8311094045639038,
          1.2142752408981323,
          1.9013837575912476,
          0.9015337824821472,
          1.9818291664123535,
          1.8802869319915771,
          1.6881595849990845,
          1.3337843418121338,
          1.0301388502120972,
          1.7857688665390015,
          0.9998620748519897,
          0.8697099089622498,
          1.0375566482543945,
          1.1568820476531982,
          1.4261609315872192,
          6.665043830871582,
          1.0094202756881714,
          1.3813928365707397,
          6.933712005615234,
          0.9140136241912842,
          1.2205524444580078,
          1.094342589378357,
          1.3522182703018188,
          1.6012449264526367,
          0.9191291332244873,
          1.6298810243606567,
          1.3529850244522095,
          1.3524742126464844,
          1.3904752731323242,
          1.8139219284057617,
          1.5225690603256226,
          7.496633529663086,
          1.0015989542007446,
          7.230042934417725,
          1.1030843257904053,
          1.8013521432876587,
          1.166015863418579,
          1.6703099012374878,
          0.9340954422950745,
          1.438347578048706,
          1.651290774345398,
          1.0687803030014038
         ],
         "xaxis": "x",
         "xbingroup": "x",
         "y": [
          2.939849376678467,
          2.7436606884002686,
          2.7545342445373535,
          3.7752368450164795,
          3.5462396144866943,
          3.849652051925659,
          3.0960137844085693,
          3.2524187564849854,
          2.717731237411499,
          2.5353591442108154,
          3.0776584148406982,
          3.8728675842285156,
          3.3751730918884277,
          3.8207361698150635,
          3.5836472511291504,
          3.58908748626709,
          2.879307508468628,
          3.4621541500091553,
          2.8082661628723145,
          3.9384729862213135,
          2.5434834957122803,
          4.0010666847229,
          2.726184606552124,
          3.189786672592163,
          2.9339170455932617,
          3.0604987144470215,
          2.594043731689453,
          2.790870428085327,
          3.081591844558716,
          2.6117093563079834,
          2.6529905796051025,
          2.652493953704834,
          2.869358539581299,
          3.5459697246551514,
          3.6700198650360107,
          3.997375249862671,
          3.031122922897339,
          3.8013594150543213,
          3.4486660957336426,
          2.5303633213043213,
          -4.055796146392822,
          2.9087202548980713,
          3.6126670837402344,
          -4.1587815284729,
          3.1428215503692627,
          3.7240207195281982,
          2.7860262393951416,
          3.675201416015625,
          3.1356849670410156,
          3.58530592918396,
          3.3472371101379395,
          2.6742258071899414,
          2.539419651031494,
          3.369136095046997,
          2.3857154846191406,
          2.549797296524048,
          -3.3165283203125,
          3.4475584030151367,
          -3.372833490371704,
          3.7368955612182617,
          2.957520008087158,
          3.675208330154419,
          3.8000566959381104,
          2.876326322555542,
          3.2460711002349854,
          2.981534957885742,
          3.201629638671875
         ],
         "yaxis": "y",
         "ybingroup": "y"
        },
        {
         "contours": {
          "coloring": "none"
         },
         "hovertemplate": "color=REN<br>x=%{x}<br>y=%{y}<br>count=%{z}<extra></extra>",
         "legendgroup": "REN",
         "line": {
          "color": "#3498db"
         },
         "name": "REN",
         "showlegend": true,
         "type": "histogram2dcontour",
         "x": [
          7.190959930419922,
          7.159377574920654,
          7.751785755157471,
          8.680843353271484,
          8.812800407409668,
          6.768496036529541,
          7.124800682067871,
          9.095712661743164,
          7.636379718780518,
          6.863268852233887,
          7.977743625640869,
          7.3876261711120605,
          8.771671295166016,
          7.996971130371094,
          6.661895275115967,
          7.731881141662598,
          7.390453815460205,
          6.365277290344238,
          7.393019199371338,
          8.623929977416992,
          7.570948123931885,
          8.314152717590332,
          7.997883319854736,
          9.01009464263916,
          8.718326568603516,
          8.803525924682617,
          6.9641265869140625,
          8.257864952087402,
          8.826732635498047,
          8.294608116149902,
          6.953250885009766,
          6.810742378234863,
          8.456855773925781,
          8.543800354003906,
          8.298861503601074,
          6.803758144378662,
          7.851533889770508,
          6.271238803863525,
          8.627378463745117,
          7.6241021156311035,
          7.612175464630127,
          6.478898048400879,
          7.3777875900268555,
          7.555186748504639,
          8.053915977478027,
          8.319388389587402,
          7.171538352966309,
          8.442239761352539,
          9.086287498474121,
          6.9408278465271,
          8.152302742004395,
          6.178019046783447,
          7.3510212898254395,
          7.189344882965088,
          8.941365242004395,
          8.851155281066895,
          5.949437618255615,
          7.398464202880859,
          7.810721397399902,
          7.874444484710693,
          9.002822875976562,
          8.652222633361816,
          7.293776512145996,
          8.445995330810547,
          7.375015735626221,
          8.365904808044434,
          9.259252548217773,
          8.015313148498535,
          8.07011604309082,
          8.259353637695312,
          7.022844314575195,
          9.205389022827148,
          7.3777923583984375,
          8.728662490844727,
          7.721761226654053,
          8.911933898925781,
          8.914011001586914,
          7.836879253387451,
          8.079169273376465,
          8.41696834564209,
          8.93154239654541,
          6.727061748504639,
          6.900130271911621,
          6.651817798614502,
          7.364188194274902,
          8.296107292175293,
          6.680270195007324,
          8.784035682678223,
          7.001276016235352,
          8.191868782043457,
          8.584550857543945,
          6.005818843841553,
          8.676793098449707,
          7.7792067527771,
          9.030072212219238,
          7.28698205947876,
          6.006022930145264,
          7.082474231719971,
          6.314886569976807,
          7.647408485412598,
          8.954391479492188,
          7.564116954803467,
          6.897038459777832,
          7.212734222412109,
          8.396411895751953,
          7.5767974853515625,
          7.925803184509277,
          7.104368686676025,
          8.571770668029785,
          7.579892635345459,
          7.995999336242676,
          7.123060703277588,
          6.897910118103027,
          6.998079776763916,
          8.504373550415039,
          6.292544841766357,
          7.2114715576171875,
          7.594818592071533,
          8.138057708740234,
          8.01755428314209,
          8.961349487304688,
          7.910332679748535,
          7.443656921386719,
          8.818251609802246,
          6.812511920928955,
          6.7216010093688965,
          7.087474822998047,
          8.969334602355957,
          7.779314041137695,
          8.757463455200195,
          7.096075057983398,
          7.190359592437744,
          8.638165473937988,
          7.035789489746094,
          7.4294610023498535,
          7.189805030822754,
          8.162928581237793,
          6.92463493347168,
          8.46394157409668
         ],
         "xaxis": "x",
         "xbingroup": "x",
         "y": [
          -0.4370380640029907,
          -0.8407742381095886,
          0.3803503215312958,
          -2.6551034450531006,
          -0.8379867672920227,
          -0.3256894052028656,
          -3.006235122680664,
          -0.17315413057804108,
          -1.4917089939117432,
          -1.2262520790100098,
          -0.3689529299736023,
          -1.8424794673919678,
          -0.014012179337441921,
          -1.0650577545166016,
          -0.4907817542552948,
          -1.5079983472824097,
          -2.0426583290100098,
          -3.698775291442871,
          0.2542538642883301,
          -0.1620849370956421,
          -2.8717782497406006,
          -3.136202335357666,
          -0.2452099621295929,
          -0.08240964263677597,
          0.07916554808616638,
          -0.36817222833633423,
          -0.5316480398178101,
          0.3653354048728943,
          -1.2664867639541626,
          -0.9759825468063354,
          -1.2703269720077515,
          -0.3572959303855896,
          -0.3780752718448639,
          -0.4999123811721802,
          -1.1879138946533203,
          -0.3066147267818451,
          -0.32442209124565125,
          -2.2149124145507812,
          -1.3159962892532349,
          -2.7214279174804688,
          -2.5597574710845947,
          -1.697493314743042,
          -1.129866600036621,
          -0.6544244289398193,
          -2.289504289627075,
          -3.0334458351135254,
          -0.7477045059204102,
          -1.0770093202590942,
          -0.20477591454982758,
          0.18046602606773376,
          0.07655709981918335,
          -1.4869581460952759,
          -0.7491012215614319,
          0.23147739470005035,
          -0.24475036561489105,
          -1.4863792657852173,
          -1.7160917520523071,
          -2.436648368835449,
          -1.8647464513778687,
          -3.2976198196411133,
          -0.10567797720432281,
          0.06415124982595444,
          -1.3358240127563477,
          -0.3661596179008484,
          -0.05704609677195549,
          -0.5970640182495117,
          -0.3780689239501953,
          -2.5808193683624268,
          -3.2024199962615967,
          -0.8366220593452454,
          -2.5663514137268066,
          -0.39962273836135864,
          -0.8347669839859009,
          -1.4930018186569214,
          -2.1459012031555176,
          -0.041079066693782806,
          -0.8947904109954834,
          -0.7095468044281006,
          -1.5640318393707275,
          -2.2294371128082275,
          -1.6543217897415161,
          -1.8167330026626587,
          0.17808955907821655,
          -0.9345541000366211,
          -3.132364511489868,
          0.13019642233848572,
          -0.656145453453064,
          -0.9108731150627136,
          -0.6349979639053345,
          -0.08171773701906204,
          -2.148219108581543,
          -1.6912730932235718,
          -0.6523007750511169,
          -0.3810206651687622,
          -1.2925370931625366,
          -1.7618982791900635,
          -1.708683967590332,
          0.02977595664560795,
          -1.747031807899475,
          -2.7958250045776367,
          -0.7271514534950256,
          -1.5442171096801758,
          -3.3926331996917725,
          -3.427041530609131,
          -2.272569417953491,
          -3.7572906017303467,
          -1.786316990852356,
          -0.5400933027267456,
          -3.3542261123657227,
          0.05062944442033768,
          -1.837328553199768,
          -1.8863661289215088,
          -2.624868154525757,
          -2.3952126502990723,
          -0.45122048258781433,
          -1.797623634338379,
          -1.7512874603271484,
          -3.2085282802581787,
          -3.3733904361724854,
          -0.16413690149784088,
          -0.062238968908786774,
          -1.311232328414917,
          -3.0255610942840576,
          -0.511957585811615,
          -3.41955828666687,
          -3.342799425125122,
          -1.1388425827026367,
          -0.7621116638183594,
          -1.1266565322875977,
          -1.2096216678619385,
          0.0380372479557991,
          -1.594810962677002,
          0.08086016774177551,
          -3.338146686553955,
          -0.9786748290061951,
          -2.189805030822754,
          0.23298503458499908,
          -2.1691389083862305,
          -2.1470181941986084
         ],
         "yaxis": "y",
         "ybingroup": "y"
        },
        {
         "contours": {
          "coloring": "none"
         },
         "hovertemplate": "color=GDR<br>x=%{x}<br>y=%{y}<br>count=%{z}<extra></extra>",
         "legendgroup": "GDR",
         "line": {
          "color": "#EA2027"
         },
         "name": "GDR",
         "showlegend": true,
         "type": "histogram2dcontour",
         "x": [
          7.885621070861816,
          6.9733428955078125,
          10.146566390991211,
          10.161266326904297,
          8.04963493347168,
          6.728853225708008,
          9.54055118560791,
          8.014786720275879,
          9.042095184326172,
          7.343746185302734,
          7.377062797546387,
          10.210101127624512,
          9.342497825622559,
          9.23232364654541,
          7.43608283996582
         ],
         "xaxis": "x",
         "xbingroup": "x",
         "y": [
          -3.9730637073516846,
          -3.790536403656006,
          -6.647134780883789,
          -6.847176551818848,
          -3.303215742111206,
          -3.9571692943573,
          -4.918828964233398,
          -1.9529767036437988,
          -4.544216156005859,
          -3.5492069721221924,
          -4.299699306488037,
          -6.609464645385742,
          -5.031907081604004,
          -5.508299827575684,
          -4.062698841094971
         ],
         "yaxis": "y",
         "ybingroup": "y"
        },
        {
         "contours": {
          "coloring": "none"
         },
         "hovertemplate": "color=MODEM<br>x=%{x}<br>y=%{y}<br>count=%{z}<extra></extra>",
         "legendgroup": "MODEM",
         "line": {
          "color": "#e67e22"
         },
         "name": "MODEM",
         "showlegend": true,
         "type": "histogram2dcontour",
         "x": [
          8.752866744995117,
          7.842350482940674,
          7.553843021392822,
          8.351505279541016,
          6.559704303741455,
          6.407985210418701,
          7.709536552429199,
          8.932990074157715,
          7.690406799316406,
          9.0637788772583,
          6.862957954406738,
          8.727070808410645,
          6.583975791931152,
          6.917932510375977,
          7.347402572631836,
          7.791507244110107,
          8.310315132141113,
          8.296228408813477,
          7.675844669342041,
          7.6883769035339355,
          7.002884864807129,
          7.609406471252441,
          7.196760654449463,
          8.209413528442383,
          8.568096160888672,
          7.82377815246582,
          8.068609237670898,
          7.839071750640869,
          8.377416610717773,
          8.254475593566895,
          6.623007774353027,
          8.377196311950684,
          8.569717407226562,
          7.930242538452148,
          7.889732837677002,
          7.1755452156066895,
          6.448249340057373,
          7.662656784057617,
          6.62186861038208,
          7.255473613739014,
          7.835551738739014,
          7.272443771362305
         ],
         "xaxis": "x",
         "xbingroup": "x",
         "y": [
          -0.5770354866981506,
          -1.283301591873169,
          -0.3197231590747833,
          -1.4707425832748413,
          -0.6154658198356628,
          -1.572204828262329,
          -3.7396962642669678,
          -1.0870157480239868,
          0.25229328870773315,
          -0.4577673673629761,
          -2.923935651779175,
          -0.5155113339424133,
          0.17052987217903137,
          -3.334834575653076,
          0.1926271915435791,
          0.3723548948764801,
          -0.9483140110969543,
          -4.2825608253479,
          -2.0651278495788574,
          -3.4193592071533203,
          -2.198157548904419,
          -1.9859999418258667,
          -2.3535690307617188,
          -1.696602463722229,
          -1.865237832069397,
          -0.6758544445037842,
          0.20746658742427826,
          -3.3452608585357666,
          -0.296712189912796,
          -0.9168436527252197,
          -0.8796830773353577,
          -3.0262370109558105,
          -1.403291940689087,
          -0.2584399878978729,
          -1.1691657304763794,
          -1.524578332901001,
          -3.1051442623138428,
          -3.5106911659240723,
          -3.310929775238037,
          0.16399312019348145,
          -3.070164918899536,
          0.149721160531044
         ],
         "yaxis": "y",
         "ybingroup": "y"
        },
        {
         "contours": {
          "coloring": "none"
         },
         "hovertemplate": "color=HOR<br>x=%{x}<br>y=%{y}<br>count=%{z}<extra></extra>",
         "legendgroup": "HOR",
         "line": {
          "color": "#1B1464"
         },
         "name": "HOR",
         "showlegend": true,
         "type": "histogram2dcontour",
         "x": [
          7.2204203605651855,
          7.483259201049805,
          7.778668403625488,
          7.879713535308838,
          7.636427402496338,
          7.729602336883545,
          6.616776943206787,
          6.967000961303711,
          7.672544479370117,
          7.737372875213623,
          7.47515869140625,
          8.231269836425781,
          6.635737419128418,
          8.569781303405762,
          7.311564922332764,
          7.810905933380127,
          7.01650333404541,
          8.210516929626465,
          8.490710258483887,
          7.048069000244141
         ],
         "xaxis": "x",
         "xbingroup": "x",
         "y": [
          -3.382774829864502,
          -1.3445870876312256,
          -2.6461050510406494,
          -0.13129305839538574,
          -2.0227363109588623,
          -1.534949779510498,
          -3.916008710861206,
          -0.056178729981184006,
          -1.1458687782287598,
          -2.0712194442749023,
          0.11827348917722702,
          -1.3148809671401978,
          -1.7951987981796265,
          -3.103276014328003,
          -3.198820114135742,
          -2.3176422119140625,
          0.3495161235332489,
          -2.603832960128784,
          0.18879669904708862,
          -1.607279658317566
         ],
         "yaxis": "y",
         "ybingroup": "y"
        },
        {
         "contours": {
          "coloring": "none"
         },
         "hovertemplate": "color=LIOT<br>x=%{x}<br>y=%{y}<br>count=%{z}<extra></extra>",
         "legendgroup": "LIOT",
         "line": {
          "color": "#2ecc71"
         },
         "name": "LIOT",
         "showlegend": true,
         "type": "histogram2dcontour",
         "x": [
          7.75102424621582,
          7.421459674835205,
          7.469509601593018,
          7.365450859069824,
          8.456021308898926,
          7.58664083480835,
          8.038182258605957,
          7.6587748527526855,
          6.534347057342529,
          7.869284629821777,
          8.300142288208008,
          7.469388484954834,
          7.727643966674805
         ],
         "xaxis": "x",
         "xbingroup": "x",
         "y": [
          -0.830721378326416,
          -4.0025248527526855,
          -3.486342191696167,
          -2.214279890060425,
          -3.3679466247558594,
          -2.9768002033233643,
          -3.0138652324676514,
          -2.626081705093384,
          -3.2266616821289062,
          -2.302551746368408,
          -3.265725612640381,
          -3.278756856918335,
          -3.6584014892578125
         ],
         "yaxis": "y",
         "ybingroup": "y"
        },
        {
         "contours": {
          "coloring": "none"
         },
         "hovertemplate": "color=ECO<br>x=%{x}<br>y=%{y}<br>count=%{z}<extra></extra>",
         "legendgroup": "ECO",
         "line": {
          "color": "#009432"
         },
         "name": "ECO",
         "showlegend": true,
         "type": "histogram2dcontour",
         "x": [
          9.278131484985352,
          8.77729606628418,
          8.721552848815918,
          6.999721527099609,
          8.989240646362305,
          8.368548393249512,
          8.47751522064209,
          9.070701599121094,
          7.194894313812256,
          9.112092018127441,
          8.519051551818848,
          9.472786903381348,
          8.83592414855957,
          8.672855377197266,
          9.198260307312012,
          8.778059005737305,
          9.337138175964355,
          9.144617080688477,
          9.567853927612305
         ],
         "xaxis": "x",
         "xbingroup": "x",
         "y": [
          -6.877058029174805,
          -4.965404987335205,
          -5.206981658935547,
          -4.294092178344727,
          -5.713923931121826,
          -4.138946533203125,
          -4.468999862670898,
          -5.133285999298096,
          -4.207860946655273,
          -5.12010383605957,
          -4.801417827606201,
          -5.934492588043213,
          -5.086057662963867,
          -4.871538162231445,
          -5.13726282119751,
          -5.085237979888916,
          -6.200730323791504,
          -4.575085163116455,
          -6.4091691970825195
         ],
         "yaxis": "y",
         "ybingroup": "y"
        },
        {
         "contours": {
          "coloring": "none"
         },
         "hovertemplate": "color=NI<br>x=%{x}<br>y=%{y}<br>count=%{z}<extra></extra>",
         "legendgroup": "NI",
         "line": {
          "color": "#95a5a6"
         },
         "name": "NI",
         "showlegend": true,
         "type": "histogram2dcontour",
         "x": [
          6.822667121887207,
          6.705669403076172,
          1.5808374881744385,
          6.510814666748047
         ],
         "xaxis": "x",
         "xbingroup": "x",
         "y": [
          -3.6212453842163086,
          -3.2719287872314453,
          2.6641933917999268,
          -3.7286479473114014
         ],
         "yaxis": "y",
         "ybingroup": "y"
        }
       ],
       "layout": {
        "height": 700,
        "legend": {
         "title": {
          "text": "color"
         },
         "tracegroupgap": 0
        },
        "margin": {
         "t": 60
        },
        "template": {
         "data": {
          "bar": [
           {
            "error_x": {
             "color": "#2a3f5f"
            },
            "error_y": {
             "color": "#2a3f5f"
            },
            "marker": {
             "line": {
              "color": "#E5ECF6",
              "width": 0.5
             },
             "pattern": {
              "fillmode": "overlay",
              "size": 10,
              "solidity": 0.2
             }
            },
            "type": "bar"
           }
          ],
          "barpolar": [
           {
            "marker": {
             "line": {
              "color": "#E5ECF6",
              "width": 0.5
             },
             "pattern": {
              "fillmode": "overlay",
              "size": 10,
              "solidity": 0.2
             }
            },
            "type": "barpolar"
           }
          ],
          "carpet": [
           {
            "aaxis": {
             "endlinecolor": "#2a3f5f",
             "gridcolor": "white",
             "linecolor": "white",
             "minorgridcolor": "white",
             "startlinecolor": "#2a3f5f"
            },
            "baxis": {
             "endlinecolor": "#2a3f5f",
             "gridcolor": "white",
             "linecolor": "white",
             "minorgridcolor": "white",
             "startlinecolor": "#2a3f5f"
            },
            "type": "carpet"
           }
          ],
          "choropleth": [
           {
            "colorbar": {
             "outlinewidth": 0,
             "ticks": ""
            },
            "type": "choropleth"
           }
          ],
          "contour": [
           {
            "colorbar": {
             "outlinewidth": 0,
             "ticks": ""
            },
            "colorscale": [
             [
              0,
              "#0d0887"
             ],
             [
              0.1111111111111111,
              "#46039f"
             ],
             [
              0.2222222222222222,
              "#7201a8"
             ],
             [
              0.3333333333333333,
              "#9c179e"
             ],
             [
              0.4444444444444444,
              "#bd3786"
             ],
             [
              0.5555555555555556,
              "#d8576b"
             ],
             [
              0.6666666666666666,
              "#ed7953"
             ],
             [
              0.7777777777777778,
              "#fb9f3a"
             ],
             [
              0.8888888888888888,
              "#fdca26"
             ],
             [
              1,
              "#f0f921"
             ]
            ],
            "type": "contour"
           }
          ],
          "contourcarpet": [
           {
            "colorbar": {
             "outlinewidth": 0,
             "ticks": ""
            },
            "type": "contourcarpet"
           }
          ],
          "heatmap": [
           {
            "colorbar": {
             "outlinewidth": 0,
             "ticks": ""
            },
            "colorscale": [
             [
              0,
              "#0d0887"
             ],
             [
              0.1111111111111111,
              "#46039f"
             ],
             [
              0.2222222222222222,
              "#7201a8"
             ],
             [
              0.3333333333333333,
              "#9c179e"
             ],
             [
              0.4444444444444444,
              "#bd3786"
             ],
             [
              0.5555555555555556,
              "#d8576b"
             ],
             [
              0.6666666666666666,
              "#ed7953"
             ],
             [
              0.7777777777777778,
              "#fb9f3a"
             ],
             [
              0.8888888888888888,
              "#fdca26"
             ],
             [
              1,
              "#f0f921"
             ]
            ],
            "type": "heatmap"
           }
          ],
          "heatmapgl": [
           {
            "colorbar": {
             "outlinewidth": 0,
             "ticks": ""
            },
            "colorscale": [
             [
              0,
              "#0d0887"
             ],
             [
              0.1111111111111111,
              "#46039f"
             ],
             [
              0.2222222222222222,
              "#7201a8"
             ],
             [
              0.3333333333333333,
              "#9c179e"
             ],
             [
              0.4444444444444444,
              "#bd3786"
             ],
             [
              0.5555555555555556,
              "#d8576b"
             ],
             [
              0.6666666666666666,
              "#ed7953"
             ],
             [
              0.7777777777777778,
              "#fb9f3a"
             ],
             [
              0.8888888888888888,
              "#fdca26"
             ],
             [
              1,
              "#f0f921"
             ]
            ],
            "type": "heatmapgl"
           }
          ],
          "histogram": [
           {
            "marker": {
             "pattern": {
              "fillmode": "overlay",
              "size": 10,
              "solidity": 0.2
             }
            },
            "type": "histogram"
           }
          ],
          "histogram2d": [
           {
            "colorbar": {
             "outlinewidth": 0,
             "ticks": ""
            },
            "colorscale": [
             [
              0,
              "#0d0887"
             ],
             [
              0.1111111111111111,
              "#46039f"
             ],
             [
              0.2222222222222222,
              "#7201a8"
             ],
             [
              0.3333333333333333,
              "#9c179e"
             ],
             [
              0.4444444444444444,
              "#bd3786"
             ],
             [
              0.5555555555555556,
              "#d8576b"
             ],
             [
              0.6666666666666666,
              "#ed7953"
             ],
             [
              0.7777777777777778,
              "#fb9f3a"
             ],
             [
              0.8888888888888888,
              "#fdca26"
             ],
             [
              1,
              "#f0f921"
             ]
            ],
            "type": "histogram2d"
           }
          ],
          "histogram2dcontour": [
           {
            "colorbar": {
             "outlinewidth": 0,
             "ticks": ""
            },
            "colorscale": [
             [
              0,
              "#0d0887"
             ],
             [
              0.1111111111111111,
              "#46039f"
             ],
             [
              0.2222222222222222,
              "#7201a8"
             ],
             [
              0.3333333333333333,
              "#9c179e"
             ],
             [
              0.4444444444444444,
              "#bd3786"
             ],
             [
              0.5555555555555556,
              "#d8576b"
             ],
             [
              0.6666666666666666,
              "#ed7953"
             ],
             [
              0.7777777777777778,
              "#fb9f3a"
             ],
             [
              0.8888888888888888,
              "#fdca26"
             ],
             [
              1,
              "#f0f921"
             ]
            ],
            "type": "histogram2dcontour"
           }
          ],
          "mesh3d": [
           {
            "colorbar": {
             "outlinewidth": 0,
             "ticks": ""
            },
            "type": "mesh3d"
           }
          ],
          "parcoords": [
           {
            "line": {
             "colorbar": {
              "outlinewidth": 0,
              "ticks": ""
             }
            },
            "type": "parcoords"
           }
          ],
          "pie": [
           {
            "automargin": true,
            "type": "pie"
           }
          ],
          "scatter": [
           {
            "fillpattern": {
             "fillmode": "overlay",
             "size": 10,
             "solidity": 0.2
            },
            "type": "scatter"
           }
          ],
          "scatter3d": [
           {
            "line": {
             "colorbar": {
              "outlinewidth": 0,
              "ticks": ""
             }
            },
            "marker": {
             "colorbar": {
              "outlinewidth": 0,
              "ticks": ""
             }
            },
            "type": "scatter3d"
           }
          ],
          "scattercarpet": [
           {
            "marker": {
             "colorbar": {
              "outlinewidth": 0,
              "ticks": ""
             }
            },
            "type": "scattercarpet"
           }
          ],
          "scattergeo": [
           {
            "marker": {
             "colorbar": {
              "outlinewidth": 0,
              "ticks": ""
             }
            },
            "type": "scattergeo"
           }
          ],
          "scattergl": [
           {
            "marker": {
             "colorbar": {
              "outlinewidth": 0,
              "ticks": ""
             }
            },
            "type": "scattergl"
           }
          ],
          "scattermapbox": [
           {
            "marker": {
             "colorbar": {
              "outlinewidth": 0,
              "ticks": ""
             }
            },
            "type": "scattermapbox"
           }
          ],
          "scatterpolar": [
           {
            "marker": {
             "colorbar": {
              "outlinewidth": 0,
              "ticks": ""
             }
            },
            "type": "scatterpolar"
           }
          ],
          "scatterpolargl": [
           {
            "marker": {
             "colorbar": {
              "outlinewidth": 0,
              "ticks": ""
             }
            },
            "type": "scatterpolargl"
           }
          ],
          "scatterternary": [
           {
            "marker": {
             "colorbar": {
              "outlinewidth": 0,
              "ticks": ""
             }
            },
            "type": "scatterternary"
           }
          ],
          "surface": [
           {
            "colorbar": {
             "outlinewidth": 0,
             "ticks": ""
            },
            "colorscale": [
             [
              0,
              "#0d0887"
             ],
             [
              0.1111111111111111,
              "#46039f"
             ],
             [
              0.2222222222222222,
              "#7201a8"
             ],
             [
              0.3333333333333333,
              "#9c179e"
             ],
             [
              0.4444444444444444,
              "#bd3786"
             ],
             [
              0.5555555555555556,
              "#d8576b"
             ],
             [
              0.6666666666666666,
              "#ed7953"
             ],
             [
              0.7777777777777778,
              "#fb9f3a"
             ],
             [
              0.8888888888888888,
              "#fdca26"
             ],
             [
              1,
              "#f0f921"
             ]
            ],
            "type": "surface"
           }
          ],
          "table": [
           {
            "cells": {
             "fill": {
              "color": "#EBF0F8"
             },
             "line": {
              "color": "white"
             }
            },
            "header": {
             "fill": {
              "color": "#C8D4E3"
             },
             "line": {
              "color": "white"
             }
            },
            "type": "table"
           }
          ]
         },
         "layout": {
          "annotationdefaults": {
           "arrowcolor": "#2a3f5f",
           "arrowhead": 0,
           "arrowwidth": 1
          },
          "autotypenumbers": "strict",
          "coloraxis": {
           "colorbar": {
            "outlinewidth": 0,
            "ticks": ""
           }
          },
          "colorscale": {
           "diverging": [
            [
             0,
             "#8e0152"
            ],
            [
             0.1,
             "#c51b7d"
            ],
            [
             0.2,
             "#de77ae"
            ],
            [
             0.3,
             "#f1b6da"
            ],
            [
             0.4,
             "#fde0ef"
            ],
            [
             0.5,
             "#f7f7f7"
            ],
            [
             0.6,
             "#e6f5d0"
            ],
            [
             0.7,
             "#b8e186"
            ],
            [
             0.8,
             "#7fbc41"
            ],
            [
             0.9,
             "#4d9221"
            ],
            [
             1,
             "#276419"
            ]
           ],
           "sequential": [
            [
             0,
             "#0d0887"
            ],
            [
             0.1111111111111111,
             "#46039f"
            ],
            [
             0.2222222222222222,
             "#7201a8"
            ],
            [
             0.3333333333333333,
             "#9c179e"
            ],
            [
             0.4444444444444444,
             "#bd3786"
            ],
            [
             0.5555555555555556,
             "#d8576b"
            ],
            [
             0.6666666666666666,
             "#ed7953"
            ],
            [
             0.7777777777777778,
             "#fb9f3a"
            ],
            [
             0.8888888888888888,
             "#fdca26"
            ],
            [
             1,
             "#f0f921"
            ]
           ],
           "sequentialminus": [
            [
             0,
             "#0d0887"
            ],
            [
             0.1111111111111111,
             "#46039f"
            ],
            [
             0.2222222222222222,
             "#7201a8"
            ],
            [
             0.3333333333333333,
             "#9c179e"
            ],
            [
             0.4444444444444444,
             "#bd3786"
            ],
            [
             0.5555555555555556,
             "#d8576b"
            ],
            [
             0.6666666666666666,
             "#ed7953"
            ],
            [
             0.7777777777777778,
             "#fb9f3a"
            ],
            [
             0.8888888888888888,
             "#fdca26"
            ],
            [
             1,
             "#f0f921"
            ]
           ]
          },
          "colorway": [
           "#636efa",
           "#EF553B",
           "#00cc96",
           "#ab63fa",
           "#FFA15A",
           "#19d3f3",
           "#FF6692",
           "#B6E880",
           "#FF97FF",
           "#FECB52"
          ],
          "font": {
           "color": "#2a3f5f"
          },
          "geo": {
           "bgcolor": "white",
           "lakecolor": "white",
           "landcolor": "#E5ECF6",
           "showlakes": true,
           "showland": true,
           "subunitcolor": "white"
          },
          "hoverlabel": {
           "align": "left"
          },
          "hovermode": "closest",
          "mapbox": {
           "style": "light"
          },
          "paper_bgcolor": "white",
          "plot_bgcolor": "#E5ECF6",
          "polar": {
           "angularaxis": {
            "gridcolor": "white",
            "linecolor": "white",
            "ticks": ""
           },
           "bgcolor": "#E5ECF6",
           "radialaxis": {
            "gridcolor": "white",
            "linecolor": "white",
            "ticks": ""
           }
          },
          "scene": {
           "xaxis": {
            "backgroundcolor": "#E5ECF6",
            "gridcolor": "white",
            "gridwidth": 2,
            "linecolor": "white",
            "showbackground": true,
            "ticks": "",
            "zerolinecolor": "white"
           },
           "yaxis": {
            "backgroundcolor": "#E5ECF6",
            "gridcolor": "white",
            "gridwidth": 2,
            "linecolor": "white",
            "showbackground": true,
            "ticks": "",
            "zerolinecolor": "white"
           },
           "zaxis": {
            "backgroundcolor": "#E5ECF6",
            "gridcolor": "white",
            "gridwidth": 2,
            "linecolor": "white",
            "showbackground": true,
            "ticks": "",
            "zerolinecolor": "white"
           }
          },
          "shapedefaults": {
           "line": {
            "color": "#2a3f5f"
           }
          },
          "ternary": {
           "aaxis": {
            "gridcolor": "white",
            "linecolor": "white",
            "ticks": ""
           },
           "baxis": {
            "gridcolor": "white",
            "linecolor": "white",
            "ticks": ""
           },
           "bgcolor": "#E5ECF6",
           "caxis": {
            "gridcolor": "white",
            "linecolor": "white",
            "ticks": ""
           }
          },
          "title": {
           "x": 0.05
          },
          "xaxis": {
           "automargin": true,
           "gridcolor": "white",
           "linecolor": "white",
           "ticks": "",
           "title": {
            "standoff": 15
           },
           "zerolinecolor": "white",
           "zerolinewidth": 2
          },
          "yaxis": {
           "automargin": true,
           "gridcolor": "white",
           "linecolor": "white",
           "ticks": "",
           "title": {
            "standoff": 15
           },
           "zerolinecolor": "white",
           "zerolinewidth": 2
          }
         }
        },
        "xaxis": {
         "anchor": "y",
         "domain": [
          0,
          1
         ],
         "title": {
          "text": "x"
         }
        },
        "yaxis": {
         "anchor": "x",
         "domain": [
          0,
          1
         ],
         "title": {
          "text": "y"
         }
        }
       }
      }
     },
     "metadata": {},
     "output_type": "display_data"
    }
   ],
   "source": [
    "fig = px.density_contour(x=user_vec_reduced[:,0],y=user_vec_reduced[:,1],color=[user2groupe[user] for user in model.dv.index_to_key],color_discrete_map=gp_politique_color,height=700)\n",
    "\n",
    "fig.show()"
   ]
  },
  {
   "cell_type": "code",
   "execution_count": 11,
   "metadata": {},
   "outputs": [
    {
     "data": {
      "application/vnd.plotly.v1+json": {
       "config": {
        "plotlyServerURL": "https://plot.ly"
       },
       "data": [
        {
         "fill": "toself",
         "fillcolor": "#c0392b",
         "line": {
          "width": 0
         },
         "mode": "lines",
         "name": "LFI",
         "opacity": 0.4,
         "type": "scatter",
         "x": [
          7.575784683227539,
          6.6419477462768555,
          9.228395462036133,
          9.641700744628906,
          10.050771713256836,
          10.224787712097168,
          10.438657760620117,
          10.203302383422852
         ],
         "y": [
          -3.532532215118408,
          -3.908893346786499,
          -6.767247676849365,
          -7.001941680908203,
          -6.939211368560791,
          -6.799190044403076,
          -6.448417663574219,
          -5.510149955749512
         ]
        },
        {
         "fill": "toself",
         "fillcolor": "#ED4C67",
         "line": {
          "width": 0
         },
         "mode": "lines",
         "name": "SOC",
         "opacity": 0.4,
         "type": "scatter",
         "x": [
          8.424525260925293,
          6.6138129234313965,
          6.862644672393799,
          9.587505340576172,
          9.299936294555664,
          8.826887130737305
         ],
         "y": [
          -1.9388325214385986,
          -0.5738472938537598,
          -4.114124298095703,
          -7.084404468536377,
          -4.724328994750977,
          -3.1017825603485107
         ]
        },
        {
         "fill": "toself",
         "fillcolor": "#2980b9",
         "line": {
          "width": 0
         },
         "mode": "lines",
         "name": "LR",
         "opacity": 0.4,
         "type": "scatter",
         "x": [
          1.6394850015640259,
          6.936495304107666,
          7.541232109069824,
          7.936112880706787,
          8.279887199401855,
          7.188746929168701,
          6.952418327331543
         ],
         "y": [
          2.3176751136779785,
          -4.015378475189209,
          -3.884207248687744,
          -3.4913954734802246,
          -2.45017409324646,
          0.39683547616004944,
          0.524581253528595
         ]
        },
        {
         "fill": "toself",
         "fillcolor": "#2c3e50",
         "line": {
          "width": 0
         },
         "mode": "lines",
         "name": "RN",
         "opacity": 0.4,
         "type": "scatter",
         "x": [
          6.933712005615234,
          7.496633529663086,
          1.7857688665390015,
          1.6703099012374878,
          1.2746214866638184,
          0.9951037764549255,
          0.9253221750259399,
          0.8311094045639038,
          0.8389629125595093,
          0.8626474142074585,
          6.665043830871582
         ],
         "y": [
          -4.1587815284729,
          -3.3165283203125,
          3.6700198650360107,
          3.8000566959381104,
          3.9384729862213135,
          4.0010666847229,
          3.8728675842285156,
          3.0604987144470215,
          2.9339170455932617,
          2.726184606552124,
          -4.055796146392822
         ]
        },
        {
         "fill": "toself",
         "fillcolor": "#3498db",
         "line": {
          "width": 0
         },
         "mode": "lines",
         "name": "REN",
         "opacity": 0.4,
         "type": "scatter",
         "x": [
          6.900130271911621,
          5.949437618255615,
          6.365277290344238,
          7.5767974853515625,
          8.571770668029785,
          9.259252548217773,
          9.095712661743164,
          9.01009464263916,
          8.257864952087402,
          7.751785755157471
         ],
         "y": [
          0.17808955907821655,
          -1.7160917520523071,
          -3.698775291442871,
          -3.7572906017303467,
          -3.3542261123657227,
          -0.3780689239501953,
          -0.17315413057804108,
          -0.08240964263677597,
          0.3653354048728943,
          0.3803503215312958
         ]
        },
        {
         "fill": "toself",
         "fillcolor": "#EA2027",
         "line": {
          "width": 0
         },
         "mode": "lines",
         "name": "GDR",
         "opacity": 0.4,
         "type": "scatter",
         "x": [
          8.014786720275879,
          6.728853225708008,
          10.161266326904297,
          10.210101127624512,
          9.54055118560791
         ],
         "y": [
          -1.9529767036437988,
          -3.9571692943573,
          -6.847176551818848,
          -6.609464645385742,
          -4.918828964233398
         ]
        },
        {
         "fill": "toself",
         "fillcolor": "#e67e22",
         "line": {
          "width": 0
         },
         "mode": "lines",
         "name": "MODEM",
         "opacity": 0.4,
         "type": "scatter",
         "x": [
          8.296228408813477,
          9.0637788772583,
          8.068609237670898,
          7.791507244110107,
          6.583975791931152,
          6.407985210418701,
          6.448249340057373,
          6.62186861038208
         ],
         "y": [
          -4.2825608253479,
          -0.4577673673629761,
          0.20746658742427826,
          0.3723548948764801,
          0.17052987217903137,
          -1.572204828262329,
          -3.1051442623138428,
          -3.310929775238037
         ]
        },
        {
         "fill": "toself",
         "fillcolor": "#1B1464",
         "line": {
          "width": 0
         },
         "mode": "lines",
         "name": "HOR",
         "opacity": 0.4,
         "type": "scatter",
         "x": [
          6.616776943206787,
          8.569781303405762,
          8.490710258483887,
          7.01650333404541,
          6.635737419128418
         ],
         "y": [
          -3.916008710861206,
          -3.103276014328003,
          0.18879669904708862,
          0.3495161235332489,
          -1.7951987981796265
         ]
        },
        {
         "fill": "toself",
         "fillcolor": "#2ecc71",
         "line": {
          "width": 0
         },
         "mode": "lines",
         "name": "LIOT",
         "opacity": 0.4,
         "type": "scatter",
         "x": [
          7.75102424621582,
          6.534347057342529,
          7.421459674835205,
          8.456021308898926
         ],
         "y": [
          -0.830721378326416,
          -3.2266616821289062,
          -4.0025248527526855,
          -3.3679466247558594
         ]
        },
        {
         "fill": "toself",
         "fillcolor": "#009432",
         "line": {
          "width": 0
         },
         "mode": "lines",
         "name": "ECO",
         "opacity": 0.4,
         "type": "scatter",
         "x": [
          6.999721527099609,
          9.278131484985352,
          9.567853927612305,
          9.472786903381348,
          9.144617080688477,
          8.368548393249512,
          7.194894313812256
         ],
         "y": [
          -4.294092178344727,
          -6.877058029174805,
          -6.4091691970825195,
          -5.934492588043213,
          -4.575085163116455,
          -4.138946533203125,
          -4.207860946655273
         ]
        },
        {
         "fill": "toself",
         "fillcolor": "#95a5a6",
         "line": {
          "width": 0
         },
         "mode": "lines",
         "name": "NI",
         "opacity": 0.4,
         "type": "scatter",
         "x": [
          1.5808374881744385,
          6.510814666748047,
          6.822667121887207,
          6.705669403076172
         ],
         "y": [
          2.6641933917999268,
          -3.7286479473114014,
          -3.6212453842163086,
          -3.2719287872314453
         ]
        }
       ],
       "layout": {
        "height": 1000,
        "template": {
         "data": {
          "bar": [
           {
            "error_x": {
             "color": "#2a3f5f"
            },
            "error_y": {
             "color": "#2a3f5f"
            },
            "marker": {
             "line": {
              "color": "#E5ECF6",
              "width": 0.5
             },
             "pattern": {
              "fillmode": "overlay",
              "size": 10,
              "solidity": 0.2
             }
            },
            "type": "bar"
           }
          ],
          "barpolar": [
           {
            "marker": {
             "line": {
              "color": "#E5ECF6",
              "width": 0.5
             },
             "pattern": {
              "fillmode": "overlay",
              "size": 10,
              "solidity": 0.2
             }
            },
            "type": "barpolar"
           }
          ],
          "carpet": [
           {
            "aaxis": {
             "endlinecolor": "#2a3f5f",
             "gridcolor": "white",
             "linecolor": "white",
             "minorgridcolor": "white",
             "startlinecolor": "#2a3f5f"
            },
            "baxis": {
             "endlinecolor": "#2a3f5f",
             "gridcolor": "white",
             "linecolor": "white",
             "minorgridcolor": "white",
             "startlinecolor": "#2a3f5f"
            },
            "type": "carpet"
           }
          ],
          "choropleth": [
           {
            "colorbar": {
             "outlinewidth": 0,
             "ticks": ""
            },
            "type": "choropleth"
           }
          ],
          "contour": [
           {
            "colorbar": {
             "outlinewidth": 0,
             "ticks": ""
            },
            "colorscale": [
             [
              0,
              "#0d0887"
             ],
             [
              0.1111111111111111,
              "#46039f"
             ],
             [
              0.2222222222222222,
              "#7201a8"
             ],
             [
              0.3333333333333333,
              "#9c179e"
             ],
             [
              0.4444444444444444,
              "#bd3786"
             ],
             [
              0.5555555555555556,
              "#d8576b"
             ],
             [
              0.6666666666666666,
              "#ed7953"
             ],
             [
              0.7777777777777778,
              "#fb9f3a"
             ],
             [
              0.8888888888888888,
              "#fdca26"
             ],
             [
              1,
              "#f0f921"
             ]
            ],
            "type": "contour"
           }
          ],
          "contourcarpet": [
           {
            "colorbar": {
             "outlinewidth": 0,
             "ticks": ""
            },
            "type": "contourcarpet"
           }
          ],
          "heatmap": [
           {
            "colorbar": {
             "outlinewidth": 0,
             "ticks": ""
            },
            "colorscale": [
             [
              0,
              "#0d0887"
             ],
             [
              0.1111111111111111,
              "#46039f"
             ],
             [
              0.2222222222222222,
              "#7201a8"
             ],
             [
              0.3333333333333333,
              "#9c179e"
             ],
             [
              0.4444444444444444,
              "#bd3786"
             ],
             [
              0.5555555555555556,
              "#d8576b"
             ],
             [
              0.6666666666666666,
              "#ed7953"
             ],
             [
              0.7777777777777778,
              "#fb9f3a"
             ],
             [
              0.8888888888888888,
              "#fdca26"
             ],
             [
              1,
              "#f0f921"
             ]
            ],
            "type": "heatmap"
           }
          ],
          "heatmapgl": [
           {
            "colorbar": {
             "outlinewidth": 0,
             "ticks": ""
            },
            "colorscale": [
             [
              0,
              "#0d0887"
             ],
             [
              0.1111111111111111,
              "#46039f"
             ],
             [
              0.2222222222222222,
              "#7201a8"
             ],
             [
              0.3333333333333333,
              "#9c179e"
             ],
             [
              0.4444444444444444,
              "#bd3786"
             ],
             [
              0.5555555555555556,
              "#d8576b"
             ],
             [
              0.6666666666666666,
              "#ed7953"
             ],
             [
              0.7777777777777778,
              "#fb9f3a"
             ],
             [
              0.8888888888888888,
              "#fdca26"
             ],
             [
              1,
              "#f0f921"
             ]
            ],
            "type": "heatmapgl"
           }
          ],
          "histogram": [
           {
            "marker": {
             "pattern": {
              "fillmode": "overlay",
              "size": 10,
              "solidity": 0.2
             }
            },
            "type": "histogram"
           }
          ],
          "histogram2d": [
           {
            "colorbar": {
             "outlinewidth": 0,
             "ticks": ""
            },
            "colorscale": [
             [
              0,
              "#0d0887"
             ],
             [
              0.1111111111111111,
              "#46039f"
             ],
             [
              0.2222222222222222,
              "#7201a8"
             ],
             [
              0.3333333333333333,
              "#9c179e"
             ],
             [
              0.4444444444444444,
              "#bd3786"
             ],
             [
              0.5555555555555556,
              "#d8576b"
             ],
             [
              0.6666666666666666,
              "#ed7953"
             ],
             [
              0.7777777777777778,
              "#fb9f3a"
             ],
             [
              0.8888888888888888,
              "#fdca26"
             ],
             [
              1,
              "#f0f921"
             ]
            ],
            "type": "histogram2d"
           }
          ],
          "histogram2dcontour": [
           {
            "colorbar": {
             "outlinewidth": 0,
             "ticks": ""
            },
            "colorscale": [
             [
              0,
              "#0d0887"
             ],
             [
              0.1111111111111111,
              "#46039f"
             ],
             [
              0.2222222222222222,
              "#7201a8"
             ],
             [
              0.3333333333333333,
              "#9c179e"
             ],
             [
              0.4444444444444444,
              "#bd3786"
             ],
             [
              0.5555555555555556,
              "#d8576b"
             ],
             [
              0.6666666666666666,
              "#ed7953"
             ],
             [
              0.7777777777777778,
              "#fb9f3a"
             ],
             [
              0.8888888888888888,
              "#fdca26"
             ],
             [
              1,
              "#f0f921"
             ]
            ],
            "type": "histogram2dcontour"
           }
          ],
          "mesh3d": [
           {
            "colorbar": {
             "outlinewidth": 0,
             "ticks": ""
            },
            "type": "mesh3d"
           }
          ],
          "parcoords": [
           {
            "line": {
             "colorbar": {
              "outlinewidth": 0,
              "ticks": ""
             }
            },
            "type": "parcoords"
           }
          ],
          "pie": [
           {
            "automargin": true,
            "type": "pie"
           }
          ],
          "scatter": [
           {
            "fillpattern": {
             "fillmode": "overlay",
             "size": 10,
             "solidity": 0.2
            },
            "type": "scatter"
           }
          ],
          "scatter3d": [
           {
            "line": {
             "colorbar": {
              "outlinewidth": 0,
              "ticks": ""
             }
            },
            "marker": {
             "colorbar": {
              "outlinewidth": 0,
              "ticks": ""
             }
            },
            "type": "scatter3d"
           }
          ],
          "scattercarpet": [
           {
            "marker": {
             "colorbar": {
              "outlinewidth": 0,
              "ticks": ""
             }
            },
            "type": "scattercarpet"
           }
          ],
          "scattergeo": [
           {
            "marker": {
             "colorbar": {
              "outlinewidth": 0,
              "ticks": ""
             }
            },
            "type": "scattergeo"
           }
          ],
          "scattergl": [
           {
            "marker": {
             "colorbar": {
              "outlinewidth": 0,
              "ticks": ""
             }
            },
            "type": "scattergl"
           }
          ],
          "scattermapbox": [
           {
            "marker": {
             "colorbar": {
              "outlinewidth": 0,
              "ticks": ""
             }
            },
            "type": "scattermapbox"
           }
          ],
          "scatterpolar": [
           {
            "marker": {
             "colorbar": {
              "outlinewidth": 0,
              "ticks": ""
             }
            },
            "type": "scatterpolar"
           }
          ],
          "scatterpolargl": [
           {
            "marker": {
             "colorbar": {
              "outlinewidth": 0,
              "ticks": ""
             }
            },
            "type": "scatterpolargl"
           }
          ],
          "scatterternary": [
           {
            "marker": {
             "colorbar": {
              "outlinewidth": 0,
              "ticks": ""
             }
            },
            "type": "scatterternary"
           }
          ],
          "surface": [
           {
            "colorbar": {
             "outlinewidth": 0,
             "ticks": ""
            },
            "colorscale": [
             [
              0,
              "#0d0887"
             ],
             [
              0.1111111111111111,
              "#46039f"
             ],
             [
              0.2222222222222222,
              "#7201a8"
             ],
             [
              0.3333333333333333,
              "#9c179e"
             ],
             [
              0.4444444444444444,
              "#bd3786"
             ],
             [
              0.5555555555555556,
              "#d8576b"
             ],
             [
              0.6666666666666666,
              "#ed7953"
             ],
             [
              0.7777777777777778,
              "#fb9f3a"
             ],
             [
              0.8888888888888888,
              "#fdca26"
             ],
             [
              1,
              "#f0f921"
             ]
            ],
            "type": "surface"
           }
          ],
          "table": [
           {
            "cells": {
             "fill": {
              "color": "#EBF0F8"
             },
             "line": {
              "color": "white"
             }
            },
            "header": {
             "fill": {
              "color": "#C8D4E3"
             },
             "line": {
              "color": "white"
             }
            },
            "type": "table"
           }
          ]
         },
         "layout": {
          "annotationdefaults": {
           "arrowcolor": "#2a3f5f",
           "arrowhead": 0,
           "arrowwidth": 1
          },
          "autotypenumbers": "strict",
          "coloraxis": {
           "colorbar": {
            "outlinewidth": 0,
            "ticks": ""
           }
          },
          "colorscale": {
           "diverging": [
            [
             0,
             "#8e0152"
            ],
            [
             0.1,
             "#c51b7d"
            ],
            [
             0.2,
             "#de77ae"
            ],
            [
             0.3,
             "#f1b6da"
            ],
            [
             0.4,
             "#fde0ef"
            ],
            [
             0.5,
             "#f7f7f7"
            ],
            [
             0.6,
             "#e6f5d0"
            ],
            [
             0.7,
             "#b8e186"
            ],
            [
             0.8,
             "#7fbc41"
            ],
            [
             0.9,
             "#4d9221"
            ],
            [
             1,
             "#276419"
            ]
           ],
           "sequential": [
            [
             0,
             "#0d0887"
            ],
            [
             0.1111111111111111,
             "#46039f"
            ],
            [
             0.2222222222222222,
             "#7201a8"
            ],
            [
             0.3333333333333333,
             "#9c179e"
            ],
            [
             0.4444444444444444,
             "#bd3786"
            ],
            [
             0.5555555555555556,
             "#d8576b"
            ],
            [
             0.6666666666666666,
             "#ed7953"
            ],
            [
             0.7777777777777778,
             "#fb9f3a"
            ],
            [
             0.8888888888888888,
             "#fdca26"
            ],
            [
             1,
             "#f0f921"
            ]
           ],
           "sequentialminus": [
            [
             0,
             "#0d0887"
            ],
            [
             0.1111111111111111,
             "#46039f"
            ],
            [
             0.2222222222222222,
             "#7201a8"
            ],
            [
             0.3333333333333333,
             "#9c179e"
            ],
            [
             0.4444444444444444,
             "#bd3786"
            ],
            [
             0.5555555555555556,
             "#d8576b"
            ],
            [
             0.6666666666666666,
             "#ed7953"
            ],
            [
             0.7777777777777778,
             "#fb9f3a"
            ],
            [
             0.8888888888888888,
             "#fdca26"
            ],
            [
             1,
             "#f0f921"
            ]
           ]
          },
          "colorway": [
           "#636efa",
           "#EF553B",
           "#00cc96",
           "#ab63fa",
           "#FFA15A",
           "#19d3f3",
           "#FF6692",
           "#B6E880",
           "#FF97FF",
           "#FECB52"
          ],
          "font": {
           "color": "#2a3f5f"
          },
          "geo": {
           "bgcolor": "white",
           "lakecolor": "white",
           "landcolor": "#E5ECF6",
           "showlakes": true,
           "showland": true,
           "subunitcolor": "white"
          },
          "hoverlabel": {
           "align": "left"
          },
          "hovermode": "closest",
          "mapbox": {
           "style": "light"
          },
          "paper_bgcolor": "white",
          "plot_bgcolor": "#E5ECF6",
          "polar": {
           "angularaxis": {
            "gridcolor": "white",
            "linecolor": "white",
            "ticks": ""
           },
           "bgcolor": "#E5ECF6",
           "radialaxis": {
            "gridcolor": "white",
            "linecolor": "white",
            "ticks": ""
           }
          },
          "scene": {
           "xaxis": {
            "backgroundcolor": "#E5ECF6",
            "gridcolor": "white",
            "gridwidth": 2,
            "linecolor": "white",
            "showbackground": true,
            "ticks": "",
            "zerolinecolor": "white"
           },
           "yaxis": {
            "backgroundcolor": "#E5ECF6",
            "gridcolor": "white",
            "gridwidth": 2,
            "linecolor": "white",
            "showbackground": true,
            "ticks": "",
            "zerolinecolor": "white"
           },
           "zaxis": {
            "backgroundcolor": "#E5ECF6",
            "gridcolor": "white",
            "gridwidth": 2,
            "linecolor": "white",
            "showbackground": true,
            "ticks": "",
            "zerolinecolor": "white"
           }
          },
          "shapedefaults": {
           "line": {
            "color": "#2a3f5f"
           }
          },
          "ternary": {
           "aaxis": {
            "gridcolor": "white",
            "linecolor": "white",
            "ticks": ""
           },
           "baxis": {
            "gridcolor": "white",
            "linecolor": "white",
            "ticks": ""
           },
           "bgcolor": "#E5ECF6",
           "caxis": {
            "gridcolor": "white",
            "linecolor": "white",
            "ticks": ""
           }
          },
          "title": {
           "x": 0.05
          },
          "xaxis": {
           "automargin": true,
           "gridcolor": "white",
           "linecolor": "white",
           "ticks": "",
           "title": {
            "standoff": 15
           },
           "zerolinecolor": "white",
           "zerolinewidth": 2
          },
          "yaxis": {
           "automargin": true,
           "gridcolor": "white",
           "linecolor": "white",
           "ticks": "",
           "title": {
            "standoff": 15
           },
           "zerolinecolor": "white",
           "zerolinewidth": 2
          }
         }
        }
       }
      }
     },
     "metadata": {},
     "output_type": "display_data"
    }
   ],
   "source": [
    "hulls = {}\n",
    "for group,data in df_corpus.groupby(\"groupe_sigle\"):\n",
    "    deputies = data.username.values\n",
    "    idx = np.isin(model.dv.index_to_key,deputies)\n",
    "    points = user_vec_reduced[idx]\n",
    "    try:\n",
    "        hull = ConvexHull(points).vertices\n",
    "        hulls[group] = points[hull]\n",
    "    except:\n",
    "        pass\n",
    "fig =go.Figure()\n",
    "for group in df_corpus.groupe_sigle.unique():\n",
    "    try:\n",
    "        fig.add_trace(go.Scatter(x=hulls[group][:,0],y=hulls[group][:,1], fill=\"toself\",line=dict(width=0),fillcolor=gp_politique_color[group],opacity=0.4,hoveron=None,name=group,mode=\"lines\"))\n",
    "    except:\n",
    "        pass\n",
    "fig.update_layout(height=1000)\n",
    "fig"
   ]
  },
  {
   "cell_type": "code",
   "execution_count": 12,
   "metadata": {},
   "outputs": [],
   "source": [
    "adj_sim_matrix = cosine_similarity(user_vec)\n",
    "adj_sim_matrix[adj_sim_matrix<0.75] = 0\n",
    "adj_sim_matrix[np.identity(adj_sim_matrix.shape[0]).astype(bool)] = 0"
   ]
  },
  {
   "cell_type": "code",
   "execution_count": 13,
   "metadata": {},
   "outputs": [],
   "source": [
    "G = nx.from_numpy_array(adj_sim_matrix)\n",
    "for node in list(G.nodes()):\n",
    "    if G.degree(node) <1:\n",
    "        G.remove_node(node)"
   ]
  },
  {
   "cell_type": "code",
   "execution_count": 14,
   "metadata": {},
   "outputs": [],
   "source": [
    "G= nx.relabel_nodes(G,{ix:label for ix,label in enumerate(model.dv.index_to_key) if ix in G})"
   ]
  },
  {
   "cell_type": "code",
   "execution_count": 15,
   "metadata": {},
   "outputs": [],
   "source": [
    "betweeness = nx.betweenness_centrality(G,weight=\"weight\")"
   ]
  },
  {
   "cell_type": "code",
   "execution_count": 16,
   "metadata": {},
   "outputs": [
    {
     "data": {
      "application/vnd.jupyter.widget-view+json": {
       "model_id": "572611e53f384bc19f355abbc3e04567",
       "version_major": 2,
       "version_minor": 0
      },
      "text/plain": [
       "Sigma(nx.Graph with 377 nodes and 2,448 edges)"
      ]
     },
     "execution_count": 16,
     "metadata": {},
     "output_type": "execute_result"
    }
   ],
   "source": [
    "size_func = lambda node:betweeness[node]\n",
    "Sigma(G,\n",
    "    node_size=size_func,#G.degree,\n",
    "    node_color=slug2groupe,\n",
    "    edge_size=lambda u,v:G.edges[u,v][\"weight\"],\n",
    "    default_node_border_color=\"#ffffff\",\n",
    "    node_color_palette=gp_politique_color,\n",
    "    node_size_range=[5,32],start_layout=5,\n",
    "    height=1080,layout_settings=dict(adjustSize=True,linLogMode=False,barnesHutOptimize=False,scalingRatio =10,gravity=0.1,edgeWeightInfluence = 2),\n",
    "    hide_info_panel=True,\n",
    "    hide_search=True,node_label_size=size_func\n",
    "    )"
   ]
  },
  {
   "cell_type": "code",
   "execution_count": null,
   "metadata": {},
   "outputs": [],
   "source": []
  },
  {
   "cell_type": "code",
   "execution_count": null,
   "metadata": {},
   "outputs": [],
   "source": []
  },
  {
   "cell_type": "code",
   "execution_count": null,
   "metadata": {},
   "outputs": [],
   "source": []
  }
 ],
 "metadata": {
  "kernelspec": {
   "display_name": "datascience",
   "language": "python",
   "name": "python3"
  },
  "language_info": {
   "codemirror_mode": {
    "name": "ipython",
    "version": 3
   },
   "file_extension": ".py",
   "mimetype": "text/x-python",
   "name": "python",
   "nbconvert_exporter": "python",
   "pygments_lexer": "ipython3",
   "version": "3.9.15"
  },
  "orig_nbformat": 4
 },
 "nbformat": 4,
 "nbformat_minor": 2
}
