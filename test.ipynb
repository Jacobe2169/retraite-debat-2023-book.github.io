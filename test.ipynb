{
 "cells": [
  {
   "cell_type": "code",
   "execution_count": 2,
   "metadata": {},
   "outputs": [
    {
     "data": {
      "application/javascript": "(function(root) {\n  function now() {\n    return new Date();\n  }\n\n  const force = true;\n\n  if (typeof root._bokeh_onload_callbacks === \"undefined\" || force === true) {\n    root._bokeh_onload_callbacks = [];\n    root._bokeh_is_loading = undefined;\n  }\n\nconst JS_MIME_TYPE = 'application/javascript';\n  const HTML_MIME_TYPE = 'text/html';\n  const EXEC_MIME_TYPE = 'application/vnd.bokehjs_exec.v0+json';\n  const CLASS_NAME = 'output_bokeh rendered_html';\n\n  /**\n   * Render data to the DOM node\n   */\n  function render(props, node) {\n    const script = document.createElement(\"script\");\n    node.appendChild(script);\n  }\n\n  /**\n   * Handle when an output is cleared or removed\n   */\n  function handleClearOutput(event, handle) {\n    const cell = handle.cell;\n\n    const id = cell.output_area._bokeh_element_id;\n    const server_id = cell.output_area._bokeh_server_id;\n    // Clean up Bokeh references\n    if (id != null && id in Bokeh.index) {\n      Bokeh.index[id].model.document.clear();\n      delete Bokeh.index[id];\n    }\n\n    if (server_id !== undefined) {\n      // Clean up Bokeh references\n      const cmd_clean = \"from bokeh.io.state import curstate; print(curstate().uuid_to_server['\" + server_id + \"'].get_sessions()[0].document.roots[0]._id)\";\n      cell.notebook.kernel.execute(cmd_clean, {\n        iopub: {\n          output: function(msg) {\n            const id = msg.content.text.trim();\n            if (id in Bokeh.index) {\n              Bokeh.index[id].model.document.clear();\n              delete Bokeh.index[id];\n            }\n          }\n        }\n      });\n      // Destroy server and session\n      const cmd_destroy = \"import bokeh.io.notebook as ion; ion.destroy_server('\" + server_id + \"')\";\n      cell.notebook.kernel.execute(cmd_destroy);\n    }\n  }\n\n  /**\n   * Handle when a new output is added\n   */\n  function handleAddOutput(event, handle) {\n    const output_area = handle.output_area;\n    const output = handle.output;\n\n    // limit handleAddOutput to display_data with EXEC_MIME_TYPE content only\n    if ((output.output_type != \"display_data\") || (!Object.prototype.hasOwnProperty.call(output.data, EXEC_MIME_TYPE))) {\n      return\n    }\n\n    const toinsert = output_area.element.find(\".\" + CLASS_NAME.split(' ')[0]);\n\n    if (output.metadata[EXEC_MIME_TYPE][\"id\"] !== undefined) {\n      toinsert[toinsert.length - 1].firstChild.textContent = output.data[JS_MIME_TYPE];\n      // store reference to embed id on output_area\n      output_area._bokeh_element_id = output.metadata[EXEC_MIME_TYPE][\"id\"];\n    }\n    if (output.metadata[EXEC_MIME_TYPE][\"server_id\"] !== undefined) {\n      const bk_div = document.createElement(\"div\");\n      bk_div.innerHTML = output.data[HTML_MIME_TYPE];\n      const script_attrs = bk_div.children[0].attributes;\n      for (let i = 0; i < script_attrs.length; i++) {\n        toinsert[toinsert.length - 1].firstChild.setAttribute(script_attrs[i].name, script_attrs[i].value);\n        toinsert[toinsert.length - 1].firstChild.textContent = bk_div.children[0].textContent\n      }\n      // store reference to server id on output_area\n      output_area._bokeh_server_id = output.metadata[EXEC_MIME_TYPE][\"server_id\"];\n    }\n  }\n\n  function register_renderer(events, OutputArea) {\n\n    function append_mime(data, metadata, element) {\n      // create a DOM node to render to\n      const toinsert = this.create_output_subarea(\n        metadata,\n        CLASS_NAME,\n        EXEC_MIME_TYPE\n      );\n      this.keyboard_manager.register_events(toinsert);\n      // Render to node\n      const props = {data: data, metadata: metadata[EXEC_MIME_TYPE]};\n      render(props, toinsert[toinsert.length - 1]);\n      element.append(toinsert);\n      return toinsert\n    }\n\n    /* Handle when an output is cleared or removed */\n    events.on('clear_output.CodeCell', handleClearOutput);\n    events.on('delete.Cell', handleClearOutput);\n\n    /* Handle when a new output is added */\n    events.on('output_added.OutputArea', handleAddOutput);\n\n    /**\n     * Register the mime type and append_mime function with output_area\n     */\n    OutputArea.prototype.register_mime_type(EXEC_MIME_TYPE, append_mime, {\n      /* Is output safe? */\n      safe: true,\n      /* Index of renderer in `output_area.display_order` */\n      index: 0\n    });\n  }\n\n  // register the mime type if in Jupyter Notebook environment and previously unregistered\n  if (root.Jupyter !== undefined) {\n    const events = require('base/js/events');\n    const OutputArea = require('notebook/js/outputarea').OutputArea;\n\n    if (OutputArea.prototype.mime_types().indexOf(EXEC_MIME_TYPE) == -1) {\n      register_renderer(events, OutputArea);\n    }\n  }\n  if (typeof (root._bokeh_timeout) === \"undefined\" || force === true) {\n    root._bokeh_timeout = Date.now() + 5000;\n    root._bokeh_failed_load = false;\n  }\n\n  const NB_LOAD_WARNING = {'data': {'text/html':\n     \"<div style='background-color: #fdd'>\\n\"+\n     \"<p>\\n\"+\n     \"BokehJS does not appear to have successfully loaded. If loading BokehJS from CDN, this \\n\"+\n     \"may be due to a slow or bad network connection. Possible fixes:\\n\"+\n     \"</p>\\n\"+\n     \"<ul>\\n\"+\n     \"<li>re-rerun `output_notebook()` to attempt to load from CDN again, or</li>\\n\"+\n     \"<li>use INLINE resources instead, as so:</li>\\n\"+\n     \"</ul>\\n\"+\n     \"<code>\\n\"+\n     \"from bokeh.resources import INLINE\\n\"+\n     \"output_notebook(resources=INLINE)\\n\"+\n     \"</code>\\n\"+\n     \"</div>\"}};\n\n  function display_loaded() {\n    const el = document.getElementById(null);\n    if (el != null) {\n      el.textContent = \"BokehJS is loading...\";\n    }\n    if (root.Bokeh !== undefined) {\n      if (el != null) {\n        el.textContent = \"BokehJS \" + root.Bokeh.version + \" successfully loaded.\";\n      }\n    } else if (Date.now() < root._bokeh_timeout) {\n      setTimeout(display_loaded, 100)\n    }\n  }\n\n  function run_callbacks() {\n    try {\n      root._bokeh_onload_callbacks.forEach(function(callback) {\n        if (callback != null)\n          callback();\n      });\n    } finally {\n      delete root._bokeh_onload_callbacks\n    }\n    console.debug(\"Bokeh: all callbacks have finished\");\n  }\n\n  function load_libs(css_urls, js_urls, callback) {\n    if (css_urls == null) css_urls = [];\n    if (js_urls == null) js_urls = [];\n\n    root._bokeh_onload_callbacks.push(callback);\n    if (root._bokeh_is_loading > 0) {\n      console.debug(\"Bokeh: BokehJS is being loaded, scheduling callback at\", now());\n      return null;\n    }\n    if (js_urls == null || js_urls.length === 0) {\n      run_callbacks();\n      return null;\n    }\n    console.debug(\"Bokeh: BokehJS not loaded, scheduling load and callback at\", now());\n    root._bokeh_is_loading = css_urls.length + js_urls.length;\n\n    function on_load() {\n      root._bokeh_is_loading--;\n      if (root._bokeh_is_loading === 0) {\n        console.debug(\"Bokeh: all BokehJS libraries/stylesheets loaded\");\n        run_callbacks()\n      }\n    }\n\n    function on_error(url) {\n      console.error(\"failed to load \" + url);\n    }\n\n    for (let i = 0; i < css_urls.length; i++) {\n      const url = css_urls[i];\n      const element = document.createElement(\"link\");\n      element.onload = on_load;\n      element.onerror = on_error.bind(null, url);\n      element.rel = \"stylesheet\";\n      element.type = \"text/css\";\n      element.href = url;\n      console.debug(\"Bokeh: injecting link tag for BokehJS stylesheet: \", url);\n      document.body.appendChild(element);\n    }\n\n    for (let i = 0; i < js_urls.length; i++) {\n      const url = js_urls[i];\n      const element = document.createElement('script');\n      element.onload = on_load;\n      element.onerror = on_error.bind(null, url);\n      element.async = false;\n      element.src = url;\n      console.debug(\"Bokeh: injecting script tag for BokehJS library: \", url);\n      document.head.appendChild(element);\n    }\n  };\n\n  function inject_raw_css(css) {\n    const element = document.createElement(\"style\");\n    element.appendChild(document.createTextNode(css));\n    document.body.appendChild(element);\n  }\n\n  const js_urls = [\"https://cdn.bokeh.org/bokeh/release/bokeh-3.1.1.min.js\", \"https://cdn.bokeh.org/bokeh/release/bokeh-gl-3.1.1.min.js\", \"https://cdn.bokeh.org/bokeh/release/bokeh-widgets-3.1.1.min.js\", \"https://cdn.bokeh.org/bokeh/release/bokeh-tables-3.1.1.min.js\", \"https://cdn.bokeh.org/bokeh/release/bokeh-mathjax-3.1.1.min.js\"];\n  const css_urls = [];\n\n  const inline_js = [    function(Bokeh) {\n      Bokeh.set_log_level(\"info\");\n    },\nfunction(Bokeh) {\n    }\n  ];\n\n  function run_inline_js() {\n    if (root.Bokeh !== undefined || force === true) {\n          for (let i = 0; i < inline_js.length; i++) {\n      inline_js[i].call(root, root.Bokeh);\n    }\n} else if (Date.now() < root._bokeh_timeout) {\n      setTimeout(run_inline_js, 100);\n    } else if (!root._bokeh_failed_load) {\n      console.log(\"Bokeh: BokehJS failed to load within specified timeout.\");\n      root._bokeh_failed_load = true;\n    } else if (force !== true) {\n      const cell = $(document.getElementById(null)).parents('.cell').data().cell;\n      cell.output_area.append_execute_result(NB_LOAD_WARNING)\n    }\n  }\n\n  if (root._bokeh_is_loading === 0) {\n    console.debug(\"Bokeh: BokehJS loaded, going straight to plotting\");\n    run_inline_js();\n  } else {\n    load_libs(css_urls, js_urls, function() {\n      console.debug(\"Bokeh: BokehJS plotting callback run at\", now());\n      run_inline_js();\n    });\n  }\n}(window));",
      "application/vnd.bokehjs_load.v0+json": ""
     },
     "metadata": {},
     "output_type": "display_data"
    }
   ],
   "source": [
    "import gensim\n",
    "import networkx as nx\n",
    "import numpy as np\n",
    "import pandas as pd\n",
    "import plotly.express as px\n",
    "import plotly.graph_objects as go\n",
    "import seaborn as sns\n",
    "from bokeh.io import output_notebook\n",
    "from ipysigma import Sigma\n",
    "from scipy.spatial import ConvexHull\n",
    "from sklearn.metrics.pairwise import cosine_similarity\n",
    "from umap import UMAP\n",
    "\n",
    "from lib.constant import *\n",
    "from lib.figures import *\n",
    "from lib.utils import *\n",
    "\n",
    "output_notebook(hide_banner=True)\n",
    "\n",
    "seed = 42"
   ]
  },
  {
   "cell_type": "code",
   "execution_count": 3,
   "metadata": {},
   "outputs": [],
   "source": [
    "df_deputy = pd.read_csv(\"data/nosdeputes.fr_deputes_en_mandat_2023-08-02.csv\",sep=\";\")\n",
    "slug2groupe = dict(df_deputy[\"slug groupe_sigle\".split()].values)"
   ]
  },
  {
   "cell_type": "code",
   "execution_count": 4,
   "metadata": {},
   "outputs": [
    {
     "data": {
      "text/html": [
       "<div>\n",
       "<style scoped>\n",
       "    .dataframe tbody tr th:only-of-type {\n",
       "        vertical-align: middle;\n",
       "    }\n",
       "\n",
       "    .dataframe tbody tr th {\n",
       "        vertical-align: top;\n",
       "    }\n",
       "\n",
       "    .dataframe thead th {\n",
       "        text-align: right;\n",
       "    }\n",
       "</style>\n",
       "<table border=\"1\" class=\"dataframe\">\n",
       "  <thead>\n",
       "    <tr style=\"text-align: right;\">\n",
       "      <th></th>\n",
       "      <th>username</th>\n",
       "      <th>full_text</th>\n",
       "      <th>date</th>\n",
       "      <th>in_reply_to_screen_name</th>\n",
       "      <th>in_reply_to_status_id_str</th>\n",
       "      <th>in_reply_to_user_id_str</th>\n",
       "      <th>retweet_id</th>\n",
       "      <th>retweet_username</th>\n",
       "      <th>retweet_user_id</th>\n",
       "      <th>is_quote_status</th>\n",
       "      <th>quoted_status_id_str</th>\n",
       "      <th>groupe_sigle</th>\n",
       "      <th>hashtag</th>\n",
       "      <th>is_hashtag</th>\n",
       "      <th>lemmatization</th>\n",
       "      <th>keywords_detected</th>\n",
       "      <th>is_keywords</th>\n",
       "      <th>is_keywords_label</th>\n",
       "    </tr>\n",
       "  </thead>\n",
       "  <tbody>\n",
       "    <tr>\n",
       "      <th>375</th>\n",
       "      <td>mathieu-lefevre</td>\n",
       "      <td>Plus les impôts baissent et plus les recettes ...</td>\n",
       "      <td>2023-02-01 06:32:02+00:00</td>\n",
       "      <td>None</td>\n",
       "      <td>None</td>\n",
       "      <td>None</td>\n",
       "      <td>None</td>\n",
       "      <td>None</td>\n",
       "      <td>None</td>\n",
       "      <td>False</td>\n",
       "      <td>None</td>\n",
       "      <td>REN</td>\n",
       "      <td>[]</td>\n",
       "      <td>False</td>\n",
       "      <td>plus le impôt baisser et plus le recette de l’...</td>\n",
       "      <td>[travail, recette, courage, impôt]</td>\n",
       "      <td>True</td>\n",
       "      <td>Oui</td>\n",
       "    </tr>\n",
       "    <tr>\n",
       "      <th>682</th>\n",
       "      <td>frederic-boccaletti</td>\n",
       "      <td>Mme , \"apparemment il y a une partie du foncti...</td>\n",
       "      <td>2023-02-01 06:50:58+00:00</td>\n",
       "      <td>None</td>\n",
       "      <td>None</td>\n",
       "      <td>None</td>\n",
       "      <td>None</td>\n",
       "      <td>None</td>\n",
       "      <td>None</td>\n",
       "      <td>False</td>\n",
       "      <td>None</td>\n",
       "      <td>RN</td>\n",
       "      <td>[#motionreferendaire]</td>\n",
       "      <td>True</td>\n",
       "      <td>mme , \" apparemment il y avoir un partie de fo...</td>\n",
       "      <td>[pouvoir]</td>\n",
       "      <td>True</td>\n",
       "      <td>Oui</td>\n",
       "    </tr>\n",
       "    <tr>\n",
       "      <th>488</th>\n",
       "      <td>philippe-brun</td>\n",
       "      <td>Le prix de l'énergie est un élément essentiel ...</td>\n",
       "      <td>2023-02-01 07:02:50+00:00</td>\n",
       "      <td>None</td>\n",
       "      <td>None</td>\n",
       "      <td>None</td>\n",
       "      <td>None</td>\n",
       "      <td>None</td>\n",
       "      <td>None</td>\n",
       "      <td>False</td>\n",
       "      <td>None</td>\n",
       "      <td>SOC</td>\n",
       "      <td>[]</td>\n",
       "      <td>False</td>\n",
       "      <td>le prix de le énergie être un élément essentie...</td>\n",
       "      <td>[entreprise, compétitivité, patron]</td>\n",
       "      <td>True</td>\n",
       "      <td>Oui</td>\n",
       "    </tr>\n",
       "    <tr>\n",
       "      <th>326</th>\n",
       "      <td>kevin-mauvieux</td>\n",
       "      <td>Comprenez : « jamais nous ne défendrons la Fra...</td>\n",
       "      <td>2023-02-01 07:10:59+00:00</td>\n",
       "      <td>None</td>\n",
       "      <td>None</td>\n",
       "      <td>None</td>\n",
       "      <td>None</td>\n",
       "      <td>None</td>\n",
       "      <td>None</td>\n",
       "      <td>True</td>\n",
       "      <td>1620493775515828226</td>\n",
       "      <td>RN</td>\n",
       "      <td>[#NonALaReformeDesRetraites]</td>\n",
       "      <td>True</td>\n",
       "      <td>Comprenez : « jamais nous ne défendre le Franc...</td>\n",
       "      <td>[vote, retraite, retrait, ratio, français, Fra...</td>\n",
       "      <td>True</td>\n",
       "      <td>Oui</td>\n",
       "    </tr>\n",
       "    <tr>\n",
       "      <th>453</th>\n",
       "      <td>gregoire-de-fournas</td>\n",
       "      <td>Des centaines d'amendements de la NUPES ont ét...</td>\n",
       "      <td>2023-02-01 07:14:30+00:00</td>\n",
       "      <td>None</td>\n",
       "      <td>None</td>\n",
       "      <td>None</td>\n",
       "      <td>None</td>\n",
       "      <td>None</td>\n",
       "      <td>None</td>\n",
       "      <td>True</td>\n",
       "      <td>1620493775515828226</td>\n",
       "      <td>RN</td>\n",
       "      <td>[]</td>\n",
       "      <td>False</td>\n",
       "      <td>un centaine de amendement de le NUPES avoir êt...</td>\n",
       "      <td>[vote, ratio]</td>\n",
       "      <td>True</td>\n",
       "      <td>Oui</td>\n",
       "    </tr>\n",
       "  </tbody>\n",
       "</table>\n",
       "</div>"
      ],
      "text/plain": [
       "                username                                          full_text  \\\n",
       "375      mathieu-lefevre  Plus les impôts baissent et plus les recettes ...   \n",
       "682  frederic-boccaletti  Mme , \"apparemment il y a une partie du foncti...   \n",
       "488        philippe-brun  Le prix de l'énergie est un élément essentiel ...   \n",
       "326       kevin-mauvieux  Comprenez : « jamais nous ne défendrons la Fra...   \n",
       "453  gregoire-de-fournas  Des centaines d'amendements de la NUPES ont ét...   \n",
       "\n",
       "                         date in_reply_to_screen_name  \\\n",
       "375 2023-02-01 06:32:02+00:00                    None   \n",
       "682 2023-02-01 06:50:58+00:00                    None   \n",
       "488 2023-02-01 07:02:50+00:00                    None   \n",
       "326 2023-02-01 07:10:59+00:00                    None   \n",
       "453 2023-02-01 07:14:30+00:00                    None   \n",
       "\n",
       "    in_reply_to_status_id_str in_reply_to_user_id_str retweet_id  \\\n",
       "375                      None                    None       None   \n",
       "682                      None                    None       None   \n",
       "488                      None                    None       None   \n",
       "326                      None                    None       None   \n",
       "453                      None                    None       None   \n",
       "\n",
       "    retweet_username retweet_user_id  is_quote_status quoted_status_id_str  \\\n",
       "375             None            None            False                 None   \n",
       "682             None            None            False                 None   \n",
       "488             None            None            False                 None   \n",
       "326             None            None             True  1620493775515828226   \n",
       "453             None            None             True  1620493775515828226   \n",
       "\n",
       "    groupe_sigle                       hashtag  is_hashtag  \\\n",
       "375          REN                            []       False   \n",
       "682           RN         [#motionreferendaire]        True   \n",
       "488          SOC                            []       False   \n",
       "326           RN  [#NonALaReformeDesRetraites]        True   \n",
       "453           RN                            []       False   \n",
       "\n",
       "                                         lemmatization  \\\n",
       "375  plus le impôt baisser et plus le recette de l’...   \n",
       "682  mme , \" apparemment il y avoir un partie de fo...   \n",
       "488  le prix de le énergie être un élément essentie...   \n",
       "326  Comprenez : « jamais nous ne défendre le Franc...   \n",
       "453  un centaine de amendement de le NUPES avoir êt...   \n",
       "\n",
       "                                     keywords_detected  is_keywords  \\\n",
       "375                 [travail, recette, courage, impôt]         True   \n",
       "682                                          [pouvoir]         True   \n",
       "488                [entreprise, compétitivité, patron]         True   \n",
       "326  [vote, retraite, retrait, ratio, français, Fra...         True   \n",
       "453                                      [vote, ratio]         True   \n",
       "\n",
       "    is_keywords_label  \n",
       "375               Oui  \n",
       "682               Oui  \n",
       "488               Oui  \n",
       "326               Oui  \n",
       "453               Oui  "
      ]
     },
     "execution_count": 4,
     "metadata": {},
     "output_type": "execute_result"
    }
   ],
   "source": [
    "parlement_df = pd.read_parquet('data/twitter_fev_to_juin_2023_retraite_data.parquet_v2')\n",
    "parlement_df[\"is_keywords_label\"] = parlement_df.is_keywords.apply(lambda x: \"Oui\" if x else \"Non\")\n",
    "parlement_df = parlement_df.drop_duplicates(\"full_text\")\n",
    "parlement_df = parlement_df[~parlement_df.full_text.apply(lambda x : x.startswith(\"RT\"))]\n",
    "parlement_df =parlement_df[~(parlement_df.groupe_sigle == \"GOV\")]\n",
    "parlement_df = parlement_df[parlement_df.is_keywords]\n",
    "parlement_df.head()"
   ]
  },
  {
   "cell_type": "code",
   "execution_count": 5,
   "metadata": {},
   "outputs": [],
   "source": [
    "count_tweet = dict(parlement_df.groupby(\"username\").size())\n",
    "user2groupe = dict(parlement_df[\"username groupe_sigle\".split()].values)\n",
    "df_corpus = parlement_df.groupby(\"username\",as_index=False).agg({\"lemmatization\":lambda x : \" \".join(x)})\n",
    "df_corpus[\"groupe_sigle\"] = df_corpus[\"username\"].map(slug2groupe)\n",
    "corpus = df_corpus.apply(lambda doc: gensim.models.doc2vec.TaggedDocument(gensim.utils.simple_preprocess(doc.lemmatization), [doc.username]),axis=1)"
   ]
  },
  {
   "cell_type": "code",
   "execution_count": 6,
   "metadata": {},
   "outputs": [],
   "source": [
    "model = gensim.models.doc2vec.Doc2Vec(vector_size=32, min_count=2, epochs=40,dm=1)\n",
    "model.build_vocab(corpus)\n",
    "model.train(corpus, total_examples=model.corpus_count, epochs=model.epochs)"
   ]
  },
  {
   "cell_type": "code",
   "execution_count": 7,
   "metadata": {},
   "outputs": [],
   "source": [
    "user_vec = model.dv.vectors\n",
    "user_vec_reduced = UMAP(random_state=seed).fit_transform(user_vec)"
   ]
  },
  {
   "cell_type": "code",
   "execution_count": 8,
   "metadata": {},
   "outputs": [
    {
     "data": {
      "application/vnd.plotly.v1+json": {
       "config": {
        "plotlyServerURL": "https://plot.ly"
       },
       "data": [
        {
         "hovertemplate": "color=LFI<br>x=%{x}<br>y=%{y}<br>size=%{marker.size}<br>text=%{text}<extra></extra>",
         "legendgroup": "LFI",
         "marker": {
          "color": "#c0392b",
          "opacity": 0.9,
          "size": [
           106,
           150,
           216,
           277,
           176,
           274,
           303,
           434,
           296,
           221,
           245,
           256,
           340,
           470,
           426,
           366,
           269,
           283,
           134,
           299,
           273,
           350,
           329,
           273,
           105,
           445,
           92,
           228,
           76,
           380,
           14,
           159,
           340,
           60,
           103,
           186,
           88,
           163,
           266,
           220,
           173,
           415,
           249,
           291,
           90,
           155,
           207,
           212,
           257,
           272,
           144,
           371,
           292,
           228,
           96,
           232,
           180,
           273,
           215,
           247
          ],
          "sizemode": "area",
          "sizeref": 0.315625,
          "symbol": "circle"
         },
         "mode": "markers+text",
         "name": "LFI",
         "orientation": "v",
         "showlegend": true,
         "text": [
          "adrien-quatennens",
          "alma-dufour",
          "andree-taurinya",
          "andy-kerbrat",
          "anne-stambach-terrenoir",
          "antoine-leaument",
          "arnaud-le-gall",
          "aurelie-trouve",
          "aurelien-saintoul",
          "carlos-martens-bilongo",
          "caroline-fiat",
          "catherine-couturier",
          "charlotte-leduc",
          "clemence-guette",
          "clementine-autain",
          "damien-maudet",
          "daniele-obono",
          "danielle-simonnet",
          "elisa-martin",
          "elise-leboucher",
          "emmanuel-fernandes",
          "eric-coquerel",
          "ersilia-soudais",
          "florian-chauche",
          "francois-piquemal",
          "francois-ruffin",
          "frederic-mathieu",
          "gabriel-amard",
          "hadrien-clouet",
          "hendrik-davi",
          "jean-francois-coulomme",
          "jerome-legavre",
          "karen-erodi",
          "laurent-alexandre",
          "loic-prud-homme",
          "louis-boyard",
          "manon-meunier",
          "manuel-bompard",
          "marianne-maximi",
          "martine-etienne",
          "mathilde-hignet",
          "mathilde-panot",
          "matthias-tavel",
          "maxime-laisney",
          "michel-sala",
          "murielle-lepvraud",
          "nadege-abomangoli",
          "nathalie-oziol",
          "pascale-martin",
          "paul-vannier",
          "rachel-keke",
          "raquel-garrido",
          "rodrigo-arenas",
          "sarah-legrain",
          "sebastien-delogu",
          "sebastien-rome",
          "sophia-chikirou",
          "sylvain-carriere",
          "ugo-bernalicis",
          "william-martinet"
         ],
         "type": "scatter",
         "x": [
          0.3092949092388153,
          1.0017131567001343,
          0.749156653881073,
          1.0678660869598389,
          -0.25216275453567505,
          0.9963756203651428,
          0.7028093338012695,
          0.5039814114570618,
          0.5675109028816223,
          0.606281042098999,
          0.4718838334083557,
          -0.14691407978534698,
          0.7821972370147705,
          0.7668780088424683,
          0.8164907097816467,
          0.6337928175926208,
          1.1581754684448242,
          1.0059281587600708,
          0.42207133769989014,
          0.3959442377090454,
          0.28416433930397034,
          0.637956440448761,
          0.29565057158470154,
          -0.26673009991645813,
          -2.681323289871216,
          0.5583343505859375,
          0.48411330580711365,
          -0.16129711270332336,
          0.6892121434211731,
          0.9735395908355713,
          -1.7958465814590454,
          0.7619913816452026,
          0.03923507034778595,
          -0.12049777805805206,
          0.024743041023612022,
          0.9869610071182251,
          -0.07134680449962616,
          0.7814499139785767,
          0.6026146411895752,
          0.023396536707878113,
          -0.24643126130104065,
          0.48973679542541504,
          0.2794615626335144,
          0.00715910317376256,
          0.01598801463842392,
          -0.18915504217147827,
          0.7711508870124817,
          0.591123104095459,
          0.1862092912197113,
          0.7267919778823853,
          0.18572567403316498,
          0.7511994242668152,
          0.7180059552192688,
          0.7309731841087341,
          0.7251646518707275,
          0.18639788031578064,
          0.5055496692657471,
          -0.11302413791418076,
          0.7530689835548401,
          0.8176296949386597
         ],
         "xaxis": "x",
         "y": [
          -2.8840179443359375,
          -2.5026907920837402,
          -1.7387832403182983,
          -1.9296010732650757,
          -2.322272300720215,
          -2.373793840408325,
          -2.561282157897949,
          -2.6877923011779785,
          -2.7145802974700928,
          -2.088437557220459,
          -1.475284457206726,
          -2.6022698879241943,
          -2.6530306339263916,
          -2.6782450675964355,
          -2.332188606262207,
          -2.9355154037475586,
          -2.1117353439331055,
          -2.1476523876190186,
          -1.7838187217712402,
          -1.555271863937378,
          -1.6533727645874023,
          -2.179155111312866,
          -1.396878957748413,
          -1.3612980842590332,
          1.2266995906829834,
          -2.8997786045074463,
          -1.602475643157959,
          -2.3477110862731934,
          -1.6925163269042969,
          -2.6289780139923096,
          0.3669799268245697,
          -2.5674848556518555,
          -2.3343281745910645,
          -2.626323938369751,
          -2.1201772689819336,
          -2.073641300201416,
          -2.2136547565460205,
          -2.0666191577911377,
          -2.4841654300689697,
          -1.3744093179702759,
          -2.470299005508423,
          -2.6427948474884033,
          -2.55332350730896,
          -2.4405386447906494,
          -2.4626433849334717,
          -2.532916784286499,
          -2.2528176307678223,
          -2.2586781978607178,
          -1.4368118047714233,
          -2.3902125358581543,
          -2.3944449424743652,
          -2.1844780445098877,
          -2.153005838394165,
          -2.253093719482422,
          -1.9182679653167725,
          -2.3220951557159424,
          -1.6719242334365845,
          -2.534579038619995,
          -2.5526139736175537,
          -2.200087070465088
         ],
         "yaxis": "y"
        },
        {
         "hovertemplate": "color=SOC<br>x=%{x}<br>y=%{y}<br>size=%{marker.size}<br>text=%{text}<extra></extra>",
         "legendgroup": "SOC",
         "marker": {
          "color": "#ED4C67",
          "opacity": 0.9,
          "size": [
           2,
           81,
           244,
           44,
           20,
           13,
           34,
           82,
           135,
           87,
           185,
           32,
           72,
           112,
           297,
           4,
           21,
           96,
           84,
           338,
           140,
           98,
           24,
           95,
           141
          ],
          "sizemode": "area",
          "sizeref": 0.315625,
          "symbol": "circle"
         },
         "mode": "markers+text",
         "name": "SOC",
         "orientation": "v",
         "showlegend": true,
         "text": [
          "alain-david",
          "anna-pic",
          "arthur-delaporte",
          "cecile-untermaier",
          "chantal-jourdan",
          "christian-baptiste",
          "claudia-rouaux",
          "elie-califer",
          "fatiha-keloua-hachi",
          "gerard-leseul",
          "guillaume-garot",
          "herve-saulignac",
          "inaki-echaniz",
          "isabelle-santiago",
          "jerome-guedj",
          "joel-aviragnet",
          "marietta-karamanli",
          "melanie-thomin",
          "mickael-bouloux",
          "olivier-faure",
          "philippe-brun",
          "philippe-naillet",
          "roger-vicot",
          "stephane-delautrette",
          "valerie-rabault"
         ],
         "type": "scatter",
         "x": [
          -2.4134747982025146,
          -2.032853603363037,
          -0.09144843369722366,
          -2.173992872238159,
          -0.8150871992111206,
          -2.539011001586914,
          -0.9236653447151184,
          -1.8266619443893433,
          -0.2496802806854248,
          -1.7453948259353638,
          -1.3497765064239502,
          -2.1988253593444824,
          -0.16834305226802826,
          1.5935853719711304,
          -0.013255655765533447,
          -2.151953935623169,
          -1.5807678699493408,
          -1.670609951019287,
          -0.7976587414741516,
          0.9007194638252258,
          -2.907757520675659,
          -0.41948288679122925,
          -1.8794918060302734,
          -0.7635433077812195,
          1.3365403413772583
         ],
         "xaxis": "x",
         "y": [
          1.323493242263794,
          0.7878210544586182,
          -0.47903841733932495,
          1.3110939264297485,
          0.7833830118179321,
          1.157048225402832,
          1.2391778230667114,
          1.5473910570144653,
          -0.16375014185905457,
          0.42790499329566956,
          0.4279339015483856,
          0.9228593707084656,
          -0.5031829476356506,
          3.073988199234009,
          -0.4147914946079254,
          0.9442499279975891,
          1.653045654296875,
          0.9347215890884399,
          0.24415698647499084,
          -1.7206518650054932,
          1.1120737791061401,
          0.16065102815628052,
          1.0318468809127808,
          0.12888148427009583,
          4.339511394500732
         ],
         "yaxis": "y"
        },
        {
         "hovertemplate": "color=LR<br>x=%{x}<br>y=%{y}<br>size=%{marker.size}<br>text=%{text}<extra></extra>",
         "legendgroup": "LR",
         "marker": {
          "color": "#2980b9",
          "opacity": 0.9,
          "size": [
           88,
           11,
           25,
           65,
           1,
           224,
           41,
           1,
           10,
           378,
           68,
           161,
           221,
           69,
           34,
           1,
           1,
           115,
           5,
           85,
           10,
           28,
           61,
           4,
           142,
           1,
           15,
           55,
           46,
           6,
           82,
           24,
           64,
           19,
           45,
           5,
           65,
           5,
           92
          ],
          "sizemode": "area",
          "sizeref": 0.315625,
          "symbol": "circle"
         },
         "mode": "markers+text",
         "name": "LR",
         "orientation": "v",
         "showlegend": true,
         "text": [
          "alexandra-martin",
          "alexandre-vincendet",
          "anne-laure-blin",
          "annie-genevard",
          "antoine-vermorel-marques",
          "aurelien-pradie",
          "dino-cinieri",
          "emilie-bonnivard",
          "emmanuel-maquet",
          "eric-ciotti",
          "fabien-di-filippo",
          "fabrice-brun",
          "francis-dubois",
          "ian-boucard",
          "isabelle-perigault",
          "jean-pierre-taite",
          "jerome-nury",
          "julien-dive",
          "justine-gruet",
          "mansour-kamardine",
          "marc-le-fur",
          "maxime-minot",
          "meyer-habib",
          "michel-herbillon",
          "michele-tabarot",
          "nathalie-serre",
          "nicolas-forissier",
          "nicolas-ray",
          "olivier-marleix",
          "philippe-gosselin",
          "philippe-juvin",
          "pierre-cordier",
          "pierre-henri-dumont",
          "raphael-schellenberger",
          "veronique-louwagie",
          "vincent-rolland",
          "virginie-duby-muller",
          "xavier-breton",
          "yannick-neuder"
         ],
         "type": "scatter",
         "x": [
          -0.31227728724479675,
          -1.5012576580047607,
          -2.6377837657928467,
          -0.3959185779094696,
          -2.9476981163024902,
          -0.2943567633628845,
          -1.5544261932373047,
          -1.6869641542434692,
          -2.496372699737549,
          -4.995084762573242,
          -1.5013266801834106,
          -2.0324697494506836,
          -1.8253076076507568,
          -0.9782851934432983,
          -2.002575397491455,
          -2.553992986679077,
          -2.6315674781799316,
          -1.2530087232589722,
          -0.9557709097862244,
          -4.8484320640563965,
          -2.53643798828125,
          -1.5173004865646362,
          -1.180037498474121,
          -1.8002521991729736,
          -0.7201211452484131,
          -2.6301417350769043,
          -2.5116353034973145,
          -1.3055667877197266,
          -2.7578787803649902,
          -1.3810573816299438,
          -1.4858160018920898,
          -2.528362274169922,
          -0.3279729187488556,
          -2.831428289413452,
          -1.2876421213150024,
          -2.868647336959839,
          -1.4357861280441284,
          -2.508328437805176,
          -2.2956631183624268
         ],
         "xaxis": "x",
         "y": [
          3.980714797973633,
          0.9488535523414612,
          2.4637362957000732,
          2.844064950942993,
          1.607325792312622,
          2.772397994995117,
          1.892944097518921,
          1.2074552774429321,
          2.421468496322632,
          10.613470077514648,
          2.9374101161956787,
          3.364051103591919,
          3.4283151626586914,
          2.243028163909912,
          2.985692024230957,
          1.556240200996399,
          1.5909920930862427,
          3.518232583999634,
          2.3011467456817627,
          12.156311988830566,
          2.4257571697235107,
          2.710867404937744,
          1.5157989263534546,
          2.157723903656006,
          4.26749849319458,
          1.4861233234405518,
          2.2463014125823975,
          4.12351131439209,
          1.218241572380066,
          2.072061061859131,
          1.5781947374343872,
          1.7499386072158813,
          2.653610944747925,
          2.0006020069122314,
          3.5023224353790283,
          1.9282807111740112,
          2.6763792037963867,
          1.9599217176437378,
          1.574137568473816
         ],
         "yaxis": "y"
        },
        {
         "hovertemplate": "color=RN<br>x=%{x}<br>y=%{y}<br>size=%{marker.size}<br>text=%{text}<extra></extra>",
         "legendgroup": "RN",
         "marker": {
          "color": "#2c3e50",
          "opacity": 0.9,
          "size": [
           162,
           131,
           107,
           95,
           67,
           93,
           71,
           128,
           139,
           123,
           132,
           55,
           29,
           231,
           58,
           19,
           309,
           108,
           124,
           85,
           179,
           216,
           276,
           71,
           226,
           102,
           118,
           170,
           213,
           61,
           38,
           314,
           70,
           201,
           23,
           90,
           223,
           148,
           247,
           188,
           26,
           215,
           117,
           6,
           157,
           62,
           332,
           99,
           56,
           112,
           30,
           232,
           101,
           166,
           56,
           208,
           60,
           173,
           3,
           50,
           76,
           148,
           13,
           374,
           131,
           36,
           142
          ],
          "sizemode": "area",
          "sizeref": 0.315625,
          "symbol": "circle"
         },
         "mode": "markers+text",
         "name": "RN",
         "orientation": "v",
         "showlegend": true,
         "text": [
          "alexandra-masson",
          "alexandre-loubet",
          "alexandre-sabatou",
          "anais-sabatini",
          "angelique-ranc",
          "annick-cousin",
          "antoine-villedieu",
          "beatrice-roullaud",
          "bruno-bilde",
          "bryan-masson",
          "caroline-parmentier",
          "christian-girard",
          "christine-loir",
          "christophe-barthes",
          "christophe-bentz",
          "daniel-grenon",
          "edwige-diaz",
          "emeric-salmon",
          "emmanuel-blairy",
          "florence-goulet",
          "franck-allisio",
          "frank-giletti",
          "frederic-boccaletti",
          "frederic-cabrolier",
          "frederic-falcon",
          "geraldine-grangier",
          "gisele-lelouis",
          "gregoire-de-fournas",
          "helene-laporte",
          "herve-de-lepinau",
          "jean-philippe-tanguy",
          "jerome-buisson",
          "jocelyn-dessigny",
          "jordan-guitton",
          "jose-beaurain",
          "jose-gonzalez",
          "julie-lechanteux",
          "julien-rancoule",
          "katiana-levavasseur",
          "kevin-mauvieux",
          "kevin-pfeffer",
          "laure-lavalette",
          "laurence-robert-dehault",
          "laurent-jacobelli",
          "lionel-tivoli",
          "marie-france-lorho",
          "marine-le-pen",
          "mathilde-paris",
          "matthieu-marchio",
          "michael-taverne",
          "michele-martinez",
          "nicolas-meizonnet",
          "philippe-ballard",
          "philippe-lottiaux",
          "philippe-schreck",
          "pierre-meurin",
          "roger-chudeau",
          "romain-baubry",
          "sandrine-dogor-such",
          "serge-muller",
          "sophie-blanc",
          "stephanie-galzy",
          "thierry-frappe",
          "thomas-menage",
          "victor-catteau",
          "yael-menache",
          "yoann-gillet"
         ],
         "type": "scatter",
         "x": [
          -5.064849853515625,
          -4.882159233093262,
          -5.129817485809326,
          -5.689988136291504,
          -5.794098854064941,
          -5.928891658782959,
          -5.5996904373168945,
          -5.621581554412842,
          -5.236802101135254,
          -4.893984317779541,
          -5.675116062164307,
          -5.636337757110596,
          -5.832983493804932,
          -5.58772611618042,
          -5.574746131896973,
          -6.011909008026123,
          -4.969263553619385,
          -5.738075256347656,
          -5.4295268058776855,
          -5.91476583480835,
          -4.765985012054443,
          -5.4574809074401855,
          -4.7591447830200195,
          -5.6002516746521,
          -5.006026744842529,
          -5.364597320556641,
          -4.724577903747559,
          -5.020195484161377,
          -5.213569641113281,
          -4.967958927154541,
          -5.059333324432373,
          -5.279623508453369,
          -5.165380001068115,
          -5.784988880157471,
          -5.944461822509766,
          -5.433318614959717,
          -5.070237636566162,
          -5.589393615722656,
          -5.659384250640869,
          -4.967682361602783,
          -2.9572091102600098,
          -5.2023115158081055,
          -5.403290271759033,
          -2.3076512813568115,
          -5.170021057128906,
          -5.624051570892334,
          -4.9144182205200195,
          -5.5205206871032715,
          -5.709163188934326,
          -5.378985404968262,
          -6.003892421722412,
          -5.085895538330078,
          -4.903453826904297,
          -5.317177772521973,
          -5.072388648986816,
          -5.017948150634766,
          -2.3234779834747314,
          -4.940618515014648,
          -2.4119303226470947,
          -5.5027875900268555,
          -5.689982891082764,
          -5.631222248077393,
          -2.163393259048462,
          -5.008571624755859,
          -5.7939839363098145,
          -5.15309476852417,
          -5.015027046203613
         ],
         "xaxis": "x",
         "y": [
          11.257061004638672,
          11.552436828613281,
          11.98612117767334,
          10.954500198364258,
          10.964922904968262,
          10.886808395385742,
          11.758901596069336,
          11.580583572387695,
          11.691427230834961,
          11.72152042388916,
          11.588042259216309,
          10.681310653686523,
          11.521738052368164,
          11.145368576049805,
          11.217498779296875,
          11.05759048461914,
          11.53398609161377,
          11.227885246276855,
          11.96317195892334,
          10.854782104492188,
          11.507774353027344,
          10.579734802246094,
          11.301217079162598,
          11.852633476257324,
          11.392864227294922,
          11.254195213317871,
          11.284536361694336,
          11.855356216430664,
          11.155488967895508,
          12.201911926269531,
          12.072586059570312,
          11.948612213134766,
          11.8165864944458,
          11.336617469787598,
          10.910051345825195,
          10.609097480773926,
          11.185348510742188,
          10.706155776977539,
          11.243926048278809,
          11.908432006835938,
          1.6393800973892212,
          11.487140655517578,
          11.168313980102539,
          0.7780879735946655,
          11.12720012664795,
          11.231012344360352,
          11.495643615722656,
          11.138954162597656,
          11.637855529785156,
          10.739815711975098,
          11.347187042236328,
          11.745946884155273,
          11.853950500488281,
          11.528989791870117,
          12.260258674621582,
          11.966379165649414,
          1.6166704893112183,
          11.164070129394531,
          1.3966834545135498,
          11.458932876586914,
          11.744649887084961,
          10.986234664916992,
          3.186917304992676,
          11.132113456726074,
          11.437379837036133,
          11.915483474731445,
          11.001981735229492
         ],
         "yaxis": "y"
        },
        {
         "hovertemplate": "color=REN<br>x=%{x}<br>y=%{y}<br>size=%{marker.size}<br>text=%{text}<extra></extra>",
         "legendgroup": "REN",
         "marker": {
          "color": "#3498db",
          "opacity": 0.9,
          "size": [
           70,
           70,
           76,
           69,
           153,
           84,
           149,
           98,
           74,
           164,
           95,
           6,
           58,
           13,
           168,
           62,
           47,
           3,
           109,
           124,
           14,
           17,
           164,
           90,
           131,
           29,
           215,
           16,
           139,
           128,
           39,
           108,
           32,
           53,
           59,
           146,
           135,
           35,
           101,
           85,
           21,
           121,
           110,
           136,
           30,
           9,
           122,
           75,
           167,
           69,
           32,
           110,
           56,
           57,
           77,
           38,
           127,
           17,
           70,
           3,
           38,
           98,
           142,
           50,
           79,
           62,
           51,
           5,
           2,
           96,
           7,
           70,
           240,
           60,
           3,
           164,
           100,
           66,
           56,
           64,
           255,
           61,
           32,
           320,
           34,
           145,
           117,
           46,
           74,
           48,
           25,
           219,
           76,
           79,
           106,
           49,
           127,
           120,
           41,
           79,
           72,
           25,
           1,
           1,
           13,
           4,
           137,
           438,
           19,
           124,
           49,
           76,
           68,
           9,
           41,
           87,
           76,
           8,
           38,
           99,
           89,
           9,
           2,
           102,
           1,
           1,
           61,
           127,
           130,
           152,
           147,
           75,
           79,
           1,
           53,
           28,
           207,
           9,
           7
          ],
          "sizemode": "area",
          "sizeref": 0.315625,
          "symbol": "circle"
         },
         "mode": "markers+text",
         "name": "REN",
         "orientation": "v",
         "showlegend": true,
         "text": [
          "alexandre-holroyd",
          "alexis-izard",
          "amelia-lakrafi",
          "annaig-le-meur",
          "anne-brugnera",
          "anne-genetet",
          "anne-laurence-petel",
          "annie-vidal",
          "anthony-brosse",
          "antoine-armand",
          "astrid-panosyan-bouvet",
          "bastien-marchive",
          "beatrice-piron",
          "benjamin-dirx",
          "benjamin-haddad",
          "benoit-bordat",
          "benoit-mournet",
          "bertrand-sorre",
          "brigitte-klinkert",
          "brigitte-liso",
          "caroline-abadie",
          "caroline-janvier",
          "caroline-yadan",
          "cecile-rilhac",
          "celine-calvez",
          "chantal-bouloux",
          "charles-rodwell",
          "charlotte-goetschy-bolognese",
          "charlotte-parmentier-lecocq",
          "christine-le-nabour",
          "christophe-marion",
          "christopher-weissberg",
          "claire-guichard",
          "claire-pitollat",
          "clara-chassaniol",
          "constance-le-grip",
          "corinne-vignon",
          "damien-abad",
          "damien-adam",
          "daniel-labaronne",
          "danielle-brulebois",
          "david-amiel",
          "david-valence",
          "denis-masseglia",
          "didier-le-gac",
          "didier-martin",
          "didier-paris",
          "dominique-da-silva",
          "emilie-chandler",
          "emmanuel-lacresse",
          "emmanuel-pellerin",
          "eric-alauzet",
          "eric-girardin",
          "eric-poulliat",
          "fabienne-colboc",
          "fadila-khattabi",
          "francois-cormier-bouligeon",
          "freddy-sertin",
          "frederic-descrozaille",
          "gilles-le-gendre",
          "graziella-melchior",
          "guillaume-gouffier-cha",
          "guillaume-kasbarian",
          "guillaume-vuilletet",
          "hadrien-ghomi",
          "huguette-tiegna",
          "jacqueline-maquet",
          "jean-francois-lovisolo",
          "jean-francois-rousset",
          "jean-luc-fugit",
          "jean-philippe-ardouin",
          "jean-pierre-pont",
          "jean-rene-cazeneuve",
          "jean-terlier",
          "joel-giraud",
          "julie-delpech",
          "laurence-cristol",
          "laurence-heydel-grillere",
          "laurence-maillart-mehaignerie",
          "liliana-tanguy",
          "lionel-causse",
          "lionel-royer-perreaut",
          "lionel-vuibert",
          "louis-margueritte",
          "ludovic-mendes",
          "lysiane-metayer",
          "marc-ferracci",
          "marie-guevenoux",
          "marie-lebec",
          "marie-pierre-rixain",
          "marjolaine-meynier-millefert",
          "mathieu-lefevre",
          "michel-lauzzana",
          "mireille-clapot",
          "monique-iborra",
          "mounir-belhamiti",
          "nadia-hai",
          "natalia-pouzyreff",
          "nicolas-metzdorf",
          "nicolas-pacquot",
          "nicole-dubre-chirat",
          "nicole-le-peih",
          "olga-givernet",
          "pascal-lavergne",
          "pascale-boyer",
          "patricia-lemoine",
          "patrick-vignal",
          "paul-midy",
          "philippe-fait",
          "philippe-guillemard",
          "philippe-sorez",
          "pierre-cazeneuve",
          "prisca-thevenot",
          "quentin-bataillon",
          "raphael-gerard",
          "robin-reda",
          "sacha-houlie",
          "sandra-marsaud",
          "sandrine-le-feur",
          "sarah-tanzilli",
          "servane-hugues",
          "sophie-errante",
          "sophie-panonacle",
          "stella-dupont",
          "stephane-buchou",
          "stephane-mazars",
          "stephane-vojetta",
          "stephanie-rist",
          "sylvain-maillard",
          "thomas-cazenave",
          "thomas-gassilloud",
          "thomas-rudigoz",
          "veronique-riotton",
          "vincent-ledoux",
          "xavier-batut",
          "xavier-roseren",
          "yael-braun-pivet",
          "yannick-chenevard",
          "yannick-haury"
         ],
         "type": "scatter",
         "x": [
          1.491629719734192,
          1.404611587524414,
          0.6691311597824097,
          -0.5073627829551697,
          1.2524065971374512,
          1.244208574295044,
          0.46514299511909485,
          1.215057373046875,
          -1.3464281558990479,
          1.2048808336257935,
          1.9995648860931396,
          -1.6937594413757324,
          1.7728177309036255,
          -0.6522119641304016,
          1.3454971313476562,
          -0.9347507953643799,
          -1.0740547180175781,
          -3.041825771331787,
          0.6684252023696899,
          1.908299446105957,
          -1.3076245784759521,
          0.026299363002181053,
          1.9728833436965942,
          1.4537323713302612,
          1.9495866298675537,
          1.3937373161315918,
          1.3233627080917358,
          0.5249696373939514,
          0.8592224717140198,
          1.251224398612976,
          -0.008371689356863499,
          1.405945897102356,
          1.2601019144058228,
          1.540034294128418,
          1.0019341707229614,
          1.0425474643707275,
          1.0743576288223267,
          -1.7541074752807617,
          0.9389858245849609,
          0.7522705793380737,
          -1.2132717370986938,
          0.3668312728404999,
          0.06767203658819199,
          0.8911405801773071,
          -0.7293391227722168,
          -0.563787043094635,
          0.6786645650863647,
          1.2130144834518433,
          1.2716701030731201,
          -0.949891984462738,
          1.1330212354660034,
          0.3013458847999573,
          -1.0985232591629028,
          -0.9368311762809753,
          1.7722201347351074,
          0.5335038900375366,
          -0.021417604759335518,
          -0.0380307175219059,
          -0.5228378176689148,
          -1.6617356538772583,
          1.5692371129989624,
          1.9465603828430176,
          1.5097095966339111,
          1.4514254331588745,
          0.8772746920585632,
          -0.6117434501647949,
          1.3368850946426392,
          -1.908225178718567,
          -2.3885741233825684,
          -0.8117039799690247,
          -1.7695761919021606,
          1.345816969871521,
          1.1143088340759277,
          -0.687778651714325,
          -1.595980167388916,
          1.466407060623169,
          0.4127919673919678,
          1.1956583261489868,
          1.0272502899169922,
          1.2868953943252563,
          1.2583695650100708,
          -0.45942023396492004,
          -0.8733065724372864,
          0.7835989594459534,
          -2.268357753753662,
          0.8166720271110535,
          0.7965124249458313,
          1.1793874502182007,
          1.3502925634384155,
          2.0571088790893555,
          -0.7798138856887817,
          0.16229702532291412,
          1.237960696220398,
          1.9570575952529907,
          0.5836173295974731,
          0.8584468960762024,
          0.17250579595565796,
          0.8022012710571289,
          -0.4186457693576813,
          -1.458564043045044,
          0.31559380888938904,
          -1.1257342100143433,
          -2.3213000297546387,
          -2.6996982097625732,
          -1.1393980979919434,
          -1.811704397201538,
          -0.5448396801948547,
          1.562454104423523,
          -0.4880523383617401,
          1.1749743223190308,
          0.7899379134178162,
          -0.9543185830116272,
          0.705496072769165,
          -1.597678780555725,
          2.0392069816589355,
          0.5732830166816711,
          0.9410924911499023,
          -1.9167876243591309,
          -2.4037766456604004,
          1.8714343309402466,
          1.6213321685791016,
          -1.5747485160827637,
          -2.025451421737671,
          2.008347511291504,
          -2.394925832748413,
          -2.5136029720306396,
          0.952721893787384,
          1.1413912773132324,
          0.23560330271720886,
          1.2306342124938965,
          0.8062058091163635,
          0.970625102519989,
          1.993329644203186,
          -2.6424076557159424,
          -1.2321429252624512,
          -2.2098779678344727,
          1.3533118963241577,
          -1.6770391464233398,
          -1.421988844871521
         ],
         "xaxis": "x",
         "y": [
          3.68705415725708,
          3.496837615966797,
          4.283204555511475,
          1.8073922395706177,
          2.3975749015808105,
          4.3105788230896,
          3.178499460220337,
          1.8506416082382202,
          3.7206225395202637,
          4.440805912017822,
          3.031543493270874,
          2.203827142715454,
          2.129352569580078,
          3.7460551261901855,
          4.40523099899292,
          3.603726625442505,
          3.1859445571899414,
          1.5399423837661743,
          4.375382900238037,
          2.240011215209961,
          1.6419662237167358,
          1.683871865272522,
          2.945688009262085,
          2.061117172241211,
          2.267805576324463,
          2.731663227081299,
          3.872499704360962,
          3.8927345275878906,
          2.0642900466918945,
          3.245476722717285,
          3.543700933456421,
          4.144096374511719,
          2.29276180267334,
          2.35205340385437,
          2.9460573196411133,
          4.064041614532471,
          3.4052343368530273,
          3.0939278602600098,
          2.4375243186950684,
          2.7114031314849854,
          3.3727118968963623,
          3.0283944606781006,
          3.4641520977020264,
          3.197838068008423,
          3.4483323097229004,
          1.4203170537948608,
          3.8160560131073,
          3.604550361633301,
          1.9459922313690186,
          4.316046237945557,
          3.4006540775299072,
          3.0681707859039307,
          4.031951904296875,
          4.232631683349609,
          2.292879343032837,
          2.0255157947540283,
          2.8531529903411865,
          3.1669960021972656,
          3.5412654876708984,
          1.5534666776657104,
          2.366424560546875,
          2.461979866027832,
          3.60687518119812,
          3.0194056034088135,
          3.741806745529175,
          3.579733371734619,
          2.736166477203369,
          2.8343775272369385,
          2.1022517681121826,
          3.3336148262023926,
          2.778221845626831,
          2.898634672164917,
          3.636608362197876,
          2.09757924079895,
          2.9629788398742676,
          2.1989853382110596,
          1.818137526512146,
          3.3185391426086426,
          3.4247612953186035,
          3.3025875091552734,
          1.890397310256958,
          2.703552484512329,
          4.354626655578613,
          3.737421751022339,
          1.4463921785354614,
          3.6535160541534424,
          3.41471004486084,
          2.0181310176849365,
          3.7421345710754395,
          2.7007339000701904,
          1.8434839248657227,
          2.7934494018554688,
          2.0987956523895264,
          3.2027013301849365,
          2.1007144451141357,
          2.8335702419281006,
          2.789330244064331,
          4.356796741485596,
          2.575207233428955,
          1.851752519607544,
          1.678778886795044,
          3.7195639610290527,
          1.1300954818725586,
          1.965635061264038,
          2.18259859085083,
          1.0279525518417358,
          3.0634214878082275,
          3.63336181640625,
          1.295868992805481,
          2.9729554653167725,
          2.718597412109375,
          2.951690673828125,
          2.953042507171631,
          1.2408616542816162,
          2.7464828491210938,
          3.0826921463012695,
          2.6686768531799316,
          1.7424335479736328,
          2.6717491149902344,
          2.924105644226074,
          2.204103469848633,
          3.500670909881592,
          1.6069705486297607,
          2.5816152095794678,
          1.7791529893875122,
          1.7630845308303833,
          2.725851535797119,
          1.9249898195266724,
          3.164400577545166,
          1.936867594718933,
          4.309513092041016,
          2.9377353191375732,
          2.574115514755249,
          1.597325325012207,
          4.155629634857178,
          2.460468053817749,
          3.513033151626587,
          2.844653367996216,
          2.8703176975250244
         ],
         "yaxis": "y"
        },
        {
         "hovertemplate": "color=GDR<br>x=%{x}<br>y=%{y}<br>size=%{marker.size}<br>text=%{text}<extra></extra>",
         "legendgroup": "GDR",
         "marker": {
          "color": "#EA2027",
          "opacity": 0.9,
          "size": [
           19,
           8,
           91,
           376,
           15,
           8,
           34,
           18,
           137,
           23,
           38,
           233,
           34,
           52,
           67
          ],
          "sizemode": "area",
          "sizeref": 0.315625,
          "symbol": "circle"
         },
         "mode": "markers+text",
         "name": "GDR",
         "orientation": "v",
         "showlegend": true,
         "text": [
          "andre-chassaigne",
          "davy-rimane",
          "elsa-faucillon",
          "fabien-roussel",
          "frederic-maillot",
          "hubert-wulfranc",
          "jean-marc-tellier",
          "jiovanny-william",
          "karine-lebon",
          "nicolas-sansu",
          "pierre-dharreville",
          "sebastien-jumel",
          "soumya-bourouaha",
          "stephane-peu",
          "yannick-monnet"
         ],
         "type": "scatter",
         "x": [
          -1.7149068117141724,
          -2.7786052227020264,
          0.5347477197647095,
          0.4330543875694275,
          -2.301023244857788,
          -2.78615665435791,
          -0.26184117794036865,
          -1.5129270553588867,
          -0.37184938788414,
          -2.668869972229004,
          -1.9481637477874756,
          0.23583054542541504,
          0.041482482105493546,
          0.13136446475982666,
          -2.2448174953460693
         ],
         "xaxis": "x",
         "y": [
          0.8711971044540405,
          1.6011335849761963,
          -1.8098797798156738,
          -2.85514497756958,
          2.239666223526001,
          1.5869556665420532,
          -0.9982390999794006,
          2.49027943611145,
          0.07809638231992722,
          1.1238551139831543,
          0.8791125416755676,
          -2.8686344623565674,
          -1.1103421449661255,
          -1.1667368412017822,
          0.9121598601341248
         ],
         "yaxis": "y"
        },
        {
         "hovertemplate": "color=MODEM<br>x=%{x}<br>y=%{y}<br>size=%{marker.size}<br>text=%{text}<extra></extra>",
         "legendgroup": "MODEM",
         "marker": {
          "color": "#e67e22",
          "opacity": 0.9,
          "size": [
           79,
           129,
           62,
           30,
           23,
           212,
           7,
           99,
           96,
           88,
           4,
           87,
           59,
           2,
           225,
           174,
           76,
           10,
           4,
           4,
           19,
           5,
           9,
           19,
           128,
           141,
           68,
           40,
           52,
           24,
           76,
           3,
           14,
           58,
           62,
           17,
           50,
           15,
           3,
           106,
           3,
           120
          ],
          "sizemode": "area",
          "sizeref": 0.315625,
          "symbol": "circle"
         },
         "mode": "markers+text",
         "name": "MODEM",
         "orientation": "v",
         "showlegend": true,
         "text": [
          "anne-bergantz",
          "anne-laure-babault",
          "aude-luquet",
          "blandine-brocard",
          "bruno-fuchs",
          "bruno-millienne",
          "christophe-blanchet",
          "cyrille-isaac-sibille",
          "delphine-lingemann",
          "elodie-jacquier-laforge",
          "emmanuel-mandon",
          "erwan-balanant",
          "fabien-laine",
          "frantz-gumbs",
          "frederic-petit",
          "frederic-zgainski",
          "geraldine-bannier",
          "hubert-ott",
          "jean-louis-bourlanges",
          "jean-paul-mattei",
          "jean-pierre-cubertafon",
          "jimmy-pahun",
          "josy-poueyto",
          "laurence-vichnievsky",
          "laurent-croizier",
          "laurent-esquenet-goxes",
          "louise-morel",
          "mathilde-desjonqueres",
          "maud-petit",
          "mickael-cosson",
          "mohamed-laqhila",
          "nicolas-turquois",
          "olivier-falorni",
          "perrine-goulet",
          "philippe-bolo",
          "philippe-latombe",
          "philippe-vigier",
          "richard-ramos",
          "romain-daubie",
          "sabine-thillaye",
          "sophie-mette",
          "vincent-bru"
         ],
         "type": "scatter",
         "x": [
          1.1648976802825928,
          -0.9669186472892761,
          1.2293331623077393,
          -1.3957080841064453,
          1.3445895910263062,
          0.31831955909729004,
          -2.003108024597168,
          0.704776406288147,
          0.27551114559173584,
          1.0886354446411133,
          -2.0334372520446777,
          1.612992763519287,
          -0.756045937538147,
          -2.0854153633117676,
          0.9164725542068481,
          -0.814481794834137,
          -0.9630024433135986,
          -2.1733238697052,
          -1.3451597690582275,
          -1.9035155773162842,
          -1.9763400554656982,
          -1.3461627960205078,
          -1.5636067390441895,
          -1.3299275636672974,
          0.7180797457695007,
          0.9643415808677673,
          0.3720962405204773,
          -0.8101468086242676,
          1.831479549407959,
          -0.9267851114273071,
          0.9953830242156982,
          -1.065785527229309,
          -1.6593412160873413,
          1.5909899473190308,
          -1.0377957820892334,
          -0.5170524716377258,
          -1.2437827587127686,
          -1.8600614070892334,
          -2.621354579925537,
          0.6935117840766907,
          -2.615055561065674,
          0.893000602722168
         ],
         "xaxis": "x",
         "y": [
          2.167283773422241,
          3.6041641235351562,
          3.2301599979400635,
          3.384884834289551,
          4.168398380279541,
          2.6783223152160645,
          1.2624833583831787,
          2.132189989089966,
          4.072299003601074,
          1.9864981174468994,
          1.3580851554870605,
          2.5156853199005127,
          4.337355136871338,
          1.9685604572296143,
          4.199847221374512,
          4.295961856842041,
          3.3696625232696533,
          1.7914354801177979,
          2.2832820415496826,
          1.4260880947113037,
          2.7077114582061768,
          2.3612256050109863,
          2.5521626472473145,
          1.841780185699463,
          2.8994531631469727,
          2.8997793197631836,
          3.7998976707458496,
          1.8124102354049683,
          2.7011501789093018,
          3.2425546646118164,
          3.823096990585327,
          1.7159103155136108,
          2.1845479011535645,
          2.792205810546875,
          3.6036975383758545,
          3.2239978313446045,
          1.534548044204712,
          1.8120148181915283,
          1.467077612876892,
          4.3329572677612305,
          2.1844308376312256,
          4.204216957092285
         ],
         "yaxis": "y"
        },
        {
         "hovertemplate": "color=HOR<br>x=%{x}<br>y=%{y}<br>size=%{marker.size}<br>text=%{text}<extra></extra>",
         "legendgroup": "HOR",
         "marker": {
          "color": "#1B1464",
          "opacity": 0.9,
          "size": [
           1,
           70,
           4,
           82,
           4,
           24,
           10,
           255,
           33,
           4,
           53,
           19,
           29,
           16,
           1,
           5,
           104,
           7,
           85,
           65
          ],
          "sizemode": "area",
          "sizeref": 0.315625,
          "symbol": "circle"
         },
         "mode": "markers+text",
         "name": "HOR",
         "orientation": "v",
         "showlegend": true,
         "text": [
          "anne-cecile-violland",
          "anne-le-henanff",
          "beatrice-bellamy",
          "christophe-plassard",
          "didier-lemaire",
          "felicie-gerard",
          "francois-jolivet",
          "jean-charles-larsonneur",
          "jean-francois-portarrieu",
          "jeremie-patrier-leitus",
          "laurent-marcangeli",
          "lise-magnier",
          "loic-kervran",
          "luc-lamirault",
          "naima-moutchou",
          "paul-christophe",
          "philippe-pradal",
          "thierry-benoit",
          "vincent-thiebaut",
          "xavier-albertini"
         ],
         "type": "scatter",
         "x": [
          -2.025984287261963,
          0.08907395601272583,
          -1.283564805984497,
          -0.5055406093597412,
          -1.367472529411316,
          -1.1078245639801025,
          -3.071979284286499,
          1.1554683446884155,
          -1.3775094747543335,
          -1.4245103597640991,
          -0.25319868326187134,
          -1.2132482528686523,
          -1.2154018878936768,
          -1.7477223873138428,
          -2.1828901767730713,
          -1.6179986000061035,
          -1.244322657585144,
          -1.4245831966400146,
          0.20790551602840424,
          -1.5259016752243042
         ],
         "xaxis": "x",
         "y": [
          1.8669639825820923,
          3.7389955520629883,
          3.0246946811676025,
          3.6328125,
          2.9879231452941895,
          3.956947088241577,
          1.5431057214736938,
          4.491682529449463,
          3.989694118499756,
          3.071615695953369,
          3.9163708686828613,
          3.4252753257751465,
          3.048755168914795,
          2.1517913341522217,
          1.9359180927276611,
          1.8982102870941162,
          4.239132881164551,
          2.5736677646636963,
          3.83622407913208,
          3.3756539821624756
         ],
         "yaxis": "y"
        },
        {
         "hovertemplate": "color=LIOT<br>x=%{x}<br>y=%{y}<br>size=%{marker.size}<br>text=%{text}<extra></extra>",
         "legendgroup": "LIOT",
         "marker": {
          "color": "#2ecc71",
          "opacity": 0.9,
          "size": [
           47,
           21,
           40,
           15,
           99,
           6,
           29,
           26,
           22,
           24,
           15,
           24,
           5
          ],
          "sizemode": "area",
          "sizeref": 0.315625,
          "symbol": "circle"
         },
         "mode": "markers+text",
         "name": "LIOT",
         "orientation": "v",
         "showlegend": true,
         "text": [
          "beatrice-descamps",
          "benjamin-saint-huile",
          "bertrand-pancher",
          "charles-de-courson",
          "david-taupiac",
          "guy-bricout",
          "jean-felix-acquaviva",
          "michel-castellani",
          "olivier-serva",
          "paul-andre-colombani",
          "paul-molac",
          "pierre-morel-a-l-huissier",
          "stephane-lenormand"
         ],
         "type": "scatter",
         "x": [
          -1.4246643781661987,
          -2.0792737007141113,
          -2.3178460597991943,
          -1.3687878847122192,
          -2.530742645263672,
          -1.746382713317871,
          -1.214983344078064,
          -1.2674156427383423,
          -1.3387304544448853,
          -1.5168977975845337,
          -1.7065305709838867,
          -2.6783292293548584,
          -2.064410448074341
         ],
         "xaxis": "x",
         "y": [
          3.704145669937134,
          0.865993082523346,
          1.347771406173706,
          3.7982594966888428,
          2.1622564792633057,
          1.2475138902664185,
          2.2173774242401123,
          2.3096625804901123,
          1.4232103824615479,
          1.9696322679519653,
          1.758861780166626,
          1.9082677364349365,
          1.6183539628982544
         ],
         "yaxis": "y"
        },
        {
         "hovertemplate": "color=ECO<br>x=%{x}<br>y=%{y}<br>size=%{marker.size}<br>text=%{text}<extra></extra>",
         "legendgroup": "ECO",
         "marker": {
          "color": "#009432",
          "opacity": 0.9,
          "size": [
           304,
           117,
           126,
           16,
           158,
           84,
           54,
           174,
           76,
           112,
           86,
           309,
           309,
           114,
           207,
           124,
           227,
           103,
           349
          ],
          "sizemode": "area",
          "sizeref": 0.315625,
          "symbol": "circle"
         },
         "mode": "markers+text",
         "name": "ECO",
         "orientation": "v",
         "showlegend": true,
         "text": [
          "benjamin-lucas",
          "charles-fournier",
          "christine-arrighi",
          "delphine-batho",
          "eva-sas",
          "francesca-pasquini",
          "hubert-julien-laferriere",
          "jean-claude-raux",
          "jeremie-iordanoff",
          "julie-laernoes",
          "lisa-belluco",
          "marie-charlotte-garin",
          "marie-pochon",
          "nicolas-thierry",
          "sabrina-sebaihi",
          "sandra-regol",
          "sandrine-rousseau",
          "sebastien-peytavie",
          "sophie-taille-polian"
         ],
         "type": "scatter",
         "x": [
          1.0284812450408936,
          -0.83204585313797,
          -0.40851572155952454,
          -2.2793123722076416,
          -0.21010491251945496,
          -1.2192374467849731,
          -0.704071581363678,
          -0.24372521042823792,
          -2.12117862701416,
          -0.3606414496898651,
          -0.8818790316581726,
          0.2697420120239258,
          -0.22019942104816437,
          -0.34283944964408875,
          0.044052865356206894,
          -0.18083904683589935,
          0.2618969678878784,
          -0.4570576250553131,
          0.6946103572845459
         ],
         "xaxis": "x",
         "y": [
          -1.7166898250579834,
          -0.6316129565238953,
          -0.7111994028091431,
          0.5057584047317505,
          -0.5840674638748169,
          0.32698071002960205,
          0.3152608573436737,
          -0.7015027403831482,
          0.6024119853973389,
          -0.8391508460044861,
          -0.5589599609375,
          -1.9893302917480469,
          -1.9647743701934814,
          -1.6796225309371948,
          -0.8917753100395203,
          -1.623422622680664,
          -1.990421175956726,
          0.07528818398714066,
          -1.9362666606903076
         ],
         "yaxis": "y"
        },
        {
         "hovertemplate": "color=NI<br>x=%{x}<br>y=%{y}<br>size=%{marker.size}<br>text=%{text}<extra></extra>",
         "legendgroup": "NI",
         "marker": {
          "color": "#95a5a6",
          "opacity": 0.9,
          "size": [
           1,
           5,
           505,
           72
          ],
          "sizemode": "area",
          "sizeref": 0.315625,
          "symbol": "circle"
         },
         "mode": "markers+text",
         "name": "NI",
         "orientation": "v",
         "showlegend": true,
         "text": [
          "david-habib",
          "emmanuelle-menard",
          "nicolas-dupont-aignan",
          "veronique-besse"
         ],
         "type": "scatter",
         "x": [
          -2.8457272052764893,
          -2.381357192993164,
          -4.878396511077881,
          -3.0384042263031006
         ],
         "xaxis": "x",
         "y": [
          1.4514840841293335,
          1.6149784326553345,
          12.023652076721191,
          1.7512189149856567
         ],
         "yaxis": "y"
        }
       ],
       "layout": {
        "height": 1000,
        "legend": {
         "itemsizing": "constant",
         "title": {
          "text": "color"
         },
         "tracegroupgap": 0
        },
        "margin": {
         "t": 60
        },
        "template": {
         "data": {
          "bar": [
           {
            "error_x": {
             "color": "#2a3f5f"
            },
            "error_y": {
             "color": "#2a3f5f"
            },
            "marker": {
             "line": {
              "color": "#E5ECF6",
              "width": 0.5
             },
             "pattern": {
              "fillmode": "overlay",
              "size": 10,
              "solidity": 0.2
             }
            },
            "type": "bar"
           }
          ],
          "barpolar": [
           {
            "marker": {
             "line": {
              "color": "#E5ECF6",
              "width": 0.5
             },
             "pattern": {
              "fillmode": "overlay",
              "size": 10,
              "solidity": 0.2
             }
            },
            "type": "barpolar"
           }
          ],
          "carpet": [
           {
            "aaxis": {
             "endlinecolor": "#2a3f5f",
             "gridcolor": "white",
             "linecolor": "white",
             "minorgridcolor": "white",
             "startlinecolor": "#2a3f5f"
            },
            "baxis": {
             "endlinecolor": "#2a3f5f",
             "gridcolor": "white",
             "linecolor": "white",
             "minorgridcolor": "white",
             "startlinecolor": "#2a3f5f"
            },
            "type": "carpet"
           }
          ],
          "choropleth": [
           {
            "colorbar": {
             "outlinewidth": 0,
             "ticks": ""
            },
            "type": "choropleth"
           }
          ],
          "contour": [
           {
            "colorbar": {
             "outlinewidth": 0,
             "ticks": ""
            },
            "colorscale": [
             [
              0,
              "#0d0887"
             ],
             [
              0.1111111111111111,
              "#46039f"
             ],
             [
              0.2222222222222222,
              "#7201a8"
             ],
             [
              0.3333333333333333,
              "#9c179e"
             ],
             [
              0.4444444444444444,
              "#bd3786"
             ],
             [
              0.5555555555555556,
              "#d8576b"
             ],
             [
              0.6666666666666666,
              "#ed7953"
             ],
             [
              0.7777777777777778,
              "#fb9f3a"
             ],
             [
              0.8888888888888888,
              "#fdca26"
             ],
             [
              1,
              "#f0f921"
             ]
            ],
            "type": "contour"
           }
          ],
          "contourcarpet": [
           {
            "colorbar": {
             "outlinewidth": 0,
             "ticks": ""
            },
            "type": "contourcarpet"
           }
          ],
          "heatmap": [
           {
            "colorbar": {
             "outlinewidth": 0,
             "ticks": ""
            },
            "colorscale": [
             [
              0,
              "#0d0887"
             ],
             [
              0.1111111111111111,
              "#46039f"
             ],
             [
              0.2222222222222222,
              "#7201a8"
             ],
             [
              0.3333333333333333,
              "#9c179e"
             ],
             [
              0.4444444444444444,
              "#bd3786"
             ],
             [
              0.5555555555555556,
              "#d8576b"
             ],
             [
              0.6666666666666666,
              "#ed7953"
             ],
             [
              0.7777777777777778,
              "#fb9f3a"
             ],
             [
              0.8888888888888888,
              "#fdca26"
             ],
             [
              1,
              "#f0f921"
             ]
            ],
            "type": "heatmap"
           }
          ],
          "heatmapgl": [
           {
            "colorbar": {
             "outlinewidth": 0,
             "ticks": ""
            },
            "colorscale": [
             [
              0,
              "#0d0887"
             ],
             [
              0.1111111111111111,
              "#46039f"
             ],
             [
              0.2222222222222222,
              "#7201a8"
             ],
             [
              0.3333333333333333,
              "#9c179e"
             ],
             [
              0.4444444444444444,
              "#bd3786"
             ],
             [
              0.5555555555555556,
              "#d8576b"
             ],
             [
              0.6666666666666666,
              "#ed7953"
             ],
             [
              0.7777777777777778,
              "#fb9f3a"
             ],
             [
              0.8888888888888888,
              "#fdca26"
             ],
             [
              1,
              "#f0f921"
             ]
            ],
            "type": "heatmapgl"
           }
          ],
          "histogram": [
           {
            "marker": {
             "pattern": {
              "fillmode": "overlay",
              "size": 10,
              "solidity": 0.2
             }
            },
            "type": "histogram"
           }
          ],
          "histogram2d": [
           {
            "colorbar": {
             "outlinewidth": 0,
             "ticks": ""
            },
            "colorscale": [
             [
              0,
              "#0d0887"
             ],
             [
              0.1111111111111111,
              "#46039f"
             ],
             [
              0.2222222222222222,
              "#7201a8"
             ],
             [
              0.3333333333333333,
              "#9c179e"
             ],
             [
              0.4444444444444444,
              "#bd3786"
             ],
             [
              0.5555555555555556,
              "#d8576b"
             ],
             [
              0.6666666666666666,
              "#ed7953"
             ],
             [
              0.7777777777777778,
              "#fb9f3a"
             ],
             [
              0.8888888888888888,
              "#fdca26"
             ],
             [
              1,
              "#f0f921"
             ]
            ],
            "type": "histogram2d"
           }
          ],
          "histogram2dcontour": [
           {
            "colorbar": {
             "outlinewidth": 0,
             "ticks": ""
            },
            "colorscale": [
             [
              0,
              "#0d0887"
             ],
             [
              0.1111111111111111,
              "#46039f"
             ],
             [
              0.2222222222222222,
              "#7201a8"
             ],
             [
              0.3333333333333333,
              "#9c179e"
             ],
             [
              0.4444444444444444,
              "#bd3786"
             ],
             [
              0.5555555555555556,
              "#d8576b"
             ],
             [
              0.6666666666666666,
              "#ed7953"
             ],
             [
              0.7777777777777778,
              "#fb9f3a"
             ],
             [
              0.8888888888888888,
              "#fdca26"
             ],
             [
              1,
              "#f0f921"
             ]
            ],
            "type": "histogram2dcontour"
           }
          ],
          "mesh3d": [
           {
            "colorbar": {
             "outlinewidth": 0,
             "ticks": ""
            },
            "type": "mesh3d"
           }
          ],
          "parcoords": [
           {
            "line": {
             "colorbar": {
              "outlinewidth": 0,
              "ticks": ""
             }
            },
            "type": "parcoords"
           }
          ],
          "pie": [
           {
            "automargin": true,
            "type": "pie"
           }
          ],
          "scatter": [
           {
            "fillpattern": {
             "fillmode": "overlay",
             "size": 10,
             "solidity": 0.2
            },
            "type": "scatter"
           }
          ],
          "scatter3d": [
           {
            "line": {
             "colorbar": {
              "outlinewidth": 0,
              "ticks": ""
             }
            },
            "marker": {
             "colorbar": {
              "outlinewidth": 0,
              "ticks": ""
             }
            },
            "type": "scatter3d"
           }
          ],
          "scattercarpet": [
           {
            "marker": {
             "colorbar": {
              "outlinewidth": 0,
              "ticks": ""
             }
            },
            "type": "scattercarpet"
           }
          ],
          "scattergeo": [
           {
            "marker": {
             "colorbar": {
              "outlinewidth": 0,
              "ticks": ""
             }
            },
            "type": "scattergeo"
           }
          ],
          "scattergl": [
           {
            "marker": {
             "colorbar": {
              "outlinewidth": 0,
              "ticks": ""
             }
            },
            "type": "scattergl"
           }
          ],
          "scattermapbox": [
           {
            "marker": {
             "colorbar": {
              "outlinewidth": 0,
              "ticks": ""
             }
            },
            "type": "scattermapbox"
           }
          ],
          "scatterpolar": [
           {
            "marker": {
             "colorbar": {
              "outlinewidth": 0,
              "ticks": ""
             }
            },
            "type": "scatterpolar"
           }
          ],
          "scatterpolargl": [
           {
            "marker": {
             "colorbar": {
              "outlinewidth": 0,
              "ticks": ""
             }
            },
            "type": "scatterpolargl"
           }
          ],
          "scatterternary": [
           {
            "marker": {
             "colorbar": {
              "outlinewidth": 0,
              "ticks": ""
             }
            },
            "type": "scatterternary"
           }
          ],
          "surface": [
           {
            "colorbar": {
             "outlinewidth": 0,
             "ticks": ""
            },
            "colorscale": [
             [
              0,
              "#0d0887"
             ],
             [
              0.1111111111111111,
              "#46039f"
             ],
             [
              0.2222222222222222,
              "#7201a8"
             ],
             [
              0.3333333333333333,
              "#9c179e"
             ],
             [
              0.4444444444444444,
              "#bd3786"
             ],
             [
              0.5555555555555556,
              "#d8576b"
             ],
             [
              0.6666666666666666,
              "#ed7953"
             ],
             [
              0.7777777777777778,
              "#fb9f3a"
             ],
             [
              0.8888888888888888,
              "#fdca26"
             ],
             [
              1,
              "#f0f921"
             ]
            ],
            "type": "surface"
           }
          ],
          "table": [
           {
            "cells": {
             "fill": {
              "color": "#EBF0F8"
             },
             "line": {
              "color": "white"
             }
            },
            "header": {
             "fill": {
              "color": "#C8D4E3"
             },
             "line": {
              "color": "white"
             }
            },
            "type": "table"
           }
          ]
         },
         "layout": {
          "annotationdefaults": {
           "arrowcolor": "#2a3f5f",
           "arrowhead": 0,
           "arrowwidth": 1
          },
          "autotypenumbers": "strict",
          "coloraxis": {
           "colorbar": {
            "outlinewidth": 0,
            "ticks": ""
           }
          },
          "colorscale": {
           "diverging": [
            [
             0,
             "#8e0152"
            ],
            [
             0.1,
             "#c51b7d"
            ],
            [
             0.2,
             "#de77ae"
            ],
            [
             0.3,
             "#f1b6da"
            ],
            [
             0.4,
             "#fde0ef"
            ],
            [
             0.5,
             "#f7f7f7"
            ],
            [
             0.6,
             "#e6f5d0"
            ],
            [
             0.7,
             "#b8e186"
            ],
            [
             0.8,
             "#7fbc41"
            ],
            [
             0.9,
             "#4d9221"
            ],
            [
             1,
             "#276419"
            ]
           ],
           "sequential": [
            [
             0,
             "#0d0887"
            ],
            [
             0.1111111111111111,
             "#46039f"
            ],
            [
             0.2222222222222222,
             "#7201a8"
            ],
            [
             0.3333333333333333,
             "#9c179e"
            ],
            [
             0.4444444444444444,
             "#bd3786"
            ],
            [
             0.5555555555555556,
             "#d8576b"
            ],
            [
             0.6666666666666666,
             "#ed7953"
            ],
            [
             0.7777777777777778,
             "#fb9f3a"
            ],
            [
             0.8888888888888888,
             "#fdca26"
            ],
            [
             1,
             "#f0f921"
            ]
           ],
           "sequentialminus": [
            [
             0,
             "#0d0887"
            ],
            [
             0.1111111111111111,
             "#46039f"
            ],
            [
             0.2222222222222222,
             "#7201a8"
            ],
            [
             0.3333333333333333,
             "#9c179e"
            ],
            [
             0.4444444444444444,
             "#bd3786"
            ],
            [
             0.5555555555555556,
             "#d8576b"
            ],
            [
             0.6666666666666666,
             "#ed7953"
            ],
            [
             0.7777777777777778,
             "#fb9f3a"
            ],
            [
             0.8888888888888888,
             "#fdca26"
            ],
            [
             1,
             "#f0f921"
            ]
           ]
          },
          "colorway": [
           "#636efa",
           "#EF553B",
           "#00cc96",
           "#ab63fa",
           "#FFA15A",
           "#19d3f3",
           "#FF6692",
           "#B6E880",
           "#FF97FF",
           "#FECB52"
          ],
          "font": {
           "color": "#2a3f5f"
          },
          "geo": {
           "bgcolor": "white",
           "lakecolor": "white",
           "landcolor": "#E5ECF6",
           "showlakes": true,
           "showland": true,
           "subunitcolor": "white"
          },
          "hoverlabel": {
           "align": "left"
          },
          "hovermode": "closest",
          "mapbox": {
           "style": "light"
          },
          "paper_bgcolor": "white",
          "plot_bgcolor": "#E5ECF6",
          "polar": {
           "angularaxis": {
            "gridcolor": "white",
            "linecolor": "white",
            "ticks": ""
           },
           "bgcolor": "#E5ECF6",
           "radialaxis": {
            "gridcolor": "white",
            "linecolor": "white",
            "ticks": ""
           }
          },
          "scene": {
           "xaxis": {
            "backgroundcolor": "#E5ECF6",
            "gridcolor": "white",
            "gridwidth": 2,
            "linecolor": "white",
            "showbackground": true,
            "ticks": "",
            "zerolinecolor": "white"
           },
           "yaxis": {
            "backgroundcolor": "#E5ECF6",
            "gridcolor": "white",
            "gridwidth": 2,
            "linecolor": "white",
            "showbackground": true,
            "ticks": "",
            "zerolinecolor": "white"
           },
           "zaxis": {
            "backgroundcolor": "#E5ECF6",
            "gridcolor": "white",
            "gridwidth": 2,
            "linecolor": "white",
            "showbackground": true,
            "ticks": "",
            "zerolinecolor": "white"
           }
          },
          "shapedefaults": {
           "line": {
            "color": "#2a3f5f"
           }
          },
          "ternary": {
           "aaxis": {
            "gridcolor": "white",
            "linecolor": "white",
            "ticks": ""
           },
           "baxis": {
            "gridcolor": "white",
            "linecolor": "white",
            "ticks": ""
           },
           "bgcolor": "#E5ECF6",
           "caxis": {
            "gridcolor": "white",
            "linecolor": "white",
            "ticks": ""
           }
          },
          "title": {
           "x": 0.05
          },
          "xaxis": {
           "automargin": true,
           "gridcolor": "white",
           "linecolor": "white",
           "ticks": "",
           "title": {
            "standoff": 15
           },
           "zerolinecolor": "white",
           "zerolinewidth": 2
          },
          "yaxis": {
           "automargin": true,
           "gridcolor": "white",
           "linecolor": "white",
           "ticks": "",
           "title": {
            "standoff": 15
           },
           "zerolinecolor": "white",
           "zerolinewidth": 2
          }
         }
        },
        "xaxis": {
         "anchor": "y",
         "domain": [
          0,
          1
         ],
         "title": {
          "text": "x"
         }
        },
        "yaxis": {
         "anchor": "x",
         "domain": [
          0,
          1
         ],
         "title": {
          "text": "y"
         }
        }
       }
      }
     },
     "metadata": {},
     "output_type": "display_data"
    }
   ],
   "source": [
    "fig = px.scatter(x=user_vec_reduced[:,0],y=user_vec_reduced[:,1],color=[user2groupe[user] for user in model.dv.index_to_key],size=[count_tweet[user] for user in model.dv.index_to_key],color_discrete_map=gp_politique_color,\n",
    "           text= model.dv.index_to_key, height=1000,opacity=0.9,size_max=40)\n",
    "fig"
   ]
  },
  {
   "cell_type": "code",
   "execution_count": 9,
   "metadata": {},
   "outputs": [
    {
     "data": {
      "application/vnd.plotly.v1+json": {
       "config": {
        "plotlyServerURL": "https://plot.ly"
       },
       "data": [
        {
         "fill": "toself",
         "fillcolor": "#c0392b",
         "line": {
          "width": 0
         },
         "mode": "lines",
         "name": "LFI",
         "opacity": 0.4,
         "type": "scatter",
         "x": [
          1.0678660869598389,
          -2.681323289871216,
          -0.24643126130104065,
          -0.14691407978534698,
          -0.12049777805805206,
          0.3092949092388153,
          0.6337928175926208,
          0.9735395908355713,
          1.1581754684448242
         ],
         "y": [
          -1.9296010732650757,
          1.2266995906829834,
          -2.470299005508423,
          -2.6022698879241943,
          -2.626323938369751,
          -2.8840179443359375,
          -2.9355154037475586,
          -2.6289780139923096,
          -2.1117353439331055
         ]
        },
        {
         "fill": "toself",
         "fillcolor": "#ED4C67",
         "line": {
          "width": 0
         },
         "mode": "lines",
         "name": "SOC",
         "opacity": 0.4,
         "type": "scatter",
         "x": [
          -2.907757520675659,
          0.9007194638252258,
          1.5935853719711304,
          1.3365403413772583
         ],
         "y": [
          1.1120737791061401,
          -1.7206518650054932,
          3.073988199234009,
          4.339511394500732
         ]
        },
        {
         "fill": "toself",
         "fillcolor": "#2980b9",
         "line": {
          "width": 0
         },
         "mode": "lines",
         "name": "LR",
         "opacity": 0.4,
         "type": "scatter",
         "x": [
          -4.995084762573242,
          -2.9476981163024902,
          -2.7578787803649902,
          -1.5012576580047607,
          -0.3279729187488556,
          -0.2943567633628845,
          -0.31227728724479675,
          -4.8484320640563965
         ],
         "y": [
          10.613470077514648,
          1.607325792312622,
          1.218241572380066,
          0.9488535523414612,
          2.653610944747925,
          2.772397994995117,
          3.980714797973633,
          12.156311988830566
         ]
        },
        {
         "fill": "toself",
         "fillcolor": "#2c3e50",
         "line": {
          "width": 0
         },
         "mode": "lines",
         "name": "RN",
         "opacity": 0.4,
         "type": "scatter",
         "x": [
          -6.011909008026123,
          -2.9572091102600098,
          -2.3076512813568115,
          -2.163393259048462,
          -4.967958927154541,
          -5.072388648986816,
          -5.6002516746521,
          -5.689982891082764,
          -6.003892421722412
         ],
         "y": [
          11.05759048461914,
          1.6393800973892212,
          0.7780879735946655,
          3.186917304992676,
          12.201911926269531,
          12.260258674621582,
          11.852633476257324,
          11.744649887084961,
          11.347187042236328
         ]
        },
        {
         "fill": "toself",
         "fillcolor": "#3498db",
         "line": {
          "width": 0
         },
         "mode": "lines",
         "name": "REN",
         "opacity": 0.4,
         "type": "scatter",
         "x": [
          -2.4037766456604004,
          -3.041825771331787,
          -2.3213000297546387,
          -1.811704397201538,
          -0.4880523383617401,
          1.215057373046875,
          1.7728177309036255,
          1.9495866298675537,
          2.0571088790893555,
          1.9995648860931396,
          1.9570575952529907,
          1.3454971313476562,
          1.2048808336257935,
          -0.8733065724372864,
          -0.949891984462738,
          -1.2321429252624512
         ],
         "y": [
          2.6717491149902344,
          1.5399423837661743,
          1.1300954818725586,
          1.0279525518417358,
          1.295868992805481,
          1.8506416082382202,
          2.129352569580078,
          2.267805576324463,
          2.7007339000701904,
          3.031543493270874,
          3.2027013301849365,
          4.40523099899292,
          4.440805912017822,
          4.354626655578613,
          4.316046237945557,
          4.155629634857178
         ]
        },
        {
         "fill": "toself",
         "fillcolor": "#EA2027",
         "line": {
          "width": 0
         },
         "mode": "lines",
         "name": "GDR",
         "opacity": 0.4,
         "type": "scatter",
         "x": [
          0.5347477197647095,
          -1.5129270553588867,
          -2.301023244857788,
          -2.7786052227020264,
          -2.78615665435791,
          -2.668869972229004,
          0.23583054542541504,
          0.4330543875694275
         ],
         "y": [
          -1.8098797798156738,
          2.49027943611145,
          2.239666223526001,
          1.6011335849761963,
          1.5869556665420532,
          1.1238551139831543,
          -2.8686344623565674,
          -2.85514497756958
         ]
        },
        {
         "fill": "toself",
         "fillcolor": "#e67e22",
         "line": {
          "width": 0
         },
         "mode": "lines",
         "name": "MODEM",
         "opacity": 0.4,
         "type": "scatter",
         "x": [
          1.831479549407959,
          1.3445895910263062,
          0.6935117840766907,
          -0.756045937538147,
          -0.814481794834137,
          -2.615055561065674,
          -2.621354579925537,
          -2.003108024597168,
          1.0886354446411133
         ],
         "y": [
          2.7011501789093018,
          4.168398380279541,
          4.3329572677612305,
          4.337355136871338,
          4.295961856842041,
          2.1844308376312256,
          1.467077612876892,
          1.2624833583831787,
          1.9864981174468994
         ]
        },
        {
         "fill": "toself",
         "fillcolor": "#1B1464",
         "line": {
          "width": 0
         },
         "mode": "lines",
         "name": "HOR",
         "opacity": 0.4,
         "type": "scatter",
         "x": [
          -1.244322657585144,
          -3.071979284286499,
          -1.6179986000061035,
          1.1554683446884155
         ],
         "y": [
          4.239132881164551,
          1.5431057214736938,
          1.8982102870941162,
          4.491682529449463
         ]
        },
        {
         "fill": "toself",
         "fillcolor": "#2ecc71",
         "line": {
          "width": 0
         },
         "mode": "lines",
         "name": "LIOT",
         "opacity": 0.4,
         "type": "scatter",
         "x": [
          -1.214983344078064,
          -1.3687878847122192,
          -2.530742645263672,
          -2.6783292293548584,
          -2.0792737007141113,
          -1.3387304544448853
         ],
         "y": [
          2.2173774242401123,
          3.7982594966888428,
          2.1622564792633057,
          1.9082677364349365,
          0.865993082523346,
          1.4232103824615479
         ]
        },
        {
         "fill": "toself",
         "fillcolor": "#009432",
         "line": {
          "width": 0
         },
         "mode": "lines",
         "name": "ECO",
         "opacity": 0.4,
         "type": "scatter",
         "x": [
          -2.2793123722076416,
          -0.22019942104816437,
          0.2618969678878784,
          0.6946103572845459,
          1.0284812450408936,
          -0.4570576250553131,
          -0.704071581363678,
          -2.12117862701416
         ],
         "y": [
          0.5057584047317505,
          -1.9647743701934814,
          -1.990421175956726,
          -1.9362666606903076,
          -1.7166898250579834,
          0.07528818398714066,
          0.3152608573436737,
          0.6024119853973389
         ]
        },
        {
         "fill": "toself",
         "fillcolor": "#95a5a6",
         "line": {
          "width": 0
         },
         "mode": "lines",
         "name": "NI",
         "opacity": 0.4,
         "type": "scatter",
         "x": [
          -2.381357192993164,
          -4.878396511077881,
          -3.0384042263031006,
          -2.8457272052764893
         ],
         "y": [
          1.6149784326553345,
          12.023652076721191,
          1.7512189149856567,
          1.4514840841293335
         ]
        }
       ],
       "layout": {
        "height": 1000,
        "template": {
         "data": {
          "bar": [
           {
            "error_x": {
             "color": "#2a3f5f"
            },
            "error_y": {
             "color": "#2a3f5f"
            },
            "marker": {
             "line": {
              "color": "#E5ECF6",
              "width": 0.5
             },
             "pattern": {
              "fillmode": "overlay",
              "size": 10,
              "solidity": 0.2
             }
            },
            "type": "bar"
           }
          ],
          "barpolar": [
           {
            "marker": {
             "line": {
              "color": "#E5ECF6",
              "width": 0.5
             },
             "pattern": {
              "fillmode": "overlay",
              "size": 10,
              "solidity": 0.2
             }
            },
            "type": "barpolar"
           }
          ],
          "carpet": [
           {
            "aaxis": {
             "endlinecolor": "#2a3f5f",
             "gridcolor": "white",
             "linecolor": "white",
             "minorgridcolor": "white",
             "startlinecolor": "#2a3f5f"
            },
            "baxis": {
             "endlinecolor": "#2a3f5f",
             "gridcolor": "white",
             "linecolor": "white",
             "minorgridcolor": "white",
             "startlinecolor": "#2a3f5f"
            },
            "type": "carpet"
           }
          ],
          "choropleth": [
           {
            "colorbar": {
             "outlinewidth": 0,
             "ticks": ""
            },
            "type": "choropleth"
           }
          ],
          "contour": [
           {
            "colorbar": {
             "outlinewidth": 0,
             "ticks": ""
            },
            "colorscale": [
             [
              0,
              "#0d0887"
             ],
             [
              0.1111111111111111,
              "#46039f"
             ],
             [
              0.2222222222222222,
              "#7201a8"
             ],
             [
              0.3333333333333333,
              "#9c179e"
             ],
             [
              0.4444444444444444,
              "#bd3786"
             ],
             [
              0.5555555555555556,
              "#d8576b"
             ],
             [
              0.6666666666666666,
              "#ed7953"
             ],
             [
              0.7777777777777778,
              "#fb9f3a"
             ],
             [
              0.8888888888888888,
              "#fdca26"
             ],
             [
              1,
              "#f0f921"
             ]
            ],
            "type": "contour"
           }
          ],
          "contourcarpet": [
           {
            "colorbar": {
             "outlinewidth": 0,
             "ticks": ""
            },
            "type": "contourcarpet"
           }
          ],
          "heatmap": [
           {
            "colorbar": {
             "outlinewidth": 0,
             "ticks": ""
            },
            "colorscale": [
             [
              0,
              "#0d0887"
             ],
             [
              0.1111111111111111,
              "#46039f"
             ],
             [
              0.2222222222222222,
              "#7201a8"
             ],
             [
              0.3333333333333333,
              "#9c179e"
             ],
             [
              0.4444444444444444,
              "#bd3786"
             ],
             [
              0.5555555555555556,
              "#d8576b"
             ],
             [
              0.6666666666666666,
              "#ed7953"
             ],
             [
              0.7777777777777778,
              "#fb9f3a"
             ],
             [
              0.8888888888888888,
              "#fdca26"
             ],
             [
              1,
              "#f0f921"
             ]
            ],
            "type": "heatmap"
           }
          ],
          "heatmapgl": [
           {
            "colorbar": {
             "outlinewidth": 0,
             "ticks": ""
            },
            "colorscale": [
             [
              0,
              "#0d0887"
             ],
             [
              0.1111111111111111,
              "#46039f"
             ],
             [
              0.2222222222222222,
              "#7201a8"
             ],
             [
              0.3333333333333333,
              "#9c179e"
             ],
             [
              0.4444444444444444,
              "#bd3786"
             ],
             [
              0.5555555555555556,
              "#d8576b"
             ],
             [
              0.6666666666666666,
              "#ed7953"
             ],
             [
              0.7777777777777778,
              "#fb9f3a"
             ],
             [
              0.8888888888888888,
              "#fdca26"
             ],
             [
              1,
              "#f0f921"
             ]
            ],
            "type": "heatmapgl"
           }
          ],
          "histogram": [
           {
            "marker": {
             "pattern": {
              "fillmode": "overlay",
              "size": 10,
              "solidity": 0.2
             }
            },
            "type": "histogram"
           }
          ],
          "histogram2d": [
           {
            "colorbar": {
             "outlinewidth": 0,
             "ticks": ""
            },
            "colorscale": [
             [
              0,
              "#0d0887"
             ],
             [
              0.1111111111111111,
              "#46039f"
             ],
             [
              0.2222222222222222,
              "#7201a8"
             ],
             [
              0.3333333333333333,
              "#9c179e"
             ],
             [
              0.4444444444444444,
              "#bd3786"
             ],
             [
              0.5555555555555556,
              "#d8576b"
             ],
             [
              0.6666666666666666,
              "#ed7953"
             ],
             [
              0.7777777777777778,
              "#fb9f3a"
             ],
             [
              0.8888888888888888,
              "#fdca26"
             ],
             [
              1,
              "#f0f921"
             ]
            ],
            "type": "histogram2d"
           }
          ],
          "histogram2dcontour": [
           {
            "colorbar": {
             "outlinewidth": 0,
             "ticks": ""
            },
            "colorscale": [
             [
              0,
              "#0d0887"
             ],
             [
              0.1111111111111111,
              "#46039f"
             ],
             [
              0.2222222222222222,
              "#7201a8"
             ],
             [
              0.3333333333333333,
              "#9c179e"
             ],
             [
              0.4444444444444444,
              "#bd3786"
             ],
             [
              0.5555555555555556,
              "#d8576b"
             ],
             [
              0.6666666666666666,
              "#ed7953"
             ],
             [
              0.7777777777777778,
              "#fb9f3a"
             ],
             [
              0.8888888888888888,
              "#fdca26"
             ],
             [
              1,
              "#f0f921"
             ]
            ],
            "type": "histogram2dcontour"
           }
          ],
          "mesh3d": [
           {
            "colorbar": {
             "outlinewidth": 0,
             "ticks": ""
            },
            "type": "mesh3d"
           }
          ],
          "parcoords": [
           {
            "line": {
             "colorbar": {
              "outlinewidth": 0,
              "ticks": ""
             }
            },
            "type": "parcoords"
           }
          ],
          "pie": [
           {
            "automargin": true,
            "type": "pie"
           }
          ],
          "scatter": [
           {
            "fillpattern": {
             "fillmode": "overlay",
             "size": 10,
             "solidity": 0.2
            },
            "type": "scatter"
           }
          ],
          "scatter3d": [
           {
            "line": {
             "colorbar": {
              "outlinewidth": 0,
              "ticks": ""
             }
            },
            "marker": {
             "colorbar": {
              "outlinewidth": 0,
              "ticks": ""
             }
            },
            "type": "scatter3d"
           }
          ],
          "scattercarpet": [
           {
            "marker": {
             "colorbar": {
              "outlinewidth": 0,
              "ticks": ""
             }
            },
            "type": "scattercarpet"
           }
          ],
          "scattergeo": [
           {
            "marker": {
             "colorbar": {
              "outlinewidth": 0,
              "ticks": ""
             }
            },
            "type": "scattergeo"
           }
          ],
          "scattergl": [
           {
            "marker": {
             "colorbar": {
              "outlinewidth": 0,
              "ticks": ""
             }
            },
            "type": "scattergl"
           }
          ],
          "scattermapbox": [
           {
            "marker": {
             "colorbar": {
              "outlinewidth": 0,
              "ticks": ""
             }
            },
            "type": "scattermapbox"
           }
          ],
          "scatterpolar": [
           {
            "marker": {
             "colorbar": {
              "outlinewidth": 0,
              "ticks": ""
             }
            },
            "type": "scatterpolar"
           }
          ],
          "scatterpolargl": [
           {
            "marker": {
             "colorbar": {
              "outlinewidth": 0,
              "ticks": ""
             }
            },
            "type": "scatterpolargl"
           }
          ],
          "scatterternary": [
           {
            "marker": {
             "colorbar": {
              "outlinewidth": 0,
              "ticks": ""
             }
            },
            "type": "scatterternary"
           }
          ],
          "surface": [
           {
            "colorbar": {
             "outlinewidth": 0,
             "ticks": ""
            },
            "colorscale": [
             [
              0,
              "#0d0887"
             ],
             [
              0.1111111111111111,
              "#46039f"
             ],
             [
              0.2222222222222222,
              "#7201a8"
             ],
             [
              0.3333333333333333,
              "#9c179e"
             ],
             [
              0.4444444444444444,
              "#bd3786"
             ],
             [
              0.5555555555555556,
              "#d8576b"
             ],
             [
              0.6666666666666666,
              "#ed7953"
             ],
             [
              0.7777777777777778,
              "#fb9f3a"
             ],
             [
              0.8888888888888888,
              "#fdca26"
             ],
             [
              1,
              "#f0f921"
             ]
            ],
            "type": "surface"
           }
          ],
          "table": [
           {
            "cells": {
             "fill": {
              "color": "#EBF0F8"
             },
             "line": {
              "color": "white"
             }
            },
            "header": {
             "fill": {
              "color": "#C8D4E3"
             },
             "line": {
              "color": "white"
             }
            },
            "type": "table"
           }
          ]
         },
         "layout": {
          "annotationdefaults": {
           "arrowcolor": "#2a3f5f",
           "arrowhead": 0,
           "arrowwidth": 1
          },
          "autotypenumbers": "strict",
          "coloraxis": {
           "colorbar": {
            "outlinewidth": 0,
            "ticks": ""
           }
          },
          "colorscale": {
           "diverging": [
            [
             0,
             "#8e0152"
            ],
            [
             0.1,
             "#c51b7d"
            ],
            [
             0.2,
             "#de77ae"
            ],
            [
             0.3,
             "#f1b6da"
            ],
            [
             0.4,
             "#fde0ef"
            ],
            [
             0.5,
             "#f7f7f7"
            ],
            [
             0.6,
             "#e6f5d0"
            ],
            [
             0.7,
             "#b8e186"
            ],
            [
             0.8,
             "#7fbc41"
            ],
            [
             0.9,
             "#4d9221"
            ],
            [
             1,
             "#276419"
            ]
           ],
           "sequential": [
            [
             0,
             "#0d0887"
            ],
            [
             0.1111111111111111,
             "#46039f"
            ],
            [
             0.2222222222222222,
             "#7201a8"
            ],
            [
             0.3333333333333333,
             "#9c179e"
            ],
            [
             0.4444444444444444,
             "#bd3786"
            ],
            [
             0.5555555555555556,
             "#d8576b"
            ],
            [
             0.6666666666666666,
             "#ed7953"
            ],
            [
             0.7777777777777778,
             "#fb9f3a"
            ],
            [
             0.8888888888888888,
             "#fdca26"
            ],
            [
             1,
             "#f0f921"
            ]
           ],
           "sequentialminus": [
            [
             0,
             "#0d0887"
            ],
            [
             0.1111111111111111,
             "#46039f"
            ],
            [
             0.2222222222222222,
             "#7201a8"
            ],
            [
             0.3333333333333333,
             "#9c179e"
            ],
            [
             0.4444444444444444,
             "#bd3786"
            ],
            [
             0.5555555555555556,
             "#d8576b"
            ],
            [
             0.6666666666666666,
             "#ed7953"
            ],
            [
             0.7777777777777778,
             "#fb9f3a"
            ],
            [
             0.8888888888888888,
             "#fdca26"
            ],
            [
             1,
             "#f0f921"
            ]
           ]
          },
          "colorway": [
           "#636efa",
           "#EF553B",
           "#00cc96",
           "#ab63fa",
           "#FFA15A",
           "#19d3f3",
           "#FF6692",
           "#B6E880",
           "#FF97FF",
           "#FECB52"
          ],
          "font": {
           "color": "#2a3f5f"
          },
          "geo": {
           "bgcolor": "white",
           "lakecolor": "white",
           "landcolor": "#E5ECF6",
           "showlakes": true,
           "showland": true,
           "subunitcolor": "white"
          },
          "hoverlabel": {
           "align": "left"
          },
          "hovermode": "closest",
          "mapbox": {
           "style": "light"
          },
          "paper_bgcolor": "white",
          "plot_bgcolor": "#E5ECF6",
          "polar": {
           "angularaxis": {
            "gridcolor": "white",
            "linecolor": "white",
            "ticks": ""
           },
           "bgcolor": "#E5ECF6",
           "radialaxis": {
            "gridcolor": "white",
            "linecolor": "white",
            "ticks": ""
           }
          },
          "scene": {
           "xaxis": {
            "backgroundcolor": "#E5ECF6",
            "gridcolor": "white",
            "gridwidth": 2,
            "linecolor": "white",
            "showbackground": true,
            "ticks": "",
            "zerolinecolor": "white"
           },
           "yaxis": {
            "backgroundcolor": "#E5ECF6",
            "gridcolor": "white",
            "gridwidth": 2,
            "linecolor": "white",
            "showbackground": true,
            "ticks": "",
            "zerolinecolor": "white"
           },
           "zaxis": {
            "backgroundcolor": "#E5ECF6",
            "gridcolor": "white",
            "gridwidth": 2,
            "linecolor": "white",
            "showbackground": true,
            "ticks": "",
            "zerolinecolor": "white"
           }
          },
          "shapedefaults": {
           "line": {
            "color": "#2a3f5f"
           }
          },
          "ternary": {
           "aaxis": {
            "gridcolor": "white",
            "linecolor": "white",
            "ticks": ""
           },
           "baxis": {
            "gridcolor": "white",
            "linecolor": "white",
            "ticks": ""
           },
           "bgcolor": "#E5ECF6",
           "caxis": {
            "gridcolor": "white",
            "linecolor": "white",
            "ticks": ""
           }
          },
          "title": {
           "x": 0.05
          },
          "xaxis": {
           "automargin": true,
           "gridcolor": "white",
           "linecolor": "white",
           "ticks": "",
           "title": {
            "standoff": 15
           },
           "zerolinecolor": "white",
           "zerolinewidth": 2
          },
          "yaxis": {
           "automargin": true,
           "gridcolor": "white",
           "linecolor": "white",
           "ticks": "",
           "title": {
            "standoff": 15
           },
           "zerolinecolor": "white",
           "zerolinewidth": 2
          }
         }
        }
       }
      }
     },
     "metadata": {},
     "output_type": "display_data"
    }
   ],
   "source": [
    "hulls = {}\n",
    "for group,data in df_corpus.groupby(\"groupe_sigle\"):\n",
    "    deputies = data.username.values\n",
    "    idx = np.isin(model.dv.index_to_key,deputies)\n",
    "    points = user_vec_reduced[idx]\n",
    "    try:\n",
    "        hull = ConvexHull(points).vertices\n",
    "        hulls[group] = points[hull]\n",
    "    except:\n",
    "        pass\n",
    "fig =go.Figure()\n",
    "for group in df_corpus.groupe_sigle.unique():\n",
    "    try:\n",
    "        fig.add_trace(go.Scatter(x=hulls[group][:,0],y=hulls[group][:,1], fill=\"toself\",line=dict(width=0),fillcolor=gp_politique_color[group],opacity=0.4,hoveron=None,name=group,mode=\"lines\"))\n",
    "    except:\n",
    "        pass\n",
    "fig.update_layout(height=1000)\n",
    "fig"
   ]
  },
  {
   "cell_type": "code",
   "execution_count": 16,
   "metadata": {},
   "outputs": [],
   "source": [
    "adj_sim_matrix = cosine_similarity(user_vec)\n",
    "adj_sim_matrix[adj_sim_matrix<0.7] = 0\n",
    "adj_sim_matrix[np.identity(adj_sim_matrix.shape[0]).astype(bool)] = 0"
   ]
  },
  {
   "cell_type": "code",
   "execution_count": 13,
   "metadata": {},
   "outputs": [],
   "source": [
    "G = nx.from_numpy_array(adj_sim_matrix)\n",
    "for node in list(G.nodes()):\n",
    "    if G.degree(node) <1:\n",
    "        G.remove_node(node)"
   ]
  },
  {
   "cell_type": "code",
   "execution_count": 14,
   "metadata": {},
   "outputs": [],
   "source": [
    "G= nx.relabel_nodes(G,{ix:label for ix,label in enumerate(model.dv.index_to_key) if ix in G})"
   ]
  },
  {
   "cell_type": "code",
   "execution_count": 15,
   "metadata": {},
   "outputs": [
    {
     "data": {
      "application/vnd.jupyter.widget-view+json": {
       "model_id": "e97cbba77c1f4d77865a98e79847c0be",
       "version_major": 2,
       "version_minor": 0
      },
      "text/plain": [
       "Sigma(nx.Graph with 431 nodes and 5,157 edges)"
      ]
     },
     "execution_count": 15,
     "metadata": {},
     "output_type": "execute_result"
    }
   ],
   "source": [
    "Sigma(G,\n",
    "    node_size=G.degree,\n",
    "    node_color=slug2groupe,\n",
    "    edge_size=lambda u,v:G.edges[u,v][\"weight\"],\n",
    "    default_node_border_color=\"#ffffff\",\n",
    "    node_color_palette=gp_politique_color,\n",
    "    node_size_range=[5,32],start_layout=5,\n",
    "    height=1080,layout_settings=dict(adjustSize=True,linLogMode=False,barnesHutOptimize=False,scalingRatio =10,gravity=0.1,edgeWeightInfluence = 2),\n",
    "    hide_info_panel=True,\n",
    "    hide_search=True,node_label_size=G.degree\n",
    "    )"
   ]
  },
  {
   "cell_type": "code",
   "execution_count": null,
   "metadata": {},
   "outputs": [],
   "source": []
  },
  {
   "cell_type": "code",
   "execution_count": null,
   "metadata": {},
   "outputs": [],
   "source": []
  },
  {
   "cell_type": "code",
   "execution_count": null,
   "metadata": {},
   "outputs": [],
   "source": []
  }
 ],
 "metadata": {
  "kernelspec": {
   "display_name": "datascience",
   "language": "python",
   "name": "python3"
  },
  "language_info": {
   "codemirror_mode": {
    "name": "ipython",
    "version": 3
   },
   "file_extension": ".py",
   "mimetype": "text/x-python",
   "name": "python",
   "nbconvert_exporter": "python",
   "pygments_lexer": "ipython3",
   "version": "3.9.15"
  },
  "orig_nbformat": 4
 },
 "nbformat": 4,
 "nbformat_minor": 2
}
